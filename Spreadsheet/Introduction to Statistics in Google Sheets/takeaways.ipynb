{
 "cells": [
  {
   "cell_type": "markdown",
   "metadata": {},
   "source": [
    "# Statistic Functions"
   ]
  },
  {
   "cell_type": "markdown",
   "metadata": {},
   "source": [
    "- Mean, median, mode, population variance, population standard daviation, quartile, percentile : `AVERAGE()`, `MEDIAN()`, `MODE()`, `VARP()`, `STDEVP()`, `QUARTILE(range, 1_to_4)`, `PERCENTILE(range, 0.50)`\n",
    "- z-score : `=STANDARDIZE(B2,MEAN_CELL,STDEV_CELL)`"
   ]
  },
  {
   "cell_type": "markdown",
   "metadata": {},
   "source": []
  }
 ],
 "metadata": {
  "language_info": {
   "name": "python"
  }
 },
 "nbformat": 4,
 "nbformat_minor": 2
}
