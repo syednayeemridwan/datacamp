{
 "cells": [
  {
   "cell_type": "markdown",
   "metadata": {},
   "source": [
    "# Statistical Functions"
   ]
  },
  {
   "cell_type": "markdown",
   "metadata": {},
   "source": [
    "- Mean, median, mode, population variance, population standard daviation, quartile, percentile : `AVERAGE()`, `MEDIAN()`, `MODE()`, `VARP()`, `STDEVP()`, `QUARTILE(range, 1_to_4)`, `PERCENTILE(range, 0.50)`\n",
    "- Correlation between 2 columns : `CORREL()`\n",
    "- z-score : `=STANDARDIZE(B2,MEAN_CELL,STDEV_CELL)`\n",
    "- skewness (within +2/-2 is normal ) : `=skew(A2:100)`    [Values above 0 indicate more values above the mean, below otherwise]\n",
    "- symmetric (within +2/-2 is normal ) : `=kurt(A2:100)`    [Values above 0 indicate values \"peaked\" / \"concentrated\" around mean, flatter otherwise]\n",
    "- get slope and intercept : `=LINEST(A1:B100,B1:B100)`, `SLOPE()`, `INTERCEPT()`"
   ]
  },
  {
   "cell_type": "markdown",
   "metadata": {},
   "source": [
    "# Distribution Visualization"
   ]
  },
  {
   "cell_type": "markdown",
   "metadata": {},
   "source": [
    "<center><img src=\"images/02.01.png\"  style=\"width: 400px, height: 300px;\"/></center>\n",
    "<center><img src=\"images/02.02.png\"  style=\"width: 400px, height: 300px;\"/></center>"
   ]
  },
  {
   "cell_type": "markdown",
   "metadata": {},
   "source": []
  }
 ],
 "metadata": {
  "language_info": {
   "name": "python"
  }
 },
 "nbformat": 4,
 "nbformat_minor": 2
}
