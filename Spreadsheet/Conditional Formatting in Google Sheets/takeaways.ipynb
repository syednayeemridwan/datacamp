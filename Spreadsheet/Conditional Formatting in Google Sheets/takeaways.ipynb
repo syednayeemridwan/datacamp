{
 "cells": [
  {
   "cell_type": "markdown",
   "metadata": {},
   "source": [
    "# Conditional Formatting"
   ]
  },
  {
   "cell_type": "markdown",
   "metadata": {},
   "source": [
    "- For medium size data\n",
    "- Remains when underlying data changes\n",
    "- `Single Color` (Most of the time) or `Color Scale`\n",
    "- Creating : Select cells `A1:A10` > `Format` > `Conditional Formatting` \n",
    "- Inside `Single Color` Tab:\n",
    "    - `Apply to range` : Cell range where color formatting is applied\n",
    "    - `Format Rules` > `Format Cells if` : Rules to choose from (`Custom formula is` will allow customization)\n",
    "    - Multiple rule possible\n",
    "    - You can change font / style / background in each rule\n",
    "    - Custom Formula : Apply for the first cell, the rest will be adjusted (Fix column with $ (since only row is changing))\n",
    "        - example 1 : `Custom formula is` > `= $A2 = \"Abir\"`\n",
    "        - example 2 :  `...` > `Custom formula is` > `= OR($C2<6,ISTEXT($D2))` (ISTEXT can be used to evaluate nulls or N/A)\n",
    "        - example 3 : `...` > `Custom formula is` > `= AND($C2<6,ISTEXT($D2))`\n",
    "- Common `Format Cells if` rules:\n",
    "    - `Text contains`\n",
    "    - `Greater than`\n",
    "    - `Between`\n",
    "- `Color Scale` Tab: \n",
    "    - Allows to measure the values with different degree of impact\n",
    "    - multiple color grading : divergence / gradual increase etc"
   ]
  }
 ],
 "metadata": {
  "language_info": {
   "name": "python"
  }
 },
 "nbformat": 4,
 "nbformat_minor": 2
}
