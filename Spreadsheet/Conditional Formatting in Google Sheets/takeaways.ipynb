{
 "cells": [
  {
   "cell_type": "markdown",
   "metadata": {},
   "source": [
    "# Conditional Formatting"
   ]
  },
  {
   "cell_type": "markdown",
   "metadata": {},
   "source": [
    "- For medium size data\n",
    "- Remains when underlying data changes\n",
    "- `Single Color` (Most of the time) or `Color Scale`\n",
    "- Creating : Select cells `A1:A10` > `Format` > `Conditional Formatting` \n",
    "- Inside `Single Color` Tab:\n",
    "    - `Apply to range` : Address you need to type or select with mouse\n",
    "    - `Format Rules` > `Format Cells if` : Rules to choose from (`Custom formula is` will allow customization)\n",
    "    - Multiple rule possible\n",
    "    - You can change font / style / background in each rule\n",
    "- Common `Format Cells if` rules:\n",
    "    - `Text contains`\n",
    "    - `Greater than`\n",
    "    - `Between`\n",
    "- `Color Scale` Tab: \n",
    "    - Allows to measure the values with different degree of impact\n",
    "    - multiple color grading : divergence / gradual increase etc"
   ]
  }
 ],
 "metadata": {
  "language_info": {
   "name": "python"
  }
 },
 "nbformat": 4,
 "nbformat_minor": 2
}
