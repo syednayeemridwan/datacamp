{
 "cells": [
  {
   "cell_type": "markdown",
   "metadata": {},
   "source": [
    "# Conditional Formatting"
   ]
  },
  {
   "cell_type": "markdown",
   "metadata": {},
   "source": [
    "- For medium size data\n",
    "- Remains when underlying data changes\n",
    "- `Single Color` (Most of the time) or `Color Scale`\n",
    "- Creating : Select cells `A1:A10` > `Format` > `Conditional Formatting` \n",
    "- Inside `Single Color` Tab:\n",
    "    - `Apply to range` : Cell range where color formatting is applied\n",
    "    - `Format Rules` > `Format Cells if` : Rules to choose from (`Custom formula is` will allow customization)\n",
    "    - Multiple rule possible\n",
    "    - You can change font / style / background in each rule\n",
    "    - Custom Formula : Apply for the first cell, the rest will be adjusted (Fix column with $ (since only row is changing))\n",
    "        - example 1 : `Custom formula is` > `= $A2 = \"Abir\"`\n",
    "        - example 2 :  `...` > `Custom formula is` > `= OR($C2<6,ISTEXT($D2))` (ISTEXT can be used to evaluate nulls or N/A)\n",
    "        - example 3 : `...` > `Custom formula is` > `= AND($C2<6,ISTEXT($D2))`\n",
    "        - example 4 (find duplicates):    - > `...` > `Custom formula is` > `= COUNTIF(A$3:A$18,A3)`\n",
    "        - example 5 (case-insensitive search):    - > `...` > `Custom formula is` > `=SEARCH(E$3,B$3:B$19)>0`\n",
    "        - example 6 (case-sensitive search):    - > `...` > `Custom formula is` > `= FIND(\"AB\",\"ABIR\")`\n",
    "        - example 7 (highlight n-th largest values):    - > `...` > `Custom formula is` > `=C2 >= LARGE(A$1:A$10, 3)`\n",
    "        - example 8 (highlight n-th smallest values):    - > `...` > `Custom formula is` > `=C2 <= SMALL(A$1:A$10, 3)`\n",
    "        - example 9 (checkbox):  `Insert` > `Checkbox`, then  - > `...` > `Custom formula is` >  `=A2 = TRUE` \n",
    "            - [When a checkbox is `ticked` = The cell value is `TRUE`]\n",
    "\n",
    "- Common `Format Cells if` rules:\n",
    "    - `Text contains`\n",
    "    - `Greater than`\n",
    "    - `Between`\n",
    "- `Color Scale` Tab: \n",
    "    - Allows to measure the values with different degree of impact\n",
    "    - multiple color grading : divergence / gradual increase etc"
   ]
  }
 ],
 "metadata": {
  "language_info": {
   "name": "python"
  }
 },
 "nbformat": 4,
 "nbformat_minor": 2
}
