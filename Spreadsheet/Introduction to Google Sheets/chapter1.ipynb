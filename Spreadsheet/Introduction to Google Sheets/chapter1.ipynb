{
 "cells": [
  {
   "cell_type": "markdown",
   "metadata": {},
   "source": [
    "# Importing data into Google Sheets"
   ]
  },
  {
   "cell_type": "markdown",
   "metadata": {},
   "source": [
    "When creating a new spreadsheet, the first step is usually to import the data to analyze. Importing data into a spreadsheet will save you from having to enter values manually, which doesn't scale for large datasets.\n",
    "\n",
    "Which of the following statements about importing data into Google Sheets is true?"
   ]
  },
  {
   "cell_type": "markdown",
   "metadata": {},
   "source": [
    "- Data from .csv, .txt, .tsv, and .xlsx files can all be imported into Google Sheets."
   ]
  },
  {
   "cell_type": "markdown",
   "metadata": {},
   "source": []
  }
 ],
 "metadata": {
  "language_info": {
   "name": "python"
  }
 },
 "nbformat": 4,
 "nbformat_minor": 2
}
