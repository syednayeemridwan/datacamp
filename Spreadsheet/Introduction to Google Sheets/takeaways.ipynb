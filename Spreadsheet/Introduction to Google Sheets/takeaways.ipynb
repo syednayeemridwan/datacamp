{
 "cells": [
  {
   "cell_type": "markdown",
   "metadata": {},
   "source": [
    "# Chapter 1"
   ]
  },
  {
   "cell_type": "markdown",
   "metadata": {},
   "source": [
    "### Common functionalities"
   ]
  },
  {
   "cell_type": "markdown",
   "metadata": {},
   "source": [
    "- Import data : file > import\n",
    "- Change datatype : format > text / number (or single quote at the beginning `'`)\n",
    "- Comparison operators : `= A1 >= A3`\n",
    "- Cell ranges : `B1:B5`\n",
    "- Available functions : insert > function\n",
    "- Change to custom format : `Format > Number > Customize Date`"
   ]
  },
  {
   "cell_type": "markdown",
   "metadata": {},
   "source": []
  },
  {
   "cell_type": "code",
   "execution_count": null,
   "metadata": {},
   "outputs": [],
   "source": []
  }
 ],
 "metadata": {
  "language_info": {
   "name": "python"
  }
 },
 "nbformat": 4,
 "nbformat_minor": 2
}
