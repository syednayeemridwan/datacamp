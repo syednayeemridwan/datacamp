{
 "cells": [
  {
   "cell_type": "markdown",
   "metadata": {},
   "source": [
    "# Chapter 1 and Chapter 2"
   ]
  },
  {
   "cell_type": "markdown",
   "metadata": {},
   "source": [
    "### Common functionalities"
   ]
  },
  {
   "cell_type": "markdown",
   "metadata": {},
   "source": [
    "- Import data : file > import\n",
    "- Change datatype : format > text / number (or single quote at the beginning `'`)\n",
    "- Comparison operators : `= A1 >= A3`\n",
    "- Cell ranges : `B1:B5`\n",
    "- Available functions : insert > function\n",
    "- Change to custom format : `Format > Number > Customize Date`\n",
    "- Circular reference : if a cell references itself. Will produce `#REF!` error\n",
    "- Use absolute reference when you don't want references to change when you copy them: `= $A$1`\n",
    "- A reference can be partially absolute by only locking rows: `A$1`\n",
    "- A reference can be partially absolute by only locking columns: `$A1`\n"
   ]
  }
 ],
 "metadata": {
  "language_info": {
   "name": "python"
  }
 },
 "nbformat": 4,
 "nbformat_minor": 2
}
