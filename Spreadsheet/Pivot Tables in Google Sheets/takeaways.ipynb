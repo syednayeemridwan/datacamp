{
 "cells": [
  {
   "cell_type": "markdown",
   "metadata": {},
   "source": [
    "# Pivot Table "
   ]
  },
  {
   "cell_type": "markdown",
   "metadata": {},
   "source": [
    "-  Click on any cell of dataset / selecte all dataset >  `Insert > Pivot Table` / `Insert > Pivot Table`\n",
    "- Put unique values of a column(category) as index : `Rows > Add > [Column headers of source data] `\n",
    "- Put unique values of a column(category) as columns : `Columns > Add > [Column headers of source data] `\n",
    "- Pivot the values of a specified column : `Values > Add > [Column headers of source data] `\n",
    "\n"
   ]
  }
 ],
 "metadata": {
  "language_info": {
   "name": "python"
  }
 },
 "nbformat": 4,
 "nbformat_minor": 2
}
