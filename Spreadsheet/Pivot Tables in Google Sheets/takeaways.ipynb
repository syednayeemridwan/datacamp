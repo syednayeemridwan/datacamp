{
 "cells": [
  {
   "cell_type": "markdown",
   "metadata": {},
   "source": [
    "# Pivot Table "
   ]
  },
  {
   "cell_type": "markdown",
   "metadata": {},
   "source": [
    "-  Click on any cell of dataset / selecte all dataset >  `Insert > Pivot Table` / `Insert > Pivot Table`\n",
    "- Put unique values/ combinations of a column(category) as index : `Rows > Add > [Column headers of source data] `\n",
    "- Put unique values/ combinations of a column(category) as columns : `Columns > Add > [Column headers of source data] `\n",
    "- Pivot the values of a specified column : `Values > Add > [Column headers of source data] `\n",
    "- Filter the pivot table by specified values: `Filter > Add > [Column headers of source data] ` \n",
    "- Custom fields : `VALUES > ADD > CALCULATED FIELD` > `FORMULA:` > `= FIELD1 + FIELD2` (fields should be exact as original dataset)\n",
    "- built-in pct of grand total: `VALUES` >`Show As:` > `Percentage of grand total` (It will show numeric values) > Format data as percentages.\n",
    "- Drill down on specific value : Double click on desired pivot cell\n",
    "- Distribution Grouping : make pivot table with `ROWS` and `VALUES` >  `Right click` on any cell from pivot table index > `Create Pivot Group Rule` > `Interval Size:`\n"
   ]
  },
  {
   "cell_type": "markdown",
   "metadata": {},
   "source": [
    "# Tips"
   ]
  },
  {
   "cell_type": "markdown",
   "metadata": {},
   "source": [
    "- Use `COUNTA` instead of `COUNT`\n",
    "- Identify missing data in a column with `COUNTA` on index column and value column\n",
    "- Inconsistent row labels: `Ctrl + F` in original dataset and fix it (eg: USA vs United States)\n"
   ]
  }
 ],
 "metadata": {
  "language_info": {
   "name": "python"
  }
 },
 "nbformat": 4,
 "nbformat_minor": 2
}
