{
 "cells": [
  {
   "cell_type": "markdown",
   "metadata": {},
   "source": [
    "# The data analysis way!"
   ]
  },
  {
   "cell_type": "markdown",
   "metadata": {},
   "source": [
    "Google Sheets are great at performing many different data analysis tasks. A full data analysis usually has the same structure, which creates a repeatable and efficient process to extract insights from data, regardless of the nature of the data.\n",
    "\n",
    "You've been provided with three variations of the data analysis process.\n",
    "\n",
    "Which image shows the data analysis process in the correct order?"
   ]
  },
  {
   "cell_type": "markdown",
   "metadata": {},
   "source": [
    "<center><img src=\"images/01.01.png\"  style=\"width: 400px, height: 300px;\"/></center>"
   ]
  }
 ],
 "metadata": {
  "language_info": {
   "name": "python"
  }
 },
 "nbformat": 4,
 "nbformat_minor": 2
}
