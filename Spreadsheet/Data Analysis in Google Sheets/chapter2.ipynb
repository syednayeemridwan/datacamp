{
 "cells": [
  {
   "cell_type": "markdown",
   "metadata": {},
   "source": [
    "# Date functions"
   ]
  },
  {
   "cell_type": "markdown",
   "metadata": {},
   "source": [
    "- date to string format : `=TEXT(\"1/9/2012\", \"mmmmm-dd-yy\")` will make it (J-09-12)\n",
    "- `NOW()`, `TODAY()` : current time and date \n",
    "- `=DATEDIF(start_date, end_date, 'M')` : interval as month\n"
   ]
  },
  {
   "cell_type": "markdown",
   "metadata": {},
   "source": [
    "# Text functions"
   ]
  },
  {
   "cell_type": "markdown",
   "metadata": {},
   "source": [
    "- `=UPPER()`, `=PROPER()` ,`=LOWER()`, `=TRIM()`, `=CONCATENATE()`, `=LEN()`, `=LEFT()`, `=RIGHT()`\n",
    "- `=SEARCH(character, text, starting_index)` : Returns the index where the character is located in the text\n",
    "- `=SUBSTITUTE(text, old_substring, new_substring, [occurences])` : Replace a substring inside a text"
   ]
  }
 ],
 "metadata": {
  "language_info": {
   "name": "python"
  }
 },
 "nbformat": 4,
 "nbformat_minor": 2
}
