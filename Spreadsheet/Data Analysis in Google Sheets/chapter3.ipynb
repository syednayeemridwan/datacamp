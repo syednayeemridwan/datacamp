{
 "cells": [
  {
   "cell_type": "markdown",
   "metadata": {},
   "source": [
    "# Logical Operations"
   ]
  },
  {
   "cell_type": "markdown",
   "metadata": {},
   "source": [
    "- Single condition (if and else): `= IF(A3>3, \"if_true_then_this\",\"if_false_then_this\")`\n",
    "- Multiple condition (multiple if, no else, `#N/A` if no condition met): `= IFS(A1, \"if_A1_then_this\",A2,\"if_A2_then_this\")`"
   ]
  },
  {
   "cell_type": "markdown",
   "metadata": {},
   "source": [
    "# Conditional Aggregations:"
   ]
  },
  {
   "cell_type": "markdown",
   "metadata": {},
   "source": [
    "- `COUNTIF(A1:A, \">1000\")` : count only if A1 to A-downward values are greather than 1000\n",
    "- `COUNTIFS(range1, \"condition1\", [range2, condition2] ....)` : `AND` operation on multiple `COUNTIF`\n",
    "- `SUMIF(condition_range, \"condition\", sum_range)` : check condition in condition_range and sum the adjacent cells in specified range when true\n",
    "- `SUMIFS(sum_range,condition1_range, \"condition1\",[condition2_range, \"condition2\"] )` : `AND` operation on multiple `SUMIF`\n",
    "- `AVERAGEIF`  and `AVERAGEIFS` : Same as `SUMIF` and `SUMIFS`"
   ]
  }
 ],
 "metadata": {
  "language_info": {
   "name": "python"
  }
 },
 "nbformat": 4,
 "nbformat_minor": 2
}
