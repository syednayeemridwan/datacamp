{
 "cells": [
  {
   "cell_type": "markdown",
   "metadata": {},
   "source": [
    "- Mean, median, mode, population variance, population standard daviation, quartile, percentile : `AVERAGE()`, `MEDIAN()`, `MODE()`, `VARP()`, `STDEVP()`, `QUARTILE(range, 1_to_4)`, `PERCENTILE(range, 0.50)`\n",
    "- weighted average: `= AVERAGE.WEIGHTED(data_row_range, weight_distribution_range)` (eg: `= AVERAGE.WEIGHTED(B2:C2, $F$2:$G$2)`)\n",
    "\n",
    "- Correlation between 2 columns : `CORREL()`\n",
    "- z-score : `=STANDARDIZE(B2,MEAN_CELL,STDEV_CELL)`\n",
    "- skewness (within +2/-2 is normal ) : `=skew(A2:100)`    [ >0 indicate more values above the mean, below otherwise]\n",
    "- symmetric (within +2/-2 is normal ) : `=kurt(A2:100)`    [ >0 indicate values \"peaked\" / \"concentrated\" around mean, flatter otherwise]\n",
    "- get slope and intercept : `=LINEST(A1:B100,B1:B100)`, `SLOPE()`, `INTERCEPT()`\n",
    "- Linear model forecast: `= FORECAST(X_val, Y_RANGE, X_RANGE)`\n",
    "- Linear model performance metric = Mean absolute deviation : `=AVERAGE(ABS(prediction - observation))`\n",
    "- Hypothesis testing with t-test (samples are less than 30, and mean, std is unknown): `=T.TEST(A1:A100,B1:B100, tails, type)`\n",
    "    - tails: both direction is 2-tailed, single direction is 1-tailed\n",
    "    - types: \n",
    "        - type-1 = same observations, different time  (paired t-test)  \n",
    "        - type-2 = different observations, same variance \n",
    "        - type-3 = different observations, different variance\n",
    "- Hypothesis testing with z-test (bigger number of samples, population mean, std is known): `=Z.TEST(A1:A100, test_stat, stdev)`\n",
    "- Hypothesis testing with chi-squared-test (2 different independent groups, samples>5): `CHITEST(observed_range,expected_range)`\n",
    "    - Requires expected frequency table (a pivot table)\n",
    "    - Formula for expected frequecy : `total_row1 * total_column1 / grand_total`. (do for each row and each column)\n",
    "\n"
   ]
  }
 ],
 "metadata": {
  "language_info": {
   "name": "python"
  }
 },
 "nbformat": 4,
 "nbformat_minor": 2
}
