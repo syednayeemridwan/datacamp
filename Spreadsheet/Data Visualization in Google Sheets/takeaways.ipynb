{
 "cells": [
  {
   "cell_type": "markdown",
   "metadata": {},
   "source": [
    "# Creating Dahsboards"
   ]
  },
  {
   "cell_type": "markdown",
   "metadata": {},
   "source": [
    "- Pull data from another sheet with `=`, then copy/drag to get the data of desired cell range.\n",
    "- Named Ranges: Meaningful names of cell address or cell range of address\n",
    "    - Creation : `A3:Z100` >  `Data` > `Named Range` > Meaningful name with no spaces > `Done`\n",
    "    - Edit : `Sheet` > `Data` > `Named Range` > See the available named ranges > Edit > `Done`\n",
    "    - Change Cell Range: `Sheet` > `Data` > `Named Range` > Select from the available named ranges > Click the grid to the right\n",
    "- Data Validation : \n",
    "    - `A3:Z100` > `Data` > `Data Validation` > `Criteria : ` > `Dropdown from a range `  > Use Named Range from original dataset (`= Range_Name`)\n",
    "        - Advanced options : \n",
    "            - `On invalid Data :` > `Show Warning`\n",
    "            - `Appearance :` > `Show Validation Help Text` (Hint)\n",
    "        - `Done`\n",
    "- Use VLOOKUP to get other column data for selected validation value from dropdown\n",
    "    - Look up (find) data from a dataset\n",
    "    - Table must be sorted in ascending order by the first column\n",
    "    - `VLOOKUP(value_to_look_for, range_of_dataset, column_number_to_retrieve_value_from, is_approximate_value_or_strict)`\n",
    "        - Use absolute reference for Column\n",
    "        - Can be copied to other cells, just change  `column_number_to_retrieve_value_from` as needed"
   ]
  }
 ],
 "metadata": {
  "language_info": {
   "name": "python"
  }
 },
 "nbformat": 4,
 "nbformat_minor": 2
}
