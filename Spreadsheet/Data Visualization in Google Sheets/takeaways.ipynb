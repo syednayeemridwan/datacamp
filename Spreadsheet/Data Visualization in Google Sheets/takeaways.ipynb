{
 "cells": [
  {
   "cell_type": "markdown",
   "metadata": {},
   "source": [
    "# Creating Dahsboards"
   ]
  },
  {
   "cell_type": "markdown",
   "metadata": {},
   "source": [
    "- Named Ranges: Meaningful names of cell address or cell range of address\n",
    "    - Create : `A3:Z100` >  `Data` > `Named Range` > Meaningful name with no spaces > `Done`\n",
    "    - Edit : `Sheet` > `Data` > `Named Range` > See the available named ranges > Edit > `Done`\n",
    "    - Change Cell Range: `Sheet` > `Data` > `Named Range` > Select from the available named ranges > Click the grid to the right\n"
   ]
  }
 ],
 "metadata": {
  "language_info": {
   "name": "python"
  }
 },
 "nbformat": 4,
 "nbformat_minor": 2
}
