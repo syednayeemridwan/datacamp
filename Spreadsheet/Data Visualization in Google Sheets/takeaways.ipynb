{
 "cells": [
  {
   "cell_type": "markdown",
   "metadata": {},
   "source": [
    "# Creating Dahsboards"
   ]
  },
  {
   "cell_type": "markdown",
   "metadata": {},
   "source": [
    "- Pull data from another sheet with `=`, then copy/drag to get the data of desired cell range.\n",
    "- Named Ranges: Meaningful names of cell address or cell range of address\n",
    "    - Creation : `A3:Z100` >  `Data` > `Named Range` > Meaningful name with no spaces > `Done`\n",
    "    - Edit : `Sheet` > `Data` > `Named Range` > See the available named ranges > Edit > `Done`\n",
    "    - Change Cell Range: `Sheet` > `Data` > `Named Range` > Select from the available named ranges > Click the grid to the right\n",
    "- Data Validation : \n",
    "    - `A3:Z100` > `Data` > `Data Validation` > `Criteria : ` > `Dropdown from a range `  > Use Named Range from original dataset (`= Range_Name`)\n",
    "        - Advanced options : \n",
    "            - `On invalid Data :` > `Show Warning`\n",
    "            - `Appearance :` > `Show Validation Help Text` (Hint)\n",
    "        - `Done`\n",
    "- Use VLOOKUP to get other column data for selected validation value from dropdown\n",
    "    - Look up (find) data from a dataset\n",
    "    - Table must be sorted in ascending order by the first column\n",
    "    - `VLOOKUP(value_to_look_for, range_of_dataset, column_number_to_retrieve_value_from, is_approximate_value_or_strict)`\n",
    "        - Use absolute reference for Column\n",
    "        - Can be copied to other cells, just change  `column_number_to_retrieve_value_from` as needed"
   ]
  },
  {
   "cell_type": "markdown",
   "metadata": {},
   "source": [
    "# Conditional Formatting"
   ]
  },
  {
   "cell_type": "markdown",
   "metadata": {},
   "source": [
    "- For medium size data\n",
    "- Remains when underlying data changes\n",
    "- `Single Color` (Most of the time) or `Color Scale`\n",
    "- Creating : Select cells `A1:A10` > `Format` > `Conditional Formatting` \n",
    "- Inside `Single Color` Tab:\n",
    "    - `Apply to range` : Cell range where color formatting is applied\n",
    "    - `Format Rules` > `Format Cells if` : Rules to choose from (`Custom formula is` will allow customization)\n",
    "    - Multiple rule possible\n",
    "    - You can change font / style / background in each rule\n",
    "    - Custom Formula : Apply for the first cell, the rest will be adjusted (Fix column with $ (since only row is changing))\n",
    "        - example 1 : `Custom formula is` > `= $A2 = \"Abir\"`\n",
    "        - example 2 :  `...` > `Custom formula is` > `= OR($C2<6,ISTEXT($D2))` (ISTEXT can be used to evaluate nulls or N/A)\n",
    "        - example 3 : `...` > `Custom formula is` > `= AND($C2<6,ISTEXT($D2))`\n",
    "        - example 4 (find duplicates):    - > `...` > `Custom formula is` > `= COUNTIF(A$3:A$18,A3)`\n",
    "        - example 5 (case-insensitive search):    - > `...` > `Custom formula is` > `=SEARCH(E$3,B$3:B$19)>0`\n",
    "        - example 6 (case-sensitive search):    - > `...` > `Custom formula is` > `= FIND(\"AB\",\"ABIR\")`\n",
    "        - example 7 (highlight n-th largest values):    - > `...` > `Custom formula is` > `=C2 >= LARGE(A$1:A$10, 3)`\n",
    "        - example 8 (highlight n-th smallest values):    - > `...` > `Custom formula is` > `=C2 <= SMALL(A$1:A$10, 3)`\n",
    "        - example 9 (checkbox):  `Insert` > `Checkbox`, then  - > `...` > `Custom formula is` >  `=A2 = TRUE` \n",
    "            - [When a checkbox is `ticked` = The cell value is `TRUE`]\n",
    "- Wildcards:\n",
    "    - Used along with texts\n",
    "    - `?` is single character\n",
    "    - `*` zero or more characters\n",
    "    - Example: `Text Contains` : `M?2` means anything that starts with M and ends with 2 and any one character in the middle\n",
    "- Common `Format Cells if` rules:\n",
    "    - `Text contains`\n",
    "    - `Greater than`\n",
    "    - `Between`\n",
    "- `Color Scale` Tab: \n",
    "    - Allows to measure the values with different degree of impact\n",
    "    - multiple color grading : divergence / gradual increase etc"
   ]
  }
 ],
 "metadata": {
  "language_info": {
   "name": "python"
  }
 },
 "nbformat": 4,
 "nbformat_minor": 2
}
