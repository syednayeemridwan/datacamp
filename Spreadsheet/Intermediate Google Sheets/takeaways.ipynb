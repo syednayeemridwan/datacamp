{
 "cells": [
  {
   "cell_type": "markdown",
   "metadata": {},
   "source": [
    "# Chapter 1"
   ]
  },
  {
   "cell_type": "markdown",
   "metadata": {},
   "source": [
    "### Google sheet functions\n"
   ]
  },
  {
   "cell_type": "markdown",
   "metadata": {},
   "source": [
    "- Filtering : `=FILTER(A2:H20,H2:H20=TRUE)` (Only return result of A2 to H20 if the condifition of H2 to H20 is true)\n",
    "- Checking data-type: `=ISNUMBER(A1)`, `\"=ISTEXT(A1)`, `=ISDATE(A1)`, `=ISLOGICAL(A1)`,  `=ISURL(A1)`, `=ISFORMULA(A1)`\n",
    "- converting to other data-type : `=TO_DOLLARS(A1)`, `=TO_PERCENT(A1)`, `=N(A1)`\n",
    "- convert to another unit : `=CONVERT(A1,\"ft^2\",\"m^2\")`\n",
    "- If-else : `=IF(A1,1,0)`\n",
    "- To make the text into a clickable hyperlink: `=HYPERLINK(A1,B1)` (Show content of B1 but it is a link that contains A1 hyperlink)\n",
    "- Transformation of log (10-based), log (e-based), power, exponential, square-root : `=LOG10(A1)`, `=LN(A1)`,`=10^A1`, `=EXP(A1)`,  `=SQRT(A1)`\n",
    "- rounding transformation : `=ROUND(A1, 2)`,  `=ROUND(A1, -2)`,  `=CEILING(A1,100)`,  `=FLOOR(A1,100)`\n",
    "- random numbers: `=RAND()`, `=RANDBETWEEN(-10,10)`\n",
    "- produce RANDOM numbers for given distribution: `=NORMINV(RAND(),0,1)`, `=LOGINV(RAND(),0,1)`, `=TINV(RAND(),5)`, `=FISHERINV(RAND())`, `=FINV(RAND(),2,2)`, `=BETAINV(RAND(),1,1,-10,10)`\n",
    "- Logical NOT, AND, OR :  `=NOT(A1)`, `=AND(A1,A2)` , `=OR(A1,A2)`\n",
    "- Single condition (if and else): `= IF(A3>3, \"if_true_then_this\",\"if_false_then_this\")`\n",
    "- Multiple condition (multiple if, no else, `#N/A` if no condition met): `= IFS(A1, \"if_A1_then_this\",A2,\"if_A2_then_this\")`\n",
    "- Switch transformation (transform categorical variables into numerical, `#N/A` if no match found): `=SWITCH(A1,\"JAN\",1,\"FEB\",2)`\n",
    "- Check Blank, count blank : `=ISBLANK(A1)`, `=COUNTBLANK(A1:A10)`\n",
    "- Correct way to compute with blank (if blank, then `#N/A` ERROR, else OK, then count): `=IF(ISBLANK(A2),NA(),A2)`\n",
    "- Check Error (all errors produced by functions + missing values): `=ISERROR(A1)`\n",
    "- Check Error (all errors produced by functions , Blanks and missing are not errors): `=ISERR(A1)`\n",
    "- Create N/A : `=NA()`\n",
    "- See row value in integer : `=ROW(A5)`\n",
    "- See column value in integer : `=COLUMN(A5)`\n",
    "- Create Absolute Address from row cell and column cell :  `=ADDRESS(A1,A2)`\n",
    "- Create Relative Address from row cell and column cell :  `=ADDRESS(A1,A2,4)`\n",
    "- Create pointer to redirect cell address: `= INDIRECT(A1)`\n",
    "    - go to A1, take the value of A1 as the address of target cell, go to that cell and fetch the value\n",
    "- Find value of a cell relative to specified cell A1: `=OFFSET(A3,3,1)`\n",
    "    - Go to cell A3\n",
    "    - go down 3 cells\n",
    "    - go right 1 cell\n",
    "    - take that cell's value\n",
    "- Find value of a cell in a matrix / dataset: `=INDEX($A$1:$B$6,3,1)`\n",
    "    - Go to cell $A$1, as the starting point of dataset / matrix\n",
    "    - go to row no 3 of dataset \n",
    "    - go to column no 1 of dataset \n",
    "    - take that cell's value\n",
    "- `=VLOOKUP(A1, $A$5:$B$10, 2, FALSE)` (Joining on column)\n",
    "    - search value is in A1,\n",
    "    - Find where that value matches in whole dataset `$A$5:$B$10`\n",
    "    - Take the row of the match in dataset\n",
    "    - return the value from second column\n",
    "    - `FALSE` means strict match, `TRUE` means any close match to nearest number\n",
    "- `=SORT($A$5:$B$10, 2, FALSE)`\n",
    "    - Sort the whole table / dataset by second column\n",
    "    - `FALSE` means descending order, `TRUE` means ascending order\n",
    "- `=MATCH(10000, $A$5:$B$10, -1)`\n",
    "    - Find 10000 in the whole table / dataset\n",
    "    - The dataset is in descending order (-1) or ascending order (1)\n",
    "    - returns the position of the value in the sorted order\n",
    "- Other errors:\n",
    "    - `#DIV/0!` : Dividing by zero\n",
    "    - `#VALUE!` : Nonsense value in calculation\n",
    "    - `#REF!` : Reference error\n",
    "    - `#NAME?` : Forgetting quote in string\n",
    "    - `#NUM!` : Numbers out of range\n",
    "    - `#N/A` : Missing value\n",
    "    - `#ERROR!` : Syntax in formula\n"
   ]
  },
  {
   "cell_type": "markdown",
   "metadata": {},
   "source": [
    "### Google sheet shortcuts"
   ]
  },
  {
   "cell_type": "markdown",
   "metadata": {},
   "source": [
    "- Copying formulas:\n",
    "    1. copy right = `Ctrl + R`\n",
    "    2. copy down = `Ctrl + D`\n",
    "- See more:\n",
    "- google sheet : https://support.google.com/docs/answer/181110\n",
    "- excel : https://support.microsoft.com/en-gb/office/keyboard-shortcuts-in-excel-1798d9d5-842a-42b8-9c99-9b7213f0040f"
   ]
  }
 ],
 "metadata": {
  "language_info": {
   "name": "python"
  }
 },
 "nbformat": 4,
 "nbformat_minor": 2
}
