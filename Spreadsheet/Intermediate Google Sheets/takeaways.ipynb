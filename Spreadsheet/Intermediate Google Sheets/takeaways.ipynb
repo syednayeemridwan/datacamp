{
 "cells": [
  {
   "cell_type": "markdown",
   "metadata": {},
   "source": [
    "# Chapter 1"
   ]
  },
  {
   "cell_type": "markdown",
   "metadata": {},
   "source": [
    "### Google sheet functions\n"
   ]
  },
  {
   "cell_type": "markdown",
   "metadata": {},
   "source": [
    "- Filtering : `=FILTER(A2:H20,H2:H20=TRUE)` (Only return result of A2 to H20 if the condifition of H2 to H20 is true)\n",
    "- Checking number: `=ISNUMBER(A1)`\n",
    "- Checking Text: `\"=ISTEXT(A1)`\n",
    "- Checking Dates : `=ISDATE(A1)`\n",
    "- Checking Logical: `=ISLOGICAL(A1)`\n",
    "- Checking URL: `=ISURL(A1)`\n",
    "- Checking Formula:  `=ISFORMULA(A1)`\n",
    "- convert to dollars : `=TO_DOLLARS(A1)`\n",
    "- convert to percent : `=TO_PERCENT(A1)`\n",
    "- convert to number : `=N(A1)`\n",
    "- convert to another unit : `=CONVERT(A1,\"ft^2\",\"m^2\")`\n",
    "- convert logical to number : `=IF(A1,1,0)`\n",
    "- To make the text into a clickable hyperlink: `=HYPERLINK(A1,B1)` (Show content of B1 but it is a link that contains A1 hyperlink)\n"
   ]
  },
  {
   "cell_type": "markdown",
   "metadata": {},
   "source": [
    "### Google sheet shortcuts"
   ]
  },
  {
   "cell_type": "markdown",
   "metadata": {},
   "source": [
    "- Copying formulas:\n",
    "    1. copy right = `Ctrl + R`\n",
    "    2. copy down = `Ctrl + D`\n"
   ]
  }
 ],
 "metadata": {
  "language_info": {
   "name": "python"
  }
 },
 "nbformat": 4,
 "nbformat_minor": 2
}
