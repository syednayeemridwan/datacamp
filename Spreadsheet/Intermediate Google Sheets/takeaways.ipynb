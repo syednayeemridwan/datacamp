{
 "cells": [
  {
   "cell_type": "markdown",
   "metadata": {},
   "source": [
    "# Chapter 1"
   ]
  },
  {
   "cell_type": "markdown",
   "metadata": {},
   "source": [
    "### Google sheet functions\n"
   ]
  },
  {
   "cell_type": "markdown",
   "metadata": {},
   "source": [
    "- Filtering : `=FILTER(A2:H20,H2:H20=TRUE)` (Only return result of A2 to H20 if the condifition of H2 to H20 is true)\n",
    "- Checking data-type: `=ISNUMBER(A1)`, `\"=ISTEXT(A1)`, `=ISDATE(A1)`, `=ISLOGICAL(A1)`,  `=ISURL(A1)`, `=ISFORMULA(A1)`\n",
    "- converting to other data-type : `=TO_DOLLARS(A1)`, `=TO_PERCENT(A1)`, `=N(A1)`\n",
    "- convert to another unit : `=CONVERT(A1,\"ft^2\",\"m^2\")`\n",
    "- If-else : `=IF(A1,1,0)`\n",
    "- To make the text into a clickable hyperlink: `=HYPERLINK(A1,B1)` (Show content of B1 but it is a link that contains A1 hyperlink)\n",
    "- Transformation of log (10-based), log (e-based), power, exponential, square-root : `=LOG10(A1)`, `=LN(A1)`,`=10^A1`, `=EXP(A1)`,  `=SQRT(A1)`\n",
    "- rounding transformation : `=ROUND(A1, 2)`,  `=ROUND(A1, -2)`,  `=CEILING(A1,100)`,  `=FLOOR(A1,100)`\n",
    "- random numbers: `=RAND()`, `=RANDBETWEEN(-10,10)`\n",
    "- produce RANDOM numbers for given distribution: `=NORMINV(RAND(),0,1)`, `=LOGINV(RAND(),0,1)`, `=TINV(RAND(),5)`, `=FISHERINV(RAND())`, `=FINV(RAND(),2,2)`, `=BETAINV(RAND(),1,1,-10,10)`\n"
   ]
  },
  {
   "cell_type": "markdown",
   "metadata": {},
   "source": [
    "### Google sheet shortcuts"
   ]
  },
  {
   "cell_type": "markdown",
   "metadata": {},
   "source": [
    "- Copying formulas:\n",
    "    1. copy right = `Ctrl + R`\n",
    "    2. copy down = `Ctrl + D`\n"
   ]
  }
 ],
 "metadata": {
  "language_info": {
   "name": "python"
  }
 },
 "nbformat": 4,
 "nbformat_minor": 2
}
