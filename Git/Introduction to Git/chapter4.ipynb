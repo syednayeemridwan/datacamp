{
 "cells": [
  {
   "cell_type": "markdown",
   "metadata": {},
   "source": [
    "# Setting up a new repo"
   ]
  },
  {
   "cell_type": "markdown",
   "metadata": {},
   "source": [
    "You have finished working on the mh_survey project, and just in time too! You've been assigned to work with a colleague on a new research project investigating the relationship between anxiety and the number of different computer systems used in a workplace.\n",
    "\n",
    "You decide to get a head start by creating a new Git repo along with a to-do list."
   ]
  },
  {
   "cell_type": "markdown",
   "metadata": {},
   "source": [
    "```\n",
    "git init anxiety_workplace\n",
    "cd anxiety_workplace/\n",
    "echo \"TODO: Recap on existing research.\" >> todo.txt\n",
    "```"
   ]
  },
  {
   "cell_type": "markdown",
   "metadata": {},
   "source": [
    "# Converting an existing project"
   ]
  },
  {
   "cell_type": "markdown",
   "metadata": {},
   "source": [
    "Imagine you've been working on the mental health survey project, but are only now learning about the benefits of Git!\n",
    "\n",
    "You want to convert your project into a Git repo so you can track your files moving forward.\n",
    "\n",
    "You're inside the `mh_survey` directory."
   ]
  },
  {
   "cell_type": "markdown",
   "metadata": {},
   "source": [
    "- `git init`"
   ]
  },
  {
   "cell_type": "markdown",
   "metadata": {},
   "source": [
    "# Cloning a repo"
   ]
  },
  {
   "cell_type": "markdown",
   "metadata": {},
   "source": [
    "Your colleague has been working on the new anxiety in the workplace project and is ready to hand it over to you.\n",
    "\n",
    "They tell you that all of their work is in a repo in /home/john/repo.\n",
    "\n",
    "Use a single command to clone this repo inside your projects directory, where you are currently located, naming it as `john_anxiety_project`."
   ]
  },
  {
   "cell_type": "markdown",
   "metadata": {},
   "source": [
    "- `git clone /home/john/repo john_anxiety_project`"
   ]
  },
  {
   "cell_type": "markdown",
   "metadata": {},
   "source": [
    "# Defining and identifying remotes"
   ]
  },
  {
   "cell_type": "markdown",
   "metadata": {},
   "source": [
    "Now that you have cloned John's repo locally, you decide you want to name the remote as john to serve as a shortcut when working between branches going forward."
   ]
  },
  {
   "cell_type": "markdown",
   "metadata": {},
   "source": [
    "```\n",
    "git remote add john /home/john/repo\n",
    "git remote -v\n",
    "```"
   ]
  },
  {
   "cell_type": "markdown",
   "metadata": {},
   "source": [
    "# Fetching from a remote"
   ]
  },
  {
   "cell_type": "markdown",
   "metadata": {},
   "source": [
    "If you are not sure how the contents of a remote repo compare to your local repo, then you can gather the remote contents from a specific branch and then compare them to your local branch.\n",
    "\n",
    "Your colleague John has set up a remote repo so that his work is backed up in the cloud and accessible to others."
   ]
  },
  {
   "cell_type": "markdown",
   "metadata": {},
   "source": [
    "```\n",
    "git remote -v\n",
    "git fetch origin local_branch\n",
    "git diff origin local_branch\n",
    "\n",
    "```"
   ]
  },
  {
   "cell_type": "markdown",
   "metadata": {},
   "source": [
    "# Pulling from a remote"
   ]
  },
  {
   "cell_type": "markdown",
   "metadata": {},
   "source": [
    "Fetching is useful, but if you want to bring your local repo's main branch in line with a remote repo, origin, this is possible with a single command!\n",
    "\n",
    "In this exercise, you'll work on a file while synchronizing between local and remote repos."
   ]
  },
  {
   "cell_type": "markdown",
   "metadata": {},
   "source": [
    "- `git pull origin main`"
   ]
  },
  {
   "cell_type": "markdown",
   "metadata": {},
   "source": [
    "# Pushing to a remote repo"
   ]
  },
  {
   "cell_type": "markdown",
   "metadata": {},
   "source": [
    "You've noticed that the budget tracker has some errors, so you decide this needs to be added to the `issue_log.txt` file, along with adding an action to `report.md`.\n",
    "\n",
    "You want to push the updated files to John's remote repo called origin so he is aware of the issue and the next steps."
   ]
  },
  {
   "cell_type": "markdown",
   "metadata": {},
   "source": [
    "```\n",
    "git add .\n",
    "git commit -m \"All change saved\"\n",
    "git pull origin main\n",
    "```"
   ]
  },
  {
   "cell_type": "markdown",
   "metadata": {},
   "source": [
    "# Handling push conflicts"
   ]
  },
  {
   "cell_type": "markdown",
   "metadata": {},
   "source": [
    "Remote repos enable collaboration in Git, but it is important to regularly synchronize your local repo.\n",
    "\n",
    "In this exercise, you'll see what happens when they aren't aligned, and how to deal with this scenario."
   ]
  },
  {
   "cell_type": "markdown",
   "metadata": {},
   "source": [
    "```\n",
    "git push origin main # rejected\n",
    "git pull origin main \n",
    "git push origin main \n",
    "```"
   ]
  }
 ],
 "metadata": {
  "language_info": {
   "name": "python"
  }
 },
 "nbformat": 4,
 "nbformat_minor": 2
}
