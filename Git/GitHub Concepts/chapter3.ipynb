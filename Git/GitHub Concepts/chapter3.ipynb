{
 "cells": [
  {
   "cell_type": "markdown",
   "metadata": {},
   "source": [
    "# How to clone a repo"
   ]
  },
  {
   "cell_type": "markdown",
   "metadata": {},
   "source": [
    "Cloning is one of the ways you can copy a repository and allows you to work on a project on your local computer.\n",
    "\n",
    "Imagine you have joined a large team that have already started a project, and they've brought you in for extra support. Rather than work directly in the repo, you decide to clone it to your computer allowing you to familiarize yourself with the project and start adding to it.\n",
    "\n",
    "Can you recall the final step taken to clone a repo?"
   ]
  },
  {
   "cell_type": "markdown",
   "metadata": {},
   "source": [
    "- Open a terminal window and use the git clone command."
   ]
  },
  {
   "cell_type": "markdown",
   "metadata": {},
   "source": [
    "# How to fork a repo"
   ]
  },
  {
   "cell_type": "markdown",
   "metadata": {},
   "source": [
    "The second way to copy a repo is to fork one. This creates an independent copy where you can take greater risks without breaking anything!\n",
    "\n",
    "Let's say you were exploring public repositories and found a project that was particularly interesting. You think to yourself: \"I'd like to try this out and maybe change a few things.\"\n",
    "\n",
    "The best way to do that is to fork the repo, so that you don't affect the existing repo. (Top tip: this is how many developers and data professionals practice and learn!)\n",
    "\n",
    "Do you recall the steps to fork a repo?"
   ]
  },
  {
   "cell_type": "markdown",
   "metadata": {},
   "source": [
    "<center><img src=\"images/03.01.png\"  style=\"width: 400px, height: 300px;\"/></center>\n"
   ]
  },
  {
   "cell_type": "markdown",
   "metadata": {},
   "source": [
    "# Clone or fork?"
   ]
  },
  {
   "cell_type": "markdown",
   "metadata": {},
   "source": [
    "You know how to clone or fork a repo, this is an essential skill for collaboration. Cloning and forking are two ways to copy a repository, but each serves a different purpose. Can you choose the correct method for your needs?"
   ]
  },
  {
   "cell_type": "markdown",
   "metadata": {},
   "source": [
    "<center><img src=\"images/03.02.png\"  style=\"width: 400px, height: 300px;\"/></center>\n"
   ]
  },
  {
   "cell_type": "markdown",
   "metadata": {},
   "source": [
    "# Working with issues"
   ]
  },
  {
   "cell_type": "markdown",
   "metadata": {},
   "source": [
    "An issue is like a GitHub message to help users keep track of several different types of communications including but not limited to troubleshooting and planning. It is therefore important to know the workflow from start to finish.\n",
    "\n",
    "Let's say you are working on the bank_marketing repo and it is time for a quarterly review. You need to discuss review tasks with the team and assign the work. You decide do this through a GitHub issue.\n",
    "\n",
    "Here you are presented with various steps to create and close an issue, can you put them in the correct order for an ideal workflow?"
   ]
  },
  {
   "cell_type": "markdown",
   "metadata": {},
   "source": [
    "<center><img src=\"images/03.03.png\"  style=\"width: 400px, height: 300px;\"/></center>\n"
   ]
  },
  {
   "cell_type": "markdown",
   "metadata": {},
   "source": [
    "# Who can see the issue?"
   ]
  },
  {
   "cell_type": "markdown",
   "metadata": {},
   "source": [
    "You can send issues all day, but you should also make sure the right people see them. There are two ways to accomplish this, through tagging or assigning.\n",
    "\n",
    "What is the correct way to tag someone in an issue?"
   ]
  },
  {
   "cell_type": "markdown",
   "metadata": {},
   "source": [
    "- Tag the users GitHub handle in the issue using the @ symbol."
   ]
  },
  {
   "cell_type": "markdown",
   "metadata": {},
   "source": [
    "# Commenting on an issue"
   ]
  },
  {
   "cell_type": "markdown",
   "metadata": {},
   "source": [
    "You can respond to issues in the form of comments to keep the conversation going and ask or answer any questions from your team. GitHub also has more interactive features that let you tag other issues, people, and quote a previous reply.\n",
    "\n",
    "Do you recall what symbol represents a quote in a comment?\n"
   ]
  },
  {
   "cell_type": "markdown",
   "metadata": {},
   "source": [
    "- `>`"
   ]
  },
  {
   "cell_type": "markdown",
   "metadata": {},
   "source": [
    "# Create a PR"
   ]
  },
  {
   "cell_type": "markdown",
   "metadata": {},
   "source": [
    "A pull request, or PR, is how a user can suggest changes to an existing repository or branch. The owner is able to review the changes and decide whether or not they want to incorporate the suggested changes.\n",
    "\n",
    "Can you recall all of the steps to create a PR?"
   ]
  },
  {
   "cell_type": "markdown",
   "metadata": {},
   "source": [
    "<center><img src=\"images/03.04.png\"  style=\"width: 400px, height: 300px;\"/></center>\n"
   ]
  },
  {
   "cell_type": "markdown",
   "metadata": {},
   "source": [
    "# Comparing PRs"
   ]
  },
  {
   "cell_type": "markdown",
   "metadata": {},
   "source": [
    "Comparing changes in PRs is one of the most critical steps in collaboration. It allows the repo owner or reviewer to check there aren't any conflicts and also edit any of the suggested changes.\n",
    "\n",
    "Let's say you are working on the `soccer_analysis` repo and have been working on the `laliga_eda` branch to do some exploratory data analysis for La Liga. You're ready to add your work to the project in the `main` branch.\n",
    "\n",
    "The \"Comparing changes\" page comes up after clicking on \"New pull request.\"\n",
    "\n",
    "What is the correct setup for the PR you'd like to do to add your changes?"
   ]
  },
  {
   "cell_type": "markdown",
   "metadata": {},
   "source": [
    "- Base: `main`; Compare: `laliga_eda`"
   ]
  },
  {
   "cell_type": "markdown",
   "metadata": {},
   "source": [
    "# Assigning a reviewer"
   ]
  },
  {
   "cell_type": "markdown",
   "metadata": {},
   "source": [
    "Many projects are collaborative, meaning we want to make sure everyone is happy with the changes before they are implemented. One way to do this is to assign a reviewer to a PR in GitHub.\n",
    "\n",
    "What is the correct way to assign a reviewer to a PR?"
   ]
  },
  {
   "cell_type": "markdown",
   "metadata": {},
   "source": [
    "- Select the correct user in the Reviewer section."
   ]
  },
  {
   "cell_type": "markdown",
   "metadata": {},
   "source": [
    "# Respond to a PR"
   ]
  },
  {
   "cell_type": "markdown",
   "metadata": {},
   "source": [
    "You have three options when you receive a PR, you can:\n",
    "\n",
    "- Comment\n",
    "- Approve\n",
    "- Or request changes\n",
    "\n",
    "Each option serves a different purpose. In this exercise, you will be presented with various PR scenarios and need to decide what the best course of action is."
   ]
  },
  {
   "cell_type": "markdown",
   "metadata": {},
   "source": [
    "<center><img src=\"images/03.05.png\"  style=\"width: 400px, height: 300px;\"/></center>\n"
   ]
  },
  {
   "cell_type": "markdown",
   "metadata": {},
   "source": [
    "# Managing branches"
   ]
  },
  {
   "cell_type": "markdown",
   "metadata": {},
   "source": [
    "After a PR has been approved and merged the next step is usually to delete the branch the PR came from. This is a good habit as it keeps a repository clean and makes sure that branches are used for specific tasks. But what if you deleted a branch and now need to go back in to correct something?\n",
    "\n",
    "How do you bring a branch back after deleting it following a PR?"
   ]
  },
  {
   "cell_type": "markdown",
   "metadata": {},
   "source": [
    "- Click \"Restore\""
   ]
  }
 ],
 "metadata": {
  "language_info": {
   "name": "python"
  }
 },
 "nbformat": 4,
 "nbformat_minor": 2
}
