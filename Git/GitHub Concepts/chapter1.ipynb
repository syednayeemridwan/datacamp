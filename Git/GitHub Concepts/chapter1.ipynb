{
 "cells": [
  {
   "cell_type": "markdown",
   "metadata": {},
   "source": [
    "# Defining GitHub"
   ]
  },
  {
   "cell_type": "markdown",
   "metadata": {},
   "source": [
    "You've learned about GitHub and how it can help you when working on projects. It is one of the most popular hosting services available, making it helpful to understand what it is.\n",
    "\n",
    "Can you recall what GitHub is?"
   ]
  },
  {
   "cell_type": "markdown",
   "metadata": {},
   "source": [
    "- Cloud-based hosting service"
   ]
  },
  {
   "cell_type": "markdown",
   "metadata": {},
   "source": [
    "# GitHub or Git"
   ]
  },
  {
   "cell_type": "markdown",
   "metadata": {},
   "source": [
    "It is easy to confuse Git with GitHub. In fact, GitHub was even named after Git. Can you correctly classify the characteristics of each?"
   ]
  },
  {
   "cell_type": "markdown",
   "metadata": {},
   "source": [
    "<center><img src=\"images/01.01.png\"  style=\"width: 400px, height: 300px;\"/></center>"
   ]
  },
  {
   "cell_type": "markdown",
   "metadata": {},
   "source": [
    "# Benefits of GitHub"
   ]
  },
  {
   "cell_type": "markdown",
   "metadata": {},
   "source": [
    "You know how to use Git, so why do you need to know how to use GitHub? GitHub is one of the most popular hosting platforms in the world and simplifies many of the things you can do with Git.\n",
    "\n",
    "What is a benefit of using GitHub?"
   ]
  },
  {
   "cell_type": "markdown",
   "metadata": {},
   "source": [
    "- It allows for easy collaboration with anyone in the world.\n",
    "- It allows you to store and track projects and files.\n",
    "- It has many open-source projects to learn from or contribute to."
   ]
  },
  {
   "cell_type": "markdown",
   "metadata": {},
   "source": [
    "# Create a repo"
   ]
  },
  {
   "cell_type": "markdown",
   "metadata": {},
   "source": [
    "Repositories are the homes for your projects. They store all of your files including the README.md and .gitignore files.\n",
    "\n",
    "Here you have a view of the \"Create new repository\" page on GitHub. Which of the below is required to create a new public repository?"
   ]
  },
  {
   "cell_type": "markdown",
   "metadata": {},
   "source": [
    "<center><img src=\"images/01.02.png\"  style=\"width: 400px, height: 300px;\"/></center>\n"
   ]
  },
  {
   "cell_type": "markdown",
   "metadata": {},
   "source": [
    "- Select the \"Public\" option."
   ]
  },
  {
   "cell_type": "markdown",
   "metadata": {},
   "source": [
    "# Repo sections"
   ]
  },
  {
   "cell_type": "markdown",
   "metadata": {},
   "source": [
    "You will have access to many different sections once you create a GitHub repository.\n",
    "\n",
    "Which of the following is a section you will encounter?"
   ]
  },
  {
   "cell_type": "markdown",
   "metadata": {},
   "source": [
    "<center><img src=\"images/01.03.png\"  style=\"width: 400px, height: 300px;\"/></center>\n"
   ]
  },
  {
   "cell_type": "markdown",
   "metadata": {},
   "source": [
    "# Modify a repo title"
   ]
  },
  {
   "cell_type": "markdown",
   "metadata": {},
   "source": [
    "You've created your new repository but you want to make some changes to the title. Where can you do so?"
   ]
  },
  {
   "cell_type": "markdown",
   "metadata": {},
   "source": [
    "<center><img src=\"images/01.04.png\"  style=\"width: 400px, height: 300px;\"/></center>\n"
   ]
  },
  {
   "cell_type": "markdown",
   "metadata": {},
   "source": [
    "- Gear icon of acout section on the right"
   ]
  },
  {
   "cell_type": "markdown",
   "metadata": {},
   "source": [
    "# Create headings in the README"
   ]
  },
  {
   "cell_type": "markdown",
   "metadata": {},
   "source": [
    "README files are like instruction manuals for repositories. As they contain important information, it is crucial to edit the file using markdown syntax and make it more readable.\n",
    "\n",
    "Here is preview of a markdown file. What syntax was used to create the headings?"
   ]
  },
  {
   "cell_type": "markdown",
   "metadata": {},
   "source": [
    "<center><img src=\"images/01.05.png\"  style=\"width: 400px, height: 300px;\"/></center>\n"
   ]
  },
  {
   "cell_type": "markdown",
   "metadata": {},
   "source": [
    "- `# Soccer Analysis; ## About the Project; ###### Credits:`"
   ]
  },
  {
   "cell_type": "markdown",
   "metadata": {},
   "source": [
    "# Format text in the README"
   ]
  },
  {
   "cell_type": "markdown",
   "metadata": {},
   "source": [
    "Emphasizing things in text can be difficult, but you can do this with the use of bold and italics.\n",
    "\n",
    "Which syntax would set Premier League in bold and La Liga in italics in a markdown file?"
   ]
  },
  {
   "cell_type": "markdown",
   "metadata": {},
   "source": [
    "- `**Premier League** and *La Liga*`"
   ]
  },
  {
   "cell_type": "markdown",
   "metadata": {},
   "source": [
    "# Add an image to the README"
   ]
  },
  {
   "cell_type": "markdown",
   "metadata": {},
   "source": [
    "A picture is worth a thousand words. Thankfully, you can include images in your README file to help get a point across without being too wordy. Imagine having to talk through a graph without having an image to refer to?\n",
    "\n",
    "We have provided the alt text and link location here. What is the syntax to add this image to a markdown file?\n",
    "\n",
    "<center><img src=\"images/01.06.jpeg\"  style=\"width: 400px, height: 300px;\"/></center>\n",
    "\n",
    "Alt text: La Liga logo\n",
    "\n",
    "Link location: https://assets.laliga.com/assets/logos/laliga-v/laliga-v-300x300.jpg"
   ]
  },
  {
   "cell_type": "markdown",
   "metadata": {},
   "source": [
    "- `![La Liga logo](https://assets.laliga.com/assets/logos/laliga-v/laliga-v-300x300.jpg)`"
   ]
  }
 ],
 "metadata": {
  "language_info": {
   "name": "python"
  }
 },
 "nbformat": 4,
 "nbformat_minor": 2
}
