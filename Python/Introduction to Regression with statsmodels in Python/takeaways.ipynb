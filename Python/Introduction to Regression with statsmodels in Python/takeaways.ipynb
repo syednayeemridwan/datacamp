{
 "cells": [
  {
   "cell_type": "markdown",
   "metadata": {},
   "source": [
    "# Chapter 1"
   ]
  },
  {
   "cell_type": "markdown",
   "metadata": {},
   "source": [
    "- Response variable = dependent variable = y\n",
    "- Explanatory variables = independent variables = X\n",
    "- Linear regression = The response variable is numeric\n",
    "- Logistic regression = The response variable is logical.\n",
    "- Simple linear/logistic regression = There is only one explanatory variable\n"
   ]
  },
  {
   "cell_type": "markdown",
   "metadata": {},
   "source": [
    "```\n",
    "# You want a regression line : y = mx + c\n",
    "from statsmodels.formula.api import ols\n",
    "# Formula applied : y = x, finds m and c on its own for best fit\n",
    "num_model = ols(\"y ~ x_num\", data=df).fit()\n",
    "# Calculate co-efficient of each category with relative to 0 instead of relative to intercept, its the mean for each category\n",
    "cat_model = ols(\"y ~ x_cat + 0\", data=df).fit()\n",
    "# See model params : slope m and intercept c\n",
    "print(cat_model.params)\n",
    "```"
   ]
  },
  {
   "cell_type": "markdown",
   "metadata": {},
   "source": [
    "# Chapter 2"
   ]
  },
  {
   "cell_type": "markdown",
   "metadata": {},
   "source": []
  }
 ],
 "metadata": {
  "language_info": {
   "name": "python"
  }
 },
 "nbformat": 4,
 "nbformat_minor": 2
}
