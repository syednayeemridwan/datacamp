{
 "cells": [
  {
   "cell_type": "markdown",
   "metadata": {},
   "source": [
    "# Chapter 1"
   ]
  },
  {
   "cell_type": "markdown",
   "metadata": {},
   "source": [
    "- Response variable = dependent variable = y\n",
    "- Explanatory variables = independent variables = X\n",
    "- Linear regression = The response variable is numeric\n",
    "- Logistic regression = The response variable is logical.\n",
    "- Simple linear/logistic regression = There is only one explanatory variable\n"
   ]
  },
  {
   "cell_type": "markdown",
   "metadata": {},
   "source": [
    "```\n",
    "# You want a regression line : y = mx + c\n",
    "from statsmodels.formula.api import ols\n",
    "# Formula applied : y = x, finds m and c on its own for best fit\n",
    "num_model = ols(\"y ~ x_num\", data=df).fit()\n",
    "# Calculate co-efficient of each category with relative to 0 instead of relative to intercept, its the mean for each category\n",
    "cat_model = ols(\"y ~ x_cat + 0\", data=df).fit()\n",
    "# See model params : slope m and intercept c\n",
    "print(cat_model.params)\n",
    "# See prediction on original fitted data \n",
    "print(num_model.fittedvalues)\n",
    "# See residuals\n",
    "print(model.resid)\n",
    "# Model summary\n",
    "model.summary()\n",
    "# Create test data\n",
    "test_data = pd.DataFrame({\"x_num\": np.arange(20, 41)})\n",
    "# Predict on test data\n",
    "print(num_model.predict(test_data))\n",
    "# NOTE : You can transform the X and y before fitting and then train. You can predict with the model and the predicted values should be back-transformed for y if y was transformed.\n",
    "```"
   ]
  },
  {
   "cell_type": "markdown",
   "metadata": {},
   "source": [
    "# Chapter 2"
   ]
  },
  {
   "cell_type": "markdown",
   "metadata": {},
   "source": [
    "- Response value = fitted value + residuals\n",
    "- Regression to the mean : extreme cases don't persist over time, they occur due to randomness \n",
    "- Non-linear data may work well with transformation\n",
    "- You may have to transform X, y or both before training or fitting. You need to reverse the transformation result after prediction to interpret the result"
   ]
  },
  {
   "cell_type": "markdown",
   "metadata": {},
   "source": []
  }
 ],
 "metadata": {
  "language_info": {
   "name": "python"
  }
 },
 "nbformat": 4,
 "nbformat_minor": 2
}
