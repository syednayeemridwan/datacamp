{
 "cells": [
  {
   "cell_type": "markdown",
   "metadata": {},
   "source": [
    "# Chapter 1"
   ]
  },
  {
   "cell_type": "markdown",
   "metadata": {},
   "source": [
    "### Python Functions"
   ]
  },
  {
   "cell_type": "markdown",
   "metadata": {},
   "source": [
    "```\n",
    "# Example 1 : Function without args or kwargs\n",
    "def func_name(param1, param2=1):\n",
    "    \"\"\"Function Definition.\"\"\" # Function definition Docstring\n",
    "    \n",
    "    new_value1 = param1 ** param2\n",
    "    new_value2 = param2 ** param1\n",
    "    new_tuple = (new_value1, new_value2) # Binding results in a tuple\n",
    "    \n",
    "    return new_tuple # Returning multiple results\n",
    "\n",
    "func_name(2,3) # (8,9)\n",
    "\n",
    "# Example 2 : Function with *args (a tuple of parameters)\n",
    "def add_all(*args):\n",
    "    \"\"\"Sum all values in *args together.\"\"\"\n",
    "\n",
    "    sum_all = 0\n",
    "    for num in args: # iterate over args tuple\n",
    "        sum_all += num\n",
    "\n",
    "    return sum_all\n",
    "\n",
    "add_all(5, 10, 15, 20) # 50\n",
    "\n",
    "# Example 3 : Function with **kwargs (a dictionary of parameters)\n",
    "def print_all(**kwargs):\n",
    "    \"\"\"Print out key-value pairs in **kwargs.\"\"\"\n",
    "\n",
    "    for key, value in kwargs.items(): # iterate over kwargs dictionary\n",
    "        print(f\"key = {key}, value = {value}\")\n",
    "\n",
    "print_all(name=\"dumbledore\") # key = name, value = dumbledore\n",
    "\n",
    "```"
   ]
  },
  {
   "cell_type": "markdown",
   "metadata": {},
   "source": [
    "# Chapter 2"
   ]
  },
  {
   "cell_type": "markdown",
   "metadata": {},
   "source": [
    "### Scope in python"
   ]
  },
  {
   "cell_type": "markdown",
   "metadata": {},
   "source": [
    "- Global scope \n",
    "    - defined in the main body of a script\n",
    "    - can be accessed anywhere in the script\n",
    "- Local scope \n",
    "    - defined inside a function\n",
    "    - cannot be accessed outside the function\n",
    "- Built-in scope \n",
    "    - names in the pre-de,ned built-ins module\n",
    "- Python searches variable in this order of scope: \n",
    "    1. Local \n",
    "    2. Global\n",
    "    3. Built-in\n"
   ]
  },
  {
   "cell_type": "markdown",
   "metadata": {},
   "source": [
    "### Changing global variable value"
   ]
  },
  {
   "cell_type": "markdown",
   "metadata": {},
   "source": [
    "```\n",
    "global global_var\n",
    "global_var = other_val ** 2\n",
    "```"
   ]
  },
  {
   "cell_type": "markdown",
   "metadata": {},
   "source": [
    "### Changing outer funtion's variable value inside inner function in a nested function"
   ]
  },
  {
   "cell_type": "markdown",
   "metadata": {},
   "source": [
    "```\n",
    "nonlocal outer_var\n",
    "outer_var = 2\n",
    "```"
   ]
  },
  {
   "cell_type": "markdown",
   "metadata": {},
   "source": [
    "### Nested Function : Example 1 (Return inner function result)"
   ]
  },
  {
   "cell_type": "markdown",
   "metadata": {},
   "source": [
    "```\n",
    "def outer_func(x1, x2, x3):\n",
    "    def inner_func(x):\n",
    "        return x % 2\n",
    "        \n",
    "    return (inner_func(x1), inner_func(x2), inner_func(x3))\n",
    "\n",
    "print(outer_func(1, 2, 3)) # 1, 0, 1\n",
    "```"
   ]
  },
  {
   "cell_type": "markdown",
   "metadata": {},
   "source": [
    "### Nested Function : Example 2 (Return inner function itself)"
   ]
  },
  {
   "cell_type": "markdown",
   "metadata": {},
   "source": [
    "```\n",
    "def outer_func(n):\n",
    "    def inner_func(x):\n",
    "        powered_val = x ** n\n",
    "        return powered_val\n",
    "\n",
    "    return inner_func\n",
    "  \n",
    "# giving argument to outer function, now the result acts as inner function\n",
    "outer_result = outer_func(2) # n = 2\n",
    "# giving argument to inner function\n",
    "final_result = outer_result(4) # x = 4 and now result is 64\n",
    "```"
   ]
  },
  {
   "cell_type": "markdown",
   "metadata": {},
   "source": [
    "### See python built-in modules"
   ]
  },
  {
   "cell_type": "markdown",
   "metadata": {},
   "source": [
    "```\n",
    "import builtins\n",
    "dir(builtins)\n",
    "```"
   ]
  },
  {
   "cell_type": "markdown",
   "metadata": {},
   "source": [
    "# Chapter 3"
   ]
  },
  {
   "cell_type": "markdown",
   "metadata": {},
   "source": [
    "- lambda function : \n",
    "    - Defining lambda function : `lambda_func = lambda x, y: x ** y`\n",
    "    - Calling lambda function : `lambda_func(1,2)`\n",
    "- map function : \n",
    "    - Using map : `map(func_name, seq)`\n",
    "    - example : `map(list, so)`\n",
    "- filter function : \n",
    "    - Using filter : `list( filter( boolean_func_name, seq ))`\n",
    "    - example : `list (filter(lambda x : len(x) > 6 , some_list))`\n",
    "- reduce funtion:\n",
    "```\n",
    "from functools import reduce\n",
    "result = reduce(lambda x,y: x + y, num_list) # Will add all items of num_list into a single value\n",
    "```"
   ]
  },
  {
   "cell_type": "markdown",
   "metadata": {},
   "source": [
    "### Try catch in python"
   ]
  },
  {
   "cell_type": "markdown",
   "metadata": {},
   "source": [
    "```\n",
    "def sqrt(x):\n",
    "    if x < 0:\n",
    "        raise <ErrorType>('Exception message) # Exception is default errortype\n",
    "    try:\n",
    "        return x ** 0.5\n",
    "    except <ErrorType>:\n",
    "        print('Exception message')\n",
    "```"
   ]
  }
 ],
 "metadata": {
  "language_info": {
   "name": "python"
  }
 },
 "nbformat": 4,
 "nbformat_minor": 2
}
