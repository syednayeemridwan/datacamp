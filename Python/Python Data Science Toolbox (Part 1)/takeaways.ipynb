{
 "cells": [
  {
   "cell_type": "markdown",
   "metadata": {},
   "source": [
    "# Chapter 1"
   ]
  },
  {
   "cell_type": "markdown",
   "metadata": {},
   "source": [
    "```\n",
    "def func_name(param1, param2):\n",
    "    \"\"\"Function Definition.\"\"\" # Function definition Docstring\n",
    "    \n",
    "    new_value1 = param1 ** param2\n",
    "    new_value2 = param2 ** param1\n",
    "    new_tuple = (new_value1, new_value2) # Binding results in a tuple\n",
    "    \n",
    "    return new_tuple # Returning multiple results\n",
    "```"
   ]
  },
  {
   "cell_type": "markdown",
   "metadata": {},
   "source": []
  }
 ],
 "metadata": {
  "language_info": {
   "name": "python"
  }
 },
 "nbformat": 4,
 "nbformat_minor": 2
}
