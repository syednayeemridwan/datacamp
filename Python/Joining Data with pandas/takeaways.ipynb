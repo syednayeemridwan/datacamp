{
 "cells": [
  {
   "cell_type": "markdown",
   "metadata": {},
   "source": [
    "# Chapter 1"
   ]
  },
  {
   "cell_type": "markdown",
   "metadata": {},
   "source": [
    "- Pandas inner join : `merged_df = left_df.merge(right_df, on=['col1','col2'], suffixes=('_left','_right'))`\n",
    "- group by : \n",
    "    1. `df.groupby(\"col1\").agg({'col2':'count'})`\n",
    "    2. `df.groupby([\"col1\",\"col2\"])[\"another_col\"].agg([min,max,sum])`\n"
   ]
  },
  {
   "cell_type": "markdown",
   "metadata": {},
   "source": [
    "# Chapter 2"
   ]
  },
  {
   "cell_type": "markdown",
   "metadata": {},
   "source": [
    "- Pandas left join: `merged_df = left_df.merge(right_df, on=['col1','col2'], validate=None, suffixes=('_left','_right'), how='left')`\n",
    "- Substring search : `df[df['col'].str.contains(\"hello\")]`\n",
    "- Pandas outer join : \n",
    "    ```\n",
    "    merged_df = left_df.merge(right_df, left_on='left_col', right_on='right_col', \n",
    "                          left_index=True, right_index=True, # if they are index\n",
    "                          suffixes=('_left','_right'), how='outer')\n",
    "    ```\n",
    "- When to use self join:\n",
    "    1. Graph data\n",
    "    2. Hierarchical relationship\n",
    "    3. Sequential relationship\n",
    "- Pandas rename column\n",
    "    1. `df.columns = ['A','B','C']`\n",
    "    2. `df.rename(columns={'old_col': 'A', 'abc': 'B'}, inplace=True)`"
   ]
  },
  {
   "cell_type": "markdown",
   "metadata": {},
   "source": [
    "# Chapter 3"
   ]
  },
  {
   "cell_type": "markdown",
   "metadata": {},
   "source": [
    "<center><img src=\"images/03.01.png\"  style=\"width: 400px, height: 300px;\"/></center>\n",
    "<center><img src=\"images/03.02.png\"  style=\"width: 400px, height: 300px;\"/></center>"
   ]
  },
  {
   "cell_type": "markdown",
   "metadata": {},
   "source": [
    "- Semi Join:\n",
    "    - Inner join, only returns the intersection result of the left table (Not the right table)\n",
    "    - No duplicates\n",
    "- Anti Join\n",
    "    - Inverse inner join, only returns the result outside of intersection of the left table (Not the right table)\n",
    "    - No duplicates\n"
   ]
  },
  {
   "cell_type": "markdown",
   "metadata": {},
   "source": [
    "### Semi Join"
   ]
  },
  {
   "cell_type": "markdown",
   "metadata": {},
   "source": [
    "```\n",
    "inner_join_df = left_df.merge(right_df, on='id')\n",
    "semi_join_df = left_df[left_df['id'].isin(inner_join_df['id'])]\n",
    "```"
   ]
  },
  {
   "cell_type": "markdown",
   "metadata": {},
   "source": [
    "### Anti Join"
   ]
  },
  {
   "cell_type": "markdown",
   "metadata": {},
   "source": [
    "```\n",
    "inner_join_df = left_df.merge(right_df, on='id')\n",
    "anti_join_df = left_df[~left_df['id'].isin(inner_join_df['id'])]\n",
    "```"
   ]
  },
  {
   "cell_type": "markdown",
   "metadata": {},
   "source": [
    "### Concat Dataframes"
   ]
  },
  {
   "cell_type": "markdown",
   "metadata": {},
   "source": [
    "```\n",
    "# Horizontal concatenation = concat side by side, increase no of columns\n",
    "horizontal_concat_df = pd.concat([df1,df2,df3], axis=1)\n",
    "# Vertical concatenation = concat on top of another, increase no of rows\n",
    "vertical_concat_df = pd.concat([df1,df2,df3], axis=0, verify_integrity=False # Verifies duplicate entries\n",
    "                        ignore_index=False, # Retain index of source dfs\n",
    "                        keys=['df1','df2','df3']) # Provide key for each source df \n",
    "```"
   ]
  },
  {
   "cell_type": "markdown",
   "metadata": {},
   "source": [
    "- Multi index group-by : `df.groupby(level=0).agg({'col':'mean'}) # Outermost = level 0`\n"
   ]
  },
  {
   "cell_type": "markdown",
   "metadata": {},
   "source": [
    "### Verify Integrity"
   ]
  },
  {
   "cell_type": "markdown",
   "metadata": {},
   "source": [
    "<center><img src=\"images/03.04.png\"  style=\"width: 400px, height: 300px;\"/></center>\n"
   ]
  },
  {
   "cell_type": "markdown",
   "metadata": {},
   "source": [
    "# Chapter 4"
   ]
  },
  {
   "cell_type": "markdown",
   "metadata": {},
   "source": [
    "<center><img src=\"images/04.01.png\"  style=\"width: 400px, height: 300px;\"/></center>"
   ]
  },
  {
   "cell_type": "markdown",
   "metadata": {},
   "source": [
    "- Outer join by Default \n",
    "- Result dataframe is ordered according to the \"on\" column\n",
    "- Used in ordered data like time series\n",
    "```\n",
    "merged_df = pd.merge_ordered(left_df, right_df, on='date',\n",
    "suffixes=('_left','_right'),\n",
    "fill_method='ffill')\n",
    "```"
   ]
  },
  {
   "cell_type": "markdown",
   "metadata": {},
   "source": [
    "<center><img src=\"images/04.02.png\"  style=\"width: 400px, height: 300px;\"/></center>\n"
   ]
  },
  {
   "cell_type": "markdown",
   "metadata": {},
   "source": [
    "- Merged Ordered on Left join\n",
    "- Joined on nearest value as key\n",
    "- key column(s) [the column used to match on] must be sorted\n",
    "- used for nearest value sampling"
   ]
  },
  {
   "cell_type": "markdown",
   "metadata": {},
   "source": [
    "```\n",
    "merged_df = pd.merge_asof(left_df, right_df, on=['date'],\n",
    "    suffixes=('_left','_right'),\n",
    "    direction='nearest')\n",
    "```"
   ]
  },
  {
   "cell_type": "markdown",
   "metadata": {},
   "source": [
    "- using list comprehension on dataframe column:\n",
    "    - `['X' if val=='some_val' else 'Y' for val in df['col']]`\n",
    "- querying a dataframe : `df.query('col1==\"A\" or (col2==\"B\" and col3 < 90)')`\n"
   ]
  },
  {
   "cell_type": "markdown",
   "metadata": {},
   "source": [
    "### Unpivoting From wide table to long table"
   ]
  },
  {
   "cell_type": "markdown",
   "metadata": {},
   "source": [
    "<center><img src=\"images/04.04.png\"  style=\"width: 400px, height: 300px;\"/></center>\n"
   ]
  },
  {
   "cell_type": "markdown",
   "metadata": {},
   "source": [
    "```\n",
    "unpivot_df = df.melt(id_vars=['col1_to_keep','col2_to_keep'],\n",
    "            value_vars=['col3_to_unpivot','col4_to_unpivot'],\n",
    "            var_name=['variable_col'], value_name='value_col')\n",
    "\n",
    "```"
   ]
  },
  {
   "cell_type": "markdown",
   "metadata": {},
   "source": []
  }
 ],
 "metadata": {
  "language_info": {
   "name": "python"
  }
 },
 "nbformat": 4,
 "nbformat_minor": 2
}
