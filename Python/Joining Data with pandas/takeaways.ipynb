{
 "cells": [
  {
   "cell_type": "markdown",
   "metadata": {},
   "source": [
    "# Chapter 1"
   ]
  },
  {
   "cell_type": "markdown",
   "metadata": {},
   "source": [
    "- Pandas inner join : `merged_df = left_df.merge(right_df, on=['col1','col2'], suffixes=('_left','_right'))`\n",
    "- group by : \n",
    "    1. `df.groupby(\"col1\").agg({'col2':'count'})`\n",
    "    2. `df.groupby([\"col1\",\"col2\"])[\"another_col\"].agg([min,max,sum])`\n"
   ]
  },
  {
   "cell_type": "markdown",
   "metadata": {},
   "source": [
    "# Chapter 2"
   ]
  },
  {
   "cell_type": "markdown",
   "metadata": {},
   "source": [
    "- Pandas left join: `merged_df = left_df.merge(right_df, on=['col1','col2'], suffixes=('_left','_right'), how='left')`\n",
    "- Substring search : `df[df['col'].str.contains(\"hello\")]`\n",
    "- Pandas outer join : \n",
    "    ```\n",
    "    merged_df = left_df.merge(right_df, left_on='left_col', right_on='right_col', \n",
    "                          left_index=True, right_index=True, # if they are index\n",
    "                          suffixes=('_left','_right'), how='outer')\n",
    "    ```\n",
    "- When to use self join:\n",
    "    1. Graph data\n",
    "    2. Hierarchical relationship\n",
    "    3. Sequential relationship\n",
    "- Pandas rename column\n",
    "    1. `df.columns = ['A','B','C']`\n",
    "    2. `df.rename(columns={'old_col': 'A', 'abc': 'B'}, inplace=True)`"
   ]
  }
 ],
 "metadata": {
  "language_info": {
   "name": "python"
  }
 },
 "nbformat": 4,
 "nbformat_minor": 2
}
