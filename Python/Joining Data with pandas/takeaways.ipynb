{
 "cells": [
  {
   "cell_type": "markdown",
   "metadata": {},
   "source": [
    "# Chapter 1"
   ]
  },
  {
   "cell_type": "markdown",
   "metadata": {},
   "source": [
    "- Pandas inner join : `merged_df = left_df.merge(right_df, on=['col1','col2'], suffixes=('_left','_right'))`\n",
    "- group by : \n",
    "    1. `df.groupby(\"col1\").agg({'col2':'count'})`\n",
    "    2. `df.groupby([\"col1\",\"col2\"])[\"another_col\"].agg([min,max,sum])`\n"
   ]
  }
 ],
 "metadata": {
  "language_info": {
   "name": "python"
  }
 },
 "nbformat": 4,
 "nbformat_minor": 2
}
