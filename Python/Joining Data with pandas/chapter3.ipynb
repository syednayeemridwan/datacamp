{
 "cells": [
  {
   "cell_type": "markdown",
   "metadata": {},
   "source": [
    "# Steps of a semi join"
   ]
  },
  {
   "cell_type": "markdown",
   "metadata": {},
   "source": [
    "In the last video, you were shown how to perform a semi join with `pandas`. In this exercise, you'll solidify your understanding of the necessary steps. Recall that a semi join filters the left table to only the rows where a match exists in both the left and right tables."
   ]
  },
  {
   "cell_type": "markdown",
   "metadata": {},
   "source": [
    "<center><img src=\"images/03.03.png\"  style=\"width: 400px, height: 300px;\"/></center>\n"
   ]
  },
  {
   "cell_type": "markdown",
   "metadata": {},
   "source": [
    "# Performing an anti join"
   ]
  },
  {
   "cell_type": "markdown",
   "metadata": {},
   "source": [
    "In our music streaming company dataset, each customer is assigned an employee representative to assist them. In this exercise, filter the employee table by a table of top customers, returning only those employees who are not assigned to a customer. The results should resemble the results of an anti join. The company's leadership will assign these employees additional training so that they can work with high valued customers.\n",
    "\n",
    "The `top_cust` and `employees` tables have been provided for you."
   ]
  },
  {
   "cell_type": "code",
   "execution_count": 2,
   "metadata": {},
   "outputs": [],
   "source": [
    "# import pandas as pd\n",
    "# # Merge employees and top_cust\n",
    "# empl_cust = employees.merge(top_cust, on='srid', \n",
    "#                             how='left', indicator=True)\n",
    "\n",
    "# # Select the srid column where _merge is left_only\n",
    "# srid_list = empl_cust.loc[:, ['srid','_merge']]\n",
    "# srid_list = srid_list[srid_list['_merge']=='left_only']\n",
    "# srid_list = srid_list.loc[:,'srid']\n"
   ]
  },
  {
   "cell_type": "code",
   "execution_count": 3,
   "metadata": {},
   "outputs": [],
   "source": [
    "# # Merge employees and top_cust\n",
    "# empl_cust = employees.merge(top_cust, on='srid', \n",
    "#                                  how='left', indicator=True)\n",
    "\n",
    "# # Select the srid column where _merge is left_only\n",
    "# srid_list = empl_cust.loc[empl_cust['_merge'] == 'left_only', 'srid']\n",
    "\n",
    "# # Get employees not working with top customers\n",
    "# print(employees[employees['srid'].isin(srid_list)])"
   ]
  },
  {
   "cell_type": "markdown",
   "metadata": {},
   "source": [
    "# Performing a semi join"
   ]
  },
  {
   "cell_type": "markdown",
   "metadata": {},
   "source": [
    "Some of the tracks that have generated the most significant amount of revenue are from TV-shows or are other non-musical audio. You have been given a table of invoices that include top revenue-generating items. Additionally, you have a table of non-musical tracks from the streaming service. In this exercise, you'll use a semi join to find the top revenue-generating non-musical tracks..\n",
    "\n",
    "The tables `non_mus_tcks`, `top_invoices`, and `genres` have been loaded for you."
   ]
  },
  {
   "cell_type": "code",
   "execution_count": 5,
   "metadata": {},
   "outputs": [],
   "source": [
    "# import pandas as pd\n",
    "\n",
    "# # Merge the non_mus_tck and top_invoices tables on tid\n",
    "# tracks_invoices = non_mus_tcks.merge(top_invoices, on = \"tid\", how= \"inner\")\n",
    "\n",
    "# # Use .isin() to subset non_mus_tcks to rows with tid in tracks_invoices\n",
    "# top_tracks = non_mus_tcks[non_mus_tcks['tid'].isin(tracks_invoices['tid'])]\n",
    "\n",
    "# # Group the top_tracks by gid and count the tid rows\n",
    "# cnt_by_gid = top_tracks.groupby(['gid'], as_index=False).agg({'tid':'count'})\n",
    "\n",
    "# # Merge the genres table to cnt_by_gid on gid and print\n",
    "# print(cnt_by_gid.merge(genres, on=\"gid\"))"
   ]
  },
  {
   "cell_type": "markdown",
   "metadata": {},
   "source": [
    "# Concatenation basics"
   ]
  },
  {
   "cell_type": "markdown",
   "metadata": {},
   "source": [
    "You have been given a few tables of data with musical track info for different albums from the metal band, Metallica. The track info comes from their Ride The Lightning, Master Of Puppets, and St. Anger albums. Try various features of the `.concat()` method by concatenating the tables vertically together in different ways.\n",
    "\n",
    "The tables `tracks_master`, `tracks_ride`, and `tracks_st` have loaded for you."
   ]
  },
  {
   "cell_type": "code",
   "execution_count": 3,
   "metadata": {},
   "outputs": [],
   "source": [
    "# im\n",
    "# # Concatenate the tracks\n",
    "# tracks_from_albums = pd.concat([tracks_master, tracks_ride, tracks_st],\n",
    "#                                sort=True)\n",
    "# print(tracks_from_albums)"
   ]
  },
  {
   "cell_type": "code",
   "execution_count": 4,
   "metadata": {},
   "outputs": [],
   "source": [
    "# # Concatenate the tracks so the index goes from 0 to n-1\n",
    "# tracks_from_albums = pd.concat([tracks_master, tracks_ride, tracks_st],\n",
    "#                                ignore_index=True,\n",
    "#                                sort=True)\n",
    "# print(tracks_from_albums)"
   ]
  },
  {
   "cell_type": "code",
   "execution_count": 5,
   "metadata": {},
   "outputs": [],
   "source": [
    "# # Concatenate the tracks, show only columns names that are in all tables\n",
    "# tracks_from_albums = pd.concat([tracks_master, tracks_ride, tracks_st],\n",
    "#                                join='inner',\n",
    "#                                sort=True)\n",
    "# print(tracks_from_albums)"
   ]
  },
  {
   "cell_type": "markdown",
   "metadata": {},
   "source": [
    "# Concatenating with keys"
   ]
  },
  {
   "cell_type": "markdown",
   "metadata": {},
   "source": [
    "The leadership of the music streaming company has come to you and asked you for assistance in analyzing sales for a recent business quarter. They would like to know which month in the quarter saw the highest average invoice total. You have been given three tables with invoice data named `inv_jul`, `inv_aug`, and `inv_sep`. Concatenate these tables into one to create a graph of the average monthly invoice total."
   ]
  },
  {
   "cell_type": "code",
   "execution_count": 7,
   "metadata": {},
   "outputs": [],
   "source": [
    "# # Concatenate the tables and add keys\n",
    "# inv_jul_thr_sep = pd.concat([inv_jul, inv_aug, inv_sep], \n",
    "#                             keys=['7Jul', '8Aug', '9Sep'])\n",
    "\n",
    "# # Group the invoices by the index keys and find avg of the total column\n",
    "# avg_inv_by_month = inv_jul_thr_sep.groupby(level=0).agg({'total':'mean'})\n",
    "\n",
    "# # Bar plot of avg_inv_by_month\n",
    "# avg_inv_by_month.plot(kind=\"bar\")\n",
    "# plt.show()"
   ]
  },
  {
   "cell_type": "markdown",
   "metadata": {},
   "source": [
    "# Validating a merge"
   ]
  },
  {
   "cell_type": "markdown",
   "metadata": {},
   "source": [
    "You have been given 2 tables, `artists`, and `albums`. Use the IPython shell to merge them using `artists.merge(albums, on='artid').head()`. Adjust the validate argument to answer which statement is `False`."
   ]
  },
  {
   "cell_type": "markdown",
   "metadata": {},
   "source": [
    "You can use:\n",
    "    - `'one_to_one'`\n",
    "    - `'one_to_many'`\n",
    "    - `'many_to_one'`\n",
    "    - `'many_to_many'`"
   ]
  },
  {
   "cell_type": "markdown",
   "metadata": {},
   "source": [
    "# Concatenate and merge to find common songs"
   ]
  },
  {
   "cell_type": "markdown",
   "metadata": {},
   "source": [
    "The senior leadership of the streaming service is requesting your help again. You are given the historical files for a popular playlist in the classical music genre in 2018 and 2019. Additionally, you are given a similar set of files for the most popular pop music genre playlist on the streaming service in 2018 and 2019. Your goal is to concatenate the respective files to make a large classical playlist table and overall popular music table. Then filter the classical music table using a semi join to return only the most popular classical music tracks.\n",
    "\n",
    "The tables `classic_18`, `classic_19`, and `pop_18`, `pop_19` have been loaded for you. Additionally, `pandas` has been loaded as `pd`"
   ]
  },
  {
   "cell_type": "code",
   "execution_count": 8,
   "metadata": {},
   "outputs": [],
   "source": [
    "# # Concatenate the classic tables vertically\n",
    "# classic_18_19 = pd.concat([classic_18 , classic_19],ignore_index=True, join='inner')\n",
    "\n",
    "# # Concatenate the pop tables vertically\n",
    "# pop_18_19 = pd.concat([ pop_18 , pop_19],ignore_index=True)"
   ]
  },
  {
   "cell_type": "code",
   "execution_count": 9,
   "metadata": {},
   "outputs": [],
   "source": [
    "# # Concatenate the classic tables vertically\n",
    "# classic_18_19 = pd.concat([classic_18, classic_19], ignore_index=True)\n",
    "\n",
    "# # Concatenate the pop tables vertically\n",
    "# pop_18_19 = pd.concat([pop_18, pop_19], ignore_index=True)\n",
    "\n",
    "# # Merge classic_18_19 with pop_18_19\n",
    "# classic_pop = classic_18_19.merge(pop_18_19, on=\"tid\", how=\"inner\")\n",
    "\n",
    "# # Using .isin(), filter classic_18_19 rows where tid is in classic_pop\n",
    "# popular_classic = classic_18_19[classic_18_19[\"tid\"].isin(classic_pop[\"tid\"])]\n",
    "\n",
    "# # Print popular chart\n",
    "# print(popular_classic)"
   ]
  }
 ],
 "metadata": {
  "kernelspec": {
   "display_name": "env_py",
   "language": "python",
   "name": "python3"
  },
  "language_info": {
   "codemirror_mode": {
    "name": "ipython",
    "version": 3
   },
   "file_extension": ".py",
   "mimetype": "text/x-python",
   "name": "python",
   "nbconvert_exporter": "python",
   "pygments_lexer": "ipython3",
   "version": "3.8.11"
  }
 },
 "nbformat": 4,
 "nbformat_minor": 2
}
