{
 "cells": [
  {
   "cell_type": "markdown",
   "metadata": {},
   "source": [
    "# Correlation between GDP and S&P500"
   ]
  },
  {
   "cell_type": "markdown",
   "metadata": {},
   "source": [
    "In this exercise, you want to analyze stock returns from the S&P 500. You believe there may be a relationship between the returns of the S&P 500 and the GDP of the US. Merge the different datasets together to compute the correlation.\n",
    "\n",
    "Two tables have been provided for you, named `sp500`, and `gdp`. As always, `pandas` has been imported for you as `pd`."
   ]
  },
  {
   "cell_type": "code",
   "execution_count": 19,
   "metadata": {},
   "outputs": [
    {
     "name": "stdout",
     "output_type": "stream",
     "text": [
      "Index(['Country Name', 'Country Code', 'Indicator Name', 'Year', 'GDP'], dtype='object')\n",
      "Index(['Date', 'Returns'], dtype='object')\n",
      "Index(['Country Name', 'Country Code', 'Indicator Name', 'Year', 'Pop'], dtype='object')\n"
     ]
    }
   ],
   "source": [
    "import pandas as pd\n",
    "\n",
    "gdp = pd.read_csv(\"dataset/WorldBank_GDP.csv\")\n",
    "sp500 = pd.read_csv(\"dataset/S&P500.csv\")\n",
    "pop = pd.read_csv(\"dataset/WorldBank_POP.csv\")\n",
    "\n",
    "print(gdp.columns)\n",
    "print(sp500.columns)\n",
    "print(pop.columns)"
   ]
  },
  {
   "cell_type": "code",
   "execution_count": 11,
   "metadata": {},
   "outputs": [
    {
     "name": "stdout",
     "output_type": "stream",
     "text": [
      "     Country Name Country Code     Indicator Name  Year           GDP    Date  \\\n",
      "0           China          CHN  GDP (current US$)  2010  6.087160e+12  2010.0   \n",
      "1         Germany          DEU  GDP (current US$)  2010  3.417090e+12  2010.0   \n",
      "2           Japan          JPN  GDP (current US$)  2010  5.700100e+12  2010.0   \n",
      "3   United States          USA  GDP (current US$)  2010  1.499210e+13  2010.0   \n",
      "4           China          CHN  GDP (current US$)  2011  7.551500e+12  2011.0   \n",
      "5         Germany          DEU  GDP (current US$)  2011  3.757700e+12  2011.0   \n",
      "6           Japan          JPN  GDP (current US$)  2011  6.157460e+12  2011.0   \n",
      "7   United States          USA  GDP (current US$)  2011  1.554260e+13  2011.0   \n",
      "8           China          CHN  GDP (current US$)  2012  8.532230e+12  2012.0   \n",
      "9         Germany          DEU  GDP (current US$)  2012  3.543980e+12  2012.0   \n",
      "10          Japan          JPN  GDP (current US$)  2012  6.203210e+12  2012.0   \n",
      "11  United States          USA  GDP (current US$)  2012  1.619700e+13  2012.0   \n",
      "12          China          CHN  GDP (current US$)  2012  8.532230e+12  2012.0   \n",
      "13        Germany          DEU  GDP (current US$)  2012  3.543980e+12  2012.0   \n",
      "14          Japan          JPN  GDP (current US$)  2012  6.203210e+12  2012.0   \n",
      "15  United States          USA  GDP (current US$)  2012  1.619700e+13  2012.0   \n",
      "16          China          CHN  GDP (current US$)  2013  9.570410e+12  2013.0   \n",
      "17        Germany          DEU  GDP (current US$)  2013  3.752510e+12  2013.0   \n",
      "18          Japan          JPN  GDP (current US$)  2013  5.155720e+12  2013.0   \n",
      "19  United States          USA  GDP (current US$)  2013  1.678480e+13  2013.0   \n",
      "20          China          CHN  GDP (current US$)  2014  1.043850e+13  2014.0   \n",
      "21        Germany          DEU  GDP (current US$)  2014  3.898730e+12  2014.0   \n",
      "22          Japan          JPN  GDP (current US$)  2014  4.850410e+12  2014.0   \n",
      "23  United States          USA  GDP (current US$)  2014  1.752170e+13  2014.0   \n",
      "24          China          CHN  GDP (current US$)  2015  1.101550e+13  2015.0   \n",
      "25        Germany          DEU  GDP (current US$)  2015  3.381390e+12  2015.0   \n",
      "26          Japan          JPN  GDP (current US$)  2015  4.389480e+12  2015.0   \n",
      "27  United States          USA  GDP (current US$)  2015  1.821930e+13  2015.0   \n",
      "28          China          CHN  GDP (current US$)  2016  1.113790e+13  2016.0   \n",
      "29        Germany          DEU  GDP (current US$)  2016  3.495160e+12  2016.0   \n",
      "30          Japan          JPN  GDP (current US$)  2016  4.926670e+12  2016.0   \n",
      "31  United States          USA  GDP (current US$)  2016  1.870720e+13  2016.0   \n",
      "32          China          CHN  GDP (current US$)  2017  1.214350e+13  2017.0   \n",
      "33        Germany          DEU  GDP (current US$)  2017  3.693200e+12  2017.0   \n",
      "34          Japan          JPN  GDP (current US$)  2017  4.859950e+12  2017.0   \n",
      "35  United States          USA  GDP (current US$)  2017  1.948540e+13  2017.0   \n",
      "36          China          CHN  GDP (current US$)  2018  1.360820e+13     NaN   \n",
      "37        Germany          DEU  GDP (current US$)  2018  3.996760e+12     NaN   \n",
      "38          Japan          JPN  GDP (current US$)  2018  4.970920e+12     NaN   \n",
      "39  United States          USA  GDP (current US$)  2018  2.049410e+13     NaN   \n",
      "\n",
      "    Returns  \n",
      "0     12.78  \n",
      "1     12.78  \n",
      "2     12.78  \n",
      "3     12.78  \n",
      "4      0.00  \n",
      "5      0.00  \n",
      "6      0.00  \n",
      "7      0.00  \n",
      "8     13.41  \n",
      "9     13.41  \n",
      "10    13.41  \n",
      "11    13.41  \n",
      "12    13.41  \n",
      "13    13.41  \n",
      "14    13.41  \n",
      "15    13.41  \n",
      "16    29.60  \n",
      "17    29.60  \n",
      "18    29.60  \n",
      "19    29.60  \n",
      "20    11.39  \n",
      "21    11.39  \n",
      "22    11.39  \n",
      "23    11.39  \n",
      "24    -0.73  \n",
      "25    -0.73  \n",
      "26    -0.73  \n",
      "27    -0.73  \n",
      "28     9.54  \n",
      "29     9.54  \n",
      "30     9.54  \n",
      "31     9.54  \n",
      "32    19.42  \n",
      "33    19.42  \n",
      "34    19.42  \n",
      "35    19.42  \n",
      "36      NaN  \n",
      "37      NaN  \n",
      "38      NaN  \n",
      "39      NaN  \n"
     ]
    }
   ],
   "source": [
    "# Use merge_ordered() to merge gdp and sp500 on year and date\n",
    "gdp_sp500 = pd.merge_ordered(gdp, sp500, left_on='Year', right_on='Date', how='left')\n",
    "\n",
    "# Print gdp_sp500\n",
    "print(gdp_sp500)"
   ]
  },
  {
   "cell_type": "code",
   "execution_count": 13,
   "metadata": {},
   "outputs": [
    {
     "name": "stdout",
     "output_type": "stream",
     "text": [
      "     Country Name Country Code     Indicator Name  Year           GDP  Date  \\\n",
      "0           China          CHN  GDP (current US$)  2010  6.087160e+12  2010   \n",
      "1         Germany          DEU  GDP (current US$)  2010  3.417090e+12  2010   \n",
      "2           Japan          JPN  GDP (current US$)  2010  5.700100e+12  2010   \n",
      "3   United States          USA  GDP (current US$)  2010  1.499210e+13  2010   \n",
      "4           China          CHN  GDP (current US$)  2011  7.551500e+12  2011   \n",
      "5         Germany          DEU  GDP (current US$)  2011  3.757700e+12  2011   \n",
      "6           Japan          JPN  GDP (current US$)  2011  6.157460e+12  2011   \n",
      "7   United States          USA  GDP (current US$)  2011  1.554260e+13  2011   \n",
      "8           China          CHN  GDP (current US$)  2012  8.532230e+12  2012   \n",
      "9         Germany          DEU  GDP (current US$)  2012  3.543980e+12  2012   \n",
      "10          Japan          JPN  GDP (current US$)  2012  6.203210e+12  2012   \n",
      "11  United States          USA  GDP (current US$)  2012  1.619700e+13  2012   \n",
      "12          China          CHN  GDP (current US$)  2012  8.532230e+12  2012   \n",
      "13        Germany          DEU  GDP (current US$)  2012  3.543980e+12  2012   \n",
      "14          Japan          JPN  GDP (current US$)  2012  6.203210e+12  2012   \n",
      "15  United States          USA  GDP (current US$)  2012  1.619700e+13  2012   \n",
      "16          China          CHN  GDP (current US$)  2013  9.570410e+12  2013   \n",
      "17        Germany          DEU  GDP (current US$)  2013  3.752510e+12  2013   \n",
      "18          Japan          JPN  GDP (current US$)  2013  5.155720e+12  2013   \n",
      "19  United States          USA  GDP (current US$)  2013  1.678480e+13  2013   \n",
      "20          China          CHN  GDP (current US$)  2014  1.043850e+13  2014   \n",
      "21        Germany          DEU  GDP (current US$)  2014  3.898730e+12  2014   \n",
      "22          Japan          JPN  GDP (current US$)  2014  4.850410e+12  2014   \n",
      "23  United States          USA  GDP (current US$)  2014  1.752170e+13  2014   \n",
      "24          China          CHN  GDP (current US$)  2015  1.101550e+13  2015   \n",
      "25        Germany          DEU  GDP (current US$)  2015  3.381390e+12  2015   \n",
      "26          Japan          JPN  GDP (current US$)  2015  4.389480e+12  2015   \n",
      "27  United States          USA  GDP (current US$)  2015  1.821930e+13  2015   \n",
      "28          China          CHN  GDP (current US$)  2016  1.113790e+13  2016   \n",
      "29        Germany          DEU  GDP (current US$)  2016  3.495160e+12  2016   \n",
      "30          Japan          JPN  GDP (current US$)  2016  4.926670e+12  2016   \n",
      "31  United States          USA  GDP (current US$)  2016  1.870720e+13  2016   \n",
      "32          China          CHN  GDP (current US$)  2017  1.214350e+13  2017   \n",
      "33        Germany          DEU  GDP (current US$)  2017  3.693200e+12  2017   \n",
      "34          Japan          JPN  GDP (current US$)  2017  4.859950e+12  2017   \n",
      "35  United States          USA  GDP (current US$)  2017  1.948540e+13  2017   \n",
      "36          China          CHN  GDP (current US$)  2018  1.360820e+13  2017   \n",
      "37        Germany          DEU  GDP (current US$)  2018  3.996760e+12  2017   \n",
      "38          Japan          JPN  GDP (current US$)  2018  4.970920e+12  2017   \n",
      "39  United States          USA  GDP (current US$)  2018  2.049410e+13  2017   \n",
      "\n",
      "    Returns  \n",
      "0     12.78  \n",
      "1     12.78  \n",
      "2     12.78  \n",
      "3     12.78  \n",
      "4      0.00  \n",
      "5      0.00  \n",
      "6      0.00  \n",
      "7      0.00  \n",
      "8     13.41  \n",
      "9     13.41  \n",
      "10    13.41  \n",
      "11    13.41  \n",
      "12    13.41  \n",
      "13    13.41  \n",
      "14    13.41  \n",
      "15    13.41  \n",
      "16    29.60  \n",
      "17    29.60  \n",
      "18    29.60  \n",
      "19    29.60  \n",
      "20    11.39  \n",
      "21    11.39  \n",
      "22    11.39  \n",
      "23    11.39  \n",
      "24    -0.73  \n",
      "25    -0.73  \n",
      "26    -0.73  \n",
      "27    -0.73  \n",
      "28     9.54  \n",
      "29     9.54  \n",
      "30     9.54  \n",
      "31     9.54  \n",
      "32    19.42  \n",
      "33    19.42  \n",
      "34    19.42  \n",
      "35    19.42  \n",
      "36    19.42  \n",
      "37    19.42  \n",
      "38    19.42  \n",
      "39    19.42  \n"
     ]
    }
   ],
   "source": [
    "# Use merge_ordered() to merge gdp and sp500, interpolate missing value\n",
    "gdp_sp500 = pd.merge_ordered(gdp, sp500, left_on='Year', right_on='Date', how='left', fill_method='ffill')\n",
    "\n",
    "# Print gdp_sp500\n",
    "print (gdp_sp500)"
   ]
  },
  {
   "cell_type": "code",
   "execution_count": 15,
   "metadata": {},
   "outputs": [
    {
     "name": "stdout",
     "output_type": "stream",
     "text": [
      "              GDP   Returns\n",
      "GDP      1.000000  0.040669\n",
      "Returns  0.040669  1.000000\n"
     ]
    }
   ],
   "source": [
    "# Use merge_ordered() to merge gdp and sp500, interpolate missing value\n",
    "gdp_sp500 = pd.merge_ordered(gdp, sp500, left_on='Year', right_on='Date', \n",
    "                             how='left',  fill_method='ffill')\n",
    "\n",
    "# Subset the gdp and returns columns\n",
    "gdp_returns = gdp_sp500[['GDP' , 'Returns']]\n",
    "\n",
    "# Print gdp_returns correlation\n",
    "print (gdp_returns.corr())"
   ]
  },
  {
   "cell_type": "markdown",
   "metadata": {},
   "source": [
    "# Phillips curve using merge_ordered()"
   ]
  },
  {
   "cell_type": "markdown",
   "metadata": {},
   "source": [
    "There is an economic theory developed by A. W. Phillips which states that inflation and unemployment have an inverse relationship. The theory claims that with economic growth comes inflation, which in turn should lead to more jobs and less unemployment.\n",
    "\n",
    "You will take two tables of data from the U.S. Bureau of Labor Statistics, containing unemployment and inflation data over different periods, and create a Phillips curve. The tables have different frequencies. One table has a data entry every six months, while the other has a data entry every month. You will need to use the entries where you have data within both tables.\n",
    "\n",
    "The tables `unemployment` and `inflation` have been loaded for you."
   ]
  },
  {
   "cell_type": "code",
   "execution_count": 17,
   "metadata": {},
   "outputs": [],
   "source": [
    "# # Use merge_ordered() to merge inflation, unemployment with inner join\n",
    "# inflation_unemploy = pd.merge_ordered(inflation, unemployment, how = \"inner\", on='date')\n",
    "\n",
    "# # Print inflation_unemploy \n",
    "# print(inflation_unemploy)\n",
    "\n",
    "# # Plot a scatter plot of unemployment_rate vs cpi of inflation_unemploy\n",
    "# inflation_unemploy.plot(x= 'unemployment_rate', y= 'cpi',kind= 'scatter')\n",
    "# plt.show()"
   ]
  },
  {
   "cell_type": "markdown",
   "metadata": {},
   "source": [
    "# merge_ordered() caution, multiple columns"
   ]
  },
  {
   "cell_type": "markdown",
   "metadata": {},
   "source": [
    "When using merge_ordered() to merge on multiple columns, the order is important when you combine it with the forward fill feature. The function sorts the merge on columns in the order provided. In this exercise, we will merge GDP and population data from the World Bank for the Australia and Sweden, reversing the order of the merge on columns. The frequency of the series are different, the GDP values are quarterly, and the population is yearly. Use the forward fill feature to fill in the missing data. *Depending on the order provided, the fill forward will use unintended data to fill in the missing values*.\n",
    "\n",
    "The tables `gdp` and `pop` have been loaded."
   ]
  },
  {
   "cell_type": "code",
   "execution_count": 22,
   "metadata": {},
   "outputs": [
    {
     "name": "stdout",
     "output_type": "stream",
     "text": [
      "            Country Name Country Code_x   Indicator Name_x  Year  \\\n",
      "0            Afghanistan            NaN                NaN  2010   \n",
      "1                Albania            NaN                NaN  2010   \n",
      "2                Algeria            NaN                NaN  2010   \n",
      "3         American Samoa            NaN                NaN  2010   \n",
      "4                Andorra            NaN                NaN  2010   \n",
      "...                  ...            ...                ...   ...   \n",
      "2643  West Bank and Gaza            USA  GDP (current US$)  2018   \n",
      "2644               World            USA  GDP (current US$)  2018   \n",
      "2645         Yemen, Rep.            USA  GDP (current US$)  2018   \n",
      "2646              Zambia            USA  GDP (current US$)  2018   \n",
      "2647            Zimbabwe            USA  GDP (current US$)  2018   \n",
      "\n",
      "               GDP Country Code_y   Indicator Name_y           Pop  \n",
      "0              NaN            AFG  Population, total  2.918551e+07  \n",
      "1              NaN            ALB  Population, total  2.913021e+06  \n",
      "2              NaN            DZA  Population, total  3.597746e+07  \n",
      "3              NaN            ASM  Population, total  5.607900e+04  \n",
      "4              NaN            AND  Population, total  8.444900e+04  \n",
      "...            ...            ...                ...           ...  \n",
      "2643  2.049410e+13            PSE  Population, total  4.569087e+06  \n",
      "2644  2.049410e+13            WLD  Population, total  7.594270e+09  \n",
      "2645  2.049410e+13            YEM  Population, total  2.849869e+07  \n",
      "2646  2.049410e+13            ZMB  Population, total  1.735182e+07  \n",
      "2647  2.049410e+13            ZWE  Population, total  1.443902e+07  \n",
      "\n",
      "[2648 rows x 8 columns]\n"
     ]
    }
   ],
   "source": [
    "# Merge gdp and pop on date and country with fill and notice rows 2 and 3\n",
    "ctry_date = pd.merge_ordered(gdp , pop, on=['Year' , 'Country Name'],\n",
    "                             fill_method='ffill')\n",
    "\n",
    "# Print ctry_date\n",
    "print(ctry_date)"
   ]
  },
  {
   "cell_type": "code",
   "execution_count": 23,
   "metadata": {},
   "outputs": [
    {
     "name": "stdout",
     "output_type": "stream",
     "text": [
      "     Country Name Country Code_x   Indicator Name_x  Year           GDP  \\\n",
      "0     Afghanistan            NaN                NaN  2010           NaN   \n",
      "1     Afghanistan            NaN                NaN  2011           NaN   \n",
      "2     Afghanistan            NaN                NaN  2012           NaN   \n",
      "3     Afghanistan            NaN                NaN  2012           NaN   \n",
      "4     Afghanistan            NaN                NaN  2013           NaN   \n",
      "...           ...            ...                ...   ...           ...   \n",
      "2643     Zimbabwe            USA  GDP (current US$)  2014  2.049410e+13   \n",
      "2644     Zimbabwe            USA  GDP (current US$)  2015  2.049410e+13   \n",
      "2645     Zimbabwe            USA  GDP (current US$)  2016  2.049410e+13   \n",
      "2646     Zimbabwe            USA  GDP (current US$)  2017  2.049410e+13   \n",
      "2647     Zimbabwe            USA  GDP (current US$)  2018  2.049410e+13   \n",
      "\n",
      "     Country Code_y   Indicator Name_y         Pop  \n",
      "0               AFG  Population, total  29185507.0  \n",
      "1               AFG  Population, total  30117413.0  \n",
      "2               AFG  Population, total  31161376.0  \n",
      "3               AFG  Population, total  31161376.0  \n",
      "4               AFG  Population, total  32269589.0  \n",
      "...             ...                ...         ...  \n",
      "2643            ZWE  Population, total  13586681.0  \n",
      "2644            ZWE  Population, total  13814629.0  \n",
      "2645            ZWE  Population, total  14030390.0  \n",
      "2646            ZWE  Population, total  14236745.0  \n",
      "2647            ZWE  Population, total  14439018.0  \n",
      "\n",
      "[2648 rows x 8 columns]\n"
     ]
    }
   ],
   "source": [
    "# Merge gdp and pop on country and date with fill\n",
    "date_ctry = pd.merge_ordered(gdp , pop, on=['Country Name', 'Year'],\n",
    "                             fill_method='ffill')\n",
    "\n",
    "# Print date_ctry\n",
    "print(date_ctry)"
   ]
  },
  {
   "cell_type": "markdown",
   "metadata": {},
   "source": [
    "# Using merge_asof() to study stocks"
   ]
  },
  {
   "cell_type": "markdown",
   "metadata": {},
   "source": [
    "You have a feed of stock market prices that you record. You attempt to track the price every five minutes. Still, due to some network latency, the prices you record are roughly every 5 minutes. You pull your price logs for three banks, JP Morgan (JPM), Wells Fargo (WFC), and Bank Of America (BAC). You want to know how the price change of the two other banks compare to JP Morgan. Therefore, you will need to merge these three logs into one table. Afterward, you will use the `pandas` `.diff()` method to compute the price change over time. Finally, plot the price changes so you can review your analysis.\n",
    "\n",
    "The three log files have been loaded for you as tables named `jpm`, `wells`, and `bac`."
   ]
  },
  {
   "cell_type": "code",
   "execution_count": 24,
   "metadata": {},
   "outputs": [],
   "source": [
    "# # Use merge_asof() to merge jpm and wells\n",
    "# jpm_wells = pd.merge_asof(jpm, wells, on=\"date_time\", suffixes=('', '_wells'), direction= \"nearest\")\n",
    "\n",
    "\n",
    "# # Use merge_asof() to merge jpm_wells and bac\n",
    "# jpm_wells_bac = pd.merge_asof(jpm_wells, bac, on=\"date_time\", suffixes=('_jpm', '_bac'),direction= \"nearest\")\n",
    "\n",
    "\n",
    "# # Compute price diff\n",
    "# price_diffs = jpm_wells_bac.diff()\n",
    "\n",
    "# # Plot the price diff of the close of jpm, wells and bac only\n",
    "# price_diffs.plot(y=['close_jpm', 'close_wells', 'close_bac'])\n",
    "# plt.show()"
   ]
  },
  {
   "cell_type": "markdown",
   "metadata": {},
   "source": [
    "# Using merge_asof() to create dataset"
   ]
  },
  {
   "cell_type": "markdown",
   "metadata": {},
   "source": [
    "The `merge_asof()` function can be used to create datasets where you have a table of start and stop dates, and you want to use them to create a flag in another table. You have been given `gdp`, which is a table of quarterly GDP values of the US during the 1980s. Additionally, the table `recession` has been given to you. It holds the starting date of every US recession since 1980, and the date when the recession was declared to be over. Use `merge_asof()` to merge the tables and create a status flag if a quarter was during a recession. Finally, to check your work, plot the data in a bar chart.\n",
    "\n",
    "The tables `gdp` and `recession` have been loaded for you."
   ]
  },
  {
   "cell_type": "code",
   "execution_count": 25,
   "metadata": {},
   "outputs": [],
   "source": [
    "# # Merge gdp and recession on date using merge_asof()\n",
    "# gdp_recession = pd.merge_asof(gdp,recession, on=\"date\" )\n",
    "\n",
    "# # Create a list based on the row value of gdp_recession['econ_status']\n",
    "# is_recession = ['r' if s=='recession' else 'g' for s in gdp_recession['econ_status']]\n",
    "\n",
    "# # Plot a bar chart of gdp_recession\n",
    "# gdp_recession.plot(kind='bar', y='gdp', x='date', color=is_recession, rot=90)\n",
    "# plt.show()"
   ]
  },
  {
   "cell_type": "markdown",
   "metadata": {},
   "source": [
    "# merge_asof() and merge_ordered() differences"
   ]
  },
  {
   "cell_type": "markdown",
   "metadata": {},
   "source": [
    "The `merge_asof()` and `merge_ordered()` functions are similar in the type of merge they perform and the input arguments they use. In this exercise, think about how the functions are different."
   ]
  },
  {
   "cell_type": "markdown",
   "metadata": {},
   "source": [
    "<center><img src=\"images/04.03.png\"  style=\"width: 400px, height: 300px;\"/></center>\n"
   ]
  },
  {
   "cell_type": "markdown",
   "metadata": {},
   "source": [
    "# Explore financials with .query()"
   ]
  },
  {
   "cell_type": "markdown",
   "metadata": {},
   "source": [
    "You have been given a table of financial data from some popular social network companies called `social_fin`. All of the values are in thousands of US dollars.\n",
    "\n",
    "Use the `.query()` method and the IPython shell to explore `social_fin` and select the True statement."
   ]
  },
  {
   "cell_type": "code",
   "execution_count": 26,
   "metadata": {},
   "outputs": [],
   "source": [
    "# social_fin.query('value < 0 and financial == \"net_income\"')"
   ]
  },
  {
   "cell_type": "markdown",
   "metadata": {},
   "source": [
    "# Subsetting rows with .query()"
   ]
  },
  {
   "cell_type": "markdown",
   "metadata": {},
   "source": [
    "In this exercise, you will revisit GDP and population data for Australia and Sweden from the World Bank and expand on it using the `.query()` method. You'll merge the two tables and compute the GDP per capita. Afterwards, you'll use the `.query()` method to sub-select the rows and create a plot. Recall that you will need to merge on multiple columns in the proper order.\n",
    "\n",
    "The tables `gdp` and `pop` have been loaded for you."
   ]
  },
  {
   "cell_type": "code",
   "execution_count": 28,
   "metadata": {},
   "outputs": [
    {
     "name": "stdout",
     "output_type": "stream",
     "text": [
      "  Country Name Country Code_x Indicator Name_x  Year  GDP Country Code_y  \\\n",
      "0  Afghanistan            NaN              NaN  2010  NaN            AFG   \n",
      "1  Afghanistan            NaN              NaN  2011  NaN            AFG   \n",
      "2  Afghanistan            NaN              NaN  2012  NaN            AFG   \n",
      "3  Afghanistan            NaN              NaN  2012  NaN            AFG   \n",
      "4  Afghanistan            NaN              NaN  2013  NaN            AFG   \n",
      "\n",
      "    Indicator Name_y         Pop  \n",
      "0  Population, total  29185507.0  \n",
      "1  Population, total  30117413.0  \n",
      "2  Population, total  31161376.0  \n",
      "3  Population, total  31161376.0  \n",
      "4  Population, total  32269589.0  \n"
     ]
    }
   ],
   "source": [
    "# Merge gdp and pop on date and country with fill\n",
    "gdp_pop = pd.merge_ordered(gdp, pop, on=['Country Name', 'Year'], fill_method= 'ffill')\n",
    "\n",
    "print(gdp_pop[:5])"
   ]
  },
  {
   "cell_type": "code",
   "execution_count": 47,
   "metadata": {},
   "outputs": [
    {
     "name": "stdout",
     "output_type": "stream",
     "text": [
      "    Country Name Country Code_x Indicator Name_x  Year  GDP Country Code_y  \\\n",
      "110    Australia            NaN              NaN  2010  NaN            AUS   \n",
      "111    Australia            NaN              NaN  2011  NaN            AUS   \n",
      "112    Australia            NaN              NaN  2012  NaN            AUS   \n",
      "113    Australia            NaN              NaN  2012  NaN            AUS   \n",
      "114    Australia            NaN              NaN  2013  NaN            AUS   \n",
      "\n",
      "      Indicator Name_y         Pop  gdp_per_capita  \n",
      "110  Population, total  22031750.0             NaN  \n",
      "111  Population, total  22340024.0             NaN  \n",
      "112  Population, total  22733465.0             NaN  \n",
      "113  Population, total  22733465.0             NaN  \n",
      "114  Population, total  23128129.0             NaN  \n"
     ]
    }
   ],
   "source": [
    "# Add a column named gdp_per_capita to gdp_pop that divides the gdp by pop\n",
    "gdp_pop['gdp_per_capita'] = gdp_pop['GDP'] / gdp_pop['Pop']\n",
    "gdp_pop = gdp_pop[(gdp_pop[\"Country Name\"]==\"Australia\") | (gdp_pop[\"Country Name\"]==\"Sweden\") ]\n",
    "print(gdp_pop[:5])\n"
   ]
  },
  {
   "cell_type": "code",
   "execution_count": 48,
   "metadata": {},
   "outputs": [
    {
     "data": {
      "text/html": [
       "<div>\n",
       "<style scoped>\n",
       "    .dataframe tbody tr th:only-of-type {\n",
       "        vertical-align: middle;\n",
       "    }\n",
       "\n",
       "    .dataframe tbody tr th {\n",
       "        vertical-align: top;\n",
       "    }\n",
       "\n",
       "    .dataframe thead th {\n",
       "        text-align: right;\n",
       "    }\n",
       "</style>\n",
       "<table border=\"1\" class=\"dataframe\">\n",
       "  <thead>\n",
       "    <tr style=\"text-align: right;\">\n",
       "      <th>Country Name</th>\n",
       "      <th>Sweden</th>\n",
       "    </tr>\n",
       "    <tr>\n",
       "      <th>Year</th>\n",
       "      <th></th>\n",
       "    </tr>\n",
       "  </thead>\n",
       "  <tbody>\n",
       "    <tr>\n",
       "      <th>2010</th>\n",
       "      <td>530054.725219</td>\n",
       "    </tr>\n",
       "    <tr>\n",
       "      <th>2011</th>\n",
       "      <td>526067.091513</td>\n",
       "    </tr>\n",
       "    <tr>\n",
       "      <th>2012</th>\n",
       "      <td>522189.799455</td>\n",
       "    </tr>\n",
       "    <tr>\n",
       "      <th>2013</th>\n",
       "      <td>517783.724997</td>\n",
       "    </tr>\n",
       "    <tr>\n",
       "      <th>2014</th>\n",
       "      <td>512671.576539</td>\n",
       "    </tr>\n",
       "  </tbody>\n",
       "</table>\n",
       "</div>"
      ],
      "text/plain": [
       "Country Name         Sweden\n",
       "Year                       \n",
       "2010          530054.725219\n",
       "2011          526067.091513\n",
       "2012          522189.799455\n",
       "2013          517783.724997\n",
       "2014          512671.576539"
      ]
     },
     "execution_count": 48,
     "metadata": {},
     "output_type": "execute_result"
    }
   ],
   "source": [
    "import matplotlib.pyplot as plt\n",
    "# Pivot table of gdp_per_capita, where index is date and columns is country\n",
    "gdp_pivot = gdp_pop.pivot_table('gdp_per_capita', index='Year', columns='Country Name')\n",
    "\n",
    "gdp_pivot[:5]"
   ]
  },
  {
   "cell_type": "code",
   "execution_count": 52,
   "metadata": {},
   "outputs": [
    {
     "data": {
      "image/png": "[encoded data removed]",
      "text/plain": [
       "<Figure size 432x288 with 1 Axes>"
      ]
     },
     "metadata": {
      "needs_background": "light"
     },
     "output_type": "display_data"
    }
   ],
   "source": [
    "# Select dates equal to or greater than 1991-01-01\n",
    "# recent_gdp_pop = gdp_pivot.query('Year >=  \"1991\"')\n",
    "recent_gdp_pop = gdp_pivot.loc[1991:,]\n",
    "\n",
    "# Plot recent_gdp_pop\n",
    "recent_gdp_pop.plot(rot=90)\n",
    "plt.show()"
   ]
  },
  {
   "cell_type": "code",
   "execution_count": 53,
   "metadata": {},
   "outputs": [],
   "source": [
    "# # Merge gdp and pop on date and country with fill\n",
    "# gdp_pop = pd.merge_ordered(gdp, pop, on=['country','date'], fill_method='ffill')\n",
    "\n",
    "# # Add a column named gdp_per_capita to gdp_pop that divides the gdp by pop\n",
    "# gdp_pop['gdp_per_capita'] = gdp_pop['gdp'] / gdp_pop['pop']\n",
    "\n",
    "# # Pivot data so gdp_per_capita, where index is date and columns is country\n",
    "# gdp_pivot = gdp_pop.pivot_table('gdp_per_capita', 'date', 'country')\n",
    "\n",
    "# # Select dates equal to or greater than 1991-01-01\n",
    "# recent_gdp_pop = gdp_pivot.query('date >=  \"1991-01-01\"')\n",
    "\n",
    "# # Plot recent_gdp_pop\n",
    "# recent_gdp_pop.plot(rot=90)\n",
    "# plt.show()"
   ]
  },
  {
   "cell_type": "markdown",
   "metadata": {},
   "source": [
    "# Select the right .melt() arguments"
   ]
  },
  {
   "cell_type": "markdown",
   "metadata": {},
   "source": [
    "You are given a table named `inflation`. \n",
    "The dataframe is :\n",
    "```\n",
    "  country    indicator  2017  2018  2019\n",
    "0  Brazil  Inflation %  3.45  3.66  3.73\n",
    "1  Canada  Inflation %  1.60  2.27  1.95\n",
    "2  France  Inflation %  1.03  1.85  1.11\n",
    "3   India  Inflation %  2.49  4.86  7.66\n",
    "```\n",
    "\n",
    "Chose the option to get the same output as the table below.\n",
    "```\n",
    "   country    indicator  year  annual\n",
    "0   Brazil  Inflation %  2017    3.45\n",
    "1   Canada  Inflation %  2017    1.60\n",
    "2   France  Inflation %  2017    1.03\n",
    "3    India  Inflation %  2017    2.49\n",
    "4   Brazil  Inflation %  2018    3.66\n",
    "5   Canada  Inflation %  2018    2.27\n",
    "6   France  Inflation %  2018    1.85\n",
    "7    India  Inflation %  2018    4.86\n",
    "8   Brazil  Inflation %  2019    3.73\n",
    "9   Canada  Inflation %  2019    1.95\n",
    "10  France  Inflation %  2019    1.11\n",
    "11   India  Inflation %  2019    7.66\n",
    "```\n"
   ]
  },
  {
   "cell_type": "code",
   "execution_count": 54,
   "metadata": {},
   "outputs": [],
   "source": [
    "# inflation.melt(id_vars=['country','indicator'],var_name = 'year', value_name = 'annual')"
   ]
  },
  {
   "cell_type": "markdown",
   "metadata": {},
   "source": [
    "# Using .melt() to reshape government data"
   ]
  },
  {
   "cell_type": "markdown",
   "metadata": {},
   "source": [
    "The US Bureau of Labor Statistics (BLS) often provides data series in an easy-to-read format - it has a separate column for each month, and each year is a different row. Unfortunately, this wide format makes it difficult to plot this information over time. In this exercise, you will reshape a table of US unemployment rate data from the BLS into a form you can plot using `.melt()`. You will need to add a date column to the table and sort by it to plot the data correctly.\n",
    "\n",
    "The unemployment rate data has been loaded for you in a table called `ur_wide`. You are encouraged to view the table in the IPython shell before beginning the exercise."
   ]
  },
  {
   "cell_type": "code",
   "execution_count": 55,
   "metadata": {},
   "outputs": [],
   "source": [
    "# # unpivot everything besides the year column\n",
    "# ur_tall =  ur_wide.melt(id_vars=['year'], var_name='month', value_name='unempl_rate')\n",
    "\n",
    "\n",
    "# # Create a date column using the month and year columns of ur_tall\n",
    "# ur_tall['date'] = pd.to_datetime(ur_tall['year'] + '-' + ur_tall['month'])\n",
    "\n",
    "# # Sort ur_tall by date in ascending order\n",
    "# ur_sorted = ur_tall.sort_values('date')\n",
    "\n",
    "# # Plot the unempl_rate by date\n",
    "# ur_sorted.plot(x='date', y='unempl_rate')\n",
    "# plt.show()"
   ]
  },
  {
   "cell_type": "markdown",
   "metadata": {},
   "source": [
    "# Using .melt() for stocks vs bond performance"
   ]
  },
  {
   "cell_type": "markdown",
   "metadata": {},
   "source": [
    "It is widespread knowledge that the price of bonds is inversely related to the price of stocks. In this last exercise, you'll review many of the topics in this chapter to confirm this. You have been given a table of percent change of the US 10-year treasury bond price. It is in a wide format where there is a separate column for each year. You will need to use the `.melt()` method to reshape this table.\n",
    "\n",
    "Additionally, you will use the `.query()` method to filter out unneeded data. You will merge this table with a table of the percent change of the Dow Jones Industrial stock index price. Finally, you will plot data.\n",
    "\n",
    "The tables `ten_yr` and `dji` have been loaded for you."
   ]
  },
  {
   "cell_type": "code",
   "execution_count": 56,
   "metadata": {},
   "outputs": [],
   "source": [
    "# # Use melt on ten_yr, unpivot everything besides the metric column\n",
    "# bond_perc = ten_yr.melt(id_vars=['metric'], var_name='date', value_name='close')\n",
    "\n",
    "# # Use query on bond_perc to select only the rows where metric=close\n",
    "# bond_perc_close = bond_perc.query('metric ==  \"close\"')\n",
    "\n",
    "# # Merge (ordered) dji and bond_perc_close on date with an inner join\n",
    "# dow_bond = pd.merge_ordered(dji, bond_perc_close, on=\"date\", how=\"inner\", suffixes= ('_dow', '_bond'))\n",
    "\n",
    "\n",
    "# # Plot only the close_dow and close_bond columns\n",
    "# dow_bond.plot(y=['close_dow' , 'close_bond'], x='date', rot=90)\n",
    "# plt.show()"
   ]
  }
 ],
 "metadata": {
  "kernelspec": {
   "display_name": "env_py",
   "language": "python",
   "name": "python3"
  },
  "language_info": {
   "codemirror_mode": {
    "name": "ipython",
    "version": 3
   },
   "file_extension": ".py",
   "mimetype": "text/x-python",
   "name": "python",
   "nbconvert_exporter": "python",
   "pygments_lexer": "ipython3",
   "version": "3.8.11"
  }
 },
 "nbformat": 4,
 "nbformat_minor": 2
}
