{
 "cells": [
  {
   "cell_type": "markdown",
   "metadata": {},
   "source": [
    "# Chapter 1"
   ]
  },
  {
   "cell_type": "markdown",
   "metadata": {},
   "source": [
    "- Unsupervised learning : Machine learning on unlabeled data\n",
    "- pure pattern discovery with unguided learning\n",
    "- dimension = number of features or columns in dataset\n",
    "- Algorithms :\n",
    "    - clustering: normally what a scatterplot shows\n",
    "        - k-means : \n",
    "            - Number of groups formed by samples (rows in dataset)\n",
    "            - calculates the mean of each cluster as centroid\n",
    "            - assign nearest centroid to each sample\n",
    "            - Inertia : how far the samples are from centroids. good clustering has low inertia\n",
    "    - dimension reduction"
   ]
  },
  {
   "cell_type": "markdown",
   "metadata": {},
   "source": [
    "### K-Means"
   ]
  },
  {
   "cell_type": "markdown",
   "metadata": {},
   "source": [
    "```\n",
    "# Scaling, normalization or standardization\n",
    "from sklearn.preprocessing import StandardScaler\n",
    "scaler = StandardScaler()\n",
    "scaler.fit(samples)\n",
    "StandardScaler(copy=True, with_mean=True, with_std=True)\n",
    "samples_scaled = scaler.transform(samples)\n",
    "\n",
    "from sklearn.cluster import KMeans\n",
    "model = KMeans(init=\"random\", n_clusters=3, n_init=5, max_iter=100)\n",
    "model.fit(samples)\n",
    "labels = model.predict(samples)\n",
    "#### labels = model.fit_predict(samples) ### Alternative\n",
    "# See Distribution of samples in a cluster (how well the model performed)\n",
    "ct = pd.crosstab(df['predicted_labels'], df['target'])\n",
    "print(ct)\n",
    "# Cluster quality, Inertia : the spread of clusters\n",
    "print(model.inertia_)\n",
    "# Locations of the centroids (You can plot with scatterplot)\n",
    "centroids = model.cluster_centers_\n",
    "# Iteration of convergence\n",
    "print(model.n_iter_)\n",
    "# Visualize for best cluster : Choose elbow as the optimized k\n",
    "plt.plot(k_values, inertia_values, marker='o')\n",
    "plt.show()\n",
    "\n",
    "### k-means withPipeline\n",
    "from sklearn.preprocessing import StandardScaler\n",
    "from sklearn.cluster import KMeans\n",
    "from sklearn.pipeline import make_pipeline\n",
    "scaler = StandardScaler()\n",
    "kmeans = KMeans(n_clusters=3)\n",
    "pipeline = make_pipeline(scaler, kmeans)\n",
    "pipeline.fit(samples)\n",
    "labels = pipeline.predict(samples)\n",
    "```"
   ]
  }
 ],
 "metadata": {
  "language_info": {
   "name": "python"
  }
 },
 "nbformat": 4,
 "nbformat_minor": 2
}
