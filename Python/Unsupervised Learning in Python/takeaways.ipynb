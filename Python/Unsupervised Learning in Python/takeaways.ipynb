{
 "cells": [
  {
   "cell_type": "markdown",
   "metadata": {},
   "source": [
    "# Chapter 1"
   ]
  },
  {
   "cell_type": "markdown",
   "metadata": {},
   "source": [
    "- Unsupervised learning : Machine learning on unlabeled data\n",
    "- pure pattern discovery with unguided learning\n",
    "- dimension = number of features or columns in dataset\n",
    "- Algorithms :\n",
    "    - clustering: Organize data into similar groups\n",
    "        - k-means : \n",
    "            - Number of groups formed by samples (rows in dataset)\n",
    "            - calculates the mean of each cluster as centroid\n",
    "            - assign nearest centroid to each sample\n",
    "            - Inertia : how far the samples are from centroids. good clustering has low inertia\n",
    "        - Scatterplot visualization\n",
    "        - t-SNE : \n",
    "            - maps data from high dimension to 2 dimensional space for visualization\n",
    "            - A black box : Does not provide valid interpretation. Only gives insight about cluster numbers.\n",
    "            - Produces different result on different runs\n",
    "        - Hierarchical clustering : \n",
    "            - split into tree of subgroups\n",
    "            - All leaf groups are in different cluster\n",
    "            - the closest 2 clusters merge in each step based on distance (linkage condition)\n",
    "                - for n samples, n-1 steps are taken to complete the whole merge process\n",
    "                - complete linkage = when distance between clusters is maximum distance between samples\n",
    "                - single linkage = when distance between clusters is minimum distance between samples\n",
    "            - At final step, there is only one cluster (\"agglomerative\")\n",
    "            - The reverse way of doing the same thing by splitting : Divisive clustering\n",
    "    - Dimension reduction : Reduce redundant features in data in order to produce simpler model\n",
    "    - Market basket analysis: Find items that are frequently bought together (eg: pencil and eraser) \n",
    "    - Anomaly detection : When data appears outside of normal range (outlier). eg: Suspicious Credit Card Transactions\n",
    "    - A list here: https://mlforall.files.wordpress.com/2019/09/machinelearningalgorithms.png\n",
    "    - and here: https://www.theinsaneapp.com/wp-content/uploads/2022/02/Machine-Learning-Algorithms-PDF.png"
   ]
  },
  {
   "cell_type": "markdown",
   "metadata": {},
   "source": [
    "### K-Means"
   ]
  },
  {
   "cell_type": "markdown",
   "metadata": {},
   "source": [
    "```\n",
    "# Scaling, normalization or standardization\n",
    "from sklearn.preprocessing import StandardScaler\n",
    "scaler = StandardScaler()\n",
    "samples = df.drop(\"target\",axis=1)\n",
    "scaler.fit(samples)\n",
    "StandardScaler(copy=True, with_mean=True, with_std=True)\n",
    "samples_scaled = scaler.transform(samples)\n",
    "\n",
    "from sklearn.cluster import KMeans\n",
    "model = KMeans(init=\"random\", n_clusters=3, n_init=5, max_iter=100)\n",
    "model.fit(samples)\n",
    "labels = model.predict(samples)\n",
    "#### labels = model.fit_predict(samples) ### Alternative\n",
    "# See Distribution of samples in a cluster (how well the model performed)\n",
    "ct = pd.crosstab(df['predicted_labels'], df['target'])\n",
    "print(ct)\n",
    "# Cluster quality, Inertia : the spread of clusters\n",
    "print(model.inertia_)\n",
    "# Locations of the centroids (You can plot with scatterplot)\n",
    "centroids = model.cluster_centers_\n",
    "# Iteration of convergence\n",
    "print(model.n_iter_)\n",
    "# Visualize for best cluster : Choose elbow as the optimized k\n",
    "plt.plot(k_values, inertia_values, marker='o')\n",
    "plt.show()\n",
    "\n",
    "### k-means withPipeline\n",
    "from sklearn.preprocessing import StandardScaler\n",
    "from sklearn.cluster import KMeans\n",
    "from sklearn.pipeline import make_pipeline\n",
    "scaler = StandardScaler()\n",
    "kmeans = KMeans(n_clusters=3)\n",
    "pipeline = make_pipeline(scaler, kmeans)\n",
    "pipeline.fit(samples)\n",
    "labels = pipeline.predict(samples)\n",
    "```"
   ]
  },
  {
   "cell_type": "markdown",
   "metadata": {},
   "source": [
    "# Chapter 2"
   ]
  },
  {
   "cell_type": "markdown",
   "metadata": {},
   "source": [
    "### Hierarchical clustering"
   ]
  },
  {
   "cell_type": "markdown",
   "metadata": {},
   "source": [
    "```\n",
    "import matplotlib.pyplot as plt\n",
    "from scipy.cluster.hierarchy import linkage, dendrogram\n",
    "sample = df.drop(\"target\", axis=1)\n",
    "mergings = linkage(sample.values, method='complete')\n",
    "# Visualize\n",
    "dendrogram(mergings, labels=df[\"target].values, leaf_rotation=90, leaf_font_size=6)\n",
    "plt.show()\n",
    "from scipy.cluster.hierarchy import fcluster\n",
    "# Take only specified portion of cluster based on distance\n",
    "labels = fcluster(mergings, 15, criterion='distance')\n",
    "print(labels)\n",
    "df['predicted_labels'] = labels\n",
    "# See distribution of samples \n",
    "ct = pd.crosstab(df['predicted_labels'], df['target'])\n",
    "print(ct)\n",
    "\n",
    "```"
   ]
  },
  {
   "cell_type": "markdown",
   "metadata": {},
   "source": [
    "### t-SNE"
   ]
  },
  {
   "cell_type": "markdown",
   "metadata": {},
   "source": [
    "```\n",
    "import matplotlib.pyplot as plt\n",
    "from sklearn.manifold import TSNE\n",
    "samples = df.drop(\"target\", axis = 1)\n",
    "# Tune learning_rate between 50 to 200\n",
    "model = TSNE(learning_rate=100)\n",
    "# NOTE : There is no fit or transform stand-alone method. They are done together\n",
    "transformed = model.fit_transform(samples.values)\n",
    "# Visualize the clusters\n",
    "xs = transformed[:,0]\n",
    "ys = transformed[:,1]\n",
    "plt.scatter(xs, ys, c=target_array)\n",
    "plt.show()\n",
    "```"
   ]
  }
 ],
 "metadata": {
  "language_info": {
   "name": "python"
  }
 },
 "nbformat": 4,
 "nbformat_minor": 2
}
