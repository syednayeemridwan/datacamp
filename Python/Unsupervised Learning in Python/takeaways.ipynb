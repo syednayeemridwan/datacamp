{
 "cells": [
  {
   "cell_type": "markdown",
   "metadata": {},
   "source": [
    "# Chapter 1"
   ]
  },
  {
   "cell_type": "markdown",
   "metadata": {},
   "source": [
    "- Unsupervised learning : Machine learning on unlabeled data\n",
    "- pure pattern discovery with unguided learning\n",
    "- dimension = number of features or columns in dataset\n",
    "- Algorithms :\n",
    "    - clustering: Organize data into similar groups\n",
    "        - k-means : \n",
    "            - Number of groups formed by samples (rows in dataset)\n",
    "            - calculates the mean of each cluster as centroid\n",
    "            - assign nearest centroid to each sample\n",
    "            - Inertia : how far the samples are from centroids. good clustering has low inertia\n",
    "        - Scatterplot visualization\n",
    "        - t-SNE : \n",
    "            - maps data from high dimension to 2 dimensional space for visualization\n",
    "            - A black box : Does not provide valid interpretation. Only gives insight about cluster numbers.\n",
    "            - Produces different result on different runs\n",
    "        - Hierarchical clustering : \n",
    "            - split into tree of subgroups\n",
    "            - All leaf groups are in different cluster\n",
    "            - the closest 2 clusters merge in each step based on distance (linkage condition)\n",
    "                - for n samples, n-1 steps are taken to complete the whole merge process\n",
    "                - complete linkage = when distance between clusters is maximum distance between samples\n",
    "                - single linkage = when distance between clusters is minimum distance between samples\n",
    "            - At final step, there is only one cluster (\"agglomerative\")\n",
    "            - The reverse way of doing the same thing by splitting : Divisive clustering\n",
    "    - Dimension reduction : Reduce redundant features in data in order to produce simpler model\n",
    "        - Identifies less informative features as noisy features\n",
    "        - Pattern Information achieved in a compressed form\n",
    "        - PCA:\n",
    "            - Step 1 decorrelation : \n",
    "                - principal components = the direction or axis where the sample varies the most\n",
    "                - rotates data so that data aligns with axis with respect to principal components\n",
    "                - the mean becomes 0 \n",
    "                - no data loss\n",
    "                - due to rotation, any correlated features become decorrelated\n",
    "            - Step 2  dimension reduction :\n",
    "                - Intrinsic dimension = number of features needed to approximate the dataset\n",
    "        - TruncatedSVD : PCA alternative that works on sparse dataset where most entries are 0. (eg : \"tf-idf\")\n",
    "- Market basket analysis: Find items that are frequently bought together (eg: pencil and eraser) \n",
    "- Anomaly detection : When data appears outside of normal range (outlier). eg: Suspicious Credit Card Transactions\n",
    "- A list here: https://mlforall.files.wordpress.com/2019/09/machinelearningalgorithms.png\n",
    "- and here: https://www.theinsaneapp.com/wp-content/uploads/2022/02/Machine-Learning-Algorithms-PDF.png"
   ]
  },
  {
   "cell_type": "markdown",
   "metadata": {},
   "source": [
    "### K-Means"
   ]
  },
  {
   "cell_type": "markdown",
   "metadata": {},
   "source": [
    "```\n",
    "# Scaling, normalization or standardization\n",
    "from sklearn.preprocessing import StandardScaler\n",
    "scaler = StandardScaler()\n",
    "samples = df.drop(\"target\",axis=1)\n",
    "scaler.fit(samples)\n",
    "StandardScaler(copy=True, with_mean=True, with_std=True)\n",
    "samples_scaled = scaler.transform(samples)\n",
    "\n",
    "from sklearn.cluster import KMeans\n",
    "model = KMeans(init=\"random\", n_clusters=3, n_init=5, max_iter=100)\n",
    "model.fit(samples)\n",
    "labels = model.predict(samples)\n",
    "#### labels = model.fit_predict(samples) ### Alternative\n",
    "# See Distribution of samples in a cluster (how well the model performed)\n",
    "ct = pd.crosstab(df['predicted_labels'], df['target'])\n",
    "print(ct)\n",
    "# Cluster quality, Inertia : the spread of clusters\n",
    "print(model.inertia_)\n",
    "# Locations of the centroids (You can plot with scatterplot)\n",
    "centroids = model.cluster_centers_\n",
    "# Iteration of convergence\n",
    "print(model.n_iter_)\n",
    "# Visualize for best cluster : Choose elbow as the optimized k\n",
    "plt.plot(k_values, inertia_values, marker='o')\n",
    "plt.show()\n",
    "\n",
    "### k-means withPipeline\n",
    "from sklearn.preprocessing import StandardScaler\n",
    "from sklearn.cluster import KMeans\n",
    "from sklearn.pipeline import make_pipeline\n",
    "scaler = StandardScaler()\n",
    "kmeans = KMeans(n_clusters=3)\n",
    "pipeline = make_pipeline(scaler, kmeans)\n",
    "pipeline.fit(samples)\n",
    "labels = pipeline.predict(samples)\n",
    "```"
   ]
  },
  {
   "cell_type": "markdown",
   "metadata": {},
   "source": [
    "# Chapter 2"
   ]
  },
  {
   "cell_type": "markdown",
   "metadata": {},
   "source": [
    "### Hierarchical clustering"
   ]
  },
  {
   "cell_type": "markdown",
   "metadata": {},
   "source": [
    "```\n",
    "import matplotlib.pyplot as plt\n",
    "from scipy.cluster.hierarchy import linkage, dendrogram\n",
    "sample = df.drop(\"target\", axis=1)\n",
    "mergings = linkage(sample.values, method='complete')\n",
    "# Visualize\n",
    "dendrogram(mergings, labels=df[\"target].values, leaf_rotation=90, leaf_font_size=6)\n",
    "plt.show()\n",
    "from scipy.cluster.hierarchy import fcluster\n",
    "# Take only specified portion of cluster based on distance\n",
    "labels = fcluster(mergings, 15, criterion='distance')\n",
    "print(labels)\n",
    "df['predicted_labels'] = labels\n",
    "# See distribution of samples \n",
    "ct = pd.crosstab(df['predicted_labels'], df['target'])\n",
    "print(ct)\n",
    "\n",
    "```"
   ]
  },
  {
   "cell_type": "markdown",
   "metadata": {},
   "source": [
    "### t-SNE"
   ]
  },
  {
   "cell_type": "markdown",
   "metadata": {},
   "source": [
    "```\n",
    "import matplotlib.pyplot as plt\n",
    "from sklearn.manifold import TSNE\n",
    "samples = df.drop(\"target\", axis = 1)\n",
    "# Tune learning_rate between 50 to 200\n",
    "model = TSNE(learning_rate=100)\n",
    "# NOTE : There is no fit or transform stand-alone method. They are done together\n",
    "transformed = model.fit_transform(samples.values)\n",
    "# Visualize the clusters\n",
    "xs = transformed[:,0]\n",
    "ys = transformed[:,1]\n",
    "plt.scatter(xs, ys, c=target_array)\n",
    "plt.show()\n",
    "```"
   ]
  },
  {
   "cell_type": "markdown",
   "metadata": {},
   "source": [
    "# Chapter 3"
   ]
  },
  {
   "cell_type": "markdown",
   "metadata": {},
   "source": [
    "### PCA"
   ]
  },
  {
   "cell_type": "markdown",
   "metadata": {},
   "source": [
    "```\n",
    "from sklearn.decomposition import PCA\n",
    "samples = df.drop(\"target\", axis = 1).values\n",
    "model = PCA(n_components=2)\n",
    "model.fit(samples)\n",
    "# Get the mean of the grain samples: mean\n",
    "mean = model.mean_\n",
    "# Get the first principal component: first_pc\n",
    "first_pc = model.components_[0,:]\n",
    "# Visualize direction of the component\n",
    "plt.arrow(mean[0] , mean[1], first_pc[0], first_pc[1], color='red', width=0.01)\n",
    "plt.axis('equal')\n",
    "plt.show()\n",
    "\n",
    "transformed = model.transform(samples)\n",
    "# Principal Components\n",
    "principal_components = model.components_\n",
    "# Visualize principal components contribution\n",
    "features = range(model.n_components_)\n",
    "plt.bar(features, model.explained_variance_)\n",
    "plt.show()\n",
    "# Visualize how the dataset looks after transformation\n",
    "xs = transformed[:,0]\n",
    "ys = transformed[:,1]\n",
    "plt.scatter(xs, ys, c=df[\"target\"].values)\n",
    "plt.show()\n",
    "# Contribution of Original Features to Principal Components\n",
    "for i, pc in enumerate(principal_components):\n",
    "    plt.bar(list(df.columns), np.abs(pc), label=f'PC {i + 1}', alpha=0.7)\n",
    "plt.xlabel('Original Features')\n",
    "plt.ylabel('Absolute Loadings')\n",
    "plt.legend()\n",
    "plt.show()\n",
    "\n",
    "\n",
    "#### TruncatedSVD : PCA on sparse dataset (most entries are zero, remembers entries by saving columns that have values to save space)\n",
    "from sklearn.decomposition import TruncatedSVD\n",
    "# Apply TruncatedSVD\n",
    "svd_model = TruncatedSVD(n_components=2)\n",
    "transformed_svd = svd_model.fit_transform(samples.values) # samples is scipy.sparse.csr_matrix\n",
    "# Visualize how the dataset looks after transformation\n",
    "xs_svd = transformed_svd[:, 0]\n",
    "ys_svd = transformed_svd[:, 1]\n",
    "plt.scatter(xs_svd, ys_svd)\n",
    "plt.show()\n",
    "# Principal Components\n",
    "svd_principal_component = svd_model.components_\n",
    "# Visualize principal components contribution\n",
    "plt.bar(range(1, svd_model.n_components + 1), svd_model.explained_variance_ratio_)\n",
    "plt.show()\n",
    "# Contribution of Original Features to Principal Components\n",
    "for i, loading in enumerate(svd_principal_component):\n",
    "    plt.bar(df.columns, np.abs(loading), label=f'PC {i + 1}', alpha=0.7)\n",
    "plt.show()\n",
    "```"
   ]
  },
  {
   "cell_type": "markdown",
   "metadata": {},
   "source": [
    "### Sparse dataframe and tf-idf"
   ]
  },
  {
   "cell_type": "markdown",
   "metadata": {},
   "source": [
    "```\n",
    "documents = ['cats say meow', 'dogs say woof', 'dogs chase cats']\n",
    "# Import TfidfVectorizer\n",
    "from sklearn.feature_extraction.text import TfidfVectorizer\n",
    "# Create a TfidfVectorizer: tfidf\n",
    "tfidf = TfidfVectorizer() \n",
    "# Apply fit_transform to document: csr_mat\n",
    "csr_mat = tfidf.fit_transform(documents)\n",
    "# Print result of toarray() method\n",
    "print(csr_mat.toarray())\n",
    "# Get the words: words\n",
    "words = tfidf.get_feature_names()\n",
    "# Print words\n",
    "print(words)\n",
    "# Create a dataframe from this sparse matrix representation\n",
    "df = pd.DataFrame(data=csr_mat.toarray(), columns=words)\n",
    "# From dataframe to sparse dataframe\n",
    "sparse_df = some_df.sparse.to_coo()\n",
    "# From sparse to dense dataframe\n",
    "dense_df = sparse_df.to_dense()\n",
    "```"
   ]
  },
  {
   "cell_type": "markdown",
   "metadata": {},
   "source": []
  }
 ],
 "metadata": {
  "language_info": {
   "name": "python"
  }
 },
 "nbformat": 4,
 "nbformat_minor": 2
}
