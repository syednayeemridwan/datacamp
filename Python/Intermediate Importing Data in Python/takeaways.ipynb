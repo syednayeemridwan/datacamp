{
 "cells": [
  {
   "cell_type": "markdown",
   "metadata": {},
   "source": [
    "# Chapter 1"
   ]
  },
  {
   "cell_type": "markdown",
   "metadata": {},
   "source": [
    "### Download url contents with urllib"
   ]
  },
  {
   "cell_type": "markdown",
   "metadata": {},
   "source": [
    "```\n",
    "from urllib.request import urlretrieve\n",
    "# URL address\n",
    "url = 'http://archive.ics.uci.edu/ml/machine-learning-databases/wine-quality/winequality-white.csv'\n",
    "# Download the content to a specified file\n",
    "urlretrieve(url, 'filename.csv')\n",
    "```"
   ]
  },
  {
   "cell_type": "markdown",
   "metadata": {},
   "source": [
    "### Get request with urllib"
   ]
  },
  {
   "cell_type": "markdown",
   "metadata": {},
   "source": [
    "```\n",
    "from urllib.request import urlopen, Request\n",
    "# URL address\n",
    "url = \"https://www.wikipedia.org/\"\n",
    "# Send Request to the url\n",
    "request = Request(url)\n",
    "# Save the response\n",
    "response = urlopen(request)\n",
    "# Read the response\n",
    "html = response.read()\n",
    "# Close activity\n",
    "response.close()\n",
    "```"
   ]
  },
  {
   "cell_type": "markdown",
   "metadata": {},
   "source": [
    "### Beautifulsoup"
   ]
  },
  {
   "cell_type": "markdown",
   "metadata": {},
   "source": [
    "```\n",
    "import requests\n",
    "from bs4 import BeautifulSoup\n",
    "\n",
    "# Send request to url and save the response\n",
    "response = requests.get(\"http://somewebpage.com....\")\n",
    "# Get the text out of response as html\n",
    "html_doc = response.text\n",
    "# Parse the text as html\n",
    "soup = BeautifulSoup(html_doc, 'html.parser')\n",
    "\n",
    "# Page text\n",
    "page_content = soup.get_text() # Get the text content on that url\n",
    "\n",
    "# Access a tag\n",
    "tag_obj = soup.title # The title tag\n",
    "\n",
    "# Child Tag inside that tag\n",
    "child_tag  = tag_obj.div # The first div tag inside title\n",
    "\n",
    "# Access the parent tag \n",
    "parent_tag = child_tag.parent # the title tag\n",
    "\n",
    "# Access the sibling tag \n",
    "sibling_tag = child_tag.next_sibling # the sibling tag next to the child tag \n",
    "\n",
    "# Access the child tag attributes\n",
    "child_tag_att = child_tag.attrs # the title tag attributes as dictionary\n",
    "\n",
    "# Access the contents of child tag\n",
    "child_contents = child_tag.string # var.tag_name.string\n",
    "\n",
    "# Filter for specific items\n",
    "table_rows = soup.find_all(name='tr') # Produce list of <tr> tags\n",
    "\n",
    "```"
   ]
  },
  {
   "cell_type": "markdown",
   "metadata": {},
   "source": [
    "# Chapter 2"
   ]
  },
  {
   "cell_type": "markdown",
   "metadata": {},
   "source": [
    "### Import json file"
   ]
  },
  {
   "cell_type": "markdown",
   "metadata": {},
   "source": [
    "```\n",
    "import json\n",
    "with open('filename.json', 'r') as file:\n",
    "    json_data = json.load(file)\n",
    "\n",
    "for key, value in json_data.items():\n",
    "    print(key + ':' + str(value))\n",
    "\n",
    "```"
   ]
  },
  {
   "cell_type": "markdown",
   "metadata": {},
   "source": [
    "### python api"
   ]
  },
  {
   "cell_type": "markdown",
   "metadata": {},
   "source": [
    "```\n",
    "import requests\n",
    "url = 'http://www.omdbapi.com/?t=hackers'\n",
    "r = requests.get(url)\n",
    "json_data = r.json()\n",
    "for key, value in json_data.items():\n",
    "    print(key + ':', value)\n",
    "```"
   ]
  },
  {
   "cell_type": "markdown",
   "metadata": {},
   "source": [
    "### API"
   ]
  },
  {
   "cell_type": "markdown",
   "metadata": {},
   "source": [
    "- It means connectivity. \n",
    "- I mean API is the messenger that takes requests and \n",
    "- tells a system what you want to do and then returns the response back to you"
   ]
  },
  {
   "cell_type": "markdown",
   "metadata": {},
   "source": []
  }
 ],
 "metadata": {
  "language_info": {
   "name": "python"
  }
 },
 "nbformat": 4,
 "nbformat_minor": 2
}
