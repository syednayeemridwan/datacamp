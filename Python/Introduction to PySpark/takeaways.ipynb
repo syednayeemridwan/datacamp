{
 "cells": [
  {
   "cell_type": "markdown",
   "metadata": {},
   "source": [
    "# Chapter 1"
   ]
  },
  {
   "cell_type": "markdown",
   "metadata": {},
   "source": [
    "### Spark"
   ]
  },
  {
   "cell_type": "markdown",
   "metadata": {},
   "source": [
    "- General purpose data processing engine designed for big data.\n",
    "- Spark is a platform for cluster computing.\n",
    "- Spark lets you spread data and computations over clusters with multiple nodes (each node as a separate computer). \n",
    "- Very large datasets are split into smaller datasets and  each node only works with a small amount of data.\n",
    "- Data processing and computation are performed in parallel over the nodes in the cluster. \n",
    "- However, with greater computing power comes greater complexity.\n",
    "- Can be used for Analytics, Data Integration, Machine learning, Stream Processing.\n",
    "- Master and Worker:\n",
    "    - Master: \n",
    "        - Connected to the rest of the computers in the cluster, which are called worker\n",
    "        - sends the workers data and calculations to run\n",
    "    - Worker: \n",
    "        - They send their results back to the master.\n",
    "- Spark's core data structure is the Resilient Distributed Dataset (RDD)\n",
    "- Instead of RDDs, it is easier to work with Spark DataFrame abstraction built on top of RDDs ( Operations using DataFrames are automatically optimized.)\n",
    "- You start working with `SparkSession` or `SparkContext`"
   ]
  },
  {
   "cell_type": "markdown",
   "metadata": {},
   "source": [
    "### SparkSession"
   ]
  },
  {
   "cell_type": "markdown",
   "metadata": {},
   "source": [
    "```\n",
    "from pyspark.sql import SparkSession\n",
    "\n",
    "spark = SparkSession \\\n",
    "    .builder \\\n",
    "    .appName(\"Python Spark K-means example\") \\\n",
    "    .getOrCreate()\n",
    "# Print the tables in the catalog\n",
    "print(spark.catalog.listTables())\n",
    "\n",
    "# Load CSV file into DataFrame\n",
    "df = spark.read.csv(\"file.csv\", header=True, inferSchema=True)\n",
    "# Show the first few rows of the DataFrame\n",
    "df.show()\n",
    "# Print the schema of the DataFrame\n",
    "df.printSchema()\n",
    "# Perform basic operations or transformations on the DataFrame as needed\n",
    "# For example, you can filter rows, perform aggregations, etc.\n",
    "# Stop SparkSession\n",
    "spark.stop()\n",
    "```"
   ]
  },
  {
   "cell_type": "markdown",
   "metadata": {},
   "source": [
    "### SparkContext"
   ]
  },
  {
   "cell_type": "markdown",
   "metadata": {},
   "source": [
    "```\n",
    "from pyspark import SparkConf, SparkContext\n",
    "\n",
    "# Create a SparkConf object to configure the SparkContext\n",
    "conf = SparkConf().setAppName(\"YourAppName\").setMaster(\"local[*]\")\n",
    "\n",
    "# Create a SparkContext with the configured SparkConf object\n",
    "sc = SparkContext(conf=conf)\n",
    "\n",
    "# Verify SparkContext\n",
    "print(sc)\n",
    "\n",
    "# Print Spark version\n",
    "print(sc.version)\n",
    "```"
   ]
  },
  {
   "cell_type": "markdown",
   "metadata": {},
   "source": []
  },
  {
   "cell_type": "code",
   "execution_count": null,
   "metadata": {},
   "outputs": [],
   "source": []
  }
 ],
 "metadata": {
  "language_info": {
   "name": "python"
  }
 },
 "nbformat": 4,
 "nbformat_minor": 2
}
