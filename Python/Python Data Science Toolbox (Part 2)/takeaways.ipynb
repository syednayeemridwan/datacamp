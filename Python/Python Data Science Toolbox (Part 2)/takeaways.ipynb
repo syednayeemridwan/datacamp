{
 "cells": [
  {
   "cell_type": "markdown",
   "metadata": {},
   "source": [
    "# Chapter 1"
   ]
  },
  {
   "cell_type": "markdown",
   "metadata": {},
   "source": [
    "- Iterable:\n",
    "    - Any sequence object like string, list, dictionary etc\n",
    "- Iterator:\n",
    "    - An object that extracts value from an iterator\n",
    "    - apply `iter()` on an iterable to create an iterator : `some_iterator = iter(some_iterable)`\n",
    "    - Produces next value with `next()` : `next_val = next(some_iterator)`\n",
    "    - To iterate everything use `*` which will exhaust the iterator : `print()`\n",
    "- Enumerate:\n",
    "    - A method that attaches index with the member of iterable\n",
    "    - Forms a new iterable with tuples containing  `(index, member)`\n",
    "    - example: `enumerate(some_iterable)`\n",
    "- zip:\n",
    "    - A method that creates an iterable of tuples from other iterables\n",
    "    - The contents of other iterables are elementwise attached for each tuple\n",
    "    - example : `zip(iterable1, iterable2, iterable3)`\n",
    "    - `zip(*zip(a,b,c))` will separate tuples for each iterable "
   ]
  },
  {
   "cell_type": "markdown",
   "metadata": {},
   "source": [
    "### Example : using iterator to print line by line"
   ]
  },
  {
   "cell_type": "markdown",
   "metadata": {},
   "source": [
    "```\n",
    "file = open('file.txt')\n",
    "it = iter(file)\n",
    "print(next(it))\n",
    "```"
   ]
  },
  {
   "cell_type": "markdown",
   "metadata": {},
   "source": [
    "### Example : Enumerate"
   ]
  },
  {
   "cell_type": "markdown",
   "metadata": {},
   "source": [
    "```\n",
    "for index, value in enumerate(some_list, start=0):\n",
    "    print(index, value)\n",
    "```"
   ]
  },
  {
   "cell_type": "markdown",
   "metadata": {},
   "source": [
    "### Example : zip"
   ]
  },
  {
   "cell_type": "markdown",
   "metadata": {},
   "source": [
    "```\n",
    "for z1, z2 in zip(list1, list2):\n",
    "    print(z1, z2)\n",
    "```"
   ]
  },
  {
   "cell_type": "markdown",
   "metadata": {},
   "source": [
    "### Example : chunkwise pandas operation"
   ]
  },
  {
   "cell_type": "markdown",
   "metadata": {},
   "source": [
    "```\n",
    "import pandas as pd \n",
    "total = 0\n",
    "for chunk in pd.read_csv( 'filename.csv', chunksize=1000): \n",
    "    total += sum(chunk['col'])\n",
    "print(total)\n",
    "```"
   ]
  },
  {
   "cell_type": "markdown",
   "metadata": {},
   "source": []
  }
 ],
 "metadata": {
  "language_info": {
   "name": "python"
  }
 },
 "nbformat": 4,
 "nbformat_minor": 2
}
