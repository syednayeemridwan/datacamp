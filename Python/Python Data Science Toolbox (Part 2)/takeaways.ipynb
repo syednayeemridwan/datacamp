{
 "cells": [
  {
   "cell_type": "markdown",
   "metadata": {},
   "source": [
    "# Chapter 1"
   ]
  },
  {
   "cell_type": "markdown",
   "metadata": {},
   "source": [
    "- Iterable:\n",
    "    - Any sequence object like string, list, dictionary etc\n",
    "- Iterator:\n",
    "    - An object that extracts value from an iterator\n",
    "    - apply `iter()` on an iterable to create an iterator : `some_iterator = iter(some_iterable)`\n",
    "    - Produces next value with `next()` : `next_val = next(some_iterator)`\n",
    "    - To iterate everything use `*` which will exhaust the iterator : `print()`\n",
    "- Enumerate:\n",
    "    - A method that attaches index with the member of iterable\n",
    "    - Forms a new iterable with tuples containing  `(index, member)`\n",
    "    - example: `enumerate(some_iterable)`\n",
    "- zip:\n",
    "    - A method that creates an iterable of tuples from other iterables\n",
    "    - The contents of other iterables are elementwise attached for each tuple\n",
    "    - example : `zip(iterable1, iterable2, iterable3)`\n",
    "    - `zip(*zip(a,b,c))` will separate tuples for each iterable "
   ]
  },
  {
   "cell_type": "markdown",
   "metadata": {},
   "source": [
    "### Example : using iterator to print line by line"
   ]
  },
  {
   "cell_type": "markdown",
   "metadata": {},
   "source": [
    "```\n",
    "file = open('file.txt')\n",
    "it = iter(file)\n",
    "print(next(it))\n",
    "```"
   ]
  },
  {
   "cell_type": "markdown",
   "metadata": {},
   "source": [
    "### Example : Enumerate"
   ]
  },
  {
   "cell_type": "markdown",
   "metadata": {},
   "source": [
    "```\n",
    "for index, value in enumerate(some_list, start=0):\n",
    "    print(index, value)\n",
    "```"
   ]
  },
  {
   "cell_type": "markdown",
   "metadata": {},
   "source": [
    "### Example : zip"
   ]
  },
  {
   "cell_type": "markdown",
   "metadata": {},
   "source": [
    "```\n",
    "for z1, z2 in zip(list1, list2):\n",
    "    print(z1, z2)\n",
    "```"
   ]
  },
  {
   "cell_type": "markdown",
   "metadata": {},
   "source": [
    "### Example : chunkwise pandas operation"
   ]
  },
  {
   "cell_type": "markdown",
   "metadata": {},
   "source": [
    "```\n",
    "import pandas as pd \n",
    "total = 0\n",
    "for chunk in pd.read_csv( 'filename.csv', chunksize=1000): \n",
    "    total += sum(chunk['col'])\n",
    "print(total)\n",
    "```"
   ]
  },
  {
   "cell_type": "markdown",
   "metadata": {},
   "source": [
    "# Chapter 2"
   ]
  },
  {
   "cell_type": "markdown",
   "metadata": {},
   "source": [
    "### List Comprehension"
   ]
  },
  {
   "cell_type": "markdown",
   "metadata": {},
   "source": [
    "```\n",
    "# Normal List\n",
    "new_list = [item + 1 for item in some_list]\n",
    "\n",
    "# Normal List with conditional\n",
    "new_list1 = [item ** 2 for item in range(10) if item % 2 == 0] # \"if\" evaluation is on right if no \"else\" is present\n",
    "new_list2 = [ item ** 2 if item % 2 == 0 else 0 for item in range(10)] # \"if\" evaluation is on left if \"else\" is present\n",
    "\n",
    "# Nested List\n",
    "new_list = [(outer_loop_val, inner_loop_val) for outer_loop_val in range(0, 2) for inner_loop_val in range(6, 8)]\n",
    "\n",
    "```"
   ]
  },
  {
   "cell_type": "markdown",
   "metadata": {},
   "source": [
    "### Dictionary Comprehension"
   ]
  },
  {
   "cell_type": "markdown",
   "metadata": {},
   "source": [
    "```\n",
    "# Normal dictionary\n",
    "new_dict = {num: -num for num in range(9)}\n",
    "\n",
    "# Dictionary with conditionals\n",
    "new_dict = {k: v for k, v in some_dict.items() if v > 20}\n",
    "```"
   ]
  },
  {
   "cell_type": "markdown",
   "metadata": {},
   "source": [
    "### Generator Comprehension"
   ]
  },
  {
   "cell_type": "markdown",
   "metadata": {},
   "source": [
    "```\n",
    "# Generator Function\n",
    "def num_sequence(n):\n",
    "    \"\"\"Generate values from 0 to n.\"\"\"\n",
    "    i = 0\n",
    "    while i < n:\n",
    "        yield i\n",
    "        i += 1\n",
    "result = num_sequence(6)\n",
    "# Iterating through result generator\n",
    "for item in result:\n",
    "\tprint(item)\n",
    "\n",
    "# Generator Comprehension\n",
    "new_generator = (num for num in range(6))\n",
    "# Iterating through new_generator\n",
    "for item in new_generator:\n",
    "\tprint(item)\n",
    "```"
   ]
  },
  {
   "cell_type": "markdown",
   "metadata": {},
   "source": [
    "# Chapter 3"
   ]
  },
  {
   "cell_type": "markdown",
   "metadata": {},
   "source": [
    "### dataframe to list"
   ]
  },
  {
   "cell_type": "markdown",
   "metadata": {},
   "source": [
    "```\n",
    "# Way 1\n",
    "df.values.tolist()\n",
    "\n",
    "# Way 2\n",
    "[list(row) for row in df.iterrows()]\n",
    "\n",
    "# Way 3\n",
    "rows = []\n",
    "with open('dataset.csv') as file :\n",
    "    rows.append(file.readline())\n",
    "```"
   ]
  },
  {
   "cell_type": "markdown",
   "metadata": {},
   "source": [
    "### Concatenating dataframe"
   ]
  },
  {
   "cell_type": "markdown",
   "metadata": {},
   "source": [
    "```\n",
    "data = pd.DataFrame()\n",
    "data = data.append(df_new)\n",
    "```"
   ]
  }
 ],
 "metadata": {
  "language_info": {
   "name": "python"
  }
 },
 "nbformat": 4,
 "nbformat_minor": 2
}
