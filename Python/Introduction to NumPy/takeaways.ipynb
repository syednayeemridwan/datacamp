{
 "cells": [
  {
   "cell_type": "markdown",
   "metadata": {},
   "source": [
    "# Chapter 1"
   ]
  },
  {
   "cell_type": "markdown",
   "metadata": {},
   "source": [
    "- Numpy array can store only one type of data\n",
    "- creating array from list : `np.array(some_list)`\n",
    "- Create a 2D array of zeros of 5 rows and 3 columns: `np.zeros((5, 3))`\n",
    "- Create a 2D array of randoms of 2 rows and 4 columns: `np.random.random((2, 4))`\n",
    "- Create a sequential array from -3 to 4 with a step size of 2  : `np.arange(-3, 4, 2)`\n",
    "- Vectors = 1D Array (There is not even 1 on the second dimension)\n",
    "- Matrix = 2D array\n",
    "- Tensors = 3D / more D array (Stacked version of 2D arrays)\n",
    "- NOTE : matrix of (1 row and 2 cols) or (2 rows and 1 cols) are still 2D array\n",
    "- See shape of an array: `some_array.shape` (1st dimension is row, second dimension is column and so on)\n",
    "- transform into 1D array: `some_array.flatten()` or `some_array.flatten('F')`\n",
    "- transform rows and columns : `some_array.reshape(2,3)`\n",
    "- stacking list of arrays to create new array : `np.array([array_1,array_2])`\n",
    "- See data type of an array : `arr_name.dtype`\n",
    "- Convert type : `int_array.astype(np.bool_)`\n"
   ]
  },
  {
   "cell_type": "markdown",
   "metadata": {},
   "source": [
    "# Chapter 2"
   ]
  },
  {
   "cell_type": "markdown",
   "metadata": {},
   "source": [
    "- Numpy array operations are very similar to list operations\n",
    "- Indexing in numpy : `array[3]` will give the 4th element in 1-D array\n",
    "- Indexing in numpy : `array[2, 4]` will give the element on 3rd row and 5th column in 2-D array\n",
    "- first row in 2D array : `array_2d[0]`\n",
    "- third column in 2D array : `array_2d[ : , 2]`\n",
    "- slicing : `array_2d[3:6, 3:6]`\n",
    "- slicing with every second element : `array_2d[3:6:2, 3:6:2]`\n",
    "- sorting array values along the rows of the array : `np.sort(array_2d, axis=0)`\n",
    "- sorting array values along the columns of the array : `np.sort(array_2d, axis=1)`\n",
    "- numpy row concatenation : `np.concatenate((arr_1, arr_2), axis=0)`\n",
    "- numpy col concatenation : `np.concatenate((arr_1, arr_2), axis=1)`\n",
    "- numpy flattened value concatenation : `np.concatenate((arr_1, arr_2), axis=None)`\n",
    "- numpy delete second row : `np.delete(some_array, 1, axis=0)` \n",
    "- numpy delete second column : `np.delete(some_array, 1, axis=1)` \n",
    "- numpy delete second element of flattened array : `np.delete(some_array, 1) ` "
   ]
  },
  {
   "cell_type": "markdown",
   "metadata": {},
   "source": [
    "### Filtering"
   ]
  },
  {
   "cell_type": "markdown",
   "metadata": {},
   "source": [
    "```\n",
    "# Way 1 : Filtering using indexing\n",
    "\n",
    "some_array[some_array[:, 1 ] % 2 == 0 ] \n",
    "\n",
    "# Way 2 : Filtering using 'where' keyword\n",
    "\n",
    "row_ind, column_ind = np.where(some_array[:, 1] % 2 == 0)\n",
    "np.where(some_array[:, 1] % 2 == 0, \"\", some_array) # Replacing values\n",
    "\n",
    "```"
   ]
  }
 ],
 "metadata": {
  "language_info": {
   "name": "python"
  }
 },
 "nbformat": 4,
 "nbformat_minor": 2
}
