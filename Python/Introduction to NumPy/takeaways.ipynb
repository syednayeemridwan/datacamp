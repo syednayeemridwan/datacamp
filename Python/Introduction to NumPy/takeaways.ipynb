{
 "cells": [
  {
   "cell_type": "markdown",
   "metadata": {},
   "source": [
    "# Chapter 1"
   ]
  },
  {
   "cell_type": "markdown",
   "metadata": {},
   "source": [
    "- Numpy array can store only one type of data\n",
    "- creating array from list : `np.array(some_list)`\n",
    "- Create a 2D array of zeros of 5 rows and 3 columns: `np.zeros((5, 3))`\n",
    "- Create a 2D array of randoms of 2 rows and 4 columns: `np.random.random((2, 4))`\n",
    "- Create a sequential array from -3 to 4 with a step size of 2  : `np.arange(-3, 4, 2)`\n",
    "- Vectors = 1D Array (There is not even 1 on the second dimension)\n",
    "- Matrix = 2D array\n",
    "- Tensors = 3D / more D array (Stacked version of 2D arrays)\n",
    "- NOTE : matrix of (1 row and 2 cols) or (2 rows and 1 cols) are still 2D array\n",
    "- See shape of an array: `some_array.shape` (1st dimension is row, second dimension is column and so on)\n",
    "- transform into 1D array: `some_array.flatten()` or `some_array.flatten('F')`\n",
    "- transform rows and columns : `some_array.reshape(2,3)`\n",
    "- stacking list of arrays to create new array : `np.array([array_1,array_2])`\n",
    "- See data type of an array : `arr_name.dtype`\n",
    "- Convert type : `int_array.astype(np.bool_)`\n"
   ]
  },
  {
   "cell_type": "markdown",
   "metadata": {},
   "source": [
    "# Chapter 2"
   ]
  },
  {
   "cell_type": "markdown",
   "metadata": {},
   "source": [
    "- Numpy array operations are very similar to list operations\n",
    "- Indexing in numpy : `array[3]` will give the 4th element in 1-D array\n",
    "- Indexing in numpy : `array[2, 4]` will give the element on 3rd row and 5th column in 2-D array\n",
    "- first row in 2D array : `array_2d[0]`\n",
    "- third column in 2D array : `array_2d[ : , 2]`\n",
    "- slicing : `array_2d[3:6, 3:6]`\n",
    "- slicing with every second element : `array_2d[3:6:2, 3:6:2]`\n",
    "- sorting array values along the rows of the array : `np.sort(array_2d, axis=0)`\n",
    "- sorting array values along the columns of the array : `np.sort(array_2d, axis=1)`\n",
    "- numpy row concatenation : `np.concatenate((arr_1, arr_2), axis=0)`\n",
    "- numpy col concatenation : `np.concatenate((arr_1, arr_2), axis=1)`\n",
    "- numpy flattened value concatenation : `np.concatenate((arr_1, arr_2), axis=None)`\n",
    "- numpy delete second row : `np.delete(some_array, 1, axis=0)` \n",
    "- numpy delete second column : `np.delete(some_array, 1, axis=1)` \n",
    "- numpy delete second element of flattened array : `np.delete(some_array, 1) ` "
   ]
  },
  {
   "cell_type": "markdown",
   "metadata": {},
   "source": [
    "### Filtering"
   ]
  },
  {
   "cell_type": "markdown",
   "metadata": {},
   "source": [
    "```\n",
    "# Way 1 : Filtering using indexing\n",
    "\n",
    "some_array[some_array[:, 1 ] % 2 == 0 ] \n",
    "\n",
    "# Way 2 : Filtering using 'where' keyword\n",
    "\n",
    "row_ind, column_ind = np.where(some_array[:, 1] % 2 == 0)\n",
    "np.where(some_array[:, 1] % 2 == 0, \"\", some_array) # Replacing values\n",
    "\n",
    "```"
   ]
  },
  {
   "cell_type": "markdown",
   "metadata": {},
   "source": [
    "# Chapter 3"
   ]
  },
  {
   "cell_type": "markdown",
   "metadata": {},
   "source": [
    "### Statistics functions"
   ]
  },
  {
   "cell_type": "markdown",
   "metadata": {},
   "source": [
    "- sum of an array: \n",
    "    - Sum of the rows : `some_array.sum(axis=0 , keepdims=False)`\n",
    "    - Sum of the columns : `some_array.sum(axis=1, keepdims=False)`\n",
    "- Average of an array: \n",
    "    - Average of the rows : `some_array.mean(axis=0, keepdims=False)`\n",
    "    - Average of the columns : `some_array.mean(axis=1, keepdims=False)`\n",
    "- Cumulative sum of an array: \n",
    "    - Cumulative Sum of the rows : `some_array.cumsum(axis=0, keepdims=False)`\n",
    "    - Cumulative Sum of the columns : `some_array.cumsum(axis=1, keepdims=False)`\n",
    "- Minimum of an array: \n",
    "    - Minimum Sum of the rows : `some_array.min(axis=0, keepdims=False)`\n",
    "    - Minimum Sum of the columns : `some_array.min(axis=1, keepdims=False)`\n",
    "- Maximum of an array: \n",
    "    - Maximum Sum of the rows : `some_array.max(axis=0, keepdims=False)`\n",
    "    - Maximum Sum of the columns : `some_array.max(axis=1, keepdims=False)`\n"
   ]
  },
  {
   "cell_type": "markdown",
   "metadata": {},
   "source": [
    "<center><img src=\"images/03.01.png\"  style=\"width: 400px, height: 300px;\"/></center>\n",
    "<center><img src=\"images/03.02.png\"  style=\"width: 400px, height: 300px;\"/></center>"
   ]
  },
  {
   "cell_type": "markdown",
   "metadata": {},
   "source": [
    "### Mathematical operations"
   ]
  },
  {
   "cell_type": "markdown",
   "metadata": {},
   "source": [
    "- Numpy multiplication:\n",
    "    - Multiply with a scalar : `me_array * 3`\n",
    "    - Elementwise multiplication : `array_a * array_b`\n",
    "    - Matrix multiplication : `np.dot(array_a, array_b)`\n",
    "- Numpy addition:\n",
    "    - Multiply with a scalar : `me_array + 3`\n",
    "    - Elementwise multiplication : `array_a + array_b`\n",
    "- Numpy subtraction:\n",
    "    - Multiply with a scalar : `me_array - 3`\n",
    "    - Elementwise multiplication : `array_a - array_b`\n",
    "- Vectorizing python functions:\n",
    "```\n",
    "vectorized_len = np.vectorize(len)\n",
    "vectorized_len(string_array) > 2 # This is a mask\n",
    "```"
   ]
  },
  {
   "cell_type": "markdown",
   "metadata": {},
   "source": [
    "### Broadcasting compatibility"
   ]
  },
  {
   "cell_type": "markdown",
   "metadata": {},
   "source": [
    "- NumPy compares sets of array dimensions from right to left\n",
    "- Two dimensions are compatible when their length or right-most digit...\n",
    "    - One of them has a length of one or\n",
    "    - They are of equal lengths\n",
    "\n",
    "<center><img src=\"images/03.03.png\"  style=\"width: 400px, height: 300px;\"/></center>\n",
    "<center><img src=\"images/03.04.png\"  style=\"width: 400px, height: 300px;\"/></center>\n",
    " "
   ]
  },
  {
   "cell_type": "markdown",
   "metadata": {},
   "source": [
    "# Chapter 4"
   ]
  },
  {
   "cell_type": "markdown",
   "metadata": {},
   "source": [
    "### Numpy image operations"
   ]
  },
  {
   "cell_type": "markdown",
   "metadata": {},
   "source": [
    "```\n",
    "# Extracting color channels\n",
    "red_array = img_array[:, :, 0]\n",
    "blue_array = img_array[:, :, 1]\n",
    "green_array = img_array[:, :, 2]\n",
    "\n",
    "# Flipping image array in all dimensions\n",
    "flipped_img = np.flip(img_array)\n",
    "\n",
    "# Flip specified dimensions\n",
    "# axis 0 is row, axis 1 is column, axis 2 is channel or color\n",
    "flipped_img2 = np.flip(img_array, axis=(0, 1)) # Flip only column and row\n",
    "\n",
    "# Transpose image dimensions\n",
    "# Transposing will swap dimensions\n",
    "transposed_img = np.transpose(img_array, axes=(1, 0, 2)) # Swapping first and second dimension\n",
    "\n",
    "# Split image channels\n",
    "splitting_parts = 3\n",
    "dimension_index_to_split = 2\n",
    "red_array, green_array, blue_array = np.split(img_array, splitting_parts, axis=dimension_index_to_split)\n",
    "red_array = red_array.reshape((3, 3))\n",
    "\n",
    "# Stacking color channels to create rgb image\n",
    "new_dimension_index = 2\n",
    "stacked_rgb = np.stack([red_array, green_array, blue_array], axis=2)\n",
    "\n",
    "# Show image\n",
    "plt.imshow(img_array)\n",
    "plt.show()\n",
    "```"
   ]
  },
  {
   "cell_type": "markdown",
   "metadata": {},
   "source": [
    "### Flip vs Transpose"
   ]
  },
  {
   "cell_type": "markdown",
   "metadata": {},
   "source": [
    "<center><img src=\"images/04.01.png\"  style=\"width: 400px, height: 300px;\"/></center>\n"
   ]
  },
  {
   "cell_type": "markdown",
   "metadata": {},
   "source": [
    "### Load and save numpy files"
   ]
  },
  {
   "cell_type": "markdown",
   "metadata": {},
   "source": [
    "```\n",
    "# Loading Way 1\n",
    "some_array = np.load('/path/filename.npy')\n",
    "\n",
    "# Loading Way 2\n",
    "with open(\"filename.npy\", \"rb\") as f:\n",
    "    some_array = np.load(f)\n",
    "\n",
    "# Saving Way 1\n",
    "np.save('filename.npy', some_array)\n",
    "\n",
    "# Saving Way 2\n",
    "with open(\"filename.npy\", \"wb\") as f:\n",
    "    np.save(f, some_array)\n",
    "```"
   ]
  }
 ],
 "metadata": {
  "language_info": {
   "name": "python"
  }
 },
 "nbformat": 4,
 "nbformat_minor": 2
}
