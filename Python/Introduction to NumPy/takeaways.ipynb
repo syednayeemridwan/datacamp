{
 "cells": [
  {
   "cell_type": "markdown",
   "metadata": {},
   "source": [
    "# Chapter 1"
   ]
  },
  {
   "cell_type": "markdown",
   "metadata": {},
   "source": [
    "- Numpy array can store only one type of data\n",
    "- creating array from list : `np.array(some_list)`\n",
    "- Create a 2D array of zeros of 5 rows and 3 columns: `np.zeros((5, 3))`\n",
    "- Create a 2D array of randoms of 2 rows and 4 columns: `np.random.random((2, 4))`\n",
    "- Create a sequential array from -3 to 4 with a step size of 2  : `np.arange(-3, 4, 2)`\n",
    "- Vectors = 1D Array (There is not even 1 on the second dimension)\n",
    "- Matrix = 2D array\n",
    "- Tensors = 3D / more D array (Stacked version of 2D arrays)\n",
    "- NOTE : matrix of (1 row and 2 cols) or (2 rows and 1 cols) are still 2D array\n",
    "- See shape of an array: `some_array.shape` (1st dimension is row, second dimension is column and so on)\n",
    "- transform into 1D array: `some_array.flatten()` or `some_array.flatten('F')`\n",
    "- transform rows and columns : `some_array.reshape(2,3)`\n",
    "- stacking list of arrays to create new array : `np.array([array_1,array_2])`\n",
    "- See data type of an array : `arr_name.dtype`\n",
    "- Convert type : `int_array.astype(np.bool_)`\n"
   ]
  },
  {
   "cell_type": "markdown",
   "metadata": {},
   "source": []
  }
 ],
 "metadata": {
  "language_info": {
   "name": "python"
  }
 },
 "nbformat": 4,
 "nbformat_minor": 2
}
