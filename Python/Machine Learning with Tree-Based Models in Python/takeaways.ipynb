{
 "cells": [
  {
   "cell_type": "markdown",
   "metadata": {},
   "source": [
    "# Chapter 1"
   ]
  },
  {
   "cell_type": "markdown",
   "metadata": {},
   "source": [
    "### Decision Tree"
   ]
  },
  {
   "cell_type": "markdown",
   "metadata": {},
   "source": [
    "<center><img src=\"images/01.01.png\"  style=\"width: 400px, height: 300px;\"/></center>"
   ]
  },
  {
   "cell_type": "markdown",
   "metadata": {},
   "source": [
    "- Sequence of if-else question\n",
    "- Consists of hierarchy of nodes. Each node raise question or prediction.\n",
    "- Root node : No parent\n",
    "- Internal node : Has parent, has children\n",
    "- Leaf node : Has no children. It is where predictions are made\n",
    "- Goal : Search for pattern to produce purest leaves. Each leaf contains pattern for one dominant label.\n",
    "- Information Gain : At each node, find the split point for each feature for which we get maximum correct pure split of the data. When information gain = 0, we could say that our goal is achieved, the pattern is captured, and this is a leaf node. Otherwise keep splitting it (We can stop it by specifying maximum depth of recursion split). \n",
    "- Measure of impurity in a node:\n",
    "    - Gini index: For classification\n",
    "    - Entropy: For classification\n",
    "    - MSE : For regression\n",
    "- capture non-linear relationhship between features and labels/ real values\n",
    "- Do not require feature scaling\n",
    "- At each split, only one feature is involved\n",
    "- Decision region : Feature space where instances are assigned to a label / value\n",
    "- Decision Boundary : Surface that separates different decision regions\n",
    "- Steps of building a decision tree:\n",
    "    1. Choose an attribute (column) of dataset\n",
    "    2. Calculate the significance of that attribute when splitting the data with Entropy.\n",
    "        A good split has less Entropy (disorder / randomness). \n",
    "    3. Find the best attribute that has most significance and use that attribute\n",
    "    \tto split the data\n",
    "    4. For each branch, repeat the process (Recursive partitioning) for best \n",
    "    \tinformation gain (The path that gives the most information using entropy).\n",
    "- Limitations:\n",
    "    - Can only produce orthogonal decision boundaries\n",
    "    - Sensitive to small variations in training set\n",
    "    - High variance overfits the model\n",
    "- Solution : Ensemble learning\n",
    "    - Train different models on same dataset\n",
    "    - Let each model make its prediction\n",
    "    - Aggregate predictions of individual models (eg: hard-voting)\n",
    "    - One model's weakness is covered by another model's strength in that particular task\n",
    "    - Final model is combination of models that are skillfull in different ways"
   ]
  },
  {
   "cell_type": "markdown",
   "metadata": {},
   "source": [
    "### Classification Tree"
   ]
  },
  {
   "cell_type": "markdown",
   "metadata": {},
   "source": [
    "```\n",
    "from sklearn.tree import DecisionTreeClassifier\n",
    "from sklearn.model_selection import train_test_split\n",
    "from sklearn.metrics import accuracy_score\n",
    "from sklearn.model_selection import cross_val_score\n",
    "# Split the dataset into 80% train, 20% test\n",
    "X_train, X_test, y_train, y_test= train_test_split(X, y, test_size=0.2, stratify=y, random_state=1)\n",
    "# Instantiate the Classification Tree\n",
    "cl_dt = DecisionTreeClassifier(max_depth=2, random_state=42, criterion='gini')\n",
    "# Train the model\n",
    "cl_dt.fit(X_train,y_train)\n",
    "# Predict using test set\n",
    "y_pred = cl_dt.predict(X_test)\n",
    "# Evaluate the test set accuracy\n",
    "accuracy_score(y_test, y_pred)\n",
    "# To check for model overfitting, compare this with test set log loss\n",
    "# Compute negative log loss\n",
    "neg_log_loss_cv = -cross_val_score(clf, X_train, y_train, cv=10, scoring='neg_log_loss', n_jobs=-1)\n",
    "```"
   ]
  },
  {
   "cell_type": "markdown",
   "metadata": {},
   "source": [
    "### Regression Tree"
   ]
  },
  {
   "cell_type": "markdown",
   "metadata": {},
   "source": [
    "```\n",
    "from sklearn.tree import DecisionTreeRegressor\n",
    "from sklearn.model_selection import train_test_split\n",
    "from sklearn.metrics import mean_squared_error as MSE\n",
    "from sklearn.model_selection import cross_val_score\n",
    "# Split the dataset into 80% train, 20% test\n",
    "X_train, X_test, y_train, y_test= train_test_split(X, y, test_size=0.2, random_state=42)\n",
    "# Instantiate the Regression Tree\n",
    "reg_dt = DecisionTreeRegressor(max_depth=4, min_samples_leaf=0.1, random_state=3)\n",
    "# Train with training data\n",
    "reg_dt.fit(X_train, y_train)\n",
    "# Predict \n",
    "y_pred = reg_dt.predict(X_test)\n",
    "# Compute RMSE for testing data\n",
    "mse_reg_dt = MSE(y_test, y_pred)\n",
    "rmse_reg_dt = mse_reg_dt**(1/2)\n",
    "print(rmse_reg_dt)\n",
    "# To check for model overfitting, compare this with test set MSE\n",
    "MSE_CV = - cross_val_score(dt, X_train, y_train, cv= 10, scoring='neg_mean_squared_error', n_jobs = -1)\n",
    "rmse_cv = MSE_CV**(1/2)\n",
    "```"
   ]
  },
  {
   "cell_type": "markdown",
   "metadata": {},
   "source": [
    "# Chapter 2"
   ]
  },
  {
   "cell_type": "markdown",
   "metadata": {},
   "source": [
    "### Bias-Variance Trade-off"
   ]
  },
  {
   "cell_type": "markdown",
   "metadata": {},
   "source": [
    "<center><img src=\"images/02.04.png\"  style=\"width: 400px, height: 300px;\"/></center>\n",
    "<center><img src=\"images/02.05.png\"  style=\"width: 400px, height: 300px;\"/></center>\n",
    "<center><img src=\"images/02.03.png\"  style=\"width: 400px, height: 300px;\"/></center>\n"
   ]
  },
  {
   "cell_type": "markdown",
   "metadata": {},
   "source": [
    "- Overfitting : \n",
    "    - Model also memorises / trains on noise that resides within training data. \n",
    "    - Model performs well when evaluating on training data but does not perform well on unseen data\n",
    "    - High variance is responsible for this error because of also capturing noise.\n",
    "    - Diagnosis: cross-val prediction on test set has high error than prediction on train set\n",
    "    - Possible remedy : Decrease model complexity, gather more data, \n",
    "- Underfitting :\n",
    "    - Model is too simple to catch the pattern, model is not good enough to capture the underlying pattern.\n",
    "    - Model is bad on both training and unseen data\n",
    "    - Model is not flexibple enough to approximate the prediction values\n",
    "    - High bias is responsible for this error\n",
    "    - Diagnosis: cross-val prediction on train and test set are roughly equal but have very high errors that is undesirable\n",
    "    - Possible remedy : Increase model complexity, gather more features, \n",
    "- Bias-Variance trade-off :\n",
    "    - Generalization error = bias^2 + variance + irreducable error (noise)\n",
    "    - bias = error term that tells how on average real value is different from predicted value\n",
    "    - variance = error term that tells how predicted value varies over different training sets\n",
    "    - When model complexity increases, variance increases and bias decreases\n",
    "    - When model complexity decreases, variance decreases and bias increases\n",
    "    - The sweet spot is the minimised generalization error, which gives the optimised model"
   ]
  },
  {
   "cell_type": "markdown",
   "metadata": {},
   "source": [
    "### Ensemble Learning"
   ]
  },
  {
   "cell_type": "markdown",
   "metadata": {},
   "source": [
    "<center><img src=\"images/02.01.png\"  style=\"width: 400px, height: 300px;\"/></center>\n",
    "<center><img src=\"images/02.02.png\"  style=\"width: 400px, height: 300px;\"/></center>"
   ]
  },
  {
   "cell_type": "markdown",
   "metadata": {},
   "source": [
    "```\n",
    "from sklearn.metrics import accuracy_score\n",
    "from sklearn.model_selection import train_test_split\n",
    "from sklearn.linear_model import LogisticRegression\n",
    "from sklearn.tree import DecisionTreeClassifier\n",
    "from sklearn.neighbors import KNeighborsClassifier as KNN\n",
    "from sklearn.ensemble import VotingClassifier\n",
    "\n",
    "# Split data into 70% train and 30% test\n",
    "X_train, X_test, y_train, y_test = train_test_split(X, y, test_size= 0.3, random_state= 42)\n",
    "# Instantiate individual classifiers\n",
    "lr = LogisticRegression(random_state=42)\n",
    "knn = KNN()\n",
    "dt = DecisionTreeClassifier(random_state=42)\n",
    "classifiers = [('Logistic Regression', lr),\n",
    "                ('K Nearest Neighbours', knn),\n",
    "                ('Classification Tree', dt)]\n",
    "# Instantiate an ensemble VotingClassifier 'vc'\n",
    "vc = VotingClassifier(estimators=classifiers)\n",
    "# Train using traing set\n",
    "vc.fit(X_train, y_train)\n",
    "# Predict with test set\n",
    "y_pred = vc.predict(X_test)\n",
    "# Evaluate accuracy \n",
    "print(accuracy_score(y_test, y_pred))\n",
    "```"
   ]
  }
 ],
 "metadata": {
  "language_info": {
   "name": "python"
  }
 },
 "nbformat": 4,
 "nbformat_minor": 2
}
