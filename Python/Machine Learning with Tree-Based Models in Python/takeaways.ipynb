{
 "cells": [
  {
   "cell_type": "markdown",
   "metadata": {},
   "source": [
    "# Chapter 1"
   ]
  },
  {
   "cell_type": "markdown",
   "metadata": {},
   "source": [
    "### Decision Tree"
   ]
  },
  {
   "cell_type": "markdown",
   "metadata": {},
   "source": [
    "<center><img src=\"images/01.01.png\"  style=\"width: 400px, height: 300px;\"/></center>"
   ]
  },
  {
   "cell_type": "markdown",
   "metadata": {},
   "source": [
    "- Sequence of if-else question\n",
    "- Consists of hierarchy of nodes. Each node raise question or prediction.\n",
    "- Root node : No parent\n",
    "- Internal node : Has parent, has children\n",
    "- Leaf node : Has no children. It is where predictions are made\n",
    "- Goal : Search for pattern to produce purest leaves. Each leaf contains pattern for one dominant label.\n",
    "- Information Gain : At each node, find the split point for each feature for which we get maximum correct pure split of the data. When information gain = 0, we could say that our goal is achieved, the pattern is captured, and this is a leaf node. Otherwise keep splitting it (We can stop it by specifying maximum depth of recursion split). \n",
    "- Measure of impurity in a node:\n",
    "    - Gini index: For classification\n",
    "    - Entropy: For classification\n",
    "    - MSE : For regression\n",
    "- capture non-linear relationhship between features and labels/ real values\n",
    "- Do not require feature scaling\n",
    "- At each split, only one feature is involved\n",
    "- Decision region : Feature space where instances are assigned to a label / value\n",
    "- Decision Boundary : Surface that separates different decision regions\n",
    "- Steps of building a decision tree:\n",
    "    1. Choose an attribute (column) of dataset\n",
    "    2. Calculate the significance of that attribute when splitting the data with Entropy.\n",
    "        A good split has less Entropy (disorder / randomness). \n",
    "    3. Find the best attribute that has most significance and use that attribute\n",
    "    \tto split the data\n",
    "    4. For each branch, repeat the process (Recursive partitioning) for best \n",
    "    \tinformation gain (The path that gives the most information using entropy).\n",
    "- Limitations:\n",
    "    - Can only produce orthogonal decision boundaries\n",
    "    - Sensitive to small variations in training set\n",
    "    - High variance overfits the model\n",
    "- Solution : Ensemble learning\n",
    "    - This is a joint modeling where many models come together to solve a single problem\n",
    "    - Train different models on same dataset\n",
    "    - Let each model make its prediction\n",
    "    - Aggregate predictions of individual models \n",
    "    - One model's weakness is covered by another model's strength in that particular task\n",
    "    - Final model is combination of models that are skillfull in different ways\n",
    "    - Hard-voting : \n",
    "        - Ensemble method that models data using majority of vote\n",
    "    - Bagging or Bootstrap aggregating (Sampling with replacement) : \n",
    "        - Ensemble method that use bootstrap with resampling on training data. \n",
    "        - Base estimator : Decision tree, neural net, logistic regression etc\n",
    "        - Reduces variance in individual models (Because of bootstrapping, variance of sample becomes smaller)\n",
    "        - OOB evaluation : normally on average 33% sample data remains unseen, use that data for evaluation of scoring\n",
    "        - Classification : Final prediction is obtained by majority voting\n",
    "        - Regression : Final prediction is obtained by taking the mean\n",
    "    - Random Forest (Sampling without replacement):\n",
    "        - base estimator : Decision tree\n",
    "        - bootstrap samples without replacement and further randomization involved\n",
    "        - Classification : Final prediction is obtained by majority voting\n",
    "        - Regression : Final prediction is obtained by taking the mean\n",
    "    - Boosting:\n",
    "        - Combine weak learners (models that are slightly better than random guessing) to form a strong learner\n",
    "        - learners are placed sequentially, each learner trying to correct its predecessor\n",
    "        - Adaboost or adaptive boosting (through contribution/weight adjustment) : \n",
    "            - predictor pays more information to wrongly classified target by predecessor and apply a weight or penalty\n",
    "            - each predictor has an assigned co-efficient (alpha), that signifies it's contribution in final prediction\n",
    "            - before the data goes to the next predictor for training, alpha is used to adjust the weights of data \n",
    "            - Learning rate ita contributes the adjustment of co-efficient alpha\n",
    "            - Classification : Final outcome decided by weighted majority voting\n",
    "            - Regression : Final outcome decided by weighted average\n",
    "        - Gradient boosting (through training on gradients/residuals) :\n",
    "            - sequential correction of predecessor's error instead of co-efficient adjustment like adaboost\n",
    "            - Instead of adjusting weight like adaboost, predictor trains using predecessor's residuals as labels\n",
    "            - Instead of weak learner like adaboost, it uses CART learners as base learners\n",
    "            - Learning rate or shrinkage tradeoff : Decreased learning rate = increased number of estimators\n",
    "        - Stochastic gradient boosting (sampling without replacement on gradient boosting to increase variance)\n",
    "            - Gradient boosting problem : May lead to CARTs using the same split points and maybe the same features which may lead to increased bias. This may lead to underfitting problem.\n",
    "            - Goal : to reduce bias and increase variance.\n",
    "            - Solution : Randomly (40%-80% of the training set) are sampled without replacement."
   ]
  },
  {
   "cell_type": "markdown",
   "metadata": {},
   "source": [
    "### Classification Tree"
   ]
  },
  {
   "cell_type": "markdown",
   "metadata": {},
   "source": [
    "```\n",
    "from sklearn.tree import DecisionTreeClassifier\n",
    "from sklearn.model_selection import train_test_split\n",
    "from sklearn.metrics import accuracy_score\n",
    "from sklearn.model_selection import cross_val_score\n",
    "# Split the dataset into 80% train, 20% test\n",
    "X_train, X_test, y_train, y_test= train_test_split(X, y, test_size=0.2, stratify=y, random_state=1)\n",
    "# Instantiate the Classification Tree\n",
    "cl_dt = DecisionTreeClassifier(max_depth=2, random_state=42, criterion='gini')\n",
    "# Train the model\n",
    "cl_dt.fit(X_train,y_train)\n",
    "# Predict using test set\n",
    "y_pred = cl_dt.predict(X_test)\n",
    "# Evaluate the test set accuracy\n",
    "accuracy_score(y_test, y_pred)\n",
    "# To check for model overfitting, compare this with test set log loss\n",
    "# Compute negative log loss\n",
    "neg_log_loss_cv = -cross_val_score(clf, X_train, y_train, cv=10, scoring='neg_log_loss', n_jobs=-1)\n",
    "```"
   ]
  },
  {
   "cell_type": "markdown",
   "metadata": {},
   "source": [
    "### Regression Tree"
   ]
  },
  {
   "cell_type": "markdown",
   "metadata": {},
   "source": [
    "```\n",
    "from sklearn.tree import DecisionTreeRegressor\n",
    "from sklearn.model_selection import train_test_split\n",
    "from sklearn.metrics import mean_squared_error as MSE\n",
    "from sklearn.model_selection import cross_val_score\n",
    "# Split the dataset into 80% train, 20% test\n",
    "X_train, X_test, y_train, y_test= train_test_split(X, y, test_size=0.2, random_state=42)\n",
    "# Instantiate the Regression Tree\n",
    "reg_dt = DecisionTreeRegressor(max_depth=4, min_samples_leaf=0.1, random_state=3)\n",
    "# Train with training data\n",
    "reg_dt.fit(X_train, y_train)\n",
    "# Predict \n",
    "y_pred = reg_dt.predict(X_test)\n",
    "# Compute RMSE for testing data\n",
    "mse_reg_dt = MSE(y_test, y_pred)\n",
    "rmse_reg_dt = mse_reg_dt**(1/2)\n",
    "print(rmse_reg_dt)\n",
    "# To check for model overfitting, compare this with test set MSE\n",
    "MSE_CV = - cross_val_score(dt, X_train, y_train, cv= 10, scoring='neg_mean_squared_error', n_jobs = -1)\n",
    "rmse_cv = MSE_CV**(1/2)\n",
    "```"
   ]
  },
  {
   "cell_type": "markdown",
   "metadata": {},
   "source": [
    "# Chapter 2"
   ]
  },
  {
   "cell_type": "markdown",
   "metadata": {},
   "source": [
    "### Bias-Variance Trade-off"
   ]
  },
  {
   "cell_type": "markdown",
   "metadata": {},
   "source": [
    "<center><img src=\"images/02.04.png\"  style=\"width: 400px, height: 300px;\"/></center>\n",
    "<center><img src=\"images/02.05.png\"  style=\"width: 400px, height: 300px;\"/></center>\n",
    "<center><img src=\"images/02.03.png\"  style=\"width: 400px, height: 300px;\"/></center>\n"
   ]
  },
  {
   "cell_type": "markdown",
   "metadata": {},
   "source": [
    "- Overfitting : \n",
    "    - Model also memorises / trains on noise that resides within training data. \n",
    "    - Model performs well when evaluating on training data but does not perform well on unseen data\n",
    "    - High variance is responsible for this error because of also capturing noise.\n",
    "    - Diagnosis: cross-val prediction on test set has high error than prediction on train set\n",
    "    - Possible remedy : Decrease model complexity, gather more data, \n",
    "- Underfitting :\n",
    "    - Model is too simple to catch the pattern, model is not good enough to capture the underlying pattern.\n",
    "    - Model is bad on both training and unseen data\n",
    "    - Model is not flexibple enough to approximate the prediction values\n",
    "    - High bias is responsible for this error\n",
    "    - Diagnosis: cross-val prediction on train and test set are roughly equal but have very high errors that is undesirable\n",
    "    - Possible remedy : Increase model complexity, gather more features, \n",
    "- Bias-Variance trade-off :\n",
    "    - Generalization error = bias^2 + variance + irreducable error (noise)\n",
    "    - bias = error term that tells how on average real value is different from predicted value\n",
    "    - variance = error term that tells how predicted value varies over different training sets\n",
    "    - When model complexity increases, variance increases and bias decreases\n",
    "    - When model complexity decreases, variance decreases and bias increases\n",
    "    - The sweet spot is the minimised generalization error, which gives the optimised model"
   ]
  },
  {
   "cell_type": "markdown",
   "metadata": {},
   "source": [
    "### Ensemble Learning : Hard Voting"
   ]
  },
  {
   "cell_type": "markdown",
   "metadata": {},
   "source": [
    "<center><img src=\"images/02.01.png\"  style=\"width: 400px, height: 300px;\"/></center>\n",
    "<center><img src=\"images/02.02.png\"  style=\"width: 400px, height: 300px;\"/></center>"
   ]
  },
  {
   "cell_type": "markdown",
   "metadata": {},
   "source": [
    "```\n",
    "from sklearn.metrics import accuracy_score\n",
    "from sklearn.model_selection import train_test_split\n",
    "from sklearn.linear_model import LogisticRegression\n",
    "from sklearn.tree import DecisionTreeClassifier\n",
    "from sklearn.neighbors import KNeighborsClassifier as KNN\n",
    "from sklearn.metrics import mean_squared_error as MSE\n",
    "\n",
    "# Split data into 70% train and 30% test\n",
    "X_train, X_test, y_train, y_test = train_test_split(X, y, test_size= 0.3, random_state= 42)\n",
    "# Instantiate individual classifiers\n",
    "lr = LogisticRegression(random_state=42)\n",
    "knn = KNN()\n",
    "dt = DecisionTreeClassifier(random_state=42,max_depth=4, min_samples_leaf=0.16)\n",
    "classifiers = [('Logistic Regression', lr),\n",
    "                ('K Nearest Neighbours', knn),\n",
    "                ('Classification Tree', dt)]\n",
    "\n",
    "# Instantiate an ensemble VotingClassifier\n",
    "from sklearn.ensemble import VotingClassifier\n",
    "ensemble_model = VotingClassifier(estimators=classifiers)\n",
    "\n",
    "# Instantiate an ensemble VotingRegressor\n",
    "ensemble_model = VotingRegressor(estimators=regressors)\n",
    "\n",
    "# Instantiate an ensemble BaggingClassifier\n",
    "from sklearn.ensemble import BaggingClassifier\n",
    "ensemble_model = BaggingClassifier(base_estimator=dt, n_estimators=300,oob_score=True, n_jobs=-1)\n",
    "oob_accuracy = bc.oob_score_\n",
    "\n",
    "# Instantiate an ensemble BaggingRegressor\n",
    "from sklearn.ensemble import BaggingRegressor\n",
    "from sklearn.tree import DecisionTreeRegressor\n",
    "base_regressor = DecisionTreeRegressor(max_depth=8, min_samples_leaf=0.13, random_state=3)\n",
    "ensemble_model = BaggingRegressor(base_estimator=base_regressor, n_estimators=300, oob_score=True, n_jobs=-1)\n",
    "oob_score = ensemble_model.oob_score_\n",
    "\n",
    "# Instantiate an ensemble RandomForestRegressor\n",
    "from sklearn.ensemble import RandomForestRegressor\n",
    "ensemble_model = RandomForestRegressor(n_estimators=400, min_samples_leaf=0.12, random_state=42)\n",
    "\n",
    "# Instantiate an ensemble RandomForestClassifier\n",
    "from sklearn.ensemble import RandomForestClassifier\n",
    "ensemble_model = RandomForestClassifier(n_estimators=400, random_state=42)\n",
    "\n",
    "# Instantiate an ensemble AdaBoostClassifier\n",
    "from sklearn.ensemble import AdaBoostClassifier\n",
    "ensemble_model = AdaBoostClassifier(base_estimator=dt, n_estimators=100) # dt is weak, has max depth of 1\n",
    "y_pred_proba = ensemble_model.predict_proba(X_test)[:,1]\n",
    "# Evaluate testing roc_auc_score\n",
    "from sklearn.metrics import roc_auc_score\n",
    "adb_clf_roc_auc_score = roc_auc_score(y_test, y_pred_proba)\n",
    "\n",
    "# Instantiate an ensemble GradientBoostingRegressor, (max_features=0.2, subsample=0.8) makes it stochastic gradient boosting\n",
    "from sklearn.ensemble import GradientBoostingRegressor\n",
    "ensemble_model = GradientBoostingRegressor(max_depth=1, subsample=0.8, max_features=0.2, n_estimators=300, random_state=42)\n",
    "\n",
    "# Train using traing set\n",
    "ensemble_model.fit(X_train, y_train)\n",
    "# Predict with test set\n",
    "y_pred = ensemble_model.predict(X_test)\n",
    "# Evaluate accuracy for classification\n",
    "print(accuracy_score(y_test, y_pred))\n",
    "# Evaluate RMSE for regression\n",
    "rmse = MSE(y_test, y_pred)**(1/2)\n",
    "# Visualize features importances\n",
    "importances = pd.Series(ensemble_model.feature_importances_, index = X.columns)\n",
    "sorted_importances = importances.sort_values()\n",
    "sorted_importances.plot(kind='barh', color='lightgreen')\n",
    "plt.show()\n",
    "```"
   ]
  },
  {
   "cell_type": "markdown",
   "metadata": {},
   "source": [
    "# Chapter 3"
   ]
  },
  {
   "cell_type": "markdown",
   "metadata": {},
   "source": [
    "### Ensemble : Bagging (Sampling with replacement)"
   ]
  },
  {
   "cell_type": "markdown",
   "metadata": {},
   "source": [
    "<center><img src=\"images/03.01.png\"  style=\"width: 400px, height: 300px;\"/></center>\n",
    "<center><img src=\"images/03.02.png\"  style=\"width: 400px, height: 300px;\"/></center>\n"
   ]
  },
  {
   "cell_type": "markdown",
   "metadata": {},
   "source": [
    "### Random Forest (Sampling without replacement)"
   ]
  },
  {
   "cell_type": "markdown",
   "metadata": {},
   "source": [
    "<center><img src=\"images/03.03.png\"  style=\"width: 400px, height: 300px;\"/></center>\n",
    "<center><img src=\"images/03.04.png\"  style=\"width: 400px, height: 300px;\"/></center>\n"
   ]
  },
  {
   "cell_type": "markdown",
   "metadata": {},
   "source": [
    "# Chapter 4"
   ]
  },
  {
   "cell_type": "markdown",
   "metadata": {},
   "source": [
    "### Adaboost  (Adaptive Boosting)"
   ]
  },
  {
   "cell_type": "markdown",
   "metadata": {},
   "source": [
    "<center><img src=\"images/04.01.png\"  style=\"width: 400px, height: 300px;\"/></center>\n"
   ]
  },
  {
   "cell_type": "markdown",
   "metadata": {},
   "source": [
    "### Gradient Boosting"
   ]
  },
  {
   "cell_type": "markdown",
   "metadata": {},
   "source": [
    "<center><img src=\"images/04.02.png\"  style=\"width: 400px, height: 300px;\"/></center>\n",
    "<center><img src=\"images/04.03.png\"  style=\"width: 400px, height: 300px;\"/></center>\n"
   ]
  },
  {
   "cell_type": "markdown",
   "metadata": {},
   "source": []
  }
 ],
 "metadata": {
  "language_info": {
   "name": "python"
  }
 },
 "nbformat": 4,
 "nbformat_minor": 2
}
