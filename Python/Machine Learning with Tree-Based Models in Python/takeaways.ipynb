{
 "cells": [
  {
   "cell_type": "markdown",
   "metadata": {},
   "source": [
    "# Chapter 1"
   ]
  },
  {
   "cell_type": "markdown",
   "metadata": {},
   "source": [
    "### Decision Tree"
   ]
  },
  {
   "cell_type": "markdown",
   "metadata": {},
   "source": [
    "- Sequence of if-else question\n",
    "- Consists of hierarchy of nodes. Each node raise question or prediction.\n",
    "- Root node : No parent\n",
    "- Internal node : Has parent, has children\n",
    "- Leaf node : Has no children. It is where predictions are made\n",
    "- Goal : Search for pattern to produce purest leaves. Each leaf contains pattern for one dominant label.\n",
    "- Information Gain : At each node, find the split point for each feature for which we get maximum correct pure split of the data. When information gain = 0, we could say that our goal is achieved, the pattern is captured, and this is a leaf node. Otherwise keep splitting it (We can stop it by specifying maximum depth of recursion split). \n",
    "- Measure of impurity in a node:\n",
    "    - Gini index: For classification\n",
    "    - Entropy: For classification\n",
    "    - MSE : For regression\n",
    "- capture non-linear relationhship between features and labels/ real values\n",
    "- Do not require feature scaling\n",
    "- At each split, only one feature is involved\n",
    "- Decision region : Feature space where instances are assigned to a label / value\n",
    "- Decision Boundary : Surface that separates different decision regions\n"
   ]
  },
  {
   "cell_type": "markdown",
   "metadata": {},
   "source": [
    "### Classification Tree"
   ]
  },
  {
   "cell_type": "markdown",
   "metadata": {},
   "source": [
    "```\n",
    "from sklearn.tree import DecisionTreeClassifier\n",
    "from sklearn.model_selection import train_test_split\n",
    "from sklearn.metrics import accuracy_score\n",
    "# Split the dataset into 80% train, 20% test\n",
    "X_train, X_test, y_train, y_test= train_test_split(X, y, test_size=0.2, stratify=y, random_state=1)\n",
    "# Instantiate the Classification Tree\n",
    "cl_dt = DecisionTreeClassifier(max_depth=2, random_state=42, criterion='gini')\n",
    "# Train the model\n",
    "cl_dt.fit(X_train,y_train)\n",
    "# Predict using test set\n",
    "y_pred = cl_dt.predict(X_test)\n",
    "# Evaluate the test set accuracy\n",
    "accuracy_score(y_test, y_pred)\n",
    "```"
   ]
  },
  {
   "cell_type": "markdown",
   "metadata": {},
   "source": [
    "### Regression Tree"
   ]
  },
  {
   "cell_type": "markdown",
   "metadata": {},
   "source": [
    "```\n",
    "from sklearn.tree import DecisionTreeRegressor\n",
    "from sklearn.model_selection import train_test_split\n",
    "from sklearn.metrics import mean_squared_error as MSE\n",
    "# Split the dataset into 80% train, 20% test\n",
    "X_train, X_test, y_train, y_test= train_test_split(X, y, test_size=0.2, random_state=42)\n",
    "# Instantiate the Regression Tree\n",
    "reg_dt = DecisionTreeRegressor(max_depth=4, min_samples_leaf=0.1, random_state=3)\n",
    "# Train with training data\n",
    "reg_dt.fit(X_train, y_train)\n",
    "# Predict \n",
    "y_pred = reg_dt.predict(X_test)\n",
    "# Compute RMSE for testing data\n",
    "mse_reg_dt = MSE(y_test, y_pred)\n",
    "rmse_reg_dt = mse_reg_dt**(1/2)\n",
    "print(rmse_reg_dt)\n",
    "```"
   ]
  },
  {
   "cell_type": "markdown",
   "metadata": {},
   "source": []
  }
 ],
 "metadata": {
  "language_info": {
   "name": "python"
  }
 },
 "nbformat": 4,
 "nbformat_minor": 2
}
