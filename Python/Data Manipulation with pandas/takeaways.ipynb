{
 "cells": [
  {
   "cell_type": "markdown",
   "metadata": {},
   "source": [
    "# Chapter 1"
   ]
  },
  {
   "cell_type": "markdown",
   "metadata": {},
   "source": [
    "- Explore dataframe:\n",
    "    - See first 5 rows: `df.head(5)`\n",
    "    - See rows and columns: `df.shape`\n",
    "    - See summary statistics : `df.describe()`\n",
    "    - See column informations : `df.info()`\n",
    "    - See columns : `df.columns`\n",
    "    - See rows : `df.index`\n",
    "    - See rows in 2-D numpy array: `df.values`\n",
    "- Sort dataframe: `df.sort_values([\"col1\",\"col2\"], ascending = [True, False])`\n",
    "- Subset dataframe: \n",
    "    - `df[(df[\"col1\"] < val1) & (df[\"col2\"] == val2)]`\n",
    "    - `df[\"col\"].isin([val1, val2])`\n",
    "- Create new column: `df[\"new_col\"] = df[\"col\"]*2`\n"
   ]
  },
  {
   "cell_type": "markdown",
   "metadata": {},
   "source": [
    "# Chapter 2"
   ]
  },
  {
   "cell_type": "markdown",
   "metadata": {},
   "source": [
    "- Summary statistics of a column:\n",
    "    - `df[\"col\"].mean()`\n",
    "    - `df[\"col\"].min()`\n",
    "- cumulative sum : `df['cum_col'] = df[\"col\"].cumsum()`\n",
    "    - Others are `cummin()`, `cummax()`, `cumprod()`\n",
    "- Drop duplicate : `df = df.drop_duplicates(subset = [\"column\", \"column2\"])`\n",
    "- Count categorical values in a column: `df['col'].value_counts(ascending=True,normalize=True)`\n",
    "- Grouping and aggregating : `df.groupby([\"col1\",\"col2\"])[\"another_col\"].agg([min,max,sum])`\n",
    "- custom summmary on dataframe column:\n",
    "```\n",
    "def custom_func1(column):\n",
    "    return column.quantile(0.3)\n",
    "\n",
    "def custom_func2(column):\n",
    "    return column.quantile(0.4)\n",
    "df[[\"col1\",\"col2\"]].agg([custom_func1, custom_func2])\n",
    "```\n",
    "- pivot table on dataframe:\n",
    "```\n",
    "df.pivot_table(index='cat_col_as_row_number', \n",
    "               columns='cat_col_as_columns', \n",
    "               values='num_col_as_values',\n",
    "               fill_value = 0,\n",
    "               margins = True,\n",
    "               aggfunc=[np.mean,np.median])\n",
    "```\n"
   ]
  },
  {
   "cell_type": "markdown",
   "metadata": {},
   "source": [
    "# Chapter 3"
   ]
  },
  {
   "cell_type": "markdown",
   "metadata": {},
   "source": [
    "- Setting a column as index: `df.set_index(['col1','col2'])`\n",
    "- Removing index: `df.reset_index()`\n",
    "- Sorting with index: `df.sort_index(level=['col1','col2'], ascending = [True, False])`\n",
    "- Discard index: `df.reset_index(drop=True)`\n",
    "- Searching with filtering: `df[df['col'].isin(['val1','val2'])]`\n",
    "- Searching with indexing: `df.loc[['val1','val2']]` # For simple index\n",
    "- Searching with indexing: `df.loc[[('col1val1','col2val1'), ('col1val2','col2val2')]]` # Multi-level index\n",
    "- Multi-level index slicing: \n",
    "    1. `df.sort_index(level=['col1','col2'], ascending = [True, False])`\n",
    "    2. `df.loc[('col1val1','col2val1') : ('col1val2','col2val2')]`\n",
    "- Slicing with date index: `df.loc['2010-08-01' : '2011-02-28',:]`"
   ]
  },
  {
   "cell_type": "markdown",
   "metadata": {},
   "source": [
    "# Chapter 4"
   ]
  },
  {
   "cell_type": "markdown",
   "metadata": {},
   "source": [
    "- import csv : `df = =pd.read_csv('filename.csv')`\n",
    "- export csv : `df.to_csv('filename.csv', index = False, encoding='utf-8') # False: not include index`\n",
    "- Extract month information : `dataframe[\"column\"].dt.month`\n",
    "- Extract year information : `dataframe[\"column\"].dt.year`\n",
    "- Detect Missing values:\n",
    "    1. In any column : `df.isna().any()`\n",
    "    2. Total missing entries : `df.isna().sum()`\n",
    "- Read pickle file: `pd.read_pickle(\"dataset/filename.pkl\")`\n",
    "- barplot : `df.plot(kind=\"bar\")`\n",
    "- line plot : `df.plot(x=\"col1\", y=\"col2\")`\n",
    "- scatter plot : `df.plot(x=\"col1\", y=\"col2\", kind=\"scatter\", title = \"Some Title\")`\n",
    "- Dictionary to Dataframe:\n",
    "    1. `df1 = pd.DataFrame(list_of_dictionary)`\n",
    "    2. `df2 = pd.DataFrame(dict_of_list)`\n",
    "- overlapping histogram : \n",
    "```\n",
    "# Overlapping histogram\n",
    "df[df[\"type\"] == \"conventional\"][\"avg_price\"].hist(alpha=0.5, bins=20)\n",
    "df[df[\"type\"] == \"organic\"][\"avg_price\"].hist(alpha=0.5, bins=20)\n",
    "plt.legend([\"conventional\", \"organic\"])\n",
    "plt.show()\n",
    "```"
   ]
  }
 ],
 "metadata": {
  "language_info": {
   "name": "python"
  }
 },
 "nbformat": 4,
 "nbformat_minor": 2
}
