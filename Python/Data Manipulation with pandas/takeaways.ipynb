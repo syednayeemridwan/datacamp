{
 "cells": [
  {
   "cell_type": "markdown",
   "metadata": {},
   "source": [
    "# Chapter 1"
   ]
  },
  {
   "cell_type": "markdown",
   "metadata": {},
   "source": [
    "- Explore dataframe:\n",
    "    - See first 5 rows: `df.head(5)`\n",
    "    - See rows and columns: `df.shape`\n",
    "    - See summary statistics : `df.describe()`\n",
    "    - See column informations : `df.info()`\n",
    "    - See columns : `df.columns`\n",
    "    - See rows : `df.index`\n",
    "    - See rows in 2-D numpy array: `df.values`\n",
    "- Sort dataframe: `df.sort_values([\"col1\",\"col2\"], ascending = [True, False])`\n",
    "- Subset dataframe: \n",
    "    - `df[(df[\"col1\"] < val1) & (df[\"col2\"] == val2)]`\n",
    "    - `df[\"col\"].isin([val1, val2])`\n",
    "- Create new column: `df[\"new_col\"] = df[\"col\"]*2`\n"
   ]
  },
  {
   "cell_type": "code",
   "execution_count": null,
   "metadata": {},
   "outputs": [],
   "source": []
  }
 ],
 "metadata": {
  "language_info": {
   "name": "python"
  }
 },
 "nbformat": 4,
 "nbformat_minor": 2
}
