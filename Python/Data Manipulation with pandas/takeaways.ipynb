{
 "cells": [
  {
   "cell_type": "markdown",
   "metadata": {},
   "source": [
    "# Chapter 1"
   ]
  },
  {
   "cell_type": "markdown",
   "metadata": {},
   "source": [
    "- Explore dataframe:\n",
    "    - See first 5 rows: `df.head(5)`\n",
    "    - See rows and columns: `df.shape`\n",
    "    - See summary statistics : `df.describe()`\n",
    "    - See column informations : `df.info()`\n",
    "    - See columns : `df.columns`\n",
    "    - See rows : `df.index`\n",
    "    - See rows in 2-D numpy array: `df.values`\n",
    "- Sort dataframe: `df.sort_values([\"col1\",\"col2\"], ascending = [True, False])`\n",
    "- Subset dataframe: \n",
    "    - `df[(df[\"col1\"] < val1) & (df[\"col2\"] == val2)]`\n",
    "    - `df[\"col\"].isin([val1, val2])`\n",
    "- Create new column: `df[\"new_col\"] = df[\"col\"]*2`\n"
   ]
  },
  {
   "cell_type": "markdown",
   "metadata": {},
   "source": [
    "# Chapter 2"
   ]
  },
  {
   "cell_type": "markdown",
   "metadata": {},
   "source": [
    "- Summary statistics of a column:\n",
    "    - `df[\"col\"].mean()`\n",
    "    - `df[\"col\"].min()`\n",
    "- cumulative sum : `df['cum_col'] = df[\"col\"].cumsum()`\n",
    "    - Others are `cummin()`, `cummax()`, `cumprod()`\n",
    "- Drop duplicate : `df = df.drop_duplicates(subset = [\"column\", \"column2\"])`\n",
    "- Count categorical values in a column: `df['col'].value_counts(ascending=True,normalize=True)`\n",
    "- Grouping and aggregating : `df.groupby([\"col1\",\"col2\"])[\"another_col\"].agg([min,max,sum])`\n",
    "- custom summmary on dataframe column:\n",
    "```\n",
    "def custom_func1(column):\n",
    "    return column.quantile(0.3)\n",
    "\n",
    "def custom_func2(column):\n",
    "    return column.quantile(0.4)\n",
    "df[[\"col1\",\"col2\"]].agg([custom_func1, custom_func2])\n",
    "```\n",
    "- pivot table on dataframe:\n",
    "```\n",
    "df.pivot_table(index='cat_col_as_row_number', \n",
    "               columns='cat_col_as_columns', \n",
    "               values='num_col_as_values',\n",
    "               fill_value = 0,\n",
    "               margins = True,\n",
    "               aggfunc=[np.mean,np.median])\n",
    "```\n"
   ]
  }
 ],
 "metadata": {
  "language_info": {
   "name": "python"
  }
 },
 "nbformat": 4,
 "nbformat_minor": 2
}
