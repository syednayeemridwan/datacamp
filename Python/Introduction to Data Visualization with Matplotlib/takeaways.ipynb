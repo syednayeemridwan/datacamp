{
 "cells": [
  {
   "cell_type": "markdown",
   "metadata": {},
   "source": [
    "# Chapter 1"
   ]
  },
  {
   "cell_type": "markdown",
   "metadata": {},
   "source": [
    "### Line plot customization"
   ]
  },
  {
   "cell_type": "markdown",
   "metadata": {},
   "source": [
    "```\n",
    "import matplotlib.pyplot as plt\n",
    "# ax deals with data, fig contains whole picture\n",
    "# Allows customization of small multiples\n",
    "fig, ax = plt.subplots(2,1,sharey=True) # 2 rows, 1 columns and share Y axis range\n",
    "ax[0,0].plot(df[\"X\"], df[\"Y1\"], marker = \"o\",linestyle=\"--\", color=\"r\")\n",
    "ax[1,0].plot(df[\"X\"], df[\"Y2\"], marker = \"v\",linestyle=\"None\", color=\"g\")\n",
    "ax.set_xlabel(\"X Axis\")\n",
    "ax.set_ylabel(\"Y Axis\")\n",
    "ax.set_title(\"Plot Title\")\n",
    "plt.show()\n",
    "```"
   ]
  },
  {
   "cell_type": "markdown",
   "metadata": {},
   "source": [
    "# Chapter 2"
   ]
  },
  {
   "cell_type": "markdown",
   "metadata": {},
   "source": [
    "- For accessing dataframe index: `df.index`\n",
    "- For retrieving dataframe index as list: `df.index.tolist()`\n",
    "- for accessing value for an index: `df.at[index_value, column_value]`"
   ]
  },
  {
   "cell_type": "markdown",
   "metadata": {},
   "source": [
    "### plot time series python\n"
   ]
  },
  {
   "cell_type": "markdown",
   "metadata": {},
   "source": [
    "```\n",
    "import pandas as pd\n",
    "df = pd.read_csv('filename.csv', parse_dates=[\"date_col\"], index_col=\"date_col\")\n",
    "df = df[\"1960-01-01\":\"1969-12-31\"] # Subsetting for smaller portion\n",
    "\n",
    "import matplotlib.pyplot as plt\n",
    "# Multiple time series on same plot\n",
    "fig, ax = plt.subplots()\n",
    "ax.plot(df.index, df['col1'], color='red')\n",
    "ax.tick_params('y', colors='red')\n",
    "ax.set_xlabel('Time Axis')\n",
    "ax.set_ylabel('First Y Axis')\n",
    "\n",
    "ax2 = ax.twinx() # Same x axis, but separate y axis\n",
    "ax2.plot(df.index, df['col2'], color='blue')\n",
    "ax2.tick_params('y', colors='blue')\n",
    "ax2.set_ylabel('Second Y Axis')\n",
    "\n",
    "ax2.annotate(\"Annotation text\", xy=(pd.Timestamp('2015-10-06'), 1),\n",
    "        xytext=(pd.Timestamp('2008-10-06'), -0.2),\n",
    "        arrowprops={\"arrowstyle\":\"->\", \"color\":\"gray\"})\n",
    "\n",
    "plt.show()\n",
    "```"
   ]
  },
  {
   "cell_type": "markdown",
   "metadata": {},
   "source": [
    "# Chapter 3"
   ]
  },
  {
   "cell_type": "markdown",
   "metadata": {},
   "source": [
    "### Bar plot"
   ]
  },
  {
   "cell_type": "markdown",
   "metadata": {},
   "source": [
    "```\n",
    "import matplotlib.pyplot as plt\n",
    "fig, ax = plt.subplots \n",
    "# Create Bar plot\n",
    "ax.bar(df.index, df[\"col1\"], label=\"col1\") \n",
    "# Create stacked bar plot keeping the previous barplot below\n",
    "ax.bar(df.index, df[\"col2\"], bottom=df[\"col1\"], label=\"col2\") \n",
    "# Create stacked bar plot keeping the previous barplot below\n",
    "ax.bar(df.index, df[\"col3\"], bottom=df[\"col1\"] + df[\"col2\"], label=\"col3\") \n",
    "# Rotate tick x axis labels to 90 degree\n",
    "ax.set_xticklabels(df.index, rotation=90) \n",
    "ax.set_ylabel(\"Y axis label\")\n",
    "# Show legend\n",
    "ax.legend() \n",
    "plt.show()\n",
    "```"
   ]
  },
  {
   "cell_type": "markdown",
   "metadata": {},
   "source": [
    "### Histogram"
   ]
  },
  {
   "cell_type": "markdown",
   "metadata": {},
   "source": [
    "- shows distribution of a variable in a dataset"
   ]
  },
  {
   "cell_type": "markdown",
   "metadata": {},
   "source": [
    "```\n",
    "import matplotlib.pyplot as plt\n",
    "fig, ax = plt.subplots \n",
    "ax.hist(df[\"col1\"], label=\"Col1\", bins=[150, 160, 170, 180, 190, 200, 210], histtype=\"step\")\n",
    "ax.hist(df[\"col2\"], label=\"Col2\", bins=[150, 160, 170, 180, 190, 200, 210], histtype=\"step\")\n",
    "ax.set_xlabel(\"X axis label\")\n",
    "ax.set_ylabel(\"Y axis label\")\n",
    "ax.legend()\n",
    "plt.show()\n",
    "```"
   ]
  },
  {
   "cell_type": "markdown",
   "metadata": {},
   "source": [
    "### Error Bar"
   ]
  },
  {
   "cell_type": "markdown",
   "metadata": {},
   "source": [
    "- With single value\n",
    "```\n",
    "import matplotlib.pyplot as plt\n",
    "fig, ax = plt.subplots()\n",
    "# Errorbar with bar plot when used with 1  variable\n",
    "ax.bar(\"Label 1\", df[\"col1\"].mean(), yerr=df[\"col1\"].std())\n",
    "ax.bar(\"Label 2\", df[\"col2\"].mean(), yerr=df[\"col2\"].std())\n",
    "ax.set_ylabel(\"Y axis label\")\n",
    "plt.show()\n",
    "```\n",
    "- With line plot\n",
    "```\n",
    "import matplotlib.pyplot as plt\n",
    "fig, ax = plt.subplots()\n",
    "# Errorbar with line plot when used with 2  variables\n",
    "ax.errorbar(df[\"col1\"], df[\"col2\"], yerr=df[\"col3\"])\n",
    "ax.errorbar(df[\"col1\"], df[\"col2\"], yerr=df[\"col3\"])\n",
    "ax.set_ylabel(\"Y axis label\")\n",
    "plt.show()\n",
    "```"
   ]
  },
  {
   "cell_type": "markdown",
   "metadata": {},
   "source": [
    "### Box plot"
   ]
  },
  {
   "cell_type": "markdown",
   "metadata": {},
   "source": [
    "```\n",
    "import matplotlib.pyplot as plt\n",
    "fig, ax = plt.subplots()\n",
    "ax.boxplot([df1[\"col\"], df2[\"col\"]])\n",
    "ax.set_xticklabels([\"DF1\", \"DF2\"])\n",
    "ax.set_ylabel(\"col\")\n",
    "plt.show()\n",
    "```"
   ]
  },
  {
   "cell_type": "markdown",
   "metadata": {},
   "source": [
    "### Scatter plot"
   ]
  },
  {
   "cell_type": "markdown",
   "metadata": {},
   "source": [
    "```\n",
    "import matplotlib.pyplot as plt\n",
    "fig, ax = plt.subplots()\n",
    "\n",
    "# Plotting with 2 variables\n",
    "ax.scatter(df1[\"col1\"], df1[\"col2\"], color=\"red\", label=\"df1\")\n",
    "ax.scatter(df2[\"col1\"], df2[\"col2\"], color=\"blue\", label=\"df2\")\n",
    "ax.set_xlabel(\"X axis label\")\n",
    "ax.set_ylabel(\"Y axis label\")\n",
    "ax.legend()\n",
    "plt.show()\n",
    "\n",
    "# Plotting with 3 variables\n",
    "ax.scatter(df[\"col1\"], df[\"col2\"], c=df.col3) # c represents the third variable\n",
    "ax.set_xlabel(\"X axis label\")\n",
    "ax.set_ylabel(\"Y axis label\")\n",
    "plt.show()\n",
    "```"
   ]
  },
  {
   "cell_type": "markdown",
   "metadata": {},
   "source": [
    "# Chapter 4"
   ]
  },
  {
   "cell_type": "markdown",
   "metadata": {},
   "source": [
    "### Change style"
   ]
  },
  {
   "cell_type": "markdown",
   "metadata": {},
   "source": [
    "```\n",
    "# Change style to ggplot\n",
    "plt.style.use(\"ggplot\")\n",
    "# Change style back to default\n",
    "plt.style.use(\"default\")\n",
    "```"
   ]
  },
  {
   "cell_type": "markdown",
   "metadata": {},
   "source": [
    "### Save figure"
   ]
  },
  {
   "cell_type": "markdown",
   "metadata": {},
   "source": [
    "```\n",
    "from matplotlib import pyplot as plt\n",
    "fig, ax = plt.subplots()\n",
    "# Control figure size or aspect ratio\n",
    "fig.set_size_inches([width_val, height_val])\n",
    "# Formats can be saved in lossless .png and vector .svg\n",
    "fig.savefig(\"fig_name.jpg\", quality=50) # Avoid values above 90\n",
    "# Control resolution rendering\n",
    "fig.savefig(\"fig_name.png\", dpi=300)\n",
    "\n",
    "```"
   ]
  }
 ],
 "metadata": {
  "language_info": {
   "name": "python"
  }
 },
 "nbformat": 4,
 "nbformat_minor": 2
}
