{
 "cells": [
  {
   "cell_type": "markdown",
   "metadata": {},
   "source": [
    "# Chapter 1"
   ]
  },
  {
   "cell_type": "markdown",
   "metadata": {},
   "source": [
    "### Line plot customization"
   ]
  },
  {
   "cell_type": "markdown",
   "metadata": {},
   "source": [
    "```\n",
    "import matplotlib.pyplot as plt\n",
    "# ax deals with data, fig contains whole picture\n",
    "# Allows customization of small multiples\n",
    "fig, ax = plt.subplots(2,1,sharey=True) # 2 rows, 1 columns and share Y axis range\n",
    "ax[0,0].plot(df[\"X\"], df[\"Y1\"], marker = \"o\",linestyle=\"--\", color=\"r\")\n",
    "ax[1,0].plot(df[\"X\"], df[\"Y2\"], marker = \"v\",linestyle=\"None\", color=\"g\")\n",
    "ax.set_xlabel(\"X Axis\")\n",
    "ax.set_ylabel(\"Y Axis\")\n",
    "ax.set_title(\"Plot Title\")\n",
    "plt.show()\n",
    "```"
   ]
  },
  {
   "cell_type": "markdown",
   "metadata": {},
   "source": []
  }
 ],
 "metadata": {
  "language_info": {
   "name": "python"
  }
 },
 "nbformat": 4,
 "nbformat_minor": 2
}
