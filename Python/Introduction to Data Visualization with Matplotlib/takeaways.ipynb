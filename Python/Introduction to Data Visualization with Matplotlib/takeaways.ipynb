{
 "cells": [
  {
   "cell_type": "markdown",
   "metadata": {},
   "source": [
    "# Chapter 1"
   ]
  },
  {
   "cell_type": "markdown",
   "metadata": {},
   "source": [
    "### Line plot customization"
   ]
  },
  {
   "cell_type": "markdown",
   "metadata": {},
   "source": [
    "```\n",
    "import matplotlib.pyplot as plt\n",
    "# ax deals with data, fig contains whole picture\n",
    "# Allows customization of small multiples\n",
    "fig, ax = plt.subplots(2,1,sharey=True) # 2 rows, 1 columns and share Y axis range\n",
    "ax[0,0].plot(df[\"X\"], df[\"Y1\"], marker = \"o\",linestyle=\"--\", color=\"r\")\n",
    "ax[1,0].plot(df[\"X\"], df[\"Y2\"], marker = \"v\",linestyle=\"None\", color=\"g\")\n",
    "ax.set_xlabel(\"X Axis\")\n",
    "ax.set_ylabel(\"Y Axis\")\n",
    "ax.set_title(\"Plot Title\")\n",
    "plt.show()\n",
    "```"
   ]
  },
  {
   "cell_type": "markdown",
   "metadata": {},
   "source": [
    "# Chapter 2"
   ]
  },
  {
   "cell_type": "markdown",
   "metadata": {},
   "source": [
    "- For accessing dataframe index: `df.index`\n",
    "- For retrieving dataframe index as list: `df.index.tolist()`\n",
    "- for accessing value for an index: `df.at[index_value, column_value]`"
   ]
  },
  {
   "cell_type": "markdown",
   "metadata": {},
   "source": [
    "### plot time series python\n"
   ]
  },
  {
   "cell_type": "markdown",
   "metadata": {},
   "source": [
    "```\n",
    "import pandas as pd\n",
    "df = pd.read_csv('filename.csv', parse_dates=[\"date_col\"], index_col=\"date_col\")\n",
    "df = df[\"1960-01-01\":\"1969-12-31\"] # Subsetting for smaller portion\n",
    "\n",
    "import matplotlib.pyplot as plt\n",
    "# Multiple time series on same plot\n",
    "fig, ax = plt.subplots()\n",
    "ax.plot(df.index, df['col1'], color='red')\n",
    "ax.tick_params('y', colors='red')\n",
    "ax.set_xlabel('Time Axis')\n",
    "ax.set_ylabel('First Y Axis')\n",
    "\n",
    "ax2 = ax.twinx() # Same x axis, but separate y axis\n",
    "ax2.plot(df.index, df['col2'], color='blue')\n",
    "ax2.tick_params('y', colors='blue')\n",
    "ax2.set_ylabel('Second Y Axis')\n",
    "\n",
    "ax2.annotate(\"Annotation text\", xy=(pd.Timestamp('2015-10-06'), 1),\n",
    "        xytext=(pd.Timestamp('2008-10-06'), -0.2),\n",
    "        arrowprops={\"arrowstyle\":\"->\", \"color\":\"gray\"})\n",
    "\n",
    "plt.show()\n",
    "```"
   ]
  },
  {
   "cell_type": "markdown",
   "metadata": {},
   "source": []
  }
 ],
 "metadata": {
  "language_info": {
   "name": "python"
  }
 },
 "nbformat": 4,
 "nbformat_minor": 2
}
