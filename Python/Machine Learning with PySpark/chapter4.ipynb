{
 "cells": [
  {
   "cell_type": "code",
   "execution_count": 1,
   "metadata": {},
   "outputs": [
    {
     "name": "stdout",
     "output_type": "stream",
     "text": [
      "+---+---+---+-------+------+---+----+------+--------+-----+\n",
      "|mon|dom|dow|carrier|flight|org|mile|depart|duration|delay|\n",
      "+---+---+---+-------+------+---+----+------+--------+-----+\n",
      "| 11| 20|  6|     US|    19|JFK|2153|  9.48|     351| NULL|\n",
      "|  0| 22|  2|     UA|  1107|ORD| 316| 16.33|      82|   30|\n",
      "|  2| 20|  4|     UA|   226|SFO| 337|  6.17|      82|   -8|\n",
      "|  9| 13|  1|     AA|   419|ORD|1236| 10.33|     195|   -5|\n",
      "|  4|  2|  5|     AA|   325|ORD| 258|  8.92|      65| NULL|\n",
      "+---+---+---+-------+------+---+----+------+--------+-----+\n",
      "only showing top 5 rows\n",
      "\n",
      "[('mon', 'int'), ('dom', 'int'), ('dow', 'int'), ('carrier', 'string'), ('flight', 'int'), ('org', 'string'), ('mile', 'int'), ('depart', 'double'), ('duration', 'int'), ('delay', 'int')]\n"
     ]
    }
   ],
   "source": [
    "# Import the SparkSession class\n",
    "from pyspark.sql import SparkSession\n",
    "\n",
    "# Create SparkSession object\n",
    "spark = SparkSession.builder \\\n",
    "                    .master('local[*]') \\\n",
    "                    .appName('test') \\\n",
    "                    .getOrCreate()\n",
    "\n",
    "# Read data from CSV file\n",
    "flights = spark.read.csv(\"dataset/flights.csv\",\n",
    "                         sep=',',\n",
    "                         header=True,\n",
    "                         inferSchema=True,\n",
    "                         nullValue='NA')\n",
    "\n",
    "\n",
    "# View the first five records\n",
    "flights.show(5)\n",
    "\n",
    "# Check column data types\n",
    "print(flights.dtypes)"
   ]
  },
  {
   "cell_type": "markdown",
   "metadata": {},
   "source": [
    "# Flight duration model: Pipeline stages"
   ]
  },
  {
   "cell_type": "markdown",
   "metadata": {},
   "source": [
    "You're going to create the stages for the flights duration model pipeline. You will use these in the next exercise to build a pipeline and to create a regression model."
   ]
  },
  {
   "cell_type": "code",
   "execution_count": 2,
   "metadata": {},
   "outputs": [],
   "source": [
    "from pyspark.ml.feature import StringIndexer, OneHotEncoder, VectorAssembler\n",
    "from pyspark.ml.regression import LinearRegression\n",
    "# Convert categorical strings to index values\n",
    "indexer = StringIndexer(inputCol=\"org\", outputCol=\"org_idx\")\n",
    "\n",
    "# One-hot encode index values\n",
    "onehot = OneHotEncoder(\n",
    "    inputCols=['org_idx' , 'dow'],\n",
    "    outputCols=['org_dummy' , 'dow_dummy']\n",
    ")\n",
    "\n",
    "# Assemble predictors into a single column\n",
    "assembler = VectorAssembler(inputCols=['km', 'org_dummy' , 'dow_dummy'], outputCol='features')\n",
    "\n",
    "# A linear regression object\n",
    "regression = LinearRegression(labelCol='duration')"
   ]
  },
  {
   "cell_type": "markdown",
   "metadata": {},
   "source": [
    "# Flight duration model: Pipeline model"
   ]
  },
  {
   "cell_type": "markdown",
   "metadata": {},
   "source": [
    "You're now ready to put those stages together in a pipeline.\n",
    "\n",
    "You'll construct the pipeline and then train the pipeline on the training data. This will apply each of the individual stages in the pipeline to the training data in turn. None of the stages will be exposed to the testing data at all: there will be no leakage!\n",
    "\n",
    "Once the entire pipeline has been trained it will then be used to make predictions on the testing data."
   ]
  },
  {
   "cell_type": "code",
   "execution_count": 3,
   "metadata": {},
   "outputs": [],
   "source": [
    "from pyspark.sql.functions import round\n",
    "flights = flights.withColumn('km', round(flights.mile * 1.60934, 0)).drop('mile')\n",
    "flights_train , flights_test = flights.randomSplit([0.8, 0.2], seed=42)"
   ]
  },
  {
   "cell_type": "code",
   "execution_count": 4,
   "metadata": {},
   "outputs": [],
   "source": [
    "# Import class for creating a pipeline\n",
    "from pyspark.ml import Pipeline\n",
    "\n",
    "# Construct a pipeline\n",
    "pipeline = Pipeline(stages=[indexer, onehot, assembler, regression])\n",
    "\n",
    "# Train the pipeline on the training data\n",
    "pipeline = pipeline.fit(flights_train)\n",
    "\n",
    "# Make predictions on the testing data\n",
    "predictions = pipeline.transform(flights_test)"
   ]
  },
  {
   "cell_type": "markdown",
   "metadata": {},
   "source": [
    "# SMS spam pipeline"
   ]
  },
  {
   "cell_type": "markdown",
   "metadata": {},
   "source": [
    "You haven't looked at the SMS data for quite a while. Last time we did the following:\n",
    "\n",
    "- split the text into tokens\n",
    "- removed stop words\n",
    "- applied the hashing trick\n",
    "- converted the data from counts to IDF and\n",
    "- trained a logistic regression model."
   ]
  },
  {
   "cell_type": "code",
   "execution_count": 5,
   "metadata": {},
   "outputs": [],
   "source": [
    "# from pyspark.ml.feature import Tokenizer, StopWordsRemover, HashingTF, IDF\n",
    "# from pyspark.ml.classification import LogisticRegression\n",
    "# # Break text into tokens at non-word characters\n",
    "# tokenizer = Tokenizer(inputCol='text', outputCol='words')\n",
    "\n",
    "# # Remove stop words\n",
    "# remover = StopWordsRemover(inputCol='words', outputCol='terms')\n",
    "\n",
    "# # Apply the hashing trick and transform to TF-IDF\n",
    "# hasher = HashingTF(inputCol='terms', outputCol=\"hash\")\n",
    "# idf = IDF(inputCol='hash', outputCol=\"features\")\n",
    "\n",
    "# # Create a logistic regression object and add everything to a pipeline\n",
    "# logistic = LogisticRegression()\n",
    "# pipeline = Pipeline(stages=[tokenizer, remover, hasher, idf, logistic])"
   ]
  },
  {
   "cell_type": "markdown",
   "metadata": {},
   "source": [
    "# Cross validating simple flight duration model"
   ]
  },
  {
   "cell_type": "markdown",
   "metadata": {},
   "source": [
    "You've already built a few models for predicting flight duration and evaluated them with a simple train/test split. However, cross-validation provides a much better way to evaluate model performance.\n",
    "\n",
    "In this exercise you're going to train a simple model for flight duration using cross-validation. Travel time is usually strongly correlated with distance, so using the km column alone should give a decent model."
   ]
  },
  {
   "cell_type": "code",
   "execution_count": 6,
   "metadata": {},
   "outputs": [
    {
     "name": "stdout",
     "output_type": "stream",
     "text": [
      "+---+---+---+-------+------+---+------+--------+-----+------+\n",
      "|mon|dom|dow|carrier|flight|org|depart|duration|delay|    km|\n",
      "+---+---+---+-------+------+---+------+--------+-----+------+\n",
      "|  0|  1|  2|     AA|     3|JFK|  12.0|     370|   11|3983.0|\n",
      "|  0|  1|  2|     AA|    59|JFK|   7.0|     385|  -16|4162.0|\n",
      "|  0|  1|  2|     AA|   150|SFO| 23.42|     325|   22|4352.0|\n",
      "|  0|  1|  2|     AA|   154|ORD| 17.25|     135|   49|1395.0|\n",
      "|  0|  1|  2|     AA|   181|JFK|  17.0|     379|  -10|3983.0|\n",
      "|  0|  1|  2|     AA|   317|LGA|  9.92|     170|   -9|1180.0|\n",
      "|  0|  1|  2|     AA|   325|ORD|  10.0|      70| NULL| 415.0|\n",
      "|  0|  1|  2|     AA|   335|LGA| 14.58|     165|   -4|1180.0|\n",
      "|  0|  1|  2|     AA|   336|ORD| 21.58|     115|   55|1180.0|\n",
      "|  0|  1|  2|     AA|   346|ORD|  19.5|     130|   63|1180.0|\n",
      "|  0|  1|  2|     AA|   366|ORD|  14.5|     135|   52|1180.0|\n",
      "|  0|  1|  2|     AA|   386|ORD|  8.75|     120|    8|1180.0|\n",
      "|  0|  1|  2|     AA|   392|ORD|  8.08|     120|    4|1180.0|\n",
      "|  0|  1|  2|     AA|   502|SJC| 17.58|     200|   66|2375.0|\n",
      "|  0|  1|  2|     AA|   510|ORD|  19.0|      80|   61| 378.0|\n",
      "|  0|  1|  2|     AA|   678|SFO| 16.25|      80|  139| 542.0|\n",
      "|  0|  1|  2|     AA|   705|LGA|   6.5|     240|   40|2235.0|\n",
      "|  0|  1|  2|     AA|   709|LGA|  8.25|     250|   27|2235.0|\n",
      "|  0|  1|  2|     AA|   860|ORD| 21.92|      64|   62| 378.0|\n",
      "|  0|  1|  2|     AA|   895|ORD| 12.67|     160|   68|1429.0|\n",
      "+---+---+---+-------+------+---+------+--------+-----+------+\n",
      "only showing top 20 rows\n",
      "\n"
     ]
    }
   ],
   "source": [
    "flights_train.show()"
   ]
  },
  {
   "cell_type": "code",
   "execution_count": 7,
   "metadata": {},
   "outputs": [],
   "source": [
    "from pyspark.ml.regression import LinearRegression\n",
    "from pyspark.ml.evaluation import RegressionEvaluator\n",
    "from pyspark.ml.tuning import ParamGridBuilder, CrossValidator\n",
    "\n",
    "# Create an empty parameter grid\n",
    "params = ParamGridBuilder().build()\n",
    "\n",
    "# Create objects for building and evaluating a regression model\n",
    "regression = LinearRegression(labelCol=\"duration\")\n",
    "evaluator = RegressionEvaluator(labelCol=\"duration\")\n",
    "\n",
    "# Create a cross validator\n",
    "cv = CrossValidator(estimator=Pipeline(stages=[indexer, onehot, assembler, regression]), estimatorParamMaps=params, evaluator=evaluator, numFolds=5)\n",
    "\n",
    "# Train and test model on multiple folds of the training data\n",
    "cv = cv.fit(flights_train)\n",
    "\n",
    "# NOTE: Since cross-valdiation builds multiple models, the fit() method can take a little while to complete."
   ]
  },
  {
   "cell_type": "markdown",
   "metadata": {},
   "source": [
    "# Cross validating flight duration model pipeline"
   ]
  },
  {
   "cell_type": "markdown",
   "metadata": {},
   "source": [
    "The cross-validated model that you just built was simple, using km alone to predict duration.\n",
    "\n",
    "Another important predictor of flight duration is the origin airport. Flights generally take longer to get into the air from busy airports. Let's see if adding this predictor improves the model!\n",
    "\n",
    "In this exercise you'll add the org field to the model. However, since org is categorical, there's more work to be done before it can be included: it must first be transformed to an index and then one-hot encoded before being assembled with km and used to build the regression model. We'll wrap these operations up in a pipeline."
   ]
  },
  {
   "cell_type": "code",
   "execution_count": 8,
   "metadata": {},
   "outputs": [],
   "source": [
    "# Create an indexer for the org field\n",
    "indexer = StringIndexer(inputCol=\"org\", outputCol=\"org_idx\")\n",
    "\n",
    "# Create an one-hot encoder for the indexed org field\n",
    "onehot = OneHotEncoder(inputCols=[\"org_idx\"], outputCols=[\"org_dummy\"])\n",
    "\n",
    "# Assemble the km and one-hot encoded fields\n",
    "assembler = VectorAssembler(inputCols=[\"km\", \"org_dummy\"], outputCol=\"features\")\n",
    "\n",
    "# Create a pipeline and cross-validator.\n",
    "pipeline = Pipeline(stages=[indexer, onehot, assembler, regression])\n",
    "cv = CrossValidator(estimator=pipeline,\n",
    "          estimatorParamMaps=params,\n",
    "          evaluator=evaluator)"
   ]
  },
  {
   "cell_type": "markdown",
   "metadata": {},
   "source": [
    "# Optimizing flights linear regression"
   ]
  },
  {
   "cell_type": "markdown",
   "metadata": {},
   "source": [
    "Up until now you've been using the default hyper-parameters when building your models. In this exercise you'll use cross validation to choose an optimal (or close to optimal) set of model hyper-parameters."
   ]
  },
  {
   "cell_type": "code",
   "execution_count": 9,
   "metadata": {},
   "outputs": [
    {
     "name": "stdout",
     "output_type": "stream",
     "text": [
      "Number of models to be tested:  12\n"
     ]
    }
   ],
   "source": [
    "# Create parameter grid\n",
    "params = ParamGridBuilder()\n",
    "\n",
    "# Add grids for two parameters\n",
    "params = params.addGrid(regression.regParam, [0.01, 0.1, 1.0, 10.0]) \\\n",
    "               .addGrid(regression.elasticNetParam, [0.0, 0.5, 1.0])\n",
    "\n",
    "# Build the parameter grid\n",
    "params = params.build()\n",
    "print('Number of models to be tested: ', len(params))\n",
    "\n",
    "# Create cross-validator\n",
    "cv = CrossValidator(estimator=pipeline, estimatorParamMaps=params, evaluator=evaluator, numFolds=5)"
   ]
  },
  {
   "cell_type": "markdown",
   "metadata": {},
   "source": [
    "# Dissecting the best flight duration model"
   ]
  },
  {
   "cell_type": "markdown",
   "metadata": {},
   "source": [
    "Now you're going to take a closer look at the pipeline, split out the stages and use it to make predictions on the testing data."
   ]
  },
  {
   "cell_type": "code",
   "execution_count": 10,
   "metadata": {},
   "outputs": [
    {
     "name": "stdout",
     "output_type": "stream",
     "text": [
      "[StringIndexerModel: uid=StringIndexer_f74822d04096, handleInvalid=error, OneHotEncoderModel: uid=OneHotEncoder_d08bc69aee32, dropLast=true, handleInvalid=error, numInputCols=1, numOutputCols=1, VectorAssembler_cb88a8b41c43, LinearRegressionModel: uid=LinearRegression_8ac887bd3fa8, numFeatures=8]\n",
      "RMSE = 11.06631665882969\n"
     ]
    }
   ],
   "source": [
    "cv = cv.fit(flights_train)\n",
    "predictions = cv.transform(flights_test)\n",
    "# Get the best model from cross validation\n",
    "best_model = cv.bestModel\n",
    "\n",
    "# Look at the stages in the best model\n",
    "print(best_model.stages)\n",
    "\n",
    "# Get the parameters for the LinearRegression object in the best model\n",
    "best_model.stages[3].extractParamMap()\n",
    "\n",
    "# Generate predictions on testing data using the best model then calculate RMSE\n",
    "predictions = best_model.transform(flights_test)\n",
    "print(\"RMSE =\", evaluator.evaluate(predictions))"
   ]
  },
  {
   "cell_type": "markdown",
   "metadata": {},
   "source": [
    "# SMS spam optimised"
   ]
  },
  {
   "cell_type": "markdown",
   "metadata": {},
   "source": [
    "The pipeline you built earlier for the SMS spam model used the default parameters for all of the elements in the pipeline. It's very unlikely that these parameters will give a particularly good model though. In this exercise you're going to run the pipeline for a selection of parameter values. We're going to do this in a systematic way: the values for each of the parameters will be laid out on a grid and then pipeline will systematically run across each point in the grid.\n",
    "\n",
    "In this exercise you'll set up a parameter grid which can be used with cross validation to choose a good set of parameters for the SMS spam classifier."
   ]
  },
  {
   "cell_type": "code",
   "execution_count": 11,
   "metadata": {},
   "outputs": [],
   "source": [
    "# hasher = HashingTF()\n",
    "# logistic = LogisticRegression()\n",
    "# # Create parameter grid\n",
    "# params = ParamGridBuilder()\n",
    "\n",
    "# # Add grid for hashing trick parameters\n",
    "# params = params.addGrid(hasher.numFeatures, [1024, 4096, 16384]) \\\n",
    "#                .addGrid(hasher.binary, [True, False])\n",
    "\n",
    "# # Add grid for logistic regression parameters\n",
    "# params = params.addGrid(logistic.regParam, [0.01, 0.1, 1.0 , 10.0]) \\\n",
    "#                .addGrid(logistic.elasticNetParam, [0.0, 0.5,  1.0 ])\n",
    "\n",
    "# # Build parameter grid\n",
    "# params = params.build()"
   ]
  },
  {
   "cell_type": "markdown",
   "metadata": {},
   "source": [
    "# How many models for grid search?"
   ]
  },
  {
   "cell_type": "markdown",
   "metadata": {},
   "source": [
    "```\n",
    "params = ParamGridBuilder().addGrid(hasher.numFeatures, [1024, 4096, 16384]) \\\n",
    "                           .addGrid(hasher.binary, [True, False]) \\\n",
    "                           .addGrid(logistic.regParam, [0.01, 0.1, 1.0, 10.0]) \\\n",
    "                           .addGrid(logistic.elasticNetParam, [0.0, 0.5, 1.0]) \\\n",
    "                           .build()\n",
    "\n",
    "cv = CrossValidator(..., estimatorParamMaps=params, numFolds=5)\n",
    "```"
   ]
  },
  {
   "cell_type": "markdown",
   "metadata": {},
   "source": [
    "- 3 * 2 * 4 * 3 * 5 (for 5 folds) = 360"
   ]
  },
  {
   "cell_type": "markdown",
   "metadata": {},
   "source": [
    "# Delayed flights with Gradient-Boosted Trees"
   ]
  },
  {
   "cell_type": "markdown",
   "metadata": {},
   "source": [
    "You've previously built a classifier for flights likely to be delayed using a Decision Tree. In this exercise you'll compare a Decision Tree model to a Gradient-Boosted Trees model."
   ]
  },
  {
   "cell_type": "code",
   "execution_count": 12,
   "metadata": {},
   "outputs": [],
   "source": [
    "indexer1 = StringIndexer(inputCol=\"org\", outputCol=\"org_idx\")\n",
    "indexer2 = StringIndexer(inputCol=\"carrier\", outputCol=\"carrier_idx\")\n",
    "\n",
    "# One-hot encode index values\n",
    "onehot = OneHotEncoder(\n",
    "    inputCols=['org_idx' , 'dow','carrier_idx'],\n",
    "    outputCols=['org_dummy' , 'dow_dummy','carrier_dummy']\n",
    ")\n",
    "\n",
    "# Assemble predictors into a single column\n",
    "assembler = VectorAssembler(inputCols=['km', 'org_dummy' , 'dow_dummy','carrier_dummy'], outputCol='features')\n"
   ]
  },
  {
   "cell_type": "code",
   "execution_count": 13,
   "metadata": {},
   "outputs": [
    {
     "name": "stdout",
     "output_type": "stream",
     "text": [
      "+---+---+---+-------+------+---+------+--------+-----+------+-----+-------+-----------+-------------+-------------+-------------+--------------------+\n",
      "|mon|dom|dow|carrier|flight|org|depart|duration|delay|    km|label|org_idx|carrier_idx|    org_dummy|    dow_dummy|carrier_dummy|            features|\n",
      "+---+---+---+-------+------+---+------+--------+-----+------+-----+-------+-----------+-------------+-------------+-------------+--------------------+\n",
      "| 11| 20|  6|     US|    19|JFK|  9.48|     351| NULL|3465.0|    0|    2.0|        6.0|(7,[2],[1.0])|    (6,[],[])|(8,[6],[1.0])|(22,[0,3,20],[346...|\n",
      "|  0| 22|  2|     UA|  1107|ORD| 16.33|      82|   30| 509.0|    1|    0.0|        0.0|(7,[0],[1.0])|(6,[2],[1.0])|(8,[0],[1.0])|(22,[0,1,10,14],[...|\n",
      "|  2| 20|  4|     UA|   226|SFO|  6.17|      82|   -8| 542.0|    0|    1.0|        0.0|(7,[1],[1.0])|(6,[4],[1.0])|(8,[0],[1.0])|(22,[0,2,12,14],[...|\n",
      "+---+---+---+-------+------+---+------+--------+-----+------+-----+-------+-----------+-------------+-------------+-------------+--------------------+\n",
      "only showing top 3 rows\n",
      "\n"
     ]
    }
   ],
   "source": [
    "from pyspark.sql.functions import when, col, isnull\n",
    "condition = ((col('delay') < 10) | (isnull(col('delay'))))\n",
    "flights = flights.withColumn('label', when(condition, 0).otherwise(1))\n",
    "pipeline = Pipeline(stages=[indexer1, indexer2, onehot, assembler])\n",
    "pipeline_model = pipeline.fit(flights)\n",
    "flights = pipeline_model.transform(flights)\n",
    "flights_train , flights_test = flights.randomSplit([0.8, 0.2], seed=42)\n",
    "flights.show(3)\n"
   ]
  },
  {
   "cell_type": "code",
   "execution_count": 14,
   "metadata": {},
   "outputs": [
    {
     "name": "stdout",
     "output_type": "stream",
     "text": [
      "0.528298086526482\n",
      "0.618553739070929\n",
      "20\n",
      "(22,[0,1,2,3,4,5,6,7,8,9,10,11,12,13,14,15,16,17,18,19,20,21],[0.3300171545838557,0.020393196663790546,0.028112408050702156,0.054261555010780116,0.046988953112125684,0.027490945231484036,0.02476292523639615,0.03793284453790415,0.038765884928593675,0.043579263909194005,0.015277357405699238,0.022537491409064116,0.03673663187204305,0.0667853205028239,0.012991268759016822,0.029851890027711932,0.03297375147574418,0.032638700570877026,0.01584451611134136,0.02184459942366945,0.039029031715426,0.02118430946175651])\n"
     ]
    }
   ],
   "source": [
    "# Import the classes required\n",
    "from pyspark.ml.classification import DecisionTreeClassifier, GBTClassifier\n",
    "from pyspark.ml.evaluation import BinaryClassificationEvaluator\n",
    "\n",
    "# Create model objects and train on training data\n",
    "tree = DecisionTreeClassifier().fit(flights_train)\n",
    "gbt = GBTClassifier().fit(flights_train)\n",
    "\n",
    "# Compare AUC on testing data\n",
    "evaluator = BinaryClassificationEvaluator()\n",
    "print(evaluator.evaluate(tree.transform(flights_test)))\n",
    "print(evaluator.evaluate(gbt.transform(flights_test)))\n",
    "\n",
    "# Find the number of trees and the relative importance of features\n",
    "print(gbt.getNumTrees)\n",
    "print(gbt.featureImportances)"
   ]
  },
  {
   "cell_type": "markdown",
   "metadata": {},
   "source": [
    "# Delayed flights with a Random Forest"
   ]
  },
  {
   "cell_type": "markdown",
   "metadata": {},
   "source": [
    "In this exercise you'll bring together cross validation and ensemble methods. You'll be training a Random Forest classifier to predict delayed flights, using cross validation to choose the best values for model parameters."
   ]
  },
  {
   "cell_type": "code",
   "execution_count": 15,
   "metadata": {},
   "outputs": [],
   "source": [
    "from pyspark.ml.classification import RandomForestClassifier\n",
    "# Create a random forest classifier\n",
    "forest = RandomForestClassifier()\n",
    "\n",
    "# Create a parameter grid\n",
    "params = ParamGridBuilder() \\\n",
    "            .addGrid(forest.featureSubsetStrategy, ['all', 'onethird', 'sqrt', 'log2']) \\\n",
    "            .addGrid(forest.maxDepth, [2, 5, 10]) \\\n",
    "            .build()\n",
    "\n",
    "# Create a binary classification evaluator\n",
    "evaluator = BinaryClassificationEvaluator()\n",
    "\n",
    "# Create a cross-validator\n",
    "cv = CrossValidator(estimator=forest, estimatorParamMaps=params, evaluator=evaluator, numFolds=5)"
   ]
  },
  {
   "cell_type": "markdown",
   "metadata": {},
   "source": [
    "# Evaluating Random Forest"
   ]
  },
  {
   "cell_type": "markdown",
   "metadata": {},
   "source": [
    "In this final exercise you'll be evaluating the results of cross-validation on a Random Forest model."
   ]
  },
  {
   "cell_type": "code",
   "execution_count": 18,
   "metadata": {},
   "outputs": [
    {
     "name": "stdout",
     "output_type": "stream",
     "text": [
      "[0.5604117314968236, 0.5904127752907027, 0.6002863085788851, 0.580441259713781, 0.5914494930911941, 0.6021460908053026, 0.5836791565416339, 0.5934243222985572, 0.6019920635465991, 0.5836791565416339, 0.5934243222985572, 0.6019920635465991]\n",
      "[0.5604117314968236, 0.5904127752907027, 0.6002863085788851, 0.580441259713781, 0.5914494930911941, 0.6021460908053026, 0.5836791565416339, 0.5934243222985572, 0.6019920635465991, 0.5836791565416339, 0.5934243222985572, 0.6019920635465991]\n",
      "maxDepth: Maximum depth of the tree. (>= 0) E.g., depth 0 means 1 leaf node; depth 1 means 1 internal node + 2 leaf nodes. Must be in range [0, 30]. (default: 5, current: 10)\n",
      "featureSubsetStrategy: The number of features to consider for splits at each tree node. Supported options: 'auto' (choose automatically for task: If numTrees == 1, set to 'all'. If numTrees > 1 (forest), set to 'sqrt' for classification and to 'onethird' for regression), 'all' (use all features), 'onethird' (use 1/3 of the features), 'sqrt' (use sqrt(number of features)), 'log2' (use log2(number of features)), 'n' (when n is in the range (0, 1.0], use n * number of features. When n is in the range (1, number of features), use n features). default = 'auto' (default: auto, current: onethird)\n",
      "0.6144517584329775\n"
     ]
    }
   ],
   "source": [
    "cv = cv.fit(flights_train)\n",
    "# Average AUC for each parameter combination in grid\n",
    "print(cv.avgMetrics)\n",
    "\n",
    "# Average AUC for the best model\n",
    "print(cv.avgMetrics)\n",
    "\n",
    "# What's the optimal parameter value for maxDepth?\n",
    "print(cv.bestModel.explainParam('maxDepth'))\n",
    "\n",
    "# What's the optimal parameter value for featureSubsetStrategy?\n",
    "print(cv.bestModel.explainParam('featureSubsetStrategy'))\n",
    "\n",
    "# AUC for best model on testing data\n",
    "print(evaluator.evaluate(cv.transform(flights_test)))\n"
   ]
  }
 ],
 "metadata": {
  "kernelspec": {
   "display_name": "env_py",
   "language": "python",
   "name": "python3"
  },
  "language_info": {
   "codemirror_mode": {
    "name": "ipython",
    "version": 3
   },
   "file_extension": ".py",
   "mimetype": "text/x-python",
   "name": "python",
   "nbconvert_exporter": "python",
   "pygments_lexer": "ipython3",
   "version": "3.8.11"
  }
 },
 "nbformat": 4,
 "nbformat_minor": 2
}
