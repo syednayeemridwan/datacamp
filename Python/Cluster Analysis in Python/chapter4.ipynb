{
 "cells": [
  {
   "cell_type": "markdown",
   "metadata": {},
   "source": [
    "# Extract RGB values from image"
   ]
  },
  {
   "cell_type": "markdown",
   "metadata": {},
   "source": [
    "There are broadly three steps to find the dominant colors in an image:\n",
    "\n",
    "- Extract RGB values into three lists.\n",
    "- Perform k-means clustering on scaled RGB values.\n",
    "- Display the colors of cluster centers."
   ]
  },
  {
   "cell_type": "markdown",
   "metadata": {},
   "source": [
    "<center><img src=\"images/04.01.jpg\"  style=\"width: 400px, height: 300px;\"/></center>"
   ]
  },
  {
   "cell_type": "code",
   "execution_count": 1,
   "metadata": {},
   "outputs": [
    {
     "name": "stdout",
     "output_type": "stream",
     "text": [
      "(169, 269, 3)\n"
     ]
    }
   ],
   "source": [
    "# Import image class of matplotlib\n",
    "import matplotlib.image as img\n",
    "r = []\n",
    "g = []\n",
    "b = []\n",
    "# Read batman image and print dimensions\n",
    "batman_image = img.imread('images/04.01.jpg')\n",
    "print(batman_image.shape)\n",
    "\n",
    "# Store RGB values of all pixels in lists r, g and b\n",
    "for row in batman_image:\n",
    "    for temp_r, temp_g, temp_b in row:\n",
    "        r.append(temp_r)\n",
    "        g.append(temp_g)\n",
    "        b.append(temp_b)"
   ]
  },
  {
   "cell_type": "markdown",
   "metadata": {},
   "source": [
    "# How many dominant colors?"
   ]
  },
  {
   "cell_type": "markdown",
   "metadata": {},
   "source": [
    "Construct an elbow plot with the DataFrame. How many dominant colors are present?"
   ]
  },
  {
   "cell_type": "code",
   "execution_count": 8,
   "metadata": {},
   "outputs": [],
   "source": [
    "import pandas as pd\n",
    "import matplotlib.pyplot as plt\n",
    "import seaborn as sns\n",
    "# Import the kmeans and vq functions\n",
    "from scipy.cluster.vq import kmeans, vq\n",
    "\n",
    "batman_df = pd.DataFrame({\n",
    "    \"red\" : r,\n",
    "    \"green\" : g,\n",
    "    \"blue\" : b\n",
    "})"
   ]
  },
  {
   "cell_type": "code",
   "execution_count": 9,
   "metadata": {},
   "outputs": [
    {
     "data": {
      "image/png": "[encoded data removed]",
      "text/plain": [
       "<Figure size 432x288 with 1 Axes>"
      ]
     },
     "metadata": {
      "needs_background": "light"
     },
     "output_type": "display_data"
    }
   ],
   "source": [
    "from scipy.cluster.vq import whiten\n",
    "batman_df[\"scaled_red\"] = whiten(batman_df[\"red\"])\n",
    "batman_df[\"scaled_green\"] = whiten(batman_df[\"green\"])\n",
    "batman_df[\"scaled_blue\"] = whiten(batman_df[\"blue\"])\n",
    "\n",
    "distortions = []\n",
    "num_clusters = range(1, 7)\n",
    "\n",
    "# Create a list of distortions from the kmeans function\n",
    "for i in num_clusters:\n",
    "    cluster_centers, distortion = kmeans(batman_df[['scaled_red' , 'scaled_green', 'scaled_blue']], i)\n",
    "    distortions.append(distortion)\n",
    "\n",
    "# Create a DataFrame with two lists, num_clusters and distortions\n",
    "elbow_plot = pd.DataFrame({'num_clusters':num_clusters,\n",
    "'distortions' : distortions})\n",
    "\n",
    "# Create a line plot of num_clusters and distortions\n",
    "sns.lineplot(x='num_clusters', y='distortions', data = elbow_plot)\n",
    "plt.xticks(num_clusters)\n",
    "plt.show()"
   ]
  },
  {
   "cell_type": "markdown",
   "metadata": {},
   "source": [
    "# Display dominant colors"
   ]
  },
  {
   "cell_type": "markdown",
   "metadata": {},
   "source": [
    "To display the dominant colors, convert the colors of the cluster centers to their raw values and then converted them to the range of 0-1, using the following formula: `converted_pixel = standardized_pixel * pixel_std / 255`"
   ]
  },
  {
   "cell_type": "code",
   "execution_count": 14,
   "metadata": {},
   "outputs": [
    {
     "data": {
      "text/plain": [
       "array([[ 0.30021892,  0.20560515,  0.16398733],\n",
       "       [-0.65917736,  1.31008137,  1.56291797],\n",
       "       [ 1.61102175, -1.21474604, -0.64157567]])"
      ]
     },
     "execution_count": 14,
     "metadata": {},
     "output_type": "execute_result"
    }
   ],
   "source": [
    "cluster_centers, distortion = kmeans(batman_df[['scaled_red' , 'scaled_green', 'scaled_blue']], 3)\n",
    "cluster_centers"
   ]
  },
  {
   "cell_type": "code",
   "execution_count": 16,
   "metadata": {},
   "outputs": [
    {
     "name": "stderr",
     "output_type": "stream",
     "text": [
      "Clipping input data to the valid range for imshow with RGB data ([0..1] for floats or [0..255] for integers).\n"
     ]
    },
    {
     "data": {
      "image/png": "[encoded data removed]",
      "text/plain": [
       "<Figure size 432x288 with 1 Axes>"
      ]
     },
     "metadata": {
      "needs_background": "light"
     },
     "output_type": "display_data"
    }
   ],
   "source": [
    "colors = []\n",
    "# Get standard deviations of each color\n",
    "r_std, g_std, b_std = batman_df[['red', 'green', 'blue']].std()\n",
    "\n",
    "for cluster_center in cluster_centers:\n",
    "    scaled_r, scaled_g, scaled_b = cluster_center\n",
    "    # Convert each standardized value to scaled value\n",
    "    colors.append((\n",
    "        scaled_r * r_std / 255,\n",
    "        scaled_g * g_std / 255,\n",
    "        scaled_b * b_std / 255\n",
    "    ))\n",
    "\n",
    "# Display colors of cluster centers\n",
    "plt.imshow([colors])\n",
    "plt.show()"
   ]
  },
  {
   "cell_type": "markdown",
   "metadata": {},
   "source": [
    "# TF-IDF of movie plots"
   ]
  },
  {
   "cell_type": "markdown",
   "metadata": {},
   "source": [
    "Let us use the plots of randomly selected movies to perform document clustering on. Before performing clustering on documents, they need to be cleaned of any unwanted noise (such as special characters and stop words) and converted into a sparse matrix through TF-IDF of the documents."
   ]
  },
  {
   "cell_type": "code",
   "execution_count": 20,
   "metadata": {},
   "outputs": [
    {
     "name": "stdout",
     "output_type": "stream",
     "text": [
      "<class 'list'>\n",
      "Cable Hogue is isolated in the desert, awaiting his partners, Taggart and Bowen, who are scouting for water. The two plot to seize what little water remains to save themselves. Cable, who hesitates to defend himself, is disarmed and abandoned to almost certain death.\n",
      "Confronted with sandstorms and other desert elements, Cable bargains with God. Four days later, about to perish, he stumbles upon a muddy pit. He digs and discovers an abundant supply of water.\n",
      "After discovering that his well is the only source of water between two towns on a stagecoach route, he decides to live there and build a business. Cable's first paying customer is the Rev. Joshua Duncan Sloane, a wandering minister of a church of his own revelation. Joshua doubts the legitimacy of Cable's claim to the spring, prompting Cable to race into town to file at the land office.\n",
      "Cable faces the mockery of everyone he tells about his discovery. That does not deter him from buying 2 acres (0.8 ha) surrounding his spring. He immediately goes to the stage office to drum up business but is thrown out by the skeptical owner. He pitches his business plan to a bank president, who is dubious about the claim. Cable impresses the banker with his attitude and he is staked to $100.\n",
      "Cable, who hasn’t bathed since his desert wanderings, decides to treat himself to a night with Hildy, a prostitute in the town saloon. They quickly develop a jovial understanding but before they can consummate the transaction, Cable remembers that he has still not set up his boundary markers and rushes out, much to Hildy's chagrin. She chases him out of the saloon in a sequence that wreaks havoc on the town.\n",
      "Back at the spring, Cable and Joshua get to work, dubbing the claim Cable Springs. The two decide to go into town and are drunk by the time they arrive. Cable makes up with Hildy and spends the night with her, leaving Joshua to pursue his passion: the seduction of emotionally vulnerable women.\n",
      "Cable and Joshua continue to run the robust business, delighting in shocking the often genteel travelers with the realities of frontier life. In moments of solitude, Cable and Joshua philosophize on the nature of love and the passing of their era. Joshua decides that he must return to town. Hildy arrives at Cable Springs having been \"asked\" to leave by the modernizing townfolk, who can no longer abide open prostitution in their midst. She tells Cable that she will leave for San Francisco in the morning but winds up staying with him for three weeks. This time elapses during a tender, romantic montage.\n",
      "Then one day, Taggart and Bowen arrive on the stagecoach. Cable lets them believe that he bears them no ill will, and he alludes to a huge stash of cash that he has hoarded, knowing that the two men will return to steal it. When they do, Cable outwits them, by throwing rattlesnakes into the pit they have dug. When they surrender, he orders them to strip to their underwear to venture into the desert, just as he had been forced to do. Taggart, believing Cable will once again hesitate to defend himself, reaches for his gun but Hogue shoots him dead.\n",
      "A motor car appears, driving right past Cable Springs with no need or interest in stopping for water. The drivers laugh at the archaic scene of western violence as they race past. \"Drove right by,\" says Cable in amazement. \"Well, that's gonna be the next fella's worry.\"\n",
      "Cable takes mercy on the grovelling Bowen. He even gives him Cable Springs, having decided to go to San Francisco to find Hildy. The stagecoach arrives and Cable gets ready to pack up when suddenly another motorcar [2] appears. This one does stop and Hildy emerges, opulently dressed. She has become prosperous and, now on her way to New Orleans, has come to see if Cable is ready to join her. He agrees but while he loads the motorcar he accidentally trips its brake. The car runs over him as he pushes Bowen out of the way.\n",
      "Joshua, who arrives by a black motorcycle with a sidecar, gives a eulogy for Cable as he dies. This segues into a funeral with the cast standing mournfully over Cable's grave. They are grieving not only the death of the man but the era he represents. The stagecoach and motorcar drive off in opposite directions. A coyote wanders into the abandoned Cable Springs. But the coyote has a collar – possibly symbolising the taming of the wilderness.\n"
     ]
    },
    {
     "data": {
      "text/html": [
       "<div>\n",
       "<style scoped>\n",
       "    .dataframe tbody tr th:only-of-type {\n",
       "        vertical-align: middle;\n",
       "    }\n",
       "\n",
       "    .dataframe tbody tr th {\n",
       "        vertical-align: top;\n",
       "    }\n",
       "\n",
       "    .dataframe thead th {\n",
       "        text-align: right;\n",
       "    }\n",
       "</style>\n",
       "<table border=\"1\" class=\"dataframe\">\n",
       "  <thead>\n",
       "    <tr style=\"text-align: right;\">\n",
       "      <th></th>\n",
       "      <th>Title</th>\n",
       "      <th>Plot</th>\n",
       "    </tr>\n",
       "  </thead>\n",
       "  <tbody>\n",
       "    <tr>\n",
       "      <th>0</th>\n",
       "      <td>The Ballad of Cable Hogue</td>\n",
       "      <td>Cable Hogue is isolated in the desert, awaitin...</td>\n",
       "    </tr>\n",
       "    <tr>\n",
       "      <th>1</th>\n",
       "      <td>Monsters vs. Aliens</td>\n",
       "      <td>In the far reaches of space, a planet explodes...</td>\n",
       "    </tr>\n",
       "    <tr>\n",
       "      <th>2</th>\n",
       "      <td>The Bandit Queen</td>\n",
       "      <td>Zarra Montalvo is the daughter of an American ...</td>\n",
       "    </tr>\n",
       "    <tr>\n",
       "      <th>3</th>\n",
       "      <td>Broken Arrow</td>\n",
       "      <td>Major Vic Deakins (John Travolta) and Captain ...</td>\n",
       "    </tr>\n",
       "    <tr>\n",
       "      <th>4</th>\n",
       "      <td>Dolemite</td>\n",
       "      <td>Dolemite is a pimp and nightclub owner who is ...</td>\n",
       "    </tr>\n",
       "  </tbody>\n",
       "</table>\n",
       "</div>"
      ],
      "text/plain": [
       "                       Title  \\\n",
       "0  The Ballad of Cable Hogue   \n",
       "1        Monsters vs. Aliens   \n",
       "2           The Bandit Queen   \n",
       "3               Broken Arrow   \n",
       "4                   Dolemite   \n",
       "\n",
       "                                                Plot  \n",
       "0  Cable Hogue is isolated in the desert, awaitin...  \n",
       "1  In the far reaches of space, a planet explodes...  \n",
       "2  Zarra Montalvo is the daughter of an American ...  \n",
       "3  Major Vic Deakins (John Travolta) and Captain ...  \n",
       "4  Dolemite is a pimp and nightclub owner who is ...  "
      ]
     },
     "execution_count": 20,
     "metadata": {},
     "output_type": "execute_result"
    }
   ],
   "source": [
    "plot_df = pd.read_csv(\"dataset/movies_plot.csv\")\n",
    "plots  = list(plot_df[\"Plot\"].values)\n",
    "print(type(plots))\n",
    "print(plots[0])\n",
    "plot_df.head()"
   ]
  },
  {
   "cell_type": "code",
   "execution_count": 31,
   "metadata": {},
   "outputs": [],
   "source": [
    "# Import TfidfVectorizer class from sklearn\n",
    "from sklearn.feature_extraction.text import TfidfVectorizer\n",
    "import nltk\n",
    "from nltk.corpus import stopwords\n",
    "# nltk.download('stopwords')\n",
    "\n",
    "stop_words = set(stopwords.words('english'))\n",
    "# Initialize TfidfVectorizer\n",
    "tfidf_vectorizer = TfidfVectorizer(max_df=0.75, max_features=50,\n",
    "min_df=0.1, stop_words=stop_words)  # , tokenizer=remove_noise\n",
    "\n",
    "# Use the .fit_transform() method on the list plots\n",
    "tfidf_matrix = tfidf_vectorizer.fit_transform(plots)"
   ]
  },
  {
   "cell_type": "markdown",
   "metadata": {},
   "source": [
    "# Top terms in movie clusters"
   ]
  },
  {
   "cell_type": "markdown",
   "metadata": {},
   "source": [
    "Now that you have created a sparse matrix, generate cluster centers and print the top three terms in each cluster. Use the `.todense()` method to convert the sparse matrix, tfidf_matrix to a normal matrix for the `kmeans()` function to process. Then, use the `.get_feature_names()` method to get a list of terms in the tfidf_vectorizer object"
   ]
  },
  {
   "cell_type": "code",
   "execution_count": 32,
   "metadata": {},
   "outputs": [
    {
     "name": "stdout",
     "output_type": "stream",
     "text": [
      "['film', 'life', 'family']\n",
      "['one', 'back', 'two']\n"
     ]
    }
   ],
   "source": [
    "num_clusters = 2\n",
    "\n",
    "# Generate cluster centers through the kmeans function\n",
    "cluster_centers, distortion = kmeans(tfidf_matrix.todense(), num_clusters)\n",
    "\n",
    "# Generate terms from the tfidf_vectorizer object\n",
    "terms = tfidf_vectorizer.get_feature_names()\n",
    "\n",
    "for i in range(num_clusters):\n",
    "    # Sort the terms and print top 3 terms\n",
    "    center_terms = dict(zip(terms, cluster_centers[i]))\n",
    "    sorted_terms = sorted(center_terms, key=center_terms.get, reverse=True)\n",
    "    print(sorted_terms[:3])"
   ]
  },
  {
   "cell_type": "markdown",
   "metadata": {},
   "source": [
    "# Clustering with many features"
   ]
  },
  {
   "cell_type": "markdown",
   "metadata": {},
   "source": [
    "What should you do if you have too many features for clustering?"
   ]
  },
  {
   "cell_type": "markdown",
   "metadata": {},
   "source": [
    "- Reduce features using a technique like Factor Analysis"
   ]
  },
  {
   "cell_type": "markdown",
   "metadata": {},
   "source": [
    "# Basic checks on clusters"
   ]
  },
  {
   "cell_type": "markdown",
   "metadata": {},
   "source": [
    "In the FIFA 18 dataset, we have concentrated on defenders in previous exercises. Let us try to focus on attacking attributes of a player. Pace (`pac`), Dribbling (`dri`) and Shooting (`sho`) are features that are present in attack minded players. In this exercise, k-means clustering has already been applied on the data using the scaled values of these three attributes. Try some basic checks on the clusters so formed."
   ]
  },
  {
   "cell_type": "code",
   "execution_count": 34,
   "metadata": {},
   "outputs": [],
   "source": [
    "fifa = pd.read_csv(\"dataset/fifa_18_sample_data.csv\")\n",
    "fifa['scaled_sliding_tackle'] = whiten(fifa['sliding_tackle'])\n",
    "fifa['scaled_aggression'] = whiten(fifa[ 'aggression'])\n",
    "\n",
    "# Fit the data into a k-means algorithm\n",
    "cluster_centers,_ = kmeans(fifa[['scaled_sliding_tackle' , 'scaled_aggression']], 3)\n",
    "\n",
    "# Assign cluster labels\n",
    "fifa['cluster_labels'],_ = vq(fifa[['scaled_sliding_tackle' , 'scaled_aggression']], cluster_centers)\n"
   ]
  },
  {
   "cell_type": "code",
   "execution_count": 35,
   "metadata": {},
   "outputs": [
    {
     "name": "stdout",
     "output_type": "stream",
     "text": [
      "cluster_labels\n",
      "0    311\n",
      "1    507\n",
      "2    182\n",
      "Name: ID, dtype: int64\n",
      "cluster_labels\n",
      "0    77279.742765\n",
      "1    68502.958580\n",
      "2    58609.890110\n",
      "Name: eur_wage, dtype: float64\n"
     ]
    }
   ],
   "source": [
    "\n",
    "# Print the size of the clusters\n",
    "print(fifa.groupby('cluster_labels')['ID'].count())\n",
    "\n",
    "# Print the mean value of wages in each cluster\n",
    "print(fifa.groupby('cluster_labels')['eur_wage'].mean())"
   ]
  },
  {
   "cell_type": "markdown",
   "metadata": {},
   "source": [
    "# FIFA 18: what makes a complete player?"
   ]
  },
  {
   "cell_type": "markdown",
   "metadata": {},
   "source": [
    "The overall level of a player in FIFA 18 is defined by six characteristics: pace (`pac`), shooting (`sho`), passing (`pas`), dribbling (`dri`), defending (`def`), physical (`phy`). you will use all six characteristics to create clusters. The data for this exercise is stored in a pandas DataFrame, `fifa`"
   ]
  },
  {
   "cell_type": "markdown",
   "metadata": {},
   "source": [
    "<center><img src=\"images/04.02.jpg\"  style=\"width: 400px, height: 300px;\"/></center>\n"
   ]
  },
  {
   "cell_type": "code",
   "execution_count": 41,
   "metadata": {},
   "outputs": [],
   "source": [
    "fifa[\"pac_scaled\"] = whiten(fifa[\"pac\"])\n",
    "fifa[\"sho_scaled\"] = whiten(fifa[\"sho\"])\n",
    "fifa[\"pas_scaled\"] = whiten(fifa[\"pas\"])\n",
    "fifa[\"dri_scaled\"] = whiten(fifa[\"dri\"])\n",
    "fifa[\"def_scaled\"] = whiten(fifa[\"def\"])\n",
    "fifa[\"phy_scaled\"] = whiten(fifa[\"phy\"])\n",
    "scaled_features = [\"pac_scaled\", \"sho_scaled\", \"pas_scaled\", \"dri_scaled\", \"def_scaled\", \"phy_scaled\"]\n"
   ]
  },
  {
   "cell_type": "code",
   "execution_count": 42,
   "metadata": {},
   "outputs": [
    {
     "name": "stdout",
     "output_type": "stream",
     "text": [
      "                pac_scaled  sho_scaled  pas_scaled  dri_scaled  def_scaled  \\\n",
      "cluster_labels                                                               \n",
      "0                 5.454041    3.668379    7.174064    6.767575    3.966702   \n",
      "1                 6.684070    5.430915    8.455704    8.514977    2.500552   \n",
      "\n",
      "                phy_scaled  \n",
      "cluster_labels              \n",
      "0                 9.209874  \n",
      "1                 8.334066  \n"
     ]
    }
   ],
   "source": [
    "# Create centroids with kmeans for 2 clusters\n",
    "cluster_centers,_ = kmeans(fifa[scaled_features], 2)\n",
    "\n",
    "# Assign cluster labels and print cluster centers\n",
    "fifa['cluster_labels'], _ = vq(fifa[scaled_features], cluster_centers)\n",
    "print(fifa.groupby('cluster_labels')[scaled_features].mean())\n",
    "\n",
    "\n"
   ]
  },
  {
   "cell_type": "code",
   "execution_count": 43,
   "metadata": {},
   "outputs": [
    {
     "data": {
      "image/png": "[encoded data removed]",
      "text/plain": [
       "<Figure size 432x288 with 1 Axes>"
      ]
     },
     "metadata": {
      "needs_background": "light"
     },
     "output_type": "display_data"
    }
   ],
   "source": [
    "# Plot cluster centers to visualize clusters\n",
    "fifa.groupby('cluster_labels')[scaled_features].mean().plot(legend=True, kind='bar')\n",
    "plt.show()"
   ]
  },
  {
   "cell_type": "code",
   "execution_count": 44,
   "metadata": {},
   "outputs": [
    {
     "name": "stdout",
     "output_type": "stream",
     "text": [
      "1 ['Cristiano Ronaldo' 'L. Messi' 'Neymar' 'L. Suárez' 'M. Neuer']\n",
      "0 ['Sergio Ramos' 'G. Chiellini' 'L. Bonucci' 'J. Boateng' 'D. Godín']\n"
     ]
    }
   ],
   "source": [
    "# Get the name column of first 5 players in each cluster\n",
    "for cluster in fifa['cluster_labels'].unique():\n",
    "    print(cluster, fifa[fifa['cluster_labels'] == cluster]['name'].values[:5])"
   ]
  }
 ],
 "metadata": {
  "kernelspec": {
   "display_name": "env_py",
   "language": "python",
   "name": "python3"
  },
  "language_info": {
   "codemirror_mode": {
    "name": "ipython",
    "version": 3
   },
   "file_extension": ".py",
   "mimetype": "text/x-python",
   "name": "python",
   "nbconvert_exporter": "python",
   "pygments_lexer": "ipython3",
   "version": "3.8.11"
  }
 },
 "nbformat": 4,
 "nbformat_minor": 2
}
