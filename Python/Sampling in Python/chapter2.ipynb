{
 "cells": [
  {
   "cell_type": "markdown",
   "metadata": {},
   "source": [
    "# Simple random sampling"
   ]
  },
  {
   "cell_type": "markdown",
   "metadata": {},
   "source": [
    "The simplest method of sampling a population is the one you've seen already. It is known as simple random sampling (sometimes abbreviated to \"SRS\"), and involves picking rows at random, one at a time, where each row has the same chance of being picked as any other.\n",
    "\n",
    "In this chapter, you'll apply sampling methods to a synthetic (fictional) employee attrition dataset from IBM, where \"attrition\" in this context means leaving the company."
   ]
  },
  {
   "cell_type": "code",
   "execution_count": 11,
   "metadata": {},
   "outputs": [
    {
     "name": "stdout",
     "output_type": "stream",
     "text": [
      "      Age  Attrition     BusinessTravel  DailyRate            Department  \\\n",
      "1134   35        0.0      Travel_Rarely        583  Research_Development   \n",
      "1150   52        0.0         Non-Travel        585                 Sales   \n",
      "531    33        0.0      Travel_Rarely        931  Research_Development   \n",
      "395    31        0.0      Travel_Rarely       1332  Research_Development   \n",
      "392    29        0.0      Travel_Rarely        942  Research_Development   \n",
      "...   ...        ...                ...        ...                   ...   \n",
      "361    27        0.0  Travel_Frequently       1410                 Sales   \n",
      "1180   36        0.0      Travel_Rarely        530                 Sales   \n",
      "230    26        0.0      Travel_Rarely       1443                 Sales   \n",
      "211    29        0.0  Travel_Frequently        410  Research_Development   \n",
      "890    30        0.0  Travel_Frequently       1312  Research_Development   \n",
      "\n",
      "      DistanceFromHome      Education    EducationField  \\\n",
      "1134                25         Master           Medical   \n",
      "1150                29         Master     Life_Sciences   \n",
      "531                 14       Bachelor           Medical   \n",
      "395                 11        College           Medical   \n",
      "392                 15  Below_College     Life_Sciences   \n",
      "...                ...            ...               ...   \n",
      "361                  3  Below_College           Medical   \n",
      "1180                 2         Master     Life_Sciences   \n",
      "230                 23       Bachelor         Marketing   \n",
      "211                  2  Below_College     Life_Sciences   \n",
      "890                  2         Master  Technical_Degree   \n",
      "\n",
      "     EnvironmentSatisfaction  Gender  ...  PerformanceRating  \\\n",
      "1134                    High  Female  ...          Excellent   \n",
      "1150                     Low    Male  ...          Excellent   \n",
      "531                Very_High  Female  ...          Excellent   \n",
      "395                     High    Male  ...          Excellent   \n",
      "392                   Medium  Female  ...          Excellent   \n",
      "...                      ...     ...  ...                ...   \n",
      "361                Very_High  Female  ...        Outstanding   \n",
      "1180                    High  Female  ...          Excellent   \n",
      "230                     High  Female  ...          Excellent   \n",
      "211                Very_High  Female  ...          Excellent   \n",
      "890                Very_High  Female  ...          Excellent   \n",
      "\n",
      "     RelationshipSatisfaction  StockOptionLevel TotalWorkingYears  \\\n",
      "1134                     High                 1                16   \n",
      "1150                   Medium                 2                16   \n",
      "531                 Very_High                 1                 8   \n",
      "395                 Very_High                 0                 6   \n",
      "392                       Low                 1                 6   \n",
      "...                       ...               ...               ...   \n",
      "361                    Medium                 2                 6   \n",
      "1180                     High                 0                17   \n",
      "230                      High                 1                 5   \n",
      "211                      High                 3                 4   \n",
      "890                 Very_High                 0                10   \n",
      "\n",
      "     TrainingTimesLastYear WorkLifeBalance  YearsAtCompany  \\\n",
      "1134                     3            Good              16   \n",
      "1150                     3            Good               9   \n",
      "531                      5          Better               8   \n",
      "395                      2            Good               6   \n",
      "392                      2            Good               5   \n",
      "...                    ...             ...             ...   \n",
      "361                      3          Better               6   \n",
      "1180                     2            Good              13   \n",
      "230                      2            Good               2   \n",
      "211                      3          Better               3   \n",
      "890                      2          Better               9   \n",
      "\n",
      "      YearsInCurrentRole  YearsSinceLastPromotion YearsWithCurrManager  \n",
      "1134                  10                       10                    1  \n",
      "1150                   8                        0                    0  \n",
      "531                    7                        1                    6  \n",
      "395                    5                        0                    1  \n",
      "392                    4                        1                    3  \n",
      "...                  ...                      ...                  ...  \n",
      "361                    5                        0                    4  \n",
      "1180                   7                        6                    7  \n",
      "230                    2                        0                    0  \n",
      "211                    2                        0                    2  \n",
      "890                    7                        0                    7  \n",
      "\n",
      "[70 rows x 31 columns]\n"
     ]
    }
   ],
   "source": [
    "import pandas as pd\n",
    "\n",
    "attrition_pop = pd.read_feather(\"dataset/attrition.feather\")\n",
    "\n",
    "# Sample 70 rows using simple random sampling and set the seed\n",
    "attrition_samp = attrition_pop.sample(n=70, random_state = 18900217)\n",
    "\n",
    "# Print the sample\n",
    "print(attrition_samp)"
   ]
  },
  {
   "cell_type": "markdown",
   "metadata": {},
   "source": [
    "# Systematic sampling"
   ]
  },
  {
   "cell_type": "markdown",
   "metadata": {},
   "source": [
    "One sampling method that avoids randomness is called systematic sampling. Here, you pick rows from the population at regular intervals.\n",
    "\n",
    "For example, if the population dataset had one thousand rows, and you wanted a sample size of five, you could pick rows 0, 200, 400, 600, and 800."
   ]
  },
  {
   "cell_type": "code",
   "execution_count": 12,
   "metadata": {},
   "outputs": [
    {
     "name": "stdout",
     "output_type": "stream",
     "text": [
      "      Age  Attrition BusinessTravel  DailyRate            Department  \\\n",
      "0      21        0.0  Travel_Rarely        391  Research_Development   \n",
      "21     19        0.0  Travel_Rarely       1181  Research_Development   \n",
      "42     45        0.0  Travel_Rarely        252  Research_Development   \n",
      "63     23        0.0  Travel_Rarely        373  Research_Development   \n",
      "84     30        1.0  Travel_Rarely        945                 Sales   \n",
      "...   ...        ...            ...        ...                   ...   \n",
      "1365   48        0.0  Travel_Rarely        715  Research_Development   \n",
      "1386   48        0.0  Travel_Rarely       1355  Research_Development   \n",
      "1407   50        0.0  Travel_Rarely        989  Research_Development   \n",
      "1428   50        0.0     Non-Travel        881  Research_Development   \n",
      "1449   52        0.0  Travel_Rarely        699  Research_Development   \n",
      "\n",
      "      DistanceFromHome      Education EducationField EnvironmentSatisfaction  \\\n",
      "0                   15        College  Life_Sciences                    High   \n",
      "21                   3  Below_College        Medical                  Medium   \n",
      "42                   2       Bachelor  Life_Sciences                  Medium   \n",
      "63                   1        College  Life_Sciences               Very_High   \n",
      "84                   9       Bachelor        Medical                  Medium   \n",
      "...                ...            ...            ...                     ...   \n",
      "1365                 1       Bachelor  Life_Sciences               Very_High   \n",
      "1386                 4         Master  Life_Sciences                    High   \n",
      "1407                 7        College        Medical                  Medium   \n",
      "1428                 2         Master  Life_Sciences                     Low   \n",
      "1449                 1         Master  Life_Sciences                    High   \n",
      "\n",
      "      Gender  ...  PerformanceRating RelationshipSatisfaction  \\\n",
      "0       Male  ...          Excellent                Very_High   \n",
      "21    Female  ...          Excellent                Very_High   \n",
      "42    Female  ...          Excellent                Very_High   \n",
      "63      Male  ...        Outstanding                Very_High   \n",
      "84      Male  ...          Excellent                     High   \n",
      "...      ...  ...                ...                      ...   \n",
      "1365    Male  ...          Excellent                     High   \n",
      "1386    Male  ...          Excellent                   Medium   \n",
      "1407  Female  ...          Excellent                Very_High   \n",
      "1428    Male  ...          Excellent                Very_High   \n",
      "1449    Male  ...          Excellent                      Low   \n",
      "\n",
      "      StockOptionLevel TotalWorkingYears TrainingTimesLastYear  \\\n",
      "0                    0                 0                     6   \n",
      "21                   0                 1                     3   \n",
      "42                   0                 1                     3   \n",
      "63                   1                 1                     2   \n",
      "84                   0                 1                     3   \n",
      "...                ...               ...                   ...   \n",
      "1365                 0                25                     3   \n",
      "1386                 0                27                     3   \n",
      "1407                 1                29                     2   \n",
      "1428                 1                31                     3   \n",
      "1449                 1                34                     5   \n",
      "\n",
      "     WorkLifeBalance  YearsAtCompany  YearsInCurrentRole  \\\n",
      "0             Better               0                   0   \n",
      "21            Better               1                   0   \n",
      "42            Better               1                   0   \n",
      "63            Better               1                   0   \n",
      "84              Good               1                   0   \n",
      "...              ...             ...                 ...   \n",
      "1365            Best               1                   0   \n",
      "1386          Better              15                  11   \n",
      "1407            Good              27                   3   \n",
      "1428          Better              31                   6   \n",
      "1449          Better              33                  18   \n",
      "\n",
      "      YearsSinceLastPromotion YearsWithCurrManager  \n",
      "0                           0                    0  \n",
      "21                          0                    0  \n",
      "42                          0                    0  \n",
      "63                          0                    1  \n",
      "84                          0                    0  \n",
      "...                       ...                  ...  \n",
      "1365                        0                    0  \n",
      "1386                        4                    8  \n",
      "1407                       13                    8  \n",
      "1428                       14                    7  \n",
      "1449                       11                    9  \n",
      "\n",
      "[70 rows x 31 columns]\n"
     ]
    }
   ],
   "source": [
    "# Set the sample size to 70\n",
    "sample_size = 70\n",
    "\n",
    "# Calculate the population size from attrition_pop\n",
    "pop_size = len(attrition_pop)\n",
    "\n",
    "# Calculate the interval\n",
    "interval = pop_size // sample_size\n",
    "\n",
    "# Systematically sample 70 rows\n",
    "attrition_sys_samp = attrition_pop[::interval]\n",
    "\n",
    "# Print the sample\n",
    "print(attrition_sys_samp)"
   ]
  },
  {
   "cell_type": "markdown",
   "metadata": {},
   "source": [
    "# Is systematic sampling OK?"
   ]
  },
  {
   "cell_type": "markdown",
   "metadata": {},
   "source": [
    "Systematic sampling has a problem: if the data has been sorted, or there is some sort of pattern or meaning behind the row order, then the resulting sample may not be representative of the whole population. The problem can be solved by shuffling the rows, but then systematic sampling is equivalent to simple random sampling.\n",
    "\n",
    "Here you'll look at how to determine whether or not there is a problem."
   ]
  },
  {
   "cell_type": "code",
   "execution_count": 13,
   "metadata": {},
   "outputs": [
    {
     "data": {
      "image/png": "[encoded data removed]",
      "text/plain": [
       "<Figure size 432x288 with 1 Axes>"
      ]
     },
     "metadata": {
      "needs_background": "light"
     },
     "output_type": "display_data"
    }
   ],
   "source": [
    "import matplotlib.pyplot as plt\n",
    "# Add an index column to attrition_pop\n",
    "attrition_pop_id = attrition_pop.reset_index()\n",
    "\n",
    "# Plot YearsAtCompany vs. index for attrition_pop_id\n",
    "attrition_pop_id.plot(x = \"index\", y = \"YearsAtCompany\", kind = \"scatter\")\n",
    "plt.show()"
   ]
  },
  {
   "cell_type": "code",
   "execution_count": 14,
   "metadata": {},
   "outputs": [
    {
     "data": {
      "image/png": "[encoded data removed]",
      "text/plain": [
       "<Figure size 432x288 with 1 Axes>"
      ]
     },
     "metadata": {
      "needs_background": "light"
     },
     "output_type": "display_data"
    }
   ],
   "source": [
    "# Shuffle the rows of attrition_pop\n",
    "attrition_shuffled = attrition_pop.sample(frac=1)\n",
    "\n",
    "# Reset the row indexes and create an index column\n",
    "attrition_shuffled = attrition_shuffled.reset_index(drop = True).reset_index()\n",
    "\n",
    "# Plot YearsAtCompany vs. index for attrition_shuffled\n",
    "attrition_shuffled.plot(x = \"index\", y = \"YearsAtCompany\", kind = \"scatter\")\n",
    "plt.show()"
   ]
  },
  {
   "cell_type": "markdown",
   "metadata": {},
   "source": [
    "# Which sampling method?"
   ]
  },
  {
   "cell_type": "markdown",
   "metadata": {},
   "source": [
    "So far, you've learned about several sampling methods, including simple random sampling and stratified sampling. It's important to know when to use each of them."
   ]
  },
  {
   "cell_type": "markdown",
   "metadata": {},
   "source": [
    "<center><img src=\"images/02.01.png\"  style=\"width: 400px, height: 300px;\"/></center>"
   ]
  },
  {
   "cell_type": "markdown",
   "metadata": {},
   "source": [
    "# Proportional stratified sampling"
   ]
  },
  {
   "cell_type": "markdown",
   "metadata": {},
   "source": [
    "If you are interested in subgroups within the population, then you may need to carefully control the counts of each subgroup within the population. Proportional stratified sampling results in subgroup sizes within the sample that are representative of the subgroup sizes within the population. It is equivalent to performing a simple random sample on each subgroup."
   ]
  },
  {
   "cell_type": "code",
   "execution_count": 15,
   "metadata": {},
   "outputs": [
    {
     "name": "stdout",
     "output_type": "stream",
     "text": [
      "Bachelor         0.389116\n",
      "Master           0.270748\n",
      "College          0.191837\n",
      "Below_College    0.115646\n",
      "Doctor           0.032653\n",
      "Name: Education, dtype: float64\n"
     ]
    }
   ],
   "source": [
    "# Proportion of employees by Education level\n",
    "education_counts_pop = attrition_pop[\"Education\"].value_counts(normalize = True)\n",
    "\n",
    "# Print education_counts_pop\n",
    "print(education_counts_pop)"
   ]
  },
  {
   "cell_type": "code",
   "execution_count": 20,
   "metadata": {},
   "outputs": [
    {
     "name": "stdout",
     "output_type": "stream",
     "text": [
      "Bachelor         0.389456\n",
      "Master           0.270408\n",
      "College          0.192177\n",
      "Below_College    0.115646\n",
      "Doctor           0.032313\n",
      "Name: Education, dtype: float64\n"
     ]
    }
   ],
   "source": [
    "# Proportional stratified sampling for 40% of each Education group\n",
    "attrition_strat = attrition_pop.groupby(\"Education\").sample(frac=.4, random_state = 2022)\n",
    "\n",
    "\n",
    "# Print the sample\n",
    "# print(attrition_strat)\n",
    "# Calculate the Education level proportions from attrition_strat\n",
    "education_counts_strat = attrition_strat['Education'].value_counts(normalize=True)\n",
    "\n",
    "# Print education_counts_strat\n",
    "print(education_counts_strat)"
   ]
  },
  {
   "cell_type": "markdown",
   "metadata": {},
   "source": [
    "# Equal counts stratified sampling"
   ]
  },
  {
   "cell_type": "markdown",
   "metadata": {},
   "source": [
    "If one subgroup is larger than another subgroup in the population, but you don't want to reflect that difference in your analysis, then you can use equal counts stratified sampling to generate samples where each subgroup has the same amount of data. For example, if you are analyzing blood types, O is the most common blood type worldwide, but you may wish to have equal amounts of O, A, B, and AB in your sample."
   ]
  },
  {
   "cell_type": "code",
   "execution_count": 21,
   "metadata": {},
   "outputs": [
    {
     "name": "stdout",
     "output_type": "stream",
     "text": [
      "Below_College    0.2\n",
      "College          0.2\n",
      "Bachelor         0.2\n",
      "Master           0.2\n",
      "Doctor           0.2\n",
      "Name: Education, dtype: float64\n"
     ]
    }
   ],
   "source": [
    "# Get 30 employees from each Education group\n",
    "attrition_eq = attrition_pop.groupby(\"Education\").sample(n=30, random_state = 2022)\n",
    "\n",
    "\n",
    "# Print the sample\n",
    "# print(attrition_eq)\n",
    "\n",
    "# Get the proportions from attrition_eq\n",
    "education_counts_eq = attrition_eq[\"Education\"].value_counts(normalize = True)\n",
    "\n",
    "# Print the results\n",
    "print(education_counts_eq)"
   ]
  },
  {
   "cell_type": "markdown",
   "metadata": {},
   "source": [
    "# Weighted sampling"
   ]
  },
  {
   "cell_type": "markdown",
   "metadata": {},
   "source": [
    "Stratified sampling provides rules about the probability of picking rows from your dataset at the subgroup level. A generalization of this is weighted sampling, which lets you specify rules about the probability of picking rows at the row level. The probability of picking any given row is proportional to the weight value for that row."
   ]
  },
  {
   "cell_type": "code",
   "execution_count": 23,
   "metadata": {},
   "outputs": [
    {
     "data": {
      "image/png": "[encoded data removed]",
      "text/plain": [
       "<Figure size 432x288 with 1 Axes>"
      ]
     },
     "metadata": {
      "needs_background": "light"
     },
     "output_type": "display_data"
    }
   ],
   "source": [
    "import numpy as np\n",
    "# Plot YearsAtCompany from attrition_pop as a histogram\n",
    "attrition_pop[\"YearsAtCompany\"].hist(bins=np.arange(0,41,1))\n",
    "plt.show()"
   ]
  },
  {
   "cell_type": "code",
   "execution_count": 25,
   "metadata": {},
   "outputs": [
    {
     "data": {
      "image/png": "[encoded data removed]",
      "text/plain": [
       "<Figure size 432x288 with 1 Axes>"
      ]
     },
     "metadata": {
      "needs_background": "light"
     },
     "output_type": "display_data"
    }
   ],
   "source": [
    "# Sample 400 employees weighted by YearsAtCompany\n",
    "attrition_weight = attrition_pop.sample(n=400, weights =\"YearsAtCompany\" )\n",
    "\n",
    "# Print the sample\n",
    "# print(attrition_weight)\n",
    "\n",
    "# Plot YearsAtCompany from attrition_weight as a histogram\n",
    "attrition_weight['YearsAtCompany'].hist(bins=np.arange(0, 41, 1))\n",
    "plt.show()"
   ]
  },
  {
   "cell_type": "markdown",
   "metadata": {},
   "source": [
    "# Benefits of clustering"
   ]
  },
  {
   "cell_type": "markdown",
   "metadata": {},
   "source": [
    "Cluster sampling is a two-stage sampling technique that is closely related to stratified sampling. First, you randomly sample which subgroups to include in the sample, then randomly sample rows within each subgroup.\n",
    "\n",
    "In which of the following situations would cluster sampling be preferable to stratified sampling?"
   ]
  },
  {
   "cell_type": "markdown",
   "metadata": {},
   "source": [
    "- Collecting an overall sample requires lots of travel from one group to another to collect samples within each group."
   ]
  },
  {
   "cell_type": "markdown",
   "metadata": {},
   "source": [
    "# Performing cluster sampling"
   ]
  },
  {
   "cell_type": "markdown",
   "metadata": {},
   "source": [
    "Now that you know when to use cluster sampling, it's time to put it into action. In this exercise, you'll explore the `JobRole` column of the attrition dataset. You can think of each job role as a subgroup of the whole population of employees."
   ]
  },
  {
   "cell_type": "code",
   "execution_count": 27,
   "metadata": {},
   "outputs": [
    {
     "name": "stdout",
     "output_type": "stream",
     "text": [
      "['Manufacturing_Director', 'Research_Director', 'Manager', 'Sales_Representative']\n"
     ]
    }
   ],
   "source": [
    "import random\n",
    "# Create a list of unique JobRole values\n",
    "job_roles_pop = list(attrition_pop[\"JobRole\"].unique())\n",
    "\n",
    "# Randomly sample four JobRole values\n",
    "job_roles_samp = random.sample(job_roles_pop, 4)\n",
    "\n",
    "# Print the result\n",
    "print(job_roles_samp)"
   ]
  },
  {
   "cell_type": "code",
   "execution_count": 37,
   "metadata": {},
   "outputs": [
    {
     "name": "stdout",
     "output_type": "stream",
     "text": [
      "      Age  Attrition     BusinessTravel  DailyRate            Department  \\\n",
      "1      19        1.0      Travel_Rarely        528                 Sales   \n",
      "3      18        0.0      Travel_Rarely        812                 Sales   \n",
      "4      18        1.0  Travel_Frequently       1306                 Sales   \n",
      "9      18        1.0  Travel_Frequently        544                 Sales   \n",
      "23     19        1.0  Travel_Frequently        602                 Sales   \n",
      "...   ...        ...                ...        ...                   ...   \n",
      "1463   56        0.0      Travel_Rarely       1400  Research_Development   \n",
      "1464   55        0.0      Travel_Rarely        452  Research_Development   \n",
      "1465   55        0.0      Travel_Rarely       1117                 Sales   \n",
      "1466   58        0.0         Non-Travel        350                 Sales   \n",
      "1469   58        1.0      Travel_Rarely        286  Research_Development   \n",
      "\n",
      "      DistanceFromHome      Education    EducationField  \\\n",
      "1                   22  Below_College         Marketing   \n",
      "3                   10       Bachelor           Medical   \n",
      "4                    5       Bachelor         Marketing   \n",
      "9                    3        College           Medical   \n",
      "23                   1  Below_College  Technical_Degree   \n",
      "...                ...            ...               ...   \n",
      "1463                 7       Bachelor     Life_Sciences   \n",
      "1464                 1       Bachelor           Medical   \n",
      "1465                18         Doctor     Life_Sciences   \n",
      "1466                 2       Bachelor           Medical   \n",
      "1469                 2         Master     Life_Sciences   \n",
      "\n",
      "     EnvironmentSatisfaction  Gender  ...  PerformanceRating  \\\n",
      "1                  Very_High    Male  ...          Excellent   \n",
      "3                  Very_High  Female  ...          Excellent   \n",
      "4                     Medium    Male  ...          Excellent   \n",
      "9                     Medium  Female  ...          Excellent   \n",
      "23                      High  Female  ...        Outstanding   \n",
      "...                      ...     ...  ...                ...   \n",
      "1463               Very_High    Male  ...          Excellent   \n",
      "1464               Very_High    Male  ...          Excellent   \n",
      "1465                     Low  Female  ...        Outstanding   \n",
      "1466                  Medium    Male  ...        Outstanding   \n",
      "1469               Very_High    Male  ...          Excellent   \n",
      "\n",
      "     RelationshipSatisfaction  StockOptionLevel TotalWorkingYears  \\\n",
      "1                   Very_High                 0                 0   \n",
      "3                         Low                 0                 0   \n",
      "4                   Very_High                 0                 0   \n",
      "9                        High                 0                 0   \n",
      "23                        Low                 0                 1   \n",
      "...                       ...               ...               ...   \n",
      "1463                      Low                 0                37   \n",
      "1464                     High                 0                37   \n",
      "1465                Very_High                 0                37   \n",
      "1466                Very_High                 1                37   \n",
      "1469                Very_High                 0                40   \n",
      "\n",
      "     TrainingTimesLastYear WorkLifeBalance  YearsAtCompany  \\\n",
      "1                        2            Good               0   \n",
      "3                        2          Better               0   \n",
      "4                        3          Better               0   \n",
      "9                        2            Best               0   \n",
      "23                       5            Best               0   \n",
      "...                    ...             ...             ...   \n",
      "1463                     3            Good               6   \n",
      "1464                     2          Better              36   \n",
      "1465                     2          Better              10   \n",
      "1466                     0            Good              16   \n",
      "1469                     2          Better              31   \n",
      "\n",
      "      YearsInCurrentRole  YearsSinceLastPromotion YearsWithCurrManager  \n",
      "1                      0                        0                    0  \n",
      "3                      0                        0                    0  \n",
      "4                      0                        0                    0  \n",
      "9                      0                        0                    0  \n",
      "23                     0                        0                    0  \n",
      "...                  ...                      ...                  ...  \n",
      "1463                   4                        0                    2  \n",
      "1464                  10                        4                   13  \n",
      "1465                   9                        7                    7  \n",
      "1466                   9                       14                   14  \n",
      "1469                  15                       13                    8  \n",
      "\n",
      "[410 rows x 31 columns]\n"
     ]
    }
   ],
   "source": [
    "# Filter for rows where JobRole is in job_roles_samp\n",
    "jobrole_condition = attrition_pop[\"JobRole\"].isin(job_roles_samp)\n",
    "attrition_filtered = attrition_pop[jobrole_condition]\n",
    "\n",
    "# Print the result\n",
    "print(attrition_filtered)"
   ]
  },
  {
   "cell_type": "code",
   "execution_count": 41,
   "metadata": {},
   "outputs": [
    {
     "name": "stdout",
     "output_type": "stream",
     "text": [
      "['Research_Scientist', 'Sales_Representative', 'Laboratory_Technician', 'Human_Resources', 'Sales_Executive', 'Manufacturing_Director', 'Healthcare_Representative', 'Research_Director', 'Manager']\n",
      "Categories (9, object): ['Healthcare_Representative', 'Human_Resources', 'Laboratory_Technician', 'Manager', ..., 'Research_Director', 'Research_Scientist', 'Sales_Executive', 'Sales_Representative']\n",
      "['Research_Scientist', 'Sales_Representative', 'Laboratory_Technician', 'Human_Resources', 'Sales_Executive', 'Manufacturing_Director', 'Healthcare_Representative', 'Research_Director', 'Manager']\n",
      "Categories (9, object): ['Healthcare_Representative', 'Human_Resources', 'Laboratory_Technician', 'Manager', ..., 'Research_Director', 'Research_Scientist', 'Sales_Executive', 'Sales_Representative']\n",
      "<class 'pandas.core.frame.DataFrame'>\n",
      "RangeIndex: 1470 entries, 0 to 1469\n",
      "Data columns (total 31 columns):\n",
      " #   Column                    Non-Null Count  Dtype   \n",
      "---  ------                    --------------  -----   \n",
      " 0   Age                       1470 non-null   int32   \n",
      " 1   Attrition                 1470 non-null   float64 \n",
      " 2   BusinessTravel            1470 non-null   category\n",
      " 3   DailyRate                 1470 non-null   int32   \n",
      " 4   Department                1470 non-null   category\n",
      " 5   DistanceFromHome          1470 non-null   int32   \n",
      " 6   Education                 1470 non-null   category\n",
      " 7   EducationField            1470 non-null   category\n",
      " 8   EnvironmentSatisfaction   1470 non-null   category\n",
      " 9   Gender                    1470 non-null   category\n",
      " 10  HourlyRate                1470 non-null   int32   \n",
      " 11  JobInvolvement            1470 non-null   category\n",
      " 12  JobLevel                  1470 non-null   int32   \n",
      " 13  JobRole                   1470 non-null   category\n",
      " 14  JobSatisfaction           1470 non-null   category\n",
      " 15  MaritalStatus             1470 non-null   category\n",
      " 16  MonthlyIncome             1470 non-null   int32   \n",
      " 17  MonthlyRate               1470 non-null   int32   \n",
      " 18  NumCompaniesWorked        1470 non-null   int32   \n",
      " 19  OverTime                  1470 non-null   category\n",
      " 20  PercentSalaryHike         1470 non-null   int32   \n",
      " 21  PerformanceRating         1470 non-null   category\n",
      " 22  RelationshipSatisfaction  1470 non-null   category\n",
      " 23  StockOptionLevel          1470 non-null   int32   \n",
      " 24  TotalWorkingYears         1470 non-null   int32   \n",
      " 25  TrainingTimesLastYear     1470 non-null   int32   \n",
      " 26  WorkLifeBalance           1470 non-null   category\n",
      " 27  YearsAtCompany            1470 non-null   int32   \n",
      " 28  YearsInCurrentRole        1470 non-null   int32   \n",
      " 29  YearsSinceLastPromotion   1470 non-null   int32   \n",
      " 30  YearsWithCurrManager      1470 non-null   int32   \n",
      "dtypes: category(14), float64(1), int32(16)\n",
      "memory usage: 126.2 KB\n"
     ]
    },
    {
     "name": "stderr",
     "output_type": "stream",
     "text": [
      "C:\\Users\\88016\\AppData\\Local\\Temp/ipykernel_25492/1862406922.py:3: SettingWithCopyWarning: \n",
      "A value is trying to be set on a copy of a slice from a DataFrame.\n",
      "Try using .loc[row_indexer,col_indexer] = value instead\n",
      "\n",
      "See the caveats in the documentation: https://pandas.pydata.org/pandas-docs/stable/user_guide/indexing.html#returning-a-view-versus-a-copy\n",
      "  attrition_filtered['JobRole'] = attrition_filtered['JobRole'].cat.remove_unused_categories()\n"
     ]
    }
   ],
   "source": [
    "print(attrition_pop[\"JobRole\"].unique())\n",
    "# Remove categories with no rows\n",
    "attrition_filtered['JobRole'] = attrition_filtered['JobRole'].cat.remove_unused_categories()\n",
    "print(attrition_pop[\"JobRole\"].unique())\n",
    "attrition_pop.info()"
   ]
  },
  {
   "cell_type": "code",
   "execution_count": 42,
   "metadata": {},
   "outputs": [
    {
     "name": "stdout",
     "output_type": "stream",
     "text": [
      "      Age  Attrition     BusinessTravel  DailyRate            Department  \\\n",
      "1380   44        0.0      Travel_Rarely       1099                 Sales   \n",
      "1395   46        0.0      Travel_Rarely        488                 Sales   \n",
      "1300   42        0.0      Travel_Rarely        532  Research_Development   \n",
      "1271   39        0.0      Travel_Rarely        117  Research_Development   \n",
      "1354   42        0.0      Travel_Rarely       1059  Research_Development   \n",
      "858    32        0.0      Travel_Rarely        495  Research_Development   \n",
      "1417   59        0.0         Non-Travel       1420       Human_Resources   \n",
      "1307   41        0.0      Travel_Rarely       1276                 Sales   \n",
      "1377   52        0.0      Travel_Rarely       1053  Research_Development   \n",
      "1388   50        0.0      Travel_Rarely        264                 Sales   \n",
      "1463   56        0.0      Travel_Rarely       1400  Research_Development   \n",
      "464    46        0.0         Non-Travel       1144  Research_Development   \n",
      "1313   54        0.0      Travel_Rarely       1441  Research_Development   \n",
      "1203   36        0.0      Travel_Rarely        429  Research_Development   \n",
      "1427   52        0.0  Travel_Frequently        890  Research_Development   \n",
      "1188   37        0.0      Travel_Rarely       1305  Research_Development   \n",
      "453    49        0.0         Non-Travel       1002  Research_Development   \n",
      "1200   43        0.0  Travel_Frequently       1082  Research_Development   \n",
      "876    38        0.0      Travel_Rarely        397  Research_Development   \n",
      "1176   36        0.0      Travel_Rarely        363  Research_Development   \n",
      "1344   54        0.0      Travel_Rarely        821  Research_Development   \n",
      "1126   42        0.0      Travel_Rarely        810  Research_Development   \n",
      "1437   50        0.0      Travel_Rarely       1126  Research_Development   \n",
      "1252   42        0.0  Travel_Frequently        458  Research_Development   \n",
      "1457   55        0.0      Travel_Rarely        692  Research_Development   \n",
      "664    27        0.0      Travel_Rarely        269  Research_Development   \n",
      "1216   38        0.0      Travel_Rarely        849  Research_Development   \n",
      "1362   43        0.0      Travel_Rarely        982  Research_Development   \n",
      "790    36        0.0         Non-Travel        427  Research_Development   \n",
      "1335   44        0.0      Travel_Rarely       1313  Research_Development   \n",
      "268    29        1.0      Travel_Rarely        341                 Sales   \n",
      "1011   37        0.0  Travel_Frequently        319                 Sales   \n",
      "406    35        0.0      Travel_Rarely       1402                 Sales   \n",
      "154    31        1.0  Travel_Frequently        703                 Sales   \n",
      "109    20        0.0      Travel_Rarely        654                 Sales   \n",
      "104    20        1.0  Travel_Frequently        769                 Sales   \n",
      "169    41        1.0      Travel_Rarely       1356                 Sales   \n",
      "330    34        0.0  Travel_Frequently        303                 Sales   \n",
      "1256   38        0.0      Travel_Rarely        723                 Sales   \n",
      "3      18        0.0      Travel_Rarely        812                 Sales   \n",
      "\n",
      "      DistanceFromHome      Education    EducationField  \\\n",
      "1380                 5       Bachelor         Marketing   \n",
      "1395                 2       Bachelor  Technical_Degree   \n",
      "1300                 4        College  Technical_Degree   \n",
      "1271                10  Below_College           Medical   \n",
      "1354                 9        College             Other   \n",
      "858                 10       Bachelor           Medical   \n",
      "1417                 2         Master   Human_Resources   \n",
      "1307                 2         Doctor     Life_Sciences   \n",
      "1377                 1        College     Life_Sciences   \n",
      "1388                 9       Bachelor         Marketing   \n",
      "1463                 7       Bachelor     Life_Sciences   \n",
      "464                  7         Master           Medical   \n",
      "1313                17       Bachelor  Technical_Degree   \n",
      "1203                 2         Master     Life_Sciences   \n",
      "1427                25         Master           Medical   \n",
      "1188                10         Master     Life_Sciences   \n",
      "453                 18         Master     Life_Sciences   \n",
      "1200                27       Bachelor     Life_Sciences   \n",
      "876                  2        College           Medical   \n",
      "1176                 1       Bachelor  Technical_Degree   \n",
      "1344                 5        College           Medical   \n",
      "1126                23         Doctor     Life_Sciences   \n",
      "1437                 1        College           Medical   \n",
      "1252                26         Doctor           Medical   \n",
      "1457                14         Master           Medical   \n",
      "664                  5  Below_College  Technical_Degree   \n",
      "1216                25        College     Life_Sciences   \n",
      "1362                12       Bachelor     Life_Sciences   \n",
      "790                  8       Bachelor     Life_Sciences   \n",
      "1335                 7       Bachelor           Medical   \n",
      "268                  1       Bachelor           Medical   \n",
      "1011                 4         Master         Marketing   \n",
      "406                 28         Master     Life_Sciences   \n",
      "154                  2       Bachelor     Life_Sciences   \n",
      "109                 21       Bachelor         Marketing   \n",
      "104                  9       Bachelor         Marketing   \n",
      "169                 20        College         Marketing   \n",
      "330                  2         Master         Marketing   \n",
      "1256                 2         Master         Marketing   \n",
      "3                   10       Bachelor           Medical   \n",
      "\n",
      "     EnvironmentSatisfaction  Gender  ...  PerformanceRating  \\\n",
      "1380                  Medium    Male  ...          Excellent   \n",
      "1395                    High  Female  ...          Excellent   \n",
      "1300                    High    Male  ...          Excellent   \n",
      "1271                    High    Male  ...          Excellent   \n",
      "1354               Very_High    Male  ...        Outstanding   \n",
      "858                     High    Male  ...        Outstanding   \n",
      "1417                    High  Female  ...        Outstanding   \n",
      "1307                  Medium  Female  ...          Excellent   \n",
      "1377               Very_High    Male  ...          Excellent   \n",
      "1388                    High    Male  ...          Excellent   \n",
      "1463               Very_High    Male  ...          Excellent   \n",
      "464                     High  Female  ...          Excellent   \n",
      "1313                    High  Female  ...          Excellent   \n",
      "1203                    High  Female  ...          Excellent   \n",
      "1427                    High  Female  ...        Outstanding   \n",
      "1188                    High    Male  ...          Excellent   \n",
      "453                Very_High    Male  ...          Excellent   \n",
      "1200                    High  Female  ...          Excellent   \n",
      "876                Very_High  Female  ...          Excellent   \n",
      "1176                    High  Female  ...        Outstanding   \n",
      "1344                     Low    Male  ...          Excellent   \n",
      "1126                     Low  Female  ...          Excellent   \n",
      "1437               Very_High    Male  ...        Outstanding   \n",
      "1252                     Low  Female  ...          Excellent   \n",
      "1457                    High    Male  ...          Excellent   \n",
      "664                     High    Male  ...          Excellent   \n",
      "1216                     Low  Female  ...          Excellent   \n",
      "1362                     Low    Male  ...          Excellent   \n",
      "790                      Low  Female  ...          Excellent   \n",
      "1335                  Medium  Female  ...          Excellent   \n",
      "268                   Medium  Female  ...          Excellent   \n",
      "1011                     Low    Male  ...          Excellent   \n",
      "406                   Medium  Female  ...        Outstanding   \n",
      "154                     High  Female  ...          Excellent   \n",
      "109                     High    Male  ...          Excellent   \n",
      "104                Very_High  Female  ...          Excellent   \n",
      "169                   Medium  Female  ...        Outstanding   \n",
      "330                     High  Female  ...          Excellent   \n",
      "1256                  Medium  Female  ...        Outstanding   \n",
      "3                  Very_High  Female  ...          Excellent   \n",
      "\n",
      "     RelationshipSatisfaction  StockOptionLevel TotalWorkingYears  \\\n",
      "1380                     High                 1                26   \n",
      "1395                   Medium                 1                28   \n",
      "1300                Very_High                 0                22   \n",
      "1271                Very_High                 0                21   \n",
      "1354                Very_High                 0                24   \n",
      "858                    Medium                 0                10   \n",
      "1417                Very_High                 1                30   \n",
      "1307                   Medium                 1                22   \n",
      "1377                   Medium                 1                26   \n",
      "1388                     High                 1                27   \n",
      "1463                      Low                 0                37   \n",
      "464                      High                 0                 7   \n",
      "1313                     High                 1                22   \n",
      "1203                Very_High                 0                18   \n",
      "1427                     High                 0                31   \n",
      "1188                Very_High                 0                18   \n",
      "453                       Low                 2                 7   \n",
      "1200                     High                 1                18   \n",
      "876                 Very_High                 1                10   \n",
      "1176                     High                 1                17   \n",
      "1344                     High                 1                24   \n",
      "1126                   Medium                 0                16   \n",
      "1437                     High                 1                32   \n",
      "1252                     High                 0                20   \n",
      "1457                Very_High                 0                36   \n",
      "664                    Medium                 1                 9   \n",
      "1216                     High                 1                19   \n",
      "1362                     High                 1                25   \n",
      "790                       Low                 1                10   \n",
      "1335                Very_High                 1                23   \n",
      "268                      High                 3                 5   \n",
      "1011                     High                 1                13   \n",
      "406                       Low                 2                 6   \n",
      "154                      High                 0                 3   \n",
      "109                 Very_High                 0                 2   \n",
      "104                    Medium                 0                 2   \n",
      "169                 Very_High                 0                 4   \n",
      "330                 Very_High                 1                 6   \n",
      "1256                      Low                 2                20   \n",
      "3                         Low                 0                 0   \n",
      "\n",
      "     TrainingTimesLastYear WorkLifeBalance  YearsAtCompany  \\\n",
      "1380                     5          Better              22   \n",
      "1395                     2            Good               7   \n",
      "1300                     3          Better              22   \n",
      "1271                     3          Better              21   \n",
      "1354                     2          Better               1   \n",
      "858                      5            Best               5   \n",
      "1417                     3          Better               3   \n",
      "1307                     2          Better              18   \n",
      "1377                     2            Good               9   \n",
      "1388                     2          Better               1   \n",
      "1463                     3            Good               6   \n",
      "464                      2            Best               1   \n",
      "1313                     2          Better              10   \n",
      "1203                     2          Better              16   \n",
      "1427                     3          Better               9   \n",
      "1188                     2            Good               1   \n",
      "453                      0          Better               7   \n",
      "1200                     1          Better               8   \n",
      "876                      6            Best               5   \n",
      "1176                     2          Better               7   \n",
      "1344                     4            Good               4   \n",
      "1126                     2          Better               1   \n",
      "1437                     1            Good               5   \n",
      "1252                     6          Better               1   \n",
      "1457                     3          Better              24   \n",
      "664                      3          Better               9   \n",
      "1216                     2          Better              10   \n",
      "1362                     3          Better              25   \n",
      "790                      2          Better               8   \n",
      "1335                     4            Good              22   \n",
      "268                      3          Better               3   \n",
      "1011                     2          Better               9   \n",
      "406                      5          Better               5   \n",
      "154                      3            Best               1   \n",
      "109                      2          Better               2   \n",
      "104                      3          Better               2   \n",
      "169                      5            Good               4   \n",
      "330                      3          Better               4   \n",
      "1256                     4            Good               4   \n",
      "3                        2          Better               0   \n",
      "\n",
      "      YearsInCurrentRole  YearsSinceLastPromotion YearsWithCurrManager  \n",
      "1380                   9                        3                   10  \n",
      "1395                   7                        7                    7  \n",
      "1300                  17                       11                   15  \n",
      "1271                   9                       11                   10  \n",
      "1354                   0                        0                    1  \n",
      "858                    2                        0                    0  \n",
      "1417                   2                        2                    2  \n",
      "1307                  16                       11                    8  \n",
      "1377                   8                        7                    8  \n",
      "1388                   0                        0                    0  \n",
      "1463                   4                        0                    2  \n",
      "464                    0                        0                    0  \n",
      "1313                   7                        0                    8  \n",
      "1203                  14                        5                   12  \n",
      "1427                   8                        0                    0  \n",
      "1188                   0                        0                    1  \n",
      "453                    7                        1                    7  \n",
      "1200                   7                        0                    1  \n",
      "876                    4                        0                    2  \n",
      "1176                   7                        7                    7  \n",
      "1344                   2                        1                    2  \n",
      "1126                   0                        0                    0  \n",
      "1437                   4                        1                    3  \n",
      "1252                   0                        0                    0  \n",
      "1457                  15                        2                   15  \n",
      "664                    8                        0                    8  \n",
      "1216                   8                        0                    1  \n",
      "1362                  10                        3                    9  \n",
      "790                    7                        0                    5  \n",
      "1335                   7                        1                   10  \n",
      "268                    2                        0                    2  \n",
      "1011                   8                        5                    8  \n",
      "406                    3                        4                    2  \n",
      "154                    0                        0                    0  \n",
      "109                    1                        2                    2  \n",
      "104                    2                        0                    2  \n",
      "169                    3                        0                    2  \n",
      "330                    3                        1                    2  \n",
      "1256                   2                        0                    3  \n",
      "3                      0                        0                    0  \n",
      "\n",
      "[40 rows x 31 columns]\n"
     ]
    }
   ],
   "source": [
    "\n",
    "# Randomly sample 10 employees from each sampled job role\n",
    "attrition_clust = attrition_filtered.groupby('JobRole').sample(n = 10, random_state = 2022)\n",
    "\n",
    "# Print the sample\n",
    "print(attrition_clust)"
   ]
  },
  {
   "cell_type": "markdown",
   "metadata": {},
   "source": [
    "# 3 kinds of sampling"
   ]
  },
  {
   "cell_type": "markdown",
   "metadata": {},
   "source": [
    "You're going to compare the performance of point estimates using simple, stratified, and cluster sampling. Before doing that, you'll have to set up the samples.\n",
    "\n",
    "You'll use the `RelationshipSatisfaction` column of the `attrition_pop` dataset, which categorizes the employee's relationship with the company. It has four levels: `Low`, `Medium`, `High`, and `Very_High`"
   ]
  },
  {
   "cell_type": "code",
   "execution_count": 43,
   "metadata": {},
   "outputs": [],
   "source": [
    "# Perform simple random sampling to get 0.25 of the population\n",
    "attrition_srs = attrition_pop.sample(frac = 0.25, random_state = 2022)"
   ]
  },
  {
   "cell_type": "code",
   "execution_count": 44,
   "metadata": {},
   "outputs": [],
   "source": [
    "# Perform stratified sampling to get 0.25 of each relationship group\n",
    "attrition_strat = attrition_pop.groupby(\"RelationshipSatisfaction\").sample(frac = 0.25)\n"
   ]
  },
  {
   "cell_type": "code",
   "execution_count": 45,
   "metadata": {},
   "outputs": [
    {
     "name": "stderr",
     "output_type": "stream",
     "text": [
      "C:\\Users\\88016\\AppData\\Local\\Temp/ipykernel_25492/372349145.py:10: SettingWithCopyWarning: \n",
      "A value is trying to be set on a copy of a slice from a DataFrame.\n",
      "Try using .loc[row_indexer,col_indexer] = value instead\n",
      "\n",
      "See the caveats in the documentation: https://pandas.pydata.org/pandas-docs/stable/user_guide/indexing.html#returning-a-view-versus-a-copy\n",
      "  attrition_clust_prep['RelationshipSatisfaction'] = attrition_clust_prep['RelationshipSatisfaction'].cat.remove_unused_categories()\n"
     ]
    }
   ],
   "source": [
    "# Create a list of unique RelationshipSatisfaction values\n",
    "satisfaction_unique = list(attrition_pop[\"RelationshipSatisfaction\"].unique())\n",
    "\n",
    "# Randomly sample 2 unique satisfaction values\n",
    "satisfaction_samp = random.sample(satisfaction_unique, 2)\n",
    "\n",
    "# Filter for satisfaction_samp and clear unused categories from RelationshipSatisfaction\n",
    "satis_condition = attrition_pop[\"RelationshipSatisfaction\"].isin(satisfaction_samp)\n",
    "attrition_clust_prep = attrition_pop[satis_condition]\n",
    "attrition_clust_prep['RelationshipSatisfaction'] = attrition_clust_prep['RelationshipSatisfaction'].cat.remove_unused_categories()\n",
    "\n",
    "# Perform cluster sampling on the selected group, getting 0.25 of attrition_pop\n",
    "attrition_clust = attrition_clust_prep.groupby(\"RelationshipSatisfaction\").sample(n = len(attrition_pop)//4, random_state = 2022)\n"
   ]
  },
  {
   "cell_type": "markdown",
   "metadata": {},
   "source": [
    "# Comparing point estimates"
   ]
  },
  {
   "cell_type": "markdown",
   "metadata": {},
   "source": [
    "Now that you have three types of sample (simple, stratified, and cluster), you can compare point estimates from each sample to the population parameter. That is, you can calculate the same summary statistic on each sample and see how it compares to the summary statistic for the population.\n",
    "\n",
    "Here, we'll look at how satisfaction with the company affects whether or not the employee leaves the company. That is, you'll calculate the proportion of employees who left the company (they have an `Attrition` value of 1) for each value of `RelationshipSatisfaction`."
   ]
  },
  {
   "cell_type": "code",
   "execution_count": 46,
   "metadata": {},
   "outputs": [
    {
     "name": "stdout",
     "output_type": "stream",
     "text": [
      "RelationshipSatisfaction\n",
      "Low          0.206522\n",
      "Medium       0.148515\n",
      "High         0.154684\n",
      "Very_High    0.148148\n",
      "Name: Attrition, dtype: float64\n"
     ]
    }
   ],
   "source": [
    "# Mean Attrition by RelationshipSatisfaction group\n",
    "mean_attrition_pop = attrition_pop.groupby(\"RelationshipSatisfaction\")[\"Attrition\"].mean()\n",
    "\n",
    "# Print the result\n",
    "print(mean_attrition_pop)"
   ]
  },
  {
   "cell_type": "code",
   "execution_count": 47,
   "metadata": {},
   "outputs": [
    {
     "name": "stdout",
     "output_type": "stream",
     "text": [
      "RelationshipSatisfaction\n",
      "Low          0.134328\n",
      "Medium       0.164179\n",
      "High         0.160000\n",
      "Very_High    0.155963\n",
      "Name: Attrition, dtype: float64\n"
     ]
    }
   ],
   "source": [
    "# Calculate the same thing for the simple random sample \n",
    "mean_attrition_srs =  attrition_srs.groupby(\"RelationshipSatisfaction\")[\"Attrition\"].mean()\n",
    "\n",
    "# Print the result\n",
    "print(mean_attrition_srs)\n",
    "\n"
   ]
  },
  {
   "cell_type": "code",
   "execution_count": 48,
   "metadata": {},
   "outputs": [
    {
     "name": "stdout",
     "output_type": "stream",
     "text": [
      "RelationshipSatisfaction\n",
      "Low          0.275362\n",
      "Medium       0.144737\n",
      "High         0.130435\n",
      "Very_High    0.111111\n",
      "Name: Attrition, dtype: float64\n"
     ]
    }
   ],
   "source": [
    "# Calculate the same thing for the stratified sample \n",
    "mean_attrition_strat = attrition_strat.groupby(\"RelationshipSatisfaction\")[\"Attrition\"].mean()\n",
    "\n",
    "# Print the result\n",
    "print(mean_attrition_strat)\n",
    "\n",
    "\n"
   ]
  },
  {
   "cell_type": "code",
   "execution_count": 49,
   "metadata": {},
   "outputs": [
    {
     "name": "stdout",
     "output_type": "stream",
     "text": [
      "RelationshipSatisfaction\n",
      "High         0.149864\n",
      "Very_High    0.160763\n",
      "Name: Attrition, dtype: float64\n"
     ]
    }
   ],
   "source": [
    "# Calculate the same thing for the cluster sample \n",
    "mean_attrition_clust =  attrition_clust.groupby(\"RelationshipSatisfaction\")[\"Attrition\"].mean()\n",
    "\n",
    "# Print the result\n",
    "print(mean_attrition_clust)\n"
   ]
  }
 ],
 "metadata": {
  "kernelspec": {
   "display_name": "env_py",
   "language": "python",
   "name": "python3"
  },
  "language_info": {
   "codemirror_mode": {
    "name": "ipython",
    "version": 3
   },
   "file_extension": ".py",
   "mimetype": "text/x-python",
   "name": "python",
   "nbconvert_exporter": "python",
   "pygments_lexer": "ipython3",
   "version": "3.8.11"
  }
 },
 "nbformat": 4,
 "nbformat_minor": 2
}
