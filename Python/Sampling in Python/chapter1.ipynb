{
 "cells": [
  {
   "cell_type": "markdown",
   "metadata": {},
   "source": [
    "# Reasons for sampling"
   ]
  },
  {
   "cell_type": "markdown",
   "metadata": {},
   "source": [
    "Sampling is an important technique in your statistical arsenal. It isn't always appropriate though—you need to know when to use it and when to work with the whole dataset.\n",
    "\n",
    "Which of the following is not a good scenario to use sampling?"
   ]
  },
  {
   "cell_type": "markdown",
   "metadata": {},
   "source": [
    "- You've finished collecting data on a small study of the wing measurements for 10 butterflies."
   ]
  },
  {
   "cell_type": "markdown",
   "metadata": {},
   "source": [
    "# Simple sampling with pandas"
   ]
  },
  {
   "cell_type": "markdown",
   "metadata": {},
   "source": [
    "Throughout this chapter, you'll be exploring song data from Spotify. Each row of this population dataset represents a song, and there are over 40,000 rows. Columns include the song name, the artists who performed it, the release year, and attributes of the song like its duration, tempo, and danceability. You'll start by looking at the durations.\n",
    "\n",
    "Your first task is to sample the Spotify dataset and compare the mean duration of the population with the sample."
   ]
  },
  {
   "cell_type": "code",
   "execution_count": 3,
   "metadata": {},
   "outputs": [
    {
     "name": "stdout",
     "output_type": "stream",
     "text": [
      "       acousticness                      artists  danceability  duration_ms  \\\n",
      "13551       0.70200        ['The White Buffalo']         0.371     236333.0   \n",
      "1507        0.09870                  ['Iration']         0.630     236333.0   \n",
      "19364       0.00439                  ['Volován']         0.582     237760.0   \n",
      "31667       0.00741          ['Jimmy Eat World']         0.544     203507.0   \n",
      "39791       0.01000    ['Red Hot Chili Peppers']         0.426     217200.0   \n",
      "...             ...                          ...           ...          ...   \n",
      "13578       0.06310         ['Sharon Van Etten']         0.596     283573.0   \n",
      "19378       0.00257         ['The Flaming Lips']         0.636     232520.0   \n",
      "26382       0.88200             ['Jason Isbell']         0.429     293973.0   \n",
      "13875       0.89700  ['Rainbow Kitten Surprise']         0.404     158761.0   \n",
      "13432       0.01050       ['Dorinda Clark-Cole']         0.738     404667.0   \n",
      "\n",
      "       duration_minutes  energy  explicit                      id  \\\n",
      "13551          3.938883   0.238       0.0  1wVNX70jcDdQGedgZm0zRd   \n",
      "1507           3.938883   0.669       0.0  1aMoqIYGFADaV3nPaSKL7X   \n",
      "19364          3.962667   0.962       0.0  7on4qNO1Iu5EX61mD80Cgv   \n",
      "31667          3.391783   0.926       0.0  50yvvXV8oUAhW1lPAqlFQQ   \n",
      "39791          3.620000   0.949       0.0  7IWu3uIUIYIeafzwv582Ho   \n",
      "...                 ...     ...       ...                     ...   \n",
      "13578          4.726217   0.525       0.0  5th3rj1nW25bm5iSLiK3i9   \n",
      "19378          3.875333   0.887       0.0  2SsrjDZM8ZIvKaUssqPs4o   \n",
      "26382          4.899550   0.093       0.0  5qW6ZYct54PhKliCntyxRX   \n",
      "13875          2.646017   0.317       1.0  7f0XrVgWlDXkPZHoCRr2u8   \n",
      "13432          6.744450   0.960       0.0  518g0gs6NP9fHtUkgEfr5k   \n",
      "\n",
      "       instrumentalness   key  liveness  loudness  mode  \\\n",
      "13551          0.078400   4.0     0.221   -11.746   0.0   \n",
      "1507           0.000039   1.0     0.491    -7.289   0.0   \n",
      "19364          0.000043  10.0     0.313    -2.906   1.0   \n",
      "31667          0.000000   8.0     0.214    -3.575   1.0   \n",
      "39791          0.004340   6.0     0.377    -3.231   0.0   \n",
      "...                 ...   ...       ...       ...   ...   \n",
      "13578          0.000000   4.0     0.348    -6.994   1.0   \n",
      "19378          0.000052   4.0     0.293    -4.354   1.0   \n",
      "26382          0.007030   3.0     0.111   -15.944   1.0   \n",
      "13875          0.000001   4.0     0.157    -9.530   0.0   \n",
      "13432          0.000000  10.0     0.309    -5.657   0.0   \n",
      "\n",
      "                          name  popularity release_date  speechiness    tempo  \\\n",
      "13551                The Woods        52.0   2009-03-24       0.0297  138.096   \n",
      "1507            Lost And Found        54.0   2015-08-28       0.1180  152.106   \n",
      "19364                  Monitor        60.0   2006-01-01       0.0392  126.003   \n",
      "31667                     Work        50.0   2004-10-19       0.0634  115.081   \n",
      "39791              Minor Thing        50.0   2002-07-09       0.0631  122.241   \n",
      "...                        ...         ...          ...          ...      ...   \n",
      "13578                  One Day        48.0   2010-09-21       0.0283  120.064   \n",
      "19378  The Yeah Yeah Yeah Song        42.0   2006-03-31       0.0475  107.984   \n",
      "26382              Cover Me Up        61.0   2013-06-11       0.0433  129.661   \n",
      "13875         Hey Pretty Momma        48.0   2013-11-19       0.0583   81.011   \n",
      "13432             Take It Back        40.0   2008-04-15       0.1160  104.940   \n",
      "\n",
      "       valence    year  \n",
      "13551    0.132  2009.0  \n",
      "1507     0.655  2015.0  \n",
      "19364    0.379  2006.0  \n",
      "31667    0.352  2004.0  \n",
      "39791    0.339  2002.0  \n",
      "...        ...     ...  \n",
      "13578    0.469  2010.0  \n",
      "19378    0.350  2006.0  \n",
      "26382    0.208  2013.0  \n",
      "13875    0.180  2013.0  \n",
      "13432    0.585  2008.0  \n",
      "\n",
      "[1000 rows x 20 columns]\n",
      "3.8521519140899896\n",
      "3.8418372666666634\n"
     ]
    }
   ],
   "source": [
    "import pandas as pd\n",
    "spotify_population = pd.read_feather(\"dataset/spotify_2000_2020.feather\")\n",
    "\n",
    "# Sample 1000 rows from spotify_population\n",
    "spotify_sample = spotify_population.sample(n=1000)\n",
    "\n",
    "# Print the sample\n",
    "print(spotify_sample)\n",
    "\n",
    "# Calculate the mean duration in mins from spotify_population\n",
    "mean_dur_pop = spotify_population[\"duration_minutes\"].mean()\n",
    "\n",
    "# Calculate the mean duration in mins from spotify_sample\n",
    "mean_dur_samp = spotify_sample[\"duration_minutes\"].mean()\n",
    "\n",
    "# Print the means\n",
    "print(mean_dur_pop)\n",
    "print(mean_dur_samp)"
   ]
  },
  {
   "cell_type": "markdown",
   "metadata": {},
   "source": [
    "# Simple sampling and calculating with NumPy"
   ]
  },
  {
   "cell_type": "markdown",
   "metadata": {},
   "source": [
    "You can also use `numpy` to calculate parameters or statistics from a list or `pandas` Series.\n",
    "\n",
    "You'll be turning it up to eleven and looking at the `loudness` property of each song."
   ]
  },
  {
   "cell_type": "code",
   "execution_count": 4,
   "metadata": {},
   "outputs": [
    {
     "name": "stdout",
     "output_type": "stream",
     "text": [
      "-7.366856851353918\n",
      "-7.109749999999998\n"
     ]
    }
   ],
   "source": [
    "# Create a pandas Series from the loudness column of spotify_population\n",
    "loudness_pop = spotify_population['loudness']\n",
    "\n",
    "# Sample 100 values of loudness_pop\n",
    "loudness_samp = loudness_pop.sample(n=100)\n",
    "\n",
    "# Calculate the mean of loudness_pop\n",
    "mean_loudness_pop = loudness_pop.mean()\n",
    "\n",
    "# Calculate the mean of loudness_samp\n",
    "mean_loudness_samp = loudness_samp.mean()\n",
    "\n",
    "# Print the means\n",
    "print(mean_loudness_pop)\n",
    "print(mean_loudness_samp)"
   ]
  },
  {
   "cell_type": "markdown",
   "metadata": {},
   "source": [
    "# Are findings from the sample generalizable?"
   ]
  },
  {
   "cell_type": "markdown",
   "metadata": {},
   "source": [
    "You just saw how convenience sampling—collecting data using the easiest method—can result in samples that aren't representative of the population. Equivalently, this means findings from the sample are not generalizable to the population. Visualizing the distributions of the population and the sample can help determine whether or not the sample is representative of the population.\n",
    "\n",
    "The Spotify dataset contains an `acousticness` column, which is a confidence measure from zero to one of whether the track was made with instruments that aren't plugged in. You'll compare the `acousticness` distribution of the total population of songs with a sample of those songs."
   ]
  },
  {
   "cell_type": "code",
   "execution_count": 6,
   "metadata": {},
   "outputs": [
    {
     "data": {
      "image/png": "[encoded data removed]",
      "text/plain": [
       "<Figure size 432x288 with 1 Axes>"
      ]
     },
     "metadata": {
      "needs_background": "light"
     },
     "output_type": "display_data"
    }
   ],
   "source": [
    "import numpy as np\n",
    "import matplotlib.pyplot as plt\n",
    "# Visualize the distribution of acousticness with a histogram\n",
    "spotify_population[\"acousticness\"].hist(bins = np.arange(0,1.01,0.01))\n",
    "plt.show()"
   ]
  },
  {
   "cell_type": "code",
   "execution_count": 8,
   "metadata": {},
   "outputs": [],
   "source": [
    "# # Update the histogram to use spotify_mysterious_sample\n",
    "# spotify_mysterious_sample['acousticness'].hist(bins=np.arange(0, 1.01, 0.01))\n",
    "# plt.show()"
   ]
  },
  {
   "cell_type": "markdown",
   "metadata": {},
   "source": [
    "# Are these findings generalizable?"
   ]
  },
  {
   "cell_type": "markdown",
   "metadata": {},
   "source": [
    "Let's look at another sample to see if it is representative of the population. This time, you'll look at the `duration_minutes` column of the Spotify dataset, which contains the length of the song in minutes."
   ]
  },
  {
   "cell_type": "code",
   "execution_count": 9,
   "metadata": {},
   "outputs": [
    {
     "data": {
      "image/png": "[encoded data removed]",
      "text/plain": [
       "<Figure size 432x288 with 1 Axes>"
      ]
     },
     "metadata": {
      "needs_background": "light"
     },
     "output_type": "display_data"
    }
   ],
   "source": [
    "# Visualize the distribution of duration_minutes as a histogram\n",
    "spotify_population['duration_minutes'].hist(bins = np.arange(0,15.5,0.5))\n",
    "plt.show()"
   ]
  },
  {
   "cell_type": "code",
   "execution_count": 10,
   "metadata": {},
   "outputs": [],
   "source": [
    "# # Update the histogram to use spotify_mysterious_sample2\n",
    "# spotify_mysterious_sample2['duration_minutes'].hist(bins=np.arange(0, 15.5, 0.5))\n",
    "# plt.show()"
   ]
  },
  {
   "cell_type": "markdown",
   "metadata": {},
   "source": [
    "# Generating random numbers"
   ]
  },
  {
   "cell_type": "markdown",
   "metadata": {},
   "source": [
    "You've used `.sample()` to generate pseudo-random numbers from a set of values in a DataFrame. A related task is to generate random numbers that follow a statistical distribution, like the uniform distribution or the normal distribution.\n",
    "\n",
    "Each random number generation function has distribution-specific arguments and an argument for specifying the number of random numbers to generate."
   ]
  },
  {
   "cell_type": "code",
   "execution_count": 11,
   "metadata": {},
   "outputs": [
    {
     "name": "stdout",
     "output_type": "stream",
     "text": [
      "[-2.2354283   0.11684929  2.46552301 ...  1.3886134   0.01769833\n",
      " -1.63788789]\n"
     ]
    }
   ],
   "source": [
    "# Generate random numbers from a Uniform(-3, 3)\n",
    "uniforms = np.random.uniform(low=-3, high=3, size = 5000)\n",
    "\n",
    "# Print uniforms\n",
    "print(uniforms)"
   ]
  },
  {
   "cell_type": "code",
   "execution_count": 12,
   "metadata": {},
   "outputs": [
    {
     "name": "stdout",
     "output_type": "stream",
     "text": [
      "[2.9222539  4.1963617  3.42956    ... 6.28508374 5.59852504 7.64876296]\n"
     ]
    }
   ],
   "source": [
    "# Generate random numbers from a Normal(5, 2)\n",
    "normals = np.random.normal(loc = 5, scale = 2, size=5000)\n",
    "\n",
    "# Print normals\n",
    "print(normals)"
   ]
  },
  {
   "cell_type": "code",
   "execution_count": 13,
   "metadata": {},
   "outputs": [
    {
     "data": {
      "image/png": "[encoded data removed]",
      "text/plain": [
       "<Figure size 432x288 with 1 Axes>"
      ]
     },
     "metadata": {
      "needs_background": "light"
     },
     "output_type": "display_data"
    }
   ],
   "source": [
    "# Plot a histogram of uniform values, binwidth 0.25\n",
    "plt.hist(uniforms, bins = np.arange(-3,3.1,0.25))\n",
    "plt.show()"
   ]
  },
  {
   "cell_type": "code",
   "execution_count": 14,
   "metadata": {},
   "outputs": [
    {
     "data": {
      "image/png": "[encoded data removed]",
      "text/plain": [
       "<Figure size 432x288 with 1 Axes>"
      ]
     },
     "metadata": {
      "needs_background": "light"
     },
     "output_type": "display_data"
    }
   ],
   "source": [
    "# Generate random numbers from a Normal(5, 2)\n",
    "normals = np.random.normal(loc=5, scale=2, size=5000)\n",
    "\n",
    "# Plot a histogram of normal values, binwidth 0.5\n",
    "plt.hist(normals, bins = np.arange(-2,13.1,0.5))\n",
    "plt.show()"
   ]
  },
  {
   "cell_type": "markdown",
   "metadata": {},
   "source": [
    "# Understanding random seeds"
   ]
  },
  {
   "cell_type": "markdown",
   "metadata": {},
   "source": [
    "While random numbers are important for many analyses, they create a problem: the results you get can vary slightly. This can cause awkward conversations with your boss when your script for calculating the sales forecast gives different answers each time.\n",
    "\n",
    "Setting the seed for `numpy`'s random number generator helps avoid such problems by making the random number generation reproducible."
   ]
  },
  {
   "cell_type": "code",
   "execution_count": 15,
   "metadata": {},
   "outputs": [
    {
     "name": "stdout",
     "output_type": "stream",
     "text": [
      "[-1.0856306   0.99734545  0.2829785  -1.50629471 -0.57860025]\n",
      "[-1.0856306   0.99734545  0.2829785  -1.50629471 -0.57860025]\n"
     ]
    }
   ],
   "source": [
    "import numpy as np\n",
    "np.random.seed(123)\n",
    "x = np.random.normal(size=5)\n",
    "np.random.seed(123)\n",
    "y = np.random.normal(size=5)\n",
    "\n",
    "print(x)\n",
    "print(y)"
   ]
  },
  {
   "cell_type": "code",
   "execution_count": 16,
   "metadata": {},
   "outputs": [
    {
     "name": "stdout",
     "output_type": "stream",
     "text": [
      "[-1.0856306   0.99734545  0.2829785  -1.50629471 -0.57860025]\n",
      "[ 1.65143654 -2.42667924 -0.42891263  1.26593626 -0.8667404 ]\n"
     ]
    }
   ],
   "source": [
    "import numpy as np\n",
    "np.random.seed(123)\n",
    "x = np.random.normal(size=5)\n",
    "y = np.random.normal(size=5)\n",
    "\n",
    "print(x)\n",
    "print(y)"
   ]
  },
  {
   "cell_type": "code",
   "execution_count": 17,
   "metadata": {},
   "outputs": [
    {
     "name": "stdout",
     "output_type": "stream",
     "text": [
      "[-1.0856306   0.99734545  0.2829785  -1.50629471 -0.57860025]\n",
      "[ 0.28847906 -0.46295408 -1.33800442  2.31701567 -1.46737593]\n"
     ]
    }
   ],
   "source": [
    "import numpy as np\n",
    "np.random.seed(123)\n",
    "x = np.random.normal(size=5)\n",
    "np.random.seed(124)\n",
    "y = np.random.normal(size=5)\n",
    "\n",
    "print(x)\n",
    "print(y)"
   ]
  }
 ],
 "metadata": {
  "kernelspec": {
   "display_name": "env_py",
   "language": "python",
   "name": "python3"
  },
  "language_info": {
   "codemirror_mode": {
    "name": "ipython",
    "version": 3
   },
   "file_extension": ".py",
   "mimetype": "text/x-python",
   "name": "python",
   "nbconvert_exporter": "python",
   "pygments_lexer": "ipython3",
   "version": "3.8.11"
  }
 },
 "nbformat": 4,
 "nbformat_minor": 2
}
