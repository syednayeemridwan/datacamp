{
 "cells": [
  {
   "cell_type": "markdown",
   "metadata": {},
   "source": [
    "# Chapter 1"
   ]
  },
  {
   "cell_type": "markdown",
   "metadata": {},
   "source": [
    "- population = whole dataset\n",
    "- sample = subset of population\n",
    "    - sampling with replacement (for dependent event): `df[\"col\"].sample(5, replace = True)`\n",
    "    - sampling without replacement (for independent event): `df[\"col\"].sample(5, replace = False)`"
   ]
  },
  {
   "cell_type": "markdown",
   "metadata": {},
   "source": [
    "### Random numbers"
   ]
  },
  {
   "cell_type": "markdown",
   "metadata": {},
   "source": [
    "```\n",
    "np.random.seed(42)\n",
    "random_beta = np.random.beta(a=2, b=2, size=5000)\n",
    "random_normal = np.random.normal(loc=2, scale=1.5, size=2)\n",
    "random_uniform =  np.random.uniform(low=-3, high=3, size = 5000)\n",
    "\n",
    "# Visualize\n",
    "plt.hist(uniforms, bins = np.arange(-3,3.1,0.25))\n",
    "plt.show()\n",
    "```"
   ]
  }
 ],
 "metadata": {
  "language_info": {
   "name": "python"
  }
 },
 "nbformat": 4,
 "nbformat_minor": 2
}
