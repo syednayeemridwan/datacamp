{
 "cells": [
  {
   "cell_type": "markdown",
   "metadata": {},
   "source": [
    "# Chapter 1"
   ]
  },
  {
   "cell_type": "markdown",
   "metadata": {},
   "source": [
    "- population = whole dataset\n",
    "- sample = subset of population\n",
    "    - sampling with replacement (for dependent event): `df[\"col\"].sample(5, replace = True)`\n",
    "    - sampling without replacement (for independent event): `df[\"col\"].sample(5, replace = False)`"
   ]
  },
  {
   "cell_type": "markdown",
   "metadata": {},
   "source": [
    "### Random numbers"
   ]
  },
  {
   "cell_type": "markdown",
   "metadata": {},
   "source": [
    "```\n",
    "# Generate 10 uniform random values between 0 to 5\n",
    "from scipy.stats import uniform\n",
    "uniform.rvs(0, 5, size=10)\n",
    "# Generate binomial random values\n",
    "from scipy.stats import binom\n",
    "binom.rvs(1, 0.5, size=8) # 1 coin, flip 8 times, probability of success 50%\n",
    "binom.rvs(8, 0.5, size=1) # 8 coins, flip 1 time, probability of success 50%\n",
    "binom.rvs(3, 0.5, size=10) # 3 coins, flip 10 times, probability of success 50%\n",
    "\n",
    "# Generate 10 random normal values with mean 161 and std of 7\n",
    "from scipy.stats import norm\n",
    "norm.rvs(161, 7, size=10)\n",
    "\n",
    "# Generate 10 random poisson values with lambda of 8\n",
    "from scipy.stats import poisson\n",
    "poisson.rvs(8, size=10)\n",
    "\n",
    "# Generate 10 random values from a t-distribution with 5 degrees of freedom\n",
    "from scipy.stats import t\n",
    "t.rvs(df=5, size=10)\n",
    "\n",
    "# Generate 10 random values from a log-normal distribution with mean 1.5 and standard deviation 0.8\n",
    "from scipy.stats import lognorm\n",
    "lognorm.rvs(s=0.8, scale=1.5, size=10)\n",
    "\n",
    "#### Alternatives ###########\n",
    "import numpy as np\n",
    "np.random.seed(42)\n",
    "random_beta = np.random.beta(a=2, b=2, size=5000)\n",
    "random_normal = np.random.normal(loc=2, scale=1.5, size=2)\n",
    "random_uniform =  np.random.uniform(low=-3, high=3, size = 5000)\n",
    "\n",
    "# Visualize\n",
    "plt.hist(uniforms, bins = np.arange(-3,3.1,0.25))\n",
    "plt.show()\n",
    "```"
   ]
  },
  {
   "cell_type": "markdown",
   "metadata": {},
   "source": [
    "# Chapter 2"
   ]
  },
  {
   "cell_type": "markdown",
   "metadata": {},
   "source": [
    "- Systematic sampling : Sampling by taking every n-th element in a shuffled dataset\n",
    "- Simple random sampling : Sampling by taking purely random rows in a dataset\n",
    "- Stratified samping : sampling by keeping proportions of subgroups in account\n",
    "- Weighted sampling : sampling by adding weights to subgroups to adjust relative probability of a row being sampled\n",
    "- cluster sampling : First randomly pick subgroups of dataset, then randomly sample rows from those subgroups"
   ]
  },
  {
   "cell_type": "markdown",
   "metadata": {},
   "source": [
    "### Sampling"
   ]
  },
  {
   "cell_type": "markdown",
   "metadata": {},
   "source": [
    "```\n",
    "# Visualize sampling distribution\n",
    "df_sample = df.sample(n=10)\n",
    "df_sample[\"col\"].hist(bins=np.arange(59, 93, 2))\n",
    "plt.show()\n",
    "# Sampling with replacement (for dependent event)\n",
    "df[\"col\"].sample(5, replace = True)\n",
    "# Sampling without replacement (for independent event)\n",
    "df[\"col\"].sample(5, replace = False)\n",
    "\n",
    "# Simple random sampling\n",
    "simple_sample = df.sample(n=5, random_state=42)\n",
    "\n",
    "# Systematic sampling\n",
    "sample_size = 5\n",
    "pop_size = len(df)\n",
    "interval = pop_size // sample_size\n",
    "shuffled_df = df.sample(frac=1)\n",
    "shuffled_df = shuffled_df.reset_index(drop=True).reset_index()\n",
    "systematic_sample = shuffled_df.iloc[::interval]\n",
    "\n",
    "# Stratified sampling\n",
    "prop_stratified_sample = df.groupby(\"cat_col\").sample(frac=0.1, random_state=42)\n",
    "equal_stratified_sample = df.groupby(\"cat_col\").sample(n=15, random_state=42)\n",
    "\n",
    "# Weighted sampling\n",
    "condition = df['cat_col'] == \"Val\"\n",
    "df['weight'] = np.where(condition, 2, 1)\n",
    "weighted_sample = df.sample(frac=0.1, weights=\"weight\")\n",
    "\n",
    "# Cluster sampling\n",
    "category_list = list(df['cat_col'].unique())\n",
    "import random\n",
    "random_categories = random.sample(category_list, k=3)\n",
    "subset_rows = df['cat_col'].isin(random_categories)\n",
    "subset_df = df[subset_rows]\n",
    "subset_df['cat_col'] = subset_df['cat_col'].cat.remove_unused_categories()\n",
    "sample_cluster = subset_df.groupby(\"cat_col\").sample(n=5, random_state=42)\n",
    "\n",
    "# Visualize to make sure white noise so that sampling is random\n",
    "sample_df.plot(x=\"col1\", y=\"col2\", kind=\"scatter\")\n",
    "plt.show()\n",
    "```"
   ]
  },
  {
   "cell_type": "markdown",
   "metadata": {},
   "source": [
    "# Chapter 3"
   ]
  },
  {
   "cell_type": "markdown",
   "metadata": {},
   "source": [
    "- Higher the sample size more accurate the estimation\n",
    "- Sampling distribution : Distribution of means of many samples\n",
    "- As the sample size increases, the range of calculated sample means tends to decrease.\n",
    "- Central Limit Theorem:\n",
    "\t- The distribution of the means gets closer to being normally distributed\n",
    "\t- The width of the distribution of means gets narrower with larger sample size\n",
    "- Standard error\n",
    "\t- Standard deviation of the means of sample distributions\n",
    "- The amount of variation in the sampling distribution is related to the amount of variation in the population and the sample size. This is another consequence of the Central Limit Theorem.\n",
    "- Bootstrapping : use sampling with replacement from a sample to build theoretical population parameter by augmenting/simulating a larger artificial population dataset"
   ]
  },
  {
   "cell_type": "markdown",
   "metadata": {},
   "source": [
    "### All possible combination"
   ]
  },
  {
   "cell_type": "markdown",
   "metadata": {},
   "source": [
    "```\n",
    "from itertools import product\n",
    "die1 = die2 = die3 = die4 = die5 = [1,2,3,4,5,6,7,8]\n",
    "dice = pd.DataFrame(list(product(die1, die2, die3, die4, die5 )), columns=['die1', 'die2', 'die3', 'die4', 'die5'])\n",
    "```"
   ]
  },
  {
   "cell_type": "markdown",
   "metadata": {},
   "source": [
    "### Simulate Dice Roll"
   ]
  },
  {
   "cell_type": "markdown",
   "metadata": {},
   "source": [
    "```\n",
    "# high depends on what type of dice you are playing with\n",
    "# size depends on how many dice you want to play with\n",
    "# If you consider playing with 10 coins as dices, then high = 2 (1 coin has 2 sides) and no_of_dice = 10\n",
    "# If you consider playing with 5 ludo dices, then high = 6 (1 dice has 6 sides) and no_of_dice = 5\n",
    "# replace=True for any previous occurrence is likely to occur again\n",
    "import numpy as np\n",
    "simulation = np.random.choice(list(range(1,high+1)), size=no_of_dice, replace=True)\n",
    "```"
   ]
  },
  {
   "cell_type": "markdown",
   "metadata": {},
   "source": [
    "### Satistics"
   ]
  },
  {
   "cell_type": "markdown",
   "metadata": {},
   "source": [
    "```\n",
    "import statistics\n",
    "import numpy as np\n",
    "# mode \n",
    "statistics.mode(df['col'])\n",
    "# median \n",
    "statistics.median(df['col'])\n",
    "# sample mean \n",
    "statistics.mean(df['col'])\n",
    "# sample variance \n",
    "np.var(df['col'], ddof=1)\n",
    "# sample standard deviation \n",
    "np.std(df['col'], ddof=1)\n",
    "# population variance \n",
    "np.var(df['col'], ddof=0)\n",
    "# population standard deviation \n",
    "np.std(df['col'], ddof=0)\n",
    "# quantile \n",
    "np.quantile(df['col'], [0, 0.25, 0.5, 0.75, 1])\n",
    "# iqr \n",
    "scipy.stats.iqr(df['col'])\n",
    "from scipy.stats import norm\n",
    "# Sort the values in the column for CDF and inverse CDF\n",
    "sorted_col = np.sort(df['col'])\n",
    "# Calculate PDF using a probability distribution (e.g., normal distribution)\n",
    "pdf_values = norm.pdf(sorted_col, loc=df['col'].mean(), scale=df['col'].std())\n",
    "# Calculate CDF\n",
    "cdf_values = norm.cdf(sorted_col, loc=df['col'].mean(), scale=df['col'].std())\n",
    "# Calculate Inverse CDF (Quantiles)\n",
    "quantiles_values = norm.ppf(np.linspace(0, 1, len(sorted_col)), loc=df['col'].mean(), scale=df['col'].std())\n",
    "\n",
    "# Visualize PDF, CDF, Inverse CDF\n",
    "result_df = pd.DataFrame({\n",
    "    'col': sorted_col,\n",
    "    'PDF': pdf_values,\n",
    "    'CDF': cdf_values,\n",
    "    'Quantiles': quantiles_values\n",
    "})\n",
    "sns.lineplot(x='col', y='PDF', data=result_df)\n",
    "sns.lineplot(x='col', y='CDF', data=result_df)\n",
    "sns.scatterplot(x='col', y='Quantiles', data=result_df)\n",
    "plt.show()\n",
    "```"
   ]
  },
  {
   "cell_type": "markdown",
   "metadata": {},
   "source": [
    "# Chapter 4"
   ]
  },
  {
   "cell_type": "markdown",
   "metadata": {},
   "source": [
    "- population standard deviation : Standard error of bootstrap distribution * square root of sample size \n",
    "- If sampling has bias, then bootstrapping with that sample will also introduce bias.\n",
    "- confidence interval : \n",
    "    - a range of unknown quantity around the mean with an estimate of standard deviation\n",
    "    - `(mean - 1*std , mean + 1* std)`\n",
    "- Probability Density function (PDF) = the bell curve, normal distribution\n",
    "- Cumulative Density Function (CDF) = the S curve, area under the curve\n",
    "- Inverse CDF = the flipped S curve, value of percentile for confidence interval"
   ]
  },
  {
   "cell_type": "markdown",
   "metadata": {},
   "source": [
    "### Bootstrapping"
   ]
  },
  {
   "cell_type": "markdown",
   "metadata": {},
   "source": [
    "```\n",
    "# All possible combination of dice rolls\n",
    "from itertools import product\n",
    "die1 = die2 = die3 = die4 = die5 = [1,2,3,4,5,6,7,8]\n",
    "dice = pd.DataFrame(list(product(die1, die2, die3, die4, die5 )), columns=['die1', 'die2', 'die3', 'die4', 'die5'])\n",
    "\n",
    "# Bootstrapping example 1 : Simulating dice roll\n",
    "sample_means_1000 = []\n",
    "# Simulate 1000 turns of 4 dice rolls\n",
    "for i in range(1000): \n",
    "    sample_means_1000.append( np.random.choice(list(range(1,7)), size=4, replace=True).mean() )\n",
    "# Visualize distribution\n",
    "plt.hist(sample_means_1000, bins=20)\n",
    "\n",
    "# Bootstrapping example 2 : Resampling from existing sample\n",
    "import numpy as np\n",
    "sample_means = []\n",
    "for i in range(1000):\n",
    "\tsample_means.append(np.mean(df.sample(frac=1, replace=True)['col']))\n",
    "```"
   ]
  }
 ],
 "metadata": {
  "language_info": {
   "name": "python"
  }
 },
 "nbformat": 4,
 "nbformat_minor": 2
}
