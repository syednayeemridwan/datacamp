{
 "cells": [
  {
   "cell_type": "markdown",
   "metadata": {},
   "source": [
    "# Chapter 1"
   ]
  },
  {
   "cell_type": "markdown",
   "metadata": {},
   "source": [
    "- Seaborn histogram : `sns.histplot(data = df, x = \"col\", stat = \"probability\", discrete = True)`\n",
    "- Seaborn dist plot : `sns.distplot(df['col'], kde=False, color='red', bins=100)`\n",
    "- Pandas histogram : `df['col'].plot.hist()`\n",
    "- regplot : `sns.regplot(data=df, x=\"col1\", y=\"col2\")`\n",
    "- lmplot : `sns.lmplot(data=df, x=\"col1\", y=\"col2\", hue=\"col3\", col=\"col4\")`"
   ]
  },
  {
   "cell_type": "markdown",
   "metadata": {},
   "source": []
  }
 ],
 "metadata": {
  "language_info": {
   "name": "python"
  }
 },
 "nbformat": 4,
 "nbformat_minor": 2
}
