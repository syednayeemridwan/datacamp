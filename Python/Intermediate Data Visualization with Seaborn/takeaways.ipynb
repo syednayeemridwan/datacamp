{
 "cells": [
  {
   "cell_type": "markdown",
   "metadata": {},
   "source": [
    "# Chapter 1"
   ]
  },
  {
   "cell_type": "markdown",
   "metadata": {},
   "source": [
    "- Seaborn histogram : `sns.histplot(data = df, x = \"col\", stat = \"probability\", discrete = True)`\n",
    "- Seaborn dist plot : `sns.distplot(df['col'], kde=False, color='red', bins=100)`\n",
    "- Pandas histogram : `df['col'].plot.hist()`\n",
    "- regplot : `sns.regplot(data=df, x=\"col1\", y=\"col2\")`\n",
    "- lmplot : `sns.lmplot(data=df, x=\"col1\", y=\"col2\", hue=\"col3\", col=\"col4\")`"
   ]
  },
  {
   "cell_type": "markdown",
   "metadata": {},
   "source": [
    "# Chapter 2"
   ]
  },
  {
   "cell_type": "markdown",
   "metadata": {},
   "source": [
    "- Remove plot border : `sns.despine(left=True)`"
   ]
  },
  {
   "cell_type": "markdown",
   "metadata": {},
   "source": [
    "### When to use which color palette"
   ]
  },
  {
   "cell_type": "markdown",
   "metadata": {},
   "source": [
    "<center><img src=\"images/02.01.png\"  style=\"width: 400px, height: 300px;\"/></center>"
   ]
  },
  {
   "cell_type": "markdown",
   "metadata": {},
   "source": [
    "### Seaborn theme"
   ]
  },
  {
   "cell_type": "markdown",
   "metadata": {},
   "source": [
    "```\n",
    "import seaborn as sns\n",
    "\n",
    "custom_palette = ['#FBB4AE', '#B3CDE3', '#CCEBC5','#DECBE4', '#FED9A6']\n",
    "\n",
    "sns.set_theme(context='talk', # sns.set_context(\"talk\")\n",
    "                  style='whitegrid', # sns.set_style(\"whitegrid\")\n",
    "                  palette='RdBu',  # sns.set_palette(custom_palette)\n",
    "                  font='sans-serif', \n",
    "                  font_scale=1, \n",
    "                  color_codes=True, \n",
    "                  rc=None)\n",
    "# Show color palette\n",
    "sns.palplot(sns.color_palette())\n",
    "sns.palplot(sns.color_palette(\"BrBG\", 12))\n",
    "```"
   ]
  },
  {
   "cell_type": "markdown",
   "metadata": {},
   "source": [
    "### Seaborn custom plot"
   ]
  },
  {
   "cell_type": "markdown",
   "metadata": {},
   "source": [
    "```\n",
    "import seaborn as sns\n",
    "import pandas as pd\n",
    "import matplotlib.pyplot as plt\n",
    "\n",
    "# Create containers for Subplots\n",
    "fig, (ax0, ax1) = plt.subplots(nrows=1, ncols=2,\n",
    "sharey=True, figsize=(7,4))\n",
    "# Put plots into containers\n",
    "sns.histplot(df['col1'], stat='density', ax=ax0)\n",
    "sns.histplot(df['col2'], stat='density', ax=ax1)\n",
    "ax1.set(xlabel=\"X axis label\", ylabel=\"Y axis label\", xlim=(0, 50000),\n",
    "    title=\"Some title\")\n",
    "ax1.axvline(x=20000, label='Vertical legend', linestyle='--')\n",
    "ax1.legend()\n",
    "```"
   ]
  }
 ],
 "metadata": {
  "language_info": {
   "name": "python"
  }
 },
 "nbformat": 4,
 "nbformat_minor": 2
}
