{
 "cells": [
  {
   "cell_type": "markdown",
   "metadata": {},
   "source": [
    "# Chapter 1"
   ]
  },
  {
   "cell_type": "markdown",
   "metadata": {},
   "source": [
    "- Seaborn histogram : `sns.histplot(data = df, x = \"col\", stat = \"probability\", discrete = True)`\n",
    "- Seaborn dist plot : `sns.distplot(df['col'], kde=False, color='red', bins=100)`\n",
    "- Pandas histogram : `df['col'].plot.hist()`\n",
    "- regplot : `sns.regplot(data=df, x=\"col1\", y=\"col2\")`\n",
    "- lmplot : `sns.lmplot(data=df, x=\"col1\", y=\"col2\", hue=\"col3\", col=\"col4\")`"
   ]
  },
  {
   "cell_type": "markdown",
   "metadata": {},
   "source": [
    "# Chapter 2"
   ]
  },
  {
   "cell_type": "markdown",
   "metadata": {},
   "source": [
    "- Remove plot border : `sns.despine(left=True)`"
   ]
  },
  {
   "cell_type": "markdown",
   "metadata": {},
   "source": [
    "### When to use which color palette"
   ]
  },
  {
   "cell_type": "markdown",
   "metadata": {},
   "source": [
    "<center><img src=\"images/02.01.png\"  style=\"width: 400px, height: 300px;\"/></center>"
   ]
  },
  {
   "cell_type": "markdown",
   "metadata": {},
   "source": [
    "### Seaborn theme"
   ]
  },
  {
   "cell_type": "markdown",
   "metadata": {},
   "source": [
    "```\n",
    "import seaborn as sns\n",
    "\n",
    "custom_palette = ['#FBB4AE', '#B3CDE3', '#CCEBC5','#DECBE4', '#FED9A6']\n",
    "\n",
    "sns.set_theme(context='talk', # sns.set_context(\"talk\")\n",
    "                  style='whitegrid', # sns.set_style(\"whitegrid\")\n",
    "                  palette='RdBu',  # sns.set_palette(custom_palette)\n",
    "                  font='sans-serif', \n",
    "                  font_scale=1, \n",
    "                  color_codes=True, \n",
    "                  rc=None)\n",
    "# Show color palette\n",
    "sns.palplot(sns.color_palette())\n",
    "sns.palplot(sns.color_palette(\"BrBG\", 12))\n",
    "```"
   ]
  },
  {
   "cell_type": "markdown",
   "metadata": {},
   "source": [
    "### Seaborn custom plot"
   ]
  },
  {
   "cell_type": "markdown",
   "metadata": {},
   "source": [
    "```\n",
    "import seaborn as sns\n",
    "import pandas as pd\n",
    "import matplotlib.pyplot as plt\n",
    "\n",
    "# Create containers for Subplots\n",
    "fig, (ax0, ax1) = plt.subplots(nrows=1, ncols=2,\n",
    "sharey=True, figsize=(7,4))\n",
    "# Put plots into containers\n",
    "sns.histplot(df['col1'], stat='density', ax=ax0)\n",
    "sns.histplot(df['col2'], stat='density', ax=ax1)\n",
    "ax1.set(xlabel=\"X axis label\", ylabel=\"Y axis label\", xlim=(0, 50000),\n",
    "    title=\"Some title\")\n",
    "ax1.axvline(x=20000, label='Vertical legend', linestyle='--')\n",
    "ax1.legend()\n",
    "```"
   ]
  },
  {
   "cell_type": "markdown",
   "metadata": {},
   "source": [
    "# Chapter 3"
   ]
  },
  {
   "cell_type": "markdown",
   "metadata": {},
   "source": [
    "- Seaborn stripplot : `sns.stripplot(data=df, y=\"cat_col\", x=\"num_col\", jitter=True)`\n",
    "- Seaborn swarmplot : `sns.swarmplot(data=df, y=\"cat_col\", x=\"num_col\")`\n",
    "- Seaborn boxplot : `sns.boxplot(data=df, y=\"cat_col\", x=\"num_col\")`\n",
    "- Seaborn violin plot : `sns.violinplot(data=df, y=\"cat_col\", x=\"num_col\")`\n",
    "- Seaborn boxen plot : `sns.boxenplot(data=df, y=\"cat_col\", x=\"num_col\")`\n",
    "- Seaborn bar plot : `sns.barplot(data=df, y=\"cat_col1\", x=\"num_col\", hue = \"cat_col2\")`\n",
    "- Seaborn point plot : `sns.pointplot(data=df, y=\"cat_col1\", x=\"num_col\", hue = \"cat_col2\")`\n",
    "- Seaborn count plot : `sns.countplot(data=df, y=\"cat_col1\", hue = \"cat_col2\")`\n",
    "- Seaborn reg plot : `sns.regplot(data=df, x=\"col1\", y=\"col2\",marker='+', order=2, x_jitter=0, x_estimator=np.mean, x_bins=4)`\n",
    "- Seaborn resid plot (useful for evaluating the fit of a model) : `sns.residplot(data=df, y=\"col1\", x = \"col2\", order=2)`\n",
    "    - An ideal regression model's regplot has randomly distributed uniform data across both side of the line \n"
   ]
  },
  {
   "cell_type": "markdown",
   "metadata": {},
   "source": [
    "### Seaborn heatmap"
   ]
  },
  {
   "cell_type": "markdown",
   "metadata": {},
   "source": [
    "```\n",
    "import pandas as pd\n",
    "import seaborn as sns\n",
    "import matplotlib.pyplot as plt\n",
    "# See heatmap\n",
    "df_crosstab = pd.crosstab(df[\"cat_colx\"], df[\"cat_coly\"],\n",
    "                values=df[\"num_col\"], aggfunc=\"mean\")\n",
    "sns.heatmap(df_crosstab, annot=True, fmt=\"d\", cmap=\"YlGnBu\", \n",
    "                cbar=False, linewidths=.5, center=df_crosstab.loc[9, 6])\n",
    "# See heatmap of correlation\n",
    "sns.heatmap(df.corr(), cmap='YlGnBu')\n",
    "# Rotate tick marks for visibility\n",
    "plt.yticks(rotation=0)\n",
    "plt.xticks(rotation=90)\n",
    "plt.show() #Show the plot\n",
    "```"
   ]
  },
  {
   "cell_type": "markdown",
   "metadata": {},
   "source": []
  }
 ],
 "metadata": {
  "language_info": {
   "name": "python"
  }
 },
 "nbformat": 4,
 "nbformat_minor": 2
}
