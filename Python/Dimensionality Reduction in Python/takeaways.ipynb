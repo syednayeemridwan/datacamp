{
 "cells": [
  {
   "cell_type": "markdown",
   "metadata": {},
   "source": [
    "# Chapter 1"
   ]
  },
  {
   "cell_type": "markdown",
   "metadata": {},
   "source": [
    "- Remove features with 0 variance : they add no information\n",
    "- Remove features with very high or very low cardinality : they add no information\n",
    "- Remove irrelevant column : they add noise into the model\n",
    "- Inspect features with seaborn pairplot to remove duplicate columns\n",
    "- Drop highly correlated features if you are confident that they may add bias into the model\n",
    "    - look at both pairplot and heatmap and prearson's correlation value\n",
    "- Drop scaled variance up to a threshold : Very low variance may add noise to the dataset\n",
    "- Drop columns that have missing values beyond a threshold (generally 30%)\n",
    "- Extract features for seemmingly same correlated features : \n",
    "    - Use PCA\n",
    "- Visualize the contribution of features with t-sne\n",
    "    - Use t-sne on numeric features and visualize them in 2D\n",
    "    - use categorical features as `hue` of scatterplot for transformed t-sne to identify driver features\n",
    "- Discard less important features of a model by filtering out with a threshold co-efficient value:\n",
    "    - Recursive feature elimination\n",
    "    - train the model, drop the feature with lowest co-efficient\n",
    "    - train the model again, drop the next feature with lowest co-efficient\n",
    "    - continue until a desired number of features remain\n",
    "- Voting from many models:\n",
    "    - Perform RFE on many models.\n",
    "    - Do votes on existing features for all models\n",
    "    - The features that survive most of the time are the desired features\n",
    "    - Note : make sure the dataset is standardized, regularized, cross-validated\n",
    "- Use trees to find out important features\n",
    "- Generate new features from existing features:\n",
    "    - eg: average arm length column from left arm column and right arm column\n",
    "    "
   ]
  },
  {
   "cell_type": "markdown",
   "metadata": {},
   "source": [
    "```\n",
    "# Remove feature with 0 variance\n",
    "df.describe()\n",
    "# Remove features with very high or very low cardinality\n",
    "df['col'].value_counts()\n",
    "# Remove irrelevant column \n",
    "df.drop('col', axis=1)\n",
    "# Inspect features with seaborn pairplot to remove duplicate columns\n",
    "sns.pairplot(df, hue=\"cat_col\", diag_kind='hist')\n",
    "# USE T-SNE\n",
    "\n",
    "# Drop highly correlated features if you are confident that they may add bias into the model\n",
    "corr_df = df.corr()\n",
    "mask = np.triu(np.ones_like(corr_df, dtype=bool))\n",
    "sns.heatmap(corr_df, mask=mask, center=0, linewidths=1, annot=True, fmt=\".2f\")\n",
    "# Alternative approach\n",
    "corr_df = df.corr().abs()\n",
    "mask = np.triu(np.ones_like(corr_df, dtype=bool))\n",
    "tri_df = corr_df.mask(mask)\n",
    "to_drop = [c for c in tri_df.columns if any(tri_df[c] > 0.95)]\n",
    "reduced_df = chest_df.drop(to_drop, axis=1)\n",
    "\n",
    "# Drop columns that have missing values beyond a threshold (generally 30%)\n",
    "mask = pokemon_df.isna().sum() / len(pokemon_df) < 0.3\n",
    "reduced_df = df.loc[:, mask]\n",
    "\n",
    "# Generate new features\n",
    "df[\"avg_col\"]=( df[\"col1\"] + df[\"col2\"])/2\n",
    "\n",
    "# Drop scaled variance up to a threshold (features with very low variance or close to 0)\n",
    "from sklearn.feature_selection import VarianceThreshold\n",
    "sel = VarianceThreshold(threshold=0.005)\n",
    "sel.fit(df / df.mean())\n",
    "mask = sel.get_support()\n",
    "reduced_df = df.loc[:, mask]\n",
    "\n",
    "# Recursive feature elimination during training \n",
    "from sklearn.feature_selection import RFE\n",
    "rfe = RFE(estimator=LogisticRegression(), n_features_to_select=2, step=1, verbose=1) # drop 1 feature at each step\n",
    "rfe.fit(X_train_std, y_train)\n",
    "# See the surviving features\n",
    "X.columns[rfe.support_]\n",
    "# See ranking (higher ranking = weakest features that were eliminated first)\n",
    "print(dict(zip(X.columns, rfe.ranking_)))\n",
    "print(accuracy_score(y_test, rfe.predict(X_test_std)))\n",
    "\n",
    "# Voting from RFE\n",
    "gb_mask = rfe_gb.support_\n",
    "rf_mask = rfe_rf.support_\n",
    "votes = np.sum([rf_mask, gb_mask], axis=0)\n",
    "final_mask = votes >= 2\n",
    "reduced_X = X.loc[:, final_mask]\n",
    "\n",
    "# Tree based models to filter out features (You can use RFE with it)\n",
    "rf = RandomForestClassifier()\n",
    "rf.fit(X_train, y_train)\n",
    "mask = rf.feature_importances_ > 0.1\n",
    "# See surviving features\n",
    "X_reduced = X.loc[:, mask]\n",
    "print(X_reduced.columns)\n",
    "```"
   ]
  },
  {
   "cell_type": "markdown",
   "metadata": {},
   "source": [
    "### T-SNE"
   ]
  },
  {
   "cell_type": "markdown",
   "metadata": {},
   "source": [
    "```\n",
    "from sklearn.manifold import TSNE\n",
    "import matplotlib.pyplot as plt\n",
    "import seaborn as sns\n",
    "\n",
    "# Tune learning_rate between 50 to 200\n",
    "model = TSNE(learning_rate=50)\n",
    "\n",
    "# Transform into 2D\n",
    "# NOTE : There is no fit or transform stand-alone method. They are done together\n",
    "tsne_features = model.fit_transform(df_numeric)\n",
    "\n",
    "# Visualize the t-sne clusters\n",
    "df['x'] = tsne_features[:,0]\n",
    "df['y'] = tsne_features[:,1]\n",
    "sns.scatterplot(x=\"x\", y=\"y\", hue=\"cat_col\", data=df)\n",
    "plt.show()\n",
    "```"
   ]
  },
  {
   "cell_type": "markdown",
   "metadata": {},
   "source": [
    "# Chapter 2"
   ]
  },
  {
   "cell_type": "markdown",
   "metadata": {},
   "source": [
    "### Curse of dimensionality\n"
   ]
  },
  {
   "cell_type": "markdown",
   "metadata": {},
   "source": [
    "- Simply think of a dataset of 3 columns and 100 rows(observation)\n",
    "- Now for increasing accuracy, if you add one mmore feature/column:\n",
    "\t- For each feature(column), you have to add more observations \n",
    "    - Otherwise the model will overfit based on the little amount (100 samples)\n",
    "    - How much observations should be added : exponential number of obervations for each new feature\n",
    "- For high dimension, this becomes really problematic\n",
    "- This phenomenon is called curse of dimensionality\n",
    "\n",
    "\n"
   ]
  },
  {
   "cell_type": "markdown",
   "metadata": {},
   "source": [
    "# Chapter 3"
   ]
  },
  {
   "cell_type": "markdown",
   "metadata": {},
   "source": [
    "### RFE"
   ]
  },
  {
   "cell_type": "markdown",
   "metadata": {},
   "source": [
    "- Discard less important features of a model by filtering out with a threshold co-efficient value:\n",
    "    - Recursive feature elimination\n",
    "    - train the model, drop the feature with lowest co-efficient\n",
    "    - train the model again, drop the next feature with lowest co-efficient\n",
    "    - continue until a desired number of features remain\n",
    "- Voting from many models:\n",
    "    - Perform RFE on many models.\n",
    "    - Do votes on existing features for all models\n",
    "    - The features that survive most of the time are the desired features\n",
    "    - Note : make sure the dataset is standardized, regularized, cross-validated"
   ]
  },
  {
   "cell_type": "markdown",
   "metadata": {},
   "source": [
    "```\n",
    "# Recursive feature elimination during training \n",
    "from sklearn.feature_selection import RFE\n",
    "from sklearn.linear_model import LinearRegression\n",
    "rfe = RFE(estimator=LogisticRegression(), n_features_to_select=2, step=1, verbose=1) # drop 1 feature at each step\n",
    "rfe.fit(X_train_std, y_train)\n",
    "# See the surviving features\n",
    "X.columns[rfe.support_]\n",
    "# See ranking (higher ranking = weakest features that were eliminated first)\n",
    "print(dict(zip(X.columns, rfe.ranking_)))\n",
    "print(accuracy_score(y_test, rfe.predict(X_test_std)))\n",
    "\n",
    "# Voting from RFE\n",
    "mask1 = rfe_model1.support_\n",
    "mask2 = rfe_model2.support_\n",
    "votes = np.sum([mask1, mask2], axis=0)\n",
    "final_mask = votes >= 2\n",
    "reduced_X = X.loc[:, final_mask]\n",
    "```"
   ]
  }
 ],
 "metadata": {
  "language_info": {
   "name": "python"
  }
 },
 "nbformat": 4,
 "nbformat_minor": 2
}
