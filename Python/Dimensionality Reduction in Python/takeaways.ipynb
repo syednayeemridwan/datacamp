{
 "cells": [
  {
   "cell_type": "markdown",
   "metadata": {},
   "source": [
    "# Chapter 1"
   ]
  },
  {
   "cell_type": "markdown",
   "metadata": {},
   "source": [
    "- Remove features with 0 variance : they add no information\n",
    "    - `df.describe()`\n",
    "    - `df.describe(exclude='number')`\n",
    "- Remove features with very high or very low cardinality : they add no information\n",
    "    - `df['col'].value_counts()`\n",
    "- Remove irrelevant column : they add noise into the model\n",
    "- Inspect features with seaborn pairplot\n",
    "    - `sns.pairplot(ansur_df, hue=\"gender\", diag_kind='hist')`\n",
    "- Drop highly correlated features (close to 1) : They add bias into the model\n",
    "    - look at both pairplot and heatmap\n",
    "- Extract features for seemmingly same correlated features \n",
    "    - Use `PCA`\n",
    "- Visualize the contribution of features with t-sne\n",
    "    - Use t-sne on numeric features and visualize them in 2D\n",
    "    - use categorical features as `hue` of scatterplot for transformed t-sne to identify driver features"
   ]
  },
  {
   "cell_type": "markdown",
   "metadata": {},
   "source": [
    "### T-SNE"
   ]
  },
  {
   "cell_type": "markdown",
   "metadata": {},
   "source": [
    "```\n",
    "from sklearn.manifold import TSNE\n",
    "import matplotlib.pyplot as plt\n",
    "import seaborn as sns\n",
    "\n",
    "# Tune learning_rate between 50 to 200\n",
    "model = TSNE(learning_rate=50)\n",
    "\n",
    "# Transform into 2D\n",
    "# NOTE : There is no fit or transform stand-alone method. They are done together\n",
    "tsne_features = model.fit_transform(df_numeric)\n",
    "\n",
    "# Visualize the t-sne clusters\n",
    "df['x'] = tsne_features[:,0]\n",
    "df['y'] = tsne_features[:,1]\n",
    "sns.scatterplot(x=\"x\", y=\"y\", hue=\"cat_col\", data=df)\n",
    "plt.show()\n",
    "```"
   ]
  },
  {
   "cell_type": "markdown",
   "metadata": {},
   "source": []
  }
 ],
 "metadata": {
  "language_info": {
   "name": "python"
  }
 },
 "nbformat": 4,
 "nbformat_minor": 2
}
