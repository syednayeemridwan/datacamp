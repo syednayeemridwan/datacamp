{
 "cells": [
  {
   "cell_type": "markdown",
   "metadata": {},
   "source": [
    "# Chapter 1"
   ]
  },
  {
   "cell_type": "markdown",
   "metadata": {},
   "source": [
    "- Remove features with 0 variance : they add no information\n",
    "- Remove features with very high or very low cardinality : they add no information\n",
    "- Remove irrelevant column : they add noise into the model\n",
    "- Inspect features with seaborn pairplot to remove duplicate columns\n",
    "- Drop highly correlated features if you are confident that they may add bias into the model\n",
    "    - look at both pairplot and heatmap and prearson's correlation value\n",
    "- Drop scaled variance up to a threshold : Very low variance may add noise to the dataset\n",
    "- Drop columns that have missing values beyond a threshold (generally 30%)\n",
    "- Extract features for seemmingly same correlated features : \n",
    "    - Use PCA\n",
    "- Visualize the contribution of features with t-sne\n",
    "    - Use t-sne on numeric features and visualize them in 2D\n",
    "    - use categorical features as `hue` of scatterplot for transformed t-sne to identify driver features"
   ]
  },
  {
   "cell_type": "markdown",
   "metadata": {},
   "source": [
    "```\n",
    "# Remove feature with 0 variance\n",
    "df.describe()\n",
    "# Remove features with very high or very low cardinality\n",
    "df['col'].value_counts()\n",
    "# Remove irrelevant column \n",
    "df.drop('col', axis=1)\n",
    "# Inspect features with seaborn pairplot to remove duplicate columns\n",
    "sns.pairplot(df, hue=\"cat_col\", diag_kind='hist')\n",
    "# USE T-SNE\n",
    "\n",
    "# Drop highly correlated features if you are confident that they may add bias into the model\n",
    "corr_df = df.corr()\n",
    "mask = np.triu(np.ones_like(corr_df, dtype=bool))\n",
    "sns.heatmap(corr_df, mask=mask, center=0, linewidths=1, annot=True, fmt=\".2f\")\n",
    "# Alternative approach\n",
    "corr_df = df.corr().abs()\n",
    "mask = np.triu(np.ones_like(corr_df, dtype=bool))\n",
    "tri_df = corr_df.mask(mask)\n",
    "to_drop = [c for c in tri_df.columns if any(tri_df[c] > 0.95)]\n",
    "reduced_df = chest_df.drop(to_drop, axis=1)\n",
    "\n",
    "# Drop columns that have missing values beyond a threshold (generally 30%)\n",
    "mask = pokemon_df.isna().sum() / len(pokemon_df) < 0.3\n",
    "reduced_df = df.loc[:, mask]\n",
    "\n",
    "# Drop scaled variance up to a threshold (features with very low variance or close to 0)\n",
    "from sklearn.feature_selection import VarianceThreshold\n",
    "sel = VarianceThreshold(threshold=0.005)\n",
    "sel.fit(df / df.mean())\n",
    "mask = sel.get_support()\n",
    "reduced_df = df.loc[:, mask]\n",
    "```"
   ]
  },
  {
   "cell_type": "markdown",
   "metadata": {},
   "source": [
    "### T-SNE"
   ]
  },
  {
   "cell_type": "markdown",
   "metadata": {},
   "source": [
    "```\n",
    "from sklearn.manifold import TSNE\n",
    "import matplotlib.pyplot as plt\n",
    "import seaborn as sns\n",
    "\n",
    "# Tune learning_rate between 50 to 200\n",
    "model = TSNE(learning_rate=50)\n",
    "\n",
    "# Transform into 2D\n",
    "# NOTE : There is no fit or transform stand-alone method. They are done together\n",
    "tsne_features = model.fit_transform(df_numeric)\n",
    "\n",
    "# Visualize the t-sne clusters\n",
    "df['x'] = tsne_features[:,0]\n",
    "df['y'] = tsne_features[:,1]\n",
    "sns.scatterplot(x=\"x\", y=\"y\", hue=\"cat_col\", data=df)\n",
    "plt.show()\n",
    "```"
   ]
  },
  {
   "cell_type": "markdown",
   "metadata": {},
   "source": [
    "# Chapter 2"
   ]
  },
  {
   "cell_type": "markdown",
   "metadata": {},
   "source": [
    "### Curse of dimensionality\n"
   ]
  },
  {
   "cell_type": "markdown",
   "metadata": {},
   "source": [
    "- Simply think of a dataset of 3 columns and 100 rows(observation)\n",
    "- Now for increasing accuracy, if you add one mmore feature/column:\n",
    "\t- For each feature(column), you have to add more observations \n",
    "    - Otherwise the model will overfit based on the little amount (100 samples)\n",
    "    - How much observations should be added : exponential number of obervations for each new feature\n",
    "- For high dimension, this becomes really problematic\n",
    "- This phenomenon is called curse of dimensionality\n",
    "\n",
    "\n"
   ]
  },
  {
   "cell_type": "markdown",
   "metadata": {},
   "source": []
  }
 ],
 "metadata": {
  "language_info": {
   "name": "python"
  }
 },
 "nbformat": 4,
 "nbformat_minor": 2
}
