{
 "cells": [
  {
   "cell_type": "markdown",
   "metadata": {},
   "source": [
    "# Train - test split"
   ]
  },
  {
   "cell_type": "markdown",
   "metadata": {},
   "source": [
    "In this chapter, you will keep working with the ANSUR dataset. Before you can build a model on your dataset, you should first decide on which feature you want to predict. In this case, you're trying to predict gender.\n",
    "\n",
    "You need to extract the column holding this feature from the dataset and then split the data into a training and test set. The training set will be used to train the model and the test set will be used to check its performance on unseen data."
   ]
  },
  {
   "cell_type": "code",
   "execution_count": 3,
   "metadata": {},
   "outputs": [
    {
     "name": "stdout",
     "output_type": "stream",
     "text": [
      "Index(['Branch', 'Component', 'Gender', 'abdominalextensiondepthsitting',\n",
      "       'acromialheight', 'acromionradialelength', 'anklecircumference',\n",
      "       'axillaheight', 'balloffootcircumference', 'balloffootlength',\n",
      "       'biacromialbreadth', 'bicepscircumferenceflexed', 'bicristalbreadth',\n",
      "       'bideltoidbreadth', 'bimalleolarbreadth', 'bitragionchinarc',\n",
      "       'bitragionsubmandibulararc', 'bizygomaticbreadth',\n",
      "       'buttockcircumference', 'buttockdepth', 'buttockheight',\n",
      "       'buttockkneelength', 'buttockpopliteallength', 'calfcircumference',\n",
      "       'cervicaleheight', 'chestbreadth', 'chestcircumference', 'chestdepth',\n",
      "       'chestheight', 'crotchheight', 'crotchlengthomphalion',\n",
      "       'crotchlengthposterioromphalion', 'earbreadth', 'earlength',\n",
      "       'earprotrusion', 'elbowrestheight', 'eyeheightsitting',\n",
      "       'footbreadthhorizontal', 'footlength', 'forearmcenterofgriplength',\n",
      "       'forearmcircumferenceflexed', 'forearmforearmbreadth',\n",
      "       'forearmhandlength', 'functionalleglength', 'handbreadth',\n",
      "       'handcircumference', 'handlength', 'headbreadth', 'headcircumference',\n",
      "       'headlength', 'heelanklecircumference', 'heelbreadth', 'hipbreadth',\n",
      "       'hipbreadthsitting', 'iliocristaleheight', 'interpupillarybreadth',\n",
      "       'interscyei', 'interscyeii', 'kneeheightmidpatella',\n",
      "       'kneeheightsitting', 'lateralfemoralepicondyleheight',\n",
      "       'lateralmalleolusheight', 'lowerthighcircumference',\n",
      "       'mentonsellionlength', 'neckcircumference', 'neckcircumferencebase',\n",
      "       'overheadfingertipreachsitting', 'palmlength', 'poplitealheight',\n",
      "       'radialestylionlength', 'shouldercircumference', 'shoulderelbowlength',\n",
      "       'shoulderlength', 'sittingheight', 'sleevelengthspinewrist',\n",
      "       'sleeveoutseam', 'span', 'suprasternaleheight', 'tenthribheight',\n",
      "       'thighcircumference', 'thighclearance', 'thumbtipreach', 'tibialheight',\n",
      "       'tragiontopofhead', 'trochanterionheight',\n",
      "       'verticaltrunkcircumferenceusa', 'waistbacklength', 'waistbreadth',\n",
      "       'waistcircumference', 'waistdepth', 'waistfrontlengthsitting',\n",
      "       'waistheightomphalion', 'wristcircumference', 'wristheight',\n",
      "       'weight_kg', 'stature_m', 'BMI', 'BMI_class', 'Height_class'],\n",
      "      dtype='object')\n",
      "Index(['Branch', 'Component', 'Gender', 'abdominalextensiondepthsitting',\n",
      "       'acromialheight', 'acromionradialelength', 'anklecircumference',\n",
      "       'axillaheight', 'balloffootcircumference', 'balloffootlength',\n",
      "       'biacromialbreadth', 'bicepscircumferenceflexed', 'bicristalbreadth',\n",
      "       'bideltoidbreadth', 'bimalleolarbreadth', 'bitragionchinarc',\n",
      "       'bitragionsubmandibulararc', 'bizygomaticbreadth',\n",
      "       'buttockcircumference', 'buttockdepth', 'buttockheight',\n",
      "       'buttockkneelength', 'buttockpopliteallength', 'calfcircumference',\n",
      "       'cervicaleheight', 'chestbreadth', 'chestcircumference', 'chestdepth',\n",
      "       'chestheight', 'crotchheight', 'crotchlengthomphalion',\n",
      "       'crotchlengthposterioromphalion', 'earbreadth', 'earlength',\n",
      "       'earprotrusion', 'elbowrestheight', 'eyeheightsitting',\n",
      "       'footbreadthhorizontal', 'footlength', 'forearmcenterofgriplength',\n",
      "       'forearmcircumferenceflexed', 'forearmforearmbreadth',\n",
      "       'forearmhandlength', 'functionalleglength', 'handbreadth',\n",
      "       'handcircumference', 'handlength', 'headbreadth', 'headcircumference',\n",
      "       'headlength', 'heelanklecircumference', 'heelbreadth', 'hipbreadth',\n",
      "       'hipbreadthsitting', 'iliocristaleheight', 'interpupillarybreadth',\n",
      "       'interscyei', 'interscyeii', 'kneeheightmidpatella',\n",
      "       'kneeheightsitting', 'lateralfemoralepicondyleheight',\n",
      "       'lateralmalleolusheight', 'lowerthighcircumference',\n",
      "       'mentonsellionlength', 'neckcircumference', 'neckcircumferencebase',\n",
      "       'overheadfingertipreachsitting', 'palmlength', 'poplitealheight',\n",
      "       'radialestylionlength', 'shouldercircumference', 'shoulderelbowlength',\n",
      "       'shoulderlength', 'sittingheight', 'sleevelengthspinewrist',\n",
      "       'sleeveoutseam', 'span', 'suprasternaleheight', 'tenthribheight',\n",
      "       'thighcircumference', 'thighclearance', 'thumbtipreach', 'tibialheight',\n",
      "       'tragiontopofhead', 'trochanterionheight',\n",
      "       'verticaltrunkcircumferenceusa', 'waistbacklength', 'waistbreadth',\n",
      "       'waistcircumference', 'waistdepth', 'waistfrontlengthsitting',\n",
      "       'waistheightomphalion', 'wristcircumference', 'wristheight',\n",
      "       'weight_kg', 'stature_m', 'BMI', 'BMI_class', 'Height_class'],\n",
      "      dtype='object')\n"
     ]
    }
   ],
   "source": [
    "import pandas as pd\n",
    "import matplotlib.pyplot as plt\n",
    "import seaborn as sns\n",
    "\n",
    "ansur_df_1_org = pd.read_csv(\"dataset/ANSUR_II_MALE.csv\")\n",
    "ansur_df_2_org = pd.read_csv(\"dataset/ANSUR_II_FEMALE.csv\")\n",
    "print(ansur_df_1_org.columns)\n",
    "print(ansur_df_2_org.columns)\n"
   ]
  },
  {
   "cell_type": "code",
   "execution_count": 4,
   "metadata": {},
   "outputs": [
    {
     "name": "stdout",
     "output_type": "stream",
     "text": [
      "Index(['BMI_class', 'Height_class', 'Gender', 'Component', 'Branch',\n",
      "       'stature_m', 'weight_kg', 'footlength'],\n",
      "      dtype='object')\n",
      "Index(['BMI_class', 'Height_class', 'Gender', 'Component', 'Branch',\n",
      "       'stature_m', 'weight_kg', 'footlength'],\n",
      "      dtype='object')\n"
     ]
    }
   ],
   "source": [
    "\n",
    "selected_cols = ['BMI_class', 'Height_class', 'Gender', 'Component', 'Branch',\"stature_m\",\"weight_kg\",\"footlength\"]\n",
    "ansur_df_1 = ansur_df_1_org[selected_cols]\n",
    "ansur_df_2 = ansur_df_2_org[selected_cols]\n",
    "print(ansur_df_1.columns)\n",
    "print(ansur_df_2.columns)"
   ]
  },
  {
   "cell_type": "code",
   "execution_count": 5,
   "metadata": {},
   "outputs": [
    {
     "data": {
      "text/html": [
       "<div>\n",
       "<style scoped>\n",
       "    .dataframe tbody tr th:only-of-type {\n",
       "        vertical-align: middle;\n",
       "    }\n",
       "\n",
       "    .dataframe tbody tr th {\n",
       "        vertical-align: top;\n",
       "    }\n",
       "\n",
       "    .dataframe thead th {\n",
       "        text-align: right;\n",
       "    }\n",
       "</style>\n",
       "<table border=\"1\" class=\"dataframe\">\n",
       "  <thead>\n",
       "    <tr style=\"text-align: right;\">\n",
       "      <th></th>\n",
       "      <th>BMI_class</th>\n",
       "      <th>Height_class</th>\n",
       "      <th>Gender</th>\n",
       "      <th>Component</th>\n",
       "      <th>Branch</th>\n",
       "      <th>stature_m</th>\n",
       "      <th>weight_kg</th>\n",
       "      <th>footlength</th>\n",
       "    </tr>\n",
       "  </thead>\n",
       "  <tbody>\n",
       "    <tr>\n",
       "      <th>0</th>\n",
       "      <td>Overweight</td>\n",
       "      <td>Tall</td>\n",
       "      <td>Male</td>\n",
       "      <td>Regular Army</td>\n",
       "      <td>Combat Arms</td>\n",
       "      <td>1.776</td>\n",
       "      <td>81.5</td>\n",
       "      <td>273</td>\n",
       "    </tr>\n",
       "    <tr>\n",
       "      <th>1</th>\n",
       "      <td>Overweight</td>\n",
       "      <td>Normal</td>\n",
       "      <td>Male</td>\n",
       "      <td>Regular Army</td>\n",
       "      <td>Combat Support</td>\n",
       "      <td>1.702</td>\n",
       "      <td>72.6</td>\n",
       "      <td>263</td>\n",
       "    </tr>\n",
       "    <tr>\n",
       "      <th>2</th>\n",
       "      <td>Overweight</td>\n",
       "      <td>Normal</td>\n",
       "      <td>Male</td>\n",
       "      <td>Regular Army</td>\n",
       "      <td>Combat Support</td>\n",
       "      <td>1.735</td>\n",
       "      <td>92.9</td>\n",
       "      <td>270</td>\n",
       "    </tr>\n",
       "    <tr>\n",
       "      <th>3</th>\n",
       "      <td>Overweight</td>\n",
       "      <td>Normal</td>\n",
       "      <td>Male</td>\n",
       "      <td>Regular Army</td>\n",
       "      <td>Combat Service Support</td>\n",
       "      <td>1.655</td>\n",
       "      <td>79.4</td>\n",
       "      <td>267</td>\n",
       "    </tr>\n",
       "    <tr>\n",
       "      <th>4</th>\n",
       "      <td>Overweight</td>\n",
       "      <td>Tall</td>\n",
       "      <td>Male</td>\n",
       "      <td>Regular Army</td>\n",
       "      <td>Combat Service Support</td>\n",
       "      <td>1.914</td>\n",
       "      <td>94.6</td>\n",
       "      <td>305</td>\n",
       "    </tr>\n",
       "  </tbody>\n",
       "</table>\n",
       "</div>"
      ],
      "text/plain": [
       "    BMI_class Height_class Gender     Component                  Branch  \\\n",
       "0  Overweight         Tall   Male  Regular Army             Combat Arms   \n",
       "1  Overweight       Normal   Male  Regular Army          Combat Support   \n",
       "2  Overweight       Normal   Male  Regular Army          Combat Support   \n",
       "3  Overweight       Normal   Male  Regular Army  Combat Service Support   \n",
       "4  Overweight         Tall   Male  Regular Army  Combat Service Support   \n",
       "\n",
       "   stature_m  weight_kg  footlength  \n",
       "0      1.776       81.5         273  \n",
       "1      1.702       72.6         263  \n",
       "2      1.735       92.9         270  \n",
       "3      1.655       79.4         267  \n",
       "4      1.914       94.6         305  "
      ]
     },
     "execution_count": 5,
     "metadata": {},
     "output_type": "execute_result"
    }
   ],
   "source": [
    "ansur_df = pd.concat([ansur_df_1,ansur_df_2],axis=0,ignore_index=True)\n",
    "ansur_df.head()"
   ]
  },
  {
   "cell_type": "code",
   "execution_count": 6,
   "metadata": {},
   "outputs": [
    {
     "name": "stdout",
     "output_type": "stream",
     "text": [
      "1821 rows in test set vs. 4247 in training set, 3 Features.\n"
     ]
    }
   ],
   "source": [
    "# Import train_test_split()\n",
    "from sklearn.model_selection import train_test_split\n",
    "\n",
    "# Select the Gender column as the feature to be predicted (y)\n",
    "y = ansur_df['Gender']\n",
    "\n",
    "# Remove the Gender column to create the training data\n",
    "X = ansur_df.drop(['Gender','BMI_class',\t'Height_class'\t,'Component',\t'Branch'], axis = 1)\n",
    "\n",
    "# Perform a 70% train and 30% test data split\n",
    "X_train, X_test, y_train, y_test = train_test_split(X, y, test_size=0.3)\n",
    "\n",
    "print(f\"{X_test.shape[0]} rows in test set vs. {X_train.shape[0]} in training set, {X_test.shape[1]} Features.\")"
   ]
  },
  {
   "cell_type": "markdown",
   "metadata": {},
   "source": [
    "# Fitting and testing the model"
   ]
  },
  {
   "cell_type": "markdown",
   "metadata": {},
   "source": [
    " You'll now create a support vector machine classifier model (`SVC()`) and fit that to the training data. You'll then calculate the accuracy on both the test and training set to detect overfitting."
   ]
  },
  {
   "cell_type": "code",
   "execution_count": 7,
   "metadata": {},
   "outputs": [
    {
     "name": "stdout",
     "output_type": "stream",
     "text": [
      "85.9% accuracy on test set vs. 85.5% on training set\n"
     ]
    }
   ],
   "source": [
    "# Import SVC from sklearn.svm and accuracy_score from sklearn.metrics\n",
    "from sklearn.svm import SVC\n",
    "from sklearn.metrics import accuracy_score\n",
    "\n",
    "# Create an instance of the Support Vector Classification class\n",
    "svc = SVC()\n",
    "\n",
    "# Fit the model to the training data\n",
    "svc.fit(X_train, y_train)\n",
    "\n",
    "# Calculate accuracy scores on both train and test data\n",
    "accuracy_train = accuracy_score(y_train, svc.predict(X_train))\n",
    "accuracy_test = accuracy_score(y_test, svc.predict(X_test))\n",
    "\n",
    "print(f\"{accuracy_test:.1%} accuracy on test set vs. {accuracy_train:.1%} on training set\")"
   ]
  },
  {
   "cell_type": "markdown",
   "metadata": {},
   "source": [
    "# Accuracy after dimensionality reduction"
   ]
  },
  {
   "cell_type": "markdown",
   "metadata": {},
   "source": [
    "You'll reduce the overfit with the help of dimensionality reduction. In this case, you'll apply a rather drastic form of dimensionality reduction by only selecting a single column that has some good information to distinguish between genders. You'll repeat the train-test split, model fit and prediction steps to compare the accuracy on test versus training data."
   ]
  },
  {
   "cell_type": "code",
   "execution_count": 8,
   "metadata": {},
   "outputs": [
    {
     "name": "stdout",
     "output_type": "stream",
     "text": [
      "85.3% accuracy on test set vs. 84.9% on training set\n"
     ]
    }
   ],
   "source": [
    "# Assign just the 'footlength' column from ansur_df to X\n",
    "X = ansur_df[['footlength']]\n",
    "\n",
    "# Split the data, instantiate a classifier and fit the data\n",
    "X_train, X_test, y_train, y_test = train_test_split(X, y, test_size=0.3)\n",
    "svc = SVC()\n",
    "svc.fit(X_train, y_train)\n",
    "\n",
    "# Calculate accuracy scores on both train and test data\n",
    "accuracy_train = accuracy_score(y_train, svc.predict(X_train))\n",
    "accuracy_test = accuracy_score(y_test, svc.predict(X_test))\n",
    "\n",
    "print(f\"{accuracy_test:.1%} accuracy on test set vs. {accuracy_train:.1%} on training set\")"
   ]
  },
  {
   "cell_type": "markdown",
   "metadata": {},
   "source": [
    "# Finding a good variance threshold"
   ]
  },
  {
   "cell_type": "markdown",
   "metadata": {},
   "source": [
    "You'll be working on a slightly modified subsample of the ANSUR dataset with just head measurements pre-loaded as `head_df`."
   ]
  },
  {
   "cell_type": "code",
   "execution_count": 9,
   "metadata": {},
   "outputs": [],
   "source": [
    "selected_cols = ['headbreadth', 'headcircumference', 'headlength']"
   ]
  },
  {
   "cell_type": "code",
   "execution_count": 10,
   "metadata": {},
   "outputs": [
    {
     "data": {
      "image/png": "[encoded data removed]",
      "text/plain": [
       "<Figure size 432x288 with 1 Axes>"
      ]
     },
     "metadata": {
      "needs_background": "light"
     },
     "output_type": "display_data"
    }
   ],
   "source": [
    "head_df = pd.concat([ansur_df_1_org[selected_cols], ansur_df_2_org[selected_cols]], axis=0, ignore_index=True)\n",
    "# Create the boxplot\n",
    "head_df.plot.box()\n",
    "\n",
    "plt.show()"
   ]
  },
  {
   "cell_type": "code",
   "execution_count": 11,
   "metadata": {},
   "outputs": [
    {
     "data": {
      "image/png": "[encoded data removed]",
      "text/plain": [
       "<Figure size 432x288 with 1 Axes>"
      ]
     },
     "metadata": {
      "needs_background": "light"
     },
     "output_type": "display_data"
    }
   ],
   "source": [
    "# Normalize the data\n",
    "normalized_df = head_df / head_df.mean()\n",
    "\n",
    "normalized_df.boxplot()\n",
    "plt.show()"
   ]
  },
  {
   "cell_type": "code",
   "execution_count": 12,
   "metadata": {},
   "outputs": [
    {
     "name": "stdout",
     "output_type": "stream",
     "text": [
      "headbreadth          0.001679\n",
      "headcircumference    0.001030\n",
      "headlength           0.001868\n",
      "dtype: float64\n"
     ]
    }
   ],
   "source": [
    "# Normalize the data\n",
    "normalized_df = head_df / head_df.mean()\n",
    "\n",
    "# Print the variances of the normalized data\n",
    "print(normalized_df.var())"
   ]
  },
  {
   "cell_type": "markdown",
   "metadata": {},
   "source": [
    "# Features with low variance"
   ]
  },
  {
   "cell_type": "markdown",
   "metadata": {},
   "source": [
    "In the previous exercise you established that 0.001 is a good threshold to filter out low variance features in `head_df` after normalization. Now use the `VarianceThreshold` feature selector to remove these features."
   ]
  },
  {
   "cell_type": "code",
   "execution_count": 13,
   "metadata": {},
   "outputs": [
    {
     "name": "stdout",
     "output_type": "stream",
     "text": [
      "Dimensionality reduced from 3 to 3.\n"
     ]
    }
   ],
   "source": [
    "from sklearn.feature_selection import VarianceThreshold\n",
    "\n",
    "# Create a VarianceThreshold feature selector\n",
    "sel = VarianceThreshold(threshold=0.001)\n",
    "\n",
    "# Fit the selector to normalized head_df\n",
    "sel.fit(head_df / head_df.mean())\n",
    "\n",
    "# Create a boolean mask\n",
    "mask = sel.get_support()\n",
    "\n",
    "# Apply the mask to create a reduced DataFrame\n",
    "reduced_df = head_df.loc[:, mask]\n",
    "\n",
    "print(f\"Dimensionality reduced from {head_df.shape[1]} to {reduced_df.shape[1]}.\")"
   ]
  },
  {
   "cell_type": "markdown",
   "metadata": {},
   "source": [
    "# Removing features with many missing values"
   ]
  },
  {
   "cell_type": "markdown",
   "metadata": {},
   "source": [
    "You'll apply feature selection on the Boston Public Schools dataset which has been pre-loaded as `school_df`. Calculate the missing value ratio per feature and then create a mask to remove features with many missing values."
   ]
  },
  {
   "cell_type": "code",
   "execution_count": 14,
   "metadata": {},
   "outputs": [
    {
     "data": {
      "text/plain": [
       "Index(['x', 'y', 'objectid_1', 'objectid', 'bldg_id', 'bldg_name', 'address',\n",
       "       'city', 'zipcode', 'csp_sch_id', 'sch_id', 'sch_name', 'sch_label',\n",
       "       'sch_type', 'shared', 'complex', 'label', 'tlt', 'pl', 'point_x',\n",
       "       'point_y'],\n",
       "      dtype='object')"
      ]
     },
     "execution_count": 14,
     "metadata": {},
     "output_type": "execute_result"
    }
   ],
   "source": [
    "school_df = pd.read_csv(\"dataset/Public_Schools2.csv\")\n",
    "school_df.columns"
   ]
  },
  {
   "cell_type": "code",
   "execution_count": 15,
   "metadata": {},
   "outputs": [
    {
     "data": {
      "text/plain": [
       "x             0.000000\n",
       "y             0.000000\n",
       "objectid_1    0.000000\n",
       "objectid      0.000000\n",
       "bldg_id       0.000000\n",
       "bldg_name     0.000000\n",
       "address       0.000000\n",
       "city          0.000000\n",
       "zipcode       0.000000\n",
       "csp_sch_id    0.000000\n",
       "sch_id        0.000000\n",
       "sch_name      0.000000\n",
       "sch_label     0.000000\n",
       "sch_type      0.000000\n",
       "shared        0.877863\n",
       "complex       0.984733\n",
       "label         0.000000\n",
       "tlt           0.000000\n",
       "pl            0.000000\n",
       "point_x       0.000000\n",
       "point_y       0.000000\n",
       "dtype: float64"
      ]
     },
     "execution_count": 15,
     "metadata": {},
     "output_type": "execute_result"
    }
   ],
   "source": [
    "school_df.isna().sum()/len(school_df)"
   ]
  },
  {
   "cell_type": "code",
   "execution_count": 16,
   "metadata": {},
   "outputs": [
    {
     "name": "stdout",
     "output_type": "stream",
     "text": [
      "(131, 21)\n",
      "(131, 19)\n"
     ]
    }
   ],
   "source": [
    "# Create a boolean mask on whether each feature less than 50% missing values.\n",
    "mask = school_df.isna().sum() / len(school_df) < 0.5\n",
    "\n",
    "# Create a reduced dataset by applying the mask\n",
    "reduced_df = school_df.loc[:,mask]\n",
    "\n",
    "print(school_df.shape)\n",
    "print(reduced_df.shape)"
   ]
  },
  {
   "cell_type": "markdown",
   "metadata": {},
   "source": [
    "# Correlation intuition"
   ]
  },
  {
   "cell_type": "markdown",
   "metadata": {},
   "source": [
    "What statement on correlations is correct?"
   ]
  },
  {
   "cell_type": "markdown",
   "metadata": {},
   "source": [
    "- The correlation coefficient of A to B is equal to that of B to A."
   ]
  },
  {
   "cell_type": "markdown",
   "metadata": {},
   "source": [
    "# Inspecting the correlation matrix"
   ]
  },
  {
   "cell_type": "markdown",
   "metadata": {},
   "source": [
    "A sample of the ANSUR body measurements dataset has been pre-loaded as `school_df`. Use the terminal to create a correlation matrix for this dataset."
   ]
  },
  {
   "cell_type": "code",
   "execution_count": 17,
   "metadata": {},
   "outputs": [
    {
     "data": {
      "text/html": [
       "<div>\n",
       "<style scoped>\n",
       "    .dataframe tbody tr th:only-of-type {\n",
       "        vertical-align: middle;\n",
       "    }\n",
       "\n",
       "    .dataframe tbody tr th {\n",
       "        vertical-align: top;\n",
       "    }\n",
       "\n",
       "    .dataframe thead th {\n",
       "        text-align: right;\n",
       "    }\n",
       "</style>\n",
       "<table border=\"1\" class=\"dataframe\">\n",
       "  <thead>\n",
       "    <tr style=\"text-align: right;\">\n",
       "      <th></th>\n",
       "      <th>x</th>\n",
       "      <th>y</th>\n",
       "      <th>objectid_1</th>\n",
       "      <th>objectid</th>\n",
       "      <th>bldg_id</th>\n",
       "      <th>zipcode</th>\n",
       "      <th>csp_sch_id</th>\n",
       "      <th>sch_id</th>\n",
       "      <th>label</th>\n",
       "      <th>tlt</th>\n",
       "      <th>point_x</th>\n",
       "      <th>point_y</th>\n",
       "    </tr>\n",
       "  </thead>\n",
       "  <tbody>\n",
       "    <tr>\n",
       "      <th>x</th>\n",
       "      <td>1.000000</td>\n",
       "      <td>0.473364</td>\n",
       "      <td>-0.510227</td>\n",
       "      <td>-0.007908</td>\n",
       "      <td>-0.278011</td>\n",
       "      <td>-0.281229</td>\n",
       "      <td>0.082078</td>\n",
       "      <td>0.082078</td>\n",
       "      <td>-0.031629</td>\n",
       "      <td>-0.205847</td>\n",
       "      <td>0.999985</td>\n",
       "      <td>0.476233</td>\n",
       "    </tr>\n",
       "    <tr>\n",
       "      <th>y</th>\n",
       "      <td>0.473364</td>\n",
       "      <td>1.000000</td>\n",
       "      <td>-0.329981</td>\n",
       "      <td>0.126231</td>\n",
       "      <td>-0.235797</td>\n",
       "      <td>-0.029144</td>\n",
       "      <td>-0.045393</td>\n",
       "      <td>-0.045393</td>\n",
       "      <td>-0.085786</td>\n",
       "      <td>0.156413</td>\n",
       "      <td>0.468584</td>\n",
       "      <td>0.999993</td>\n",
       "    </tr>\n",
       "    <tr>\n",
       "      <th>objectid_1</th>\n",
       "      <td>-0.510227</td>\n",
       "      <td>-0.329981</td>\n",
       "      <td>1.000000</td>\n",
       "      <td>0.415062</td>\n",
       "      <td>0.447980</td>\n",
       "      <td>0.191296</td>\n",
       "      <td>-0.078681</td>\n",
       "      <td>-0.078681</td>\n",
       "      <td>-0.245372</td>\n",
       "      <td>0.152767</td>\n",
       "      <td>-0.509573</td>\n",
       "      <td>-0.331199</td>\n",
       "    </tr>\n",
       "    <tr>\n",
       "      <th>objectid</th>\n",
       "      <td>-0.007908</td>\n",
       "      <td>0.126231</td>\n",
       "      <td>0.415062</td>\n",
       "      <td>1.000000</td>\n",
       "      <td>0.141916</td>\n",
       "      <td>-0.059306</td>\n",
       "      <td>-0.145790</td>\n",
       "      <td>-0.145790</td>\n",
       "      <td>-0.254616</td>\n",
       "      <td>0.102482</td>\n",
       "      <td>-0.008674</td>\n",
       "      <td>0.125981</td>\n",
       "    </tr>\n",
       "    <tr>\n",
       "      <th>bldg_id</th>\n",
       "      <td>-0.278011</td>\n",
       "      <td>-0.235797</td>\n",
       "      <td>0.447980</td>\n",
       "      <td>0.141916</td>\n",
       "      <td>1.000000</td>\n",
       "      <td>0.082355</td>\n",
       "      <td>0.049492</td>\n",
       "      <td>0.049492</td>\n",
       "      <td>0.000062</td>\n",
       "      <td>-0.045506</td>\n",
       "      <td>-0.277419</td>\n",
       "      <td>-0.236490</td>\n",
       "    </tr>\n",
       "    <tr>\n",
       "      <th>zipcode</th>\n",
       "      <td>-0.281229</td>\n",
       "      <td>-0.029144</td>\n",
       "      <td>0.191296</td>\n",
       "      <td>-0.059306</td>\n",
       "      <td>0.082355</td>\n",
       "      <td>1.000000</td>\n",
       "      <td>-0.097984</td>\n",
       "      <td>-0.097984</td>\n",
       "      <td>0.065360</td>\n",
       "      <td>0.100271</td>\n",
       "      <td>-0.281904</td>\n",
       "      <td>-0.029995</td>\n",
       "    </tr>\n",
       "    <tr>\n",
       "      <th>csp_sch_id</th>\n",
       "      <td>0.082078</td>\n",
       "      <td>-0.045393</td>\n",
       "      <td>-0.078681</td>\n",
       "      <td>-0.145790</td>\n",
       "      <td>0.049492</td>\n",
       "      <td>-0.097984</td>\n",
       "      <td>1.000000</td>\n",
       "      <td>1.000000</td>\n",
       "      <td>0.160027</td>\n",
       "      <td>-0.599612</td>\n",
       "      <td>0.082465</td>\n",
       "      <td>-0.045252</td>\n",
       "    </tr>\n",
       "    <tr>\n",
       "      <th>sch_id</th>\n",
       "      <td>0.082078</td>\n",
       "      <td>-0.045393</td>\n",
       "      <td>-0.078681</td>\n",
       "      <td>-0.145790</td>\n",
       "      <td>0.049492</td>\n",
       "      <td>-0.097984</td>\n",
       "      <td>1.000000</td>\n",
       "      <td>1.000000</td>\n",
       "      <td>0.160027</td>\n",
       "      <td>-0.599612</td>\n",
       "      <td>0.082465</td>\n",
       "      <td>-0.045252</td>\n",
       "    </tr>\n",
       "    <tr>\n",
       "      <th>label</th>\n",
       "      <td>-0.031629</td>\n",
       "      <td>-0.085786</td>\n",
       "      <td>-0.245372</td>\n",
       "      <td>-0.254616</td>\n",
       "      <td>0.000062</td>\n",
       "      <td>0.065360</td>\n",
       "      <td>0.160027</td>\n",
       "      <td>0.160027</td>\n",
       "      <td>1.000000</td>\n",
       "      <td>-0.139426</td>\n",
       "      <td>-0.031164</td>\n",
       "      <td>-0.085621</td>\n",
       "    </tr>\n",
       "    <tr>\n",
       "      <th>tlt</th>\n",
       "      <td>-0.205847</td>\n",
       "      <td>0.156413</td>\n",
       "      <td>0.152767</td>\n",
       "      <td>0.102482</td>\n",
       "      <td>-0.045506</td>\n",
       "      <td>0.100271</td>\n",
       "      <td>-0.599612</td>\n",
       "      <td>-0.599612</td>\n",
       "      <td>-0.139426</td>\n",
       "      <td>1.000000</td>\n",
       "      <td>-0.207291</td>\n",
       "      <td>0.155647</td>\n",
       "    </tr>\n",
       "    <tr>\n",
       "      <th>point_x</th>\n",
       "      <td>0.999985</td>\n",
       "      <td>0.468584</td>\n",
       "      <td>-0.509573</td>\n",
       "      <td>-0.008674</td>\n",
       "      <td>-0.277419</td>\n",
       "      <td>-0.281904</td>\n",
       "      <td>0.082465</td>\n",
       "      <td>0.082465</td>\n",
       "      <td>-0.031164</td>\n",
       "      <td>-0.207291</td>\n",
       "      <td>1.000000</td>\n",
       "      <td>0.471463</td>\n",
       "    </tr>\n",
       "    <tr>\n",
       "      <th>point_y</th>\n",
       "      <td>0.476233</td>\n",
       "      <td>0.999993</td>\n",
       "      <td>-0.331199</td>\n",
       "      <td>0.125981</td>\n",
       "      <td>-0.236490</td>\n",
       "      <td>-0.029995</td>\n",
       "      <td>-0.045252</td>\n",
       "      <td>-0.045252</td>\n",
       "      <td>-0.085621</td>\n",
       "      <td>0.155647</td>\n",
       "      <td>0.471463</td>\n",
       "      <td>1.000000</td>\n",
       "    </tr>\n",
       "  </tbody>\n",
       "</table>\n",
       "</div>"
      ],
      "text/plain": [
       "                   x         y  objectid_1  objectid   bldg_id   zipcode  \\\n",
       "x           1.000000  0.473364   -0.510227 -0.007908 -0.278011 -0.281229   \n",
       "y           0.473364  1.000000   -0.329981  0.126231 -0.235797 -0.029144   \n",
       "objectid_1 -0.510227 -0.329981    1.000000  0.415062  0.447980  0.191296   \n",
       "objectid   -0.007908  0.126231    0.415062  1.000000  0.141916 -0.059306   \n",
       "bldg_id    -0.278011 -0.235797    0.447980  0.141916  1.000000  0.082355   \n",
       "zipcode    -0.281229 -0.029144    0.191296 -0.059306  0.082355  1.000000   \n",
       "csp_sch_id  0.082078 -0.045393   -0.078681 -0.145790  0.049492 -0.097984   \n",
       "sch_id      0.082078 -0.045393   -0.078681 -0.145790  0.049492 -0.097984   \n",
       "label      -0.031629 -0.085786   -0.245372 -0.254616  0.000062  0.065360   \n",
       "tlt        -0.205847  0.156413    0.152767  0.102482 -0.045506  0.100271   \n",
       "point_x     0.999985  0.468584   -0.509573 -0.008674 -0.277419 -0.281904   \n",
       "point_y     0.476233  0.999993   -0.331199  0.125981 -0.236490 -0.029995   \n",
       "\n",
       "            csp_sch_id    sch_id     label       tlt   point_x   point_y  \n",
       "x             0.082078  0.082078 -0.031629 -0.205847  0.999985  0.476233  \n",
       "y            -0.045393 -0.045393 -0.085786  0.156413  0.468584  0.999993  \n",
       "objectid_1   -0.078681 -0.078681 -0.245372  0.152767 -0.509573 -0.331199  \n",
       "objectid     -0.145790 -0.145790 -0.254616  0.102482 -0.008674  0.125981  \n",
       "bldg_id       0.049492  0.049492  0.000062 -0.045506 -0.277419 -0.236490  \n",
       "zipcode      -0.097984 -0.097984  0.065360  0.100271 -0.281904 -0.029995  \n",
       "csp_sch_id    1.000000  1.000000  0.160027 -0.599612  0.082465 -0.045252  \n",
       "sch_id        1.000000  1.000000  0.160027 -0.599612  0.082465 -0.045252  \n",
       "label         0.160027  0.160027  1.000000 -0.139426 -0.031164 -0.085621  \n",
       "tlt          -0.599612 -0.599612 -0.139426  1.000000 -0.207291  0.155647  \n",
       "point_x       0.082465  0.082465 -0.031164 -0.207291  1.000000  0.471463  \n",
       "point_y      -0.045252 -0.045252 -0.085621  0.155647  0.471463  1.000000  "
      ]
     },
     "execution_count": 17,
     "metadata": {},
     "output_type": "execute_result"
    }
   ],
   "source": [
    "school_df.corr()"
   ]
  },
  {
   "cell_type": "markdown",
   "metadata": {},
   "source": [
    "# Visualizing the correlation matrix"
   ]
  },
  {
   "cell_type": "markdown",
   "metadata": {},
   "source": [
    "Correlation in its raw, numeric format doesn't allow us to get a quick overview. Let's improve this by removing redundant values and visualizing the matrix using seaborn."
   ]
  },
  {
   "cell_type": "code",
   "execution_count": 18,
   "metadata": {},
   "outputs": [
    {
     "data": {
      "image/png": "[encoded data removed]",
      "text/plain": [
       "<Figure size 432x288 with 2 Axes>"
      ]
     },
     "metadata": {
      "needs_background": "light"
     },
     "output_type": "display_data"
    }
   ],
   "source": [
    "# Create the correlation matrix\n",
    "corr = ansur_df.corr()\n",
    "\n",
    "# Draw a heatmap of the correlation matrix\n",
    "sns.heatmap(corr, center=0, linewidths=1, annot=True, fmt=\".2f\")\n",
    "plt.show()"
   ]
  },
  {
   "cell_type": "code",
   "execution_count": 19,
   "metadata": {},
   "outputs": [
    {
     "name": "stdout",
     "output_type": "stream",
     "text": [
      "[[ True  True  True]\n",
      " [False  True  True]\n",
      " [False False  True]]\n"
     ]
    }
   ],
   "source": [
    "import numpy as np\n",
    "# Create the correlation matrix\n",
    "corr = ansur_df.corr()\n",
    "\n",
    "# Generate a mask for the upper triangle\n",
    "mask = np.triu(np.ones_like(corr, dtype=bool))\n",
    "\n",
    "print(mask)"
   ]
  },
  {
   "cell_type": "code",
   "execution_count": 21,
   "metadata": {},
   "outputs": [
    {
     "data": {
      "image/png": "[encoded data removed]",
      "text/plain": [
       "<Figure size 432x288 with 2 Axes>"
      ]
     },
     "metadata": {
      "needs_background": "light"
     },
     "output_type": "display_data"
    }
   ],
   "source": [
    "# Add the mask to the heatmap\n",
    "sns.heatmap(corr, mask=mask, center=0, linewidths=1, annot=True, fmt=\".2f\")\n",
    "plt.show()"
   ]
  },
  {
   "cell_type": "markdown",
   "metadata": {},
   "source": [
    "# Filtering out highly correlated features"
   ]
  },
  {
   "cell_type": "markdown",
   "metadata": {},
   "source": [
    "You're going to automate the removal of highly correlated features in the numeric dataset. You'll calculate the correlation matrix and filter out columns that have a correlation coefficient of more than 0.95 or less than -0.95.\n",
    "\n",
    "Since each correlation coefficient occurs twice in the matrix (correlation of A to B equals correlation of B to A) you'll want to ignore half of the correlation matrix so that only one of the two correlated features is removed. Use a mask trick for this purpose."
   ]
  },
  {
   "cell_type": "code",
   "execution_count": 24,
   "metadata": {},
   "outputs": [
    {
     "name": "stdout",
     "output_type": "stream",
     "text": [
      "The reduced_df DataFrame has 18 columns.\n"
     ]
    }
   ],
   "source": [
    "# Calculate the correlation matrix and take the absolute value\n",
    "corr_df = school_df.corr().abs()\n",
    "\n",
    "# Create a True/False mask and apply it\n",
    "mask = np.triu(np.ones_like(corr_df, dtype=bool))\n",
    "tri_df = corr_df.mask(mask)\n",
    "\n",
    "# List column names of highly correlated features (r > 0.95)\n",
    "to_drop = [c for c in tri_df.columns if any(tri_df[c] >  0.95)]\n",
    "\n",
    "# Drop the features in the to_drop list\n",
    "reduced_df = school_df.drop(to_drop, axis=1)\n",
    "\n",
    "print(f\"The reduced_df DataFrame has {reduced_df.shape[1]} columns.\")"
   ]
  },
  {
   "cell_type": "markdown",
   "metadata": {},
   "source": [
    "# Nuclear energy and pool drownings"
   ]
  },
  {
   "cell_type": "markdown",
   "metadata": {},
   "source": [
    "The dataset that has been pre-loaded for you as `weird_df` contains actual data provided by the US Centers for Disease Control & Prevention and Department of Energy.\n",
    "\n",
    "Let's see if we can find a pattern."
   ]
  },
  {
   "cell_type": "code",
   "execution_count": 25,
   "metadata": {},
   "outputs": [],
   "source": [
    "# weird_df = pd.read_csv(\"dataset/grocery_sales.csv\")\n",
    "# weird_df.head()"
   ]
  },
  {
   "cell_type": "code",
   "execution_count": 26,
   "metadata": {},
   "outputs": [],
   "source": [
    "# # Put nuclear energy production on the x-axis and the number of pool drownings on the y-axis\n",
    "# sns.scatterplot(x=\"nuclear_energy\", y=\"pool_drownings\", data=weird_df)\n",
    "# plt.show()"
   ]
  },
  {
   "cell_type": "code",
   "execution_count": 27,
   "metadata": {},
   "outputs": [],
   "source": [
    "# # Print out the correlation matrix of weird_df\n",
    "# print(weird_df.corr())"
   ]
  },
  {
   "cell_type": "markdown",
   "metadata": {},
   "source": [
    "- What does this mean : Not much, correlation does not imply causation."
   ]
  }
 ],
 "metadata": {
  "kernelspec": {
   "display_name": "env_py",
   "language": "python",
   "name": "python3"
  },
  "language_info": {
   "codemirror_mode": {
    "name": "ipython",
    "version": 3
   },
   "file_extension": ".py",
   "mimetype": "text/x-python",
   "name": "python",
   "nbconvert_exporter": "python",
   "pygments_lexer": "ipython3",
   "version": "3.8.11"
  }
 },
 "nbformat": 4,
 "nbformat_minor": 2
}
