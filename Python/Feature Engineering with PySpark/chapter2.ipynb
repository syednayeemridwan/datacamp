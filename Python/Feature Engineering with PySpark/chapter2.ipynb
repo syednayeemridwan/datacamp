{
 "cells": [
  {
   "cell_type": "code",
   "execution_count": 1,
   "metadata": {},
   "outputs": [],
   "source": [
    "from pyspark.sql import SparkSession\n",
    "\n",
    "# Create a SparkSession\n",
    "spark = SparkSession.builder \\\n",
    "    .appName(\"example\") \\\n",
    "    .getOrCreate()"
   ]
  },
  {
   "cell_type": "markdown",
   "metadata": {},
   "source": [
    "# Dropping a list of columns"
   ]
  },
  {
   "cell_type": "markdown",
   "metadata": {},
   "source": [
    "Our data set is rich with a lot of features, but not all are valuable. We have many that are going to be hard to wrangle into anything useful. For now, let's remove any columns that aren't immediately useful by dropping them."
   ]
  },
  {
   "cell_type": "code",
   "execution_count": 2,
   "metadata": {},
   "outputs": [
    {
     "name": "stdout",
     "output_type": "stream",
     "text": [
      "+---+-----+-------------------+--------------------+----------+----------+---------------+----------------+---------------+---------------+---------+---------------+-----------------+------------+--------------+----------------+---------+--------------------+--------------------+------------+---------------+----------+---------+--------------------+--------------------+----------+------------------+--------------------+----+--------------------+---------------+-----+----------+---------+------------------+-------+----------+----------+---------+--------------------+--------------------+-----+------------------+--------------------+----------------+--------------------+---------+--------------------+----------+----------+---------+---------------------+--------------------+---------+---------+-----------+-----------------+-----+----------+--------------------+---------+----------+---------+----------+---------+----------+---------+----------+--------+---------------+-----------------+--------------+-----------------+-----------------+\n",
      "|No.|MLSID|StreetNumberNumeric|       streetaddress|STREETNAME|PostalCode|StateOrProvince|            City|SalesClosePrice|       LISTDATE|LISTPRICE|       LISTTYPE|OriginalListPrice|PricePerTSFT|FOUNDATIONSIZE|           FENCE|MapLetter|   LotSizeDimensions|SchoolDistrictNumber|DAYSONMARKET|  offmarketdate|Fireplaces|RoomArea4|            roomtype|                ROOF|RoomFloor4|PotentialShortSale|     PoolDescription|PDOM|   GarageDescription|SQFTABOVEGROUND|Taxes|RoomFloor1|RoomArea1|TAXWITHASSESSMENTS|TAXYEAR|LivingArea|UNITNUMBER|YEARBUILT|              ZONING|               STYLE|ACRES|CoolingDescription|          APPLIANCES|backonmarketdate|      ROOMFAMILYCHAR|RoomArea3|            EXTERIOR|RoomFloor3|RoomFloor2|RoomArea2|DiningRoomDescription|            BASEMENT|BathsFull|BathsHalf|BATHQUARTER|BATHSTHREEQUARTER|Class|BATHSTOTAL|            BATHDESC|RoomArea5|RoomFloor5|RoomArea6|RoomFloor6|RoomArea7|RoomFloor7|RoomArea8|RoomFloor8|Bedrooms|SQFTBELOWGROUND|AssumableMortgage|AssociationFee|ASSESSMENTPENDING|AssessedValuation|\n",
      "+---+-----+-------------------+--------------------+----------+----------+---------------+----------------+---------------+---------------+---------+---------------+-----------------+------------+--------------+----------------+---------+--------------------+--------------------+------------+---------------+----------+---------+--------------------+--------------------+----------+------------------+--------------------+----+--------------------+---------------+-----+----------+---------+------------------+-------+----------+----------+---------+--------------------+--------------------+-----+------------------+--------------------+----------------+--------------------+---------+--------------------+----------+----------+---------+---------------------+--------------------+---------+---------+-----------+-----------------+-----+----------+--------------------+---------+----------+---------+----------+---------+----------+---------+----------+--------+---------------+-----------------+--------------+-----------------+-----------------+\n",
      "|  1| RMLS|              11511|11511 Stillwater ...|Stillwater|     55042|             MN|LELM - Lake Elmo|         143000| 7/15/2017 0:00|   139900|Exclusive Right|           139900|    145.9184|           980|           Other|       C4|             279X200|    834 - Stillwater|          10| 7/30/2017 0:00|         0|  12 x  9|Living Room, Dini...|                NULL|      Main|                No|                NULL|  10|     Attached Garage|            980| 1858|      Main|  16 x 13|              1858|   2017|       980|      NULL|     1950|  Residential-Single|      (SF) One Story| 1.28|           Central|Range, Dishwasher...|            NULL|                NULL|     NULL|               Vinyl|      NULL|      Main|   9 x  7|       Eat In Kitchen|                Full|        1|        1|          0|                0|   SF|         2|Main Floor 3/4 Ba...|  13 x 11|      Main|  10 x 10|      Main|     NULL|      NULL|     NULL|      NULL|       3|              0|             NULL|             0|          Unknown|                0|\n",
      "|  2| RMLS|              11200|     11200 31st St N|      31st|     55042|             MN|LELM - Lake Elmo|         190000| 10/9/2017 0:00|   210000|Exclusive Right|           210000|     85.2783|          1144|            NULL|       C1|             100x140|    834 - Stillwater|           4|10/13/2017 0:00|         0|    11x11|Living Room, Dini...|Asphalt Shingles,...|      Main|                No|                NULL|   4|Attached Garage, ...|           1268| 1640|      Main|    22x14|              1640|   2017|      2228|      NULL|     1971|  Residential-Single|(SF) Split Entry ...| 0.32|           Central|Range, Microwave,...|            NULL|         Lower Level|    22x14|               Vinyl|     Lower|      Main|    11x12| Informal Dining R...|Full, Partial Fin...|        1|        0|          0|                2|   SF|         3|Main Floor Full B...|    15x11|      Main|    14x11|      Main|    10x11|      Main|    11x11|     Lower|       4|            960|             NULL|             0|          Unknown|                0|\n",
      "|  3| RMLS|               8583|8583 Stillwater B...|Stillwater|     55042|             MN|LELM - Lake Elmo|         225000| 6/26/2017 0:00|   225000|Exclusive Right|           225000|    204.1742|          1102|            None|       E1|             120x296|622 - North St Pa...|          28| 7/24/2017 0:00|         0|    14x12|Living Room, Dini...|                NULL|      Main|                No|                None|  28|     Attached Garage|           1102| 2390|      Main|    20x13|              2390|   2016|      1102|      NULL|     1949|  Residential-Single|      (SF) One Story|0.822|            Window|Range, Microwave,...|            NULL|                NULL|     NULL|        Cement Board|      NULL|      Main|    18x11| Informal Dining Room|Full, Crawl Space...|        1|        0|          0|                0|   SF|         1|Main Floor Full Bath|    12x12|      Main|    12x12|      Main|     NULL|      NULL|     NULL|      NULL|       2|              0|    Not Assumable|             0|               No|                0|\n",
      "|  4| RMLS|               9350|      9350 31st St N|      31st|     55042|             MN|LELM - Lake Elmo|         265000| 8/25/2017 0:00|   230000|Exclusive Right|           230000|    162.3775|           959|            None|       A1|             208X208|    834 - Stillwater|          19| 9/13/2017 0:00|         1|    12X16|Living Room, Dini...|Asphalt Shingles,...|      Main|                No|                None|  19|Attached Garage, ...|           1284| 2146|      NULL|     NULL|              2146|   2017|      1632|      NULL|     1960|  Residential-Single|      (SF) One Story| 0.94|           Central|Range, Washer, Dryer|            NULL|          Main Level|    25X13|              Stucco|      Main|      Main|    20X11|                 NULL|Full, Partial Fin...|        1|        1|          0|                0|   SF|         2|Main Floor Full B...|    13X11|      Main|    13X10|      Main|     NULL|      NULL|     NULL|      NULL|       2|            348|             NULL|             0|          Unknown|                0|\n",
      "|  5| RMLS|               2915|   2915 Inwood Ave N|    Inwood|     55042|             MN|LELM - Lake Elmo|         249900| 9/12/2017 0:00|   239900|Exclusive Right|           239900|    121.7836|          1026|      Chain Link|       E1|             116x200|622 - North St Pa...|          21| 10/3/2017 0:00|         1|    12x10|Living Room, Dini...|Asphalt Shingles,...|      Main|                No|                NULL|  21|Attached Garage, ...|           1026| 2010|      Main|    22x14|              2010|   2017|      2052|      NULL|     1978|  Residential-Single|(SF) Split Entry ...|    0|           Central|Range, Exhaust Fa...|            NULL|         Lower Level|    22x18|               Vinyl|     Lower|      Main|    12x10| Breakfast Area, K...|Walkout, Full, Fi...|        1|        0|          0|                1|   SF|         2|Main Floor Full B...|    13x11|      Main|    13x12|      Main|    14x13|     Lower|     NULL|      NULL|       3|           1026|             NULL|             0|               No|                0|\n",
      "|  6| RMLS|               3604|   3604 Layton Ave N|    Layton|     55042|             MN|LELM - Lake Elmo|         255000| 4/10/2017 0:00|   239900|Exclusive Right|           239900|     182.534|          1152|            NULL|       C1|              50x150|    834 - Stillwater|          17| 4/27/2017 0:00|         1|  11 x 11|Living Room, Dini...|Asphalt Shingles,...|      Main|                No|                NULL|  17|Attached Garage, ...|           1397| 1491|      Main|  19 x 13|              1494|   2016|      1397|      NULL|     1965|  Residential-Single|      (SF) One Story|0.172|           Central|Range, Microwave,...|            NULL|                NULL|     NULL|        Metal, Vinyl|      NULL|      Main|  10 x 13| Separate/Formal D...|Full, Sump Pump, ...|        2|        0|          0|                0|   SF|         2|Main Floor Full B...|25.5 x 11|      Main|  10 x 11|      Main| 9.5 x 10|      Main|     NULL|      NULL|       3|              0|    Not Assumable|             0|               No|                3|\n",
      "|  7| RMLS|               9957|9957 5th Street Ln N|5th Street|     55042|             MN|LELM - Lake Elmo|         248000|  6/8/2017 0:00|   250000|Exclusive Right|           265000|     137.931|           700|            NULL|       A4|              common|    834 - Stillwater|          32| 7/10/2017 0:00|         0|     14x9|Living Room, Dini...|Asphalt Shingles,...|      Main|                No|                NULL|  19|Attached Garage, ...|           1798| 2165|      Main|    13x15|              2168|   2017|      1798|      NULL|     2015|  Residential-Single|    (TH) Side x Side| 0.05|           Central|Range, Microwave,...|            NULL|                Loft|     NULL|Shakes, Metal, Vi...|      NULL|      Main|    11x13| Informal Dining R...|                Slab|        1|        1|          0|                1|   SF|         3|Main Floor 1/2 Ba...|  13x19.6|     Upper|  11x13.6|     Upper|  11x13.6|     Upper|     NULL|      NULL|       3|              0|             NULL|           200|              Yes|                3|\n",
      "|  8| RMLS|               9934|9934 5th Street Ln N|5th Street|     55042|             MN|LELM - Lake Elmo|         245000| 11/5/2017 0:00|   254990|Exclusive Right|           273417|    141.3733|          1088|         Partial|       A4|              common|    834 - Stillwater|           5|11/10/2017 0:00|         0|   12 x 8|Living Room, Dini...|    Asphalt Shingles|      Main|                No|                NULL|   1|     Attached Garage|           1733|    0|      Main|  12 x 13|                 0|   2017|      1733|      NULL|     2017|  Residential-Single| (TH) Quad/4 Corners| 0.05|           Central|Range, Microwave,...|            NULL|Main Level, Famil...|     NULL|               Vinyl|      NULL|      Main|  12 x 10| Informal Dining R...|                None|        2|        1|          0|                0|   SF|         3|Main Floor 1/2 Ba...|  12 x 11|     Upper|  11 x 13|     Upper|  11 x 13|     Upper|     NULL|      NULL|       3|              0|             NULL|           200|               No|                0|\n",
      "|  9| RMLS|               9926|9926 5th Street Ln N|5th Street|     55042|             MN|LELM - Lake Elmo|         254990|10/12/2017 0:00|   254990|Exclusive Right|           273152|    147.1379|          1088|         Partial|       E1|              common|    834 - Stillwater|          23|11/11/2017 0:00|         0|   12 x 8|Living Room, Dini...|    Asphalt Shingles|      Main|                No|                NULL|   5|     Attached Garage|           1733|    0|      Main|  12 x 13|                 0|   2017|      1733|      NULL|     2017|  Residential-Single| (TH) Quad/4 Corners| 0.05|           Central|Range, Microwave,...|            NULL|                NULL|     NULL|               Vinyl|      NULL|      Main|  12 x 10| Informal Dining R...|                None|        1|        1|          0|                1|   SF|         3|Main Floor 1/2 Ba...|  12 x 11|     Upper|  11 x 13|     Upper|  11 x 13|     Upper|     NULL|      NULL|       3|              0|             NULL|           200|               No|                0|\n",
      "| 10| RMLS|               9928|9928 5th Street Ln N|5th Street|     55042|             MN|LELM - Lake Elmo|         250000|  9/2/2017 0:00|   255990|Exclusive Right|           273482|    144.2585|          1088|Privacy, Partial|       A4|              common|    834 - Stillwater|          73|11/20/2017 0:00|         0|   12 x 8|Living Room, Dini...|    Asphalt Shingles|      Main|                No|                NULL|  11|     Attached Garage|           1733|    0|      Main|  12 x 13|                 0|   2017|      1733|      NULL|     2017|  Residential-Single| (TH) Quad/4 Corners| 0.05|           Central|Range, Microwave,...|            NULL|Main Level, Famil...|     NULL|               Vinyl|      NULL|      Main|  12 x 10| Informal Dining R...|                None|        1|        1|          0|                1|   SF|         3|Main Floor 1/2 Ba...|  12 x 11|     Upper|  11 x 13|     Upper|  11 x 13|     Upper|     NULL|      NULL|       3|              0|             NULL|           200|               No|                0|\n",
      "| 11| RMLS|               9902|9902 5th Street Ln N|5th Street|     55042|             MN|LELM - Lake Elmo|         254500| 5/19/2017 0:00|   259990|Exclusive Right|           267117|    146.8552|          1088|         Partial|       A4|              common|    834 - Stillwater|          80|  8/7/2017 0:00|         0|   12 x 8|Living Room, Dini...|    Asphalt Shingles|      Main|                No|                NULL|   7|     Attached Garage|           1733|    0|      Main|  12 x 13|                 0|   2017|      1733|      NULL|     2017|  Residential-Single| (TH) Quad/4 Corners| 0.05|           Central|Range, Microwave,...|            NULL|Main Level, Famil...|     NULL|               Vinyl|      NULL|      Main|  12 x 10| Informal Dining R...|                None|        1|        1|          0|                1|   SF|         3|Main Floor 1/2 Ba...|  12 x 11|     Upper|  11 x 13|     Upper|  11 x 13|     Upper|     NULL|      NULL|       3|              0|             NULL|           200|               No|                0|\n",
      "| 12| RMLS|               9904|9904 5th Street Ln N|5th Street|     55042|             MN|LELM - Lake Elmo|         253000| 5/11/2017 0:00|   259990|Exclusive Right|           268487|    145.9896|          1088|         Partial|       A4|              common|    834 - Stillwater|          79| 7/29/2017 0:00|         0|   12 x 8|Living Room, Dini...|    Asphalt Shingles|      Main|                No|                NULL|  58|     Attached Garage|           1733|    0|      Main|  12 x 13|                 0|   2017|      1733|      NULL|     2017|  Residential-Single| (TH) Quad/4 Corners| 0.05|           Central|Range, Microwave,...|            NULL|                NULL|     NULL|               Vinyl|      NULL|      Main|  12 x 10| Informal Dining R...|                None|        1|        1|          0|                1|   SF|         3|Main Floor 1/2 Ba...|  12 x 11|     Upper|  11 x 13|     Upper|  11 x 13|     Upper|     NULL|      NULL|       3|              0|             NULL|           200|               No|                0|\n",
      "| 13| RMLS|               9894|9894 5th Street Ln N|5th Street|     55042|             MN|LELM - Lake Elmo|         257500| 3/12/2017 0:00|   259990|Exclusive Right|           268622|    148.5863|          1088|         Partial|       A4|              common|    834 - Stillwater|          12| 3/24/2017 0:00|         0|   12 x 8|Living Room, Dini...|    Asphalt Shingles|      Main|                No|                NULL|   8|     Attached Garage|           1733|    0|      Main|  12 x 13|                 0|   2017|      1733|      NULL|     2017|  Residential-Single| (TH) Quad/4 Corners| 0.05|           Central|Range, Microwave,...|            NULL|Main Level, Famil...|     NULL|               Vinyl|      NULL|      Main|  12 x 10| Informal Dining R...|                None|        2|        1|          0|                0|   SF|         3|Main Floor 1/2 Ba...|  12 x 11|     Upper|  11 x 13|     Upper|  11 x 13|     Upper|     NULL|      NULL|       3|              0|             NULL|           190|               No|                0|\n",
      "| 14| RMLS|               9892|    9892 5th St Ln N|    5th St|     55042|             MN|LELM - Lake Elmo|         272990|  3/6/2017 0:00|   269990|Exclusive Right|           279442|     154.844|          1088|Privacy, Partial|       A4|              COMMON|    834 - Stillwater|           1| 6/11/2017 0:00|         0|     12X8|Living Room, Dini...|Asphalt Shingles,...|      Main|                No|                NULL|   1|Attached Garage, ...|           1763|    0|      Main|    12X13|                 0|   2016|      1763|      NULL|     2016|  Residential-Single| (TH) Quad/4 Corners| 0.05|           Central|Range, Microwave,...|            NULL|Main Level, Great...|     NULL|Shakes, Metal, Vi...|      NULL|      Main|     3X10| Informal Dining R...|                None|        2|        1|          0|                0|   SF|         3|Main Floor 1/2 Ba...|    12X11|     Upper|    11X13|     Upper|    11X13|     Upper|     NULL|      NULL|       3|              0|             NULL|           200|               No|                0|\n",
      "| 15| RMLS|               9295|9295 Lake Jane Trl N| Lake Jane|     55042|             MN|LELM - Lake Elmo|         290000| 5/18/2017 0:00|   270000|Exclusive Right|           270000|    157.2668|          1844|            NULL|       A4|261 x 293 x 287 x...|    834 - Stillwater|          18|  6/5/2017 0:00|         1|    13x12|Living Room, Dini...|    Asphalt Shingles|      Main|                No|                None|  18|Attached Garage, ...|           1844| 2689|      Main|    21x19|              2692|   2017|      1844|      NULL|     1977|  Residential-Single|      (SF) One Story|1.661|           Central|Cooktop, Wall Ove...|            NULL|                NULL|     NULL|  Metal, Brick/Stone|      NULL|      Main|    12x10| Informal Dining R...|Full, Concrete Bl...|        0|        0|          0|                3|   SF|         3|Main Floor 3/4 Ba...|    14x11|      Main|    12x11|      Main|     NULL|      NULL|     NULL|      NULL|       2|              0|             NULL|             0|              Yes|                3|\n",
      "| 16| RMLS|               9930|    9930 5th St Ln N|    5th St|     55042|             MN|LELM - Lake Elmo|         274000|10/15/2017 0:00|   274000|Exclusive Right|           274000|    155.4169|          1088|            NULL|       A4|               36X32|    834 - Stillwater|           2|10/17/2017 0:00|         0|     12X8|Living Room, Dini...|Asphalt Shingles,...|      Main|                No|                NULL|   2|Attached Garage, ...|           1763|    0|      Main|    12X13|                 0|   2017|      1763|      NULL|     2017|  Residential-Single| (TH) Quad/4 Corners| 0.05|           Central|Range, Microwave,...|            NULL|                Loft|     NULL|Shakes, Metal, Vi...|      NULL|      Main|     3X10| Informal Dining R...|                None|        1|        1|          0|                1|   SF|         3|Main Floor 1/2 Ba...|    12X11|     Upper|    11X13|     Upper|    11X13|     Upper|     NULL|      NULL|       3|              0|             NULL|           200|               No|                0|\n",
      "| 17| RMLS|               9898|    9898 5th St Ln N|    5th St|     55042|             MN|LELM - Lake Elmo|         274990| 9/10/2017 0:00|   274990|Exclusive Right|           289357|    155.9784|          1088|            NULL|       A4|               36X32|    834 - Stillwater|          12| 9/22/2017 0:00|         0|     12X8|Living Room, Dini...|Asphalt Shingles,...|      Main|                No|                NULL|   8|Attached Garage, ...|           1763|    0|      Main|    12X13|                 0|   2017|      1763|      NULL|     2017|  Residential-Single| (TH) Quad/4 Corners| 0.05|           Central|Range, Microwave,...|            NULL|                Loft|     NULL|Shakes, Metal, Vi...|      NULL|      Main|     3X10| Informal Dining R...|                None|        1|        1|          0|                1|   SF|         3|Main Floor 1/2 Ba...|    12X11|     Upper|    11X13|     Upper|    11X13|     Upper|     NULL|      NULL|       3|              0|             NULL|           200|               No|                0|\n",
      "| 18| RMLS|               9924|    9924 5th St Ln N|    5th St|     55042|             MN|LELM - Lake Elmo|         274000|  9/1/2017 0:00|   284990|Exclusive Right|           288342|    155.4169|          1088|Privacy, Partial|       A4|              COMMON|    834 - Stillwater|          45|10/16/2017 0:00|         0|     12X8|Living Room, Dini...|Asphalt Shingles,...|      Main|                No|                NULL|  24|Attached Garage, ...|           1763|    0|      Main|    12X13|                 0|   2017|      1763|      NULL|     2017|  Residential-Single| (TH) Quad/4 Corners| 0.05|           Central|Range, Microwave,...|            NULL|Main Level, Great...|     NULL|Shakes, Metal, Vi...|      NULL|      Main|     3X10| Informal Dining R...|                None|        2|        1|          0|                0|   SF|         3|Main Floor 1/2 Ba...|    12X11|     Upper|    11X13|     Upper|    11X13|     Upper|     NULL|      NULL|       3|              0|             NULL|           200|               No|                0|\n",
      "| 19| RMLS|               9906|    9906 5th St Ln N|    5th St|     55042|             MN|LELM - Lake Elmo|         282000|  5/6/2017 0:00|   287452|Exclusive Right|           287452|    159.9546|          1088|            NULL|       A4|              COMMON|    834 - Stillwater|          31|  6/6/2017 0:00|         0|     12X8|Living Room, Dini...|Asphalt Shingles,...|      Main|                No|                NULL|  31|Attached Garage, ...|           1763|    0|      Main|    12X13|                 0|   2017|      1763|      NULL|     2017|  Residential-Single| (TH) Quad/4 Corners| 0.05|           Central|Range, Microwave,...|            NULL|                Loft|     NULL|Shakes, Metal, Vi...|      NULL|      Main|     3X10| Informal Dining R...|                None|        1|        1|          0|                1|   SF|         3|Main Floor 1/2 Ba...|    12X11|     Upper|    11X13|     Upper|    11X13|     Upper|     NULL|      NULL|       3|              0|             NULL|           200|               No|                0|\n",
      "| 20| RMLS|               9938|    9938 5th St Ln N|    5th St|     55042|             MN|LELM - Lake Elmo|         280617| 8/11/2017 0:00|   288492|Exclusive Right|           288492|    159.1702|          1088|            NULL|       A4|              COMMON|    834 - Stillwater|          16| 8/27/2017 0:00|         0|     12X8|Living Room, Dini...|Asphalt Shingles,...|      Main|                No|                NULL|  16|Attached Garage, ...|           1763|    0|      Main|    12X13|                 0|   2017|      1763|      NULL|     2017|  Residential-Single| (TH) Quad/4 Corners| 0.05|           Central|Range, Microwave,...|            NULL|                Loft|     NULL|Shakes, Metal, Vi...|      NULL|      Main|     3X10| Informal Dining R...|                None|        1|        1|          0|                1|   SF|         3|Main Floor 1/2 Ba...|    12X11|     Upper|    11X13|     Upper|    11X13|     Upper|     NULL|      NULL|       3|              0|             NULL|           200|               No|                0|\n",
      "| 21| RMLS|               9795|9795 N 5th Street Ln|5th Street|     55042|             MN|LELM - Lake Elmo|         289871|  3/3/2017 0:00|   292371|Exclusive Right|           292371|    163.0321|           698|         Privacy|       A4|               32X60|    834 - Stillwater|           3|  3/6/2017 0:00|         1| 9.5X14.5|Living Room, Dini...|Asphalt Shingles,...|      Main|                No|                None|   3|Attached Garage, ...|           1778|    0|      NULL|     NULL|                 0|   2016|      1778|      NULL|     2016|Residential-Multi...|    (TH) Side x Side| 0.04|           Central|Range, Microwave,...|            NULL|Main Level, Great...|13.5X14.5|Brick/Stone, Fibe...|      Main|      Main| 7.5X14.5| Informal Dining R...|                None|        2|        1|          0|                0|   SF|         3|Main Floor 1/2 Ba...|  12X14.5|     Upper|11.5X11.5|     Upper|  12.5X11|     Upper|     NULL|      NULL|       3|              0|             NULL|           190|               No|                0|\n",
      "| 22| RMLS|               9797|9797 N 5th Street Ln|5th Street|     55042|             MN|LELM - Lake Elmo|         282500|  3/6/2017 0:00|   292925|Exclusive Right|           291925|    158.8864|           698|Privacy, Partial|       A4|               32X60|    834 - Stillwater|          50| 4/25/2017 0:00|         1| 9.5X14.5|Living Room, Dini...|Asphalt Shingles,...|      Main|                No|                None|  18|Attached Garage, ...|           1778|    0|      NULL|     NULL|                 0|   2016|      1778|      NULL|     2016|Residential-Multi...|    (TH) Side x Side| 0.04|           Central|Range, Microwave,...|            NULL|    Main Level, Loft|13.5X14.5|Brick/Stone, Fibe...|      Main|      Main| 7.5X14.5| Informal Dining R...|                None|        2|        1|          0|                0|   SF|         3|Main Floor 1/2 Ba...|  12X14.5|     Upper|11.5X11.5|     Upper|  12.5X11|     Upper|     NULL|      NULL|       3|              0|             NULL|           190|               No|                0|\n",
      "| 23| RMLS|               8909|      8909 37th St N|      37th|     55042|             MN|LELM - Lake Elmo|         289900| 6/26/2017 0:00|   299900|Exclusive Right|           299900|    119.5957|          1300|            NULL|       E1|             125x150|    834 - Stillwater|          40| 9/30/2017 0:00|         2|    10x12|Living Room, Dini...|    Asphalt Shingles|     Upper|                No|                NULL|  40|Attached Garage, ...|           1324| 1974|     Upper|    17x14|              1974|   2017|      2424|      NULL|     1967|  Residential-Single|(SF) Split Entry ...| 0.43|           Central|Range, Microwave,...|            NULL|Lower Level, Fami...|    17x13|               Metal|     Lower|     Upper|    13x10| Informal Dining Room|Walkout, Finished...|        1|        0|          0|                2|   SF|         3|Upper Level Full ...|    15x11|     Upper|    12x10|     Upper|     11x9|     Upper|    13x12|     Lower|       4|           1100|    Not Assumable|             0|               No|             1974|\n",
      "| 24| RMLS|               3597|   3597 Kelvin Ave N|    Kelvin|     55042|             MN|LELM - Lake Elmo|         314500| 5/13/2017 0:00|   299900|Exclusive Right|           299900|     156.002|          1200|            Wood|       B1|             100x250|    834 - Stillwater|           6| 6/12/2017 0:00|         2|     17x8|Living Room, Dini...|Asphalt Shingles,...|      Main|                No|                NULL|   6|Attached Garage, ...|           1380| 1878|      Main|    19x14|              1878|   2016|      2016|      NULL|     1960|  Residential-Single|      (SF) One Story|0.574|           Central|Cooktop, Wall Ove...|            NULL|         Lower Level|    42x12| Stucco, Brick/Stone|     Lower|      Main|    13x12| Separate/Formal D...|Walkout, Full, Fi...|        1|        1|          0|                0|   SF|         2|Main Floor Full B...|    15x10|      Main|    12x11|      Main|    12x11|     Lower|     NULL|      NULL|       3|            636|             NULL|             0|              Yes|                0|\n",
      "| 25| RMLS|               8656|      8656 27th St N|      27th|     55042|             MN|LELM - Lake Elmo|         280000| 5/12/2017 0:00|   299900|Exclusive Right|           320000|    114.2857|          1148|            NULL|       E2|     151x158x130x151|622 - North St Pa...|          32| 6/26/2017 0:00|         1|    13x10|Living Room, Dini...|    Asphalt Shingles|      Main|                No|                NULL|  13|Attached Garage, ...|           1850| 2333|      Main|    17x13|              2336|   2016|      2450|      NULL|     1964|  Residential-Single|    (SF) Two Stories|0.498|              None|Range, Microwave,...|            NULL|          Main Level|    25x17|               Vinyl|      Main|      Main|    10x12| Separate/Formal D...|                Full|        1|        1|          0|                0|   SF|         2|Main Floor Full B...|    15x10|     Upper|    13x10|     Upper|     10x8|     Upper|     NULL|      NULL|       3|            600|    Not Assumable|             0|          Unknown|                3|\n",
      "| 26| RMLS|               9775|9775 N 5th Street Ln|5th Street|     55042|             MN|LELM - Lake Elmo|         299990|  7/6/2017 0:00|   299990|Exclusive Right|           322618|    166.0155|          1159|Privacy, Partial|       A4|               36X32|    834 - Stillwater|          19| 7/25/2017 0:00|         1| 8.3X11.5|Living Room, Dini...|Asphalt Shingles,...|      Main|                No|                None|   1|Attached Garage, ...|           1807|    0|      NULL|     NULL|                 0|   2017|      1807|      NULL|     2017|Residential-Multi...|    (TH) Side x Side| 0.04|           Central|Range, Microwave,...|            NULL|Main Level, Great...|13.5X14.3|Brick/Stone, Fibe...|      Main|      Main| 7.9X14.6| Informal Dining R...|                None|        1|        1|          0|                1|   SF|         3|Main Floor 1/2 Ba...|12.4X14.7|     Upper|12.1X11.1|     Upper|  12.1X11|     Upper|     NULL|      NULL|       3|              0|             NULL|           225|               No|                0|\n",
      "| 27| RMLS|               8687|8687 Lake Jane Trl N| Lake Jane|     55042|             MN|LELM - Lake Elmo|         310000|  5/4/2017 0:00|   300000|Exclusive Right|           350000|    123.0647|          1506|            NULL|       E4|                   -|    834 - Stillwater|           8| 5/12/2017 0:00|         2|    10x12|Living Room, Dini...|                NULL|      Main|                No|Below Ground, Out...|   1|     Attached Garage|           1649| 2746|      Main|    15x19|              2746|   2017|      2519|      NULL|     1973|  Residential-Single|      (SF) One Story| 1.03|           Central|Range, Microwave,...|            NULL|Main Level, Lower...|    18x22|        Cement Board|     Lower|      Main|    13x14| Separate/Formal D...|Full, Finished (L...|        1|        0|          0|                1|   SF|         2|Main Floor Full B...|    13x12|      Main|    10x11|      Main|    10x10|      Main|     9x10|     Lower|       4|            870|             NULL|             0|          Unknown|                0|\n",
      "| 28| RMLS|               8367|      8367 39th St N|      39th|     55042|             MN|LELM - Lake Elmo|         319000| 4/17/2017 0:00|   309000|Exclusive Right|           309000|    155.4581|          1100|            NULL|       E4|             285x305|    834 - Stillwater|          14|  5/1/2017 0:00|         0|    14x12|Living Room, Dini...| Age 8 Years or Less|      Main|                No|                NULL|  14|Attached Garage, ...|           1152| 2693|      Main|    19x12|              2696|   2016|      2052|      NULL|     1971|  Residential-Single|      (SF) One Story|1.995|           Central|Range, Dishwasher...|            NULL|         Lower Level|    24x22|         Fiber Board|     Lower|      Main|    12x11| Informal Dining R...|             Walkout|        1|        0|          0|                1|   SF|         2|Main Floor Full Bath|    13x12|      Main|    12x11|      Main|     11x9|      Main|    15x13|     Lower|       4|            900|    Not Assumable|             0|               No|                3|\n",
      "| 29| RMLS|               2866|   2866 Legion Ave N|    Legion|     55042|             MN|LELM - Lake Elmo|         304000| 4/26/2017 0:00|   309900|Exclusive Right|           309900|    156.5396|          1020|            NULL|       C1|           Irregular|    834 - Stillwater|           2|  5/6/2017 0:00|         0|    10x10|Living Room, Dini...|Asphalt Shingles,...|     Upper|                No|                NULL|   2|Attached Garage, ...|           1064| 2482|     Upper|    12x14|              2482|   2016|      1942|      NULL|     1969|  Residential-Single|(SF) Split Entry ...| 0.72|           Central|Range, Microwave,...|            NULL|Main Level, Lower...|    14x18|                Wood|     Lower|     Upper|     9x10| Informal Dining R...|Walkout, Full, Fi...|        1|        0|          0|                1|   SF|         2|Upper Level Full ...|     9x12|     Upper|     9x12|     Upper|    10x11|     Lower|    10x10|     Lower|       4|            878|             NULL|             0|               No|                0|\n",
      "| 30| RMLS|               9793|9793 N 5th Street Ln|5th Street|     55042|             MN|LELM - Lake Elmo|         307500|  3/3/2017 0:00|   314584|Exclusive Right|           314584|    160.9105|           759|         Privacy|       A4|               42x60|    834 - Stillwater|          29|  4/1/2017 0:00|         1|  15x13.5|Living Room, Dini...|Asphalt Shingles,...|      Main|                No|                None|  29|Attached Garage, ...|           1911|    0|      NULL|     NULL|                 0|   2016|      1911|      NULL|     2016|Residential-Multi...|    (TH) Side x Side| 0.06|           Central|Range, Microwave,...|            NULL|Main Level, Great...|15.5x13.5|Brick/Stone, Fibe...|      Main|      Main| 12.5x7.5| Informal Dining R...|                None|        2|        1|          0|                0|   SF|         3|Main Floor 1/2 Ba...|  18x12.5|     Upper|    12x10|     Upper|  13.5x10|     Upper|     NULL|      NULL|       3|              0|             NULL|           190|          Unknown|                0|\n",
      "+---+-----+-------------------+--------------------+----------+----------+---------------+----------------+---------------+---------------+---------+---------------+-----------------+------------+--------------+----------------+---------+--------------------+--------------------+------------+---------------+----------+---------+--------------------+--------------------+----------+------------------+--------------------+----+--------------------+---------------+-----+----------+---------+------------------+-------+----------+----------+---------+--------------------+--------------------+-----+------------------+--------------------+----------------+--------------------+---------+--------------------+----------+----------+---------+---------------------+--------------------+---------+---------+-----------+-----------------+-----+----------+--------------------+---------+----------+---------+----------+---------+----------+---------+----------+--------+---------------+-----------------+--------------+-----------------+-----------------+\n",
      "only showing top 30 rows\n",
      "\n"
     ]
    }
   ],
   "source": [
    "df = spark.read.csv(\"dataset/2017_StPaul_MN_Real_Estate.csv\", header=True)\n",
    "# Show top 30 records\n",
    "df.show(30)\n",
    "\n",
    "# List of columns to remove from dataset\n",
    "cols_to_drop = ['STREETNUMBERNUMERIC', 'LOTSIZEDIMENSIONS']\n",
    "\n",
    "# Drop columns in list\n",
    "df = df.drop(*cols_to_drop)"
   ]
  },
  {
   "cell_type": "markdown",
   "metadata": {},
   "source": [
    "# Using text filters to remove records"
   ]
  },
  {
   "cell_type": "markdown",
   "metadata": {},
   "source": [
    "It pays to have to ask your clients lots of questions and take time to understand your variables. You find out that Assumable mortgage is an unusual occurrence in the real estate industry and your client suggests you exclude them. In this exercise we will use isin() which is similar to like() but allows us to pass a list of values to use as a filter rather than a single one."
   ]
  },
  {
   "cell_type": "code",
   "execution_count": 3,
   "metadata": {},
   "outputs": [
    {
     "name": "stdout",
     "output_type": "stream",
     "text": [
      "+-------------------+\n",
      "|  ASSUMABLEMORTGAGE|\n",
      "+-------------------+\n",
      "|  Yes w/ Qualifying|\n",
      "| Information Coming|\n",
      "|Yes w/No Qualifying|\n",
      "|      Not Assumable|\n",
      "|               NULL|\n",
      "+-------------------+\n",
      "\n",
      "4976\n"
     ]
    }
   ],
   "source": [
    "# Inspect unique values in the column 'ASSUMABLEMORTGAGE'\n",
    "df.select(['ASSUMABLEMORTGAGE']).distinct().show()\n",
    "\n",
    "# List of possible values containing 'yes'\n",
    "yes_values = ['Yes w/ Qualifying', 'Yes w/No Qualifying']\n",
    "\n",
    "# Filter the text values out of df but keep null values\n",
    "text_filter = ~df['ASSUMABLEMORTGAGE'].isin(yes_values) | df['ASSUMABLEMORTGAGE'].isNull()\n",
    "df = df.filter(text_filter)\n",
    "\n",
    "# Print count of remaining records\n",
    "print(df.count())"
   ]
  },
  {
   "cell_type": "markdown",
   "metadata": {},
   "source": [
    "# Filtering numeric fields conditionally"
   ]
  },
  {
   "cell_type": "markdown",
   "metadata": {},
   "source": [
    "Again, understanding the context of your data is extremely important. We want to understand what a normal range of houses sell for. Let's make sure we exclude any outlier homes that have sold for significantly more or less than the average. Here we will calculate the mean and standard deviation and use them to filer the near normal field log_SalesClosePrice"
   ]
  },
  {
   "cell_type": "code",
   "execution_count": 4,
   "metadata": {},
   "outputs": [
    {
     "name": "stdout",
     "output_type": "stream",
     "text": [
      "+---+-----+--------------------+----------+----------+---------------+----------------+---------------+--------------+---------+---------------+-----------------+------------+--------------+-----+---------+--------------------+------------+---------------+----------+---------+--------------------+--------------------+----------+------------------+---------------+----+--------------------+---------------+-----+----------+---------+------------------+-------+----------+----------+---------+------------------+--------------------+-----+------------------+--------------------+----------------+--------------+---------+------------+----------+----------+---------+---------------------+--------------------+---------+---------+-----------+-----------------+-----+----------+--------------------+---------+----------+---------+----------+---------+----------+---------+----------+--------+---------------+-----------------+--------------+-----------------+-----------------+-------------------+\n",
      "|No.|MLSID|       streetaddress|STREETNAME|PostalCode|StateOrProvince|            City|SalesClosePrice|      LISTDATE|LISTPRICE|       LISTTYPE|OriginalListPrice|PricePerTSFT|FOUNDATIONSIZE|FENCE|MapLetter|SchoolDistrictNumber|DAYSONMARKET|  offmarketdate|Fireplaces|RoomArea4|            roomtype|                ROOF|RoomFloor4|PotentialShortSale|PoolDescription|PDOM|   GarageDescription|SQFTABOVEGROUND|Taxes|RoomFloor1|RoomArea1|TAXWITHASSESSMENTS|TAXYEAR|LivingArea|UNITNUMBER|YEARBUILT|            ZONING|               STYLE|ACRES|CoolingDescription|          APPLIANCES|backonmarketdate|ROOMFAMILYCHAR|RoomArea3|    EXTERIOR|RoomFloor3|RoomFloor2|RoomArea2|DiningRoomDescription|            BASEMENT|BathsFull|BathsHalf|BATHQUARTER|BATHSTHREEQUARTER|Class|BATHSTOTAL|            BATHDESC|RoomArea5|RoomFloor5|RoomArea6|RoomFloor6|RoomArea7|RoomFloor7|RoomArea8|RoomFloor8|Bedrooms|SQFTBELOWGROUND|AssumableMortgage|AssociationFee|ASSESSMENTPENDING|AssessedValuation|log_SalesClosePrice|\n",
      "+---+-----+--------------------+----------+----------+---------------+----------------+---------------+--------------+---------+---------------+-----------------+------------+--------------+-----+---------+--------------------+------------+---------------+----------+---------+--------------------+--------------------+----------+------------------+---------------+----+--------------------+---------------+-----+----------+---------+------------------+-------+----------+----------+---------+------------------+--------------------+-----+------------------+--------------------+----------------+--------------+---------+------------+----------+----------+---------+---------------------+--------------------+---------+---------+-----------+-----------------+-----+----------+--------------------+---------+----------+---------+----------+---------+----------+---------+----------+--------+---------------+-----------------+--------------+-----------------+-----------------+-------------------+\n",
      "|  1| RMLS|11511 Stillwater ...|Stillwater|     55042|             MN|LELM - Lake Elmo|         143000|7/15/2017 0:00|   139900|Exclusive Right|           139900|    145.9184|           980|Other|       C4|    834 - Stillwater|          10| 7/30/2017 0:00|         0|  12 x  9|Living Room, Dini...|                NULL|      Main|                No|           NULL|  10|     Attached Garage|            980| 1858|      Main|  16 x 13|              1858|   2017|       980|      NULL|     1950|Residential-Single|      (SF) One Story| 1.28|           Central|Range, Dishwasher...|            NULL|          NULL|     NULL|       Vinyl|      NULL|      Main|   9 x  7|       Eat In Kitchen|                Full|        1|        1|          0|                0|   SF|         2|Main Floor 3/4 Ba...|  13 x 11|      Main|  10 x 10|      Main|     NULL|      NULL|     NULL|      NULL|       3|              0|             NULL|             0|          Unknown|                0|  5.155336037465061|\n",
      "|  2| RMLS|     11200 31st St N|      31st|     55042|             MN|LELM - Lake Elmo|         190000|10/9/2017 0:00|   210000|Exclusive Right|           210000|     85.2783|          1144| NULL|       C1|    834 - Stillwater|           4|10/13/2017 0:00|         0|    11x11|Living Room, Dini...|Asphalt Shingles,...|      Main|                No|           NULL|   4|Attached Garage, ...|           1268| 1640|      Main|    22x14|              1640|   2017|      2228|      NULL|     1971|Residential-Single|(SF) Split Entry ...| 0.32|           Central|Range, Microwave,...|            NULL|   Lower Level|    22x14|       Vinyl|     Lower|      Main|    11x12| Informal Dining R...|Full, Partial Fin...|        1|        0|          0|                2|   SF|         3|Main Floor Full B...|    15x11|      Main|    14x11|      Main|    10x11|      Main|    11x11|     Lower|       4|            960|             NULL|             0|          Unknown|                0|  5.278753600952829|\n",
      "|  3| RMLS|8583 Stillwater B...|Stillwater|     55042|             MN|LELM - Lake Elmo|         225000|6/26/2017 0:00|   225000|Exclusive Right|           225000|    204.1742|          1102| None|       E1|622 - North St Pa...|          28| 7/24/2017 0:00|         0|    14x12|Living Room, Dini...|                NULL|      Main|                No|           None|  28|     Attached Garage|           1102| 2390|      Main|    20x13|              2390|   2016|      1102|      NULL|     1949|Residential-Single|      (SF) One Story|0.822|            Window|Range, Microwave,...|            NULL|          NULL|     NULL|Cement Board|      NULL|      Main|    18x11| Informal Dining Room|Full, Crawl Space...|        1|        0|          0|                0|   SF|         1|Main Floor Full Bath|    12x12|      Main|    12x12|      Main|     NULL|      NULL|     NULL|      NULL|       2|              0|    Not Assumable|             0|               No|                0|  5.352182518111363|\n",
      "+---+-----+--------------------+----------+----------+---------------+----------------+---------------+--------------+---------+---------------+-----------------+------------+--------------+-----+---------+--------------------+------------+---------------+----------+---------+--------------------+--------------------+----------+------------------+---------------+----+--------------------+---------------+-----+----------+---------+------------------+-------+----------+----------+---------+------------------+--------------------+-----+------------------+--------------------+----------------+--------------+---------+------------+----------+----------+---------+---------------------+--------------------+---------+---------+-----------+-----------------+-----+----------+--------------------+---------+----------+---------+----------+---------+----------+---------+----------+--------+---------------+-----------------+--------------+-----------------+-----------------+-------------------+\n",
      "only showing top 3 rows\n",
      "\n"
     ]
    }
   ],
   "source": [
    "from pyspark.sql.functions import log10\n",
    "df = df.withColumn(\"log_SalesClosePrice\", log10(df.SalesClosePrice) )\n",
    "df.show(3)"
   ]
  },
  {
   "cell_type": "code",
   "execution_count": 5,
   "metadata": {},
   "outputs": [
    {
     "name": "stdout",
     "output_type": "stream",
     "text": [
      "+---+-----+--------------------+----------+----------+---------------+----------------+---------------+--------------+---------+---------------+-----------------+------------+--------------+-----+---------+--------------------+------------+---------------+----------+---------+--------------------+--------------------+----------+------------------+---------------+----+--------------------+---------------+-----+----------+---------+------------------+-------+----------+----------+---------+------------------+--------------------+-----+------------------+--------------------+----------------+--------------+---------+------------+----------+----------+---------+---------------------+--------------------+---------+---------+-----------+-----------------+-----+----------+--------------------+---------+----------+---------+----------+---------+----------+---------+----------+--------+---------------+-----------------+--------------+-----------------+-----------------+-------------------+\n",
      "|No.|MLSID|       streetaddress|STREETNAME|PostalCode|StateOrProvince|            City|SalesClosePrice|      LISTDATE|LISTPRICE|       LISTTYPE|OriginalListPrice|PricePerTSFT|FOUNDATIONSIZE|FENCE|MapLetter|SchoolDistrictNumber|DAYSONMARKET|  offmarketdate|Fireplaces|RoomArea4|            roomtype|                ROOF|RoomFloor4|PotentialShortSale|PoolDescription|PDOM|   GarageDescription|SQFTABOVEGROUND|Taxes|RoomFloor1|RoomArea1|TAXWITHASSESSMENTS|TAXYEAR|LivingArea|UNITNUMBER|YEARBUILT|            ZONING|               STYLE|ACRES|CoolingDescription|          APPLIANCES|backonmarketdate|ROOMFAMILYCHAR|RoomArea3|    EXTERIOR|RoomFloor3|RoomFloor2|RoomArea2|DiningRoomDescription|            BASEMENT|BathsFull|BathsHalf|BATHQUARTER|BATHSTHREEQUARTER|Class|BATHSTOTAL|            BATHDESC|RoomArea5|RoomFloor5|RoomArea6|RoomFloor6|RoomArea7|RoomFloor7|RoomArea8|RoomFloor8|Bedrooms|SQFTBELOWGROUND|AssumableMortgage|AssociationFee|ASSESSMENTPENDING|AssessedValuation|log_SalesClosePrice|\n",
      "+---+-----+--------------------+----------+----------+---------------+----------------+---------------+--------------+---------+---------------+-----------------+------------+--------------+-----+---------+--------------------+------------+---------------+----------+---------+--------------------+--------------------+----------+------------------+---------------+----+--------------------+---------------+-----+----------+---------+------------------+-------+----------+----------+---------+------------------+--------------------+-----+------------------+--------------------+----------------+--------------+---------+------------+----------+----------+---------+---------------------+--------------------+---------+---------+-----------+-----------------+-----+----------+--------------------+---------+----------+---------+----------+---------+----------+---------+----------+--------+---------------+-----------------+--------------+-----------------+-----------------+-------------------+\n",
      "|  1| RMLS|11511 Stillwater ...|Stillwater|     55042|             MN|LELM - Lake Elmo|         143000|7/15/2017 0:00|   139900|Exclusive Right|           139900|    145.9184|           980|Other|       C4|    834 - Stillwater|          10| 7/30/2017 0:00|         0|  12 x  9|Living Room, Dini...|                NULL|      Main|                No|           NULL|  10|     Attached Garage|            980| 1858|      Main|  16 x 13|              1858|   2017|       980|      NULL|     1950|Residential-Single|      (SF) One Story| 1.28|           Central|Range, Dishwasher...|            NULL|          NULL|     NULL|       Vinyl|      NULL|      Main|   9 x  7|       Eat In Kitchen|                Full|        1|        1|          0|                0|   SF|         2|Main Floor 3/4 Ba...|  13 x 11|      Main|  10 x 10|      Main|     NULL|      NULL|     NULL|      NULL|       3|              0|             NULL|             0|          Unknown|                0|  5.155336037465061|\n",
      "|  2| RMLS|     11200 31st St N|      31st|     55042|             MN|LELM - Lake Elmo|         190000|10/9/2017 0:00|   210000|Exclusive Right|           210000|     85.2783|          1144| NULL|       C1|    834 - Stillwater|           4|10/13/2017 0:00|         0|    11x11|Living Room, Dini...|Asphalt Shingles,...|      Main|                No|           NULL|   4|Attached Garage, ...|           1268| 1640|      Main|    22x14|              1640|   2017|      2228|      NULL|     1971|Residential-Single|(SF) Split Entry ...| 0.32|           Central|Range, Microwave,...|            NULL|   Lower Level|    22x14|       Vinyl|     Lower|      Main|    11x12| Informal Dining R...|Full, Partial Fin...|        1|        0|          0|                2|   SF|         3|Main Floor Full B...|    15x11|      Main|    14x11|      Main|    10x11|      Main|    11x11|     Lower|       4|            960|             NULL|             0|          Unknown|                0|  5.278753600952829|\n",
      "|  3| RMLS|8583 Stillwater B...|Stillwater|     55042|             MN|LELM - Lake Elmo|         225000|6/26/2017 0:00|   225000|Exclusive Right|           225000|    204.1742|          1102| None|       E1|622 - North St Pa...|          28| 7/24/2017 0:00|         0|    14x12|Living Room, Dini...|                NULL|      Main|                No|           None|  28|     Attached Garage|           1102| 2390|      Main|    20x13|              2390|   2016|      1102|      NULL|     1949|Residential-Single|      (SF) One Story|0.822|            Window|Range, Microwave,...|            NULL|          NULL|     NULL|Cement Board|      NULL|      Main|    18x11| Informal Dining Room|Full, Crawl Space...|        1|        0|          0|                0|   SF|         1|Main Floor Full Bath|    12x12|      Main|    12x12|      Main|     NULL|      NULL|     NULL|      NULL|       2|              0|    Not Assumable|             0|               No|                0|  5.352182518111363|\n",
      "+---+-----+--------------------+----------+----------+---------------+----------------+---------------+--------------+---------+---------------+-----------------+------------+--------------+-----+---------+--------------------+------------+---------------+----------+---------+--------------------+--------------------+----------+------------------+---------------+----+--------------------+---------------+-----+----------+---------+------------------+-------+----------+----------+---------+------------------+--------------------+-----+------------------+--------------------+----------------+--------------+---------+------------+----------+----------+---------+---------------------+--------------------+---------+---------+-----------+-----------------+-----+----------+--------------------+---------+----------+---------+----------+---------+----------+---------+----------+--------+---------------+-----------------+--------------+-----------------+-----------------+-------------------+\n",
      "only showing top 3 rows\n",
      "\n"
     ]
    }
   ],
   "source": [
    "from pyspark.sql.functions import mean, stddev, round\n",
    "\n",
    "# Calculate values used for outlier filtering\n",
    "mean_val = df.agg({'log_SalesClosePrice': 'mean'}).collect()[0][0]\n",
    "stddev_val = df.agg({'log_SalesClosePrice': 'stddev'}).collect()[0][0]\n",
    "\n",
    "# Create three standard deviation (μ ± 3σ) lower and upper bounds for data\n",
    "low_bound = mean_val - (3 * stddev_val)\n",
    "hi_bound = mean_val + (3 * stddev_val)\n",
    "\n",
    "# Filter the data to fit between the lower and upper bounds\n",
    "df = df.filter((df['log_SalesClosePrice'] < hi_bound) & (df['log_SalesClosePrice'] > low_bound))\n",
    "df.show(3)"
   ]
  },
  {
   "cell_type": "markdown",
   "metadata": {},
   "source": [
    "# Custom Percentage Scaling"
   ]
  },
  {
   "cell_type": "markdown",
   "metadata": {},
   "source": [
    "In the slides we showed how to scale the data between 0 and 1. Sometimes you may wish to scale things differently for modeling or display purposes."
   ]
  },
  {
   "cell_type": "code",
   "execution_count": 6,
   "metadata": {},
   "outputs": [],
   "source": [
    "df = df.withColumn('DAYSONMARKET', df.DAYSONMARKET.cast(\"int\"))\n",
    "df = df.withColumn('FOUNDATIONSIZE', df.DAYSONMARKET.cast(\"int\"))\n",
    "df = df.withColumn('FIREPLACES', df.DAYSONMARKET.cast(\"int\"))\n"
   ]
  },
  {
   "cell_type": "code",
   "execution_count": 7,
   "metadata": {},
   "outputs": [
    {
     "name": "stdout",
     "output_type": "stream",
     "text": [
      "[Row(max(percentagescaleddays)=10.0)]\n",
      "[Row(min(percentagescaleddays)=0.0)]\n"
     ]
    }
   ],
   "source": [
    "\n",
    "# Define max and min values and collect them\n",
    "max_days = df.agg({'DAYSONMARKET': 'max'}).collect()[0][0]\n",
    "min_days = df.agg({'DAYSONMARKET': 'min'}).collect()[0][0]\n",
    "\n",
    "# Create a new column based off the scaled data\n",
    "df = df.withColumn('percentagescaleddays', \n",
    "                  round((df['DAYSONMARKET'] - min_days) / (max_days - min_days)) * 10)\n",
    "\n",
    "# Calc max and min for new column\n",
    "print(df.agg({'percentagescaleddays': 'max'}).collect())\n",
    "print(df.agg({'percentagescaleddays': 'min'}).collect())"
   ]
  },
  {
   "cell_type": "markdown",
   "metadata": {},
   "source": [
    "# Scaling your scalers"
   ]
  },
  {
   "cell_type": "markdown",
   "metadata": {},
   "source": [
    "In the previous exercise, we minmax scaled a single variable. Suppose you have a LOT of variables to scale, you don't want hundreds of lines to code for each. Let's expand on the previous exercise and make it a function."
   ]
  },
  {
   "cell_type": "code",
   "execution_count": 8,
   "metadata": {},
   "outputs": [],
   "source": [
    "cols_to_scale = ['FOUNDATIONSIZE', 'DAYSONMARKET', 'FIREPLACES']"
   ]
  },
  {
   "cell_type": "code",
   "execution_count": 9,
   "metadata": {},
   "outputs": [
    {
     "name": "stdout",
     "output_type": "stream",
     "text": [
      "+------------+--------------------+\n",
      "|DAYSONMARKET| scaled_DAYSONMARKET|\n",
      "+------------+--------------------+\n",
      "|          10|0.044444444444444446|\n",
      "|           4|0.017777777777777778|\n",
      "|          28| 0.12444444444444444|\n",
      "|          19| 0.08444444444444445|\n",
      "|          21| 0.09333333333333334|\n",
      "|          17| 0.07555555555555556|\n",
      "|          32| 0.14222222222222222|\n",
      "|           5|0.022222222222222223|\n",
      "|          23| 0.10222222222222223|\n",
      "|          73|  0.3244444444444444|\n",
      "|          80| 0.35555555555555557|\n",
      "|          79|  0.3511111111111111|\n",
      "|          12| 0.05333333333333334|\n",
      "|           1|0.004444444444444...|\n",
      "|          18|                0.08|\n",
      "|           2|0.008888888888888889|\n",
      "|          12| 0.05333333333333334|\n",
      "|          45|                 0.2|\n",
      "|          31| 0.13777777777777778|\n",
      "|          16| 0.07111111111111111|\n",
      "+------------+--------------------+\n",
      "only showing top 20 rows\n",
      "\n"
     ]
    }
   ],
   "source": [
    "def min_max_scaler(df, cols_to_scale):\n",
    "  # Takes a dataframe and list of columns to minmax scale. Returns a dataframe.\n",
    "  for col in cols_to_scale:\n",
    "    # Define min and max values and collect them\n",
    "    max_days = df.agg({col: 'max'}).collect()[0][0]\n",
    "    min_days = df.agg({col: 'min'}).collect()[0][0]\n",
    "    new_column_name = 'scaled_' + col\n",
    "    # Create a new column based off the scaled data\n",
    "    df = df.withColumn(new_column_name, \n",
    "                      (df[col] - min_days) / (max_days - min_days))\n",
    "  return df\n",
    "  \n",
    "df = min_max_scaler(df, cols_to_scale)\n",
    "# Show that our data is now between 0 and 1\n",
    "df[['DAYSONMARKET', 'scaled_DAYSONMARKET']].show()"
   ]
  },
  {
   "cell_type": "markdown",
   "metadata": {},
   "source": [
    "# Correcting Right Skew Data"
   ]
  },
  {
   "cell_type": "markdown",
   "metadata": {},
   "source": [
    "In the slides we showed how you might use log transforms to fix positively skewed data (data whose distribution is mostly to the left). To correct negative skew (data mostly to the right) you need to take an extra step called \"reflecting\" before you can apply the inverse of log"
   ]
  },
  {
   "cell_type": "code",
   "execution_count": 10,
   "metadata": {},
   "outputs": [],
   "source": [
    "df = df.withColumn('YEARBUILT', df.YEARBUILT.cast(\"int\"))\n",
    "df = df.withColumn('PDOM', df.YEARBUILT.cast(\"int\"))"
   ]
  },
  {
   "cell_type": "code",
   "execution_count": 11,
   "metadata": {},
   "outputs": [
    {
     "name": "stdout",
     "output_type": "stream",
     "text": [
      "[Row(skewness(YEARBUILT)=-0.25317374723020336)]\n"
     ]
    }
   ],
   "source": [
    "from pyspark.sql.functions import log, skewness\n",
    "\n",
    "# Compute the skewness\n",
    "print(df.agg({'YEARBUILT': 'skewness'}).collect())\n",
    "\n",
    "# Calculate the max year\n",
    "max_year = df.agg({'YEARBUILT': 'max'}).collect()[0][0]\n",
    "\n",
    "# Create a new column of reflected data\n",
    "df = df.withColumn('Reflect_YearBuilt', (max_year + 1) - df['YEARBUILT'])\n",
    "\n",
    "# Create a new column based reflected data\n",
    "df = df.withColumn('adj_yearbuilt', 1 / 1/log(df['Reflect_YearBuilt']))"
   ]
  },
  {
   "cell_type": "markdown",
   "metadata": {},
   "source": [
    "# Visualizing Missing Data"
   ]
  },
  {
   "cell_type": "markdown",
   "metadata": {},
   "source": [
    "Being able to plot missing values is a great way to quickly understand how much of your data is missing. It can also help highlight when variables are missing in a pattern something that will need to be handled with care lest your model be biased.\n",
    "\n",
    "Which variable has the most missing values? Run all lines of code except the last one to determine the answer. Once you're confident, and fill out the value and hit \"Submit Answer\"."
   ]
  },
  {
   "cell_type": "code",
   "execution_count": 12,
   "metadata": {},
   "outputs": [],
   "source": [
    "columns = ['APPLIANCES',\n",
    " 'BACKONMARKETDATE',\n",
    " 'ROOMFAMILYCHAR',\n",
    " 'BASEMENT',\n",
    " 'DININGROOMDESCRIPTION']"
   ]
  },
  {
   "cell_type": "code",
   "execution_count": 13,
   "metadata": {},
   "outputs": [
    {
     "data": {
      "image/png": "[encoded data removed]",
      "text/plain": [
       "<Figure size 432x288 with 2 Axes>"
      ]
     },
     "metadata": {
      "needs_background": "light"
     },
     "output_type": "display_data"
    }
   ],
   "source": [
    "import seaborn as sns\n",
    "import matplotlib.pyplot as plt\n",
    "# Sample the dataframe and convert to Pandas\n",
    "sample_df = df.select(columns).sample(False, 0.1, 42)\n",
    "pandas_df = sample_df.toPandas()\n",
    "\n",
    "# Convert all values to T/F\n",
    "tf_df = pandas_df.isnull()\n",
    "\n",
    "# Plot it\n",
    "sns.heatmap(data=tf_df)\n",
    "plt.xticks(rotation=30, fontsize=10)\n",
    "plt.yticks(rotation=0, fontsize=10)\n",
    "plt.show()\n",
    "\n",
    "# Set the answer to the column with the most missing data\n",
    "answer = 'BACKONMARKETDATE'"
   ]
  },
  {
   "cell_type": "markdown",
   "metadata": {},
   "source": [
    "# Imputing Missing Data"
   ]
  },
  {
   "cell_type": "markdown",
   "metadata": {},
   "source": [
    "Missing data happens. If we make the assumption that our data is missing completely at random, we are making the assumption that what data we do have, is a good representation of the population. If we have a few values we could remove them or we could use the mean or median as a replacement."
   ]
  },
  {
   "cell_type": "code",
   "execution_count": 14,
   "metadata": {},
   "outputs": [
    {
     "data": {
      "text/plain": [
       "DataFrame[No.: string, MLSID: string, streetaddress: string, STREETNAME: string, PostalCode: string, StateOrProvince: string, City: string, SalesClosePrice: string, LISTDATE: string, LISTPRICE: string, LISTTYPE: string, OriginalListPrice: string, PricePerTSFT: string, FOUNDATIONSIZE: int, FENCE: string, MapLetter: string, SchoolDistrictNumber: string, DAYSONMARKET: int, offmarketdate: string, FIREPLACES: int, RoomArea4: string, roomtype: string, ROOF: string, RoomFloor4: string, PotentialShortSale: string, PoolDescription: string, PDOM: int, GarageDescription: string, SQFTABOVEGROUND: string, Taxes: string, RoomFloor1: string, RoomArea1: string, TAXWITHASSESSMENTS: string, TAXYEAR: string, LivingArea: string, UNITNUMBER: string, YEARBUILT: int, ZONING: string, STYLE: string, ACRES: string, CoolingDescription: string, APPLIANCES: string, backonmarketdate: string, ROOMFAMILYCHAR: string, RoomArea3: string, EXTERIOR: string, RoomFloor3: string, RoomFloor2: string, RoomArea2: string, DiningRoomDescription: string, BASEMENT: string, BathsFull: string, BathsHalf: string, BATHQUARTER: string, BATHSTHREEQUARTER: string, Class: string, BATHSTOTAL: string, BATHDESC: string, RoomArea5: string, RoomFloor5: string, RoomArea6: string, RoomFloor6: string, RoomArea7: string, RoomFloor7: string, RoomArea8: string, RoomFloor8: string, Bedrooms: string, SQFTBELOWGROUND: string, AssumableMortgage: string, AssociationFee: string, ASSESSMENTPENDING: string, AssessedValuation: string, log_SalesClosePrice: double, percentagescaleddays: double, scaled_FOUNDATIONSIZE: double, scaled_DAYSONMARKET: double, scaled_FIREPLACES: double, Reflect_YearBuilt: int, adj_yearbuilt: double]"
      ]
     },
     "execution_count": 14,
     "metadata": {},
     "output_type": "execute_result"
    }
   ],
   "source": [
    "# Count missing rows\n",
    "missing = df.where(df['PDOM'].isNull()).count()\n",
    "\n",
    "# Calculate the mean value\n",
    "col_mean = df.agg({'PDOM': 'mean'}).collect()[0][0]\n",
    "\n",
    "# Replacing with the mean value for that column\n",
    "df.fillna(col_mean, subset=['PDOM'])"
   ]
  },
  {
   "cell_type": "markdown",
   "metadata": {},
   "source": [
    "# Calculate Missing Percents"
   ]
  },
  {
   "cell_type": "markdown",
   "metadata": {},
   "source": [
    "Automation is the future of data science. Learning to automate some of your data preparation pays dividends. In this exercise, we will automate dropping columns if they are missing data beyond a specific threshold."
   ]
  },
  {
   "cell_type": "code",
   "execution_count": 20,
   "metadata": {},
   "outputs": [
    {
     "name": "stdout",
     "output_type": "stream",
     "text": [
      "+---+-----+--------------------+----------+----------+---------------+----------------+---------------+--------------+---------+---------------+-----------------+------------+--------------+-----+---------+--------------------+------------+---------------+----------+---------+--------------------+--------------------+----------+------------------+---------------+----+--------------------+---------------+-----+----------+---------+------------------+-------+----------+----------+---------+------------------+--------------------+-----+------------------+--------------------+----------------+--------------+---------+--------+----------+----------+---------+---------------------+--------------------+---------+---------+-----------+-----------------+-----+----------+--------------------+---------+----------+---------+----------+---------+----------+---------+----------+--------+---------------+-----------------+--------------+-----------------+-----------------+-------------------+--------------------+---------------------+--------------------+--------------------+-----------------+-------------------+\n",
      "| NO|MLSID|       streetaddress|STREETNAME|PostalCode|StateOrProvince|            City|SalesClosePrice|      LISTDATE|LISTPRICE|       LISTTYPE|OriginalListPrice|PricePerTSFT|FOUNDATIONSIZE|FENCE|MapLetter|SchoolDistrictNumber|DAYSONMARKET|  offmarketdate|FIREPLACES|RoomArea4|            roomtype|                ROOF|RoomFloor4|PotentialShortSale|PoolDescription|PDOM|   GarageDescription|SQFTABOVEGROUND|Taxes|RoomFloor1|RoomArea1|TAXWITHASSESSMENTS|TAXYEAR|LivingArea|UNITNUMBER|YEARBUILT|            ZONING|               STYLE|ACRES|CoolingDescription|          APPLIANCES|backonmarketdate|ROOMFAMILYCHAR|RoomArea3|EXTERIOR|RoomFloor3|RoomFloor2|RoomArea2|DiningRoomDescription|            BASEMENT|BathsFull|BathsHalf|BATHQUARTER|BATHSTHREEQUARTER|Class|BATHSTOTAL|            BATHDESC|RoomArea5|RoomFloor5|RoomArea6|RoomFloor6|RoomArea7|RoomFloor7|RoomArea8|RoomFloor8|Bedrooms|SQFTBELOWGROUND|AssumableMortgage|AssociationFee|ASSESSMENTPENDING|AssessedValuation|log_SalesClosePrice|percentagescaleddays|scaled_FOUNDATIONSIZE| scaled_DAYSONMARKET|   scaled_FIREPLACES|Reflect_YearBuilt|      adj_yearbuilt|\n",
      "+---+-----+--------------------+----------+----------+---------------+----------------+---------------+--------------+---------+---------------+-----------------+------------+--------------+-----+---------+--------------------+------------+---------------+----------+---------+--------------------+--------------------+----------+------------------+---------------+----+--------------------+---------------+-----+----------+---------+------------------+-------+----------+----------+---------+------------------+--------------------+-----+------------------+--------------------+----------------+--------------+---------+--------+----------+----------+---------+---------------------+--------------------+---------+---------+-----------+-----------------+-----+----------+--------------------+---------+----------+---------+----------+---------+----------+---------+----------+--------+---------------+-----------------+--------------+-----------------+-----------------+-------------------+--------------------+---------------------+--------------------+--------------------+-----------------+-------------------+\n",
      "|  1| RMLS|11511 Stillwater ...|Stillwater|     55042|             MN|LELM - Lake Elmo|         143000|7/15/2017 0:00|   139900|Exclusive Right|           139900|    145.9184|            10|Other|       C4|    834 - Stillwater|          10| 7/30/2017 0:00|        10|  12 x  9|Living Room, Dini...|                NULL|      Main|                No|           NULL|1950|     Attached Garage|            980| 1858|      Main|  16 x 13|              1858|   2017|       980|      NULL|     1950|Residential-Single|      (SF) One Story| 1.28|           Central|Range, Dishwasher...|            NULL|          NULL|     NULL|   Vinyl|      NULL|      Main|   9 x  7|       Eat In Kitchen|                Full|        1|        1|          0|                0|   SF|         2|Main Floor 3/4 Ba...|  13 x 11|      Main|  10 x 10|      Main|     NULL|      NULL|     NULL|      NULL|       3|              0|             NULL|             0|          Unknown|                0|  5.155336037465061|                 0.0| 0.044444444444444446|0.044444444444444446|0.044444444444444446|               69|0.23617733727628992|\n",
      "|  2| RMLS|     11200 31st St N|      31st|     55042|             MN|LELM - Lake Elmo|         190000|10/9/2017 0:00|   210000|Exclusive Right|           210000|     85.2783|             4| NULL|       C1|    834 - Stillwater|           4|10/13/2017 0:00|         4|    11x11|Living Room, Dini...|Asphalt Shingles,...|      Main|                No|           NULL|1971|Attached Garage, ...|           1268| 1640|      Main|    22x14|              1640|   2017|      2228|      NULL|     1971|Residential-Single|(SF) Split Entry ...| 0.32|           Central|Range, Microwave,...|            NULL|   Lower Level|    22x14|   Vinyl|     Lower|      Main|    11x12| Informal Dining R...|Full, Partial Fin...|        1|        0|          0|                2|   SF|         3|Main Floor Full B...|    15x11|      Main|    14x11|      Main|    10x11|      Main|    11x11|     Lower|       4|            960|             NULL|             0|          Unknown|                0|  5.278753600952829|                 0.0| 0.017777777777777778|0.017777777777777778|0.017777777777777778|               48| 0.2583177668073288|\n",
      "+---+-----+--------------------+----------+----------+---------------+----------------+---------------+--------------+---------+---------------+-----------------+------------+--------------+-----+---------+--------------------+------------+---------------+----------+---------+--------------------+--------------------+----------+------------------+---------------+----+--------------------+---------------+-----+----------+---------+------------------+-------+----------+----------+---------+------------------+--------------------+-----+------------------+--------------------+----------------+--------------+---------+--------+----------+----------+---------+---------------------+--------------------+---------+---------+-----------+-----------------+-----+----------+--------------------+---------+----------+---------+----------+---------+----------+---------+----------+--------+---------------+-----------------+--------------+-----------------+-----------------+-------------------+--------------------+---------------------+--------------------+--------------------+-----------------+-------------------+\n",
      "only showing top 2 rows\n",
      "\n"
     ]
    }
   ],
   "source": [
    "from pyspark.sql.types import IntegerType\n",
    "from pyspark.sql.functions import col\n",
    "df = df.withColumnRenamed('No.','NO')\n",
    "df = df.withColumn('NO', col('NO').cast(IntegerType()))\n",
    "df.show(2)"
   ]
  },
  {
   "cell_type": "code",
   "execution_count": 21,
   "metadata": {},
   "outputs": [],
   "source": [
    "def column_dropper(df, threshold):\n",
    "  # Takes a dataframe and threshold for missing values. Returns a dataframe.\n",
    "  total_records = df.count()\n",
    "  for col in df.columns:\n",
    "    # Calculate the percentage of missing values\n",
    "    missing = df.where(df[col].isNull()).count()\n",
    "    missing_percent = missing / total_records\n",
    "    # Drop column if percent of missing is more than threshold\n",
    "    if missing_percent > threshold:\n",
    "      df = df.drop(col)\n",
    "  return df\n",
    "\n",
    "# Drop columns that are more than 60% missing\n",
    "df = column_dropper(df, 0.6)"
   ]
  },
  {
   "cell_type": "markdown",
   "metadata": {},
   "source": [
    "# A Dangerous Join"
   ]
  },
  {
   "cell_type": "markdown",
   "metadata": {},
   "source": [
    "In this exercise, we will be joining on Latitude and Longitude to bring in another dataset that measures how walk-friendly a neighborhood is. We'll need to be careful to make sure our joining columns are the same data type and ensure we are joining on the same precision (number of digits after the decimal) or our join won't work!"
   ]
  },
  {
   "cell_type": "code",
   "execution_count": 16,
   "metadata": {},
   "outputs": [],
   "source": [
    "# walk_df = df\n",
    "# # Cast data types\n",
    "# walk_df = walk_df.withColumn('longitude', walk_df.longitude.cast('double'))\n",
    "# walk_df = walk_df.withColumn('latitude', walk_df.latitude.cast('double'))\n",
    "\n",
    "# # Round precision\n",
    "# df = df.withColumn('longitude', round(df.longitude, 5))\n",
    "# df = df.withColumn('latitude', round(df.latitude, 5))\n",
    "\n",
    "# # Create join condition\n",
    "# condition = [walk_df['latitude'] == df['latitude'], walk_df['longitude'] == df['longitude']]\n",
    "\n",
    "# # Join the dataframes together\n",
    "# join_df = df.join(walk_df, on=condition, how='inner')\n",
    "# # Count non-null records from new field\n",
    "# print(join_df.where(~join_df['walkscore'].isNull()).count())"
   ]
  },
  {
   "cell_type": "markdown",
   "metadata": {},
   "source": [
    "# Spark SQL Join\n"
   ]
  },
  {
   "cell_type": "markdown",
   "metadata": {},
   "source": [
    "Sometimes it is much easier to write complex joins in SQL. In this exercise, we will start with the join keys already in the same format and precision but will use SparkSQL to do the joining."
   ]
  },
  {
   "cell_type": "code",
   "execution_count": 17,
   "metadata": {},
   "outputs": [],
   "source": [
    "# # Register dataframes as tables\n",
    "# df.createOrReplaceTempView('df')\n",
    "# walk_df.createOrReplaceTempView('walk_df')\n",
    "\n",
    "# # SQL to join dataframes\n",
    "# join_sql = \t\"\"\"\n",
    "# \t\t\tSELECT \n",
    "# \t\t\t\t*\n",
    "# \t\t\tFROM df\n",
    "# \t\t\tLEFT JOIN walk_df\n",
    "# \t\t\tON df.longitude = walk_df.longitude\n",
    "# \t\t\tAND df.latitude = walk_df.latitude\n",
    "# \t\t\t\"\"\"\n",
    "# # Perform sql join\n",
    "# joined_df = spark.sql(join_sql)"
   ]
  },
  {
   "cell_type": "markdown",
   "metadata": {},
   "source": [
    "# Checking for Bad Joins"
   ]
  },
  {
   "cell_type": "markdown",
   "metadata": {},
   "source": [
    "Joins can go bad silently if we are not careful, meaning they will not error out but instead return mangled data with more or less data than you'd intended. Let's take a look at a couple ways that joining incorrectly can change your data set for the worse.\n",
    "\n",
    "In this example we will look at what happens if you join two dataframes together when the join keys are not the same precision and compare the record counts between the correct join and the incorrect one."
   ]
  },
  {
   "cell_type": "code",
   "execution_count": 18,
   "metadata": {},
   "outputs": [],
   "source": [
    "# # Join on mismatched keys precision \n",
    "# wrong_prec_cond = [df_orig['longitude'] == walk_df['longitude'], df_orig['latitude'] == walk_df['latitude']]\n",
    "# wrong_prec_df = df_orig.join(walk_df, on=wrong_prec_cond, how='left')\n",
    "\n",
    "# # Compare bad join to the correct one\n",
    "# print(wrong_prec_df.where(wrong_prec_df['walkscore'].isNull()).count())\n",
    "# print(correct_join_df.where(correct_join_df['walkscore'].isNull()).count())\n",
    "\n",
    "# # Create a join on too few keys\n",
    "# few_keys_cond = [df['longitude'] == walk_df['longitude']]\n",
    "# few_keys_df = df.join(walk_df, on=few_keys_cond, how='left')\n",
    "\n",
    "# # Compare bad join to the correct one\n",
    "# print(\"Record Count of the Too Few Keys Join Example: \" + str(few_keys_df.count()))\n",
    "# print(\"Record Count of the Correct Join Example: \" + str(correct_join_df.count()))"
   ]
  }
 ],
 "metadata": {
  "kernelspec": {
   "display_name": "env_py",
   "language": "python",
   "name": "python3"
  },
  "language_info": {
   "codemirror_mode": {
    "name": "ipython",
    "version": 3
   },
   "file_extension": ".py",
   "mimetype": "text/x-python",
   "name": "python",
   "nbconvert_exporter": "python",
   "pygments_lexer": "ipython3",
   "version": "3.8.11"
  }
 },
 "nbformat": 4,
 "nbformat_minor": 2
}
