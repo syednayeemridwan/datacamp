{
 "cells": [
  {
   "cell_type": "code",
   "execution_count": 1,
   "metadata": {},
   "outputs": [],
   "source": [
    "from pyspark.sql import SparkSession\n",
    "\n",
    "# Create a SparkSession\n",
    "spark = SparkSession.builder \\\n",
    "    .appName(\"example\") \\\n",
    "    .getOrCreate()"
   ]
  },
  {
   "cell_type": "markdown",
   "metadata": {},
   "source": [
    "# Differences"
   ]
  },
  {
   "cell_type": "markdown",
   "metadata": {},
   "source": [
    "Let's explore generating features using existing ones. In the midwest of the U.S. many single family homes have extra land around them for green space. In this example you will create a new feature called 'YARD_SIZE', and then see if the new feature is correlated with our outcome variable."
   ]
  },
  {
   "cell_type": "code",
   "execution_count": 2,
   "metadata": {},
   "outputs": [
    {
     "data": {
      "text/plain": [
       "['ACRES',\n",
       " 'APPLIANCES',\n",
       " 'ASSESSMENTPENDING',\n",
       " 'AssessedValuation',\n",
       " 'AssociationFee',\n",
       " 'AssumableMortgage',\n",
       " 'BASEMENT',\n",
       " 'BATHDESC',\n",
       " 'BATHQUARTER',\n",
       " 'BATHSTHREEQUARTER',\n",
       " 'BATHSTOTAL',\n",
       " 'BathsFull',\n",
       " 'BathsHalf',\n",
       " 'Bedrooms',\n",
       " 'City',\n",
       " 'Class',\n",
       " 'CoolingDescription',\n",
       " 'DAYSONMARKET',\n",
       " 'DiningRoomDescription',\n",
       " 'EXTERIOR',\n",
       " 'FENCE',\n",
       " 'FOUNDATIONSIZE',\n",
       " 'Fireplaces',\n",
       " 'GarageDescription',\n",
       " 'LISTDATE',\n",
       " 'LISTPRICE',\n",
       " 'LISTTYPE',\n",
       " 'LivingArea',\n",
       " 'LotSizeDimensions',\n",
       " 'MLSID',\n",
       " 'MapLetter',\n",
       " 'No.',\n",
       " 'OriginalListPrice',\n",
       " 'PDOM',\n",
       " 'PoolDescription',\n",
       " 'PostalCode',\n",
       " 'PotentialShortSale',\n",
       " 'PricePerTSFT',\n",
       " 'ROOF',\n",
       " 'ROOMFAMILYCHAR',\n",
       " 'RoomArea1',\n",
       " 'RoomArea2',\n",
       " 'RoomArea3',\n",
       " 'RoomArea4',\n",
       " 'RoomArea5',\n",
       " 'RoomArea6',\n",
       " 'RoomArea7',\n",
       " 'RoomArea8',\n",
       " 'RoomFloor1',\n",
       " 'RoomFloor2',\n",
       " 'RoomFloor3',\n",
       " 'RoomFloor4',\n",
       " 'RoomFloor5',\n",
       " 'RoomFloor6',\n",
       " 'RoomFloor7',\n",
       " 'RoomFloor8',\n",
       " 'SQFTABOVEGROUND',\n",
       " 'SQFTBELOWGROUND',\n",
       " 'STREETNAME',\n",
       " 'STYLE',\n",
       " 'SalesClosePrice',\n",
       " 'SchoolDistrictNumber',\n",
       " 'StateOrProvince',\n",
       " 'StreetNumberNumeric',\n",
       " 'TAXWITHASSESSMENTS',\n",
       " 'TAXYEAR',\n",
       " 'Taxes',\n",
       " 'UNITNUMBER',\n",
       " 'YEARBUILT',\n",
       " 'ZONING',\n",
       " 'backonmarketdate',\n",
       " 'offmarketdate',\n",
       " 'roomtype',\n",
       " 'streetaddress']"
      ]
     },
     "execution_count": 2,
     "metadata": {},
     "output_type": "execute_result"
    }
   ],
   "source": [
    "df = spark.read.csv(\"dataset/2017_StPaul_MN_Real_Estate.csv\", header=True)\n",
    "df = df.withColumn('ACRES', df.ACRES.cast('double'))\n",
    "df = df.withColumn('SalesClosePrice', df.SalesClosePrice.cast('double'))\n",
    "df = df.withColumn('FOUNDATIONSIZE', df.FOUNDATIONSIZE.cast('double'))\n",
    "df = df.withColumn('LISTPRICE', df.LISTPRICE.cast('double'))\n",
    "df = df.withColumn('AssessedValuation', df.AssessedValuation.cast('double'))\n",
    "df = df.withColumn('Taxes', df.Taxes.cast('double'))\n",
    "df = df.withColumn('Bedrooms', df.Bedrooms.cast('double'))\n",
    "df = df.withColumn('BATHSTOTAL', df.BATHSTOTAL.cast('double'))\n",
    "df = df.withColumn('SQFTBELOWGROUND', df.SQFTBELOWGROUND.cast('double'))\n",
    "df = df.withColumn('SQFTABOVEGROUND', df.SQFTABOVEGROUND.cast('double'))\n",
    "\n",
    "# Import needed functions\n",
    "from pyspark.sql.functions import to_date, dayofweek, to_timestamp,col\n",
    "df = df.withColumn(\"LISTDATE\", to_timestamp(\"LISTDATE\", 'M/d/yyyy H:mm'))\n",
    "sorted(df.columns)"
   ]
  },
  {
   "cell_type": "code",
   "execution_count": 3,
   "metadata": {},
   "outputs": [
    {
     "name": "stdout",
     "output_type": "stream",
     "text": [
      "+---+-----+-------------------+--------------------+----------+----------+---------------+----------------+---------------+-------------------+---------+---------------+-----------------+------------+--------------+-----+---------+-----------------+--------------------+------------+---------------+----------+---------+--------------------+--------------------+----------+------------------+---------------+----+--------------------+---------------+------+----------+---------+------------------+-------+----------+----------+---------+------------------+--------------------+-----+------------------+--------------------+----------------+--------------+---------+------------+----------+----------+---------+---------------------+--------------------+---------+---------+-----------+-----------------+-----+----------+--------------------+---------+----------+---------+----------+---------+----------+---------+----------+--------+---------------+-----------------+--------------+-----------------+-----------------+\n",
      "|No.|MLSID|StreetNumberNumeric|       streetaddress|STREETNAME|PostalCode|StateOrProvince|            City|SalesClosePrice|           LISTDATE|LISTPRICE|       LISTTYPE|OriginalListPrice|PricePerTSFT|FOUNDATIONSIZE|FENCE|MapLetter|LotSizeDimensions|SchoolDistrictNumber|DAYSONMARKET|  offmarketdate|Fireplaces|RoomArea4|            roomtype|                ROOF|RoomFloor4|PotentialShortSale|PoolDescription|PDOM|   GarageDescription|SQFTABOVEGROUND| Taxes|RoomFloor1|RoomArea1|TAXWITHASSESSMENTS|TAXYEAR|LivingArea|UNITNUMBER|YEARBUILT|            ZONING|               STYLE|ACRES|CoolingDescription|          APPLIANCES|backonmarketdate|ROOMFAMILYCHAR|RoomArea3|    EXTERIOR|RoomFloor3|RoomFloor2|RoomArea2|DiningRoomDescription|            BASEMENT|BathsFull|BathsHalf|BATHQUARTER|BATHSTHREEQUARTER|Class|BATHSTOTAL|            BATHDESC|RoomArea5|RoomFloor5|RoomArea6|RoomFloor6|RoomArea7|RoomFloor7|RoomArea8|RoomFloor8|Bedrooms|SQFTBELOWGROUND|AssumableMortgage|AssociationFee|ASSESSMENTPENDING|AssessedValuation|\n",
      "+---+-----+-------------------+--------------------+----------+----------+---------------+----------------+---------------+-------------------+---------+---------------+-----------------+------------+--------------+-----+---------+-----------------+--------------------+------------+---------------+----------+---------+--------------------+--------------------+----------+------------------+---------------+----+--------------------+---------------+------+----------+---------+------------------+-------+----------+----------+---------+------------------+--------------------+-----+------------------+--------------------+----------------+--------------+---------+------------+----------+----------+---------+---------------------+--------------------+---------+---------+-----------+-----------------+-----+----------+--------------------+---------+----------+---------+----------+---------+----------+---------+----------+--------+---------------+-----------------+--------------+-----------------+-----------------+\n",
      "|  1| RMLS|              11511|11511 Stillwater ...|Stillwater|     55042|             MN|LELM - Lake Elmo|       143000.0|2017-07-15 00:00:00| 139900.0|Exclusive Right|           139900|    145.9184|         980.0|Other|       C4|          279X200|    834 - Stillwater|          10| 7/30/2017 0:00|         0|  12 x  9|Living Room, Dini...|                NULL|      Main|                No|           NULL|  10|     Attached Garage|          980.0|1858.0|      Main|  16 x 13|              1858|   2017|       980|      NULL|     1950|Residential-Single|      (SF) One Story| 1.28|           Central|Range, Dishwasher...|            NULL|          NULL|     NULL|       Vinyl|      NULL|      Main|   9 x  7|       Eat In Kitchen|                Full|        1|        1|          0|                0|   SF|       2.0|Main Floor 3/4 Ba...|  13 x 11|      Main|  10 x 10|      Main|     NULL|      NULL|     NULL|      NULL|     3.0|            0.0|             NULL|             0|          Unknown|              0.0|\n",
      "|  2| RMLS|              11200|     11200 31st St N|      31st|     55042|             MN|LELM - Lake Elmo|       190000.0|2017-10-09 00:00:00| 210000.0|Exclusive Right|           210000|     85.2783|        1144.0| NULL|       C1|          100x140|    834 - Stillwater|           4|10/13/2017 0:00|         0|    11x11|Living Room, Dini...|Asphalt Shingles,...|      Main|                No|           NULL|   4|Attached Garage, ...|         1268.0|1640.0|      Main|    22x14|              1640|   2017|      2228|      NULL|     1971|Residential-Single|(SF) Split Entry ...| 0.32|           Central|Range, Microwave,...|            NULL|   Lower Level|    22x14|       Vinyl|     Lower|      Main|    11x12| Informal Dining R...|Full, Partial Fin...|        1|        0|          0|                2|   SF|       3.0|Main Floor Full B...|    15x11|      Main|    14x11|      Main|    10x11|      Main|    11x11|     Lower|     4.0|          960.0|             NULL|             0|          Unknown|              0.0|\n",
      "|  3| RMLS|               8583|8583 Stillwater B...|Stillwater|     55042|             MN|LELM - Lake Elmo|       225000.0|2017-06-26 00:00:00| 225000.0|Exclusive Right|           225000|    204.1742|        1102.0| None|       E1|          120x296|622 - North St Pa...|          28| 7/24/2017 0:00|         0|    14x12|Living Room, Dini...|                NULL|      Main|                No|           None|  28|     Attached Garage|         1102.0|2390.0|      Main|    20x13|              2390|   2016|      1102|      NULL|     1949|Residential-Single|      (SF) One Story|0.822|            Window|Range, Microwave,...|            NULL|          NULL|     NULL|Cement Board|      NULL|      Main|    18x11| Informal Dining Room|Full, Crawl Space...|        1|        0|          0|                0|   SF|       1.0|Main Floor Full Bath|    12x12|      Main|    12x12|      Main|     NULL|      NULL|     NULL|      NULL|     2.0|            0.0|    Not Assumable|             0|               No|              0.0|\n",
      "+---+-----+-------------------+--------------------+----------+----------+---------------+----------------+---------------+-------------------+---------+---------------+-----------------+------------+--------------+-----+---------+-----------------+--------------------+------------+---------------+----------+---------+--------------------+--------------------+----------+------------------+---------------+----+--------------------+---------------+------+----------+---------+------------------+-------+----------+----------+---------+------------------+--------------------+-----+------------------+--------------------+----------------+--------------+---------+------------+----------+----------+---------+---------------------+--------------------+---------+---------+-----------+-----------------+-----+----------+--------------------+---------+----------+---------+----------+---------+----------+---------+----------+--------+---------------+-----------------+--------------+-----------------+-----------------+\n",
      "only showing top 3 rows\n",
      "\n"
     ]
    }
   ],
   "source": [
    "df.show(3)"
   ]
  },
  {
   "cell_type": "code",
   "execution_count": 4,
   "metadata": {},
   "outputs": [
    {
     "name": "stdout",
     "output_type": "stream",
     "text": [
      "Corr of ACRES vs SALESCLOSEPRICE: 0.20714585430854263\n",
      "Corr of FOUNDATIONSIZE vs SALESCLOSEPRICE: 0.6152231695664401\n",
      "Corr of YARD_SIZE vs SALESCLOSEPRICE: 0.22060612588935338\n"
     ]
    }
   ],
   "source": [
    "# Lot size in square feet\n",
    "acres_to_sqfeet = 43560\n",
    "df = df.withColumn('LOT_SIZE_SQFT', df['ACRES'] * acres_to_sqfeet)\n",
    "\n",
    "# Create new column YARD_SIZE\n",
    "df = df.withColumn('YARD_SIZE', df['LOT_SIZE_SQFT'] - df['FOUNDATIONSIZE'])\n",
    "\n",
    "# Corr of ACRES vs SALESCLOSEPRICE\n",
    "print(\"Corr of ACRES vs SALESCLOSEPRICE: \" + str(df.corr('YARD_SIZE', 'SalesClosePrice')))\n",
    "# Corr of FOUNDATIONSIZE vs SALESCLOSEPRICE\n",
    "print(\"Corr of FOUNDATIONSIZE vs SALESCLOSEPRICE: \" + str(df.corr('FOUNDATIONSIZE', 'SalesClosePrice')))\n",
    "# Corr of YARD_SIZE vs SALESCLOSEPRICE\n",
    "print(\"Corr of YARD_SIZE vs SALESCLOSEPRICE: \" + str(df.corr('LOT_SIZE_SQFT', 'SalesClosePrice')))"
   ]
  },
  {
   "cell_type": "markdown",
   "metadata": {},
   "source": [
    "# Ratios"
   ]
  },
  {
   "cell_type": "markdown",
   "metadata": {},
   "source": [
    "Ratios are all around us. Whether it's miles per gallon or click through rate, they are everywhere. In this exercise, we'll create some ratios by dividing out pairs of columns."
   ]
  },
  {
   "cell_type": "code",
   "execution_count": 5,
   "metadata": {},
   "outputs": [
    {
     "name": "stdout",
     "output_type": "stream",
     "text": [
      "+-----------------+---------+----------------+\n",
      "|AssessedValuation|LISTPRICE|ASSESSED_TO_LIST|\n",
      "+-----------------+---------+----------------+\n",
      "|              0.0| 139900.0|             0.0|\n",
      "|              0.0| 210000.0|             0.0|\n",
      "|              0.0| 225000.0|             0.0|\n",
      "|              0.0| 230000.0|             0.0|\n",
      "|              0.0| 239900.0|             0.0|\n",
      "+-----------------+---------+----------------+\n",
      "only showing top 5 rows\n",
      "\n",
      "+--------------------+------+---------+\n",
      "|         TAX_TO_LIST| Taxes|LISTPRICE|\n",
      "+--------------------+------+---------+\n",
      "|0.013280914939242315|1858.0| 139900.0|\n",
      "| 0.00780952380952381|1640.0| 210000.0|\n",
      "|0.010622222222222222|2390.0| 225000.0|\n",
      "|0.009330434782608695|2146.0| 230000.0|\n",
      "|0.008378491037932471|2010.0| 239900.0|\n",
      "+--------------------+------+---------+\n",
      "only showing top 5 rows\n",
      "\n",
      "+------------------+--------+----------+\n",
      "|      BED_TO_BATHS|Bedrooms|BATHSTOTAL|\n",
      "+------------------+--------+----------+\n",
      "|               1.5|     3.0|       2.0|\n",
      "|1.3333333333333333|     4.0|       3.0|\n",
      "|               2.0|     2.0|       1.0|\n",
      "|               1.0|     2.0|       2.0|\n",
      "|               1.5|     3.0|       2.0|\n",
      "+------------------+--------+----------+\n",
      "only showing top 5 rows\n",
      "\n"
     ]
    }
   ],
   "source": [
    "# ASSESSED_TO_LIST\n",
    "df = df.withColumn(\"ASSESSED_TO_LIST\", df.AssessedValuation/df.LISTPRICE)\n",
    "df[['AssessedValuation', 'LISTPRICE', 'ASSESSED_TO_LIST']].show(5)\n",
    "# TAX_TO_LIST\n",
    "df = df.withColumn(\"TAX_TO_LIST\", df.Taxes/df.LISTPRICE)\n",
    "df[['TAX_TO_LIST', 'Taxes', 'LISTPRICE']].show(5)\n",
    "# BED_TO_BATHS\n",
    "df = df.withColumn(\"BED_TO_BATHS\", df.Bedrooms/df.BATHSTOTAL)\n",
    "df[['BED_TO_BATHS', 'Bedrooms', 'BATHSTOTAL']].show(5)"
   ]
  },
  {
   "cell_type": "markdown",
   "metadata": {},
   "source": [
    "# Deeper Features"
   ]
  },
  {
   "cell_type": "markdown",
   "metadata": {},
   "source": [
    "In previous exercises we showed how combining two features together can create good additional features for a predictive model. In this exercise, you will generate 'deeper' features by combining the effects of three variables into one. Then you will check to see if deeper and more complicated features always make for better predictors."
   ]
  },
  {
   "cell_type": "code",
   "execution_count": 6,
   "metadata": {},
   "outputs": [
    {
     "name": "stdout",
     "output_type": "stream",
     "text": [
      "+-------+-------------------+\n",
      "|summary| BATHS_PER_1000SQFT|\n",
      "+-------+-------------------+\n",
      "|  count|               5000|\n",
      "|   mean| 1.4302617483739894|\n",
      "| stddev|  14.12890410245937|\n",
      "|    min|0.39123630672926446|\n",
      "|    max|             1000.0|\n",
      "+-------+-------------------+\n",
      "\n"
     ]
    },
    {
     "data": {
      "image/png": "[encoded data removed]",
      "text/plain": [
       "<Figure size 432x432 with 3 Axes>"
      ]
     },
     "metadata": {
      "needs_background": "light"
     },
     "output_type": "display_data"
    },
    {
     "data": {
      "image/png": "[encoded data removed]",
      "text/plain": [
       "<Figure size 432x432 with 3 Axes>"
      ]
     },
     "metadata": {
      "needs_background": "light"
     },
     "output_type": "display_data"
    }
   ],
   "source": [
    "import seaborn as sns\n",
    "import matplotlib.pyplot as plt\n",
    "# Create new feature by adding two features together\n",
    "df = df.withColumn('Total_SQFT', df['SQFTBELOWGROUND'] + df['SQFTABOVEGROUND'])\n",
    "\n",
    "# Create additional new feature using previously created feature\n",
    "df = df.withColumn('BATHS_PER_1000SQFT', df['BATHSTOTAL'] / (df['Total_SQFT'] / 1000))\n",
    "df[['BATHS_PER_1000SQFT']].describe().show()\n",
    "\n",
    "# Sample and create pandas dataframe\n",
    "pandas_df = df.sample(False, 0.5, 0).toPandas()\n",
    "\n",
    "# Linear model plots\n",
    "sns.jointplot(x='Total_SQFT', y='SalesClosePrice', data=pandas_df, kind=\"reg\")\n",
    "plt.show()\n",
    "sns.jointplot(x='BATHS_PER_1000SQFT', y='SalesClosePrice', data=pandas_df, kind=\"reg\")\n",
    "plt.show()"
   ]
  },
  {
   "cell_type": "markdown",
   "metadata": {},
   "source": [
    "# Time Components"
   ]
  },
  {
   "cell_type": "markdown",
   "metadata": {},
   "source": [
    "Being able to work with time components for building features is important but you can also use them to explore and understand your data further. In this exercise, you'll be looking to see if there is a pattern to which day of the week a house lists on. Please keep in mind that PySpark's week starts on Sunday, with a value of 1 and ends on Saturday, a value of 7."
   ]
  },
  {
   "cell_type": "code",
   "execution_count": 7,
   "metadata": {},
   "outputs": [
    {
     "data": {
      "image/png": "[encoded data removed]",
      "text/plain": [
       "<Figure size 432x288 with 1 Axes>"
      ]
     },
     "metadata": {
      "needs_background": "light"
     },
     "output_type": "display_data"
    }
   ],
   "source": [
    "# Convert to date type\n",
    "df = df.withColumn('LISTDATE', to_date('LISTDATE'))\n",
    "\n",
    "# Get the day of the week\n",
    "df = df.withColumn('List_Day_of_Week', dayofweek('LISTDATE'))\n",
    "\n",
    "# Sample and convert to pandas dataframe\n",
    "sample_df = df.sample(False, 0.5, 42).toPandas()\n",
    "\n",
    "# Plot count plot of of day of week\n",
    "sns.countplot(x=\"List_Day_of_Week\", data=sample_df)\n",
    "plt.show()"
   ]
  },
  {
   "cell_type": "markdown",
   "metadata": {},
   "source": [
    "# Joining On Time Components"
   ]
  },
  {
   "cell_type": "markdown",
   "metadata": {},
   "source": [
    "Often times you will use date components to join in other sets of information. However, in this example, we need to use data that would have been available to those considering buying a house. This means we will need to use the previous year's reporting data for our analysis."
   ]
  },
  {
   "cell_type": "code",
   "execution_count": 8,
   "metadata": {},
   "outputs": [],
   "source": [
    "# from pyspark.sql.functions import year\n",
    "\n",
    "# # Initialize dataframes\n",
    "# df = real_estate_df\n",
    "# price_df = median_prices_df\n",
    "\n",
    "# # Create year column\n",
    "# df = df.withColumn('list_year', year('LISTDATE'))\n",
    "\n",
    "# # Adjust year to match\n",
    "# df = df.withColumn('report_year', (df['list_year'] - 1))\n",
    "\n",
    "# # Create join condition\n",
    "# condition = [df['CITY'] == price_df['City'], df['report_year'] == price_df['Year']]\n",
    "\n",
    "# # Join the dataframes together\n",
    "# df = df.join(price_df, on=condition, how='left')\n",
    "# # Inspect that new columns are available\n",
    "# df[['MedianHomeValue']].show()"
   ]
  },
  {
   "cell_type": "markdown",
   "metadata": {},
   "source": [
    "# Date Math"
   ]
  },
  {
   "cell_type": "markdown",
   "metadata": {},
   "source": [
    "In this example, we'll look at verifying the frequency of our data. The Mortgage dataset is supposed to have weekly data but let's make sure by lagging the report date and then taking the difference of the dates.\n",
    "\n",
    "Recall that to create a lagged feature we will need to create a window(). window() allows you to return a value for each record based off some calculation against a group of records, in this case, the previous period's mortgage rate."
   ]
  },
  {
   "cell_type": "code",
   "execution_count": 9,
   "metadata": {},
   "outputs": [
    {
     "name": "stdout",
     "output_type": "stream",
     "text": [
      "+----+-----+-------------------+--------------------+------------+----------+---------------+----------------+---------------+----------+---------+---------------+-----------------+------------+--------------+--------------------+---------+-----------------+--------------------+------------+--------------+----------+---------+--------------------+--------------------+----------+------------------+--------------------+----+--------------------+---------------+------+----------+---------+------------------+-------+----------+----------+---------+--------------------+--------------------+-----+------------------+--------------------+----------------+--------------------+---------+--------------------+----------+----------+---------+---------------------+--------------------+---------+---------+-----------+-----------------+-----+----------+--------------------+---------+----------+---------+----------+---------+----------+---------+----------+--------+---------------+-----------------+--------------+-----------------+-----------------+------------------+-------------------+--------------------+--------------------+------------------+----------+------------------+----------------+----------+----------+-------------------+\n",
      "| No.|MLSID|StreetNumberNumeric|       streetaddress|  STREETNAME|PostalCode|StateOrProvince|            City|SalesClosePrice|  LISTDATE|LISTPRICE|       LISTTYPE|OriginalListPrice|PricePerTSFT|FOUNDATIONSIZE|               FENCE|MapLetter|LotSizeDimensions|SchoolDistrictNumber|DAYSONMARKET| offmarketdate|Fireplaces|RoomArea4|            roomtype|                ROOF|RoomFloor4|PotentialShortSale|     PoolDescription|PDOM|   GarageDescription|SQFTABOVEGROUND| Taxes|RoomFloor1|RoomArea1|TAXWITHASSESSMENTS|TAXYEAR|LivingArea|UNITNUMBER|YEARBUILT|              ZONING|               STYLE|ACRES|CoolingDescription|          APPLIANCES|backonmarketdate|      ROOMFAMILYCHAR|RoomArea3|            EXTERIOR|RoomFloor3|RoomFloor2|RoomArea2|DiningRoomDescription|            BASEMENT|BathsFull|BathsHalf|BATHQUARTER|BATHSTHREEQUARTER|Class|BATHSTOTAL|            BATHDESC|RoomArea5|RoomFloor5|RoomArea6|RoomFloor6|RoomArea7|RoomFloor7|RoomArea8|RoomFloor8|Bedrooms|SQFTBELOWGROUND|AssumableMortgage|AssociationFee|ASSESSMENTPENDING|AssessedValuation|     LOT_SIZE_SQFT|          YARD_SIZE|    ASSESSED_TO_LIST|         TAX_TO_LIST|      BED_TO_BATHS|Total_SQFT|BATHS_PER_1000SQFT|List_Day_of_Week|      DATE|    DATE-1|Days_Between_Report|\n",
      "+----+-----+-------------------+--------------------+------------+----------+---------------+----------------+---------------+----------+---------+---------------+-----------------+------------+--------------+--------------------+---------+-----------------+--------------------+------------+--------------+----------+---------+--------------------+--------------------+----------+------------------+--------------------+----+--------------------+---------------+------+----------+---------+------------------+-------+----------+----------+---------+--------------------+--------------------+-----+------------------+--------------------+----------------+--------------------+---------+--------------------+----------+----------+---------+---------------------+--------------------+---------+---------+-----------+-----------------+-----+----------+--------------------+---------+----------+---------+----------+---------+----------+---------+----------+--------+---------------+-----------------+--------------+-----------------+-----------------+------------------+-------------------+--------------------+--------------------+------------------+----------+------------------+----------------+----------+----------+-------------------+\n",
      "| 289| RMLS|               1479|   1479 Brooks Ave E|      Brooks|     55109|             MN|MAPW - Maplewood|       189000.0|2017-02-23| 194000.0|Exclusive Right|           199000|     109.375|         864.0|    Chain Link, Full|       E4|           10x146|622 - North St Pa...|          25|3/22/2017 0:00|         0|    10x14|Living Room, Dini...|Asphalt Shingles,...|     Upper|                No|                None|  15|Detached Garage, ...|          864.0|2921.0|     Upper|    14x15|              3760|   2016|      1728|      NULL|     1984|  Residential-Single|(SF) Split Entry ...| 0.33|              None|Range, Dishwasher...|            NULL|         Lower Level|    15x22|        Metal, Vinyl|     Lower|      NULL|     NULL|                 NULL|Full, Day/Lookout...|        1|        0|          0|                1|   SF|       2.0|Main Floor Full Bath|    10x11|     Upper|     9x12|     Upper|     9x11|     Lower|     9x11|     Lower|     4.0|          864.0|             NULL|             0|          Unknown|            839.0|14374.800000000001| 13510.800000000001|0.004324742268041237|0.015056701030927835|               2.0|    1728.0|1.1574074074074074|               5|2017-02-23|      NULL|               NULL|\n",
      "| 282| RMLS|               2171|    2171 Atlantic St|    Atlantic|     55109|             MN|MAPW - Maplewood|       191000.0|2017-02-24| 189900.0|Exclusive Right|           189900|    170.5357|         660.0|          Chain Link|       D4|          134x130|622 - North St Pa...|          49|4/14/2017 0:00|         0|     15x8|Living Room, Dini...|Asphalt Shingles,...|      Main|                No|                NULL|  49|Detached Garage, ...|         1060.0|2540.0|      Main|    19x12|              2540|   2016|      1120|      NULL|     1939|  Residential-Single|    (SF) Two Stories|  0.4|              None|Range, Microwave,...|            NULL|                NULL|    18x11|               Vinyl|     Lower|      Main|    11x10| Separate/Formal D...|Full, Partial Fin...|        1|        0|          0|                1|   SF|       2.0|Upper Level Full ...|    17x12|     Upper|    12x11|     Upper|     NULL|      NULL|     NULL|      NULL|     2.0|           60.0|    Not Assumable|             0|          Unknown|              0.0|           17424.0|            16764.0|                 0.0|0.013375460768825698|               1.0|    1120.0|1.7857142857142856|               6|2017-02-24|2017-02-23|                  1|\n",
      "| 339| RMLS|               1851|      1851 Manton St|      Manton|     55109|             MN|MAPW - Maplewood|       210000.0|2017-02-24| 206900.0|Exclusive Right|           206900|    136.7188|         768.0|Wood, Chain Link,...|       E1|           60x125|622 - North St Pa...|           8| 3/4/2017 0:00|         0|  11 x 16|Living Room, Dini...|Asphalt Shingles,...|      Main|                No|                NULL|   8|Detached Garage, ...|          768.0|2412.0|      Main|  13 x 14|              2412|   2016|      1536|      NULL|     1972|  Residential-Single|(SF) Split Entry ...| 0.17|           Central|Range, Microwave,...|            NULL|          Main Level|  10 x 15|               Metal|      Main|      NULL|     NULL| Eat In Kitchen, K...|Full, Finished (L...|        1|        0|          0|                1|   SF|       2.0|Main Floor Full B...|  10 x 22|      Main|  11 x 14|     Lower|  10 x 16|     Lower|     NULL|      NULL|     3.0|          768.0|             NULL|             0|               No|              0.0| 7405.200000000001|  6637.200000000001|                 0.0|0.011657805703238279|               1.5|    1536.0|1.3020833333333333|               6|2017-02-24|2017-02-24|                  0|\n",
      "| 459| RMLS|                536| 536 Deer Ridge Ln S|  Deer Ridge|     55119|             MN|MAPW - Maplewood|       249900.0|2017-02-24| 239900.0|Exclusive Right|           239900|    146.5689|        1245.0|                None|       B2|            80x36|622 - North St Pa...|          32|3/28/2017 0:00|         0|    14x13|Living Room, Dini...|Asphalt Shingles,...|      Main|                No|     Outdoor, Shared|  32|Attached Garage, ...|         1245.0|2950.0|      Main|    15x12|              2950|   2016|      1705|      NULL|     1991|  Residential-Single|    (TH) Side x Side| 0.07|           Central|Range, Exhaust Fa...|            NULL|         Lower Level|    25x10|  Metal, Brick/Stone|     Lower|      Main|    12x11| Informal Dining R...|Finished (Livable...|        2|        0|          0|                1|   SF|       3.0|Main Floor Full B...|    13x13|      Main|    12x10|      Main|     NULL|      NULL|     NULL|      NULL|     2.0|          460.0|             NULL|           210|          Unknown|              0.0|3049.2000000000003| 1804.2000000000003|                 0.0|0.012296790329303876|0.6666666666666666|    1705.0|1.7595307917888563|               6|2017-02-24|2017-02-24|                  0|\n",
      "|1444| RMLS|                 78|  78 10th St E, R903|        10th|     55101|             MN|STP - Saint Paul|       130000.0|2017-02-24| 139900.0|Exclusive Right|           139900|    207.6677|         626.0|                NULL|       B4|           Common|      625 - St. Paul|          37| 4/2/2017 0:00|         0|     8x10|Living Room, Dini...|               Metal|      Main|                No|Indoor, Heated, S...|  37|  Underground Garage|          626.0|1328.0|      Main|    11x12|              1518|   2016|       626|      R903|     1987|  Residential-Single|(CC) High Rise (4...|0.014|           Central|Range, Exhaust Fa...|            NULL|                NULL|     NULL|               Other|      NULL|      Main|     8x12| Informal Dining Room|                None|        1|        0|          0|                0|   SF|       1.0|Main Floor Full Bath|    11x12|      Main|     NULL|      NULL|     NULL|      NULL|     NULL|      NULL|     1.0|            0.0|             NULL|           360|              Yes|            190.0|            609.84|-16.159999999999968|0.001358112937812...|0.009492494639027876|               1.0|     626.0| 1.597444089456869|               6|2017-02-24|2017-02-24|                  0|\n",
      "|2192| RMLS|               1228|       1228 5th St E|         5th|     55106|             MN|STP - Saint Paul|       184900.0|2017-02-24| 184900.0|Exclusive Right|           184900|    101.1488|         896.0|          Chain Link|       D3|           130x40|      625 - St. Paul|          10| 3/6/2017 0:00|         0|     15X9|Living Room, Dini...|    Asphalt Shingles|      Main|                No|                NULL|  10|     Detached Garage|         1308.0|1258.0|      Main|    17X12|              1390|   2016|      1828|      NULL|     1956|  Residential-Single|(SF) One 1/2 Stories| 0.12|           Central|Range, Microwave,...|            NULL|         Lower Level|    20X14|              Stucco|     Lower|      NULL|     NULL|       Eat In Kitchen|Full, Partial Fin...|        1|        0|          0|                1|   SF|       2.0|Main Floor Full B...|    12X11|      Main|    12x10|      Main|    16x13|     Upper|     NULL|      NULL|     3.0|          520.0|    Not Assumable|             0|          Unknown|            132.0|            5227.2|             4331.2| 7.13899405083829E-4|0.006803677663601947|               1.5|    1828.0|1.0940919037199124|               6|2017-02-24|2017-02-24|                  0|\n",
      "|2193| RMLS|                302|   302 Cottage Ave W|     Cottage|     55117|             MN|STP - Saint Paul|       184900.0|2017-02-24| 184900.0|Exclusive Right|           189900|    142.6698|         816.0|                Wood|       A2|            70x80|      625 - St. Paul|          59|4/26/2017 0:00|         0|     NULL|Living Room, Dini...|    Asphalt Shingles|      NULL|                No|                NULL|  56|     Detached Garage|          816.0|1779.0|      Main|    14x12|              4768|   2016|      1296|      NULL|     1955|Residential-Multi...|      (SF) One Story| 0.13|           Central|Range, Microwave,...|            NULL|         Lower Level|    22x16|               Vinyl|     Lower|      NULL|     NULL|       Eat In Kitchen|             Walkout|        1|        0|          0|                0|   SF|       1.0|Main Floor Full Bath|    13x12|      Main|    13x12|      Main|    12x12|     Lower|     NULL|      NULL|     3.0|          480.0|             NULL|             0|          Unknown|           2989.0|            5662.8|             4846.8|0.016165494862087616|0.009621416982152515|               3.0|    1296.0|0.7716049382716049|               6|2017-02-24|2017-02-24|                  0|\n",
      "|3530| RMLS|                529|      529 Warwick St|     Warwick|     55116|             MN|STP - Saint Paul|       363900.0|2017-02-24| 369900.0|Exclusive Right|           369900|    245.7124|         864.0|             Partial|       D2|           40x125|      625 - St. Paul|          53|4/18/2017 0:00|         1|     11x8|Living Room, Dini...|                NULL|      Main|                No|                NULL|  53|Detached Garage, ...|         1197.0|4494.0|      Main|    17x13|              4494|   2016|      1481|      NULL|     1930|  Residential-Single|(SF) One 1/2 Stories| 0.11|           Central|Range, Microwave,...|            NULL|         Lower Level|    14x10|                Wood|     Lower|      Main|     11x8| Separate/Formal D...|Full, Finished (L...|        1|        0|          0|                1|   SF|       2.0|Main Floor Full B...|     10x9|      Main|     10x9|      Main|    15x22|     Upper|     NULL|      NULL|     3.0|          284.0|    Not Assumable|             0|          Unknown|              0.0|            4791.6| 3927.6000000000004|                 0.0|0.012149229521492295|               1.5|    1481.0|1.3504388926401079|               6|2017-02-24|2017-02-24|                  0|\n",
      "|4052| RMLS|                352|  352 Gironde Ct, 11|     Gironde|     55125|             MN|   WB - Woodbury|       177000.0|2017-02-24| 179900.0|Exclusive Right|           179900|     121.067|         624.0|                NULL|       D4|           Common|622 - North St Pa...|          62|4/27/2017 0:00|         1|    11x10|Living Room, Dini...|Asphalt Shingles,...|      Main|                No|                None|  62|Attached Garage, ...|         1222.0|1522.0|      Main|    16x13|              1600|   2016|      1462|        11|     2000|  Residential-Single|    (TH) Side x Side|0.601|           Central|Range, Dishwasher...|            NULL|         Family Room|     NULL|        Metal, Vinyl|      NULL|      Main|     12x8| Informal Dining Room|Walkout, Finished...|        1|        1|          0|                0|   SF|       2.0|Main Floor 1/2 Ba...|    15x11|     Upper|    12x11|     Upper|     NULL|      NULL|     NULL|      NULL|     2.0|          240.0|    Not Assumable|           255|               No|             78.0|26179.559999999998| 25555.559999999998|4.335742078932740...|0.008460255697609784|               1.0|    1462.0|1.3679890560875514|               6|2017-02-24|2017-02-24|                  0|\n",
      "|4318| RMLS|               3320|       3320 York Bay|    York Bay|     55125|             MN|   WB - Woodbury|       280000.0|2017-02-24| 274522.0|Exclusive Right|           274522|    126.5823|        1156.0|          Chain Link|       C3|          102x129|833 - South Washi...|           6|5/10/2017 0:00|         1|    11x10|Living Room, Dini...|    Asphalt Shingles|     Upper|                No|                None|   6|Attached Garage, ...|         1156.0|3338.0|     Upper|    13x12|              3338|   2017|      2212|      NULL|     1984|  Residential-Single|(SF) Split Entry ...| 0.31|           Central|Range, Microwave,...|            NULL|         Lower Level|    22x10|                Wood|     Lower|     Upper|    11x10| Informal Dining Room|Walkout, Full, Fi...|        1|        0|          0|                2|   SF|       3.0|Main Floor Full B...|    17x10|     Upper|    12x12|     Upper|     12x9|     Upper|    12x12|     Lower|     4.0|         1056.0|    Not Assumable|             0|               No|              0.0|           13503.6|            12347.6|                 0.0| 0.01215931692177676|1.3333333333333333|    2212.0|1.3562386980108498|               6|2017-02-24|2017-02-24|                  0|\n",
      "|4680| RMLS|               3609|3609 Williamsburg Ct|Williamsburg|     55129|             MN|   WB - Woodbury|       372000.0|2017-02-24| 389700.0|Exclusive Right|           394700|    109.7993|        1543.0|             Partial|       B3|    90x135x90x137|833 - South Washi...|          35|4/11/2017 0:00|         1|    15x11|Living Room, Dini...|Asphalt Shingles,...|      Main|                No|                None|   2|Attached Garage, ...|         2288.0|5594.0|      Main|    18x16|              5594|   2016|      3388|      NULL|     1992|  Residential-Single|    (SF) Two Stories|0.282|           Central|Range, Microwave,...|            NULL|2 Story/High/Vaul...|    30x17|        Cement Board|     Lower|      Main|    15x14| Separate/Formal D...|Full, Finished (L...|        2|        0|          0|                1|   SF|       3.0|Main Floor Full B...|    17x13|     Upper|    14x13|      Main|    13x12|      Main|    13x12|     Lower|     4.0|         1100.0|    Not Assumable|            37|          Unknown|              0.0|12283.919999999998| 10740.919999999998|                 0.0|0.014354631768026687|1.3333333333333333|    3388.0| 0.885478158205431|               6|2017-02-24|2017-02-24|                  0|\n",
      "|4787| RMLS|               9128|  9128 Lighthouse Ln|  Lighthouse|     55129|             MN|   WB - Woodbury|       433690.0|2017-02-24| 425385.0|Exclusive Right|           425385|    141.8678|        1258.0|                None|       A1|    63x123x73x123|833 - South Washi...|           0|2/24/2017 0:00|         0|     NULL|, , Family Room, ...|Asphalt Shingles,...|      Main|                No|Below Ground, Out...|   0|Attached Garage, ...|         3057.0| 362.0|      NULL|     NULL|                 0|   2016|      3057|      NULL|     2017|  Residential-Single|    (SF) Two Stories| 0.19|           Central|Range, Microwave,...|            NULL|          Main Level|    20x16|               Vinyl|      Main|      NULL|     NULL|       Breakfast Area|Walkout, Drainage...|        2|        1|          0|                0|   SF|       3.0|Main Floor 1/2 Ba...|    12x16|     Upper|    11x11|     Upper|    11x10|     Upper|    11x13|     Upper|     4.0|            0.0|             NULL|           189|               No|              0.0|            8276.4|             7018.4|                 0.0|8.509938056113874E-4|1.3333333333333333|    3057.0|0.9813542688910697|               6|2017-02-24|2017-02-24|                  0|\n",
      "|4799| RMLS|               5259|     5259 Sundial Ln|     Sundial|     55129|             MN|   WB - Woodbury|       427120.0|2017-02-24| 431000.0|Exclusive Right|           431000|    139.7187|        1258.0|                None|       A1|    96x151x63x159|833 - South Washi...|           1|2/25/2017 0:00|         1|     NULL|, , Family Room, ...|Asphalt Shingles,...|      Main|                No|Below Ground, Out...|   1|Attached Garage, ...|         3057.0| 362.0|      NULL|     NULL|                 0|   2016|      3057|      NULL|     2017|  Residential-Single|    (SF) Two Stories| 0.28|           Central|Range, Microwave,...|            NULL|          Main Level|    20x16|               Vinyl|      Main|      NULL|     NULL|       Breakfast Area|Walkout, Drainage...|        2|        1|          0|                0|   SF|       3.0|Main Floor 1/2 Ba...|    12x16|     Upper|    11x11|     Upper|    11x10|     Upper|    11x13|     Upper|     4.0|            0.0|             NULL|           189|               No|              0.0|12196.800000000001| 10938.800000000001|                 0.0| 8.39907192575406E-4|1.3333333333333333|    3057.0|0.9813542688910697|               6|2017-02-24|2017-02-24|                  0|\n",
      "|4864| RMLS|               8815|8815 Pheasant Run Rd|Pheasant Run|     55125|             MN|   WB - Woodbury|       455000.0|2017-02-24| 469900.0|Exclusive Right|           469900|    139.3995|        1463.0|                NULL|       E2|           90x140|833 - South Washi...|          31| 4/9/2017 0:00|         2|    10x29|Living Room, Dini...|Asphalt Shingles,...|      Main|                No|                NULL|  31|Attached Garage, ...|         2680.0|6108.0|      NULL|     NULL|              6440|   2016|      3264|      NULL|     1993|  Residential-Single|    (SF) Two Stories|0.292|           Central|Range, Cooktop, M...|            NULL|Main Level, Lower...|    16x17|Brick/Stone, Fibe...|      Main|      Main|    12x13| Separate/Formal D...|Full, Finished (L...|        2|        2|          0|                0|   SF|       4.0|Main Floor 1/2 Ba...|    13x16|     Upper|    11x15|     Upper|    10x12|     Upper|    12x13|     Upper|     4.0|          584.0|    Not Assumable|           120|              Yes|            332.0|12719.519999999999| 11256.519999999999|7.065333049585018E-4|0.012998510321344968|               1.0|    3264.0|1.2254901960784315|               6|2017-02-24|2017-02-24|                  0|\n",
      "|1215| RMLS|                995|        995 6th St E|         6th|     55106|             MN|STP - Saint Paul|       125000.0|2017-02-25| 119000.0|Exclusive Right|           129900|    130.3441|         580.0|               Other|       D3|           40x133|      625 - St. Paul|          88|5/26/2017 0:00|         0|     13x9|Living Room, Dini...|                NULL|      Main|                No|                NULL|  21|Detached Garage, ...|          959.0| 840.0|      Main|    12x11|               840|   2017|       959|      NULL|     1900|  Residential-Single|(SF) One 1/2 Stories| 0.12|            Window|                NULL|            NULL|                NULL|     NULL|         Fiber Board|      NULL|      Main|    14x10| Separate/Formal D...|                Full|        1|        0|          0|                0|   SF|       1.0|Upper Level Full ...|    13x10|     Upper|     14x7|     Upper|     11x9|     Upper|     NULL|      NULL|     3.0|            0.0|    Not Assumable|             0|               No|              0.0|            5227.2|             4647.2|                 0.0|0.007058823529411765|               3.0|     959.0|1.0427528675703859|               7|2017-02-25|2017-02-24|                  1|\n",
      "|1443| RMLS|               1144|      1144 Jenks Ave|       Jenks|     55106|             MN|STP - Saint Paul|       144000.0|2017-02-25| 139900.0|Exclusive Right|           139900|    150.7853|         780.0|                NULL|       D3|           40x127|      625 - St. Paul|           3|3/24/2017 0:00|         0|     11x8|Living Room, Dini...|                NULL|      Main|                No|                NULL|   3|     Detached Garage|          955.0|1307.0|      Main|    18x11|              1640|   2016|       955|      NULL|     1925|  Residential-Single|      (SF) One Story| 0.12|           Central| Range, Refrigerator|            NULL|                NULL|     NULL|              Stucco|      NULL|      Main|     10x9| Separate/Formal D...|Full, Finished (L...|        1|        0|          0|                0|   SF|       1.0|                NULL|     15x8|      Main|     11x8|      Main|     11x9|      Main|     NULL|      NULL|     3.0|            0.0|             NULL|             0|          Unknown|            333.0|            5227.2|             4447.2|0.002380271622587...|0.009342387419585417|               3.0|     955.0|1.0471204188481675|               7|2017-02-25|2017-02-25|                  0|\n",
      "|1592| RMLS|                851|   851 Tuscarora Ave|   Tuscarora|     55102|             MN|STP - Saint Paul|       135000.0|2017-02-25| 150000.0|Exclusive Right|           150000|     81.3253|        1286.0|                NULL|       E2|           40x120|      625 - St. Paul|           0|3/14/2017 0:00|         0|     NULL|Living Room, Dini...| Age 8 Years or Less|      Main|                No|                NULL|   0|               Other|         1660.0|1757.0|      Main|    12x11|              2090|   2016|      1660|      NULL|     1922|  Residential-Single|    (SF) Two Stories| 0.11|           Central| Range, Refrigerator|            NULL|                NULL|     NULL|              Stucco|      NULL|      Main|    12x11|                 NULL|                Full|        2|        1|          0|                0|   SF|       3.0|Main Floor Full B...|    11x11|      Main|    11x11|      Main|    11x10|      Main|    10x10|     Upper|     5.0|            0.0|             NULL|             0|              Yes|           109.98|            4791.6| 3505.6000000000004|            7.332E-4|0.011713333333333333|1.6666666666666667|    1660.0|1.8072289156626506|               7|2017-02-25|2017-02-25|                  0|\n",
      "|3023| RMLS|               1907|  1907 Chelton Ave W|     Chelton|     55104|             MN|STP - Saint Paul|       254900.0|2017-02-25| 249900.0|Exclusive Right|           249900|    169.9333|         772.0|          Chain Link|       C3|           42x144|      625 - St. Paul|           2|4/20/2017 0:00|         0|    14x12|Living Room, Dini...|Asphalt Shingles,...|      Main|                No|                NULL|   2|     Detached Garage|         1500.0|1689.0|      Main|     12x9|              2174|   2016|      1500|      NULL|     1901|  Residential-Single|    (SF) Two Stories| 0.15|           Central|Range, Microwave,...|            NULL|   Family Room, Loft|    10x10|               Other|     Upper|      Main|    12x12| Separate/Formal D...|                Full|        1|        0|          0|                1|   SF|       2.0|Main Floor Full B...|     8x11|     Upper|    11x11|     Upper|    11x13|     Upper|    11x11|      Main|     4.0|            0.0|    Not Assumable|             0|              Yes|           484.82|            6534.0|             5762.0|0.001940056022408...|0.006758703481392557|               2.0|    1500.0|1.3333333333333333|               7|2017-02-25|2017-02-25|                  0|\n",
      "|3501| RMLS|               2213|     2213 Emerald Ln|     Emerald|     55119|             MN|STP - Saint Paul|       345000.0|2017-02-25| 350000.0|Exclusive Right|           350000|    124.4589|         902.0|                NULL|       B2|   54x130x168x171|      625 - St. Paul|          60|4/26/2017 0:00|         2|    14x11|Living Room, Dini...|Asphalt Shingles,...|      Main|                No|                NULL|  60|Attached Garage, ...|         1914.0|4538.0|      Main|  23x17.3|              4538|   2016|      2772|      NULL|     1999|  Residential-Single|    (SF) Two Stories| 0.34|           Central|Range, Microwave,...|            NULL|Main Level, Lower...|  35x24.6|  Vinyl, Brick/Stone|     Lower|      Main| 17.3x9.3| Separate/Formal D...|Walkout, Full, Fi...|        2|        1|          0|                1|   SF|       4.0|Main Floor 1/2 Ba...|15.6x13.3|     Upper|  12.9x11|     Upper|  12.6x10|     Upper|     NULL|      NULL|     3.0|          858.0|    Not Assumable|             0|               No|              0.0|14810.400000000001| 13908.400000000001|                 0.0|0.012965714285714285|              0.75|    2772.0| 1.443001443001443|               7|2017-02-25|2017-02-25|                  0|\n",
      "|4544| RMLS|                805|  805 Spring Hill Dr| Spring Hill|     55125|             MN|   WB - Woodbury|       341000.0|2017-02-25| 339900.0|Exclusive Right|           324900|    125.7375|        1558.0|                None|       E1|           81x145|622 - North St Pa...|           7| 3/4/2017 0:00|         2|    10x10|Living Room, Dini...|Asphalt Shingles,...|      Main|                No|                NULL|   0|Attached Garage, ...|         1558.0|3478.0|      Main|    16x15|              3478|   2017|      2712|      NULL|     1992|  Residential-Single|      (SF) One Story| 0.26|           Central|Range, Cooktop, M...|            NULL|         Lower Level|    18x17|               Vinyl|      Main|      Main|    10x10| Informal Dining Room|Walkout, Full, Fi...|        2|        0|          0|                1|   SF|       3.0|Main Floor Full B...|    15x13|      Main|     12x9|      Main|    11x11|      Main|     17x9|     Lower|     4.0|         1154.0|    Not Assumable|           207|               No|              0.0|           11325.6|             9767.6|                 0.0|0.010232421300382466|1.3333333333333333|    2712.0|1.1061946902654867|               7|2017-02-25|2017-02-25|                  0|\n",
      "+----+-----+-------------------+--------------------+------------+----------+---------------+----------------+---------------+----------+---------+---------------+-----------------+------------+--------------+--------------------+---------+-----------------+--------------------+------------+--------------+----------+---------+--------------------+--------------------+----------+------------------+--------------------+----+--------------------+---------------+------+----------+---------+------------------+-------+----------+----------+---------+--------------------+--------------------+-----+------------------+--------------------+----------------+--------------------+---------+--------------------+----------+----------+---------+---------------------+--------------------+---------+---------+-----------+-----------------+-----+----------+--------------------+---------+----------+---------+----------+---------+----------+---------+----------+--------+---------------+-----------------+--------------+-----------------+-----------------+------------------+-------------------+--------------------+--------------------+------------------+----------+------------------+----------------+----------+----------+-------------------+\n",
      "only showing top 20 rows\n",
      "\n"
     ]
    }
   ],
   "source": [
    "from pyspark.sql.functions import lag, datediff, to_date\n",
    "from pyspark.sql.window import Window\n",
    "\n",
    "# Cast data type\n",
    "mort_df = df.withColumn('DATE', to_date('LISTDATE'))\n",
    "\n",
    "# Create window\n",
    "w = Window().orderBy('DATE')\n",
    "# Create lag column\n",
    "mort_df = mort_df.withColumn('DATE-1', lag('DATE', 1).over(w))\n",
    "\n",
    "# Calculate difference between date columns\n",
    "mort_df = mort_df.withColumn('Days_Between_Report', datediff('DATE', 'DATE-1'))\n",
    "# Print results\n",
    "mort_df.show()"
   ]
  },
  {
   "cell_type": "markdown",
   "metadata": {},
   "source": [
    "# Extracting Text to New Features"
   ]
  },
  {
   "cell_type": "markdown",
   "metadata": {},
   "source": [
    "Garages are an important consideration for houses in Minnesota where most people own a car and the snow is annoying to clear off a car parked outside. The type of garage is also important, can you get to your car without braving the cold or not? Let's look at creating a feature"
   ]
  },
  {
   "cell_type": "code",
   "execution_count": 10,
   "metadata": {},
   "outputs": [
    {
     "name": "stdout",
     "output_type": "stream",
     "text": [
      "+------------------------------------------------------------------+-------------------+\n",
      "|                                                 GARAGEDESCRIPTION|has_attached_garage|\n",
      "+------------------------------------------------------------------+-------------------+\n",
      "|                                                   Attached Garage|                  1|\n",
      "|           Attached Garage, Driveway - Asphalt, Garage Door Opener|                  1|\n",
      "|                                                   Attached Garage|                  1|\n",
      "|    Attached Garage, Detached Garage, Tuckunder, Driveway - Gravel|                  1|\n",
      "|           Attached Garage, Driveway - Asphalt, Garage Door Opener|                  1|\n",
      "|                               Attached Garage, Driveway - Asphalt|                  1|\n",
      "|           Attached Garage, Driveway - Asphalt, Garage Door Opener|                  1|\n",
      "|                                                   Attached Garage|                  1|\n",
      "|                                                   Attached Garage|                  1|\n",
      "|                                                   Attached Garage|                  1|\n",
      "|                                                   Attached Garage|                  1|\n",
      "|                                                   Attached Garage|                  1|\n",
      "|                                                   Attached Garage|                  1|\n",
      "|           Attached Garage, Driveway - Asphalt, Garage Door Opener|                  1|\n",
      "|Attached Garage, Tuckunder, Driveway - Asphalt, Garage Door Opener|                  1|\n",
      "|           Attached Garage, Driveway - Asphalt, Garage Door Opener|                  1|\n",
      "|           Attached Garage, Driveway - Asphalt, Garage Door Opener|                  1|\n",
      "|           Attached Garage, Driveway - Asphalt, Garage Door Opener|                  1|\n",
      "|           Attached Garage, Driveway - Asphalt, Garage Door Opener|                  1|\n",
      "|           Attached Garage, Driveway - Asphalt, Garage Door Opener|                  1|\n",
      "+------------------------------------------------------------------+-------------------+\n",
      "only showing top 20 rows\n",
      "\n"
     ]
    }
   ],
   "source": [
    "# Import needed functions\n",
    "from pyspark.sql.functions import when\n",
    "\n",
    "# Create boolean conditions for string matches\n",
    "has_attached_garage = df['GARAGEDESCRIPTION'].like('%Attached%Garage%')\n",
    "has_detached_garage = df['GARAGEDESCRIPTION'].like('%Detached%Garage%')\n",
    "\n",
    "# Conditional value assignment \n",
    "df = df.withColumn('has_attached_garage', (when(has_attached_garage, 1)\n",
    "                                          .when(has_detached_garage, 0)\n",
    "                                          .otherwise(None)))\n",
    "\n",
    "# Inspect results\n",
    "df[['GARAGEDESCRIPTION', 'has_attached_garage']].show(truncate=100)"
   ]
  },
  {
   "cell_type": "markdown",
   "metadata": {},
   "source": [
    "# Splitting & Exploding"
   ]
  },
  {
   "cell_type": "markdown",
   "metadata": {},
   "source": [
    "Being able to take a compound field like GARAGEDESCRIPTION and massaging it into something useful is an involved process. It's helpful to understand early what value you might gain out of expanding it. In this example, we will convert our string to a list-like array, explode it and then inspect the unique values."
   ]
  },
  {
   "cell_type": "code",
   "execution_count": 11,
   "metadata": {},
   "outputs": [
    {
     "name": "stdout",
     "output_type": "stream",
     "text": [
      "+-----------------------------+\n",
      "|               ex_garage_list|\n",
      "+-----------------------------+\n",
      "|       On-Street Parking Only|\n",
      "|              Attached Garage|\n",
      "|        Contract Pkg Required|\n",
      "|                      Covered|\n",
      "|       On-Street Parking Only|\n",
      "|                         None|\n",
      "|                    Tuckunder|\n",
      "|                      Carport|\n",
      "| More Parking Offsite for Fee|\n",
      "|  More Parking Onsite for Fee|\n",
      "|                        Other|\n",
      "|            Driveway - Shared|\n",
      "|           Garage Door Opener|\n",
      "|  More Parking Onsite for Fee|\n",
      "|            Driveway - Gravel|\n",
      "|           Driveway - Asphalt|\n",
      "|                Heated Garage|\n",
      "|            Driveway - Gravel|\n",
      "|        Valet Parking for Fee|\n",
      "|               Uncovered/Open|\n",
      "|                Heated Garage|\n",
      "|    No Int Access to Dwelling|\n",
      "|           Garage Door Opener|\n",
      "|           Underground Garage|\n",
      "|                        Other|\n",
      "|                   Units Vary|\n",
      "|                   Unassigned|\n",
      "|        Valet Parking for Fee|\n",
      "|          Driveway - Concrete|\n",
      "|             Insulated Garage|\n",
      "| More Parking Offsite for Fee|\n",
      "|     Driveway - Other Surface|\n",
      "|     Driveway - Other Surface|\n",
      "|        Contract Pkg Required|\n",
      "|                      Carport|\n",
      "|                      Secured|\n",
      "|              Detached Garage|\n",
      "|                      Secured|\n",
      "|              Detached Garage|\n",
      "|           Driveway - Asphalt|\n",
      "|           Underground Garage|\n",
      "|                       Tandem|\n",
      "|                     Assigned|\n",
      "|                   Unassigned|\n",
      "|                    Tuckunder|\n",
      "|               Uncovered/Open|\n",
      "|                      Covered|\n",
      "|             Insulated Garage|\n",
      "|          Driveway - Concrete|\n",
      "|                       Tandem|\n",
      "|                     Assigned|\n",
      "|            Driveway - Shared|\n",
      "+-----------------------------+\n",
      "\n"
     ]
    }
   ],
   "source": [
    "# Import needed functions\n",
    "from pyspark.sql.functions import split, explode\n",
    "\n",
    "# Convert string to list-like array\n",
    "df = df.withColumn('garage_list', split('GARAGEDESCRIPTION', ','))\n",
    "\n",
    "# Explode the values into new records\n",
    "ex_df = df.withColumn('ex_garage_list', explode('garage_list'))\n",
    "\n",
    "# Inspect the values\n",
    "ex_df[['ex_garage_list']].distinct().show(100, truncate=50)"
   ]
  },
  {
   "cell_type": "markdown",
   "metadata": {},
   "source": [
    "# Pivot & Join"
   ]
  },
  {
   "cell_type": "markdown",
   "metadata": {},
   "source": [
    "Being able to explode and pivot a compound field is great, but you are left with a dataframe of only those pivoted values. To really be valuable you'll need to rejoin it to the original dataset! After joining the datasets we will have a lot of NULL values for the newly created columns since we know the context of how they were created we can safely fill them in with zero as either the new has an attribute or it doesn't."
   ]
  },
  {
   "cell_type": "code",
   "execution_count": 12,
   "metadata": {},
   "outputs": [
    {
     "name": "stdout",
     "output_type": "stream",
     "text": [
      "+---+-----+-------------------+--------------------+----------+----------+---------------+----------------+---------------+----------+---------+---------------+-----------------+------------+--------------+-----+---------+-----------------+--------------------+------------+---------------+----------+---------+--------------------+--------------------+----------+------------------+---------------+----+--------------------+---------------+------+----------+---------+------------------+-------+----------+----------+---------+------------------+--------------------+-----+------------------+--------------------+----------------+--------------+---------+--------+----------+----------+---------+---------------------+--------------------+---------+---------+-----------+-----------------+-----+----------+--------------------+---------+----------+---------+----------+---------+----------+---------+----------+--------+---------------+-----------------+--------------+-----------------+-----------------+-------------+---------+----------------+--------------------+------------------+----------+------------------+----------------+-------------------+--------------------+---------------+------------+\n",
      "| NO|MLSID|StreetNumberNumeric|       streetaddress|STREETNAME|PostalCode|StateOrProvince|            City|SalesClosePrice|  LISTDATE|LISTPRICE|       LISTTYPE|OriginalListPrice|PricePerTSFT|FOUNDATIONSIZE|FENCE|MapLetter|LotSizeDimensions|SchoolDistrictNumber|DAYSONMARKET|  offmarketdate|Fireplaces|RoomArea4|            roomtype|                ROOF|RoomFloor4|PotentialShortSale|PoolDescription|PDOM|   GarageDescription|SQFTABOVEGROUND| Taxes|RoomFloor1|RoomArea1|TAXWITHASSESSMENTS|TAXYEAR|LivingArea|UNITNUMBER|YEARBUILT|            ZONING|               STYLE|ACRES|CoolingDescription|          APPLIANCES|backonmarketdate|ROOMFAMILYCHAR|RoomArea3|EXTERIOR|RoomFloor3|RoomFloor2|RoomArea2|DiningRoomDescription|            BASEMENT|BathsFull|BathsHalf|BATHQUARTER|BATHSTHREEQUARTER|Class|BATHSTOTAL|            BATHDESC|RoomArea5|RoomFloor5|RoomArea6|RoomFloor6|RoomArea7|RoomFloor7|RoomArea8|RoomFloor8|Bedrooms|SQFTBELOWGROUND|AssumableMortgage|AssociationFee|ASSESSMENTPENDING|AssessedValuation|LOT_SIZE_SQFT|YARD_SIZE|ASSESSED_TO_LIST|         TAX_TO_LIST|      BED_TO_BATHS|Total_SQFT|BATHS_PER_1000SQFT|List_Day_of_Week|has_attached_garage|         garage_list| ex_garage_list|constant_val|\n",
      "+---+-----+-------------------+--------------------+----------+----------+---------------+----------------+---------------+----------+---------+---------------+-----------------+------------+--------------+-----+---------+-----------------+--------------------+------------+---------------+----------+---------+--------------------+--------------------+----------+------------------+---------------+----+--------------------+---------------+------+----------+---------+------------------+-------+----------+----------+---------+------------------+--------------------+-----+------------------+--------------------+----------------+--------------+---------+--------+----------+----------+---------+---------------------+--------------------+---------+---------+-----------+-----------------+-----+----------+--------------------+---------+----------+---------+----------+---------+----------+---------+----------+--------+---------------+-----------------+--------------+-----------------+-----------------+-------------+---------+----------------+--------------------+------------------+----------+------------------+----------------+-------------------+--------------------+---------------+------------+\n",
      "|  1| RMLS|              11511|11511 Stillwater ...|Stillwater|     55042|             MN|LELM - Lake Elmo|       143000.0|2017-07-15| 139900.0|Exclusive Right|           139900|    145.9184|         980.0|Other|       C4|          279X200|    834 - Stillwater|          10| 7/30/2017 0:00|         0|  12 x  9|Living Room, Dini...|                NULL|      Main|                No|           NULL|  10|     Attached Garage|          980.0|1858.0|      Main|  16 x 13|              1858|   2017|       980|      NULL|     1950|Residential-Single|      (SF) One Story| 1.28|           Central|Range, Dishwasher...|            NULL|          NULL|     NULL|   Vinyl|      NULL|      Main|   9 x  7|       Eat In Kitchen|                Full|        1|        1|          0|                0|   SF|       2.0|Main Floor 3/4 Ba...|  13 x 11|      Main|  10 x 10|      Main|     NULL|      NULL|     NULL|      NULL|     3.0|            0.0|             NULL|             0|          Unknown|              0.0|      55756.8|  54776.8|             0.0|0.013280914939242315|               1.5|     980.0|2.0408163265306123|               7|                  1|   [Attached Garage]|Attached Garage|           1|\n",
      "|  2| RMLS|              11200|     11200 31st St N|      31st|     55042|             MN|LELM - Lake Elmo|       190000.0|2017-10-09| 210000.0|Exclusive Right|           210000|     85.2783|        1144.0| NULL|       C1|          100x140|    834 - Stillwater|           4|10/13/2017 0:00|         0|    11x11|Living Room, Dini...|Asphalt Shingles,...|      Main|                No|           NULL|   4|Attached Garage, ...|         1268.0|1640.0|      Main|    22x14|              1640|   2017|      2228|      NULL|     1971|Residential-Single|(SF) Split Entry ...| 0.32|           Central|Range, Microwave,...|            NULL|   Lower Level|    22x14|   Vinyl|     Lower|      Main|    11x12| Informal Dining R...|Full, Partial Fin...|        1|        0|          0|                2|   SF|       3.0|Main Floor Full B...|    15x11|      Main|    14x11|      Main|    10x11|      Main|    11x11|     Lower|     4.0|          960.0|             NULL|             0|          Unknown|              0.0|      13939.2|  12795.2|             0.0| 0.00780952380952381|1.3333333333333333|    2228.0|1.3464991023339317|               2|                  1|[Attached Garage,...|Attached Garage|           1|\n",
      "+---+-----+-------------------+--------------------+----------+----------+---------------+----------------+---------------+----------+---------+---------------+-----------------+------------+--------------+-----+---------+-----------------+--------------------+------------+---------------+----------+---------+--------------------+--------------------+----------+------------------+---------------+----+--------------------+---------------+------+----------+---------+------------------+-------+----------+----------+---------+------------------+--------------------+-----+------------------+--------------------+----------------+--------------+---------+--------+----------+----------+---------+---------------------+--------------------+---------+---------+-----------+-----------------+-----+----------+--------------------+---------+----------+---------+----------+---------+----------+---------+----------+--------+---------------+-----------------+--------------+-----------------+-----------------+-------------+---------+----------------+--------------------+------------------+----------+------------------+----------------+-------------------+--------------------+---------------+------------+\n",
      "only showing top 2 rows\n",
      "\n"
     ]
    }
   ],
   "source": [
    "from pyspark.sql.functions import lit,col\n",
    "from pyspark.sql.types import IntegerType\n",
    "ex_df = ex_df.withColumn('constant_val', lit(1))\n",
    "ex_df = ex_df.withColumnRenamed('No.','NO')\n",
    "ex_df = ex_df.withColumn('NO', col('NO').cast(IntegerType()))\n",
    "df = df.withColumnRenamed('No.','NO')\n",
    "df = df.withColumn('NO', col('NO').cast(IntegerType()))\n",
    "\n",
    "ex_df.show(2)"
   ]
  },
  {
   "cell_type": "code",
   "execution_count": 13,
   "metadata": {},
   "outputs": [],
   "source": [
    "from pyspark.sql.functions import coalesce, first\n",
    "\n",
    "# Pivot \n",
    "piv_df = ex_df.groupBy('NO').pivot('ex_garage_list').agg(coalesce(first('constant_val')))\n",
    "\n",
    "# Join the dataframes together and fill null\n",
    "joined_df = df.join(piv_df, on='NO', how='left')\n",
    "\n",
    "# Columns to zero fill\n",
    "zfill_cols = piv_df.columns\n",
    "\n",
    "# Zero fill the pivoted values\n",
    "zfilled_df = joined_df.fillna(0, subset=zfill_cols)"
   ]
  },
  {
   "cell_type": "markdown",
   "metadata": {},
   "source": [
    "# Binarizing Day of Week"
   ]
  },
  {
   "cell_type": "markdown",
   "metadata": {},
   "source": [
    "Let's create a new field that says if the house is listed for sale on a weekday or not. In this example there is a field called List_Day_of_Week that has Monday is labeled 1.0 and Sunday is 7.0. Let's convert this to a binary field with weekday being 0 and weekend being 1. We can use the pyspark feature transformer Binarizer to do this."
   ]
  },
  {
   "cell_type": "code",
   "execution_count": 15,
   "metadata": {},
   "outputs": [
    {
     "name": "stdout",
     "output_type": "stream",
     "text": [
      "+----------------+-----------------+\n",
      "|List_Day_of_Week|Listed_On_Weekend|\n",
      "+----------------+-----------------+\n",
      "|             7.0|              1.0|\n",
      "|             2.0|              0.0|\n",
      "|             2.0|              0.0|\n",
      "|             6.0|              1.0|\n",
      "|             3.0|              0.0|\n",
      "|             2.0|              0.0|\n",
      "|             5.0|              0.0|\n",
      "|             1.0|              0.0|\n",
      "|             5.0|              0.0|\n",
      "|             7.0|              1.0|\n",
      "|             6.0|              1.0|\n",
      "|             5.0|              0.0|\n",
      "|             1.0|              0.0|\n",
      "|             2.0|              0.0|\n",
      "|             5.0|              0.0|\n",
      "|             1.0|              0.0|\n",
      "|             1.0|              0.0|\n",
      "|             6.0|              1.0|\n",
      "|             7.0|              1.0|\n",
      "|             6.0|              1.0|\n",
      "+----------------+-----------------+\n",
      "only showing top 20 rows\n",
      "\n"
     ]
    }
   ],
   "source": [
    "# Import transformer\n",
    "from pyspark.ml.feature import Binarizer\n",
    "from pyspark.sql.types import DoubleType\n",
    "\n",
    "df = df.withColumn('List_Day_of_Week', col('List_Day_of_Week').cast(DoubleType()))\n",
    "# Create the transformer\n",
    "binarizer = Binarizer(threshold=5.0, inputCol='List_Day_of_Week', outputCol='Listed_On_Weekend')\n",
    "\n",
    "# Apply the transformation to df\n",
    "df = binarizer.transform(df)\n",
    "\n",
    "# Verify transformation\n",
    "df[['List_Day_of_Week' , 'Listed_On_Weekend']].show()"
   ]
  },
  {
   "cell_type": "markdown",
   "metadata": {},
   "source": [
    "# Bucketing"
   ]
  },
  {
   "cell_type": "markdown",
   "metadata": {},
   "source": [
    "If you are a homeowner its very important if a house has 1, 2, 3 or 4 bedrooms. But like bathrooms, once you hit a certain point you don't really care whether the house has 7 or 8. This example we'll look at how to figure out where are some good value points to bucket."
   ]
  },
  {
   "cell_type": "code",
   "execution_count": 23,
   "metadata": {},
   "outputs": [
    {
     "data": {
      "text/plain": [
       "dtype('float64')"
      ]
     },
     "execution_count": 23,
     "metadata": {},
     "output_type": "execute_result"
    }
   ],
   "source": [
    "sample_df = df.select('Bedrooms').sample(withReplacement=False, fraction=0.5,seed=42).toPandas()\n",
    "sample_df['Bedrooms'].dtypes"
   ]
  },
  {
   "cell_type": "code",
   "execution_count": 24,
   "metadata": {},
   "outputs": [
    {
     "name": "stderr",
     "output_type": "stream",
     "text": [
      "c:\\Users\\88016\\anaconda3\\envs\\env_py\\lib\\site-packages\\seaborn\\distributions.py:2619: FutureWarning: `distplot` is a deprecated function and will be removed in a future version. Please adapt your code to use either `displot` (a figure-level function with similar flexibility) or `histplot` (an axes-level function for histograms).\n",
      "  warnings.warn(msg, FutureWarning)\n"
     ]
    },
    {
     "data": {
      "image/png": "[encoded data removed]",
      "text/plain": [
       "<Figure size 432x288 with 1 Axes>"
      ]
     },
     "metadata": {
      "needs_background": "light"
     },
     "output_type": "display_data"
    },
    {
     "name": "stdout",
     "output_type": "stream",
     "text": [
      "+--------+--------+\n",
      "|Bedrooms|bedrooms|\n",
      "+--------+--------+\n",
      "|     3.0|     3.0|\n",
      "|     4.0|     4.0|\n",
      "|     2.0|     2.0|\n",
      "|     2.0|     2.0|\n",
      "|     3.0|     3.0|\n",
      "|     3.0|     3.0|\n",
      "|     3.0|     3.0|\n",
      "|     3.0|     3.0|\n",
      "|     3.0|     3.0|\n",
      "|     3.0|     3.0|\n",
      "|     3.0|     3.0|\n",
      "|     3.0|     3.0|\n",
      "|     3.0|     3.0|\n",
      "|     3.0|     3.0|\n",
      "|     2.0|     2.0|\n",
      "|     3.0|     3.0|\n",
      "|     3.0|     3.0|\n",
      "|     3.0|     3.0|\n",
      "|     3.0|     3.0|\n",
      "|     3.0|     3.0|\n",
      "+--------+--------+\n",
      "only showing top 20 rows\n",
      "\n"
     ]
    }
   ],
   "source": [
    "from pyspark.ml.feature import Bucketizer\n",
    "\n",
    "# Plot distribution of sample_df\n",
    "sns.distplot(sample_df, axlabel='Bedrooms')\n",
    "plt.show()\n",
    "\n",
    "# Create the bucket splits and bucketizer\n",
    "splits = [0,1, 2, 3, 4, 5,  float('Inf')]\n",
    "buck = Bucketizer(splits=splits, inputCol='Bedrooms', outputCol='bedrooms')\n",
    "\n",
    "# Apply the transformation to df: df_bucket\n",
    "df_bucket = buck.transform(df)\n",
    "\n",
    "# Display results\n",
    "df_bucket[['Bedrooms', 'bedrooms']].show()"
   ]
  },
  {
   "cell_type": "markdown",
   "metadata": {},
   "source": [
    "# One Hot Encoding"
   ]
  },
  {
   "cell_type": "markdown",
   "metadata": {},
   "source": [
    "In the United States where you live determines which schools your kids can attend. Therefore it's understandable that many people care deeply about which school districts their future home will be in. While the school districts are numbered in SCHOOLDISTRICTNUMBER they are really categorical. Meaning that summing or averaging these values has no apparent meaning. Therefore in this example we will convert SCHOOLDISTRICTNUMBER from a categorial variable into a numeric vector to use in our machine learning model later."
   ]
  },
  {
   "cell_type": "code",
   "execution_count": 26,
   "metadata": {},
   "outputs": [
    {
     "name": "stdout",
     "output_type": "stream",
     "text": [
      "+-----------------------------+------------+-------------+\n",
      "|         SchoolDistrictNumber|School_Index|   School_Vec|\n",
      "+-----------------------------+------------+-------------+\n",
      "|             834 - Stillwater|         3.0|(7,[3],[1.0])|\n",
      "|             834 - Stillwater|         3.0|(7,[3],[1.0])|\n",
      "|622 - North St Paul-Maplewood|         1.0|(7,[1],[1.0])|\n",
      "|             834 - Stillwater|         3.0|(7,[3],[1.0])|\n",
      "|622 - North St Paul-Maplewood|         1.0|(7,[1],[1.0])|\n",
      "|             834 - Stillwater|         3.0|(7,[3],[1.0])|\n",
      "|             834 - Stillwater|         3.0|(7,[3],[1.0])|\n",
      "|             834 - Stillwater|         3.0|(7,[3],[1.0])|\n",
      "|             834 - Stillwater|         3.0|(7,[3],[1.0])|\n",
      "|             834 - Stillwater|         3.0|(7,[3],[1.0])|\n",
      "|             834 - Stillwater|         3.0|(7,[3],[1.0])|\n",
      "|             834 - Stillwater|         3.0|(7,[3],[1.0])|\n",
      "|             834 - Stillwater|         3.0|(7,[3],[1.0])|\n",
      "|             834 - Stillwater|         3.0|(7,[3],[1.0])|\n",
      "|             834 - Stillwater|         3.0|(7,[3],[1.0])|\n",
      "|             834 - Stillwater|         3.0|(7,[3],[1.0])|\n",
      "|             834 - Stillwater|         3.0|(7,[3],[1.0])|\n",
      "|             834 - Stillwater|         3.0|(7,[3],[1.0])|\n",
      "|             834 - Stillwater|         3.0|(7,[3],[1.0])|\n",
      "|             834 - Stillwater|         3.0|(7,[3],[1.0])|\n",
      "+-----------------------------+------------+-------------+\n",
      "only showing top 20 rows\n",
      "\n"
     ]
    }
   ],
   "source": [
    "from pyspark.ml.feature import OneHotEncoder, StringIndexer\n",
    "\n",
    "# Map strings to numbers with string indexer\n",
    "string_indexer = StringIndexer(inputCol='SchoolDistrictNumber', outputCol='School_Index')\n",
    "indexed_df = string_indexer.fit(df).transform(df)\n",
    "\n",
    "# Onehot encode indexed values\n",
    "encoder = OneHotEncoder(inputCol='School_Index', outputCol='School_Vec')\n",
    "encoded_df = encoder.fit(indexed_df).transform(indexed_df)\n",
    "\n",
    "# Inspect the transformation steps\n",
    "encoded_df[['SchoolDistrictNumber', 'School_Index', 'School_Vec']].show(truncate=100)"
   ]
  }
 ],
 "metadata": {
  "kernelspec": {
   "display_name": "env_py",
   "language": "python",
   "name": "python3"
  },
  "language_info": {
   "codemirror_mode": {
    "name": "ipython",
    "version": 3
   },
   "file_extension": ".py",
   "mimetype": "text/x-python",
   "name": "python",
   "nbconvert_exporter": "python",
   "pygments_lexer": "ipython3",
   "version": "3.8.11"
  }
 },
 "nbformat": 4,
 "nbformat_minor": 2
}
