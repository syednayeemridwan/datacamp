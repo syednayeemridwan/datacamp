{
 "cells": [
  {
   "cell_type": "markdown",
   "metadata": {},
   "source": [
    "# Chapter 1"
   ]
  },
  {
   "cell_type": "markdown",
   "metadata": {},
   "source": [
    "### pyspark visualization"
   ]
  },
  {
   "cell_type": "markdown",
   "metadata": {},
   "source": [
    "```\n",
    "# Create a pandas dataframe from pyspark dataframe for visualization\n",
    "sample_df = large_df.sample(withReplacement = False, fraction=0.3, seed=42) # randomly sample from pyspark dataframe\n",
    "sample_pandas_df = sample_df.toPandas() # Convert to pandas dataframe\n",
    "sns.histplot(sample_pandas_df[numeric_column], kde=True, color='skyblue') # See distribution plot\n",
    "\n",
    "\n",
    "\n",
    "```"
   ]
  },
  {
   "cell_type": "code",
   "execution_count": null,
   "metadata": {},
   "outputs": [],
   "source": []
  }
 ],
 "metadata": {
  "language_info": {
   "name": "python"
  }
 },
 "nbformat": 4,
 "nbformat_minor": 2
}
