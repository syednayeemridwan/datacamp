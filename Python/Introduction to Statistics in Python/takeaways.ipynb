{
 "cells": [
  {
   "cell_type": "markdown",
   "metadata": {},
   "source": [
    "# Chapter 1"
   ]
  },
  {
   "cell_type": "markdown",
   "metadata": {},
   "source": [
    "Statistics is a branch of mathematics dealing with the  collection, analysis, interpretation, and presentation of  numerical or quantitative data. 2 Types of statistics\n",
    "1) Descriptive : \n",
    "\t- Summarized information about sample\n",
    "    - Describes the dataset / sample\n",
    "    - Examples: Central tendencies, Dispersion or variation, Skewness\n",
    "2) Inferential : \n",
    "\t- Making generalizations (Inference) about population\n",
    "    - Helps to infer unknown parameters of populations (population mean, population variance etc)\n",
    "    - Examples: Hypothesis testing, Confidence Interval, Regression Analysis"
   ]
  },
  {
   "cell_type": "markdown",
   "metadata": {},
   "source": [
    "### Measure of centre"
   ]
  },
  {
   "cell_type": "markdown",
   "metadata": {},
   "source": [
    "- Mean : \n",
    "    - Average of values\n",
    "    - Sensitive to outliers\n",
    "    - Outliers pull mean to a direction, which causes skewness\n",
    "    - Only good for symmetrical distribution\n",
    "- Median : \n",
    "    - Middle value of sorted data\n",
    "    - Non sensitive to outliers\n",
    "    - Good for non-symmetrical data\n",
    "- Mode : \n",
    "    - Most frequent value in a dataset\n",
    "    - points out the peak of a distribution"
   ]
  },
  {
   "cell_type": "markdown",
   "metadata": {},
   "source": [
    "### Measure of spread"
   ]
  },
  {
   "cell_type": "markdown",
   "metadata": {},
   "source": [
    "- Variance:\n",
    "    - average of each datapoint's distance from the mean\n",
    "    - the higher the variance, the more spread out the data is\n",
    "    - longer distances are penalized more (since square is used)\n",
    "- standard deviation\n",
    "    - Square root of the variance\n",
    "- Mean absolute deviation\n",
    "    - average of each datapoint's absolute distance from the mean\n",
    "    - penalizes each distance equally\n",
    "- Quantile or percentile\n",
    "    - separates the data into 100 equal parts"
   ]
  },
  {
   "cell_type": "markdown",
   "metadata": {},
   "source": [
    "- mode : `statistics.mode(df['col'])`\n",
    "- median : `statistics.median(df['col'])`\n",
    "- mean : `statistics.mean(df['col'])`\n",
    "- variance : `np.var(df['col'], ddof=1)`\n",
    "- standard deviation : `np.std(df['col'], ddof=1)`\n",
    "- quantile : `np.quantile(df['col'], [0, 0.25, 0.5, 0.75, 1])`\n",
    "- iqr : `scipy.stats.iqr(df['col'])`\n"
   ]
  },
  {
   "cell_type": "markdown",
   "metadata": {},
   "source": [
    "# Chapter 2"
   ]
  },
  {
   "cell_type": "markdown",
   "metadata": {},
   "source": [
    "### Chances"
   ]
  },
  {
   "cell_type": "markdown",
   "metadata": {},
   "source": [
    "- Probability : \n",
    "\t- Chance that an event will take place. \n",
    "    - formula : (no of ways an event can happen / total no of possible ways)\n",
    "    - Summation of area in a probability distribution graph\n",
    "- Expected value:\n",
    "\t- Mean of a probability distribution\n",
    "    - formula : sum of all (event no * probability)\n",
    "    - eg: Expected value of fair die: 1*(1/6) + 2*(1/6) + 3*(1/6) + 4*(1/6) + 5*(1/6) + 6*(1/6)\n",
    "    - Law of large numbers : As the size of your sample increases, the sample mean will approach the expected value.\n",
    "- Dependent event:\n",
    "    - Probability of second event is affected by the outcome of first event\n",
    "    - sampling with replacement\n",
    "    - eg : representative selection. we need 2 representatives from 10 people. when one representative is selected, we need to find the other representative from the remaining 9 people. Here, due to previous selection, the chance for each person being selected decreased.\n",
    "    - `df[\"col\"].sample(5, replace = False)`\n",
    "- Independent event:\n",
    "    - Probability of second event is not affected by the outcome of first event\n",
    "    - sampling without replacement\n",
    "    - eg: lottery. When a person wins the first price, it is not necessarily true that he will not also win the second price. He may also win the second price. The chance remains same for every winning place.\n",
    "    - `df[\"col\"].sample(5, replace = True)`"
   ]
  },
  {
   "cell_type": "markdown",
   "metadata": {},
   "source": [
    "### Distribution"
   ]
  },
  {
   "cell_type": "markdown",
   "metadata": {},
   "source": [
    "- uniform distribution:\n",
    "\n",
    "\t- all outcomes are equally likely outcome\n",
    "    - flat probability density function across the entire range.\n",
    "    \n",
    "- binomial distribution:\n",
    "\t- discrete probability distribution\n",
    "    - binary outcomes (success or failure)\n",
    "    - independent trials"
   ]
  },
  {
   "cell_type": "markdown",
   "metadata": {},
   "source": [
    "```\n",
    "# probability of happenning 7 or less in range 0 to 12 in a continuous uniform distribution \n",
    "from scipy.stats import uniform\n",
    "uniform.cdf(7, 0, 12)\n",
    "\n",
    "# probability of 7 or fewer success in 10 trials with 50% success rate in discrete distribution\n",
    "from scipy.stats import binom\n",
    "binom.cdf(7, 10, 0.5)\n",
    "# probability of exactly 7 success in 10 trials with 50% success rate\n",
    "binom.pmf(7, 10, 0.5)\n",
    "```"
   ]
  },
  {
   "cell_type": "markdown",
   "metadata": {},
   "source": [
    "### Random Values"
   ]
  },
  {
   "cell_type": "markdown",
   "metadata": {},
   "source": [
    "```\n",
    "# Generate 10 uniform random values between 0 to 5\n",
    "from scipy.stats import uniform\n",
    "uniform.rvs(0, 5, size=10)\n",
    "# Generate binomial random values\n",
    "from scipy.stats import binom\n",
    "binom.rvs(1, 0.5, size=8) # 1 coin, flip 8 times, probability of success 50%\n",
    "binom.rvs(8, 0.5, size=1) # 8 coins, flip 1 time, probability of success 50%\n",
    "binom.rvs(3, 0.5, size=10) # 3 coins, flip 10 times, probability of success 50%\n",
    "```"
   ]
  }
 ],
 "metadata": {
  "language_info": {
   "name": "python"
  }
 },
 "nbformat": 4,
 "nbformat_minor": 2
}
