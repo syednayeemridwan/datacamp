{
 "cells": [
  {
   "cell_type": "markdown",
   "metadata": {},
   "source": [
    "# Chapter 1"
   ]
  },
  {
   "cell_type": "markdown",
   "metadata": {},
   "source": [
    "Statistics is a branch of mathematics dealing with the  collection, analysis, interpretation, and presentation of  numerical or quantitative data. 2 Types of statistics\n",
    "1) Descriptive : \n",
    "\t- Summarized information about sample\n",
    "    - Describes the dataset / sample\n",
    "    - Examples: Central tendencies, Dispersion or variation, Skewness\n",
    "2) Inferential : \n",
    "\t- Making generalizations (Inference) about population\n",
    "    - Helps to infer unknown parameters of populations (population mean, population variance etc)\n",
    "    - Examples: Hypothesis testing, Confidence Interval, Regression Analysis"
   ]
  },
  {
   "cell_type": "markdown",
   "metadata": {},
   "source": [
    "### Measure of centre"
   ]
  },
  {
   "cell_type": "markdown",
   "metadata": {},
   "source": [
    "- Mean : \n",
    "    - Average of values\n",
    "    - Sensitive to outliers\n",
    "    - Outliers pull mean to a direction, which causes skewness\n",
    "    - Only good for symmetrical distribution\n",
    "- Median : \n",
    "    - Middle value of sorted data\n",
    "    - Non sensitive to outliers\n",
    "    - Good for non-symmetrical data\n",
    "- Mode : \n",
    "    - Most frequent value in a dataset\n",
    "    - points out the peak of a distribution"
   ]
  },
  {
   "cell_type": "markdown",
   "metadata": {},
   "source": [
    "### Measure of spread"
   ]
  },
  {
   "cell_type": "markdown",
   "metadata": {},
   "source": [
    "- Variance:\n",
    "    - average of each datapoint's distance from the mean\n",
    "    - the higher the variance, the more spread out the data is\n",
    "    - longer distances are penalized more (since square is used)\n",
    "- standard deviation\n",
    "    - Square root of the variance\n",
    "- Mean absolute deviation\n",
    "    - average of each datapoint's absolute distance from the mean\n",
    "    - penalizes each distance equally\n",
    "- Quantile or percentile\n",
    "    - separates the data into 100 equal parts"
   ]
  },
  {
   "cell_type": "markdown",
   "metadata": {},
   "source": [
    "- mode : `statistics.mode(df['col'])`\n",
    "- median : `statistics.median(df['col'])`\n",
    "- mean : `statistics.mean(df['col'])`\n",
    "- variance : `np.var(df['col'], ddof=1)`\n",
    "- standard deviation : `np.std(df['col'], ddof=1)`\n",
    "- quantile : `np.quantile(df['col'], [0, 0.25, 0.5, 0.75, 1])`\n",
    "- iqr : `scipy.stats.iqr(df['col'])`\n"
   ]
  },
  {
   "cell_type": "markdown",
   "metadata": {},
   "source": []
  }
 ],
 "metadata": {
  "language_info": {
   "name": "python"
  }
 },
 "nbformat": 4,
 "nbformat_minor": 2
}
