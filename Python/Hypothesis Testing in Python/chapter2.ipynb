{
 "cells": [
  {
   "cell_type": "markdown",
   "metadata": {},
   "source": [
    "# Hypothesis testing workflow"
   ]
  },
  {
   "cell_type": "markdown",
   "metadata": {},
   "source": [
    "You've seen the hypothesis testing workflow for the one sample case where you compared a sample mean to a hypothesized value, and the two sample case where you compared two sample means. In both cases, the workflow shares common steps."
   ]
  },
  {
   "cell_type": "markdown",
   "metadata": {},
   "source": [
    "<center><img src=\"images/02.01.png\"  style=\"width: 400px, height: 300px;\"/></center>"
   ]
  },
  {
   "cell_type": "markdown",
   "metadata": {},
   "source": [
    "# Two sample mean test statistic"
   ]
  },
  {
   "cell_type": "markdown",
   "metadata": {},
   "source": [
    "The hypothesis test for determining if there is a difference between the means of two populations uses a different type of test statistic to the z-scores you saw in Chapter 1. It's called \"t\". \n",
    "While trying to determine why some shipments are late, you may wonder if the weight of the shipments that were on time is less than the weight of the shipments that were late. The `late_shipments` dataset has been split into a \"`yes`\" group, where `late == \"Yes\"` and a \"`no`\" group where `late == \"No\"`. The weight of the shipment is given in the `weight_kilograms` variable"
   ]
  },
  {
   "cell_type": "code",
   "execution_count": 5,
   "metadata": {},
   "outputs": [
    {
     "name": "stdout",
     "output_type": "stream",
     "text": [
      "2.3936661778766433\n"
     ]
    }
   ],
   "source": [
    "import pandas as pd\n",
    "import numpy as np\n",
    "late_shipments = pd.read_feather(\"dataset/late_shipments.feather\")\n",
    "\n",
    "# Calculate the numerator of the test statistic\n",
    "yes = late_shipments[late_shipments[\"late\"] == \"Yes\"][\"weight_kilograms\"]\n",
    "no = late_shipments[late_shipments[\"late\"] == \"No\"][\"weight_kilograms\"]\n",
    "xbar_yes = yes.mean()\n",
    "xbar_no = no.mean()\n",
    "s_yes = yes.std()\n",
    "s_no = no.std()\n",
    "numerator = xbar_yes - xbar_no\n",
    "n_yes = len(yes)\n",
    "n_no = len(no)\n",
    "# Calculate the denominator of the test statistic\n",
    "denominator = np.sqrt(s_yes**2 /n_yes + s_no**2 /n_no )\n",
    "\n",
    "# Calculate the test statistic\n",
    "t_stat = numerator / denominator\n",
    "\n",
    "# Print the test statistic\n",
    "print(t_stat)"
   ]
  },
  {
   "cell_type": "code",
   "execution_count": 4,
   "metadata": {},
   "outputs": [
    {
     "data": {
      "text/plain": [
       "Index(['id', 'country', 'managed_by', 'fulfill_via', 'vendor_inco_term',\n",
       "       'shipment_mode', 'late_delivery', 'late', 'product_group',\n",
       "       'sub_classification', 'vendor', 'item_description',\n",
       "       'molecule_test_type', 'brand', 'dosage', 'dosage_form',\n",
       "       'unit_of_measure_per_pack', 'line_item_quantity', 'line_item_value',\n",
       "       'pack_price', 'unit_price', 'manufacturing_site',\n",
       "       'first_line_designation', 'weight_kilograms', 'freight_cost_usd',\n",
       "       'freight_cost_groups', 'line_item_insurance_usd'],\n",
       "      dtype='object')"
      ]
     },
     "execution_count": 4,
     "metadata": {},
     "output_type": "execute_result"
    }
   ],
   "source": [
    "late_shipments.columns"
   ]
  },
  {
   "cell_type": "markdown",
   "metadata": {},
   "source": [
    "# Why is t needed?"
   ]
  },
  {
   "cell_type": "markdown",
   "metadata": {},
   "source": [
    "The process for calculating p-values is to start with the sample statistic, standardize it to get a test statistic, then transform it via a cumulative distribution function. In Chapter 1, that final transformation was denoted \n",
    ", and the CDF transformation used the (standard normal) z-distribution. In the last video, the test statistic was denoted \n",
    ", and the transformation used the t-distribution.\n",
    "\n",
    "In which hypothesis testing scenario is a t-distribution needed instead of the z-distribution?"
   ]
  },
  {
   "cell_type": "markdown",
   "metadata": {},
   "source": [
    "- When a sample standard deviation is used in estimating a standard error."
   ]
  },
  {
   "cell_type": "markdown",
   "metadata": {},
   "source": [
    "# The t-distribution"
   ]
  },
  {
   "cell_type": "markdown",
   "metadata": {},
   "source": [
    "The t-distribution is used to calculate the p-value from the \n",
    " test statistic, and having a sense of how the PDF and CDF look can help you understand this calculation. It has two parameters: the degrees of freedom, and the non-centrality parameter.\n",
    "\n",
    "The plots show the PDF and CDF for a t-distribution (solid black line), and for comparison show a standard normal distribution with mean 0 and variance 1 (gray dotted line).\n",
    "\n",
    "Which statement about the the t-distribution is true?"
   ]
  },
  {
   "cell_type": "markdown",
   "metadata": {},
   "source": [
    "- As you increase the degrees of freedom, the t-distribution PDF and CDF curves get closer to those of a normal distribution."
   ]
  },
  {
   "cell_type": "markdown",
   "metadata": {},
   "source": [
    "# From t to p"
   ]
  },
  {
   "cell_type": "markdown",
   "metadata": {},
   "source": [
    "Previously, you calculated the test statistic for the two-sample problem of whether the mean weight of shipments is smaller for shipments that weren't late (`late == \"No\"`) compared to shipments that were late (`late == \"Yes\"`). In order to make decisions about it, you need to transform the test statistic with a cumulative distribution function to get a p-value.\n",
    "\n",
    "Recall the hypotheses:\n",
    "\n",
    "H0: The mean weight of shipments that weren't late is the same as the mean weight of shipments that were late.\n",
    "\n",
    "HA: The mean weight of shipments that weren't late is less than the mean weight of shipments that were late.\n",
    "\n",
    "The test statistic, `t_stat`, is available, as are the samples sizes for each group, `n_no` and `n_yes`. Use a significance level of `alpha = 0.05`."
   ]
  },
  {
   "cell_type": "markdown",
   "metadata": {},
   "source": [
    "- It is a left-tailed t-test"
   ]
  },
  {
   "cell_type": "code",
   "execution_count": 13,
   "metadata": {},
   "outputs": [
    {
     "name": "stdout",
     "output_type": "stream",
     "text": [
      "0.008432382146249523\n",
      "Reject the null\n"
     ]
    }
   ],
   "source": [
    "from scipy.stats import t\n",
    "# Calculate the degrees of freedom\n",
    "degrees_of_freedom = n_no + n_yes -2\n",
    "t_stat = -2.3936661778766433\n",
    "# Calculate the p-value from the test stat\n",
    "p_value = t.cdf(t_stat, df=degrees_of_freedom)\n",
    "\n",
    "# Print the p_value\n",
    "print(p_value)\n",
    "significance = 0.05\n",
    "if p_value< significance:\n",
    "  print(\"Reject the null\")\n",
    "else:\n",
    "    print(\"Fail to reject the null\")"
   ]
  },
  {
   "cell_type": "markdown",
   "metadata": {},
   "source": [
    "# Is pairing needed?"
   ]
  },
  {
   "cell_type": "markdown",
   "metadata": {},
   "source": [
    "t-tests are used to compare two sample means. However, the test involves different calculations depending upon whether the two samples are paired or not. To make sure you use the correct version of the t-test, you need to be able to identify pairing."
   ]
  },
  {
   "cell_type": "markdown",
   "metadata": {},
   "source": [
    "<center><img src=\"images/02.02.png\"  style=\"width: 400px, height: 300px;\"/></center>\n"
   ]
  },
  {
   "cell_type": "markdown",
   "metadata": {},
   "source": [
    "# Visualizing the difference"
   ]
  },
  {
   "cell_type": "markdown",
   "metadata": {},
   "source": [
    "Before you start running hypothesis tests, it's a great idea to perform some exploratory data analysis; that is, calculating summary statistics and visualizing distributions.\n",
    "\n",
    "Here, you'll look at the proportion of county-level votes for the Democratic candidate in 2012 and 2016, `sample_dem_data`. Since the counties are the same in both years, these samples are paired. The columns containing the samples are `dem_percent_12` and `dem_percent_16`."
   ]
  },
  {
   "cell_type": "code",
   "execution_count": 14,
   "metadata": {},
   "outputs": [
    {
     "data": {
      "text/plain": [
       "Index(['state', 'county', 'dem_percent_12', 'dem_percent_16'], dtype='object')"
      ]
     },
     "execution_count": 14,
     "metadata": {},
     "output_type": "execute_result"
    }
   ],
   "source": [
    "sample_dem_data = pd.read_feather(\"dataset/dem_votes_potus_12_16.feather\")\n",
    "sample_dem_data.columns"
   ]
  },
  {
   "cell_type": "code",
   "execution_count": 16,
   "metadata": {},
   "outputs": [
    {
     "data": {
      "image/png": "[encoded data removed]",
      "text/plain": [
       "<Figure size 432x288 with 1 Axes>"
      ]
     },
     "metadata": {
      "needs_background": "light"
     },
     "output_type": "display_data"
    }
   ],
   "source": [
    "import matplotlib.pyplot as plt\n",
    "# Calculate the differences from 2012 to 2016\n",
    "sample_dem_data['diff'] = sample_dem_data[\"dem_percent_12\"] - sample_dem_data[\"dem_percent_16\"]\n",
    "\n",
    "# Find the mean of the diff column\n",
    "xbar_diff = sample_dem_data['diff'].mean()\n",
    "\n",
    "# Find the standard deviation of the diff column\n",
    "s_diff = sample_dem_data['diff'].std()\n",
    "\n",
    "# Plot a histogram of diff with 20 bins\n",
    "sample_dem_data['diff'].hist( bins = 20)\n",
    "plt.show()"
   ]
  },
  {
   "cell_type": "markdown",
   "metadata": {},
   "source": [
    "# Using ttest()"
   ]
  },
  {
   "cell_type": "markdown",
   "metadata": {},
   "source": [
    "Manually calculating test statistics and transforming them with a CDF to get a p-value is a lot of effort to compare two sample means. The comparison of two sample means is called a t-test, and the `pingouin` Python package has a `.ttest()` method to accomplish it. This method provides some flexibility in how you perform the test.\n",
    "\n",
    "As in the previous exercise, you'll explore the difference between the proportion of county-level votes for the Democratic candidate in 2012 and 2016 to identify if the difference is significant. The hypotheses are as follows:\n",
    "\n",
    "H0: The proportion of democratic votes in 2012 and 2016 were the same. \n",
    "HA: The proportion of democratic votes in 2012 and 2016 were different."
   ]
  },
  {
   "cell_type": "code",
   "execution_count": 18,
   "metadata": {},
   "outputs": [],
   "source": [
    "# import pingouin\n",
    "# # Conduct a t-test on diff\n",
    "# test_results = pingouin.ttest(x=sample_dem_data['diff'],\n",
    "#                y=0,\n",
    "#                paired=False,\n",
    "#                alternative=\"two-sided\")\n",
    "\n",
    "# # Print the test results\n",
    "# print(test_results)"
   ]
  },
  {
   "cell_type": "code",
   "execution_count": 20,
   "metadata": {},
   "outputs": [],
   "source": [
    "\n",
    "# # Conduct a paired t-test on dem_percent_12 and dem_percent_16\n",
    "# paired_test_results = pingouin.ttest(x=sample_dem_data['dem_percent_12'], \n",
    "#                               y=sample_dem_data['dem_percent_16'],\n",
    "#                               paired = True, \n",
    "#                               alternative=\"two-sided\")\n",
    "\n",
    "# # Print the paired test results\n",
    "# print(paired_test_results)"
   ]
  },
  {
   "cell_type": "markdown",
   "metadata": {},
   "source": [
    "# Visualizing many categories"
   ]
  },
  {
   "cell_type": "markdown",
   "metadata": {},
   "source": [
    "So far in this chapter, we've only considered the case of differences in a numeric variable between two categories. Of course, many datasets contain more categories. Before you get to conducting tests on many categories, it's often helpful to perform exploratory data analysis (EDA), calculating summary statistics for each group and visualizing the distributions of the numeric variable for each category using box plots.\n",
    "\n",
    "Here, we'll return to the late shipments data, and how the price of each package (`pack_price`) varies between the three shipment modes (`shipment_mode`): \"`Air`\", \"`Air Charter`\", and \"`Ocean`\""
   ]
  },
  {
   "cell_type": "code",
   "execution_count": 21,
   "metadata": {},
   "outputs": [
    {
     "data": {
      "image/png": "[encoded data removed]",
      "text/plain": [
       "<Figure size 432x288 with 1 Axes>"
      ]
     },
     "metadata": {
      "needs_background": "light"
     },
     "output_type": "display_data"
    }
   ],
   "source": [
    "import seaborn as sns\n",
    "# Calculate the mean pack_price for each shipment_mode\n",
    "xbar_pack_by_mode = late_shipments.groupby(\"shipment_mode\")['pack_price'].mean()\n",
    "\n",
    "# Calculate the standard deviation of the pack_price for each shipment_mode\n",
    "s_pack_by_mode = late_shipments.groupby(\"shipment_mode\")['pack_price'].std()\n",
    "\n",
    "# Boxplot of shipment_mode vs. pack_price\n",
    "sns.boxplot( data = late_shipments,\n",
    "            y = \"shipment_mode\",\n",
    "            x = \"pack_price\")\n",
    "plt.show()"
   ]
  },
  {
   "cell_type": "markdown",
   "metadata": {},
   "source": [
    "# Conducting an ANOVA test"
   ]
  },
  {
   "cell_type": "markdown",
   "metadata": {},
   "source": [
    "The box plots made it look like the distribution of pack price was different for each of the three shipment modes. However, it didn't tell us whether the mean pack price was different in each category. To determine that, we can use an ANOVA test. The null and alternative hypotheses can be written as follows.\n",
    "\n",
    "H0: Pack prices for every category of shipment mode are the same.\n",
    "\n",
    "HA: Pack prices for some categories of shipment mode are different.\n",
    "\n",
    "Use a significance level of 0.1."
   ]
  },
  {
   "cell_type": "code",
   "execution_count": 23,
   "metadata": {},
   "outputs": [],
   "source": [
    "# # Run an ANOVA for pack_price across shipment_mode\n",
    "# anova_results = pingouin.anova(data=late_shipments,\n",
    "#                dv=\"pack_price\",\n",
    "#                between=\"shipment_mode\")\n",
    "\n",
    "# # Print anova_results\n",
    "# print(anova_results)"
   ]
  },
  {
   "cell_type": "markdown",
   "metadata": {},
   "source": [
    "# Pairwise t-tests"
   ]
  },
  {
   "cell_type": "markdown",
   "metadata": {},
   "source": [
    "The ANOVA test didn't tell you which categories of shipment mode had significant differences in pack prices. To pinpoint which categories had differences, you could instead use pairwise t-tests."
   ]
  },
  {
   "cell_type": "code",
   "execution_count": 24,
   "metadata": {},
   "outputs": [],
   "source": [
    "# # Modify the pairwise t-tests to use Bonferroni p-value adjustment\n",
    "# pairwise_results = pingouin.pairwise_tests(data=late_shipments, \n",
    "#                                            dv=\"pack_price\",\n",
    "#                                            between=\"shipment_mode\",\n",
    "#                                            padjust=\"bonf\")\n",
    "\n",
    "# # Print pairwise_results\n",
    "# print(pairwise_results)"
   ]
  }
 ],
 "metadata": {
  "kernelspec": {
   "display_name": "env_py",
   "language": "python",
   "name": "python3"
  },
  "language_info": {
   "codemirror_mode": {
    "name": "ipython",
    "version": 3
   },
   "file_extension": ".py",
   "mimetype": "text/x-python",
   "name": "python",
   "nbconvert_exporter": "python",
   "pygments_lexer": "ipython3",
   "version": "3.8.11"
  }
 },
 "nbformat": 4,
 "nbformat_minor": 2
}
