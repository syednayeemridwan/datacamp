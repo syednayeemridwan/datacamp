{
 "cells": [
  {
   "cell_type": "markdown",
   "metadata": {},
   "source": [
    "# Chapter 1"
   ]
  },
  {
   "cell_type": "markdown",
   "metadata": {},
   "source": [
    "- Hypothesis testing:\n",
    "    - Layman term : Method of testing if an assumption falls in feasible likelihood estimation or just a non-sense.\n",
    "    - Hypothesis : statement about an unknown population parameter (Your guess of the average value of a sample)\n",
    "    - Hypothesis test : test of two competing hypotheses. \n",
    "        - Null hypothesis : Your guess\n",
    "        - Alternative hypothesis : Challenging idea against your guess\n",
    "    - 3 tests: \n",
    "        - direction of test = direction of alternative hypothesis (or challenging idea)\n",
    "        - hypothesis for less or fewer = left tailed test\n",
    "        - hypothesis for greater or more = right tailed test\n",
    "        - hypothesis for different = two tailed test\n",
    "    - Testing Method : Compute sample mean and see the difference between guessed mean and sample mean. Measure if the difference is significant or not.\n",
    "    - Solution:\n",
    "        - z-test\n",
    "        - t-test\n",
    "        - ANOVA\n",
    "- A/B Testing : Hypothesis testing on 2 different scenarios (control vs treatment group)\n",
    "- p-value : \n",
    "    - probability of obtaining a result if the null hypothesis is true\n",
    "    - probability value from z-score or significance level\n",
    "    - Large p-value = p values not on tails = Large support for null hypothesis (p_value > alpha)\n",
    "    - Small p-value = p values on tails = No support for null hypothesis (p_value <= alpha)\n",
    "    - cut-off point = common significance level is 5%\n",
    "    - confidence interval = 1- alpha = 95%\n",
    "    - if the hypothesized population parameter is within the confidence interval, you should fail to reject the null hypothesis.\n",
    "- Null is False / Negative.\n",
    "- False Positive = Type 1 error\n",
    "- False Negative = Type 2 error\n",
    "    <center><img src=\"images/01.01.png\"  style=\"width: 400px, height: 300px;\"/></center>"
   ]
  },
  {
   "cell_type": "markdown",
   "metadata": {},
   "source": [
    "# Chapter 2"
   ]
  },
  {
   "cell_type": "markdown",
   "metadata": {},
   "source": [
    "- z-test\n",
    "    - hypothesis testing on one-sample problem\n",
    "    - When population parameter is known\n",
    "    - Requires z-score (measure of how many standard deviations a data point is from the mean of a dataset)\n",
    "    - We test with the difference of between population and sample mean and its distribution\n",
    "    - Procedures:\n",
    "        - Bootstrap and get the mean of sample means\n",
    "        - measure standard daviation of bootstrap distribution\n",
    "        - find z-score = (sample mean - guessed or hypothesis mean) / standard daviation of bootstrap distribution\n",
    "        - convert z-score to p-value\n",
    "        - Compare p-value with significance level\n",
    "- t-test \n",
    "    -  hypothesis testing on two-sample problem and allows more uncertainty for two variables\n",
    "    - When a sample standard deviation is used in estimating a standard error instead of population parameters.\n",
    "    - Requires t-stat, with degree of freedom (no of values in a variable - 1)\n",
    "    - We test with the difference of sample means and its distribution\n",
    "    -  paired t-test : both variables are dependent on a third variable\n",
    "    - Procedures:\n",
    "        - get the mean of sample means of two different classes\n",
    "        - measure standard daviation of the two classes\n",
    "        - find t-stat = (sample1 mean - sample2 mean) / root over ((std of sample1^2/length of sample1) + (std of sample2^2/length of sample2))\n",
    "        - convert t-stat to p-value\n",
    "        - Compare p-value with significance level\n",
    "- ANOVA test\n",
    "    - hypothesis testing on more than 2 groups\n",
    "    - high chance of False Positive with more number of groups. use correction method to adjust p-values\n",
    "    "
   ]
  },
  {
   "cell_type": "markdown",
   "metadata": {},
   "source": [
    "### Hypothesis tests"
   ]
  },
  {
   "cell_type": "markdown",
   "metadata": {},
   "source": [
    "```\n",
    "import pingouin\n",
    "# Z-test (One directional, left)\n",
    "pingouin.ztest(x=df['col1'], y=df['col2'], alternative='less')\n",
    "# Paired t-test (One directional, paired, left)\n",
    "pingouin.ttest(x=df['col1'], y=df['col2'], paired=True, alternative=\"less\")\n",
    "# ANOVA test (All possible combination of groups)\n",
    "pingouin.anova(data=df, dv=\"col\", between=\"cat_col\")\n",
    "pingouin.pairwise_tests(data=df, dv=\"col\", between=\"cat_col\", padjust=\"bonf\")\n",
    "```"
   ]
  }
 ],
 "metadata": {
  "language_info": {
   "name": "python"
  }
 },
 "nbformat": 4,
 "nbformat_minor": 2
}
