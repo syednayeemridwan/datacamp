{
 "cells": [
  {
   "cell_type": "markdown",
   "metadata": {},
   "source": [
    "# Chapter 1"
   ]
  },
  {
   "cell_type": "markdown",
   "metadata": {},
   "source": [
    "- Hypothesis testing:\n",
    "    - Hypothesis : statement about an unknown population parameter (Your guess of the average value of a sample)\n",
    "    - Hypothesis test : test of two competing hypotheses. \n",
    "        - Null hypothesis : Your guess\n",
    "        - Alternative hypothesis : Challenging idea against your guess\n",
    "    - 3 tests: \n",
    "        - direction of test = direction of alternative hypothesis (or challenging idea)\n",
    "        - hypothesis for less or fewer = left tailed test\n",
    "        - hypothesis for greater or more = right tailed test\n",
    "        - hypothesis for different = two tailed test\n",
    "    - Testing Method : Compute sample mean and see the difference between guessed mean and sample mean. Measure if the difference is significant or not.\n",
    "    - Solution:\n",
    "        - Bootstrap the sample dataset to get the list of sample means (Which closely resemble population mean)\n",
    "        - See that the bootstrap distribution in normally distributed\n",
    "        - measure standard daviation of bootstrap distribution\n",
    "        - find z-score = (sample mean - guessed or hypothesis mean) / standard daviation of bootstrap distribution\n",
    "- A/B Testing : Hypothesis testing on 2 different scenarios (control vs treatment group)\n",
    "- p-value : \n",
    "    - probability of obtaining a result if the null hypothesis is true\n",
    "    - probability value from z-score or significance level\n",
    "    - Large p-value = p values not on tails = Large support for null hypothesis (p_value > alpha)\n",
    "    - Small p-value = p values on tails = No support for null hypothesis (p_value <= alpha)\n",
    "    - cut-off point = common significance level is 5%\n",
    "    - confidence interval = 1- alpha = 95%\n",
    "    - if the hypothesized population parameter is within the confidence interval, you should fail to reject the null hypothesis.\n",
    "- Null is False / Negative.\n",
    "- False Positive = Type 1 error\n",
    "- False Negative = Type 2 error\n",
    "    <center><img src=\"images/01.01.png\"  style=\"width: 400px, height: 300px;\"/></center>"
   ]
  },
  {
   "cell_type": "markdown",
   "metadata": {},
   "source": []
  }
 ],
 "metadata": {
  "language_info": {
   "name": "python"
  }
 },
 "nbformat": 4,
 "nbformat_minor": 2
}
