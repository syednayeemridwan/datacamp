{
 "cells": [
  {
   "cell_type": "markdown",
   "metadata": {},
   "source": [
    "# Chapter 1"
   ]
  },
  {
   "cell_type": "markdown",
   "metadata": {},
   "source": [
    "- Hypothesis testing:\n",
    "    - Layman term : Method of testing if an assumption falls in feasible likelihood estimation or just a non-sense.\n",
    "    - Hypothesis : statement about an unknown population parameter (Your guess of the average value of a sample)\n",
    "    - Hypothesis test : test of two competing hypotheses. \n",
    "        - Null hypothesis : Your guess\n",
    "        - Alternative hypothesis : Challenging idea against your guess\n",
    "    - 3 tests: \n",
    "        - direction of test = direction of alternative hypothesis (or challenging idea)\n",
    "        - hypothesis for less or fewer = left tailed test\n",
    "        - hypothesis for greater or more = right tailed test\n",
    "        - hypothesis for different = two tailed test\n",
    "    - Testing Method : Compute sample mean and see the difference between guessed mean and sample mean. Measure if the difference is significant or not.\n",
    "    - Solution:\n",
    "        - z-test\n",
    "        - proportion z-test\n",
    "        - t-test\n",
    "        - ANOVA\n",
    "        - chi-square test of independence\n",
    "        - Chi-square goodness of fit\n",
    "- A/B Testing : Hypothesis testing on 2 different scenarios (control vs treatment group)\n",
    "- p-value : \n",
    "    - probability of obtaining a result if the null hypothesis is true\n",
    "    - probability value from z-score or significance level\n",
    "    - Large p-value = p values not on tails = Large support for null hypothesis (p_value > alpha)\n",
    "    - Small p-value = p values on tails = No support for null hypothesis (p_value <= alpha)\n",
    "    - cut-off point = common significance level is 5%\n",
    "    - confidence interval = 1- alpha = 95%\n",
    "    - if the hypothesized population parameter is within the confidence interval, you should fail to reject the null hypothesis.\n",
    "- Null is False / Negative.\n",
    "- False Positive = Type 1 error\n",
    "- False Negative = Type 2 error\n",
    "    <center><img src=\"images/01.01.png\"  style=\"width: 400px, height: 300px;\"/></center>"
   ]
  },
  {
   "cell_type": "markdown",
   "metadata": {},
   "source": [
    "# Chapter 2"
   ]
  },
  {
   "cell_type": "markdown",
   "metadata": {},
   "source": [
    "- z-test\n",
    "    - hypothesis testing on one-sample problem\n",
    "    - When population parameter is known\n",
    "    - Requires z-score (measure of how many standard deviations a data point is from the mean of a dataset)\n",
    "    - We test with the difference of between population and sample mean and its distribution\n",
    "    - Procedures:\n",
    "        - Bootstrap and get the mean of sample means\n",
    "        - measure standard daviation of bootstrap distribution\n",
    "        - find z-score = (sample mean - guessed or hypothesis mean) / standard daviation of bootstrap distribution\n",
    "        - convert z-score to p-value\n",
    "        - Compare p-value with significance level\n",
    "- Proportions z-test\n",
    "    - calculates if the difference in proportion of two categories across two variables have any significance\n",
    "    - Gives idea if two categorical columns have any association\n",
    "    - small p-value means the variables have association\n",
    "- t-test \n",
    "    -  hypothesis testing on two-sample problem and allows more uncertainty for two variables\n",
    "    - When a sample standard deviation is used in estimating a standard error instead of population parameters.\n",
    "    - Requires t-stat, with degree of freedom (no of values in a variable - 1)\n",
    "    - We test with the difference of sample means and its distribution\n",
    "    -  paired t-test : both variables are dependent on a third variable\n",
    "    - Procedures:\n",
    "        - get the mean of sample means of two different classes\n",
    "        - measure standard daviation of the two classes\n",
    "        - find t-stat = (sample1 mean - sample2 mean) / root over ((std of sample1^2/length of sample1) + (std of sample2^2/length of sample2))\n",
    "        - convert t-stat to p-value\n",
    "        - Compare p-value with significance level\n",
    "- ANOVA test\n",
    "    - hypothesis testing on more than 2 groups\n",
    "    - high chance of False Positive with more number of groups. use correction method to adjust p-values\n",
    "- Chi-square test of independence\n",
    "    - calculates if the difference in proportion of multiple categories across two variables have any significance\n",
    "    - Gives the idea if the two categorical variables are statistically independent of each other\n",
    "    - Statistical independence - proportion of successes in the response variable is the same across all categories of the explanatory variable\n",
    "    - p-value < significance level means the variables are not independent. Instead, they are associated\n",
    "    - No direction or tail or alternative argument since it is squared (Always right tailed test)\n",
    "- Chi-square goodness of fit\n",
    "    - Checks whether the hypothesised proportion are a good fit for the sample proportion\n",
    "    - Used to compare the proportion of a categorical variable's distribution across different dataset \n",
    "    - if p-value < significance level then we can say that the hypothesised proportion is not a good fit of the sample proportion"
   ]
  },
  {
   "cell_type": "markdown",
   "metadata": {},
   "source": [
    "### Hypothesis tests"
   ]
  },
  {
   "cell_type": "markdown",
   "metadata": {},
   "source": [
    "```\n",
    "import pingouin\n",
    "# Z-test (One directional, left)\n",
    "pingouin.ztest(x=df['col1'], y=df['col2'], alternative='less')\n",
    "# Paired t-test (One directional, paired, left)\n",
    "pingouin.ttest(x=df['col1'], y=df['col2'], paired=True, alternative=\"less\")\n",
    "# ANOVA test (All possible combination of groups)\n",
    "pingouin.anova(data=df, dv=\"col\", between=\"cat_col\")\n",
    "pingouin.pairwise_tests(data=df, dv=\"col\", between=\"cat_col\", padjust=\"bonf\")\n",
    "\n",
    "# Proportion Z-test\n",
    "from statsmodels.stats import proportion\n",
    "z_score, p_val = proportion.proportions_ztest(count=[len(df[(df['cat_col1'] == 'A') & (df['cat_col2'] == 'X')]),\n",
    "                                            len(df[(df['cat_col1'] == 'B') & (df['cat_col2'] == 'X')])],\n",
    "                                      nobs=[len(df[df['cat_col1'] == 'A']),\n",
    "                                            len(df[df['cat_col1'] == 'B'])])\n",
    "# Chi-square test of independence\n",
    "expected, observed, stats = pingouin.chi2_independence(data=df, x=\"catcol1\", y=\"catcol2\")\n",
    "print(stats)\n",
    "\n",
    "\n",
    "# Perform chi-square goodness-of-fit test between two groupby dataframe results\n",
    "from scipy.stats import chi2_contingency\n",
    "chi2, p, _ = chi2_contingency([df1[\"col\"], df2[\"col\"]])\n",
    "```"
   ]
  },
  {
   "cell_type": "markdown",
   "metadata": {},
   "source": []
  }
 ],
 "metadata": {
  "language_info": {
   "name": "python"
  }
 },
 "nbformat": 4,
 "nbformat_minor": 2
}
