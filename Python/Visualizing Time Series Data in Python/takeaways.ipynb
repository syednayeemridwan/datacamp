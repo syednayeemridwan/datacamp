{
 "cells": [
  {
   "cell_type": "markdown",
   "metadata": {},
   "source": [
    "# Chapter 1"
   ]
  },
  {
   "cell_type": "markdown",
   "metadata": {},
   "source": [
    "### Matplotlib Theme"
   ]
  },
  {
   "cell_type": "markdown",
   "metadata": {},
   "source": [
    "```\n",
    "# Change style to ggplot\n",
    "plt.style.use(\"ggplot\")\n",
    "# Change style back to default\n",
    "plt.style.use(\"default\")\n",
    "# See available themes\n",
    "print(plt.style.available)\n",
    "```"
   ]
  },
  {
   "cell_type": "markdown",
   "metadata": {},
   "source": [
    "### Time Series Graph"
   ]
  },
  {
   "cell_type": "markdown",
   "metadata": {},
   "source": [
    "```\n",
    "import pandas as pd\n",
    "df = pd.read_csv('filename.csv', parse_dates=[\"date_col\"], index_col=\"date_col\")\n",
    "df = df[\"1960-01-01\":\"1969-12-31\"] # Subsetting for smaller portion\n",
    "\n",
    "sub_df = df['1960':'1970'] # Slicing using time index\n",
    "ax = sub_df.plot(color='blue', figsize=(12, 5), fontsize=12, linewidth=3, linestyle='--')\n",
    "ax.set_xlabel('X label')\n",
    "ax.set_ylabel('Y label')\n",
    "ax.axvline('1969-01-01', color='red', linestyle='--') # Vertical Line, uses time index\n",
    "ax.axhline(4, color='green', linestyle='--') # Horizontal Line, uses y value\n",
    "ax.axvspan('1964-01-01', '1968-01-01', color='red', alpha=0.3) # Vertical region, uses time index range\n",
    "ax.axhspan(8, 6, color='green', alpha=0.3)  # Horizontal region, uses y value range\n",
    "\n",
    "df_summary = sub_df.describe()\n",
    "# Attach information table with the plot\n",
    "ax.table(cellText=df_summary.values,\n",
    "        colWidths=[0.3]*len(df.columns), # Specify width of the table\n",
    "        rowLabels=df_summary.index, # Specify row labels\n",
    "        colLabels=df_summary.columns, # Specify column labels\n",
    "        loc='top') # Specify location of the table in the plot\n",
    "\n",
    "rolling_mean = df.rolling(window=52).mean()\n",
    "# Other types of plots\n",
    "df.plot(kind='hist', bins=100) # other types include 'kde', 'box' etc\n",
    "\n",
    "# Auto-correlation\n",
    "from statsmodels.graphics import tsaplots\n",
    "fig = tsaplots.plot_acf(df['col'], lags=40)\n",
    "# Partial Auto-correlation\n",
    "from statsmodels.graphics import tsaplots\n",
    "fig = tsaplots.plot_pacf(co2_levels['co2'], lags=40)\n",
    "\n",
    "# Multiple time series on same plot\n",
    "fig, ax = plt.subplots()\n",
    "ax.plot(df.index, df['col1'], color='red')\n",
    "ax.tick_params('y', colors='red')\n",
    "ax.set_xlabel('Time Axis')\n",
    "ax.set_ylabel('First Y Axis')\n",
    "\n",
    "ax2 = ax.twinx() # Same x axis, but separate y axis\n",
    "ax2.plot(df.index, df['col2'], color='blue')\n",
    "ax2.tick_params('y', colors='blue')\n",
    "ax2.set_ylabel('Second Y Axis')\n",
    "\n",
    "ax2.annotate(\"Annotation text\", xy=(pd.Timestamp('2015-10-06'), 1),\n",
    "        xytext=(pd.Timestamp('2008-10-06'), -0.2),\n",
    "        arrowprops={\"arrowstyle\":\"->\", \"color\":\"gray\"})\n",
    "\n",
    "plt.show()\n",
    "\n",
    "```"
   ]
  },
  {
   "cell_type": "markdown",
   "metadata": {},
   "source": [
    "# Chapter 2"
   ]
  },
  {
   "cell_type": "markdown",
   "metadata": {},
   "source": [
    "### Missing values"
   ]
  },
  {
   "cell_type": "markdown",
   "metadata": {},
   "source": [
    "```\n",
    "# Check missing data\n",
    "df.isna().any()\n",
    "df.isna().sum()\n",
    "# Visualize missing data information\n",
    "import missingno as msno\n",
    "import matplotlib.pyplot as plt\n",
    "msno.matrix(df)\n",
    "plt.show()\n",
    "\n",
    "# Drop missing data column\n",
    "df_dropped = df.dropna(subset = ['col'], axis = 1) # 0 for row\n",
    "df.dropna(axis = 0) # Drop entire row for missing value (default)\n",
    "df.dropna(axis = 1) # Drop entire column for missing value\n",
    "\n",
    "# Replace/impute missing data with single value\n",
    "col_mean = df['col'].mean()\n",
    "df_imputed = df.fillna({'col': col_mean})\n",
    "df.fillna(method='bfill')\n",
    "df.interpolate(method='linear')\n",
    "df['col'].replace(to_replace=np.nan, value = some_mean,inplace = True) # Alternative\n",
    "# Replace/impute missing data with series\n",
    "series_imp = df['col1'] * 5\n",
    "df_imputed = df.fillna({'col2':series_imp})\n",
    "\n",
    "df[\"col\"].value_counts() # Look out for suspicious values\n",
    "\n",
    "##### Strategic dropping example ########\n",
    "# Drop missing values where <= 5% of data in column are missing , otherwise impute values\n",
    "threshold = len(df) * 0.05\n",
    "cols_to_drop = df.columns[df.isna().sum() <= threshold]\n",
    "df.dropna(subset=cols_to_drop, inplace=True)\n",
    "cols_with_missing_values = df.columns[salaries.isna().sum() > 0]\n",
    "for col in cols_with_missing_values[:-1]:\n",
    "    df[col].fillna(df[col].mode()[0])\n",
    "subgroup_dict = df.groupby(\"cat_col\")[\"num_col\"].median().to_dict()\n",
    "df[\"num_col\"] = df[\"num_col\"].fillna(df[\"cat_col\"].map(subgroup_dict))\n",
    "```"
   ]
  },
  {
   "cell_type": "markdown",
   "metadata": {},
   "source": [
    "# Chapter 3"
   ]
  },
  {
   "cell_type": "markdown",
   "metadata": {},
   "source": [
    "### Autocorrelation and partial autocorrelation"
   ]
  },
  {
   "cell_type": "markdown",
   "metadata": {},
   "source": [
    "- Autocorrelation:\n",
    "- Lets consider a series 1,2,3,4,5,6\n",
    "- There is a correlation between every consecutive elements:\n",
    "    - second number = first number + 1 (correlation between first and second number)\n",
    "    - third number = second number + 1 (correlation between second and third number)\n",
    "- This consecutive correlation goes on for every n-th element with its previous element and evaluates the same correlation value\n",
    "- We can say this is kind of an echo that is embedded within every n-th element of the sequence\n",
    "- We call this autocorrelation.\n",
    "- So we say,  Autocorrelation is the Correlation of a series with a lagged copy of itself\n",
    "- We need it while working with time series.\n",
    "- Negative autocorrelation : Mean Reversion\n",
    "- Positive autocorrelation : Momentum, or Trend Following \n",
    "\n",
    "- Partial Autocorrelation:\n",
    "- Shows incremental benefit of adding nth lag when n-1 lags are already present\n",
    "- Removes the effects of previous lags (cumulative nth - cumulative n-1th)\n",
    "- eg: a partial autocorrelation function of order 3 returns the correlation between our time series  t1 and lagged values of itself by 3 time points  t4 but only after removing all effects attributing to lags 1 and 2"
   ]
  },
  {
   "cell_type": "markdown",
   "metadata": {},
   "source": [
    "# Chapter 4"
   ]
  },
  {
   "cell_type": "markdown",
   "metadata": {},
   "source": [
    "### Heatmap"
   ]
  },
  {
   "cell_type": "markdown",
   "metadata": {},
   "source": [
    "```\n",
    "# Drop highly correlated features if you are confident that they may add bias into the model\n",
    "corr_df = df.corr(method='pearson') # could also be 'spearman' or 'kendall'\n",
    "mask = np.triu(np.ones_like(corr_df, dtype=bool))\n",
    "sns.heatmap(corr_df, mask=mask, center=0, linewidths=1, annot=True, fmt=\".2f\")\n",
    "# Alternative approach\n",
    "corr_df = df.corr().abs()\n",
    "mask = np.triu(np.ones_like(corr_df, dtype=bool))\n",
    "tri_df = corr_df.mask(mask)\n",
    "to_drop = [c for c in tri_df.columns if any(tri_df[c] > 0.95)]\n",
    "reduced_df = chest_df.drop(to_drop, axis=1)\n",
    "# Different concept : Hierarchical heatmap (similar columns are put closely together)\n",
    "sns.clustermap(corr_df)\n",
    "```"
   ]
  },
  {
   "cell_type": "markdown",
   "metadata": {},
   "source": [
    "# Chapter 5"
   ]
  },
  {
   "cell_type": "markdown",
   "metadata": {},
   "source": [
    "### Time series decomposition"
   ]
  },
  {
   "cell_type": "markdown",
   "metadata": {},
   "source": [
    "```\n",
    "# Time series decomposition\n",
    "import statsmodels.api as sm\n",
    "import matplotlib.pyplot as plt\n",
    "from pylab import rcParams\n",
    "rcParams['figure.figsize'] = 11, 9\n",
    "decomposition = sm.tsa.seasonal_decompose(df['col'])\n",
    "fig = decomposition.plot()\n",
    "plt.show()\n",
    "print(dir(decomposition)) # See what can be used\n",
    "decomp_seasonal = decomposition.seasonal # Seasonal component\n",
    "decomp_trend = decomposition.trend # Trend component\n",
    "decomp_resid = decomp.resid # Residual component\n",
    "```"
   ]
  },
  {
   "cell_type": "markdown",
   "metadata": {},
   "source": [
    "### Subplot python"
   ]
  },
  {
   "cell_type": "markdown",
   "metadata": {},
   "source": [
    "```\n",
    "fig, axs = plt.subplots(2, 2)\n",
    "axs[0, 0].plot(x, y)\n",
    "axs[0, 0].set_title(\"main\")\n",
    "axs[1, 0].plot(x, y**2)\n",
    "axs[1, 0].set_title(\"shares x with main\")\n",
    "axs[1, 0].sharex(axs[0, 0])\n",
    "axs[0, 1].plot(x + 1, y + 1)\n",
    "axs[0, 1].set_title(\"unrelated\")\n",
    "axs[1, 1].plot(x + 2, y + 2)\n",
    "axs[1, 1].set_title(\"also unrelated\")\n",
    "fig.tight_layout()\n",
    "\n",
    "# Alternative way\n",
    "# Create a facetted graph with 2 rows and 2 columns\n",
    "ax = df.plot(subplots=True,\n",
    "                      layout=(2,2),\n",
    "                      sharex=False,\n",
    "                      sharey=False,\n",
    "                      linewidth=0.7,\n",
    "                      fontsize=3,\n",
    "                      legend=False)\n",
    "\n",
    "plt.show()\n",
    "```"
   ]
  }
 ],
 "metadata": {
  "language_info": {
   "name": "python"
  }
 },
 "nbformat": 4,
 "nbformat_minor": 2
}
