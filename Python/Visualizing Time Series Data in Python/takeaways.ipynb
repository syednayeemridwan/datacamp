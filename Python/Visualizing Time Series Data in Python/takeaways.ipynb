{
 "cells": [
  {
   "cell_type": "markdown",
   "metadata": {},
   "source": [
    "# Chapter 1"
   ]
  },
  {
   "cell_type": "markdown",
   "metadata": {},
   "source": [
    "### Matplotlib Theme"
   ]
  },
  {
   "cell_type": "markdown",
   "metadata": {},
   "source": [
    "```\n",
    "# Change style to ggplot\n",
    "plt.style.use(\"ggplot\")\n",
    "# Change style back to default\n",
    "plt.style.use(\"default\")\n",
    "# See available themes\n",
    "print(plt.style.available)\n",
    "```"
   ]
  },
  {
   "cell_type": "markdown",
   "metadata": {},
   "source": [
    "### Time Series Graph"
   ]
  },
  {
   "cell_type": "markdown",
   "metadata": {},
   "source": [
    "```\n",
    "discoveries = df['1960':'1970'] # Slicing using time index\n",
    "ax = discoveries.plot(color='blue', figsize=(12, 5), fontsize=12, linewidth=3, linestyle='--')\n",
    "ax.set_xlabel('X label')\n",
    "ax.set_ylabel('Y label')\n",
    "ax.axvline('1969-01-01', color='red', linestyle='--') # Vertical Line, uses time index\n",
    "ax.axhline(4, color='green', linestyle='--') # Horizontal Line, uses y value\n",
    "ax.axvspan('1964-01-01', '1968-01-01', color='red', alpha=0.3) # Vertical region, uses time index range\n",
    "ax.axhspan(8, 6, color='green', alpha=0.3)  # Horizontal region, uses y value range\n",
    "\n",
    "```"
   ]
  },
  {
   "cell_type": "markdown",
   "metadata": {},
   "source": []
  }
 ],
 "metadata": {
  "language_info": {
   "name": "python"
  }
 },
 "nbformat": 4,
 "nbformat_minor": 2
}
