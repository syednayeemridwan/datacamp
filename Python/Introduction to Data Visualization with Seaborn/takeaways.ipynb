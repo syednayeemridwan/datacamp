{
 "cells": [
  {
   "cell_type": "markdown",
   "metadata": {},
   "source": [
    "# Chapter 1"
   ]
  },
  {
   "cell_type": "markdown",
   "metadata": {},
   "source": [
    "- untidy data : a column store different types of data together like string and int and boolean\n"
   ]
  },
  {
   "cell_type": "markdown",
   "metadata": {},
   "source": [
    "### Scatter Plot"
   ]
  },
  {
   "cell_type": "markdown",
   "metadata": {},
   "source": [
    "```\n",
    "\n",
    "import matplotlib.pyplot as plt\n",
    "import seaborn as sns\n",
    "\n",
    "hue_colors = {\"col3_val1\":\"#808080\",\"col3_val2\":\"#00FF00\"}\n",
    "\n",
    "sns.scatterplot(x=\"col1\", y=\"col2\", data=df, hue=\"col3\", \n",
    "                hue_order=[\"col3_val2\",\"col3_val1\"],  # Show legend in this order\n",
    "                palette=hue_colors)\n",
    "```"
   ]
  },
  {
   "cell_type": "markdown",
   "metadata": {},
   "source": [
    "### Count plot"
   ]
  },
  {
   "cell_type": "markdown",
   "metadata": {},
   "source": [
    "```\n",
    "import matplotlib.pyplot as plt\n",
    "import seaborn as sns\n",
    "\n",
    "sns.countplot(x=\"col1\", data=df, \n",
    "hue=\"col2\") # Split further into sub-part with color\n",
    "\n",
    "plt.show()\n",
    "```"
   ]
  },
  {
   "cell_type": "markdown",
   "metadata": {},
   "source": [
    "# Chapter 2"
   ]
  },
  {
   "cell_type": "markdown",
   "metadata": {},
   "source": [
    "### Rel Plot"
   ]
  },
  {
   "cell_type": "markdown",
   "metadata": {},
   "source": [
    "- Show the relationship between two quantitative variables"
   ]
  },
  {
   "cell_type": "markdown",
   "metadata": {},
   "source": [
    "```\n",
    "import seaborn as sns\n",
    "import matplotlib.pyplot as plt\n",
    "\n",
    "sns.relplot(x=\"col1\", y=\"col2\", data=df, kind=\"scatter\",\n",
    "            size= \"col5\", hue= \"col6\", style= \"col7\", alpha=0.4,\n",
    "            col=\"col3\", col_wrap=2,  # subgroup into columns, each column containing 2 plots max\n",
    "            col_order=[\"val1\", \"val2\", \"val3\", \"val4\"]. # Legend order\n",
    "            row = \"col4\",  # subgroup into rows\n",
    "            row_order=[\"valx\", \"valy\"]) # Legend order\n",
    "plt.show()\n",
    "```"
   ]
  },
  {
   "cell_type": "markdown",
   "metadata": {},
   "source": [
    "### Line Plot"
   ]
  },
  {
   "cell_type": "markdown",
   "metadata": {},
   "source": [
    "```\n",
    "import seaborn as sns\n",
    "import matplotlib.pyplot as plt\n",
    "\n",
    "sns.relplot(x=\"col1\", y=\"col2\", data=df, kind=\"line\", \n",
    "            ci=None, style=\"col3\", # Show different style for different Subgroups\n",
    "            markers = True,  # Show marking for each datapoint\n",
    "            hue=\"col3\",       # Subgroup according to color\n",
    "            dashes = False)\n",
    "plt.show()\n",
    "```"
   ]
  },
  {
   "cell_type": "markdown",
   "metadata": {},
   "source": [
    "# Chapter 4"
   ]
  },
  {
   "cell_type": "markdown",
   "metadata": {},
   "source": [
    "### Cat plot "
   ]
  },
  {
   "cell_type": "markdown",
   "metadata": {},
   "source": [
    "- Show the distribution of a quantitative variable within categories de,ned by a categorical variable"
   ]
  },
  {
   "cell_type": "markdown",
   "metadata": {},
   "source": [
    "### Count Plot"
   ]
  },
  {
   "cell_type": "markdown",
   "metadata": {},
   "source": [
    "```\n",
    "import seaborn as sns\n",
    "import matplotlib.pyplot as plt\n",
    "\n",
    "# List of categories from lowest to highest\n",
    "category_order = [\"A\", \"B\", \"C\", \"D\"]\n",
    "\n",
    "sns.catplot(y=\"col1\", data=df,\n",
    "            kind=\"count\", order=category_order,\n",
    "            col = \"col2\") # Show different subgroup in each column\n",
    "```"
   ]
  },
  {
   "cell_type": "markdown",
   "metadata": {},
   "source": [
    "### Barplot"
   ]
  },
  {
   "cell_type": "markdown",
   "metadata": {},
   "source": [
    "```\n",
    "import seaborn as sns\n",
    "import matplotlib.pyplot as plt\n",
    "\n",
    "# List of categories from lowest to highest\n",
    "category_order = [\"A\", \"B\", \"C\", \"D\"]\n",
    "\n",
    "\n",
    "sns.catplot(x=\"cat_col\", y=\"col\",\n",
    "            data=df, kind=\"bar\",\n",
    "            order=category_order, ci=None) # # Turn off the confidence intervals\n",
    "\n",
    "# Show plot\n",
    "plt.show()\n",
    "```"
   ]
  },
  {
   "cell_type": "markdown",
   "metadata": {},
   "source": [
    "### Box plot"
   ]
  },
  {
   "cell_type": "markdown",
   "metadata": {},
   "source": [
    "```\n",
    "import matplotlib.pyplot as plt\n",
    "import seaborn as sns\n",
    "\n",
    "sns.catplot(x=\"cat_col\", y=\"num_col\",\n",
    "            order=[\"cat A\", \"cat B\"], # Specify order of categories\n",
    "            data=df, sym=\"\", # Omit outliers\n",
    "            kind=\"box\", whis = 0.5) # Set the whiskers to 0.5 * IQR or [5,95] for 5th to 95th percentile\n",
    "\n",
    "# Show plot\n",
    "plt.show()\n",
    "```"
   ]
  },
  {
   "cell_type": "markdown",
   "metadata": {},
   "source": [
    "### Point plot"
   ]
  },
  {
   "cell_type": "markdown",
   "metadata": {},
   "source": [
    "- shows mean of a variable and 95% confidence interval around the mean"
   ]
  },
  {
   "cell_type": "markdown",
   "metadata": {},
   "source": [
    "```\n",
    "import matplotlib.pyplot as plt\n",
    "import seaborn as sns\n",
    "from numpy import median\n",
    "\n",
    "sns.catplot(x=\"cat_col1\", y=\"num_col\", data=df,\n",
    "            kind=\"point\", hue=\"cat_col2\", # Subgroup according to other category\n",
    "            ci = None, join=False, # Stop joining line\n",
    "            estimator=median) # Use median as point estimation\n",
    "plt.show()\n",
    "```"
   ]
  },
  {
   "cell_type": "markdown",
   "metadata": {},
   "source": [
    "# Chapter 4"
   ]
  },
  {
   "cell_type": "markdown",
   "metadata": {},
   "source": [
    "### Change theme or style"
   ]
  },
  {
   "cell_type": "markdown",
   "metadata": {},
   "source": [
    "```\n",
    "import seaborn as sns\n",
    "\n",
    "custom_palette = ['#FBB4AE', '#B3CDE3', '#CCEBC5','#DECBE4', '#FED9A6']\n",
    "\n",
    "sns.set_theme(context='talk', # sns.set_context(\"talk\")\n",
    "                  style='whitegrid', # sns.set_style(\"whitegrid\")\n",
    "                  palette='RdBu',  # sns.set_palette(custom_palette)\n",
    "                  font='sans-serif', \n",
    "                  font_scale=1, \n",
    "                  color_codes=True, \n",
    "                  rc=None)\n",
    "```"
   ]
  },
  {
   "cell_type": "markdown",
   "metadata": {},
   "source": [
    "### Customize seaborn plot"
   ]
  },
  {
   "cell_type": "markdown",
   "metadata": {},
   "source": [
    "```\n",
    "g = sns.(yourplot)\n",
    "\n",
    "# See what type of plot object it is\n",
    "print(type(g))\n",
    "\n",
    "# if g is FacetGrid object (it has the ability to create subplots)\n",
    "# Add title to plot\n",
    "g.fig.suptitle(\"Title\", y=1.03)\n",
    "# Add title to subplots\n",
    "g.set_titles(\"This is {col_name}\") # Make sure col attribute is defined in g\n",
    "\n",
    "# if g is AxesSubplot object (it has the ability to create single plot)\n",
    "# Add title to plot\n",
    "g.set_title(\"Title\", y=1.03)\n",
    "\n",
    "# Add axis labels\n",
    "g.set(xlabel=\"New X Label\", ylabel=\"New Y Label\")\n",
    "# Rotate axis ticks\n",
    "plt.xticks(rotation=90)\n",
    "```"
   ]
  }
 ],
 "metadata": {
  "language_info": {
   "name": "python"
  }
 },
 "nbformat": 4,
 "nbformat_minor": 2
}
