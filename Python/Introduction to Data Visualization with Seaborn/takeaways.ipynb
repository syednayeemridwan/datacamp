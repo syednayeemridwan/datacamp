{
 "cells": [
  {
   "cell_type": "markdown",
   "metadata": {},
   "source": [
    "# Chapter 1"
   ]
  },
  {
   "cell_type": "markdown",
   "metadata": {},
   "source": [
    "- untidy data : a column store different types of data together like string and int and boolean\n"
   ]
  },
  {
   "cell_type": "markdown",
   "metadata": {},
   "source": [
    "### Scatter Plot"
   ]
  },
  {
   "cell_type": "markdown",
   "metadata": {},
   "source": [
    "```\n",
    "\n",
    "import matplotlib.pyplot as plt\n",
    "import seaborn as sns\n",
    "\n",
    "hue_colors = {\"col3_val1\":\"#808080\",\"col3_val2\":\"#00FF00\"}\n",
    "\n",
    "sns.scatterplot(x=\"col1\", y=\"col2\", data=df, hue=\"col3\", \n",
    "                hue_order=[\"col3_val2\",\"col3_val1\"],  # Show legend in this order\n",
    "                palette=hue_colors)\n",
    "```"
   ]
  },
  {
   "cell_type": "markdown",
   "metadata": {},
   "source": [
    "### Count plot"
   ]
  },
  {
   "cell_type": "markdown",
   "metadata": {},
   "source": [
    "```\n",
    "import matplotlib.pyplot as plt\n",
    "import seaborn as sns\n",
    "\n",
    "sns.countplot(x=\"col1\", data=df, \n",
    "hue=\"col2\") # Split further into sub-part with color\n",
    "\n",
    "plt.show()\n",
    "```"
   ]
  },
  {
   "cell_type": "markdown",
   "metadata": {},
   "source": [
    "# Chapter 2"
   ]
  },
  {
   "cell_type": "markdown",
   "metadata": {},
   "source": [
    "### Rel Plot"
   ]
  },
  {
   "cell_type": "markdown",
   "metadata": {},
   "source": [
    "```\n",
    "import seaborn as sns\n",
    "import matplotlib.pyplot as plt\n",
    "\n",
    "sns.relplot(x=\"col1\", y=\"col2\", data=df, kind=\"scatter\",\n",
    "            size= \"col5\", hue= \"col6\", style= \"col7\", alpha=0.4,\n",
    "            col=\"col3\", col_wrap=2,  # subgroup into columns, each column containing 2 plots max\n",
    "            col_order=[\"val1\", \"val2\", \"val3\", \"val4\"]. # Legend order\n",
    "            row = \"col4\",  # subgroup into rows\n",
    "            row_order=[\"valx\", \"valy\"]) # Legend order\n",
    "plt.show()\n",
    "```"
   ]
  },
  {
   "cell_type": "markdown",
   "metadata": {},
   "source": [
    "### Line Plot"
   ]
  },
  {
   "cell_type": "markdown",
   "metadata": {},
   "source": [
    "```\n",
    "import seaborn as sns\n",
    "import matplotlib.pyplot as plt\n",
    "\n",
    "sns.relplot(x=\"col1\", y=\"col2\", data=df, kind=\"line\", \n",
    "            ci=None, style=\"col3\", # Show different style for different Subgroups\n",
    "            markers = True,  # Show marking for each datapoint\n",
    "            hue=\"col3\",       # Subgroup according to color\n",
    "            dashes = False)\n",
    "plt.show()\n",
    "```"
   ]
  },
  {
   "cell_type": "markdown",
   "metadata": {},
   "source": []
  }
 ],
 "metadata": {
  "language_info": {
   "name": "python"
  }
 },
 "nbformat": 4,
 "nbformat_minor": 2
}
