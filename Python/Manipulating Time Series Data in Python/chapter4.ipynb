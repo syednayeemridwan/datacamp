{
 "cells": [
  {
   "cell_type": "markdown",
   "metadata": {},
   "source": [
    "# Explore and clean company listing information"
   ]
  },
  {
   "cell_type": "markdown",
   "metadata": {},
   "source": [
    "To get started with the construction of a market-value based index, you'll work with the combined listing info for the three largest US stock exchanges, the NYSE, the NASDAQ and the AMEX.\n",
    "\n",
    "In this and the next exercise, you will calculate market-cap weights for these stocks."
   ]
  },
  {
   "cell_type": "code",
   "execution_count": 31,
   "metadata": {},
   "outputs": [
    {
     "name": "stderr",
     "output_type": "stream",
     "text": [
      "c:\\Users\\88016\\anaconda3\\envs\\env_py\\lib\\site-packages\\openpyxl\\worksheet\\_reader.py:312: UserWarning: Unknown extension is not supported and will be removed\n",
      "  warn(msg)\n"
     ]
    },
    {
     "data": {
      "text/html": [
       "<div>\n",
       "<style scoped>\n",
       "    .dataframe tbody tr th:only-of-type {\n",
       "        vertical-align: middle;\n",
       "    }\n",
       "\n",
       "    .dataframe tbody tr th {\n",
       "        vertical-align: top;\n",
       "    }\n",
       "\n",
       "    .dataframe thead th {\n",
       "        text-align: right;\n",
       "    }\n",
       "</style>\n",
       "<table border=\"1\" class=\"dataframe\">\n",
       "  <thead>\n",
       "    <tr style=\"text-align: right;\">\n",
       "      <th></th>\n",
       "      <th>Stock Symbol</th>\n",
       "      <th>Company Name</th>\n",
       "      <th>Last Sale</th>\n",
       "      <th>Market Capitalization</th>\n",
       "      <th>IPO Year</th>\n",
       "      <th>Sector</th>\n",
       "      <th>Industry</th>\n",
       "      <th>exchange</th>\n",
       "    </tr>\n",
       "  </thead>\n",
       "  <tbody>\n",
       "    <tr>\n",
       "      <th>0</th>\n",
       "      <td>XXII</td>\n",
       "      <td>22nd Century Group, Inc</td>\n",
       "      <td>1.3300</td>\n",
       "      <td>1.206285e+08</td>\n",
       "      <td>NaN</td>\n",
       "      <td>Consumer Non-Durables</td>\n",
       "      <td>Farming/Seeds/Milling</td>\n",
       "      <td>amex</td>\n",
       "    </tr>\n",
       "    <tr>\n",
       "      <th>1</th>\n",
       "      <td>FAX</td>\n",
       "      <td>Aberdeen Asia-Pacific Income Fund Inc</td>\n",
       "      <td>5.0000</td>\n",
       "      <td>1.266333e+09</td>\n",
       "      <td>1986.0</td>\n",
       "      <td>NaN</td>\n",
       "      <td>NaN</td>\n",
       "      <td>amex</td>\n",
       "    </tr>\n",
       "    <tr>\n",
       "      <th>2</th>\n",
       "      <td>IAF</td>\n",
       "      <td>Aberdeen Australia Equity Fund Inc</td>\n",
       "      <td>6.1500</td>\n",
       "      <td>1.398653e+08</td>\n",
       "      <td>NaN</td>\n",
       "      <td>NaN</td>\n",
       "      <td>NaN</td>\n",
       "      <td>amex</td>\n",
       "    </tr>\n",
       "    <tr>\n",
       "      <th>3</th>\n",
       "      <td>CH</td>\n",
       "      <td>Aberdeen Chile Fund, Inc.</td>\n",
       "      <td>7.2201</td>\n",
       "      <td>6.756346e+07</td>\n",
       "      <td>NaN</td>\n",
       "      <td>NaN</td>\n",
       "      <td>NaN</td>\n",
       "      <td>amex</td>\n",
       "    </tr>\n",
       "    <tr>\n",
       "      <th>4</th>\n",
       "      <td>ABE</td>\n",
       "      <td>Aberdeen Emerging Markets Smaller Company Oppo...</td>\n",
       "      <td>13.3600</td>\n",
       "      <td>1.288430e+08</td>\n",
       "      <td>NaN</td>\n",
       "      <td>NaN</td>\n",
       "      <td>NaN</td>\n",
       "      <td>amex</td>\n",
       "    </tr>\n",
       "  </tbody>\n",
       "</table>\n",
       "</div>"
      ],
      "text/plain": [
       "     Stock Symbol                                       Company Name  \\\n",
       "0            XXII                            22nd Century Group, Inc   \n",
       "1             FAX              Aberdeen Asia-Pacific Income Fund Inc   \n",
       "2             IAF                 Aberdeen Australia Equity Fund Inc   \n",
       "3              CH                          Aberdeen Chile Fund, Inc.   \n",
       "4  ABE             Aberdeen Emerging Markets Smaller Company Oppo...   \n",
       "\n",
       "   Last Sale  Market Capitalization  IPO Year                 Sector  \\\n",
       "0     1.3300           1.206285e+08       NaN  Consumer Non-Durables   \n",
       "1     5.0000           1.266333e+09    1986.0                    NaN   \n",
       "2     6.1500           1.398653e+08       NaN                    NaN   \n",
       "3     7.2201           6.756346e+07       NaN                    NaN   \n",
       "4    13.3600           1.288430e+08       NaN                    NaN   \n",
       "\n",
       "                Industry exchange  \n",
       "0  Farming/Seeds/Milling     amex  \n",
       "1                    NaN     amex  \n",
       "2                    NaN     amex  \n",
       "3                    NaN     amex  \n",
       "4                    NaN     amex  "
      ]
     },
     "execution_count": 31,
     "metadata": {},
     "output_type": "execute_result"
    }
   ],
   "source": [
    "import pandas as pd\n",
    "# Read Excel file with multiple sheets\n",
    "file_path = 'dataset/listings.xlsx'\n",
    "xls = pd.ExcelFile(file_path)\n",
    "\n",
    "# Create an empty DataFrame to store the combined data\n",
    "listings = pd.DataFrame()\n",
    "\n",
    "# Iterate over sheets and append to the DataFrame with a new 'exchange' column\n",
    "for sheet_name in xls.sheet_names:\n",
    "    df = xls.parse(sheet_name)\n",
    "    df['exchange'] = sheet_name\n",
    "    listings = listings.append(df, ignore_index=True)\n",
    "listings.head()"
   ]
  },
  {
   "cell_type": "code",
   "execution_count": 32,
   "metadata": {},
   "outputs": [
    {
     "name": "stdout",
     "output_type": "stream",
     "text": [
      "<class 'pandas.core.frame.DataFrame'>\n",
      "RangeIndex: 6674 entries, 0 to 6673\n",
      "Data columns (total 8 columns):\n",
      " #   Column                 Non-Null Count  Dtype  \n",
      "---  ------                 --------------  -----  \n",
      " 0   Stock Symbol           6674 non-null   object \n",
      " 1   Company Name           6674 non-null   object \n",
      " 2   Last Sale              6590 non-null   float64\n",
      " 3   Market Capitalization  6674 non-null   float64\n",
      " 4   IPO Year               2852 non-null   float64\n",
      " 5   Sector                 5182 non-null   object \n",
      " 6   Industry               5182 non-null   object \n",
      " 7   exchange               6674 non-null   object \n",
      "dtypes: float64(3), object(5)\n",
      "memory usage: 417.2+ KB\n",
      "None\n"
     ]
    }
   ],
   "source": [
    "print(listings.info())\n"
   ]
  },
  {
   "cell_type": "code",
   "execution_count": 33,
   "metadata": {},
   "outputs": [
    {
     "name": "stdout",
     "output_type": "stream",
     "text": [
      "<class 'pandas.core.frame.DataFrame'>\n",
      "Index: 2349 entries, ACU to ZTO\n",
      "Data columns (total 7 columns):\n",
      " #   Column                 Non-Null Count  Dtype  \n",
      "---  ------                 --------------  -----  \n",
      " 0   Company Name           2349 non-null   object \n",
      " 1   Last Sale              2349 non-null   float64\n",
      " 2   Market Capitalization  2349 non-null   float64\n",
      " 3   IPO Year               2349 non-null   float64\n",
      " 4   Sector                 2349 non-null   object \n",
      " 5   Industry               2349 non-null   object \n",
      " 6   exchange               2349 non-null   object \n",
      "dtypes: float64(3), object(4)\n",
      "memory usage: 146.8+ KB\n",
      "None\n"
     ]
    },
    {
     "data": {
      "text/html": [
       "<div>\n",
       "<style scoped>\n",
       "    .dataframe tbody tr th:only-of-type {\n",
       "        vertical-align: middle;\n",
       "    }\n",
       "\n",
       "    .dataframe tbody tr th {\n",
       "        vertical-align: top;\n",
       "    }\n",
       "\n",
       "    .dataframe thead th {\n",
       "        text-align: right;\n",
       "    }\n",
       "</style>\n",
       "<table border=\"1\" class=\"dataframe\">\n",
       "  <thead>\n",
       "    <tr style=\"text-align: right;\">\n",
       "      <th></th>\n",
       "      <th>Company Name</th>\n",
       "      <th>Last Sale</th>\n",
       "      <th>Market Capitalization</th>\n",
       "      <th>IPO Year</th>\n",
       "      <th>Sector</th>\n",
       "      <th>Industry</th>\n",
       "      <th>exchange</th>\n",
       "    </tr>\n",
       "    <tr>\n",
       "      <th>Stock Symbol</th>\n",
       "      <th></th>\n",
       "      <th></th>\n",
       "      <th></th>\n",
       "      <th></th>\n",
       "      <th></th>\n",
       "      <th></th>\n",
       "      <th></th>\n",
       "    </tr>\n",
       "  </thead>\n",
       "  <tbody>\n",
       "    <tr>\n",
       "      <th>ACU</th>\n",
       "      <td>Acme United Corporation.</td>\n",
       "      <td>27.3900</td>\n",
       "      <td>9.113899e+07</td>\n",
       "      <td>1988.0</td>\n",
       "      <td>Capital Goods</td>\n",
       "      <td>Industrial Machinery/Components</td>\n",
       "      <td>amex</td>\n",
       "    </tr>\n",
       "    <tr>\n",
       "      <th>AAU</th>\n",
       "      <td>Almaden Minerals, Ltd.</td>\n",
       "      <td>1.7200</td>\n",
       "      <td>1.548917e+08</td>\n",
       "      <td>2015.0</td>\n",
       "      <td>Basic Industries</td>\n",
       "      <td>Precious Metals</td>\n",
       "      <td>amex</td>\n",
       "    </tr>\n",
       "    <tr>\n",
       "      <th>USAS</th>\n",
       "      <td>Americas Silver Corporation</td>\n",
       "      <td>3.0500</td>\n",
       "      <td>1.206948e+08</td>\n",
       "      <td>2017.0</td>\n",
       "      <td>Basic Industries</td>\n",
       "      <td>Precious Metals</td>\n",
       "      <td>amex</td>\n",
       "    </tr>\n",
       "    <tr>\n",
       "      <th>AINC</th>\n",
       "      <td>Ashford Inc.</td>\n",
       "      <td>57.3373</td>\n",
       "      <td>1.155508e+08</td>\n",
       "      <td>2014.0</td>\n",
       "      <td>Consumer Services</td>\n",
       "      <td>Professional Services</td>\n",
       "      <td>amex</td>\n",
       "    </tr>\n",
       "    <tr>\n",
       "      <th>AUXO</th>\n",
       "      <td>Auxilio, Inc.</td>\n",
       "      <td>6.3043</td>\n",
       "      <td>5.913104e+07</td>\n",
       "      <td>2017.0</td>\n",
       "      <td>Miscellaneous</td>\n",
       "      <td>Business Services</td>\n",
       "      <td>amex</td>\n",
       "    </tr>\n",
       "  </tbody>\n",
       "</table>\n",
       "</div>"
      ],
      "text/plain": [
       "                             Company Name  Last Sale  Market Capitalization  \\\n",
       "Stock Symbol                                                                  \n",
       "ACU              Acme United Corporation.    27.3900           9.113899e+07   \n",
       "AAU                Almaden Minerals, Ltd.     1.7200           1.548917e+08   \n",
       "USAS          Americas Silver Corporation     3.0500           1.206948e+08   \n",
       "AINC                         Ashford Inc.    57.3373           1.155508e+08   \n",
       "AUXO                        Auxilio, Inc.     6.3043           5.913104e+07   \n",
       "\n",
       "              IPO Year             Sector                         Industry  \\\n",
       "Stock Symbol                                                                 \n",
       "ACU             1988.0      Capital Goods  Industrial Machinery/Components   \n",
       "AAU             2015.0   Basic Industries                  Precious Metals   \n",
       "USAS            2017.0   Basic Industries                  Precious Metals   \n",
       "AINC            2014.0  Consumer Services            Professional Services   \n",
       "AUXO            2017.0      Miscellaneous                Business Services   \n",
       "\n",
       "             exchange  \n",
       "Stock Symbol           \n",
       "ACU              amex  \n",
       "AAU              amex  \n",
       "USAS             amex  \n",
       "AINC             amex  \n",
       "AUXO             amex  "
      ]
     },
     "execution_count": 33,
     "metadata": {},
     "output_type": "execute_result"
    }
   ],
   "source": [
    "# listings.drop(\"exchange\", axis=1, inplace=True)\n",
    "# Move 'stock symbol' into the index\n",
    "listings.set_index('Stock Symbol', inplace = True)\n",
    "\n",
    "# Drop rows with missing 'sector' data\n",
    "listings.dropna(subset=['Sector'], inplace=True)\n",
    "\n",
    "# Select companies with IPO Year before 2019\n",
    "listings = listings[listings['IPO Year']<2019]\n",
    "\n",
    "# Inspect the new listings data\n",
    "print(listings.info())\n",
    "listings.head()\n"
   ]
  },
  {
   "cell_type": "code",
   "execution_count": 34,
   "metadata": {},
   "outputs": [
    {
     "name": "stdout",
     "output_type": "stream",
     "text": [
      "Sector\n",
      "Health Care              445\n",
      "Consumer Services        402\n",
      "Technology               386\n",
      "Finance                  351\n",
      "Energy                   144\n",
      "Capital Goods            143\n",
      "Basic Industries         104\n",
      "Public Utilities         104\n",
      "Consumer Non-Durables     89\n",
      "Miscellaneous             68\n",
      "Transportation            58\n",
      "Consumer Durables         55\n",
      "dtype: int64\n"
     ]
    }
   ],
   "source": [
    "companies_per_sector = listings.groupby('Sector').size().sort_values(ascending=False)\n",
    "# Show the number of companies per sector\n",
    "print(companies_per_sector)"
   ]
  },
  {
   "cell_type": "markdown",
   "metadata": {},
   "source": [
    "# Select and inspect index components"
   ]
  },
  {
   "cell_type": "markdown",
   "metadata": {},
   "source": [
    "Now that you have imported and cleaned the listings data, you can proceed to select the index components as the largest company for each sector by market capitalization.\n",
    "\n",
    "You'll also have the opportunity to take a closer look at the components, their last market value, and last price."
   ]
  },
  {
   "cell_type": "code",
   "execution_count": 35,
   "metadata": {},
   "outputs": [
    {
     "name": "stdout",
     "output_type": "stream",
     "text": [
      "Index: Index(['ACU', 'AAU', 'AINC', 'AUXO', 'BPMX', 'ROX', 'CQH', 'IDN', 'MPO', 'SEB',\n",
      "       'CPRT', 'CHRW'],\n",
      "      dtype='object', name='Stock Symbol')\n",
      "Columns Index(['Company Name', 'Last Sale', 'Market Capitalization', 'IPO Year',\n",
      "       'Sector', 'Industry', 'exchange'],\n",
      "      dtype='object')\n"
     ]
    }
   ],
   "source": [
    "x = listings.groupby(['Sector']).head(1)\n",
    "# print(x)\n",
    "print(\"Index:\" ,x.index)\n",
    "print(\"Columns\", x.columns)"
   ]
  },
  {
   "cell_type": "code",
   "execution_count": 36,
   "metadata": {},
   "outputs": [
    {
     "name": "stdout",
     "output_type": "stream",
     "text": [
      "Sector                 Stock Symbol\n",
      "Technology             AAPL            7.400245e+11\n",
      "Consumer Services      AMZN            4.221385e+11\n",
      "Miscellaneous          BABA            2.755250e+11\n",
      "Health Care            AMGN            1.189272e+11\n",
      "Transportation         UPS             9.018089e+10\n",
      "Finance                GS              8.884059e+10\n",
      "Consumer Non-Durables  ABEV            8.824020e+10\n",
      "Basic Industries       RIO             7.043148e+10\n",
      "Public Utilities       TEF             5.460981e+10\n",
      "Capital Goods          GM              5.008634e+10\n",
      "Energy                 PAA             2.222300e+10\n",
      "Consumer Durables      CPRT            1.362092e+10\n",
      "Name: Market Capitalization, dtype: float64\n",
      "MultiIndex([(     'Basic Industries',  'RIO'),\n",
      "            (        'Capital Goods',   'GM'),\n",
      "            (    'Consumer Durables', 'CPRT'),\n",
      "            ('Consumer Non-Durables', 'ABEV'),\n",
      "            (    'Consumer Services', 'AMZN'),\n",
      "            (               'Energy',  'PAA'),\n",
      "            (              'Finance',   'GS'),\n",
      "            (          'Health Care', 'AMGN'),\n",
      "            (        'Miscellaneous', 'BABA'),\n",
      "            (     'Public Utilities',  'TEF'),\n",
      "            (           'Technology', 'AAPL'),\n",
      "            (       'Transportation',  'UPS')],\n",
      "           names=['Sector', 'Stock Symbol'])\n"
     ]
    }
   ],
   "source": [
    "# Select largest company for each sector\n",
    "components = listings.groupby(['Sector'])['Market Capitalization'].nlargest(1)\n",
    "\n",
    "# Print components, sorted by market cap\n",
    "print(components.sort_values(ascending = False))\n",
    "print(components.index)\n"
   ]
  },
  {
   "cell_type": "code",
   "execution_count": 37,
   "metadata": {},
   "outputs": [
    {
     "name": "stdout",
     "output_type": "stream",
     "text": [
      "Index(['RIO', 'GM', 'CPRT', 'ABEV', 'AMZN', 'PAA', 'GS', 'AMGN', 'BABA', 'TEF',\n",
      "       'AAPL', 'UPS'],\n",
      "      dtype='object', name='Stock Symbol')\n"
     ]
    }
   ],
   "source": [
    "\n",
    "# Select stock symbols and print the result\n",
    "tickers = components.index.get_level_values('Stock Symbol')\n",
    "print(tickers)\n"
   ]
  },
  {
   "cell_type": "code",
   "execution_count": 38,
   "metadata": {},
   "outputs": [
    {
     "name": "stdout",
     "output_type": "stream",
     "text": [
      "                                    Company Name  Market Capitalization  \\\n",
      "Stock Symbol                                                              \n",
      "AAPL                                  Apple Inc.           7.400245e+11   \n",
      "AMZN                            Amazon.com, Inc.           4.221385e+11   \n",
      "BABA               Alibaba Group Holding Limited           2.755250e+11   \n",
      "AMGN                                  Amgen Inc.           1.189272e+11   \n",
      "UPS                  United Parcel Service, Inc.           9.018089e+10   \n",
      "GS               Goldman Sachs Group, Inc. (The)           8.884059e+10   \n",
      "ABEV                                  Ambev S.A.           8.824020e+10   \n",
      "RIO                                Rio Tinto Plc           7.043148e+10   \n",
      "TEF                                Telefonica SA           5.460981e+10   \n",
      "GM                        General Motors Company           5.008634e+10   \n",
      "PAA           Plains All American Pipeline, L.P.           2.222300e+10   \n",
      "CPRT                                Copart, Inc.           1.362092e+10   \n",
      "\n",
      "              Last Sale  \n",
      "Stock Symbol             \n",
      "AAPL             141.05  \n",
      "AMZN             884.67  \n",
      "BABA             110.21  \n",
      "AMGN             161.61  \n",
      "UPS              103.74  \n",
      "GS               223.32  \n",
      "ABEV               5.62  \n",
      "RIO               38.94  \n",
      "TEF               10.84  \n",
      "GM                33.39  \n",
      "PAA               30.72  \n",
      "CPRT              29.65  \n"
     ]
    }
   ],
   "source": [
    "\n",
    "# Print company name, market cap, and last price for each component \n",
    "info_cols = ['Company Name', 'Market Capitalization', 'Last Sale']\n",
    "print(listings.loc[tickers,info_cols].sort_values('Market Capitalization',ascending = False))"
   ]
  },
  {
   "cell_type": "markdown",
   "metadata": {},
   "source": [
    "# Import index component price information"
   ]
  },
  {
   "cell_type": "markdown",
   "metadata": {},
   "source": [
    "Now you'll use the stock symbols for the companies you selected in the last exercise to calculate returns for each company."
   ]
  },
  {
   "cell_type": "code",
   "execution_count": 39,
   "metadata": {},
   "outputs": [
    {
     "name": "stdout",
     "output_type": "stream",
     "text": [
      "['RIO', 'GM', 'CPRT', 'ABEV', 'AMZN', 'PAA', 'GS', 'AMGN', 'BABA', 'TEF', 'AAPL', 'UPS']\n",
      "<class 'pandas.core.frame.DataFrame'>\n",
      "DatetimeIndex: 1762 entries, 2010-01-04 to 2016-12-30\n",
      "Data columns (total 12 columns):\n",
      " #   Column  Non-Null Count  Dtype  \n",
      "---  ------  --------------  -----  \n",
      " 0   AAPL    1761 non-null   float64\n",
      " 1   AMGN    1761 non-null   float64\n",
      " 2   AMZN    1761 non-null   float64\n",
      " 3   CPRT    1761 non-null   float64\n",
      " 4   EL      1762 non-null   float64\n",
      " 5   GS      1762 non-null   float64\n",
      " 6   ILMN    1761 non-null   float64\n",
      " 7   MA      1762 non-null   float64\n",
      " 8   PAA     1762 non-null   float64\n",
      " 9   RIO     1762 non-null   float64\n",
      " 10  TEF     1762 non-null   float64\n",
      " 11  UPS     1762 non-null   float64\n",
      "dtypes: float64(12)\n",
      "memory usage: 179.0 KB\n",
      "None\n"
     ]
    }
   ],
   "source": [
    "tickers = list(tickers)\n",
    "\n",
    "# Print tickers\n",
    "print(tickers)\n",
    "\n",
    "# Import prices and inspect result\n",
    "stock_prices = pd.read_csv('dataset/stock_data.csv', parse_dates=['Date'], index_col='Date')\n",
    "print(stock_prices.info())\n",
    "\n",
    "\n",
    "\n"
   ]
  },
  {
   "cell_type": "code",
   "execution_count": 40,
   "metadata": {},
   "outputs": [
    {
     "data": {
      "image/png": "[encoded data removed]",
      "text/plain": [
       "<Figure size 432x288 with 1 Axes>"
      ]
     },
     "metadata": {
      "needs_background": "light"
     },
     "output_type": "display_data"
    }
   ],
   "source": [
    "import matplotlib.pyplot as plt\n",
    "# Calculate the returns (gain from the beginning to the end)\n",
    "price_return = stock_prices.iloc[-1].div(stock_prices.iloc[0]).sub(1).mul(100)\n",
    "\n",
    "# Plot horizontal bar chart of sorted price_return  \n",
    "price_return.sort_values().plot(kind='barh', title = \"Stock Price Returns\") \n",
    "plt.show()"
   ]
  },
  {
   "cell_type": "markdown",
   "metadata": {},
   "source": [
    "# Calculate number of shares outstanding"
   ]
  },
  {
   "cell_type": "markdown",
   "metadata": {},
   "source": [
    "The next step towards building a value-weighted index is to calculate the number of shares for each index component.\n",
    "\n",
    "The number of shares will allow you to calculate the total market capitalization for each component given the historical price series in the next exercise."
   ]
  },
  {
   "cell_type": "code",
   "execution_count": 41,
   "metadata": {},
   "outputs": [
    {
     "name": "stdout",
     "output_type": "stream",
     "text": [
      "<class 'pandas.core.frame.DataFrame'>\n",
      "Index: 2349 entries, ACU to ZTO\n",
      "Data columns (total 7 columns):\n",
      " #   Column                 Non-Null Count  Dtype  \n",
      "---  ------                 --------------  -----  \n",
      " 0   Company Name           2349 non-null   object \n",
      " 1   Last Sale              2349 non-null   float64\n",
      " 2   Market Capitalization  2349 non-null   float64\n",
      " 3   IPO Year               2349 non-null   float64\n",
      " 4   Sector                 2349 non-null   object \n",
      " 5   Industry               2349 non-null   object \n",
      " 6   exchange               2349 non-null   object \n",
      "dtypes: float64(3), object(4)\n",
      "memory usage: 211.4+ KB\n",
      "None\n",
      "['RIO', 'GM', 'CPRT', 'ABEV', 'AMZN', 'PAA', 'GS', 'AMGN', 'BABA', 'TEF', 'AAPL', 'UPS']\n"
     ]
    }
   ],
   "source": [
    "# Inspect listings and print tickers\n",
    "print(listings.info())\n",
    "print(tickers)\n"
   ]
  },
  {
   "cell_type": "code",
   "execution_count": 42,
   "metadata": {},
   "outputs": [
    {
     "name": "stdout",
     "output_type": "stream",
     "text": [
      "              Market Capitalization  Last Sale\n",
      "Stock Symbol                                  \n",
      "RIO                    7.043148e+10      38.94\n",
      "GM                     5.008634e+10      33.39\n",
      "CPRT                   1.362092e+10      29.65\n",
      "ABEV                   8.824020e+10       5.62\n",
      "AMZN                   4.221385e+11     884.67\n"
     ]
    }
   ],
   "source": [
    "\n",
    "# Select components and relevant columns from listings\n",
    "components = listings.loc[tickers,['Market Capitalization' , 'Last Sale']]\n",
    "\n",
    "# Print the first rows of components\n",
    "print(components.head(5))\n"
   ]
  },
  {
   "cell_type": "code",
   "execution_count": 43,
   "metadata": {},
   "outputs": [
    {
     "name": "stdout",
     "output_type": "stream",
     "text": [
      "Stock Symbol\n",
      "ABEV    1.570110e+10\n",
      "AAPL    5.246540e+09\n",
      "TEF     5.037805e+09\n",
      "BABA    2.500000e+09\n",
      "RIO     1.808718e+09\n",
      "GM      1.500040e+09\n",
      "UPS     8.692972e+08\n",
      "AMGN    7.358902e+08\n",
      "PAA     7.234050e+08\n",
      "AMZN    4.771706e+08\n",
      "CPRT    4.593903e+08\n",
      "GS      3.978174e+08\n",
      "dtype: float64\n"
     ]
    }
   ],
   "source": [
    "\n",
    "# Calculate the number of shares here\n",
    "no_shares = components['Market Capitalization'].div(components['Last Sale'])\n",
    "\n",
    "# Print the sorted no_shares\n",
    "print(no_shares.sort_values(ascending = False))\n"
   ]
  },
  {
   "cell_type": "markdown",
   "metadata": {},
   "source": [
    "# Create time series of market value"
   ]
  },
  {
   "cell_type": "markdown",
   "metadata": {},
   "source": [
    "You can now use the number of shares to calculate the total market capitalization for each component and trading date from the historical price series.\n",
    "\n",
    "The result will be the key input to construct the value-weighted stock index, which you will complete in the next exercise."
   ]
  },
  {
   "cell_type": "code",
   "execution_count": 44,
   "metadata": {},
   "outputs": [
    {
     "name": "stdout",
     "output_type": "stream",
     "text": [
      "Stock Symbol\n",
      "GS      3.978174e+08\n",
      "CPRT    4.593903e+08\n",
      "AMZN    4.771706e+08\n",
      "PAA     7.234050e+08\n",
      "AMGN    7.358902e+08\n",
      "UPS     8.692972e+08\n",
      "GM      1.500040e+09\n",
      "RIO     1.808718e+09\n",
      "BABA    2.500000e+09\n",
      "TEF     5.037805e+09\n",
      "AAPL    5.246540e+09\n",
      "ABEV    1.570110e+10\n",
      "Name: Number of Shares, dtype: float64\n"
     ]
    }
   ],
   "source": [
    "components['Number of Shares'] = no_shares\n",
    "# Select the number of shares\n",
    "no_shares = components['Number of Shares']\n",
    "print(no_shares.sort_values())\n"
   ]
  },
  {
   "cell_type": "code",
   "execution_count": 45,
   "metadata": {},
   "outputs": [
    {
     "data": {
      "text/html": [
       "<div>\n",
       "<style scoped>\n",
       "    .dataframe tbody tr th:only-of-type {\n",
       "        vertical-align: middle;\n",
       "    }\n",
       "\n",
       "    .dataframe tbody tr th {\n",
       "        vertical-align: top;\n",
       "    }\n",
       "\n",
       "    .dataframe thead th {\n",
       "        text-align: right;\n",
       "    }\n",
       "</style>\n",
       "<table border=\"1\" class=\"dataframe\">\n",
       "  <thead>\n",
       "    <tr style=\"text-align: right;\">\n",
       "      <th></th>\n",
       "      <th>AAPL</th>\n",
       "      <th>ABEV</th>\n",
       "      <th>AMGN</th>\n",
       "      <th>AMZN</th>\n",
       "      <th>BABA</th>\n",
       "      <th>CPRT</th>\n",
       "      <th>EL</th>\n",
       "      <th>GM</th>\n",
       "      <th>GS</th>\n",
       "      <th>ILMN</th>\n",
       "      <th>MA</th>\n",
       "      <th>PAA</th>\n",
       "      <th>RIO</th>\n",
       "      <th>TEF</th>\n",
       "      <th>UPS</th>\n",
       "    </tr>\n",
       "    <tr>\n",
       "      <th>Date</th>\n",
       "      <th></th>\n",
       "      <th></th>\n",
       "      <th></th>\n",
       "      <th></th>\n",
       "      <th></th>\n",
       "      <th></th>\n",
       "      <th></th>\n",
       "      <th></th>\n",
       "      <th></th>\n",
       "      <th></th>\n",
       "      <th></th>\n",
       "      <th></th>\n",
       "      <th></th>\n",
       "      <th></th>\n",
       "      <th></th>\n",
       "    </tr>\n",
       "  </thead>\n",
       "  <tbody>\n",
       "    <tr>\n",
       "      <th>2010-01-04</th>\n",
       "      <td>1.603867e+11</td>\n",
       "      <td>NaN</td>\n",
       "      <td>4.247558e+10</td>\n",
       "      <td>6.389315e+10</td>\n",
       "      <td>NaN</td>\n",
       "      <td>2.090226e+09</td>\n",
       "      <td>NaN</td>\n",
       "      <td>NaN</td>\n",
       "      <td>6.885424e+10</td>\n",
       "      <td>NaN</td>\n",
       "      <td>NaN</td>\n",
       "      <td>1.953193e+10</td>\n",
       "      <td>1.013425e+11</td>\n",
       "      <td>1.438293e+11</td>\n",
       "      <td>5.057571e+10</td>\n",
       "    </tr>\n",
       "    <tr>\n",
       "      <th>2010-01-05</th>\n",
       "      <td>1.607015e+11</td>\n",
       "      <td>NaN</td>\n",
       "      <td>4.210764e+10</td>\n",
       "      <td>6.427011e+10</td>\n",
       "      <td>NaN</td>\n",
       "      <td>2.090226e+09</td>\n",
       "      <td>NaN</td>\n",
       "      <td>NaN</td>\n",
       "      <td>7.007156e+10</td>\n",
       "      <td>NaN</td>\n",
       "      <td>NaN</td>\n",
       "      <td>1.974896e+10</td>\n",
       "      <td>1.029161e+11</td>\n",
       "      <td>1.437286e+11</td>\n",
       "      <td>5.066264e+10</td>\n",
       "    </tr>\n",
       "    <tr>\n",
       "      <th>2010-01-06</th>\n",
       "      <td>1.581307e+11</td>\n",
       "      <td>NaN</td>\n",
       "      <td>4.179120e+10</td>\n",
       "      <td>6.310581e+10</td>\n",
       "      <td>NaN</td>\n",
       "      <td>2.081038e+09</td>\n",
       "      <td>NaN</td>\n",
       "      <td>NaN</td>\n",
       "      <td>6.932367e+10</td>\n",
       "      <td>NaN</td>\n",
       "      <td>NaN</td>\n",
       "      <td>1.974172e+10</td>\n",
       "      <td>1.060632e+11</td>\n",
       "      <td>1.422172e+11</td>\n",
       "      <td>5.028884e+10</td>\n",
       "    </tr>\n",
       "    <tr>\n",
       "      <th>2010-01-07</th>\n",
       "      <td>1.578159e+11</td>\n",
       "      <td>NaN</td>\n",
       "      <td>4.140854e+10</td>\n",
       "      <td>6.203218e+10</td>\n",
       "      <td>NaN</td>\n",
       "      <td>2.067256e+09</td>\n",
       "      <td>NaN</td>\n",
       "      <td>NaN</td>\n",
       "      <td>7.068022e+10</td>\n",
       "      <td>NaN</td>\n",
       "      <td>NaN</td>\n",
       "      <td>1.950300e+10</td>\n",
       "      <td>1.060813e+11</td>\n",
       "      <td>1.397991e+11</td>\n",
       "      <td>4.990635e+10</td>\n",
       "    </tr>\n",
       "    <tr>\n",
       "      <th>2010-01-08</th>\n",
       "      <td>1.588652e+11</td>\n",
       "      <td>NaN</td>\n",
       "      <td>4.177649e+10</td>\n",
       "      <td>6.371182e+10</td>\n",
       "      <td>NaN</td>\n",
       "      <td>2.076444e+09</td>\n",
       "      <td>NaN</td>\n",
       "      <td>NaN</td>\n",
       "      <td>6.934356e+10</td>\n",
       "      <td>NaN</td>\n",
       "      <td>NaN</td>\n",
       "      <td>1.956811e+10</td>\n",
       "      <td>1.072570e+11</td>\n",
       "      <td>1.388923e+11</td>\n",
       "      <td>5.230561e+10</td>\n",
       "    </tr>\n",
       "    <tr>\n",
       "      <th>...</th>\n",
       "      <td>...</td>\n",
       "      <td>...</td>\n",
       "      <td>...</td>\n",
       "      <td>...</td>\n",
       "      <td>...</td>\n",
       "      <td>...</td>\n",
       "      <td>...</td>\n",
       "      <td>...</td>\n",
       "      <td>...</td>\n",
       "      <td>...</td>\n",
       "      <td>...</td>\n",
       "      <td>...</td>\n",
       "      <td>...</td>\n",
       "      <td>...</td>\n",
       "      <td>...</td>\n",
       "    </tr>\n",
       "    <tr>\n",
       "      <th>2016-12-23</th>\n",
       "      <td>6.113268e+11</td>\n",
       "      <td>NaN</td>\n",
       "      <td>1.085806e+11</td>\n",
       "      <td>3.629312e+11</td>\n",
       "      <td>NaN</td>\n",
       "      <td>6.380931e+09</td>\n",
       "      <td>NaN</td>\n",
       "      <td>NaN</td>\n",
       "      <td>9.586207e+10</td>\n",
       "      <td>NaN</td>\n",
       "      <td>NaN</td>\n",
       "      <td>2.416896e+10</td>\n",
       "      <td>6.894833e+10</td>\n",
       "      <td>4.619667e+10</td>\n",
       "      <td>1.008124e+11</td>\n",
       "    </tr>\n",
       "    <tr>\n",
       "      <th>2016-12-27</th>\n",
       "      <td>6.152093e+11</td>\n",
       "      <td>NaN</td>\n",
       "      <td>1.091767e+11</td>\n",
       "      <td>3.680894e+11</td>\n",
       "      <td>NaN</td>\n",
       "      <td>6.431464e+09</td>\n",
       "      <td>NaN</td>\n",
       "      <td>NaN</td>\n",
       "      <td>9.609678e+10</td>\n",
       "      <td>NaN</td>\n",
       "      <td>NaN</td>\n",
       "      <td>2.422683e+10</td>\n",
       "      <td>6.936433e+10</td>\n",
       "      <td>4.599516e+10</td>\n",
       "      <td>1.009515e+11</td>\n",
       "    </tr>\n",
       "    <tr>\n",
       "      <th>2016-12-28</th>\n",
       "      <td>6.125860e+11</td>\n",
       "      <td>NaN</td>\n",
       "      <td>1.086689e+11</td>\n",
       "      <td>3.684377e+11</td>\n",
       "      <td>NaN</td>\n",
       "      <td>6.380931e+09</td>\n",
       "      <td>NaN</td>\n",
       "      <td>NaN</td>\n",
       "      <td>9.573477e+10</td>\n",
       "      <td>NaN</td>\n",
       "      <td>NaN</td>\n",
       "      <td>2.390854e+10</td>\n",
       "      <td>7.030487e+10</td>\n",
       "      <td>4.549138e+10</td>\n",
       "      <td>1.001430e+11</td>\n",
       "    </tr>\n",
       "    <tr>\n",
       "      <th>2016-12-29</th>\n",
       "      <td>6.124286e+11</td>\n",
       "      <td>NaN</td>\n",
       "      <td>1.087498e+11</td>\n",
       "      <td>3.651071e+11</td>\n",
       "      <td>NaN</td>\n",
       "      <td>6.376338e+09</td>\n",
       "      <td>NaN</td>\n",
       "      <td>NaN</td>\n",
       "      <td>9.475216e+10</td>\n",
       "      <td>NaN</td>\n",
       "      <td>NaN</td>\n",
       "      <td>2.348896e+10</td>\n",
       "      <td>7.035913e+10</td>\n",
       "      <td>4.599516e+10</td>\n",
       "      <td>9.995179e+10</td>\n",
       "    </tr>\n",
       "    <tr>\n",
       "      <th>2016-12-30</th>\n",
       "      <td>6.076543e+11</td>\n",
       "      <td>NaN</td>\n",
       "      <td>1.075945e+11</td>\n",
       "      <td>3.578159e+11</td>\n",
       "      <td>NaN</td>\n",
       "      <td>6.362556e+09</td>\n",
       "      <td>NaN</td>\n",
       "      <td>NaN</td>\n",
       "      <td>9.525739e+10</td>\n",
       "      <td>NaN</td>\n",
       "      <td>NaN</td>\n",
       "      <td>2.335875e+10</td>\n",
       "      <td>6.956329e+10</td>\n",
       "      <td>4.634781e+10</td>\n",
       "      <td>9.965623e+10</td>\n",
       "    </tr>\n",
       "  </tbody>\n",
       "</table>\n",
       "<p>1762 rows × 15 columns</p>\n",
       "</div>"
      ],
      "text/plain": [
       "                    AAPL  ABEV          AMGN          AMZN  BABA  \\\n",
       "Date                                                               \n",
       "2010-01-04  1.603867e+11   NaN  4.247558e+10  6.389315e+10   NaN   \n",
       "2010-01-05  1.607015e+11   NaN  4.210764e+10  6.427011e+10   NaN   \n",
       "2010-01-06  1.581307e+11   NaN  4.179120e+10  6.310581e+10   NaN   \n",
       "2010-01-07  1.578159e+11   NaN  4.140854e+10  6.203218e+10   NaN   \n",
       "2010-01-08  1.588652e+11   NaN  4.177649e+10  6.371182e+10   NaN   \n",
       "...                  ...   ...           ...           ...   ...   \n",
       "2016-12-23  6.113268e+11   NaN  1.085806e+11  3.629312e+11   NaN   \n",
       "2016-12-27  6.152093e+11   NaN  1.091767e+11  3.680894e+11   NaN   \n",
       "2016-12-28  6.125860e+11   NaN  1.086689e+11  3.684377e+11   NaN   \n",
       "2016-12-29  6.124286e+11   NaN  1.087498e+11  3.651071e+11   NaN   \n",
       "2016-12-30  6.076543e+11   NaN  1.075945e+11  3.578159e+11   NaN   \n",
       "\n",
       "                    CPRT  EL  GM            GS  ILMN  MA           PAA  \\\n",
       "Date                                                                     \n",
       "2010-01-04  2.090226e+09 NaN NaN  6.885424e+10   NaN NaN  1.953193e+10   \n",
       "2010-01-05  2.090226e+09 NaN NaN  7.007156e+10   NaN NaN  1.974896e+10   \n",
       "2010-01-06  2.081038e+09 NaN NaN  6.932367e+10   NaN NaN  1.974172e+10   \n",
       "2010-01-07  2.067256e+09 NaN NaN  7.068022e+10   NaN NaN  1.950300e+10   \n",
       "2010-01-08  2.076444e+09 NaN NaN  6.934356e+10   NaN NaN  1.956811e+10   \n",
       "...                  ...  ..  ..           ...   ...  ..           ...   \n",
       "2016-12-23  6.380931e+09 NaN NaN  9.586207e+10   NaN NaN  2.416896e+10   \n",
       "2016-12-27  6.431464e+09 NaN NaN  9.609678e+10   NaN NaN  2.422683e+10   \n",
       "2016-12-28  6.380931e+09 NaN NaN  9.573477e+10   NaN NaN  2.390854e+10   \n",
       "2016-12-29  6.376338e+09 NaN NaN  9.475216e+10   NaN NaN  2.348896e+10   \n",
       "2016-12-30  6.362556e+09 NaN NaN  9.525739e+10   NaN NaN  2.335875e+10   \n",
       "\n",
       "                     RIO           TEF           UPS  \n",
       "Date                                                  \n",
       "2010-01-04  1.013425e+11  1.438293e+11  5.057571e+10  \n",
       "2010-01-05  1.029161e+11  1.437286e+11  5.066264e+10  \n",
       "2010-01-06  1.060632e+11  1.422172e+11  5.028884e+10  \n",
       "2010-01-07  1.060813e+11  1.397991e+11  4.990635e+10  \n",
       "2010-01-08  1.072570e+11  1.388923e+11  5.230561e+10  \n",
       "...                  ...           ...           ...  \n",
       "2016-12-23  6.894833e+10  4.619667e+10  1.008124e+11  \n",
       "2016-12-27  6.936433e+10  4.599516e+10  1.009515e+11  \n",
       "2016-12-28  7.030487e+10  4.549138e+10  1.001430e+11  \n",
       "2016-12-29  7.035913e+10  4.599516e+10  9.995179e+10  \n",
       "2016-12-30  6.956329e+10  4.634781e+10  9.965623e+10  \n",
       "\n",
       "[1762 rows x 15 columns]"
      ]
     },
     "execution_count": 45,
     "metadata": {},
     "output_type": "execute_result"
    }
   ],
   "source": [
    "\n",
    "# Create the series of market cap per ticker\n",
    "market_cap = stock_prices.mul(no_shares)\n",
    "market_cap"
   ]
  },
  {
   "cell_type": "code",
   "execution_count": 46,
   "metadata": {},
   "outputs": [
    {
     "data": {
      "text/html": [
       "<div>\n",
       "<style scoped>\n",
       "    .dataframe tbody tr th:only-of-type {\n",
       "        vertical-align: middle;\n",
       "    }\n",
       "\n",
       "    .dataframe tbody tr th {\n",
       "        vertical-align: top;\n",
       "    }\n",
       "\n",
       "    .dataframe thead th {\n",
       "        text-align: right;\n",
       "    }\n",
       "</style>\n",
       "<table border=\"1\" class=\"dataframe\">\n",
       "  <thead>\n",
       "    <tr style=\"text-align: right;\">\n",
       "      <th></th>\n",
       "      <th>2010-01-04</th>\n",
       "      <th>2016-12-30</th>\n",
       "    </tr>\n",
       "  </thead>\n",
       "  <tbody>\n",
       "    <tr>\n",
       "      <th>AAPL</th>\n",
       "      <td>1.603867e+11</td>\n",
       "      <td>6.076543e+11</td>\n",
       "    </tr>\n",
       "    <tr>\n",
       "      <th>ABEV</th>\n",
       "      <td>NaN</td>\n",
       "      <td>NaN</td>\n",
       "    </tr>\n",
       "    <tr>\n",
       "      <th>AMGN</th>\n",
       "      <td>4.247558e+10</td>\n",
       "      <td>1.075945e+11</td>\n",
       "    </tr>\n",
       "    <tr>\n",
       "      <th>AMZN</th>\n",
       "      <td>6.389315e+10</td>\n",
       "      <td>3.578159e+11</td>\n",
       "    </tr>\n",
       "    <tr>\n",
       "      <th>BABA</th>\n",
       "      <td>NaN</td>\n",
       "      <td>NaN</td>\n",
       "    </tr>\n",
       "    <tr>\n",
       "      <th>CPRT</th>\n",
       "      <td>2.090226e+09</td>\n",
       "      <td>6.362556e+09</td>\n",
       "    </tr>\n",
       "    <tr>\n",
       "      <th>EL</th>\n",
       "      <td>NaN</td>\n",
       "      <td>NaN</td>\n",
       "    </tr>\n",
       "    <tr>\n",
       "      <th>GM</th>\n",
       "      <td>NaN</td>\n",
       "      <td>NaN</td>\n",
       "    </tr>\n",
       "    <tr>\n",
       "      <th>GS</th>\n",
       "      <td>6.885424e+10</td>\n",
       "      <td>9.525739e+10</td>\n",
       "    </tr>\n",
       "    <tr>\n",
       "      <th>ILMN</th>\n",
       "      <td>NaN</td>\n",
       "      <td>NaN</td>\n",
       "    </tr>\n",
       "    <tr>\n",
       "      <th>MA</th>\n",
       "      <td>NaN</td>\n",
       "      <td>NaN</td>\n",
       "    </tr>\n",
       "    <tr>\n",
       "      <th>PAA</th>\n",
       "      <td>1.953193e+10</td>\n",
       "      <td>2.335875e+10</td>\n",
       "    </tr>\n",
       "    <tr>\n",
       "      <th>RIO</th>\n",
       "      <td>1.013425e+11</td>\n",
       "      <td>6.956329e+10</td>\n",
       "    </tr>\n",
       "    <tr>\n",
       "      <th>TEF</th>\n",
       "      <td>1.438293e+11</td>\n",
       "      <td>4.634781e+10</td>\n",
       "    </tr>\n",
       "    <tr>\n",
       "      <th>UPS</th>\n",
       "      <td>5.057571e+10</td>\n",
       "      <td>9.965623e+10</td>\n",
       "    </tr>\n",
       "  </tbody>\n",
       "</table>\n",
       "</div>"
      ],
      "text/plain": [
       "        2010-01-04    2016-12-30\n",
       "AAPL  1.603867e+11  6.076543e+11\n",
       "ABEV           NaN           NaN\n",
       "AMGN  4.247558e+10  1.075945e+11\n",
       "AMZN  6.389315e+10  3.578159e+11\n",
       "BABA           NaN           NaN\n",
       "CPRT  2.090226e+09  6.362556e+09\n",
       "EL             NaN           NaN\n",
       "GM             NaN           NaN\n",
       "GS    6.885424e+10  9.525739e+10\n",
       "ILMN           NaN           NaN\n",
       "MA             NaN           NaN\n",
       "PAA   1.953193e+10  2.335875e+10\n",
       "RIO   1.013425e+11  6.956329e+10\n",
       "TEF   1.438293e+11  4.634781e+10\n",
       "UPS   5.057571e+10  9.965623e+10"
      ]
     },
     "execution_count": 46,
     "metadata": {},
     "output_type": "execute_result"
    }
   ],
   "source": [
    "\n",
    "\n",
    "# Select first and last market cap here\n",
    "first_value = market_cap.iloc[0]\n",
    "last_value = market_cap.iloc[-1]\n",
    "new_df  = pd.concat([first_value,last_value], axis = 1)\n",
    "\n",
    "new_df\n"
   ]
  },
  {
   "cell_type": "code",
   "execution_count": 47,
   "metadata": {},
   "outputs": [
    {
     "data": {
      "image/png": "[encoded data removed]",
      "text/plain": [
       "<Figure size 432x288 with 1 Axes>"
      ]
     },
     "metadata": {
      "needs_background": "light"
     },
     "output_type": "display_data"
    }
   ],
   "source": [
    "# Concatenate and plot first and last market cap here\n",
    "new_df.plot(kind=\"barh\")\n",
    "plt.show()"
   ]
  },
  {
   "cell_type": "markdown",
   "metadata": {},
   "source": [
    "# Calculate & plot the composite index"
   ]
  },
  {
   "cell_type": "markdown",
   "metadata": {},
   "source": [
    "By now you have all ingredients that you need to calculate the aggregate stock performance for your group of companies.\n",
    "\n",
    "Use the time series of market capitalization that you created in the last exercise to aggregate the market value for each period, and then normalize this series to convert it to an index."
   ]
  },
  {
   "cell_type": "code",
   "execution_count": 48,
   "metadata": {},
   "outputs": [
    {
     "data": {
      "text/html": [
       "<div>\n",
       "<style scoped>\n",
       "    .dataframe tbody tr th:only-of-type {\n",
       "        vertical-align: middle;\n",
       "    }\n",
       "\n",
       "    .dataframe tbody tr th {\n",
       "        vertical-align: top;\n",
       "    }\n",
       "\n",
       "    .dataframe thead th {\n",
       "        text-align: right;\n",
       "    }\n",
       "</style>\n",
       "<table border=\"1\" class=\"dataframe\">\n",
       "  <thead>\n",
       "    <tr style=\"text-align: right;\">\n",
       "      <th></th>\n",
       "      <th>AAPL</th>\n",
       "      <th>ABEV</th>\n",
       "      <th>AMGN</th>\n",
       "      <th>AMZN</th>\n",
       "      <th>BABA</th>\n",
       "      <th>CPRT</th>\n",
       "      <th>EL</th>\n",
       "      <th>GM</th>\n",
       "      <th>GS</th>\n",
       "      <th>ILMN</th>\n",
       "      <th>MA</th>\n",
       "      <th>PAA</th>\n",
       "      <th>RIO</th>\n",
       "      <th>TEF</th>\n",
       "      <th>UPS</th>\n",
       "    </tr>\n",
       "    <tr>\n",
       "      <th>Date</th>\n",
       "      <th></th>\n",
       "      <th></th>\n",
       "      <th></th>\n",
       "      <th></th>\n",
       "      <th></th>\n",
       "      <th></th>\n",
       "      <th></th>\n",
       "      <th></th>\n",
       "      <th></th>\n",
       "      <th></th>\n",
       "      <th></th>\n",
       "      <th></th>\n",
       "      <th></th>\n",
       "      <th></th>\n",
       "      <th></th>\n",
       "    </tr>\n",
       "  </thead>\n",
       "  <tbody>\n",
       "    <tr>\n",
       "      <th>2010-01-04</th>\n",
       "      <td>1.603867e+11</td>\n",
       "      <td>NaN</td>\n",
       "      <td>4.247558e+10</td>\n",
       "      <td>6.389315e+10</td>\n",
       "      <td>NaN</td>\n",
       "      <td>2.090226e+09</td>\n",
       "      <td>NaN</td>\n",
       "      <td>NaN</td>\n",
       "      <td>6.885424e+10</td>\n",
       "      <td>NaN</td>\n",
       "      <td>NaN</td>\n",
       "      <td>1.953193e+10</td>\n",
       "      <td>1.013425e+11</td>\n",
       "      <td>1.438293e+11</td>\n",
       "      <td>5.057571e+10</td>\n",
       "    </tr>\n",
       "    <tr>\n",
       "      <th>2010-01-05</th>\n",
       "      <td>1.607015e+11</td>\n",
       "      <td>NaN</td>\n",
       "      <td>4.210764e+10</td>\n",
       "      <td>6.427011e+10</td>\n",
       "      <td>NaN</td>\n",
       "      <td>2.090226e+09</td>\n",
       "      <td>NaN</td>\n",
       "      <td>NaN</td>\n",
       "      <td>7.007156e+10</td>\n",
       "      <td>NaN</td>\n",
       "      <td>NaN</td>\n",
       "      <td>1.974896e+10</td>\n",
       "      <td>1.029161e+11</td>\n",
       "      <td>1.437286e+11</td>\n",
       "      <td>5.066264e+10</td>\n",
       "    </tr>\n",
       "    <tr>\n",
       "      <th>2010-01-06</th>\n",
       "      <td>1.581307e+11</td>\n",
       "      <td>NaN</td>\n",
       "      <td>4.179120e+10</td>\n",
       "      <td>6.310581e+10</td>\n",
       "      <td>NaN</td>\n",
       "      <td>2.081038e+09</td>\n",
       "      <td>NaN</td>\n",
       "      <td>NaN</td>\n",
       "      <td>6.932367e+10</td>\n",
       "      <td>NaN</td>\n",
       "      <td>NaN</td>\n",
       "      <td>1.974172e+10</td>\n",
       "      <td>1.060632e+11</td>\n",
       "      <td>1.422172e+11</td>\n",
       "      <td>5.028884e+10</td>\n",
       "    </tr>\n",
       "    <tr>\n",
       "      <th>2010-01-07</th>\n",
       "      <td>1.578159e+11</td>\n",
       "      <td>NaN</td>\n",
       "      <td>4.140854e+10</td>\n",
       "      <td>6.203218e+10</td>\n",
       "      <td>NaN</td>\n",
       "      <td>2.067256e+09</td>\n",
       "      <td>NaN</td>\n",
       "      <td>NaN</td>\n",
       "      <td>7.068022e+10</td>\n",
       "      <td>NaN</td>\n",
       "      <td>NaN</td>\n",
       "      <td>1.950300e+10</td>\n",
       "      <td>1.060813e+11</td>\n",
       "      <td>1.397991e+11</td>\n",
       "      <td>4.990635e+10</td>\n",
       "    </tr>\n",
       "    <tr>\n",
       "      <th>2010-01-08</th>\n",
       "      <td>1.588652e+11</td>\n",
       "      <td>NaN</td>\n",
       "      <td>4.177649e+10</td>\n",
       "      <td>6.371182e+10</td>\n",
       "      <td>NaN</td>\n",
       "      <td>2.076444e+09</td>\n",
       "      <td>NaN</td>\n",
       "      <td>NaN</td>\n",
       "      <td>6.934356e+10</td>\n",
       "      <td>NaN</td>\n",
       "      <td>NaN</td>\n",
       "      <td>1.956811e+10</td>\n",
       "      <td>1.072570e+11</td>\n",
       "      <td>1.388923e+11</td>\n",
       "      <td>5.230561e+10</td>\n",
       "    </tr>\n",
       "  </tbody>\n",
       "</table>\n",
       "</div>"
      ],
      "text/plain": [
       "                    AAPL  ABEV          AMGN          AMZN  BABA  \\\n",
       "Date                                                               \n",
       "2010-01-04  1.603867e+11   NaN  4.247558e+10  6.389315e+10   NaN   \n",
       "2010-01-05  1.607015e+11   NaN  4.210764e+10  6.427011e+10   NaN   \n",
       "2010-01-06  1.581307e+11   NaN  4.179120e+10  6.310581e+10   NaN   \n",
       "2010-01-07  1.578159e+11   NaN  4.140854e+10  6.203218e+10   NaN   \n",
       "2010-01-08  1.588652e+11   NaN  4.177649e+10  6.371182e+10   NaN   \n",
       "\n",
       "                    CPRT  EL  GM            GS  ILMN  MA           PAA  \\\n",
       "Date                                                                     \n",
       "2010-01-04  2.090226e+09 NaN NaN  6.885424e+10   NaN NaN  1.953193e+10   \n",
       "2010-01-05  2.090226e+09 NaN NaN  7.007156e+10   NaN NaN  1.974896e+10   \n",
       "2010-01-06  2.081038e+09 NaN NaN  6.932367e+10   NaN NaN  1.974172e+10   \n",
       "2010-01-07  2.067256e+09 NaN NaN  7.068022e+10   NaN NaN  1.950300e+10   \n",
       "2010-01-08  2.076444e+09 NaN NaN  6.934356e+10   NaN NaN  1.956811e+10   \n",
       "\n",
       "                     RIO           TEF           UPS  \n",
       "Date                                                  \n",
       "2010-01-04  1.013425e+11  1.438293e+11  5.057571e+10  \n",
       "2010-01-05  1.029161e+11  1.437286e+11  5.066264e+10  \n",
       "2010-01-06  1.060632e+11  1.422172e+11  5.028884e+10  \n",
       "2010-01-07  1.060813e+11  1.397991e+11  4.990635e+10  \n",
       "2010-01-08  1.072570e+11  1.388923e+11  5.230561e+10  "
      ]
     },
     "execution_count": 48,
     "metadata": {},
     "output_type": "execute_result"
    }
   ],
   "source": [
    "market_cap.head()"
   ]
  },
  {
   "cell_type": "code",
   "execution_count": 49,
   "metadata": {},
   "outputs": [
    {
     "name": "stdout",
     "output_type": "stream",
     "text": [
      "Date\n",
      "2010-01-04    6.529794e+11\n",
      "2010-01-05    6.562973e+11\n",
      "2010-01-06    6.527435e+11\n",
      "2010-01-07    6.492939e+11\n",
      "2010-01-08    6.537965e+11\n",
      "                  ...     \n",
      "2016-12-23    1.425208e+12\n",
      "2016-12-27    1.435541e+12\n",
      "2016-12-28    1.431656e+12\n",
      "2016-12-29    1.427209e+12\n",
      "2016-12-30    1.413611e+12\n",
      "Length: 1762, dtype: float64\n"
     ]
    }
   ],
   "source": [
    "market_cap_series = market_cap\n",
    "\n",
    "# Aggregate and print the market cap per trading day\n",
    "raw_index = market_cap_series.sum(axis=1)\n",
    "print(raw_index)\n",
    "\n"
   ]
  },
  {
   "cell_type": "code",
   "execution_count": 50,
   "metadata": {},
   "outputs": [
    {
     "name": "stdout",
     "output_type": "stream",
     "text": [
      "Date\n",
      "2010-01-04    100.000000\n",
      "2010-01-05    100.508119\n",
      "2010-01-06     99.963872\n",
      "2010-01-07     99.435588\n",
      "2010-01-08    100.125141\n",
      "                 ...    \n",
      "2016-12-23    218.262332\n",
      "2016-12-27    219.844835\n",
      "2016-12-28    219.249834\n",
      "2016-12-29    218.568789\n",
      "2016-12-30    216.486276\n",
      "Length: 1762, dtype: float64\n"
     ]
    }
   ],
   "source": [
    "\n",
    "# Normalize the aggregate market cap here \n",
    "index = raw_index.div(raw_index.iloc[0]).mul(100)\n",
    "print(index)\n"
   ]
  },
  {
   "cell_type": "markdown",
   "metadata": {},
   "source": [
    "# Calculate the contribution of each stock to the index"
   ]
  },
  {
   "cell_type": "markdown",
   "metadata": {},
   "source": [
    "You have successfully built the value-weighted index. Let's now explore how it performed over the 2010-2016 period.\n",
    "\n",
    "Let's also determine how much each stock has contributed to the index return."
   ]
  },
  {
   "cell_type": "code",
   "execution_count": 51,
   "metadata": {},
   "outputs": [
    {
     "name": "stdout",
     "output_type": "stream",
     "text": [
      "116.48627582170703\n"
     ]
    }
   ],
   "source": [
    "# Calculate and print the index return here\n",
    "index_return = (index.iloc[-1]/index.iloc[0]-1) * 100\n",
    "print(index_return)\n"
   ]
  },
  {
   "cell_type": "code",
   "execution_count": 52,
   "metadata": {},
   "outputs": [
    {
     "name": "stdout",
     "output_type": "stream",
     "text": [
      "Stock Symbol\n",
      "CPRT    0.006694\n",
      "PAA     0.010921\n",
      "GM      0.024614\n",
      "TEF     0.026837\n",
      "RIO     0.034613\n",
      "ABEV    0.043365\n",
      "GS      0.043660\n",
      "UPS     0.044318\n",
      "AMGN    0.058445\n",
      "BABA    0.135403\n",
      "AMZN    0.207455\n",
      "AAPL    0.363675\n",
      "Name: Market Capitalization, dtype: float64\n"
     ]
    }
   ],
   "source": [
    "\n",
    "# Select the market capitalization\n",
    "market_cap = components['Market Capitalization']\n",
    "\n",
    "# Calculate the total market cap\n",
    "total_market_cap = market_cap.sum()\n",
    "\n",
    "# Calculate the component weights, and print the result\n",
    "weights = market_cap.div(total_market_cap)\n",
    "print(weights.sort_values())\n"
   ]
  },
  {
   "cell_type": "code",
   "execution_count": 53,
   "metadata": {},
   "outputs": [
    {
     "data": {
      "image/png": "[encoded data removed]",
      "text/plain": [
       "<Figure size 432x288 with 1 Axes>"
      ]
     },
     "metadata": {
      "needs_background": "light"
     },
     "output_type": "display_data"
    }
   ],
   "source": [
    "\n",
    "# Calculate and plot the contribution by component\n",
    "weights.mul(index_return).sort_values().plot(kind=\"barh\")\n",
    "\n",
    "plt.show()"
   ]
  },
  {
   "cell_type": "markdown",
   "metadata": {},
   "source": [
    "# Compare index performance against benchmark I"
   ]
  },
  {
   "cell_type": "markdown",
   "metadata": {},
   "source": [
    "The next step in analyzing the performance of your index is to compare it against a benchmark.\n",
    "\n",
    "In the video, we used the S&P 500 as benchmark. You can also use the Dow Jones Industrial Average, which contains the 30 largest stocks, and would also be a reasonable benchmark for the largest stocks from all sectors across the three exchanges."
   ]
  },
  {
   "cell_type": "code",
   "execution_count": 54,
   "metadata": {},
   "outputs": [
    {
     "data": {
      "text/html": [
       "<div>\n",
       "<style scoped>\n",
       "    .dataframe tbody tr th:only-of-type {\n",
       "        vertical-align: middle;\n",
       "    }\n",
       "\n",
       "    .dataframe tbody tr th {\n",
       "        vertical-align: top;\n",
       "    }\n",
       "\n",
       "    .dataframe thead th {\n",
       "        text-align: right;\n",
       "    }\n",
       "</style>\n",
       "<table border=\"1\" class=\"dataframe\">\n",
       "  <thead>\n",
       "    <tr style=\"text-align: right;\">\n",
       "      <th></th>\n",
       "      <th>Index</th>\n",
       "    </tr>\n",
       "    <tr>\n",
       "      <th>Date</th>\n",
       "      <th></th>\n",
       "    </tr>\n",
       "  </thead>\n",
       "  <tbody>\n",
       "    <tr>\n",
       "      <th>2010-01-04</th>\n",
       "      <td>100.000000</td>\n",
       "    </tr>\n",
       "    <tr>\n",
       "      <th>2010-01-05</th>\n",
       "      <td>100.508119</td>\n",
       "    </tr>\n",
       "    <tr>\n",
       "      <th>2010-01-06</th>\n",
       "      <td>99.963872</td>\n",
       "    </tr>\n",
       "    <tr>\n",
       "      <th>2010-01-07</th>\n",
       "      <td>99.435588</td>\n",
       "    </tr>\n",
       "    <tr>\n",
       "      <th>2010-01-08</th>\n",
       "      <td>100.125141</td>\n",
       "    </tr>\n",
       "  </tbody>\n",
       "</table>\n",
       "</div>"
      ],
      "text/plain": [
       "                 Index\n",
       "Date                  \n",
       "2010-01-04  100.000000\n",
       "2010-01-05  100.508119\n",
       "2010-01-06   99.963872\n",
       "2010-01-07   99.435588\n",
       "2010-01-08  100.125141"
      ]
     },
     "execution_count": 54,
     "metadata": {},
     "output_type": "execute_result"
    }
   ],
   "source": [
    "# Convert index series to dataframe here\n",
    "data = index.to_frame('Index')\n",
    "data.head()"
   ]
  },
  {
   "cell_type": "code",
   "execution_count": 55,
   "metadata": {},
   "outputs": [
    {
     "name": "stdout",
     "output_type": "stream",
     "text": [
      "Index    116.486276\n",
      "DJIA      86.722172\n",
      "dtype: float64\n"
     ]
    }
   ],
   "source": [
    "djia = pd.read_csv('dataset/djia.csv', parse_dates=['date'], index_col='date')\n",
    "\n",
    "\n",
    "# Normalize djia series and add as new column to data\n",
    "djia = djia.div(djia.iloc[0]).mul(100)\n",
    "data['DJIA'] = djia\n",
    "\n",
    "# Show total return for both index and djia\n",
    "print(data.iloc[-1].div(data.iloc[0]).sub(1).mul(100))\n"
   ]
  },
  {
   "cell_type": "code",
   "execution_count": 56,
   "metadata": {},
   "outputs": [
    {
     "data": {
      "text/html": [
       "<div>\n",
       "<style scoped>\n",
       "    .dataframe tbody tr th:only-of-type {\n",
       "        vertical-align: middle;\n",
       "    }\n",
       "\n",
       "    .dataframe tbody tr th {\n",
       "        vertical-align: top;\n",
       "    }\n",
       "\n",
       "    .dataframe thead th {\n",
       "        text-align: right;\n",
       "    }\n",
       "</style>\n",
       "<table border=\"1\" class=\"dataframe\">\n",
       "  <thead>\n",
       "    <tr style=\"text-align: right;\">\n",
       "      <th></th>\n",
       "      <th>Index</th>\n",
       "      <th>DJIA</th>\n",
       "    </tr>\n",
       "    <tr>\n",
       "      <th>Date</th>\n",
       "      <th></th>\n",
       "      <th></th>\n",
       "    </tr>\n",
       "  </thead>\n",
       "  <tbody>\n",
       "    <tr>\n",
       "      <th>2010-01-04</th>\n",
       "      <td>100.000000</td>\n",
       "      <td>78.933999</td>\n",
       "    </tr>\n",
       "    <tr>\n",
       "      <th>2010-01-05</th>\n",
       "      <td>100.508119</td>\n",
       "      <td>78.844952</td>\n",
       "    </tr>\n",
       "    <tr>\n",
       "      <th>2010-01-06</th>\n",
       "      <td>99.963872</td>\n",
       "      <td>78.857332</td>\n",
       "    </tr>\n",
       "    <tr>\n",
       "      <th>2010-01-07</th>\n",
       "      <td>99.435588</td>\n",
       "      <td>79.104785</td>\n",
       "    </tr>\n",
       "    <tr>\n",
       "      <th>2010-01-08</th>\n",
       "      <td>100.125141</td>\n",
       "      <td>79.189283</td>\n",
       "    </tr>\n",
       "  </tbody>\n",
       "</table>\n",
       "</div>"
      ],
      "text/plain": [
       "                 Index       DJIA\n",
       "Date                             \n",
       "2010-01-04  100.000000  78.933999\n",
       "2010-01-05  100.508119  78.844952\n",
       "2010-01-06   99.963872  78.857332\n",
       "2010-01-07   99.435588  79.104785\n",
       "2010-01-08  100.125141  79.189283"
      ]
     },
     "execution_count": 56,
     "metadata": {},
     "output_type": "execute_result"
    }
   ],
   "source": [
    "data.head()"
   ]
  },
  {
   "cell_type": "code",
   "execution_count": 57,
   "metadata": {},
   "outputs": [
    {
     "data": {
      "image/png": "[encoded data removed]",
      "text/plain": [
       "<Figure size 432x288 with 1 Axes>"
      ]
     },
     "metadata": {
      "needs_background": "light"
     },
     "output_type": "display_data"
    }
   ],
   "source": [
    "\n",
    "# Plot both series\n",
    "data.plot()\n",
    "plt.show()"
   ]
  },
  {
   "cell_type": "markdown",
   "metadata": {},
   "source": [
    "# Compare index performance against benchmark II"
   ]
  },
  {
   "cell_type": "markdown",
   "metadata": {},
   "source": [
    "The next step in analyzing the performance of your index is to compare it against a benchmark.\n",
    "\n",
    "In the video, we have use the S&P 500 as benchmark. You can also use the Dow Jones Industrial Average, which contains the 30 largest stocks, and would also be a reasonable benchmark for the largest stocks from all sectors across the three exchanges."
   ]
  },
  {
   "cell_type": "code",
   "execution_count": 58,
   "metadata": {},
   "outputs": [
    {
     "name": "stdout",
     "output_type": "stream",
     "text": [
      "<class 'pandas.core.frame.DataFrame'>\n",
      "DatetimeIndex: 1762 entries, 2010-01-04 to 2016-12-30\n",
      "Data columns (total 2 columns):\n",
      " #   Column  Non-Null Count  Dtype  \n",
      "---  ------  --------------  -----  \n",
      " 0   Index   1762 non-null   float64\n",
      " 1   DJIA    1762 non-null   float64\n",
      "dtypes: float64(2)\n",
      "memory usage: 41.3 KB\n",
      "None\n",
      "                 Index       DJIA\n",
      "Date                             \n",
      "2010-01-04  100.000000  78.933999\n",
      "2010-01-05  100.508119  78.844952\n",
      "2010-01-06   99.963872  78.857332\n",
      "2010-01-07   99.435588  79.104785\n",
      "2010-01-08  100.125141  79.189283\n"
     ]
    }
   ],
   "source": [
    "# Inspect data\n",
    "print(data.info())\n",
    "print(data.head(5))\n"
   ]
  },
  {
   "cell_type": "code",
   "execution_count": 59,
   "metadata": {},
   "outputs": [
    {
     "data": {
      "image/png": "[encoded data removed]",
      "text/plain": [
       "<Figure size 432x288 with 1 Axes>"
      ]
     },
     "metadata": {
      "needs_background": "light"
     },
     "output_type": "display_data"
    }
   ],
   "source": [
    "import numpy as np\n",
    "# Create multi_period_return function here\n",
    "def multi_period_return(r):\n",
    "    return (np.prod(r+1)-1) * 100\n",
    "\n",
    "# Calculate rolling_return_360\n",
    "rolling_return_360 = data.pct_change().rolling('360D').apply(multi_period_return)\n",
    "\n",
    "# Plot rolling_return_360 here\n",
    "rolling_return_360.plot(title = 'Rolling 360D Return')\n",
    "plt.show()\n"
   ]
  },
  {
   "cell_type": "markdown",
   "metadata": {},
   "source": [
    "# Visualize your index constituent correlations"
   ]
  },
  {
   "cell_type": "markdown",
   "metadata": {},
   "source": [
    "To better understand the characteristics of your index constituents, you can calculate the return correlations.\n",
    "\n",
    "Use the daily stock prices or your index companies, and show a heatmap of the daily return correlations!"
   ]
  },
  {
   "cell_type": "code",
   "execution_count": 60,
   "metadata": {},
   "outputs": [
    {
     "name": "stdout",
     "output_type": "stream",
     "text": [
      "<class 'pandas.core.frame.DataFrame'>\n",
      "DatetimeIndex: 1762 entries, 2010-01-04 to 2016-12-30\n",
      "Data columns (total 12 columns):\n",
      " #   Column  Non-Null Count  Dtype  \n",
      "---  ------  --------------  -----  \n",
      " 0   AAPL    1761 non-null   float64\n",
      " 1   AMGN    1761 non-null   float64\n",
      " 2   AMZN    1761 non-null   float64\n",
      " 3   CPRT    1761 non-null   float64\n",
      " 4   EL      1762 non-null   float64\n",
      " 5   GS      1762 non-null   float64\n",
      " 6   ILMN    1761 non-null   float64\n",
      " 7   MA      1762 non-null   float64\n",
      " 8   PAA     1762 non-null   float64\n",
      " 9   RIO     1762 non-null   float64\n",
      " 10  TEF     1762 non-null   float64\n",
      " 11  UPS     1762 non-null   float64\n",
      "dtypes: float64(12)\n",
      "memory usage: 179.0 KB\n",
      "None\n"
     ]
    }
   ],
   "source": [
    "# Inspect stock_prices here\n",
    "print(stock_prices.info())\n"
   ]
  },
  {
   "cell_type": "code",
   "execution_count": 61,
   "metadata": {},
   "outputs": [
    {
     "name": "stdout",
     "output_type": "stream",
     "text": [
      "          AAPL      AMGN      AMZN      CPRT        EL        GS      ILMN  \\\n",
      "AAPL  1.000000  0.286898  0.327611  0.346616  0.306770  0.344981  0.264791   \n",
      "AMGN  0.286898  1.000000  0.323408  0.355892  0.349893  0.390076  0.336927   \n",
      "AMZN  0.327611  0.323408  1.000000  0.298929  0.334031  0.333402  0.242726   \n",
      "CPRT  0.346616  0.355892  0.298929  1.000000  0.371763  0.423160  0.265665   \n",
      "EL    0.306770  0.349893  0.334031  0.371763  1.000000  0.358318  0.214027   \n",
      "GS    0.344981  0.390076  0.333402  0.423160  0.358318  1.000000  0.266063   \n",
      "ILMN  0.264791  0.336927  0.242726  0.265665  0.214027  0.266063  1.000000   \n",
      "MA    0.391421  0.400230  0.428330  0.401352  0.431556  0.466796  0.301392   \n",
      "PAA   0.212960  0.229255  0.182438  0.221273  0.206056  0.271982  0.162796   \n",
      "RIO   0.361684  0.313878  0.326229  0.384944  0.415416  0.527298  0.234445   \n",
      "TEF   0.325309  0.374555  0.331867  0.376767  0.428925  0.498230  0.231173   \n",
      "UPS   0.366039  0.432468  0.378399  0.462716  0.456952  0.506407  0.267801   \n",
      "\n",
      "            MA       PAA       RIO       TEF       UPS  \n",
      "AAPL  0.391421  0.212960  0.361684  0.325309  0.366039  \n",
      "AMGN  0.400230  0.229255  0.313878  0.374555  0.432468  \n",
      "AMZN  0.428330  0.182438  0.326229  0.331867  0.378399  \n",
      "CPRT  0.401352  0.221273  0.384944  0.376767  0.462716  \n",
      "EL    0.431556  0.206056  0.415416  0.428925  0.456952  \n",
      "GS    0.466796  0.271982  0.527298  0.498230  0.506407  \n",
      "ILMN  0.301392  0.162796  0.234445  0.231173  0.267801  \n",
      "MA    1.000000  0.243761  0.437778  0.448438  0.486512  \n",
      "PAA   0.243761  1.000000  0.337448  0.253598  0.217523  \n",
      "RIO   0.437778  0.337448  1.000000  0.559264  0.509809  \n",
      "TEF   0.448438  0.253598  0.559264  1.000000  0.516242  \n",
      "UPS   0.486512  0.217523  0.509809  0.516242  1.000000  \n"
     ]
    }
   ],
   "source": [
    "\n",
    "# Calculate the daily returns\n",
    "returns = stock_prices.pct_change()\n",
    "\n",
    "# Calculate and print the pairwise correlations\n",
    "correlations = returns.corr()\n",
    "print(correlations)\n"
   ]
  },
  {
   "cell_type": "code",
   "execution_count": 62,
   "metadata": {},
   "outputs": [
    {
     "data": {
      "image/png": "[encoded data removed]",
      "text/plain": [
       "<Figure size 432x288 with 2 Axes>"
      ]
     },
     "metadata": {
      "needs_background": "light"
     },
     "output_type": "display_data"
    }
   ],
   "source": [
    "import seaborn as sns\n",
    "# Plot a heatmap of daily return correlations\n",
    "sns.heatmap(correlations,annot = True)\n",
    "plt.title('Daily Return Correlations')\n",
    "plt.show()"
   ]
  },
  {
   "cell_type": "markdown",
   "metadata": {},
   "source": [
    "# Save your analysis to multiple excel worksheets"
   ]
  },
  {
   "cell_type": "markdown",
   "metadata": {},
   "source": [
    "Now that you have completed your analysis, you may want to save all results into a single Excel workbook."
   ]
  },
  {
   "cell_type": "code",
   "execution_count": 63,
   "metadata": {},
   "outputs": [
    {
     "name": "stdout",
     "output_type": "stream",
     "text": [
      "<class 'pandas.core.frame.DataFrame'>\n",
      "DatetimeIndex: 1762 entries, 2010-01-04 to 2016-12-30\n",
      "Data columns (total 1 columns):\n",
      " #   Column  Non-Null Count  Dtype  \n",
      "---  ------  --------------  -----  \n",
      " 0   0       1762 non-null   float64\n",
      "dtypes: float64(1)\n",
      "memory usage: 27.5 KB\n",
      "None\n",
      "<class 'pandas.core.frame.DataFrame'>\n",
      "DatetimeIndex: 1762 entries, 2010-01-04 to 2016-12-30\n",
      "Data columns (total 12 columns):\n",
      " #   Column  Non-Null Count  Dtype  \n",
      "---  ------  --------------  -----  \n",
      " 0   AAPL    1761 non-null   float64\n",
      " 1   AMGN    1761 non-null   float64\n",
      " 2   AMZN    1761 non-null   float64\n",
      " 3   CPRT    1761 non-null   float64\n",
      " 4   EL      1762 non-null   float64\n",
      " 5   GS      1762 non-null   float64\n",
      " 6   ILMN    1761 non-null   float64\n",
      " 7   MA      1762 non-null   float64\n",
      " 8   PAA     1762 non-null   float64\n",
      " 9   RIO     1762 non-null   float64\n",
      " 10  TEF     1762 non-null   float64\n",
      " 11  UPS     1762 non-null   float64\n",
      "dtypes: float64(12)\n",
      "memory usage: 179.0 KB\n",
      "None\n"
     ]
    }
   ],
   "source": [
    "# Inspect index and stock_prices\n",
    "index = index.to_frame()\n",
    "print(index.info())\n",
    "print(stock_prices.info())\n"
   ]
  },
  {
   "cell_type": "code",
   "execution_count": 64,
   "metadata": {},
   "outputs": [
    {
     "name": "stdout",
     "output_type": "stream",
     "text": [
      "<class 'pandas.core.frame.DataFrame'>\n",
      "DatetimeIndex: 1762 entries, 2010-01-04 to 2016-12-30\n",
      "Data columns (total 13 columns):\n",
      " #   Column  Non-Null Count  Dtype  \n",
      "---  ------  --------------  -----  \n",
      " 0   AAPL    1761 non-null   float64\n",
      " 1   AMGN    1761 non-null   float64\n",
      " 2   AMZN    1761 non-null   float64\n",
      " 3   CPRT    1761 non-null   float64\n",
      " 4   EL      1762 non-null   float64\n",
      " 5   GS      1762 non-null   float64\n",
      " 6   ILMN    1761 non-null   float64\n",
      " 7   MA      1762 non-null   float64\n",
      " 8   PAA     1762 non-null   float64\n",
      " 9   RIO     1762 non-null   float64\n",
      " 10  TEF     1762 non-null   float64\n",
      " 11  UPS     1762 non-null   float64\n",
      " 12  0       1762 non-null   float64\n",
      "dtypes: float64(13)\n",
      "memory usage: 192.7 KB\n",
      "None\n"
     ]
    },
    {
     "data": {
      "text/html": [
       "<div>\n",
       "<style scoped>\n",
       "    .dataframe tbody tr th:only-of-type {\n",
       "        vertical-align: middle;\n",
       "    }\n",
       "\n",
       "    .dataframe tbody tr th {\n",
       "        vertical-align: top;\n",
       "    }\n",
       "\n",
       "    .dataframe thead th {\n",
       "        text-align: right;\n",
       "    }\n",
       "</style>\n",
       "<table border=\"1\" class=\"dataframe\">\n",
       "  <thead>\n",
       "    <tr style=\"text-align: right;\">\n",
       "      <th></th>\n",
       "      <th>AAPL</th>\n",
       "      <th>AMGN</th>\n",
       "      <th>AMZN</th>\n",
       "      <th>CPRT</th>\n",
       "      <th>EL</th>\n",
       "      <th>GS</th>\n",
       "      <th>ILMN</th>\n",
       "      <th>MA</th>\n",
       "      <th>PAA</th>\n",
       "      <th>RIO</th>\n",
       "      <th>TEF</th>\n",
       "      <th>UPS</th>\n",
       "      <th>0</th>\n",
       "    </tr>\n",
       "    <tr>\n",
       "      <th>Date</th>\n",
       "      <th></th>\n",
       "      <th></th>\n",
       "      <th></th>\n",
       "      <th></th>\n",
       "      <th></th>\n",
       "      <th></th>\n",
       "      <th></th>\n",
       "      <th></th>\n",
       "      <th></th>\n",
       "      <th></th>\n",
       "      <th></th>\n",
       "      <th></th>\n",
       "      <th></th>\n",
       "    </tr>\n",
       "  </thead>\n",
       "  <tbody>\n",
       "    <tr>\n",
       "      <th>2010-01-04</th>\n",
       "      <td>30.57</td>\n",
       "      <td>57.72</td>\n",
       "      <td>133.90</td>\n",
       "      <td>4.55</td>\n",
       "      <td>24.27</td>\n",
       "      <td>173.08</td>\n",
       "      <td>30.55</td>\n",
       "      <td>25.68</td>\n",
       "      <td>27.00</td>\n",
       "      <td>56.03</td>\n",
       "      <td>28.55</td>\n",
       "      <td>58.18</td>\n",
       "      <td>100.000000</td>\n",
       "    </tr>\n",
       "    <tr>\n",
       "      <th>2010-01-05</th>\n",
       "      <td>30.63</td>\n",
       "      <td>57.22</td>\n",
       "      <td>134.69</td>\n",
       "      <td>4.55</td>\n",
       "      <td>24.18</td>\n",
       "      <td>176.14</td>\n",
       "      <td>30.35</td>\n",
       "      <td>25.61</td>\n",
       "      <td>27.30</td>\n",
       "      <td>56.90</td>\n",
       "      <td>28.53</td>\n",
       "      <td>58.28</td>\n",
       "      <td>100.508119</td>\n",
       "    </tr>\n",
       "    <tr>\n",
       "      <th>2010-01-06</th>\n",
       "      <td>30.14</td>\n",
       "      <td>56.79</td>\n",
       "      <td>132.25</td>\n",
       "      <td>4.53</td>\n",
       "      <td>24.25</td>\n",
       "      <td>174.26</td>\n",
       "      <td>32.22</td>\n",
       "      <td>25.56</td>\n",
       "      <td>27.29</td>\n",
       "      <td>58.64</td>\n",
       "      <td>28.23</td>\n",
       "      <td>57.85</td>\n",
       "      <td>99.963872</td>\n",
       "    </tr>\n",
       "    <tr>\n",
       "      <th>2010-01-07</th>\n",
       "      <td>30.08</td>\n",
       "      <td>56.27</td>\n",
       "      <td>130.00</td>\n",
       "      <td>4.50</td>\n",
       "      <td>24.56</td>\n",
       "      <td>177.67</td>\n",
       "      <td>32.77</td>\n",
       "      <td>25.39</td>\n",
       "      <td>26.96</td>\n",
       "      <td>58.65</td>\n",
       "      <td>27.75</td>\n",
       "      <td>57.41</td>\n",
       "      <td>99.435588</td>\n",
       "    </tr>\n",
       "    <tr>\n",
       "      <th>2010-01-08</th>\n",
       "      <td>30.28</td>\n",
       "      <td>56.77</td>\n",
       "      <td>133.52</td>\n",
       "      <td>4.52</td>\n",
       "      <td>24.66</td>\n",
       "      <td>174.31</td>\n",
       "      <td>33.15</td>\n",
       "      <td>25.40</td>\n",
       "      <td>27.05</td>\n",
       "      <td>59.30</td>\n",
       "      <td>27.57</td>\n",
       "      <td>60.17</td>\n",
       "      <td>100.125141</td>\n",
       "    </tr>\n",
       "  </tbody>\n",
       "</table>\n",
       "</div>"
      ],
      "text/plain": [
       "             AAPL   AMGN    AMZN  CPRT     EL      GS   ILMN     MA    PAA  \\\n",
       "Date                                                                         \n",
       "2010-01-04  30.57  57.72  133.90  4.55  24.27  173.08  30.55  25.68  27.00   \n",
       "2010-01-05  30.63  57.22  134.69  4.55  24.18  176.14  30.35  25.61  27.30   \n",
       "2010-01-06  30.14  56.79  132.25  4.53  24.25  174.26  32.22  25.56  27.29   \n",
       "2010-01-07  30.08  56.27  130.00  4.50  24.56  177.67  32.77  25.39  26.96   \n",
       "2010-01-08  30.28  56.77  133.52  4.52  24.66  174.31  33.15  25.40  27.05   \n",
       "\n",
       "              RIO    TEF    UPS           0  \n",
       "Date                                         \n",
       "2010-01-04  56.03  28.55  58.18  100.000000  \n",
       "2010-01-05  56.90  28.53  58.28  100.508119  \n",
       "2010-01-06  58.64  28.23  57.85   99.963872  \n",
       "2010-01-07  58.65  27.75  57.41   99.435588  \n",
       "2010-01-08  59.30  27.57  60.17  100.125141  "
      ]
     },
     "execution_count": 64,
     "metadata": {},
     "output_type": "execute_result"
    }
   ],
   "source": [
    "\n",
    "# Join index to stock_prices, and inspect the result\n",
    "data = stock_prices.join(index)\n",
    "print(data.info())\n",
    "data.head()"
   ]
  },
  {
   "cell_type": "code",
   "execution_count": 65,
   "metadata": {},
   "outputs": [],
   "source": [
    "# Create index & stock price returns\n",
    "returns = data.pct_change()\n",
    "\n",
    "# Export data and data as returns to excel\n",
    "with pd.ExcelWriter('data.xlsx') as writer:\n",
    "    data.to_excel(excel_writer= writer,sheet_name='data')\n",
    "    returns.to_excel(excel_writer= writer,sheet_name='returns')"
   ]
  }
 ],
 "metadata": {
  "kernelspec": {
   "display_name": "env_py",
   "language": "python",
   "name": "python3"
  },
  "language_info": {
   "codemirror_mode": {
    "name": "ipython",
    "version": 3
   },
   "file_extension": ".py",
   "mimetype": "text/x-python",
   "name": "python",
   "nbconvert_exporter": "python",
   "pygments_lexer": "ipython3",
   "version": "3.8.11"
  }
 },
 "nbformat": 4,
 "nbformat_minor": 2
}
