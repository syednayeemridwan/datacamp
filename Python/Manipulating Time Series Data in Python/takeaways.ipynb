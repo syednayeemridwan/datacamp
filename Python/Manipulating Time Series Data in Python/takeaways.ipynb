{
 "cells": [
  {
   "cell_type": "markdown",
   "metadata": {},
   "source": [
    "# Chapter 1"
   ]
  },
  {
   "cell_type": "markdown",
   "metadata": {},
   "source": [
    "```\n",
    "# Parsing date\n",
    "df = pd.read_csv('filename.csv', parse_dates = ['date_col1', 'date_col2'], index_col='date_col3') # during import\n",
    "df[\"date_col\"] = pd.to_datetime(df[\"date_col\"], format = \"%Y-%m-%d %H:%M:%S\", errors='coerce') # Using pandas format specified\n",
    "df[\"date_col\"] = df[\"date_col\"].dt.strftime(\"%d-%m-%Y\") # Using python library format specified\n",
    "# Extract information\n",
    "df[\"date_col\"].dt.month # Extract month information\n",
    "df[\"date_col\"].dt.day_name() # Extract day name : Sunday, Monday etc\n",
    "df[\"date_col\"].dt.year # Extract year information\n",
    "# Shift dates\n",
    "df[\"date_col\"].shift(periods=1) # Push values 1 row below, first value becomes null. LEAD\n",
    "df[\"date_col\"].shift(periods=-1) # Pull values 1 row above, last value becomes null. LAG\n",
    "# Numeric operations on date column\n",
    "df[\"date_co1l\"].div(df[\"date_col2\"]) # percentage changes between 2 date columns\n",
    "df[\"date_co1l\"].pct_change(periods=3) # percentage change of same date column after 3 shifts\n",
    "df[\"date_co1l\"].diff() # Difference in value between 2 adjacent rows of same column\n",
    "df[\"date_co1l\"].sub(1).mul(100) # subtracting 1 from the column, then multiply 100 with the column\n",
    "# Creating date\n",
    "time_stamp1 = pd.Timestamp(datetime(2017, 1, 1))\n",
    "time_stamp2 = pd.Timestamp('2017-01-01')\n",
    "\n",
    "# Creating period\n",
    "period = pd.Period('2017-01') # default: month-end period\n",
    "period + 2 # period after 2 unit ('2017-03' in this case)\n",
    "period.asfreq('D') # convert to daily\n",
    "period.to_timestamp() # Convert period to timestamp\n",
    "timestamp_1.to_period('M') # Convert timestamp to period\n",
    "# Add missing time values / change frequency (can be alternative to .asfreq)\n",
    "monthly_dates = pd.date_range(start, end, freq=\"M\")\n",
    "monthly = pd.Series(data=df[\"x\"], index=monthly_dates)\n",
    "weekly_dates = pd.date_range(start, end, freq=\"W\")\n",
    "monthly.reindex(weekly_dates)\n",
    "# Create time series\n",
    "t_series = pd.date_range(start='2017-1-1', periods=12, freq='M')\n",
    "df.set_index('date_col', inplace=True) # setting the time series as index of dataframe\n",
    "# Sampling date (Make sure the index of dataframe is time series), try to always use .resample\n",
    "timed_df.resample('DS').asfreq().agg(['mean']) # Down-sampling to day start using .resample and mean aggregation\n",
    "timed_df.resample('1H').interpolate(method='linear') # Up-sampling with .resample, and fill missing values linearly\n",
    "timed_df.asfreq('1H', method='ffill') # Up-sampling with .asfreq and fill missing values with forward fill\n",
    "timed_df.asfreq(freq='3H', method='linear') # Down-sampling (less values, aggregated values, linearly interpolated)\n",
    "timed_df.resample('M', on = 'date_col')['col1'].mean() # Standard syntax\n",
    "resampled_df.size() # Resampling count\n",
    "\n",
    "# Normalization and comparison of time series data\n",
    "first_row = time_df.iloc[0]\n",
    "normalized = time_df.div(first_row).mul(100)\n",
    "comparison_df = normalized.sub(df['normalized_benchmark_series'], axis=0)\n",
    "\n",
    "# Add timezone in a datetime column\n",
    "df['date_col'] = df['date_col'].dt.tz_localize('America/New_York', ambiguous='NaT')\n",
    "# Convert to another timezone\n",
    "df['date_col'] = df['date_col'].dt.tz_convert('Europe/London')\n",
    "\n",
    "# Window functions:\n",
    "time_df.rolling(window='30D').agg(['mean', 'std']) # moving range / rolling window\n",
    "time_df.expanding().agg(['mean', 'sum']) # expanding range / cumulative expanding window\n",
    "\n",
    "# Running rate of return\n",
    "row_gain_series = data.SP500.pct_change() # period return\n",
    "real_val_after_gain = row_gain_series.add(1)\n",
    "cumulative_return = real_val_after_gain.cumprod().sub(1)\n",
    "percentage_cum_gain = cumulative_return.mul(100).\n",
    "# Alternative : Use a function to apply change in each row of the column\n",
    "def cumulative_return_func(row):\n",
    "    return np.prod(row + 1) - 1\n",
    "row_gain_series = time_df[\"close\"].pct_change() # period return\n",
    "cumulative_return = row_gain_series.rolling('30D').apply(cumulative_return_func)\n",
    "percentage_cum_gain = cumulative_return.mul(100).\n",
    "```"
   ]
  },
  {
   "cell_type": "markdown",
   "metadata": {},
   "source": [
    "# Chapter 2"
   ]
  },
  {
   "cell_type": "markdown",
   "metadata": {},
   "source": [
    "<center><img src=\"images/01.01.png\"  style=\"width: 400px, height: 300px;\"/></center>"
   ]
  },
  {
   "cell_type": "markdown",
   "metadata": {},
   "source": [
    "# Chapter 3"
   ]
  },
  {
   "cell_type": "markdown",
   "metadata": {},
   "source": [
    "<center><img src=\"images/03.01.png\"  style=\"width: 400px, height: 300px;\"/></center>\n"
   ]
  },
  {
   "cell_type": "markdown",
   "metadata": {},
   "source": []
  }
 ],
 "metadata": {
  "language_info": {
   "name": "python"
  }
 },
 "nbformat": 4,
 "nbformat_minor": 2
}
