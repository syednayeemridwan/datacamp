{
 "cells": [
  {
   "cell_type": "markdown",
   "metadata": {},
   "source": [
    "# Chapter 1"
   ]
  },
  {
   "cell_type": "markdown",
   "metadata": {},
   "source": [
    "```\n",
    "# Parsing date\n",
    "df = pd.read_csv('filename.csv', parse_dates = ['date_col1', 'date_col2'], index_col='date_col3') # during import\n",
    "df[\"date_col\"] = pd.to_datetime(df[\"date_col\"], format = \"%Y-%m-%d %H:%M:%S\", errors='coerce') # Using pandas format specified\n",
    "df[\"date_col\"] = df[\"date_col\"].dt.strftime(\"%d-%m-%Y\") # Using python library format specified\n",
    "# Extract information\n",
    "df[\"date_col\"].dt.month # Extract month information\n",
    "df[\"date_col\"].dt.day_name() # Extract day name : Sunday, Monday etc\n",
    "df[\"date_col\"].dt.year # Extract year information\n",
    "# Shift dates\n",
    "df[\"date_col\"].shift(periods=1) # Push values 1 row below, first value becomes null. LEAD\n",
    "df[\"date_col\"].shift(periods=-1) # Pull values 1 row above, last value becomes null. LAG\n",
    "# Numeric operations on date column\n",
    "df[\"date_co1l\"].div(df[\"date_col2\"]) # percentage changes between 2 date columns\n",
    "df[\"date_co1l\"].pct_change(periods=3) # percentage change of same date column after 3 shifts\n",
    "df[\"date_co1l\"].diff() # Difference in value between 2 adjacent rows of same column\n",
    "df[\"date_co1l\"].sub(1).mul(100) # subtracting 1 from the column, then multiply 100 with the column\n",
    "# Creating date\n",
    "time_stamp1 = pd.Timestamp(datetime(2017, 1, 1))\n",
    "time_stamp2 = pd.Timestamp('2017-01-01')\n",
    "\n",
    "# Creating period\n",
    "period = pd.Period('2017-01') # default: month-end period\n",
    "period + 2 # period after 2 unit ('2017-03' in this case)\n",
    "period.asfreq('D') # convert to daily\n",
    "period.to_timestamp() # Convert period to timestamp\n",
    "timestamp_1.to_period('M') # Convert timestamp to period\n",
    "\n",
    "# Create time series\n",
    "t_series = pd.date_range(start='2017-1-1', periods=12, freq='M')\n",
    "df.set_index('date_col', inplace=True) # setting the time series as index of dataframe\n",
    "# Sampling date (Make sure the index of dataframe is time series)\n",
    "timed_df.asfreq('B') # Change calendar day to business day frequency\n",
    "timed_df.asfreq('D').head() # Up-sampling (higher values, more missing values)\n",
    "timed_df.asfreq('M').head() # Down-sampling (less values, aggregated values)\n",
    "timed_df.resample('M', on = 'date_col')['col1'].mean()\n",
    "# Resampling count\n",
    "df.resample('M', on = 'date_col').size()\n",
    "# Add timezone in a datetime column\n",
    "df['date_col'] = df['date_col'].dt.tz_localize('America/New_York', ambiguous='NaT')\n",
    "# Convert to another timezone\n",
    "df['date_col'] = df['date_col'].dt.tz_convert('Europe/London')\n",
    "```"
   ]
  },
  {
   "cell_type": "code",
   "execution_count": null,
   "metadata": {},
   "outputs": [],
   "source": []
  }
 ],
 "metadata": {
  "language_info": {
   "name": "python"
  }
 },
 "nbformat": 4,
 "nbformat_minor": 2
}
