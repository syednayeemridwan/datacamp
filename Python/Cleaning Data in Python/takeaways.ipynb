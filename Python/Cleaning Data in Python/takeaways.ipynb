{
 "cells": [
  {
   "cell_type": "markdown",
   "metadata": {},
   "source": [
    "# Chapter 1"
   ]
  },
  {
   "cell_type": "markdown",
   "metadata": {},
   "source": [
    "- See datatype of columns : `df.dtypes`\n",
    "- See dataframe information : `df.info()`\n",
    "- See column information : `df.describe()`\n",
    "- Remove character : `df['col'].str.strip('$')`\n",
    "- Drop values : `df.drop(df[df['col'] > 5].index, inplace = True)`\n",
    "- Set values :\n",
    "    1. `df.loc[df['col'] > 5, 'col2'] = 5`\n",
    "    2. `df.at[df['col'] > 5,'col2']= 5`\n",
    "- Convert type : \n",
    "    - Other data type : `df['col'].astype('int')`\n",
    "    - Catergorical : `df[\"col\"].astype('category')`\n",
    "    - Date : `df['date_column'] = pd.to_datetime(df['datetime_column']).dt.date`\n",
    "- Test : `assert df['col'].dtype == 'int'`"
   ]
  },
  {
   "cell_type": "markdown",
   "metadata": {},
   "source": [
    "### Tips to filter unclean data"
   ]
  },
  {
   "cell_type": "markdown",
   "metadata": {},
   "source": [
    "- Check if integer values are meant to be categorical values\n",
    "- check for unwanted characters\n",
    "- Check if numerical values are converted into strings\n",
    "- Check for out of range values\n",
    "- Check for missing values\n",
    "- Check if dates are in proper format\n",
    "- Check for range of dates (if there are impossible values)\n",
    "- Check for duplicates (both complete and partial)"
   ]
  },
  {
   "cell_type": "markdown",
   "metadata": {},
   "source": [
    "### Finding Duplications"
   ]
  },
  {
   "cell_type": "markdown",
   "metadata": {},
   "source": [
    "```\n",
    "# Drop complete duplicates\n",
    "df.drop_duplicates(inplace = True)\n",
    "\n",
    "# Column names to check for partial duplicates\n",
    "column_names = ['A','B','C']\n",
    "duplicates = df.duplicated(subset = column_names, keep = False)\n",
    "# See partial duplicate values\n",
    "df[duplicates]\n",
    "\n",
    "# Combine result for partial duplicates\n",
    "summaries = {'D': 'max', 'E': 'mean'}\n",
    "df = df.groupby(by = column_names).agg(summaries).reset_index()\n",
    "\n",
    "```"
   ]
  }
 ],
 "metadata": {
  "language_info": {
   "name": "python"
  }
 },
 "nbformat": 4,
 "nbformat_minor": 2
}
