{
 "cells": [
  {
   "cell_type": "markdown",
   "metadata": {},
   "source": [
    "# Building a command line data app"
   ]
  },
  {
   "cell_type": "markdown",
   "metadata": {},
   "source": [
    "You are building a command line tool that lets a user interactively explore a dataset. We've defined four functions: `mean()`, `std()`, `minimum()`, and `maximum()` that users can call to analyze their data. Help finish this section of the code so that your users can call any of these functions by typing the function name at the input prompt.\n",
    "\n",
    "Note: The function `get_user_input()` in this exercise is a mock version of asking the user to enter a command. It randomly returns one of the four function names. In real life, you would ask for input and wait until the user entered a value."
   ]
  },
  {
   "cell_type": "code",
   "execution_count": 9,
   "metadata": {},
   "outputs": [
    {
     "name": "stdout",
     "output_type": "stream",
     "text": [
      "   height  weight\n",
      "0    72.1     198\n",
      "1    69.8     204\n",
      "2    63.2     164\n",
      "3    64.7     238\n",
      "height     67.45\n",
      "weight    201.00\n",
      "dtype: float64\n",
      "--------\n",
      "height     3.632148\n",
      "weight    26.248809\n",
      "dtype: float64\n",
      "--------\n",
      "height     63.2\n",
      "weight    164.0\n",
      "dtype: float64\n",
      "--------\n",
      "height     72.1\n",
      "weight    238.0\n",
      "dtype: float64\n",
      "--------\n"
     ]
    }
   ],
   "source": [
    "import pandas as pd\n",
    "import numpy as np\n",
    "\n",
    "data = pd.DataFrame({\n",
    "    \"height\" : [72.1, 69.8, 63.2, 64.7],\n",
    "    \"weight\" : [198, 204, 164, 238]\n",
    "})\n",
    "\n",
    "# Add the missing function references to the function map\n",
    "function_map = {\n",
    "  'mean': np.mean,\n",
    "  'std': np.std,\n",
    "  'minimum': np.min,\n",
    "  'maximum': np.max\n",
    "}\n",
    "\n",
    "print(data)\n",
    "\n",
    "# func_name = get_user_input()\n",
    "for func_name in function_map.keys():\n",
    "    # Call the chosen function and pass \"data\" as an argument\n",
    "    res = function_map[func_name](data)\n",
    "    print(res)\n",
    "    print(\"--------\")"
   ]
  },
  {
   "cell_type": "markdown",
   "metadata": {},
   "source": [
    "# Reviewing your co-worker's code"
   ]
  },
  {
   "cell_type": "markdown",
   "metadata": {},
   "source": [
    "Your co-worker is asking you to review some code that they've written and give them some tips on how to get it ready for production. You know that having a docstring is considered best practice for maintainable, reusable functions, so as a sanity check you decide to use this `has_docstring()` function on all of their functions.\n",
    "```\n",
    "def has_docstring(func):\n",
    "  \"\"\"Check to see if the function \n",
    "  `func` has a docstring.\n",
    "\n",
    "  Args:\n",
    "    func (callable): A function.\n",
    "\n",
    "  Returns:\n",
    "    bool\n",
    "  \"\"\"\n",
    "  return func.__doc__ is not None\n",
    "  ```"
   ]
  },
  {
   "cell_type": "code",
   "execution_count": 10,
   "metadata": {},
   "outputs": [],
   "source": [
    "def has_docstring(func):\n",
    "  \"\"\"Check to see if the function \n",
    "  `func` has a docstring.\n",
    "\n",
    "  Args:\n",
    "    func (callable): A function.\n",
    "\n",
    "  Returns:\n",
    "    bool\n",
    "  \"\"\"\n",
    "  return func.__doc__ is not None"
   ]
  },
  {
   "cell_type": "code",
   "execution_count": 11,
   "metadata": {},
   "outputs": [
    {
     "name": "stdout",
     "output_type": "stream",
     "text": [
      "load_and_plot_data() doesn't have a docstring!\n"
     ]
    }
   ],
   "source": [
    "def load_and_plot_data():\n",
    "    pass\n",
    "\n",
    "# Call has_docstring() on the load_and_plot_data() function\n",
    "ok = has_docstring(load_and_plot_data)\n",
    "\n",
    "if not ok:\n",
    "  print(\"load_and_plot_data() doesn't have a docstring!\")\n",
    "else:\n",
    "  print(\"load_and_plot_data() looks ok\")\n",
    "    "
   ]
  },
  {
   "cell_type": "markdown",
   "metadata": {},
   "source": [
    "# Returning functions for a math game"
   ]
  },
  {
   "cell_type": "markdown",
   "metadata": {},
   "source": [
    "You are building an educational math game where the player enters a math term, and your program returns a function that matches that term. For instance, if the user types \"add\", your program returns a function that adds two numbers. So far you've only implemented the \"add\" function. Now you want to include a \"subtract\" function."
   ]
  },
  {
   "cell_type": "code",
   "execution_count": 12,
   "metadata": {},
   "outputs": [
    {
     "name": "stdout",
     "output_type": "stream",
     "text": [
      "5 + 2 = 7\n",
      "5 - 2 = 3\n"
     ]
    }
   ],
   "source": [
    "def create_math_function(func_name):\n",
    "  if func_name == 'add':\n",
    "    def add(a, b):\n",
    "      return a + b\n",
    "    return add\n",
    "  elif func_name == 'subtract':\n",
    "    # Define the subtract() function\n",
    "    def subtract(a, b):\n",
    "      return a-b\n",
    "    return subtract\n",
    "  else:\n",
    "    print(\"I don't know that one\")\n",
    "    \n",
    "add = create_math_function('add')\n",
    "print('5 + 2 = {}'.format(add(5, 2)))\n",
    "\n",
    "subtract = create_math_function('subtract')\n",
    "print('5 - 2 = {}'.format(subtract(5, 2)))"
   ]
  },
  {
   "cell_type": "markdown",
   "metadata": {},
   "source": [
    "# Understanding scope"
   ]
  },
  {
   "cell_type": "markdown",
   "metadata": {},
   "source": [
    "What four values does this script print?\n"
   ]
  },
  {
   "cell_type": "code",
   "execution_count": 13,
   "metadata": {},
   "outputs": [
    {
     "name": "stdout",
     "output_type": "stream",
     "text": [
      "50\n"
     ]
    }
   ],
   "source": [
    "\n",
    "x = 50\n",
    "\n",
    "def one():\n",
    "  x = 10\n",
    "print(x)"
   ]
  },
  {
   "cell_type": "code",
   "execution_count": 14,
   "metadata": {},
   "outputs": [
    {
     "name": "stdout",
     "output_type": "stream",
     "text": [
      "50\n"
     ]
    }
   ],
   "source": [
    "\n",
    "def two():\n",
    "  global x\n",
    "  x = 30\n",
    "\n",
    "print(x)"
   ]
  },
  {
   "cell_type": "code",
   "execution_count": 15,
   "metadata": {},
   "outputs": [
    {
     "name": "stdout",
     "output_type": "stream",
     "text": [
      "50\n"
     ]
    }
   ],
   "source": [
    "\n",
    "def three():\n",
    "  x = 100\n",
    "  print(x)\n",
    "\n",
    "print(x)"
   ]
  },
  {
   "cell_type": "code",
   "execution_count": 17,
   "metadata": {},
   "outputs": [
    {
     "name": "stdout",
     "output_type": "stream",
     "text": [
      "30\n",
      "30\n",
      "100\n",
      "30\n"
     ]
    }
   ],
   "source": [
    "\n",
    "for func in [one, two, three]:\n",
    "  func()\n",
    "  print(x)\n",
    "  "
   ]
  },
  {
   "cell_type": "markdown",
   "metadata": {},
   "source": [
    "# Modifying variables outside local scope"
   ]
  },
  {
   "cell_type": "markdown",
   "metadata": {},
   "source": [
    "Sometimes your functions will need to modify a variable that is outside of the local scope of that function. While it's generally not best practice to do so, it's still good to know how in case you need to do it. Update these functions so they can modify variables that would usually be outside of their scope."
   ]
  },
  {
   "cell_type": "code",
   "execution_count": 18,
   "metadata": {},
   "outputs": [
    {
     "name": "stdout",
     "output_type": "stream",
     "text": [
      "You've called my_function() 1 times!\n",
      "You've called my_function() 2 times!\n",
      "You've called my_function() 3 times!\n",
      "You've called my_function() 4 times!\n",
      "You've called my_function() 5 times!\n",
      "You've called my_function() 6 times!\n",
      "You've called my_function() 7 times!\n",
      "You've called my_function() 8 times!\n",
      "You've called my_function() 9 times!\n",
      "You've called my_function() 10 times!\n",
      "You've called my_function() 11 times!\n",
      "You've called my_function() 12 times!\n",
      "You've called my_function() 13 times!\n",
      "You've called my_function() 14 times!\n",
      "You've called my_function() 15 times!\n",
      "You've called my_function() 16 times!\n",
      "You've called my_function() 17 times!\n",
      "You've called my_function() 18 times!\n",
      "You've called my_function() 19 times!\n",
      "You've called my_function() 20 times!\n"
     ]
    }
   ],
   "source": [
    "call_count = 0\n",
    "\n",
    "def my_function():\n",
    "  # Use a keyword that lets us update call_count \n",
    "  global call_count\n",
    "  call_count += 1\n",
    "  \n",
    "  print(\"You've called my_function() {} times!\".format(\n",
    "    call_count\n",
    "  ))\n",
    "  \n",
    "for _ in range(20):\n",
    "  my_function()"
   ]
  },
  {
   "cell_type": "code",
   "execution_count": 23,
   "metadata": {},
   "outputs": [
    {
     "name": "stdout",
     "output_type": "stream",
     "text": [
      "A good year\n",
      "A good book about whale\n",
      "Popular clothing brand\n"
     ]
    }
   ],
   "source": [
    "def read_files():\n",
    "  file_contents = None\n",
    "  \n",
    "  def save_contents(filename):\n",
    "    # Add a keyword that lets us modify file_contents\n",
    "    nonlocal file_contents\n",
    "    if file_contents is None:\n",
    "      file_contents = []\n",
    "    with open(filename) as fin:\n",
    "      file_contents.append(fin.read())\n",
    "      \n",
    "  for filename in ['dataset/1984.txt', 'dataset/MobyDick.txt', 'dataset/CatsEye.txt']:\n",
    "    save_contents(filename)\n",
    "    \n",
    "  return file_contents\n",
    "\n",
    "print('\\n'.join(read_files()))"
   ]
  },
  {
   "cell_type": "code",
   "execution_count": 25,
   "metadata": {},
   "outputs": [
    {
     "name": "stdout",
     "output_type": "stream",
     "text": [
      "Work done? True\n"
     ]
    }
   ],
   "source": [
    "from numpy import random\n",
    "\n",
    "done = False\n",
    "def wait_until_done():\n",
    "  def check_is_done():\n",
    "    # Add a keyword so that wait_until_done() \n",
    "    # doesn't run forever\n",
    "    global done\n",
    "    if random.random() < 0.1:\n",
    "      done = True\n",
    "      \n",
    "  while not done:\n",
    "    check_is_done()\n",
    "\n",
    "done = False\n",
    "wait_until_done()\n",
    "\n",
    "print('Work done? {}'.format(done))"
   ]
  },
  {
   "cell_type": "markdown",
   "metadata": {},
   "source": [
    "# Checking for closure"
   ]
  },
  {
   "cell_type": "markdown",
   "metadata": {},
   "source": [
    "You're teaching your niece how to program in Python, and she is working on returning nested functions. She thinks she has written the code correctly, but she is worried that the returned function won't have the necessary information when called. Show her that all of the nonlocal variables she needs are in the new function's closure."
   ]
  },
  {
   "cell_type": "code",
   "execution_count": 26,
   "metadata": {},
   "outputs": [
    {
     "name": "stdout",
     "output_type": "stream",
     "text": [
      "True\n",
      "True\n",
      "True\n"
     ]
    }
   ],
   "source": [
    "def return_a_func(arg1, arg2):\n",
    "  def new_func():\n",
    "    print('arg1 was {}'.format(arg1))\n",
    "    print('arg2 was {}'.format(arg2))\n",
    "  return new_func\n",
    "    \n",
    "my_func = return_a_func(2, 17)\n",
    "\n",
    "# Show that my_func()'s closure is not None\n",
    "print(my_func.__closure__ is not None)\n",
    "\n",
    "# Show that there are two variables in the closure\n",
    "print(len(my_func.__closure__) == 2)\n",
    "\n",
    "# Get the values of the variables in the closure\n",
    "closure_values = [\n",
    "  my_func.__closure__[i].cell_contents for i in range(2)\n",
    "]\n",
    "print(closure_values == [2, 17])"
   ]
  },
  {
   "cell_type": "markdown",
   "metadata": {},
   "source": [
    "# Closures keep your values safe"
   ]
  },
  {
   "cell_type": "markdown",
   "metadata": {},
   "source": [
    "You are still helping your niece understand closures. You have written the function `get_new_func()` that returns a nested function. The nested function `call_func()` calls whatever function was passed to `get_new_func()`. You've also written `my_special_function()` which simply prints a message that states that you are executing `my_special_function()`.\n",
    "\n",
    "You want to show your niece that no matter what you do to `my_special_function()` after passing it to `get_new_func()`, the new function still mimics the behavior of the original `my_special_function()` because it is in the new function's closure."
   ]
  },
  {
   "cell_type": "code",
   "execution_count": 27,
   "metadata": {},
   "outputs": [
    {
     "name": "stdout",
     "output_type": "stream",
     "text": [
      "You are running my_special_function()\n"
     ]
    }
   ],
   "source": [
    "def my_special_function():\n",
    "  print('You are running my_special_function()')\n",
    "  \n",
    "def get_new_func(func):\n",
    "  def call_func():\n",
    "    func()\n",
    "  return call_func\n",
    "\n",
    "new_func = get_new_func(my_special_function)\n",
    "\n",
    "# Redefine my_special_function() to just print \"hello\"\n",
    "def my_special_function():\n",
    "  print (\"hello\")\n",
    "\n",
    "new_func()"
   ]
  },
  {
   "cell_type": "code",
   "execution_count": 28,
   "metadata": {},
   "outputs": [
    {
     "name": "stdout",
     "output_type": "stream",
     "text": [
      "You are running my_special_function()\n"
     ]
    }
   ],
   "source": [
    "def my_special_function():\n",
    "  print('You are running my_special_function()')\n",
    "  \n",
    "def get_new_func(func):\n",
    "  def call_func():\n",
    "    func()\n",
    "  return call_func\n",
    "\n",
    "new_func = get_new_func(my_special_function)\n",
    "\n",
    "# Delete my_special_function()\n",
    "del(my_special_function)\n",
    "\n",
    "new_func()"
   ]
  },
  {
   "cell_type": "code",
   "execution_count": 29,
   "metadata": {},
   "outputs": [
    {
     "name": "stdout",
     "output_type": "stream",
     "text": [
      "You are running my_special_function()\n"
     ]
    }
   ],
   "source": [
    "def my_special_function():\n",
    "  print('You are running my_special_function()')\n",
    "  \n",
    "def get_new_func(func):\n",
    "  def call_func():\n",
    "    func()\n",
    "  return call_func\n",
    "\n",
    "# Overwrite `my_special_function` with the new function\n",
    "my_special_function = get_new_func(my_special_function)\n",
    "\n",
    "my_special_function()"
   ]
  },
  {
   "cell_type": "markdown",
   "metadata": {},
   "source": [
    "# Using decorator syntax"
   ]
  },
  {
   "cell_type": "markdown",
   "metadata": {},
   "source": [
    "You have written a decorator called `print_args` that prints out all of the arguments and their values any time a function that it is decorating gets called."
   ]
  },
  {
   "cell_type": "code",
   "execution_count": 35,
   "metadata": {},
   "outputs": [
    {
     "name": "stdout",
     "output_type": "stream",
     "text": [
      "my_function was called with a=1, b=2, c=3\n",
      "6\n"
     ]
    }
   ],
   "source": [
    "def print_args(func):\n",
    "    def changer(a,b,c):\n",
    "        print(f\"my_function was called with a={a}, b={b}, c={c}\")\n",
    "        func(a,b,c)\n",
    "    return changer\n",
    "\n",
    "def my_function(a, b, c):\n",
    "  print(a + b + c)\n",
    "\n",
    "# Decorate my_function() with the print_args() decorator\n",
    "my_function = print_args(my_function)\n",
    "\n",
    "my_function(1, 2, 3)"
   ]
  },
  {
   "cell_type": "code",
   "execution_count": 36,
   "metadata": {},
   "outputs": [
    {
     "name": "stdout",
     "output_type": "stream",
     "text": [
      "my_function was called with a=1, b=2, c=3\n",
      "6\n"
     ]
    }
   ],
   "source": [
    "# Decorate my_function() with the print_args() decorator\n",
    "@print_args\n",
    "def my_function(a, b, c):\n",
    "  print(a + b + c)\n",
    "\n",
    "my_function(1, 2, 3)"
   ]
  },
  {
   "cell_type": "markdown",
   "metadata": {},
   "source": [
    "# Defining a decorator"
   ]
  },
  {
   "cell_type": "markdown",
   "metadata": {},
   "source": [
    "Your buddy has been working on a decorator that prints a \"before\" message before the decorated function is called and prints an \"after\" message after the decorated function is called. They are having trouble remembering how wrapping the decorated function is supposed to work. Help them out by finishing their `print_before_and_after()` decorator."
   ]
  },
  {
   "cell_type": "code",
   "execution_count": 37,
   "metadata": {},
   "outputs": [
    {
     "name": "stdout",
     "output_type": "stream",
     "text": [
      "Before multiply\n",
      "50\n",
      "After multiply\n"
     ]
    }
   ],
   "source": [
    "def print_before_and_after(func):\n",
    "  def wrapper(*args):\n",
    "    print('Before {}'.format(func.__name__))\n",
    "    # Call the function being decorated with *args\n",
    "    func(*args)\n",
    "    print('After {}'.format(func.__name__))\n",
    "  # Return the nested function\n",
    "  return wrapper\n",
    "\n",
    "@print_before_and_after\n",
    "def multiply(a, b):\n",
    "  print(a * b)\n",
    "\n",
    "multiply(5, 10)"
   ]
  }
 ],
 "metadata": {
  "kernelspec": {
   "display_name": "env_py",
   "language": "python",
   "name": "python3"
  },
  "language_info": {
   "codemirror_mode": {
    "name": "ipython",
    "version": 3
   },
   "file_extension": ".py",
   "mimetype": "text/x-python",
   "name": "python",
   "nbconvert_exporter": "python",
   "pygments_lexer": "ipython3",
   "version": "3.8.11"
  }
 },
 "nbformat": 4,
 "nbformat_minor": 2
}
