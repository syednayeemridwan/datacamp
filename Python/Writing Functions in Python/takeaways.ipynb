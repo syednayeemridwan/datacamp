{
 "cells": [
  {
   "cell_type": "markdown",
   "metadata": {},
   "source": [
    "# Chapter 1"
   ]
  },
  {
   "cell_type": "markdown",
   "metadata": {},
   "source": [
    "### Function"
   ]
  },
  {
   "cell_type": "markdown",
   "metadata": {},
   "source": [
    "```\n",
    "# Example 1 : Function without args or kwargs\n",
    "def func_name(param1, param2=1):\n",
    "    \"\"\"Function Definition.\"\"\" # Function definition Docstring\n",
    "    \n",
    "    new_value1 = param1 ** param2\n",
    "    new_value2 = param2 ** param1\n",
    "    new_tuple = (new_value1, new_value2) # Binding results in a tuple\n",
    "    \n",
    "    return new_tuple # Returning multiple results\n",
    "\n",
    "func_name(2,3) # (8,9)\n",
    "\n",
    "# Example 2 : Function with *args (a tuple of parameters)\n",
    "def add_all(*args):\n",
    "    \"\"\"Sum all values in *args together.\"\"\"\n",
    "\n",
    "    sum_all = 0\n",
    "    for num in args: # iterate over args tuple\n",
    "        sum_all += num\n",
    "\n",
    "    return sum_all\n",
    "\n",
    "add_all(5, 10, 15, 20) # 50\n",
    "\n",
    "# Example 3 : Function with **kwargs (a dictionary of parameters)\n",
    "def print_all(**kwargs):\n",
    "    \"\"\"Print out key-value pairs in **kwargs.\"\"\"\n",
    "\n",
    "    for key, value in kwargs.items(): # iterate over kwargs dictionary\n",
    "        print(f\"key = {key}, value = {value}\")\n",
    "\n",
    "print_all(name=\"dumbledore\") # key = name, value = dumbledore\n",
    "\n",
    "# Example 4 : Function as return value\n",
    "def get_function():\n",
    "    def print_me(s):\n",
    "        print(s)\n",
    "\n",
    "    return print_me\n",
    "\n",
    "new_func = get_function() # print_me is now referenced by new_func\n",
    "# calling new_func will now call print_me\n",
    "new_func('This is a sentence.')\n",
    "```"
   ]
  },
  {
   "cell_type": "markdown",
   "metadata": {},
   "source": [
    "### Function docstring"
   ]
  },
  {
   "cell_type": "markdown",
   "metadata": {},
   "source": [
    "```\n",
    "# DRY : make functions that do only one thing at a time\n",
    "# None is a good choice for default argument\n",
    "# See documentation\n",
    "print(func_name.__doc__)\n",
    "# Alternative way\n",
    "import inspect\n",
    "print(inspect.getdoc(func_name))\n",
    "```"
   ]
  },
  {
   "cell_type": "markdown",
   "metadata": {},
   "source": [
    "# Chapter 2"
   ]
  },
  {
   "cell_type": "markdown",
   "metadata": {},
   "source": [
    "### Function based Context Manager"
   ]
  },
  {
   "cell_type": "markdown",
   "metadata": {},
   "source": [
    "```\n",
    "@contextlib.contextmanager\n",
    "def database (url):\n",
    "    # set up database connection\n",
    "    db = postgres.connect(url)\n",
    "\n",
    "    try:\n",
    "        yield db\n",
    "    except:\n",
    "        print(\"Something is Wrong\")\n",
    "    finally:\n",
    "        # tear down database connection\n",
    "        db.disconnect()\n",
    "url = 'http://datacamp.com/data'\n",
    "\n",
    "with database(url) as my_db:\n",
    "    course_list = my_db.execute( 'SELECT * FROM courses')\n",
    "```"
   ]
  },
  {
   "cell_type": "markdown",
   "metadata": {},
   "source": [
    "### Class based context manager"
   ]
  },
  {
   "cell_type": "markdown",
   "metadata": {},
   "source": [
    "```\n",
    "    \n",
    "#### Class based context manager ##########\n",
    "from contextlib import contextmanager\n",
    "\n",
    "class DatabaseManager:\n",
    "    def __init__(self, url):\n",
    "        self.url = url\n",
    "        self.db = None\n",
    "\n",
    "    def connect(self):\n",
    "        # set up database connection\n",
    "        self.db = postgres.connect(self.url)\n",
    "        return self.db\n",
    "\n",
    "    def disconnect(self):\n",
    "        # tear down database connection\n",
    "        if self.db:\n",
    "            self.db.disconnect()\n",
    "\n",
    "    def __enter__(self):\n",
    "        # Called when entering the 'with' block\n",
    "        return self.connect()\n",
    "\n",
    "    def __exit__(self, exc_type, exc_value, traceback):\n",
    "        # Called when exiting the 'with' block\n",
    "        self.disconnect()\n",
    "\n",
    "        # Handle exceptions\n",
    "        if exc_type is not None:\n",
    "            print(\"Something is Wrong\")\n",
    "\n",
    "# Example usage:\n",
    "url = 'http://datacamp.com/data'\n",
    "\n",
    "with DatabaseManager(url) as my_db:\n",
    "    try:\n",
    "        course_list = my_db.execute('SELECT * FROM courses')\n",
    "        # Perform operations with the database connection\n",
    "    except Exception as e:\n",
    "        # Handle specific exceptions if needed\n",
    "        print(f\"Exception: {e}\")\n",
    "\n",
    "\n",
    "```"
   ]
  },
  {
   "cell_type": "markdown",
   "metadata": {},
   "source": [
    "### Nested context"
   ]
  },
  {
   "cell_type": "markdown",
   "metadata": {},
   "source": [
    "- Best practice :  Connect the nested context using a function"
   ]
  },
  {
   "cell_type": "markdown",
   "metadata": {},
   "source": [
    "```\n",
    "def copy(src, dst):\n",
    "    \"\"\"Copy the contents of one file to another.\n",
    "    Args:\n",
    "    src (str): File name of the file to be copied.\n",
    "    dst (str): Where to write the new file.\n",
    "    \"\"\"\n",
    "# Open both files\n",
    "with open(src) as f_src:\n",
    "    with open(dst, 'w') as f_dst:\n",
    "    # Read and write each line, one at a time\n",
    "        for line in f_src:\n",
    "            f_dst.write(line)\n",
    "```"
   ]
  },
  {
   "cell_type": "markdown",
   "metadata": {},
   "source": [
    "# Chapter 3"
   ]
  },
  {
   "cell_type": "markdown",
   "metadata": {},
   "source": [
    "### Scope"
   ]
  },
  {
   "cell_type": "markdown",
   "metadata": {},
   "source": [
    "```\n",
    "# Change global variable value in local scope\n",
    "\n",
    "global global_var\n",
    "global_var = other_val ** 2\n",
    "\n",
    "# Change outer function variable value in inner function of a nested function\n",
    "# nonlocal variables are the variables that reside in parent function in a nested function\n",
    "nonlocal outer_var\n",
    "outer_var = 2\n",
    "\n",
    "# Presedence : Local > Enclosing > Global > Built-in\n",
    "```"
   ]
  },
  {
   "cell_type": "markdown",
   "metadata": {},
   "source": [
    "### Functions as return values"
   ]
  },
  {
   "cell_type": "markdown",
   "metadata": {},
   "source": [
    "```\n",
    "def get_function():\n",
    "    def print_me(s):\n",
    "        print(s)\n",
    "\n",
    "    return print_me\n",
    "\n",
    "new_func = get_function() # print_me is now referenced by new_func\n",
    "# calling new_func will now call print_me\n",
    "new_func('This is a sentence.')\n",
    "```"
   ]
  },
  {
   "cell_type": "markdown",
   "metadata": {},
   "source": [
    "### Closures"
   ]
  },
  {
   "cell_type": "markdown",
   "metadata": {},
   "source": [
    "```\n",
    "### Closure: Attaching nonlocal variables to nested functions\n",
    "### When there is a nested function where inner function is dependent on\n",
    "### nonlocal variable of outer function, closure helps to contain the variable\n",
    "### of that outer function inside a tuple to supply it later to\n",
    "### the inner function when needed\n",
    "\n",
    "def foo():\n",
    "    a = 5\n",
    "    def bar():\n",
    "        print(a)\n",
    "    return bar\n",
    "\n",
    "func = foo()\n",
    "func() # 5\n",
    "\n",
    "# What is closure : A tuple that contains nonlocal variables\n",
    "type(func.__closure__)\n",
    "# See the number of nonlocal variables\n",
    "len(func.__closure__)\n",
    "# See values of closures\n",
    "func.__closure__[0].cell_contents\n",
    "```"
   ]
  },
  {
   "cell_type": "markdown",
   "metadata": {},
   "source": [
    "### Decorator"
   ]
  },
  {
   "cell_type": "markdown",
   "metadata": {},
   "source": [
    "```\n",
    "### Decorators: Decorators are nothing but nested functions, where the parent function \n",
    "### takes only a function as input and the child function modifies the behavior of input function\n",
    "\n",
    "from functools import wraps\n",
    "def parent_func(input_func):\n",
    "    @wraps(input_func)\n",
    "    def child_func(*args, **kwargs):\n",
    "        return input_func(*args, **kwargs)\n",
    "    return child_func\n",
    "\n",
    "@parent_func\n",
    "def some_func(a, b):\n",
    "    return a * b\n",
    "\n",
    "some_func(1, 5) \n",
    "\n",
    "\n",
    "```"
   ]
  },
  {
   "cell_type": "markdown",
   "metadata": {},
   "source": [
    "# Chapter 4"
   ]
  },
  {
   "cell_type": "markdown",
   "metadata": {},
   "source": [
    "### Decorator Factory"
   ]
  },
  {
   "cell_type": "markdown",
   "metadata": {},
   "source": [
    "```\n",
    "### Decorator Factory: An outermost function that wraps around a decorator and takes argument for \n",
    "### the decorator since the decorator itself cannot take any argument other than a single function\n",
    "\n",
    "from functools import wraps\n",
    "def paramholder_func( p1, p2)\n",
    "    def parent_func(input_func):\n",
    "        @wraps(input_func)\n",
    "        def child_func(*args, **kwargs):\n",
    "            return input_func(*args, **kwargs)\n",
    "        return child_func\n",
    "    return parent_func\n",
    "\n",
    "@parent_func(1,2)\n",
    "def some_func(a, b):\n",
    "    return a * b\n",
    "\n",
    "```"
   ]
  },
  {
   "cell_type": "markdown",
   "metadata": {},
   "source": [
    "### Example 1 : Timer"
   ]
  },
  {
   "cell_type": "markdown",
   "metadata": {},
   "source": [
    "```\n",
    "import time\n",
    "from functools import wraps\n",
    "def decorator(func):\n",
    "    \"\"\"A decorator that prints how long a function took to run.\"\"\"\n",
    "    # Use @wraps to bind function's meta data like docstring / function name etc\n",
    "    @wraps(func)\n",
    "    # Define the wrapper function to return.\n",
    "    def changed_func(*args, **kwargs):\n",
    "        t_start = time.time()\n",
    "        # Call the decorated function and store the result.\n",
    "        result = func(*args, **kwargs)\n",
    "        t_total = time.time() - t_start\n",
    "        print('{} took {}s'.format(func.__name__, t_total))\n",
    "        return result\n",
    "    return changed_func\n",
    "\n",
    "@decorator\n",
    "def sleep_n_seconds(n):\n",
    "    time.sleep(n)\n",
    "\n",
    "sleep_n_seconds(5) # 5.00001\n",
    "```"
   ]
  },
  {
   "cell_type": "markdown",
   "metadata": {},
   "source": [
    "### Example 2 : Decorator with parameter (Decorator factory)"
   ]
  },
  {
   "cell_type": "markdown",
   "metadata": {},
   "source": [
    "```\n",
    "from functools import wraps\n",
    "# an outer function that takes argument\n",
    "def decorator_factory(n):\n",
    "    \"\"\"Define and return a decorator\"\"\"\n",
    "    def decorator(func):\n",
    "        @wraps(func)\n",
    "        def changed_func(*args, **kwargs):\n",
    "            for i in range(n):\n",
    "                func(*args, **kwargs)\n",
    "        return changed_func\n",
    "    return decorator\n",
    "\n",
    "run_three_times = decorator_factory(3)\n",
    "@run_three_times\n",
    "def print_sum(a, b):\n",
    "    print(a + b)\n",
    "\n",
    "@decorator_factory(3)\n",
    "def print_sum(a, b):\n",
    "    print(a + b)\n",
    "```"
   ]
  }
 ],
 "metadata": {
  "language_info": {
   "name": "python"
  }
 },
 "nbformat": 4,
 "nbformat_minor": 2
}
