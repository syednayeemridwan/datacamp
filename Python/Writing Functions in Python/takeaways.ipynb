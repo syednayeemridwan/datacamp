{
 "cells": [
  {
   "cell_type": "markdown",
   "metadata": {},
   "source": [
    "# Chapter 1"
   ]
  },
  {
   "cell_type": "markdown",
   "metadata": {},
   "source": [
    "### Function"
   ]
  },
  {
   "cell_type": "markdown",
   "metadata": {},
   "source": [
    "```\n",
    "# DRY : make functions that do only one thing at a time\n",
    "# None is a good choice for default argument\n",
    "# See documentation\n",
    "print(func_name.__doc__)\n",
    "# Alternative way\n",
    "import inspect\n",
    "print(inspect.getdoc(func_name))\n",
    "```"
   ]
  },
  {
   "cell_type": "markdown",
   "metadata": {},
   "source": [
    "# Chapter 2"
   ]
  },
  {
   "cell_type": "markdown",
   "metadata": {},
   "source": [
    "### Function based Context Manager"
   ]
  },
  {
   "cell_type": "markdown",
   "metadata": {},
   "source": [
    "```\n",
    "@contextlib.contextmanager\n",
    "def database (url):\n",
    "    # set up database connection\n",
    "    db = postgres.connect(url)\n",
    "\n",
    "    try:\n",
    "        yield db\n",
    "    except:\n",
    "        print(\"Something is Wrong\")\n",
    "    finally:\n",
    "        # tear down database connection\n",
    "        db.disconnect()\n",
    "url = 'http://datacamp.com/data'\n",
    "\n",
    "with database(url) as my_db:\n",
    "    course_list = my_db.execute( 'SELECT * FROM courses')\n",
    "```"
   ]
  },
  {
   "cell_type": "markdown",
   "metadata": {},
   "source": [
    "### Class based context manager"
   ]
  },
  {
   "cell_type": "markdown",
   "metadata": {},
   "source": [
    "```\n",
    "    \n",
    "#### Class based context manager ##########\n",
    "from contextlib import contextmanager\n",
    "\n",
    "class DatabaseManager:\n",
    "    def __init__(self, url):\n",
    "        self.url = url\n",
    "        self.db = None\n",
    "\n",
    "    def connect(self):\n",
    "        # set up database connection\n",
    "        self.db = postgres.connect(self.url)\n",
    "        return self.db\n",
    "\n",
    "    def disconnect(self):\n",
    "        # tear down database connection\n",
    "        if self.db:\n",
    "            self.db.disconnect()\n",
    "\n",
    "    def __enter__(self):\n",
    "        # Called when entering the 'with' block\n",
    "        return self.connect()\n",
    "\n",
    "    def __exit__(self, exc_type, exc_value, traceback):\n",
    "        # Called when exiting the 'with' block\n",
    "        self.disconnect()\n",
    "\n",
    "        # Handle exceptions\n",
    "        if exc_type is not None:\n",
    "            print(\"Something is Wrong\")\n",
    "\n",
    "# Example usage:\n",
    "url = 'http://datacamp.com/data'\n",
    "\n",
    "with DatabaseManager(url) as my_db:\n",
    "    try:\n",
    "        course_list = my_db.execute('SELECT * FROM courses')\n",
    "        # Perform operations with the database connection\n",
    "    except Exception as e:\n",
    "        # Handle specific exceptions if needed\n",
    "        print(f\"Exception: {e}\")\n",
    "\n",
    "\n",
    "```"
   ]
  },
  {
   "cell_type": "markdown",
   "metadata": {},
   "source": [
    "### Nested context"
   ]
  },
  {
   "cell_type": "markdown",
   "metadata": {},
   "source": [
    "- Best practice :  Connect the nested context using a function"
   ]
  },
  {
   "cell_type": "markdown",
   "metadata": {},
   "source": [
    "```\n",
    "def copy(src, dst):\n",
    "    \"\"\"Copy the contents of one file to another.\n",
    "    Args:\n",
    "    src (str): File name of the file to be copied.\n",
    "    dst (str): Where to write the new file.\n",
    "    \"\"\"\n",
    "# Open both files\n",
    "with open(src) as f_src:\n",
    "    with open(dst, 'w') as f_dst:\n",
    "    # Read and write each line, one at a time\n",
    "        for line in f_src:\n",
    "            f_dst.write(line)\n",
    "```"
   ]
  }
 ],
 "metadata": {
  "language_info": {
   "name": "python"
  }
 },
 "nbformat": 4,
 "nbformat_minor": 2
}
