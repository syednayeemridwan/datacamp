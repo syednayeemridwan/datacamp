{
 "cells": [
  {
   "cell_type": "markdown",
   "metadata": {},
   "source": [
    "# Chapter 1"
   ]
  },
  {
   "cell_type": "markdown",
   "metadata": {},
   "source": [
    "### Function"
   ]
  },
  {
   "cell_type": "markdown",
   "metadata": {},
   "source": [
    "```\n",
    "# DRY : make functions that do only one thing at a time\n",
    "# None is a good choice for default argument\n",
    "# See documentation\n",
    "print(func_name.__doc__)\n",
    "# Alternative way\n",
    "import inspect\n",
    "print(inspect.getdoc(func_name))\n",
    "```"
   ]
  }
 ],
 "metadata": {
  "language_info": {
   "name": "python"
  }
 },
 "nbformat": 4,
 "nbformat_minor": 2
}
