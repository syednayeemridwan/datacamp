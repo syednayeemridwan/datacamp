{
 "cells": [
  {
   "cell_type": "markdown",
   "metadata": {},
   "source": [
    "# Chapter 1"
   ]
  },
  {
   "cell_type": "markdown",
   "metadata": {},
   "source": [
    "### Data Preprocessing"
   ]
  },
  {
   "cell_type": "markdown",
   "metadata": {},
   "source": [
    "- Comes after data cleaning and Exploratory Data Analysis (EDA)\n",
    "- pre-requisite for modeling\n",
    "- Helps to:\n",
    "    - produce more reliable results\n",
    "    - Improve model performance\n",
    "    - Reduce overfitting/underfitting\n",
    "- inspect dataset\n",
    "- See summary statistics\n",
    "- Deal with missing values\n",
    "- Convert to specified column types\n",
    "- Split into training and testing set (Take class imbalance into account)"
   ]
  },
  {
   "cell_type": "markdown",
   "metadata": {},
   "source": [
    "```\n",
    "# Inspect dataset\n",
    "df.head()\n",
    "df.info()\n",
    "df.describe() # Summary stats\n",
    "\n",
    "# DEAL WITH MISSING VALUES\n",
    "df.drop([1, 2, 3]) # Drop specific rows\n",
    "df.dropna(thresh=2) # keep at least 2 non-missing values in each row\n",
    "df.dropna(subset=['C']) # Drop missing values of specified column\n",
    "\n",
    "# Convert column types\n",
    "df[\"C\"] = df[\"C\"].astype(\"float\")\n",
    "\n",
    "# Verify class imbalance\n",
    "y.value_counts()\n",
    "\n",
    "# Split into training and testing data (Consider class imbalance)\n",
    "from sklearn.model_selection import train_test_split\n",
    "X_train,X_test,y_train,y_test = train_test_split(X, y, stratify=y, test_size=0.2, random_state=42)\n",
    "```"
   ]
  },
  {
   "cell_type": "markdown",
   "metadata": {},
   "source": []
  }
 ],
 "metadata": {
  "language_info": {
   "name": "python"
  }
 },
 "nbformat": 4,
 "nbformat_minor": 2
}
