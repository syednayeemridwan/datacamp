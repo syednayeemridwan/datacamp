{
 "cells": [
  {
   "cell_type": "markdown",
   "metadata": {},
   "source": [
    "# Chapter 1 and Chapter 2"
   ]
  },
  {
   "cell_type": "markdown",
   "metadata": {},
   "source": [
    "### Audio processing"
   ]
  },
  {
   "cell_type": "markdown",
   "metadata": {},
   "source": [
    "- For a dataframe of audio data:\n",
    "    - each column is a sample\n",
    "    - each row is a point in time/amplitude of a sample\n",
    "- So when using for machine learning,\n",
    "    - each column name is a label\n",
    "    - each column series should be converted to a row of features (eg: mean, max, std, tempo mean, beat mean, stft mean etc)\n",
    "    - you can also use percentile to get value at specific percentile and use them as features\n",
    "    - NEVER SHUFFLE (time series like index will be lost)\n",
    "    - Missing data should be interpolated for time series\n",
    "    - Rolling window can be used along with stat functions as well for generating new features\n"
   ]
  },
  {
   "cell_type": "markdown",
   "metadata": {},
   "source": [
    "```\n",
    "import librosa as lr\n",
    "from glob import glob\n",
    "\n",
    "# Function to extract audio features from a single file\n",
    "def extract_features(file_path):\n",
    "    audio, sfreq = lr.load(file_path) # load an audio file into amplitude data array and number of sample per second\n",
    "    time = np.arange(0, len(audio)) / sfreq # Create time array\n",
    "    # Plot : Auditory envelope (smoothing signal) for visualization\n",
    "    audio_rectified = audio.apply(np.abs)\n",
    "    audio_envelope = audio_rectified.rolling(50).mean() \n",
    "    fig, ax = plt.subplots()\n",
    "    ax.plot(time, audio) # time on X axis and amplitude on Y-axis\n",
    "    ax.set(xlabel='Time (s)', ylabel='Sound Amplitude')\n",
    "    plt.show()\n",
    "    #### FEATURES ####\n",
    "    mfccs = np.mean(lr.feature.mfcc(y=audio, sr=sfreq, n_mfcc=13), axis=1)\n",
    "    chroma = np.mean(lr.feature.chroma_stft(y=audio, sr=sfreq), axis=1)\n",
    "    spectral_contrast = np.mean(lr.feature.spectral_contrast(y=audio, sr=sfreq), axis=1)\n",
    "    tonnetz = np.mean(lr.feature.tonnetz(y=audio, sr=sfreq), axis=1)\n",
    "    tempogram = np.mean(lr.feature.tempogram(y=audio, sr=sfreq), axis=1)\n",
    "    # Compute spectrogram (STFT) : THIS IS A TIME SERIES OF OSCILLATION\n",
    "    spectrogram = lr.stft(y=audio)\n",
    "    spec_db = np.mean(lr.amplitude_to_db(np.abs(spectrogram)), axis=1) # Convert to decibel for easier representation\n",
    "    spectral_centroid = np.mean(lr.feature.spectral_centroid(y=audio, sr=sfreq))\n",
    "    spectral_bandwidth = np.mean(lr.feature.spectral_bandwidth(y=audio, sr=sfreq))\n",
    "    features = np.concatenate([mfccs, chroma, spectral_contrast, tonnetz, tempogram, spec_db,\n",
    "                               [spectral_centroid, spectral_bandwidth]])\n",
    "    return features\n",
    "\n",
    "# Directory containing audio files\n",
    "audio_files = glob('dataset/*.wav')\n",
    "\n",
    "# Create feature matrix X\n",
    "X = []\n",
    "for file_path in audio_files:\n",
    "    features = extract_features(file_path)\n",
    "    X.append(features)\n",
    "\n",
    "X = np.array(X)\n",
    "\n",
    "```"
   ]
  },
  {
   "cell_type": "markdown",
   "metadata": {},
   "source": [
    "# Chapter 3"
   ]
  },
  {
   "cell_type": "markdown",
   "metadata": {},
   "source": [
    "- Find missing data through visualization : \n",
    "    1. Missing data should be interpolated for time series\n",
    "    2. Rolling window can be used along with stat functions as well"
   ]
  },
  {
   "cell_type": "markdown",
   "metadata": {},
   "source": [
    "```\n",
    "from functools import partial\n",
    "\n",
    "def multiply(a, b):\n",
    "    return a * b\n",
    "\n",
    "double = partial(multiply, b=2)\n",
    "\n",
    "result = double(10)\n",
    "print(result)\n",
    "```"
   ]
  },
  {
   "cell_type": "markdown",
   "metadata": {},
   "source": [
    "# Chapter 4"
   ]
  },
  {
   "cell_type": "code",
   "execution_count": 26,
   "metadata": {},
   "outputs": [
    {
     "data": {
      "text/html": [
       "<div>\n",
       "<style scoped>\n",
       "    .dataframe tbody tr th:only-of-type {\n",
       "        vertical-align: middle;\n",
       "    }\n",
       "\n",
       "    .dataframe tbody tr th {\n",
       "        vertical-align: top;\n",
       "    }\n",
       "\n",
       "    .dataframe thead th {\n",
       "        text-align: right;\n",
       "    }\n",
       "</style>\n",
       "<table border=\"1\" class=\"dataframe\">\n",
       "  <thead>\n",
       "    <tr style=\"text-align: right;\">\n",
       "      <th></th>\n",
       "      <th>close</th>\n",
       "    </tr>\n",
       "    <tr>\n",
       "      <th>date</th>\n",
       "      <th></th>\n",
       "    </tr>\n",
       "  </thead>\n",
       "  <tbody>\n",
       "    <tr>\n",
       "      <th>2010-01-04</th>\n",
       "      <td>1.000000</td>\n",
       "    </tr>\n",
       "    <tr>\n",
       "      <th>2010-01-05</th>\n",
       "      <td>1.007602</td>\n",
       "    </tr>\n",
       "    <tr>\n",
       "      <th>2010-01-06</th>\n",
       "      <td>1.004094</td>\n",
       "    </tr>\n",
       "    <tr>\n",
       "      <th>2010-01-07</th>\n",
       "      <td>0.976608</td>\n",
       "    </tr>\n",
       "    <tr>\n",
       "      <th>2010-01-08</th>\n",
       "      <td>0.976608</td>\n",
       "    </tr>\n",
       "  </tbody>\n",
       "</table>\n",
       "</div>"
      ],
      "text/plain": [
       "               close\n",
       "date                \n",
       "2010-01-04  1.000000\n",
       "2010-01-05  1.007602\n",
       "2010-01-06  1.004094\n",
       "2010-01-07  0.976608\n",
       "2010-01-08  0.976608"
      ]
     },
     "execution_count": 26,
     "metadata": {},
     "output_type": "execute_result"
    }
   ],
   "source": [
    "import pandas as pd\n",
    "import matplotlib.pyplot as plt\n",
    "\n",
    "df = pd.read_csv(\"dataset/prices.csv\", parse_dates=[\"date\"], index_col=\"date\")\n",
    "YHOO = df[df[\"symbol\"].isin([\"YHOO\"])].drop([\"symbol\",\"volume\"], axis=1)\n",
    "YHOO= YHOO.div(YHOO.iloc[0])\n",
    "YHOO.head()"
   ]
  },
  {
   "cell_type": "code",
   "execution_count": 27,
   "metadata": {},
   "outputs": [
    {
     "data": {
      "image/png": "[encoded data removed]",
      "text/plain": [
       "<Figure size 432x288 with 1 Axes>"
      ]
     },
     "metadata": {
      "needs_background": "light"
     },
     "output_type": "display_data"
    }
   ],
   "source": [
    "import pandas as pd\n",
    "from sklearn.linear_model import LinearRegression\n",
    "from sklearn.model_selection import TimeSeriesSplit\n",
    "import numpy as np\n",
    "import matplotlib.pyplot as plt\n",
    "\n",
    "df = YHOO  # Assuming YHOO is your DataFrame containing stock data\n",
    "num_lags = 3  # Adjust this according to your needs\n",
    "for i in range(1, num_lags + 1): # Creating features\n",
    "    df[f'lag_{i}'] = df['close'].shift(i)\n",
    "df.dropna(inplace=True) # Drop rows with NaN values resulting from the shift operation\n",
    "X = df.drop(columns=['close'])  # Features (lagged versions)\n",
    "y = df['close']  # Target variable\n",
    "\n",
    "actual_values = []\n",
    "predicted_values = []\n",
    "tscv = TimeSeriesSplit(n_splits=5, max_train_size=30) # window = 30\n",
    "model = LinearRegression()\n",
    "\n",
    "# Train the model and make predictions\n",
    "for train_index, test_index in tscv.split(X):\n",
    "    X_train, X_test = X.iloc[train_index], X.iloc[test_index]\n",
    "    y_train, y_test = y.iloc[train_index], y.iloc[test_index]\n",
    "    model.fit(X_train, y_train)\n",
    "    y_pred = model.predict(X_test)\n",
    "    actual_values.extend(y_test) # Append actual and predicted values to the lists (Use extend to append the values instead of whole list)\n",
    "    predicted_values.extend(y_pred)\n",
    "\n",
    "\n",
    "result = pd.DataFrame({'Actual': actual_values, 'Predicted': predicted_values}, index=df.index[-len(predicted_values):])\n",
    "result.plot()\n",
    "plt.xlabel('Time')\n",
    "plt.ylabel('Close Price')\n",
    "plt.title('Actual vs Predicted Values')\n",
    "plt.show()\n"
   ]
  }
 ],
 "metadata": {
  "kernelspec": {
   "display_name": "env_py",
   "language": "python",
   "name": "python3"
  },
  "language_info": {
   "codemirror_mode": {
    "name": "ipython",
    "version": 3
   },
   "file_extension": ".py",
   "mimetype": "text/x-python",
   "name": "python",
   "nbconvert_exporter": "python",
   "pygments_lexer": "ipython3",
   "version": "3.8.11"
  }
 },
 "nbformat": 4,
 "nbformat_minor": 2
}
