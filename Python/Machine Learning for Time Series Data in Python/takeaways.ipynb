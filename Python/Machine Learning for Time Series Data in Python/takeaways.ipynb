{
 "cells": [
  {
   "cell_type": "markdown",
   "metadata": {},
   "source": [
    "# Chapter 1"
   ]
  },
  {
   "cell_type": "markdown",
   "metadata": {},
   "source": [
    "### Audio processing"
   ]
  },
  {
   "cell_type": "markdown",
   "metadata": {},
   "source": [
    "```\n",
    "import librosa as lr\n",
    "from glob import glob\n",
    "audio_files = glob('dataset/*.wav')\n",
    "audio, sfreq = lr.load(audio_files[0]) # load an audio file into audio data and number of sample per second\n",
    "time = np.arange(0, len(audio)) / sfreq # Create time array\n",
    "# Plot audio over time\n",
    "fig, ax = plt.subplots()\n",
    "ax.plot(time, audio) # time on X axis and amplitude on Y-axis\n",
    "ax.set(xlabel='Time (s)', ylabel='Sound Amplitude')\n",
    "plt.show()\n",
    "```"
   ]
  }
 ],
 "metadata": {
  "language_info": {
   "name": "python"
  }
 },
 "nbformat": 4,
 "nbformat_minor": 2
}
