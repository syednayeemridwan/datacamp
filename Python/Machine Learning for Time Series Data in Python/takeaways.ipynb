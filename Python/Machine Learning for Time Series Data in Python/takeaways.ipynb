{
 "cells": [
  {
   "cell_type": "markdown",
   "metadata": {},
   "source": [
    "# Chapter 1 and Chapter 2"
   ]
  },
  {
   "cell_type": "markdown",
   "metadata": {},
   "source": [
    "### Audio processing"
   ]
  },
  {
   "cell_type": "markdown",
   "metadata": {},
   "source": [
    "- For a dataframe of audio data:\n",
    "    - each column is a sample\n",
    "    - each row is a point in time/amplitude of a sample\n",
    "- So when using for machine learning,\n",
    "    - each column name is a label\n",
    "    - each column series should be converted to a row of features (eg: mean, max, std, tempo mean, beat mean, stft mean etc)\n",
    "    - you can also use percentile to get value at specific percentile and use them as features\n",
    "    - NEVER SHUFFLE\n",
    "    - Missing data should be interpolated for time series\n",
    "    - Rolling window can be used along with stat functions as well for generating new features\n"
   ]
  },
  {
   "cell_type": "markdown",
   "metadata": {},
   "source": [
    "```\n",
    "import librosa as lr\n",
    "from glob import glob\n",
    "\n",
    "# Function to extract audio features from a single file\n",
    "def extract_features(file_path):\n",
    "    audio, sfreq = lr.load(file_path) # load an audio file into amplitude data array and number of sample per second\n",
    "    time = np.arange(0, len(audio)) / sfreq # Create time array\n",
    "    # Plot : Auditory envelope (smoothing signal) for visualization\n",
    "    audio_rectified = audio.apply(np.abs)\n",
    "    audio_envelope = audio_rectified.rolling(50).mean() \n",
    "    fig, ax = plt.subplots()\n",
    "    ax.plot(time, audio) # time on X axis and amplitude on Y-axis\n",
    "    ax.set(xlabel='Time (s)', ylabel='Sound Amplitude')\n",
    "    plt.show()\n",
    "    #### FEATURES ####\n",
    "    mfccs = np.mean(lr.feature.mfcc(y=audio, sr=sfreq, n_mfcc=13), axis=1)\n",
    "    chroma = np.mean(lr.feature.chroma_stft(y=audio, sr=sfreq), axis=1)\n",
    "    spectral_contrast = np.mean(lr.feature.spectral_contrast(y=audio, sr=sfreq), axis=1)\n",
    "    tonnetz = np.mean(lr.feature.tonnetz(y=audio, sr=sfreq), axis=1)\n",
    "    tempogram = np.mean(lr.feature.tempogram(y=audio, sr=sfreq), axis=1)\n",
    "    # Compute spectrogram (STFT) : THIS IS A TIME SERIES OF OSCILLATION\n",
    "    spectrogram = lr.stft(y=audio)\n",
    "    spec_db = np.mean(lr.amplitude_to_db(np.abs(spectrogram)), axis=1) # Convert to decibel for easier representation\n",
    "    spectral_centroid = np.mean(lr.feature.spectral_centroid(y=audio, sr=sfreq))\n",
    "    spectral_bandwidth = np.mean(lr.feature.spectral_bandwidth(y=audio, sr=sfreq))\n",
    "    features = np.concatenate([mfccs, chroma, spectral_contrast, tonnetz, tempogram, spec_db,\n",
    "                               [spectral_centroid, spectral_bandwidth]])\n",
    "    return features\n",
    "\n",
    "# Directory containing audio files\n",
    "audio_files = glob('dataset/*.wav')\n",
    "\n",
    "# Create feature matrix X\n",
    "X = []\n",
    "for file_path in audio_files:\n",
    "    features = extract_features(file_path)\n",
    "    X.append(features)\n",
    "\n",
    "X = np.array(X)\n",
    "\n",
    "```"
   ]
  },
  {
   "cell_type": "markdown",
   "metadata": {},
   "source": [
    "# Chapter 3"
   ]
  },
  {
   "cell_type": "markdown",
   "metadata": {},
   "source": [
    "- Find missing data through visualization : \n",
    "    1. Missing data should be interpolated for time series\n",
    "    2. Rolling window can be used along with stat functions as well"
   ]
  },
  {
   "cell_type": "markdown",
   "metadata": {},
   "source": [
    "```\n",
    "from functools import partial\n",
    "\n",
    "def multiply(a, b):\n",
    "    return a * b\n",
    "\n",
    "double = partial(multiply, b=2)\n",
    "\n",
    "result = double(10)\n",
    "print(result)\n",
    "```"
   ]
  },
  {
   "cell_type": "markdown",
   "metadata": {},
   "source": []
  }
 ],
 "metadata": {
  "language_info": {
   "name": "python"
  }
 },
 "nbformat": 4,
 "nbformat_minor": 2
}
