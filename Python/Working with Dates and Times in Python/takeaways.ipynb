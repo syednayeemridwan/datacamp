{
 "cells": [
  {
   "cell_type": "markdown",
   "metadata": {},
   "source": [
    "# Chapter 1 & Chapter 2"
   ]
  },
  {
   "cell_type": "markdown",
   "metadata": {},
   "source": [
    "### Date Operations"
   ]
  },
  {
   "cell_type": "markdown",
   "metadata": {},
   "source": [
    "``` \n",
    "from datetime import date\n",
    "from datetime import datetime\n",
    "# Create date\n",
    "d =  date(2017, 6, 21) # ISO format: YYYY-MM-DD\n",
    "# Create a datetime\n",
    "dt = datetime(year= 2017 , month= 10 , day= 1 , hour= 15 , minute= 23 , second= 25 , microsecond= 500000 )\n",
    "# Change value of existing datetime\n",
    "dt_changed = dt.replace(minute=0, second=0, microsecond=0)\n",
    "# Sort date\n",
    "dates_ordered = sorted(date_list)\n",
    "# Parse datetime\n",
    "dt = datetime.strptime(\"12/30/2017 15:19:13\", \"%m/%d/%Y %H:%M:%S\")\n",
    "d.isoformat() # Express the date in ISO 8601 format\n",
    "print(d.strftime(\"%Y/%m/%d\")) # Print date in Format: YYYY/MM/DD\n",
    "print(dt.strftime(\"%Y-%m-%d %H:%M:%S\")) # Print datetime in specific format\n",
    "# Extract information\n",
    "d.year # Extract year\n",
    "d.month # Extract month\n",
    "d.day # Extract day\n",
    "d.weekday() # Extract weekday\n",
    "##### Date addition / subtraction\n",
    "from datetime import timedelta\n",
    "delta = d2 - d # Subtract two dates\n",
    "delta.days # Elapsed time in days\n",
    "delta.total_seconds() # Elapsed time in seconds\n",
    "td = timedelta(days=29) # Create a 29 day timedelta\n",
    "print(d + td) # Add delta with existing date\n",
    "# timestamp value\n",
    "ts = 1514665153.0\n",
    "# Convert to datetime from timestamp and print\n",
    "print(datetime.fromtimestamp(ts))\n",
    "```  "
   ]
  },
  {
   "cell_type": "markdown",
   "metadata": {},
   "source": [
    "# Chapter 3"
   ]
  },
  {
   "cell_type": "markdown",
   "metadata": {},
   "source": [
    "### Timezone"
   ]
  },
  {
   "cell_type": "markdown",
   "metadata": {},
   "source": [
    "```\n",
    "from datetime import datetime, timedelta, timezone\n",
    "from dateutil import tz\n",
    "# Add or Replace timezone information\n",
    "print(dt.replace(tzinfo=timezone.utc))\n",
    "# create timezone of +5:30 UTC\n",
    "IST = timezone(timedelta(hours=5, minutes=30))\n",
    "# Timezone-aware datetime\n",
    "dt = datetime(2017, 12, 30, 15, 9, 3, tzinfo = IST)\n",
    "# Most useful function \"tz.gettz()\" when dealing with daylight saving situations\n",
    "et = tz.gettz('America/New_York') # Another timezone\n",
    "# Convert corresponding time to another timezone \n",
    "print(dt.astimezone(et))\n",
    "###### Ambiguous time #########\n",
    "eastern = tz.gettz('US/Eastern')\n",
    "first_1am = datetime(2017, 11, 5, 1, 0, 0, tzinfo = eastern)\n",
    "# Check if there are multiple timespans (End of daylight saving time)\n",
    "tz.datetime_ambiguous(first_1am)\n",
    "second_1am = datetime(2017, 11, 5, 1, 0, 0, tzinfo = eastern)\n",
    "# The folded timespan that recurs\n",
    "second_1am = tz.enfold(second_1am)\n",
    "# Duration in local time zone\n",
    "(first_1am - second_1am).total_seconds()\n",
    "# Duration in universal time \n",
    "first_1am = first_1am.astimezone(tz.UTC)\n",
    "second_1am = second_1am.astimezone(tz.UTC)\n",
    "(second_1am - first_1am).total_seconds()\n",
    "```"
   ]
  },
  {
   "cell_type": "markdown",
   "metadata": {},
   "source": [
    "### Start of Daylight Saving"
   ]
  },
  {
   "cell_type": "markdown",
   "metadata": {},
   "source": [
    "- There is a gap in local timezone\n",
    "- However, converting in UTC will give the correct universal time"
   ]
  },
  {
   "cell_type": "markdown",
   "metadata": {},
   "source": [
    "<center><img src=\"images/03.01.png\"  style=\"width: 400px, height: 300px;\"/></center>\n"
   ]
  },
  {
   "cell_type": "markdown",
   "metadata": {},
   "source": [
    "### End of Daylight Saving\n"
   ]
  },
  {
   "cell_type": "markdown",
   "metadata": {},
   "source": [
    "- There is a fold of multiple time span in the same local zone (ambiguous)\n",
    "- We need to explicitly mention that if the time is ambiguous, the second time is the enfolded time\n"
   ]
  },
  {
   "cell_type": "markdown",
   "metadata": {},
   "source": [
    "<center><img src=\"images/03.02.png\"  style=\"width: 400px, height: 300px;\"/></center>\n"
   ]
  },
  {
   "cell_type": "markdown",
   "metadata": {},
   "source": [
    "# Chapter 4"
   ]
  },
  {
   "cell_type": "markdown",
   "metadata": {},
   "source": [
    "### Date and time in pandas"
   ]
  },
  {
   "cell_type": "markdown",
   "metadata": {},
   "source": [
    "```\n",
    "# Way 1 : During import\n",
    "df = pd.read_csv('filename.csv', parse_dates = ['date_col1', 'date_col2'])\n",
    "# Way 2 : Parsing using pandas date format\n",
    "df[\"date_col\"] = pd.to_datetime(df[\"date_col\"], \n",
    "                                format = \"%Y-%m-%d %H:%M:%S\",\n",
    "                                errors='coerce')\n",
    "# Way 3  : parsing using python date format\n",
    "df[\"date_col\"] = df[\"date_col\"].dt.strftime(\"%d-%m-%Y\")\n",
    "# Extract month information\n",
    "df[\"date_col\"].dt.month\n",
    "# Extract year information\n",
    "df[\"date_col\"].dt.year\n",
    "\n",
    "# Resampling date\n",
    "df.resample('M', on = 'date_col')['col1'].mean()\n",
    "# Resampling count\n",
    "df.resample('M', on = 'date_col').size()\n",
    "# Add timezone in a datetime column\n",
    "df['date_col'] = df['date_col'].dt.tz_localize('America/New_York', ambiguous='NaT')\n",
    "# Convert to another timezone\n",
    "df['date_col'] = df['date_col'].dt.tz_convert('Europe/London')\n",
    "```"
   ]
  }
 ],
 "metadata": {
  "language_info": {
   "name": "python"
  }
 },
 "nbformat": 4,
 "nbformat_minor": 2
}
