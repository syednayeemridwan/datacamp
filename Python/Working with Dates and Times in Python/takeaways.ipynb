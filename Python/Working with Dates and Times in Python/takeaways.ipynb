{
 "cells": [
  {
   "cell_type": "markdown",
   "metadata": {},
   "source": [
    "# Chapter 1"
   ]
  },
  {
   "cell_type": "markdown",
   "metadata": {},
   "source": [
    "### Date Operations"
   ]
  },
  {
   "cell_type": "markdown",
   "metadata": {},
   "source": [
    "``` \n",
    "from datetime import date\n",
    "# Create dates\n",
    "d =  date(2017, 6, 21) # ISO format: YYYY-MM-DD\n",
    "# Extract year\n",
    "d.year\n",
    "# Extract month\n",
    "d.month\n",
    "# Extract day\n",
    "d.day\n",
    "# Extract weekday\n",
    "d.weekday()\n",
    "# Subtract two dates\n",
    "delta = d2 - d\n",
    "# Elapsed time in days\n",
    "print(delta.days)\n",
    "from datetime import timedelta\n",
    "# Create a 29 day timedelta\n",
    "td = timedelta(days=29)\n",
    "# Add delta with existing date\n",
    "print(d + td)\n",
    "# Sort date\n",
    "dates_ordered = sorted(date_list)\n",
    "# Express the date in ISO 8601 format\n",
    "d.isoformat()\n",
    "# Format: YYYY/MM/DD\n",
    "print(d.strftime(\"%Y/%m/%d\"))\n",
    "```"
   ]
  }
 ],
 "metadata": {
  "language_info": {
   "name": "python"
  }
 },
 "nbformat": 4,
 "nbformat_minor": 2
}
