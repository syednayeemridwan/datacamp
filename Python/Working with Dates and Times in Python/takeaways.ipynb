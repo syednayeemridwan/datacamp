{
 "cells": [
  {
   "cell_type": "markdown",
   "metadata": {},
   "source": [
    "# Chapter 1"
   ]
  },
  {
   "cell_type": "markdown",
   "metadata": {},
   "source": [
    "### Date Operations"
   ]
  },
  {
   "cell_type": "markdown",
   "metadata": {},
   "source": [
    "``` \n",
    "from datetime import date\n",
    "from datetime import datetime\n",
    "# Create date\n",
    "d =  date(2017, 6, 21) # ISO format: YYYY-MM-DD\n",
    "# Create a datetime\n",
    "dt = datetime(year= 2017 , month= 10 , day= 1 , hour= 15 , minute= 23 , second= 25 , microsecond= 500000 )\n",
    "# Change value of existing datetime\n",
    "dt_changed = dt.replace(minute=0, second=0, microsecond=0)\n",
    "# Sort date\n",
    "dates_ordered = sorted(date_list)\n",
    "# Parse datetime\n",
    "dt = datetime.strptime(\"12/30/2017 15:19:13\", \"%m/%d/%Y %H:%M:%S\")\n",
    "d.isoformat() # Express the date in ISO 8601 format\n",
    "print(d.strftime(\"%Y/%m/%d\")) # Print date in Format: YYYY/MM/DD\n",
    "print(dt.strftime(\"%Y-%m-%d %H:%M:%S\")) # Print datetime in specific format\n",
    "# Extract information\n",
    "d.year # Extract year\n",
    "d.month # Extract month\n",
    "d.day # Extract day\n",
    "d.weekday() # Extract weekday\n",
    "##### Date addition / subtraction\n",
    "from datetime import timedelta\n",
    "delta = d2 - d # Subtract two dates\n",
    "delta.days # Elapsed time in days\n",
    "delta.total_seconds() # Elapsed time in seconds\n",
    "td = timedelta(days=29) # Create a 29 day timedelta\n",
    "print(d + td) # Add delta with existing date\n",
    "# timestamp value\n",
    "ts = 1514665153.0\n",
    "# Convert to datetime from timestamp and print\n",
    "print(datetime.fromtimestamp(ts))\n",
    "\n",
    "\n",
    "\n",
    "\n",
    "```  "
   ]
  },
  {
   "cell_type": "markdown",
   "metadata": {},
   "source": []
  }
 ],
 "metadata": {
  "language_info": {
   "name": "python"
  }
 },
 "nbformat": 4,
 "nbformat_minor": 2
}
