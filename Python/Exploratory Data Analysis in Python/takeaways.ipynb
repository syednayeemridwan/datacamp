{
 "cells": [
  {
   "cell_type": "markdown",
   "metadata": {},
   "source": [
    "# Chapter 1"
   ]
  },
  {
   "cell_type": "markdown",
   "metadata": {},
   "source": [
    "### EDA"
   ]
  },
  {
   "cell_type": "markdown",
   "metadata": {},
   "source": [
    "- The process of :\n",
    "    - reviewing and cleaning data\n",
    "    - deriving insights (descriptive statistics, correlation)\n",
    "    - generate hypothesis for experiments\n",
    "    - explore the grouped distribution\n",
    "    - Visualize numeric distribution (histogram) and categorical distribution (barplot)\n",
    "    - See and Visualize numeric mean, max with boxplot to gain insight about outliers"
   ]
  },
  {
   "cell_type": "markdown",
   "metadata": {},
   "source": [
    "### Pandas groupby"
   ]
  },
  {
   "cell_type": "markdown",
   "metadata": {},
   "source": [
    "```\n",
    "# Group \"another_col\" column by \"col1\" and \"col2\" and\n",
    "# produce min, max and sum of the grouped data\n",
    "df.groupby([\"col1\",\"col2\"])[\"another_col\"].agg([min,max,sum])\n",
    "# Way 2\n",
    "df.groupby(\"cat_col\").agg({\"col1\": [\"mean\", \"std\"], \"col2\": [\"median\"]})\n",
    "# Way 3\n",
    "books.groupby(\"some_col\").agg(\n",
    "    mean_col1=(\"col1\", \"mean\"),\n",
    "    std_col2=(\"col2\", \"std\"),\n",
    "    median_col3=(\"col3\", \"median\")\n",
    ")\n",
    "# Multi-index groupby\n",
    "df.groupby(level=0).agg({'col':'mean'}) # Outermost = level 0\n",
    "# Size per group\n",
    "df.groupby('col').size()\n",
    "```"
   ]
  },
  {
   "cell_type": "markdown",
   "metadata": {},
   "source": [
    "### Normal EDA procedures"
   ]
  },
  {
   "cell_type": "markdown",
   "metadata": {},
   "source": [
    "```\n",
    "# See sample data\n",
    "df.head()\n",
    "# See dataframe info\n",
    "df.info()\n",
    "# See info about columns\n",
    "df.dtypes\n",
    "# See specified data type columns\n",
    "df.select_dtypes(\"number\").head()\n",
    "# Convert to desired data type\n",
    "df[\"col\"] = df[\"col\"].astype(int)\n",
    "# See categories\n",
    "df.value_counts(\"cat_col\")\n",
    "# Validating categorical columns\n",
    "df[\"cat_col\"].isin([\"Cat 1\", \"Cat 2\"])\n",
    "# See numerical statistics\n",
    "df.describe()\n",
    "# Visualize distribution of numeric data\n",
    "sns.histplot(data=df, x=\"col\", binwidth=.1)\n",
    "sns.boxplot(data=df, x=\"num_col\", y=\"cat_col\") # Also looks for outlier\n",
    "# Visualize distribution of categorical data\n",
    "sns.barplot(data=df, x=\"cat_col\", y=\"num_col\")\n",
    "# Explore group distribution\n",
    "df.groupby(\"cat_col\").agg({\"col1\": [\"mean\", \"std\"], \"col2\": [\"median\"]})\n",
    "\n",
    "```"
   ]
  }
 ],
 "metadata": {
  "language_info": {
   "name": "python"
  }
 },
 "nbformat": 4,
 "nbformat_minor": 2
}
