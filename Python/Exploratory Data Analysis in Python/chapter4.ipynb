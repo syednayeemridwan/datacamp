{
 "cells": [
  {
   "cell_type": "markdown",
   "metadata": {},
   "source": [
    "# Checking for class imbalance"
   ]
  },
  {
   "cell_type": "markdown",
   "metadata": {},
   "source": [
    "The 2022 Kaggle Survey captures information about data scientists' backgrounds, preferred technologies, and techniques. It is seen as an accurate view of what is happening in data science based on the volume and profile of responders."
   ]
  },
  {
   "cell_type": "code",
   "execution_count": 2,
   "metadata": {},
   "outputs": [
    {
     "data": {
      "text/html": [
       "<div>\n",
       "<style scoped>\n",
       "    .dataframe tbody tr th:only-of-type {\n",
       "        vertical-align: middle;\n",
       "    }\n",
       "\n",
       "    .dataframe tbody tr th {\n",
       "        vertical-align: top;\n",
       "    }\n",
       "\n",
       "    .dataframe thead th {\n",
       "        text-align: right;\n",
       "    }\n",
       "</style>\n",
       "<table border=\"1\" class=\"dataframe\">\n",
       "  <thead>\n",
       "    <tr style=\"text-align: right;\">\n",
       "      <th></th>\n",
       "      <th>Working_Year</th>\n",
       "      <th>Designation</th>\n",
       "      <th>Experience</th>\n",
       "      <th>Employment_Status</th>\n",
       "      <th>Employee_Location</th>\n",
       "      <th>Company_Size</th>\n",
       "      <th>Remote_Working_Ratio</th>\n",
       "      <th>Salary_USD</th>\n",
       "    </tr>\n",
       "  </thead>\n",
       "  <tbody>\n",
       "    <tr>\n",
       "      <th>0</th>\n",
       "      <td>2020</td>\n",
       "      <td>Data Scientist</td>\n",
       "      <td>Mid</td>\n",
       "      <td>FT</td>\n",
       "      <td>DE</td>\n",
       "      <td>L</td>\n",
       "      <td>0</td>\n",
       "      <td>76227.0</td>\n",
       "    </tr>\n",
       "    <tr>\n",
       "      <th>1</th>\n",
       "      <td>2020</td>\n",
       "      <td>Machine Learning Scientist</td>\n",
       "      <td>Senior</td>\n",
       "      <td>FT</td>\n",
       "      <td>JP</td>\n",
       "      <td>S</td>\n",
       "      <td>0</td>\n",
       "      <td>248257.0</td>\n",
       "    </tr>\n",
       "    <tr>\n",
       "      <th>2</th>\n",
       "      <td>2020</td>\n",
       "      <td>Big Data Engineer</td>\n",
       "      <td>Senior</td>\n",
       "      <td>FT</td>\n",
       "      <td>GB</td>\n",
       "      <td>M</td>\n",
       "      <td>50</td>\n",
       "      <td>104100.0</td>\n",
       "    </tr>\n",
       "    <tr>\n",
       "      <th>3</th>\n",
       "      <td>2020</td>\n",
       "      <td>Product Data Analyst</td>\n",
       "      <td>Mid</td>\n",
       "      <td>FT</td>\n",
       "      <td>HN</td>\n",
       "      <td>S</td>\n",
       "      <td>0</td>\n",
       "      <td>19097.0</td>\n",
       "    </tr>\n",
       "    <tr>\n",
       "      <th>4</th>\n",
       "      <td>2020</td>\n",
       "      <td>Machine Learning Engineer</td>\n",
       "      <td>Senior</td>\n",
       "      <td>FT</td>\n",
       "      <td>US</td>\n",
       "      <td>L</td>\n",
       "      <td>50</td>\n",
       "      <td>143225.0</td>\n",
       "    </tr>\n",
       "  </tbody>\n",
       "</table>\n",
       "</div>"
      ],
      "text/plain": [
       "   Working_Year                 Designation Experience Employment_Status  \\\n",
       "0          2020              Data Scientist        Mid                FT   \n",
       "1          2020  Machine Learning Scientist     Senior                FT   \n",
       "2          2020           Big Data Engineer     Senior                FT   \n",
       "3          2020        Product Data Analyst        Mid                FT   \n",
       "4          2020   Machine Learning Engineer     Senior                FT   \n",
       "\n",
       "  Employee_Location Company_Size  Remote_Working_Ratio  Salary_USD  \n",
       "0                DE            L                     0     76227.0  \n",
       "1                JP            S                     0    248257.0  \n",
       "2                GB            M                    50    104100.0  \n",
       "3                HN            S                     0     19097.0  \n",
       "4                US            L                    50    143225.0  "
      ]
     },
     "execution_count": 2,
     "metadata": {},
     "output_type": "execute_result"
    }
   ],
   "source": [
    "import pandas as pd\n",
    "salaries = pd.read_csv(\"dataset/ds_salaries_clean.csv\")\n",
    "salaries.head()"
   ]
  },
  {
   "cell_type": "code",
   "execution_count": 4,
   "metadata": {},
   "outputs": [
    {
     "name": "stdout",
     "output_type": "stream",
     "text": [
      "Data Scientist                              0.235585\n",
      "Data Engineer                               0.217463\n",
      "Data Analyst                                0.159802\n",
      "Machine Learning Engineer                   0.067545\n",
      "Research Scientist                          0.026359\n",
      "Data Science Manager                        0.019769\n",
      "Data Architect                              0.018122\n",
      "Big Data Engineer                           0.013180\n",
      "Machine Learning Scientist                  0.013180\n",
      "Principal Data Scientist                    0.011532\n",
      "AI Scientist                                0.011532\n",
      "Data Science Consultant                     0.011532\n",
      "Director of Data Science                    0.011532\n",
      "Data Analytics Manager                      0.011532\n",
      "ML Engineer                                 0.009885\n",
      "Computer Vision Engineer                    0.009885\n",
      "BI Data Analyst                             0.009885\n",
      "Lead Data Engineer                          0.009885\n",
      "Data Engineering Manager                    0.008237\n",
      "Business Data Analyst                       0.008237\n",
      "Head of Data                                0.008237\n",
      "Applied Data Scientist                      0.008237\n",
      "Applied Machine Learning Scientist          0.006590\n",
      "Head of Data Science                        0.006590\n",
      "Analytics Engineer                          0.006590\n",
      "Data Analytics Engineer                     0.006590\n",
      "Machine Learning Developer                  0.004942\n",
      "Machine Learning Infrastructure Engineer    0.004942\n",
      "Lead Data Scientist                         0.004942\n",
      "Computer Vision Software Engineer           0.004942\n",
      "Lead Data Analyst                           0.004942\n",
      "Data Science Engineer                       0.004942\n",
      "Principal Data Engineer                     0.004942\n",
      "Principal Data Analyst                      0.003295\n",
      "ETL Developer                               0.003295\n",
      "Product Data Analyst                        0.003295\n",
      "Director of Data Engineering                0.003295\n",
      "Financial Data Analyst                      0.003295\n",
      "Cloud Data Engineer                         0.003295\n",
      "Lead Machine Learning Engineer              0.001647\n",
      "NLP Engineer                                0.001647\n",
      "Head of Machine Learning                    0.001647\n",
      "3D Computer Vision Researcher               0.001647\n",
      "Data Specialist                             0.001647\n",
      "Staff Data Scientist                        0.001647\n",
      "Big Data Architect                          0.001647\n",
      "Finance Data Analyst                        0.001647\n",
      "Marketing Data Analyst                      0.001647\n",
      "Machine Learning Manager                    0.001647\n",
      "Data Analytics Lead                         0.001647\n",
      "Name: Designation, dtype: float64\n"
     ]
    }
   ],
   "source": [
    "# Print the relative frequency of Job_Category\n",
    "print(salaries[\"Designation\"].value_counts(normalize = True))"
   ]
  },
  {
   "cell_type": "markdown",
   "metadata": {},
   "source": [
    "# Cross-tabulation"
   ]
  },
  {
   "cell_type": "markdown",
   "metadata": {},
   "source": [
    "Cross-tabulation can help identify how observations occur in combination."
   ]
  },
  {
   "cell_type": "code",
   "execution_count": 5,
   "metadata": {},
   "outputs": [
    {
     "name": "stdout",
     "output_type": "stream",
     "text": [
      "Experience    Entry  Executive  Mid  Senior\n",
      "Company_Size                               \n",
      "L                29         11   86      72\n",
      "M                30         12   98     186\n",
      "S                29          3   29      22\n"
     ]
    }
   ],
   "source": [
    "# Cross-tabulate Company_Size and Experience\n",
    "print(pd.crosstab(salaries[\"Company_Size\"], salaries[\"Experience\"]))"
   ]
  },
  {
   "cell_type": "code",
   "execution_count": 7,
   "metadata": {},
   "outputs": [
    {
     "name": "stdout",
     "output_type": "stream",
     "text": [
      "Company_Size                               L   M   S\n",
      "Designation                                         \n",
      "3D Computer Vision Researcher              0   1   0\n",
      "AI Scientist                               2   2   3\n",
      "Analytics Engineer                         0   4   0\n",
      "Applied Data Scientist                     5   0   0\n",
      "Applied Machine Learning Scientist         2   2   0\n",
      "BI Data Analyst                            2   2   2\n",
      "Big Data Architect                         0   1   0\n",
      "Big Data Engineer                          4   2   2\n",
      "Business Data Analyst                      4   1   0\n",
      "Cloud Data Engineer                        1   0   1\n",
      "Computer Vision Engineer                   0   4   2\n",
      "Computer Vision Software Engineer          0   1   2\n",
      "Data Analyst                              13  76   8\n",
      "Data Analytics Engineer                    2   2   0\n",
      "Data Analytics Lead                        1   0   0\n",
      "Data Analytics Manager                     2   5   0\n",
      "Data Architect                             3   8   0\n",
      "Data Engineer                             37  89   6\n",
      "Data Engineering Manager                   4   0   1\n",
      "Data Science Consultant                    3   1   3\n",
      "Data Science Engineer                      2   1   0\n",
      "Data Science Manager                       6   6   0\n",
      "Data Scientist                            45  77  21\n",
      "Data Specialist                            1   0   0\n",
      "Director of Data Engineering               1   1   0\n",
      "Director of Data Science                   5   1   1\n",
      "ETL Developer                              0   2   0\n",
      "Finance Data Analyst                       1   0   0\n",
      "Financial Data Analyst                     2   0   0\n",
      "Head of Data                               3   1   1\n",
      "Head of Data Science                       0   3   1\n",
      "Head of Machine Learning                   1   0   0\n",
      "Lead Data Analyst                          3   0   0\n",
      "Lead Data Engineer                         1   1   4\n",
      "Lead Data Scientist                        2   0   1\n",
      "Lead Machine Learning Engineer             0   1   0\n",
      "ML Engineer                                2   0   4\n",
      "Machine Learning Developer                 0   2   1\n",
      "Machine Learning Engineer                 13  16  12\n",
      "Machine Learning Infrastructure Engineer   1   2   0\n",
      "Machine Learning Manager                   1   0   0\n",
      "Machine Learning Scientist                 4   2   2\n",
      "Marketing Data Analyst                     1   0   0\n",
      "NLP Engineer                               1   0   0\n",
      "Principal Data Analyst                     0   1   1\n",
      "Principal Data Engineer                    2   1   0\n",
      "Principal Data Scientist                   3   3   1\n",
      "Product Data Analyst                       1   0   1\n",
      "Research Scientist                        11   3   2\n",
      "Staff Data Scientist                       0   1   0\n"
     ]
    }
   ],
   "source": [
    "# Cross-tabulate Job_Category and Company_Size\n",
    "print(pd.crosstab(salaries[\"Designation\"], salaries[\"Company_Size\"]))"
   ]
  },
  {
   "cell_type": "code",
   "execution_count": 8,
   "metadata": {},
   "outputs": [
    {
     "name": "stdout",
     "output_type": "stream",
     "text": [
      "Company_Size                                          L              M  \\\n",
      "Designation                                                              \n",
      "3D Computer Vision Researcher                       NaN    5165.000000   \n",
      "AI Scientist                              121741.500000   63019.000000   \n",
      "Analytics Engineer                                  NaN  167096.000000   \n",
      "Applied Data Scientist                    167721.400000            NaN   \n",
      "Applied Machine Learning Scientist        237754.000000   33550.500000   \n",
      "BI Data Analyst                            88923.000000   94528.500000   \n",
      "Big Data Architect                                  NaN   95200.000000   \n",
      "Big Data Engineer                          27384.750000   80695.000000   \n",
      "Business Data Analyst                      87132.000000   17609.000000   \n",
      "Cloud Data Engineer                        85261.000000            NaN   \n",
      "Computer Vision Engineer                            NaN   42467.750000   \n",
      "Computer Vision Software Engineer                   NaN   66838.000000   \n",
      "Data Analyst                               78084.230769   95049.368421   \n",
      "Data Analytics Engineer                    90326.000000   33419.500000   \n",
      "Data Analytics Lead                       386708.000000            NaN   \n",
      "Data Analytics Manager                    124128.500000  120297.600000   \n",
      "Data Architect                            159139.000000  173852.875000   \n",
      "Data Engineer                              99547.162162  113981.134831   \n",
      "Data Engineering Manager                  132920.750000            NaN   \n",
      "Data Science Consultant                    77553.000000    5449.000000   \n",
      "Data Science Engineer                      89382.500000   38374.000000   \n",
      "Data Science Manager                      136662.000000  165692.833333   \n",
      "Data Scientist                             98647.177778  120672.623377   \n",
      "Data Specialist                           157548.000000            NaN   \n",
      "Director of Data Engineering              190967.000000  108351.000000   \n",
      "Director of Data Science                  203855.200000  124153.000000   \n",
      "ETL Developer                                       NaN   52475.000000   \n",
      "Finance Data Analyst                       59100.000000            NaN   \n",
      "Financial Data Analyst                    262579.000000            NaN   \n",
      "Head of Data                              180730.666667  190967.000000   \n",
      "Head of Data Science                                NaN  151779.000000   \n",
      "Head of Machine Learning                   75469.000000            NaN   \n",
      "Lead Data Analyst                          88038.666667            NaN   \n",
      "Lead Data Engineer                        263534.000000   53471.000000   \n",
      "Lead Data Scientist                        74272.000000            NaN   \n",
      "Lead Machine Learning Engineer                      NaN   83960.000000   \n",
      "ML Engineer                               139397.500000            NaN   \n",
      "Machine Learning Developer                          NaN   75232.000000   \n",
      "Machine Learning Engineer                  94016.615385  121007.875000   \n",
      "Machine Learning Infrastructure Engineer   55624.000000  117053.500000   \n",
      "Machine Learning Manager                  111815.000000            NaN   \n",
      "Machine Learning Scientist                172419.250000   78774.000000   \n",
      "Marketing Data Analyst                     84650.000000            NaN   \n",
      "NLP Engineer                               35554.000000            NaN   \n",
      "Principal Data Analyst                              NaN  162322.000000   \n",
      "Principal Data Engineer                   374772.000000  190967.000000   \n",
      "Principal Data Scientist                  192876.333333  154268.666667   \n",
      "Product Data Analyst                        5798.000000            NaN   \n",
      "Research Scientist                         92108.000000  183474.000000   \n",
      "Staff Data Scientist                                NaN  100258.000000   \n",
      "\n",
      "Company_Size                                          S  \n",
      "Designation                                              \n",
      "3D Computer Vision Researcher                       NaN  \n",
      "AI Scientist                               24173.000000  \n",
      "Analytics Engineer                                  NaN  \n",
      "Applied Data Scientist                              NaN  \n",
      "Applied Machine Learning Scientist                  NaN  \n",
      "BI Data Analyst                            30684.500000  \n",
      "Big Data Architect                                  NaN  \n",
      "Big Data Engineer                          63041.500000  \n",
      "Business Data Analyst                               NaN  \n",
      "Cloud Data Engineer                       152773.000000  \n",
      "Computer Vision Engineer                   42303.500000  \n",
      "Computer Vision Software Engineer         117323.500000  \n",
      "Data Analyst                               45601.875000  \n",
      "Data Analytics Engineer                             NaN  \n",
      "Data Analytics Lead                                 NaN  \n",
      "Data Analytics Manager                              NaN  \n",
      "Data Architect                                      NaN  \n",
      "Data Engineer                              63346.000000  \n",
      "Data Engineering Manager                   56625.000000  \n",
      "Data Science Consultant                    75296.333333  \n",
      "Data Science Engineer                               NaN  \n",
      "Data Science Manager                                NaN  \n",
      "Data Scientist                             49580.428571  \n",
      "Data Specialist                                     NaN  \n",
      "Director of Data Engineering                        NaN  \n",
      "Director of Data Science                  160412.000000  \n",
      "ETL Developer                                       NaN  \n",
      "Finance Data Analyst                                NaN  \n",
      "Financial Data Analyst                              NaN  \n",
      "Head of Data                               31485.000000  \n",
      "Head of Data Science                      105032.000000  \n",
      "Head of Machine Learning                            NaN  \n",
      "Lead Data Analyst                                   NaN  \n",
      "Lead Data Engineer                        120869.250000  \n",
      "Lead Data Scientist                       181418.000000  \n",
      "Lead Machine Learning Engineer                      NaN  \n",
      "ML Engineer                                98596.500000  \n",
      "Machine Learning Developer                 95483.000000  \n",
      "Machine Learning Engineer                  78960.333333  \n",
      "Machine Learning Infrastructure Engineer            NaN  \n",
      "Machine Learning Manager                            NaN  \n",
      "Machine Learning Scientist                181418.500000  \n",
      "Marketing Data Analyst                              NaN  \n",
      "NLP Engineer                                        NaN  \n",
      "Principal Data Analyst                     71613.000000  \n",
      "Principal Data Engineer                             NaN  \n",
      "Principal Data Scientist                  397211.000000  \n",
      "Product Data Analyst                       19097.000000  \n",
      "Research Scientist                         50958.500000  \n",
      "Staff Data Scientist                                NaN  \n"
     ]
    }
   ],
   "source": [
    "# Cross-tabulate Job_Category and Company_Size\n",
    "print(pd.crosstab(salaries[\"Designation\"], salaries[\"Company_Size\"],\n",
    "            values=salaries[\"Salary_USD\"], aggfunc=\"mean\"))"
   ]
  },
  {
   "cell_type": "markdown",
   "metadata": {},
   "source": [
    "# Extracting features for correlation"
   ]
  },
  {
   "cell_type": "markdown",
   "metadata": {},
   "source": [
    "In this exercise, you'll work with a version of the salaries dataset containing a new column called \"`date_of_response`\".Your task is to extract datetime attributes from this column and then create a heat map to visualize the correlation coefficients between variables."
   ]
  },
  {
   "cell_type": "code",
   "execution_count": 11,
   "metadata": {},
   "outputs": [
    {
     "data": {
      "text/plain": [
       "Index(['Working_Year', 'Designation', 'Experience', 'Employment_Status',\n",
       "       'Employee_Location', 'Company_Size', 'Remote_Working_Ratio',\n",
       "       'Salary_USD'],\n",
       "      dtype='object')"
      ]
     },
     "execution_count": 11,
     "metadata": {},
     "output_type": "execute_result"
    }
   ],
   "source": [
    "salaries.columns"
   ]
  },
  {
   "cell_type": "code",
   "execution_count": 13,
   "metadata": {},
   "outputs": [],
   "source": [
    "# import seaborn as sns\n",
    "# import matplotlib.pyplot as plt\n",
    "# # Get the month of the response\n",
    "# salaries[\"month\"] = salaries[\"date_of_response\"].dt.month\n",
    "\n",
    "# # Extract the weekday of the response\n",
    "# salaries[\"weekday\"] = salaries[\"date_of_response\"].dt.weekday\n",
    "\n",
    "# # Create a heatmap\n",
    "# sns.heatmap(salaries.corr(), annot=True)\n",
    "# plt.show()"
   ]
  },
  {
   "cell_type": "markdown",
   "metadata": {},
   "source": [
    "# Calculating salary percentiles"
   ]
  },
  {
   "cell_type": "markdown",
   "metadata": {},
   "source": [
    ", you saw that the conversion of numeric data into categories sometimes makes it easier to identify patterns.\n",
    "\n",
    "Your task is to convert the \"`Salary_USD`\" column into categories based on its percentiles. First, you need to find the percentiles and store them as variables."
   ]
  },
  {
   "cell_type": "code",
   "execution_count": 16,
   "metadata": {},
   "outputs": [
    {
     "name": "stdout",
     "output_type": "stream",
     "text": [
      "59893.0 96982.0 143225.0\n"
     ]
    }
   ],
   "source": [
    "import numpy as np\n",
    "# Find the 25th percentile\n",
    "twenty_fifth = salaries[\"Salary_USD\"].quantile(.25)\n",
    "\n",
    "# Save the median\n",
    "salaries_median = salaries[\"Salary_USD\"].median()\n",
    "\n",
    "# Gather the 75th percentile\n",
    "seventy_fifth = salaries[\"Salary_USD\"].quantile(.75)\n",
    "print(twenty_fifth, salaries_median, seventy_fifth)"
   ]
  },
  {
   "cell_type": "markdown",
   "metadata": {},
   "source": [
    "# Categorizing salaries"
   ]
  },
  {
   "cell_type": "markdown",
   "metadata": {},
   "source": [
    "Now it's time to make a new category! You'll use the variables `twenty_fifth`, `salaries_median`, and `seventy_fifth`, that you created in the previous exercise, to split salaries into different labels.\n",
    "\n",
    "The result will be a new column called \"`salary_level`\", which you'll incorporate into a visualization to analyze survey respondents' salary and at companies of different sizes."
   ]
  },
  {
   "cell_type": "code",
   "execution_count": 18,
   "metadata": {},
   "outputs": [],
   "source": [
    "# Create salary labels\n",
    "salary_labels = [\"entry\", \"mid\", \"senior\", \"exec\"]\n",
    "\n",
    "# Create the salary ranges list\n",
    "salary_ranges = [0, twenty_fifth, salaries_median, seventy_fifth, salaries[\"Salary_USD\"].max()]\n",
    "\n",
    "# Create salary_level\n",
    "salaries[\"salary_level\"] = pd.cut(salaries[\"Salary_USD\"],\n",
    "                                  bins=salary_ranges,\n",
    "                                  labels=salary_labels)"
   ]
  },
  {
   "cell_type": "code",
   "execution_count": 19,
   "metadata": {},
   "outputs": [
    {
     "data": {
      "image/png": "[encoded data removed]",
      "text/plain": [
       "<Figure size 432x288 with 1 Axes>"
      ]
     },
     "metadata": {
      "needs_background": "light"
     },
     "output_type": "display_data"
    }
   ],
   "source": [
    "import seaborn as sns\n",
    "import matplotlib.pyplot as plt\n",
    "\n",
    "# Plot the count of salary levels at companies of different sizes\n",
    "sns.countplot(data=salaries, hue=\"salary_level\", x=\"Company_Size\")\n",
    "plt.show()"
   ]
  },
  {
   "cell_type": "markdown",
   "metadata": {},
   "source": [
    "# Comparing salaries"
   ]
  },
  {
   "cell_type": "markdown",
   "metadata": {},
   "source": [
    "Exploratory data analysis is a crucial step in generating hypotheses!\n",
    "\n",
    "You've had an idea you'd like to explore—do data professionals get paid more in the USA than they do in Great Britain?"
   ]
  },
  {
   "cell_type": "code",
   "execution_count": 20,
   "metadata": {},
   "outputs": [
    {
     "data": {
      "image/png": "[encoded data removed]",
      "text/plain": [
       "<Figure size 432x288 with 1 Axes>"
      ]
     },
     "metadata": {
      "needs_background": "light"
     },
     "output_type": "display_data"
    }
   ],
   "source": [
    "# Filter for employees in the US or GB\n",
    "usa_and_gb = salaries[salaries[\"Employee_Location\"].isin([\"US\", \"GB\"])]\n",
    "\n",
    "# Create a barplot of salaries by location\n",
    "sns.barplot(data=usa_and_gb, x=\"Employee_Location\", y=\"Salary_USD\")\n",
    "plt.show()"
   ]
  },
  {
   "cell_type": "markdown",
   "metadata": {},
   "source": [
    "# Choosing a hypothesis"
   ]
  },
  {
   "cell_type": "markdown",
   "metadata": {},
   "source": [
    "You've seen how visualizations can be used to generate hypotheses, making them a crucial part of exploratory data analysis!\n",
    "\n",
    "In this exercise, you'll generate a bar plot to inspect how salaries differ based on company size and employment status. \n",
    "- CT = Contractor\n",
    "- FL = \tFreelance\n",
    "- PT = Part-time\n",
    "- FT = Full-time"
   ]
  },
  {
   "cell_type": "code",
   "execution_count": 21,
   "metadata": {},
   "outputs": [
    {
     "data": {
      "image/png": "[encoded data removed]",
      "text/plain": [
       "<Figure size 432x288 with 1 Axes>"
      ]
     },
     "metadata": {
      "needs_background": "light"
     },
     "output_type": "display_data"
    }
   ],
   "source": [
    "# Create a bar plot of salary versus company size, factoring in employment status\n",
    "sns.barplot(data=salaries, x=\"Company_Size\", y=\"Salary_USD\", hue=\"Employment_Status\")\n",
    "plt.show()"
   ]
  },
  {
   "cell_type": "markdown",
   "metadata": {},
   "source": [
    "- On average, large companies pay contractors more than medium-sized companies"
   ]
  }
 ],
 "metadata": {
  "kernelspec": {
   "display_name": "env_py",
   "language": "python",
   "name": "python3"
  },
  "language_info": {
   "codemirror_mode": {
    "name": "ipython",
    "version": 3
   },
   "file_extension": ".py",
   "mimetype": "text/x-python",
   "name": "python",
   "nbconvert_exporter": "python",
   "pygments_lexer": "ipython3",
   "version": "3.8.11"
  }
 },
 "nbformat": 4,
 "nbformat_minor": 2
}
