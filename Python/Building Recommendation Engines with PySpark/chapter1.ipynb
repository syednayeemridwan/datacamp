{
 "cells": [
  {
   "cell_type": "markdown",
   "metadata": {},
   "source": [
    "# See the power of a recommendation engine"
   ]
  },
  {
   "cell_type": "markdown",
   "metadata": {},
   "source": [
    "Taylor and Jane both like watching movies. Taylor only likes dramas, comedies, and romances. Jane likes only action, adventure, and otherwise exciting films. One of the greatest benefits of ALS-based recommendation engines is that they can identify movies or items that users will like, even if they themselves think that they might not like them. Take a look at the movie ratings that Taylor and Jane have provided below. It would stand to reason that their different preferences would generate different recommendations."
   ]
  },
  {
   "cell_type": "code",
   "execution_count": 2,
   "metadata": {},
   "outputs": [],
   "source": [
    "from pyspark.sql import SparkSession\n",
    "from pyspark.sql.types import StructType, StructField, StringType, FloatType\n",
    "\n",
    "# Create a SparkSession\n",
    "spark = SparkSession.builder \\\n",
    "    .appName(\"test\") \\\n",
    "    .getOrCreate()\n",
    "\n"
   ]
  },
  {
   "cell_type": "code",
   "execution_count": 3,
   "metadata": {},
   "outputs": [],
   "source": [
    "# # View TJ_ratings\n",
    "# TJ_ratings.show()\n",
    "\n",
    "# # Generate recommendations for users\n",
    "# get_ALS_recs([\"Jane\",\"Taylor\"]) "
   ]
  },
  {
   "cell_type": "markdown",
   "metadata": {},
   "source": [
    "# Power of recommendation engines"
   ]
  },
  {
   "cell_type": "markdown",
   "metadata": {},
   "source": [
    "What is a reason for learning to build recommendation engines?"
   ]
  },
  {
   "cell_type": "markdown",
   "metadata": {},
   "source": [
    "- Show users items/products relevant to them that they may not know are available."
   ]
  },
  {
   "cell_type": "markdown",
   "metadata": {},
   "source": [
    "# Collaborative vs content-based filtering"
   ]
  },
  {
   "cell_type": "markdown",
   "metadata": {},
   "source": [
    "Below are statements that are often used when providing recommendations. Select the one that  indicate collaborative filtering."
   ]
  },
  {
   "cell_type": "markdown",
   "metadata": {},
   "source": [
    "- \"Users that bought that also bought this.\"\n",
    "- \"Other people like you also liked this movie.\"\n",
    "- \"80% of your friends liked this movie, we think you'll like it too.\"\n",
    "- \"Here are top choices from similar users.\"\n",
    "- NOT: \"Because you liked that product, we think you'll like this product.\"\n"
   ]
  },
  {
   "cell_type": "markdown",
   "metadata": {},
   "source": [
    "# Collaborative vs content based filtering part II"
   ]
  },
  {
   "cell_type": "markdown",
   "metadata": {},
   "source": [
    "Look at the df dataframe using the .show() method and/or the .columns method, and determine whether it is best suited for \"collaborative filtering\", \"content-based filtering\", or \"both\"."
   ]
  },
  {
   "cell_type": "code",
   "execution_count": 4,
   "metadata": {},
   "outputs": [],
   "source": [
    "columns = ['UserId',\n",
    " 'MovieId',\n",
    " 'Movie_Title',\n",
    " 'Genre',\n",
    " 'Language',\n",
    " 'Year_Produced',\n",
    " 'rating']"
   ]
  },
  {
   "cell_type": "markdown",
   "metadata": {},
   "source": [
    "- Because this dataset includes descriptive tags like genre and language, as well as user ratings, it is suited for both collaborative and content-based filtering."
   ]
  },
  {
   "cell_type": "markdown",
   "metadata": {},
   "source": [
    "# Implicit vs explicit data"
   ]
  },
  {
   "cell_type": "markdown",
   "metadata": {},
   "source": [
    "Recall the differences between implicit and explicit ratings. Take a look at the df1 dataframe to understand whether the data includes implicit or explicit ratings data. df1 shows : `DataFrame[Movie_Title: string, Genre: string, Num_Views: string]`"
   ]
  },
  {
   "cell_type": "code",
   "execution_count": 5,
   "metadata": {},
   "outputs": [],
   "source": [
    "# Type \"implicit\" or \"explicit\"\n",
    "answer = \"implicit\""
   ]
  },
  {
   "cell_type": "markdown",
   "metadata": {},
   "source": [
    "# Ratings data types"
   ]
  },
  {
   "cell_type": "markdown",
   "metadata": {},
   "source": [
    "Markus watches a lot of movies, including documentaries, superhero movies, classics, and dramas. Drawing on your previous experience with Spark, use the markus_ratings dataframe, which contains data on the number of times Markus has seen movies in various genres, and think about whether these are implicit or explicit ratings. markus_ratings shows : `DataFrame[Movie_Title: string, Genre: string, Num_Views: int]`"
   ]
  },
  {
   "cell_type": "code",
   "execution_count": 6,
   "metadata": {},
   "outputs": [],
   "source": [
    "# # Group the data by \"Genre\"\n",
    "# markus_ratings.groupBy(\"Genre\").sum().show()"
   ]
  },
  {
   "cell_type": "markdown",
   "metadata": {},
   "source": [
    "# Alternate uses of recommendation engines."
   ]
  },
  {
   "cell_type": "markdown",
   "metadata": {},
   "source": [
    "Select the best definition of \"latent features\"."
   ]
  },
  {
   "cell_type": "markdown",
   "metadata": {},
   "source": [
    "- Latent features aren't directly observable by humans, and need mathematical operations to uncover them."
   ]
  },
  {
   "cell_type": "markdown",
   "metadata": {},
   "source": [
    "# Confirm understanding of latent features"
   ]
  },
  {
   "cell_type": "markdown",
   "metadata": {},
   "source": [
    "Matrix P is provided here. Its columns represent movies and its rows represent several latent features. Use your understanding of Spark commands to view matrix P and see if you can determine what some of the latent features might represent. After examining the matrix, look at the dataframe Pi, which contains a rough approximation of what these latent features could represent. See if you weren't far off."
   ]
  },
  {
   "cell_type": "markdown",
   "metadata": {},
   "source": [
    "P shows:\n",
    "```\n",
    "    +--------+------------+--------+---------+------------+------+----------+\n",
    "    |Iron Man|Finding Nemo|Avengers|Toy Story|Forrest Gump|Wall-E|Green Mile|\n",
    "    +--------+------------+--------+---------+------------+------+----------+\n",
    "    |     0.2|         2.4|     0.1|      2.4|           0|   2.5|         0|\n",
    "    |     1.5|         1.4|     1.4|      1.3|         1.8|   1.8|       2.5|\n",
    "    |     2.5|         1.1|     2.4|      0.9|         0.2|   0.9|      0.09|\n",
    "    |     1.9|           2|     1.5|      2.2|         1.2|   0.3|      0.01|\n",
    "    |       0|           0|       0|      2.3|         2.2|     0|       2.5|\n",
    "    +--------+------------+--------+---------+------------+------+----------+\n",
    "```"
   ]
  },
  {
   "cell_type": "markdown",
   "metadata": {},
   "source": [
    "Pi shows:\n",
    "```\n",
    "    +---------+--------+------------+--------+---------+------------+------+----------+\n",
    "    | Lat Feat|Iron Man|Finding Nemo|Avengers|Toy Story|Forrest Gump|Wall-E|Green Mile|\n",
    "    +---------+--------+------------+--------+---------+------------+------+----------+\n",
    "    | Animated|     0.2|         2.4|     0.1|      2.4|           0|   2.5|         0|\n",
    "    |    Drama|     1.5|         1.4|     1.4|      1.3|         1.8|   1.8|       2.5|\n",
    "    |Superhero|     2.5|         1.1|     2.4|      0.9|         0.2|   0.9|      0.09|\n",
    "    |   Comedy|     1.9|           2|     1.5|      2.2|         1.2|   0.3|      0.01|\n",
    "    |Tom Hanks|       0|           0|       0|      1.8|         2.2|     0|       2.5|\n",
    "    +---------+--------+------------+--------+---------+------------+------+----------+\n",
    "    \n",
    "```"
   ]
  }
 ],
 "metadata": {
  "kernelspec": {
   "display_name": "env_py",
   "language": "python",
   "name": "python3"
  },
  "language_info": {
   "codemirror_mode": {
    "name": "ipython",
    "version": 3
   },
   "file_extension": ".py",
   "mimetype": "text/x-python",
   "name": "python",
   "nbconvert_exporter": "python",
   "pygments_lexer": "ipython3",
   "version": "3.8.11"
  }
 },
 "nbformat": 4,
 "nbformat_minor": 2
}
