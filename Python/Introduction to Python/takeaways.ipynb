{
 "cells": [
  {
   "cell_type": "markdown",
   "metadata": {},
   "source": [
    "# Chapter 1"
   ]
  },
  {
   "cell_type": "markdown",
   "metadata": {},
   "source": [
    "- See data type of variable : `type(var_name)`"
   ]
  },
  {
   "cell_type": "markdown",
   "metadata": {},
   "source": [
    "# Chapter 2"
   ]
  },
  {
   "cell_type": "markdown",
   "metadata": {},
   "source": [
    "- copy list: `y = x[:]`\n",
    "- copy list: `y = list(x)`\n",
    "- Never do this: `y = x` as it is copying reference to list object in memory instead of the items in the list\n",
    "- List slicing : `your_list[start:stop:step]`\n",
    "- extend list: `list1 + list2`\n",
    "- extend list: `list1.extend(list2)`\n",
    "- extend list: `list1.append(list2[:])`\n",
    "- remove items from list: `del(some_list[start:end])`\n",
    "- remove items from list: `some_list.remove(item)`\n",
    "- remove items from list: `some_list.pop(index)`"
   ]
  },
  {
   "cell_type": "markdown",
   "metadata": {},
   "source": []
  },
  {
   "cell_type": "code",
   "execution_count": null,
   "metadata": {},
   "outputs": [],
   "source": []
  }
 ],
 "metadata": {
  "language_info": {
   "name": "python"
  },
  "orig_nbformat": 4
 },
 "nbformat": 4,
 "nbformat_minor": 2
}
