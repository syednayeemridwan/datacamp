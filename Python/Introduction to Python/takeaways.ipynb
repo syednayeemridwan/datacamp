{
 "cells": [
  {
   "cell_type": "markdown",
   "metadata": {},
   "source": [
    "# Chapter 1"
   ]
  },
  {
   "cell_type": "markdown",
   "metadata": {},
   "source": [
    "- See data type of variable : `type(var_name)`"
   ]
  },
  {
   "cell_type": "markdown",
   "metadata": {},
   "source": [
    "# Chapter 2"
   ]
  },
  {
   "cell_type": "markdown",
   "metadata": {},
   "source": [
    "- copy list: `y = x[:]`\n",
    "- copy list: `y = list(x)`\n",
    "- Never do this: `y = x` as it is copying reference to list object in memory instead of the items in the list\n",
    "- List slicing : `your_list[start:stop:step]`\n",
    "- extend list: `list1 + list2`\n",
    "- extend list: `list1.extend(list2)`\n",
    "- extend list: `list1.append(list2[:])`\n",
    "- remove items from list: `del(some_list[start:end])`\n",
    "- remove items from list: `some_list.remove(item)`\n",
    "- remove items from list: `some_list.pop(index)`"
   ]
  },
  {
   "cell_type": "markdown",
   "metadata": {},
   "source": [
    "# Chapter 3"
   ]
  },
  {
   "cell_type": "markdown",
   "metadata": {},
   "source": [
    "- get help: `?func_name`\n",
    "- get help: `help(func_name)`\n",
    "- methods: function that belong to objects\n",
    "- packages :\n",
    "    - directory of python scripts\n",
    "    - each script is a module. Modules contain functions, methods, new python types (or objects) etc\n",
    "    - eg: numpy, matplotlib etc\n",
    "    - install packages with command: `pip install package_name`\n",
    "    - import package: `import package_name`"
   ]
  }
 ],
 "metadata": {
  "language_info": {
   "name": "python"
  },
  "orig_nbformat": 4
 },
 "nbformat": 4,
 "nbformat_minor": 2
}
