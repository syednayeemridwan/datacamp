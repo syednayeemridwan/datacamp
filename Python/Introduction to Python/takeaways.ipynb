{
 "cells": [
  {
   "cell_type": "markdown",
   "metadata": {},
   "source": [
    "# Chapter 1"
   ]
  },
  {
   "cell_type": "markdown",
   "metadata": {},
   "source": [
    "- See data type of variable : `type(var_name)`"
   ]
  },
  {
   "cell_type": "markdown",
   "metadata": {},
   "source": [
    "# Chapter 2"
   ]
  },
  {
   "cell_type": "markdown",
   "metadata": {},
   "source": [
    "- copy list: `y = x[:]`\n",
    "- copy list: `y = list(x)`\n",
    "- Never do this: `y = x` as it is copying reference to list object in memory instead of the items in the list\n",
    "- List slicing : `your_list[start:stop:step]`\n",
    "- extend list: `list1 + list2`\n",
    "- extend list: `list1.extend(list2)`\n",
    "- extend list: `list1.append(list2[:])`\n",
    "- remove items from list: `del(some_list[start:end])`\n",
    "- remove items from list: `some_list.remove(item)`\n",
    "- remove items from list: `some_list.pop(index)`"
   ]
  },
  {
   "cell_type": "markdown",
   "metadata": {},
   "source": [
    "# Chapter 3"
   ]
  },
  {
   "cell_type": "markdown",
   "metadata": {},
   "source": [
    "- get help: `?func_name`\n",
    "- get help: `help(func_name)`\n",
    "- methods: function that belong to objects\n",
    "- packages :\n",
    "    - directory of python scripts\n",
    "    - each script is a module. Modules contain functions, methods, new python types (or objects) etc\n",
    "    - eg: numpy, matplotlib etc\n",
    "    - install packages with command: `pip install package_name`\n",
    "    - import package: `import package_name`\n"
   ]
  },
  {
   "cell_type": "markdown",
   "metadata": {},
   "source": [
    "# Chapter 4"
   ]
  },
  {
   "cell_type": "markdown",
   "metadata": {},
   "source": [
    "- numpy array:\n",
    "    - contains only one type (homogeneous)\n",
    "    - all elements acts as a single element while doing mathematical operations (broadcasting)\n",
    "    - used for subsetting/ filtering\n",
    "    - Faster mathematial operation (due to broadcasting)\n",
    "- broadcasting: `some_array > 50`\n",
    "- filtering: `x[x > 40]`\n",
    "- see shape (this is an attribute, not a method): `some_array.shape`\n",
    "- 2d numpy array : \n",
    "    - array that's like a list of lists\n",
    "    - indexing: `some_array[row][column]` or `some_array[row,column]`\n",
    "    - subsetting : `some_array[row1:row_n][column1:column_n]` or `some_array[row1:row_n,column1:column_n]`"
   ]
  }
 ],
 "metadata": {
  "language_info": {
   "name": "python"
  },
  "orig_nbformat": 4
 },
 "nbformat": 4,
 "nbformat_minor": 2
}
