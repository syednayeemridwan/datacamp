{
 "cells": [
  {
   "cell_type": "markdown",
   "metadata": {},
   "source": [
    "# Chapter 1"
   ]
  },
  {
   "cell_type": "markdown",
   "metadata": {},
   "source": [
    "### Model Validation"
   ]
  },
  {
   "cell_type": "markdown",
   "metadata": {},
   "source": [
    "- determines MODEL PERFORMANCE\n",
    "- Way to determine that the model is performing in the as expected\n",
    "- common way : Accuracy in unseen data (test data) is same as seen data (train data)\n",
    "- Goal : Choose right model, right parameters, right accuracy metrics, high accuracy on new data\n",
    "- Split dataset : split dataset into 80-20 split. train with 80% and test with 20%\n",
    "- validation dataset : Split the train again into training and validation dataset with 75-25 split.\n",
    "- tune hyperparameters : You need validation dataset for tuning hyperparameters\n",
    "- Accuracy metrics for assessing model performance:\n",
    "    - Regression :\n",
    "        - Good rule of thumb : make your y into percentage, then the metric will also generate percentage value\n",
    "        - Mean absolute error (MAE) : Treats all points equally\n",
    "        - Mean Squared error (MSE) : Issues penalty for large difference\n",
    "    - Classification: \n",
    "        - Measured from confusion matrix : `cm[<true_category_index>, <predicted_category_index>]`\n",
    "        - precision : True positives out of all predicted positive values\n",
    "            - Used when you do not want to over predic-positive values (you need assurity for cancer paitent test)\n",
    "        - recall : True positives out of all real positive values\n",
    "            - Used when you cannot afford to miss any positive values (you need assurity for cancer paitent test)\n",
    "        - accuracy: overall ability of model to predict correct class\n",
    "        - Specificity : \n",
    "        - F1-score\n",
    "- Overfitting : \n",
    "    - accuracy in test data is lower than accuracy in train data (High variance on train data)\n",
    "    - model pays too much attention to the details of training data and also learns noise \n",
    "    - model becomes complex, more data may be needed\n",
    "- Underfitting : \n",
    "    - accuracy in both train and test data is lower since the model is too simple to capture pattern (High bias, low variance)\n",
    "    - model fails to find relationship between the data and the response target value\n",
    "    - model is too simple\n",
    "- BIAS VARIANCE TRADEOFF : \n",
    "    - variance : model pays too much attention to the details of training data and also learns noise\n",
    "    - bias : models fails to learn the details\n",
    "- Regression model : Target is a continuous value\n",
    "- Classification model : Target is a discrete value / category\n",
    "- parameter tuning : get the parameter of the model to see what parameters can be tuned\n"
   ]
  },
  {
   "cell_type": "markdown",
   "metadata": {},
   "source": [
    "# Chapter 2"
   ]
  }
 ],
 "metadata": {
  "language_info": {
   "name": "python"
  }
 },
 "nbformat": 4,
 "nbformat_minor": 2
}
