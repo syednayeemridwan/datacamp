{
 "cells": [
  {
   "cell_type": "markdown",
   "metadata": {},
   "source": [
    "# Chapter 1"
   ]
  },
  {
   "cell_type": "markdown",
   "metadata": {},
   "source": [
    "### Model Validation"
   ]
  },
  {
   "cell_type": "markdown",
   "metadata": {},
   "source": [
    "- Way to determine that the model is performing in the as expected\n",
    "- common way : Accuracy in unseen data (test data) is same as seen data (train data)\n",
    "- Goal : Choose right model, right parameters, right accuracy metrics, high accuracy on new data\n",
    "- Overfitting : accuracy in test data is lower than accuracy in train data (High variance on train data)\n",
    "- Underfitting : accuracy in both train and test data is lower since the model is too simple to capture pattern (High bias, low variance)\n",
    "- Regression model : Target is a continuous value\n",
    "- Classification model : Target is a discrete value / category\n",
    "- parameter tuning : get the parameter of the model to see what parameters can be tuned\n"
   ]
  }
 ],
 "metadata": {
  "language_info": {
   "name": "python"
  }
 },
 "nbformat": 4,
 "nbformat_minor": 2
}
