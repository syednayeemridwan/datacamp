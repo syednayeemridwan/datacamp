{
 "cells": [
  {
   "cell_type": "markdown",
   "metadata": {},
   "source": [
    "# Chapter 1"
   ]
  },
  {
   "cell_type": "markdown",
   "metadata": {},
   "source": [
    "- Shell commands in python : use with `!` sign. eg: `! ls`\n",
    "- dataframe to numpy array : `np.array(df)`"
   ]
  },
  {
   "cell_type": "markdown",
   "metadata": {},
   "source": [
    "### Open txt files"
   ]
  },
  {
   "cell_type": "markdown",
   "metadata": {},
   "source": [
    "```\n",
    "# Way 1 : data in raw text\n",
    "with open('filename.txt', 'r') as file:\n",
    "    print(file.readline())\n",
    "\n",
    "# Way 2 : data similar to dataframe format\n",
    "data = np.genfromtxt('filename.csv', delimiter=',', names=True, dtype=None)\n",
    "\n",
    "# Way 3 : not recommended\n",
    "data = np.loadtxt('filename.txt', delimiter= ',', skiprows=1, usecols=[0,2], dtype=str)\n",
    "```"
   ]
  },
  {
   "cell_type": "markdown",
   "metadata": {},
   "source": [
    "### Open csv file"
   ]
  },
  {
   "cell_type": "markdown",
   "metadata": {},
   "source": [
    "```\n",
    "# Way 1 : Import as dataframe\n",
    "import pandas as pd\n",
    "data = pd.read_csv(\"filename.csv\")\n",
    "\n",
    "# Way 2 : Import as list of tuples\n",
    "data = np.recfromcsv(file)\n",
    "```"
   ]
  },
  {
   "cell_type": "markdown",
   "metadata": {},
   "source": []
  }
 ],
 "metadata": {
  "language_info": {
   "name": "python"
  }
 },
 "nbformat": 4,
 "nbformat_minor": 2
}
