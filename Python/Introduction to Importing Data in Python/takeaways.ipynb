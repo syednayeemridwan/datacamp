{
 "cells": [
  {
   "cell_type": "markdown",
   "metadata": {},
   "source": [
    "# Chapter 1"
   ]
  },
  {
   "cell_type": "markdown",
   "metadata": {},
   "source": [
    "- Shell commands in python : use with `!` sign. eg: `! ls`\n",
    "- dataframe to numpy array : `np.array(df)`"
   ]
  },
  {
   "cell_type": "markdown",
   "metadata": {},
   "source": [
    "### Open txt files"
   ]
  },
  {
   "cell_type": "markdown",
   "metadata": {},
   "source": [
    "```\n",
    "# Way 1 : data in raw text\n",
    "with open('filename.txt', 'r') as file:\n",
    "    print(file.readline())\n",
    "\n",
    "# Way 2 : data similar to dataframe format\n",
    "data = np.genfromtxt('filename.csv', delimiter=',', names=True, dtype=None)\n",
    "\n",
    "# Way 3 : not recommended\n",
    "data = np.loadtxt('filename.txt', delimiter= ',', skiprows=1, usecols=[0,2], dtype=str)\n",
    "```"
   ]
  },
  {
   "cell_type": "markdown",
   "metadata": {},
   "source": [
    "### Open csv file"
   ]
  },
  {
   "cell_type": "markdown",
   "metadata": {},
   "source": [
    "```\n",
    "# Way 1 : Import as dataframe\n",
    "import pandas as pd\n",
    "data = pd.read_csv(\"filename.csv\")\n",
    "\n",
    "# Way 2 : Import as list of tuples\n",
    "data = np.recfromcsv(file)\n",
    "```"
   ]
  },
  {
   "cell_type": "markdown",
   "metadata": {},
   "source": [
    "# Chapter 2"
   ]
  },
  {
   "cell_type": "markdown",
   "metadata": {},
   "source": [
    "### Linux commands in python"
   ]
  },
  {
   "cell_type": "markdown",
   "metadata": {},
   "source": [
    "```\n",
    "import os\n",
    "# Get current working directory\n",
    "wd = os.getcwd()\n",
    "# List of directories in current working directory\n",
    "os.listdir(wd)\n",
    "```"
   ]
  },
  {
   "cell_type": "markdown",
   "metadata": {},
   "source": [
    "### Open pkl files"
   ]
  },
  {
   "cell_type": "markdown",
   "metadata": {},
   "source": [
    "- pickle files :\n",
    "    - holds python native properties and structures of objects\n",
    "    - data is serialized = converted objects into bytestream"
   ]
  },
  {
   "cell_type": "markdown",
   "metadata": {},
   "source": [
    "```\n",
    "# Way 1\n",
    "import pickle\n",
    "with open('filename.pkl', 'rb') as file:\n",
    "    data = pickle.load(file)\n",
    "\n",
    "# Way 2\n",
    "df = pd.read_pickle('filename.pkl')\n",
    "```"
   ]
  },
  {
   "cell_type": "markdown",
   "metadata": {},
   "source": [
    "### Open Excel file"
   ]
  },
  {
   "cell_type": "markdown",
   "metadata": {},
   "source": [
    "```\n",
    "import pandas as pd\n",
    "\n",
    "### Way 1\n",
    "# Load excel file\n",
    "data = pd.ExcelFile('filename.xlsx')\n",
    "# See sheet names\n",
    "print(data.sheet_names)\n",
    "# Loading sheet\n",
    "df1 = data.parse('sheetname') # sheet name\n",
    "df2 = data.parse(0) # sheet index\n",
    "\n",
    "### Way 2\n",
    "df = pd.read_excel('filename.xlsx', sheet_name='sheetname')\n",
    "```"
   ]
  },
  {
   "cell_type": "markdown",
   "metadata": {},
   "source": [
    "### Open SAS file"
   ]
  },
  {
   "cell_type": "markdown",
   "metadata": {},
   "source": [
    "```\n",
    "# Way 1\n",
    "import pandas as pd\n",
    "from sas7bdat import SAS7BDAT\n",
    "with SAS7BDAT('filename.sas7bdat') as file:\n",
    "    df_sas = file.to_data_frame()\n",
    "\n",
    "# Way 2\n",
    "import pandas as pd\n",
    "df = pd.read_sas(\"filename.sas7bdat\") \n",
    "```"
   ]
  },
  {
   "cell_type": "markdown",
   "metadata": {},
   "source": [
    "### Open Stata file"
   ]
  },
  {
   "cell_type": "markdown",
   "metadata": {},
   "source": [
    "```\n",
    "import pandas as pd\n",
    "data = pd.read_stata('filename.dta')\n",
    "```"
   ]
  },
  {
   "cell_type": "markdown",
   "metadata": {},
   "source": [
    "### Open hdf5 file"
   ]
  },
  {
   "cell_type": "markdown",
   "metadata": {},
   "source": [
    "```\n",
    "# Way 1\n",
    "import h5py\n",
    "data = h5py.File( 'filename.hdf5', 'r') \n",
    "print(type(data))\n",
    "\n",
    "# Iterate the structure\n",
    "for key in data.keys():\n",
    "    print(key)\n",
    "\n",
    "# Iterate further into the structure\n",
    "for key in data['some_key'].keys():\n",
    "    print(key)\n",
    "\n",
    "# Way 2\n",
    "import h5py\n",
    "df = pd.DataFrame(np.array(h5py.File('filename.hdf5')['variable_1']))\n",
    "```"
   ]
  },
  {
   "cell_type": "markdown",
   "metadata": {},
   "source": [
    "### Open matlab file"
   ]
  },
  {
   "cell_type": "markdown",
   "metadata": {},
   "source": [
    "```\n",
    "# Way 1\n",
    "import scipy.io\n",
    "mat = scipy.io.loadmat('filename.mat')\n",
    "print(type(mat))\n",
    "\n",
    "# Way 2\n",
    "from mat4py import loadmat\n",
    "data = loadmat('datafile.mat')\n",
    "```"
   ]
  },
  {
   "cell_type": "markdown",
   "metadata": {},
   "source": [
    "# Chapter 3"
   ]
  },
  {
   "cell_type": "markdown",
   "metadata": {},
   "source": [
    "```\n",
    "### Way 1\n",
    "from sqlalchemy import create_engine\n",
    "# Connect to database\n",
    "engine = create_engine('sqlite:///dbname.sqlite')\n",
    "# See tables in the database\n",
    "table_names = engine.table_names()\n",
    "print(table_names)\n",
    "# Open a connection to pass query\n",
    "con = engine.connect()\n",
    "# Execute query\n",
    "rs = con.execute(\"SELECT * FROM Orders\")\n",
    "# Store results of all rows\n",
    "results = rs.fetchall()\n",
    "# Print the result as list of tuples\n",
    "print(list(results))\n",
    "# Column names\n",
    "column_names = rs.keys()\n",
    "# Store the result in a dataframe\n",
    "df = pd.DataFrame(results)\n",
    "df.columns = column_names\n",
    "# Close the connection to pass query\n",
    "con.close()\n",
    "\n",
    "### Way 2\n",
    "from sqlalchemy import create_engine\n",
    "import pandas as pd\n",
    "engine = create_engine('sqlite:///dbname.sqlite') # or path\n",
    "df = pd.read_sql_query(\"SELECT * FROM tableName\", engine)\n",
    "```"
   ]
  }
 ],
 "metadata": {
  "language_info": {
   "name": "python"
  }
 },
 "nbformat": 4,
 "nbformat_minor": 2
}
