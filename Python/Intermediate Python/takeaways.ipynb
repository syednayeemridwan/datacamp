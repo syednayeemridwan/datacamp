{
 "cells": [
  {
   "cell_type": "markdown",
   "metadata": {},
   "source": [
    "# Chapter 1"
   ]
  },
  {
   "cell_type": "markdown",
   "metadata": {},
   "source": [
    "### Matplotlib customization"
   ]
  },
  {
   "cell_type": "markdown",
   "metadata": {},
   "source": [
    "```\n",
    "# Scatter plot\n",
    "plt.scatter(x_list, y_list_, s = size_list, c = color_list, alpha = 0.8)\n",
    "\n",
    "# Previous customizations\n",
    "plt.xscale('log') # Changing x axis into log scale\n",
    "plt.xlabel('X axis label')\n",
    "plt.ylabel('Y axis label')\n",
    "plt.title('Plot Title')\n",
    "plt.xticks([1000,10000,100000], ['1k','10k','100k']) # Labeling x tick values\n",
    "\n",
    "# Additional customizations (Add texts in the plot)\n",
    "plt.text(1550, 71, 'Text 1') \n",
    "plt.text(5700, 80, 'Text 2')\n",
    "\n",
    "# Add grid\n",
    "plt.grid(True) \n",
    "\n",
    "# Show the plot\n",
    "plt.show()\n",
    "```"
   ]
  },
  {
   "cell_type": "markdown",
   "metadata": {},
   "source": [
    "# Chapter 2"
   ]
  },
  {
   "cell_type": "markdown",
   "metadata": {},
   "source": [
    "- Access keys in dictionary : `some_dict.keys()`\n",
    "- Add dictionary entry python : `dictionary['key']= new_val`\n",
    "- Delete dictionary entry python : `del dictionary['key']`\n",
    "- Dictionary to dataframe : `df = pd.DataFrame(my_dict)`\n",
    "- Create index : `df.index = row_labels_list`\n",
    "- Show index : `df.index`\n",
    "- Dataframe slicing:\n",
    "    - Remember to always use double square bracket `[[]]` for specifying columns to get dataframe \n",
    "    - Slicing only columns : `df[['col1','col2']]`\n",
    "    - Slicing only rows : `df[1:6]`\n",
    "    - Slicing both rows and columns with loc (use string): `df.loc[['index_name1', 'index_name2'], ['col1', 'col2']]`\n",
    "    - Slicing both rows and columns with iloc (use integer): `df.iloc[[row_nums], [col_nums]]`\n",
    "    "
   ]
  },
  {
   "cell_type": "markdown",
   "metadata": {},
   "source": [
    "# Chapter 3"
   ]
  },
  {
   "cell_type": "markdown",
   "metadata": {},
   "source": [
    "- Compare each element of numpy array with a variable : `np_array > 5`\n",
    "- Compare 2 numpy arrays : `np_array1 > np_array2`\n",
    "- test if same shape, same elements values : `np.array_equal(A,B)`  \n",
    "- test if broadcastable shape, same elements values: `np.array_equiv(A,B)  `\n",
    "- test if same shape, elements have close enough values: `np.allclose(A,B,...) `\n",
    "- and operation in numpy: `np.logical_and(np_array1,np_array2)`\n",
    "- or operation in numpy: `np.logical_or(np_array1,np_array2)`\n",
    "- not operation in numpy: `np.logical_not(np_array1)`\n",
    "- numpy operations works same on pandas series and sometimes on dataframe as well\n"
   ]
  },
  {
   "cell_type": "markdown",
   "metadata": {},
   "source": [
    "# Chapter 4"
   ]
  },
  {
   "cell_type": "markdown",
   "metadata": {},
   "source": [
    "- index with for loop:\n",
    "```\n",
    "for index,val in enumerate(some_list):\n",
    "    print(f\"Index is {index} and value is {val}\")\n",
    "```\n",
    "- looping on dictionary\n",
    "```\n",
    "for key, value in some_dict.items():\n",
    "\tprint(key)\n",
    "\tprint(value)\n",
    "```\n",
    "- looping on numpy array\n",
    "```\n",
    "for value in np.nditer(np_array): # Iterate over each element\n",
    "\tprint(value) \n",
    "# output 1 2 3 4 5 6\n",
    "\n",
    "for value in np_array: # Iterate over each dimension\n",
    "    print(value) \n",
    "# output\n",
    "# [1 2 3]\n",
    "# [4 5 6]\n",
    "```\n",
    "- looping on dataframe\n",
    "```\n",
    "for index, row in df.iterrows():\n",
    "    print(index)\n",
    "    print(row[\"col_name\"]) # print the row's col_name column's value\n",
    "    df.loc[index,\"new_col\"] = row[\"some_col\"].upper() # Create new column in each iteration of rows\n",
    "``` \n",
    "- Using apply method for each row iteration: `df[\"new_column\"] = df[\"column_name\"].apply(lambda x:x+3)`"
   ]
  },
  {
   "cell_type": "markdown",
   "metadata": {},
   "source": [
    "# Chapter 5"
   ]
  },
  {
   "cell_type": "markdown",
   "metadata": {},
   "source": [
    "- Random integer between 1 and 6 : `print(np.random.randint(1,7)) `\n",
    "- Random float : `print(np.random.rand())` \n",
    "- transpose array to make columns into rows and rows into columns : `np.transpose(np.array(some_list))`"
   ]
  }
 ],
 "metadata": {
  "language_info": {
   "name": "python"
  }
 },
 "nbformat": 4,
 "nbformat_minor": 2
}
