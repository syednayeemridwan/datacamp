{
 "cells": [
  {
   "cell_type": "markdown",
   "metadata": {},
   "source": [
    "# Chapter 1"
   ]
  },
  {
   "cell_type": "markdown",
   "metadata": {},
   "source": [
    "- Schema : Blueprint of database\n",
    "- Database : Collection of tables\n",
    "- Advantage of databases:\n",
    "    - Ability to store large data\n",
    "    - Secured storage due to encryption, permission\n",
    "- Table : \n",
    "    - Data organized into rows and columns\n",
    "- Rows : \n",
    "    - records or objects.\n",
    "    - Also known as tuples\n",
    "- Unique identifiers : \n",
    "    - Used to uniquely identify records in a table\n",
    "- Columns : \n",
    "    - Fields or attributes \n",
    "    - holds one piece of information about records.\n",
    "    - Each column should contain one information of same type for all records\n",
    "    - Data types : text or string, number, date etc\n",
    "- Naming of tables (Best Practices):\n",
    "    - lowercase\n",
    "    - no spaces, only underscores\n",
    "    - singular or plural in nature of name\n",
    "    - Only store information in a table about the particular topic the table was named after\n",
    "- Naming of fields (Best Practices):\n",
    "    - lowercase\n",
    "    - no spaces, only underscores\n",
    "    - singular (NOT plural) in nature of name\n",
    "    - names should be unique\n",
    "    - should not have the same name as table name\n",
    "- Data types:\n",
    "    - `VARCHAR` : Variable characters, flexible sequence of characters\n",
    "    - `INTEGER` : Whole numbers\n",
    "    - `NUMERIC` : numbers with fraction or whole"
   ]
  },
  {
   "cell_type": "markdown",
   "metadata": {},
   "source": [
    "### Jargons"
   ]
  },
  {
   "cell_type": "markdown",
   "metadata": {},
   "source": [
    "- Instance \n",
    "\t- Top level in hierarchy\n",
    "    - Provides unique server environment for contained databases\n",
    "    - Allows isolation between databases\n",
    "- Database \n",
    "\t- Stores, manages and provides access to data\n",
    "    - Contains objects (Tables, Views, Index)\n",
    "    - Uses related tables to reduce redundancy\n",
    "    - Can be distributed across multiple systems\n",
    "    - One instance may have more than 1 database\n",
    "- Schema \n",
    "\t- Logical grouping of objects within a database\n",
    "    - Provides context : Allows multiple apps to store data in single database\n",
    "    - Contains Tables, Views, Functions, Packages\n",
    "    - In most databases default is user schema\n",
    "- Objects\n",
    "\t- Items within a database\n",
    "    - Tables: Logical structures consisting of rows and columns to store data\n",
    "\t- Constraints : Ways of providing rules or restrictions on data\n",
    "\t- Index : Set of pointers in database that provides uniqueness of data\n",
    "\t- Key : Uniquely identify rows in a table and defines relationship between tables\n",
    "    - Views: Way of representing data from one or more tables, requires no permanent storage\n",
    "    - Aliases: Alternative name for an object\n",
    "    - Events: Actions on a database that initiate trigger\n",
    "    - Trigger: A set of actions performed in response to Insert, Update, Delete on specified table\n",
    "    - Log files : Stores information about transactions in a database"
   ]
  },
  {
   "cell_type": "markdown",
   "metadata": {},
   "source": [
    "### Schema"
   ]
  },
  {
   "cell_type": "markdown",
   "metadata": {},
   "source": [
    "- Blueprint of database \n",
    "- Schema Design = ERD (Entity Relationship Diagram) Design\n",
    "- We create a database based on schema design\n",
    "- shows design of database:\n",
    "    - What tables are included in the database\n",
    "    - Relationship between tables\n",
    "    - data types of fields in the database\n",
    "\t- Logical grouping of objects within a database\n",
    "    - Provides context : Allows multiple apps to store data in single database\n",
    "    - Contains Tables, Views, Functions, Packages\n",
    "    - In most databases default is user schema"
   ]
  },
  {
   "cell_type": "markdown",
   "metadata": {},
   "source": [
    "<center><img src=\"images/01.05.png\"  style=\"width: 400px, height: 300px;\"/></center>\n"
   ]
  },
  {
   "cell_type": "markdown",
   "metadata": {},
   "source": []
  }
 ],
 "metadata": {
  "language_info": {
   "name": "python"
  }
 },
 "nbformat": 4,
 "nbformat_minor": 2
}
