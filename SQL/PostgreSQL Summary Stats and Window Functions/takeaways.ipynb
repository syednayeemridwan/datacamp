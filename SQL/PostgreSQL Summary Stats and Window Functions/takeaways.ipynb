{
 "cells": [
  {
   "cell_type": "markdown",
   "metadata": {},
   "source": [
    "# Chapter 1"
   ]
  },
  {
   "cell_type": "markdown",
   "metadata": {},
   "source": [
    "### SQL in pandas"
   ]
  },
  {
   "cell_type": "markdown",
   "metadata": {},
   "source": [
    "```\n",
    "from pandasql import sqldf\n",
    "import pandas as pd\n",
    "\n",
    "# Create helper function for easier query execution\n",
    "execute = lambda q: sqldf(q, globals())\n",
    "\n",
    "# Load your CSV files into DataFrames\n",
    "df1 = pd.read_csv(\"file1.csv\")\n",
    "df2 = pd.read_csv(\"file2.csv\")\n",
    "\n",
    "# Execute query with a join and store the result\n",
    "query = \"\"\"\n",
    "    SELECT *\n",
    "    FROM df1\n",
    "    JOIN df2 ON df1.common_column = df2.common_column\n",
    "\"\"\"\n",
    "result_df = execute(query)\n",
    "\n",
    "# Show results\n",
    "result_df.head()\n",
    "```"
   ]
  },
  {
   "cell_type": "markdown",
   "metadata": {},
   "source": [
    "### Window Functions"
   ]
  },
  {
   "cell_type": "markdown",
   "metadata": {},
   "source": [
    "```\n",
    "SELECT\n",
    "col1,\n",
    "AVG(col2 + col3) \n",
    "    OVER(PARTITION BY cat_col1, cat_col2 ORDER BY col2 DESC ROWS BETWEEN <start> AND <finish> ) AS partitioned_avg\n",
    "FROM table;\n",
    "-- <start> : n PRECEDING, UNBOUNDED PRECEDING, CURRENT ROW (n is an integer)\n",
    "-- <finish> : n FOLLOWING, UNBOUNDED FOLLOWING, CURRENT ROW (n is an integer)\n",
    "-- PARTITION : resets for every new categorical value in the column\n",
    "-- ROWS : row, can be a RANGE as well\n",
    "-- BETWEEN <start> AND <finish> : Window size\n",
    "-- Some Other window functions : ROW_NUMBER(), RANK(), DENSE_RANK(), NTILE(n), LEAD(col_name), LAG(col_name), SUM(), MIN(), MAX(), FIRST_VALUE(), LAST_VALUE() etc\n",
    "```"
   ]
  },
  {
   "cell_type": "markdown",
   "metadata": {},
   "source": [
    "# Chapter 2"
   ]
  },
  {
   "cell_type": "markdown",
   "metadata": {},
   "source": [
    "### NTILE"
   ]
  },
  {
   "cell_type": "markdown",
   "metadata": {},
   "source": [
    "- used for paging (divide data into equal number of splits)\n",
    "- Used to Split the data into n equally sized pages\n",
    "- so each each page will contain no of rows = total_row / n "
   ]
  },
  {
   "cell_type": "markdown",
   "metadata": {},
   "source": [
    "# Chapter 3"
   ]
  },
  {
   "cell_type": "markdown",
   "metadata": {},
   "source": [
    "### Row vs Range"
   ]
  },
  {
   "cell_type": "markdown",
   "metadata": {},
   "source": [
    "- Both do the same thing except one major difference\n",
    "- ROWS = treats each individual data separatelly\n",
    "- RANGE = treats duplicates as single entities\n",
    "- ROWS is mostly preferable against RANGE\n",
    "- ROWS show characteristics like DENSE_RANK whereas RANGE show characteristics like RANK"
   ]
  },
  {
   "cell_type": "markdown",
   "metadata": {},
   "source": [
    "<center><img src=\"images/03.01.png\"  style=\"width: 400px, height: 300px;\"/></center>"
   ]
  },
  {
   "cell_type": "markdown",
   "metadata": {},
   "source": [
    "# Chapter 4"
   ]
  },
  {
   "cell_type": "markdown",
   "metadata": {},
   "source": [
    "### Pivoting a table"
   ]
  },
  {
   "cell_type": "markdown",
   "metadata": {},
   "source": [
    "```\n",
    "-- Original query before pivoting\n",
    "SELECT\n",
    "Country, Year, COUNT(*) AS Awards\n",
    "FROM Summer_Medals\n",
    "WHERE\n",
    "Country IN ('CHN', 'RUS', 'USA')\n",
    "AND Year IN (2008, 2012)\n",
    "AND Medal = 'Gold'\n",
    "GROUP BY Country, Year\n",
    "ORDER BY Country ASC, Year ASC;\n",
    "\n",
    "-- Using pivoting\n",
    "CREATE EXTENSION IF NOT EXISTS tablefunc;\n",
    "SELECT * FROM CROSSTAB($$\n",
    " -- Start original query\n",
    "SELECT\n",
    "Country, Year, COUNT(*) :: INTEGER AS Awards -- make sure to cast\n",
    "FROM Summer_Medals\n",
    "WHERE\n",
    "Country IN ('CHN', 'RUS', 'USA')\n",
    "AND Year IN (2008, 2012)\n",
    "AND Medal = 'Gold'\n",
    "GROUP BY Country, Year\n",
    "ORDER BY Country ASC, Year ASC;\n",
    "-- End original query\n",
    "$$) AS ct (Country VARCHAR, \"2008\" INTEGER, \"2012\" INTEGER) -- Country column remains, others are new columns\n",
    "ORDER BY Country ASC;\n",
    "```"
   ]
  },
  {
   "cell_type": "markdown",
   "metadata": {},
   "source": [
    "### Aggregation"
   ]
  },
  {
   "cell_type": "markdown",
   "metadata": {},
   "source": [
    "```\n",
    "-- nonagg_col = the columns that are not aggregated\n",
    "-- agg_col = the columns that are being aggregated with agg funcs\n",
    "-- agg funcs = count, sum, avg, min, max\n",
    "SELECT nonagg_col1, nonagg_col2,  COUNT(agg_col) \n",
    "FROM table_name\n",
    "WHERE nonagg_col1 IN ('A','B')\n",
    "GROUP BY nonagg_col1, nonagg_col2 -- or ROLLUP(nonagg_col1, nonagg_col2) or CUBE(nonagg_col1, nonagg_col2)\n",
    "HAVING COUNT(agg_col) >10\n",
    "ORDER BY nonagg_col2 DESC\n",
    "LIMIT 5;\n",
    "-- ROLLUP : Hierarchical group-level aggregations of specified columns from left to right\n",
    "-- CUBE : All possible combination of group-level aggregations\n",
    "```"
   ]
  },
  {
   "cell_type": "markdown",
   "metadata": {},
   "source": [
    "### COALESCE"
   ]
  },
  {
   "cell_type": "markdown",
   "metadata": {},
   "source": [
    "- Takes the first non-null value in the list\n",
    "- eg : `SELECT COALESCE(NULL, NULL, NULL, 'HELLO WORLD', NULL, 'Example.com');` will take 'HELLO WORLD'"
   ]
  },
  {
   "cell_type": "markdown",
   "metadata": {},
   "source": [
    "### STRING_AGG"
   ]
  },
  {
   "cell_type": "markdown",
   "metadata": {},
   "source": [
    "`SELECT COALESCE(NULL, NULL, NULL, 'HELLO WORLD', NULL, 'Example.com');`"
   ]
  },
  {
   "cell_type": "markdown",
   "metadata": {},
   "source": [
    "### Splitting values"
   ]
  },
  {
   "cell_type": "markdown",
   "metadata": {},
   "source": [
    "```\n",
    "-- Assume you have the CTE\n",
    "WITH cte AS (\n",
    "    SELECT STRING_AGG(Country, ', ') AS ConcatenatedCountries\n",
    "    FROM Country_Medals\n",
    ")\n",
    "\n",
    "-- Use STRING_SPLIT with CROSS APPLY\n",
    "SELECT value AS Country\n",
    "FROM cte\n",
    "CROSS APPLY STRING_SPLIT(cte.ConcatenatedCountries, ', ');\n",
    "\n",
    "```"
   ]
  }
 ],
 "metadata": {
  "language_info": {
   "name": "python"
  }
 },
 "nbformat": 4,
 "nbformat_minor": 2
}
