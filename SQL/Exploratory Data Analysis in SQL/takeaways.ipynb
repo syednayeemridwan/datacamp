{
 "cells": [
  {
   "cell_type": "markdown",
   "metadata": {},
   "source": [
    "# Chapter 1"
   ]
  },
  {
   "cell_type": "markdown",
   "metadata": {},
   "source": [
    "- Coalesce : ` SELECT COALESCE(column_1, column_2) FROM table_name`\n",
    "- Casting : `SELECT CAST (3.7 AS integer);`"
   ]
  },
  {
   "cell_type": "markdown",
   "metadata": {},
   "source": []
  }
 ],
 "metadata": {
  "language_info": {
   "name": "python"
  }
 },
 "nbformat": 4,
 "nbformat_minor": 2
}
