{
 "cells": [
  {
   "cell_type": "markdown",
   "metadata": {},
   "source": [
    "# Chapter 1"
   ]
  },
  {
   "cell_type": "markdown",
   "metadata": {},
   "source": [
    "- Coalesce : ` SELECT COALESCE(column_1, column_2) FROM table_name`\n",
    "- Casting : `SELECT CAST (3.7 AS integer);`"
   ]
  },
  {
   "cell_type": "markdown",
   "metadata": {},
   "source": [
    "# Chapter 2"
   ]
  },
  {
   "cell_type": "markdown",
   "metadata": {},
   "source": [
    "- variace : `SELECT variance(col_name) FROM table_name;`\n",
    "- population variace : `SELECT var_pop(col_name) FROM table_name;`\n",
    "- sample variace : `SELECT var_samp(col_name) FROM table_name;`\n",
    "- standard deviation : `SELECT stddev(col_name) FROM table_name;`\n",
    "- population standard deviation : `SELECT stddev_pop(col_name) FROM table_name;`\n",
    "- sample standard deviation : `SELECT stddev_samp(col_name) FROM table_name;`\n",
    "- truncate : `SELECT trunc(42.1256, 2);` (42.12)\n",
    "- series : `SELECT generate_series(1, 10, 2);` (1,3 ... , 9)\n",
    "- correlation : `SELECT corr(assets, equity) FROM fortune500;`\n",
    "- continuous percentile : `SELECT percentile_cont(0.5) WITHIN GROUP (ORDER BY col_name) FROM table_name;`\n",
    "- discrete percentile : `SELECT percentile_disc(0.5) WITHIN GROUP (ORDER BY col_name) FROM table_name;`\n"
   ]
  },
  {
   "cell_type": "markdown",
   "metadata": {},
   "source": [
    "### Binning"
   ]
  },
  {
   "cell_type": "markdown",
   "metadata": {},
   "source": [
    "```\n",
    "-- Create bins\n",
    "WITH bins AS\n",
    "    ( SELECT generate_series(30 , 60 , 5) AS lower, \n",
    "    generate_series(35 , 65, 5) AS upper),\n",
    "-- Subset data to tag of interest\n",
    "ebs AS \n",
    "    ( SELECT unanswered_count FROM stackoverflow \n",
    "    WHERE tag = 'amazon-ebs')\n",
    "-- Count values in each bin\n",
    "SELECT lower, upper, count(unanswered_count)\n",
    "-- left join keeps all bins\n",
    "FROM bins\n",
    "LEFT JOIN ebs\n",
    "ON unanswered_count >= lower AND unanswered_count < upper \n",
    "-- Group by bin bounds to create the groups\n",
    "GROUP BY lower, upper\n",
    "ORDER BY lower;\n",
    "``` "
   ]
  },
  {
   "cell_type": "markdown",
   "metadata": {},
   "source": [
    "# Temporary table"
   ]
  },
  {
   "cell_type": "markdown",
   "metadata": {},
   "source": [
    "```\n",
    "-- Query results to store in the temporary table\n",
    "CREATE TEMP TABLE temp_table AS\n",
    "SELECT column1, column2\n",
    "FROM table_name;\n",
    "\n",
    "-- Insert values in temporary table from another table\n",
    "INSERT INTO temp_table\n",
    "SELECT column1, column2\n",
    "FROM another_table\n",
    "\n",
    "-- Delete temporary table\n",
    "DROP TABLE IF EXISTS temp_table;\n",
    "```"
   ]
  }
 ],
 "metadata": {
  "language_info": {
   "name": "python"
  }
 },
 "nbformat": 4,
 "nbformat_minor": 2
}
