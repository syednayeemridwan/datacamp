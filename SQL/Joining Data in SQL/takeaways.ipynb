{
 "cells": [
  {
   "cell_type": "markdown",
   "metadata": {},
   "source": [
    "# Chapter 1"
   ]
  },
  {
   "cell_type": "markdown",
   "metadata": {},
   "source": [
    "### INNER JOIN"
   ]
  },
  {
   "cell_type": "markdown",
   "metadata": {},
   "source": [
    "<center><img src=\"images/01.01.png\"  style=\"width: 400px, height: 300px;\"/></center>\n",
    "<center><img src=\"images/01.03.png\"  style=\"width: 400px, height: 300px;\"/></center>\n",
    "<center><img src=\"images/01.02.png\"  style=\"width: 400px, height: 300px;\"/></center>\n",
    "<center><img src=\"images/01.04.png\"  style=\"width: 400px, height: 300px;\"/></center>"
   ]
  },
  {
   "cell_type": "markdown",
   "metadata": {},
   "source": [
    "```\n",
    "SELECT left.colx, right.coly, another.colz\n",
    "FROM left_table as left\n",
    "INNER JOIN right_table as right -- First inner join\n",
    "ON left.common_col = right.common_col\n",
    "INNER JOIN another_table as another -- Second chaining inner join\n",
    "ON right.colz = another.colz AND right.coly = another.coly -- multiple column matching condition\n",
    "WHERE left.colx = 'val'\n",
    "```"
   ]
  },
  {
   "cell_type": "markdown",
   "metadata": {},
   "source": [
    "### Relationships"
   ]
  },
  {
   "cell_type": "markdown",
   "metadata": {},
   "source": [
    "<center><img src=\"images/01.05.png\"  style=\"width: 400px, height: 300px;\"/></center>\n",
    "<center><img src=\"images/01.06.png\"  style=\"width: 400px, height: 300px;\"/></center>\n",
    "<center><img src=\"images/01.07.png\"  style=\"width: 400px, height: 300px;\"/></center>\n"
   ]
  },
  {
   "cell_type": "markdown",
   "metadata": {},
   "source": [
    "# Chapter 2"
   ]
  },
  {
   "cell_type": "markdown",
   "metadata": {},
   "source": [
    "### Outer Joins : Left, Right, Outer JOIN"
   ]
  },
  {
   "cell_type": "markdown",
   "metadata": {},
   "source": [
    "<center><img src=\"images/02.01.png\"  style=\"width: 400px, height: 300px;\"/></center>\n",
    "<center><img src=\"images/02.02.png\"  style=\"width: 400px, height: 300px;\"/></center>\n",
    "<center><img src=\"images/02.03.png\"  style=\"width: 400px, height: 300px;\"/></center>\n"
   ]
  },
  {
   "cell_type": "markdown",
   "metadata": {},
   "source": [
    "### Cross Join : All possible combinations\n"
   ]
  },
  {
   "cell_type": "markdown",
   "metadata": {},
   "source": [
    "<center><img src=\"images/02.04.png\"  style=\"width: 400px, height: 300px;\"/></center>\n"
   ]
  },
  {
   "cell_type": "markdown",
   "metadata": {},
   "source": [
    "# Summary"
   ]
  },
  {
   "cell_type": "markdown",
   "metadata": {},
   "source": [
    "- Left Join : Keep everything from Left table, keep the value from right table if matches, otherwise null\n",
    "- Right Join : Keep everything from Right table, keep the value from left table if matches, otherwise null\n",
    "- Full Join : Keep everything from both left and right tables, if values do not matche, make them null (Union of Left and Right join)\n",
    "- Cross Join : All possible combination between left and right table\n",
    "- Self Join : Make the same table appear as both left table and right table and then perform INNER JOIN on it using aliases (Remember to remove duplicate entries with `AND` after `ON` eg : `ON ... AND left.userID <> right.userID` )"
   ]
  },
  {
   "cell_type": "markdown",
   "metadata": {},
   "source": [
    "```\n",
    "-- TYPE can be INNER, FULL, LEFT, RIGHT, CROSS\n",
    "SELECT left.colx, right.coly, another.colz\n",
    "FROM left_table as left\n",
    "<TYPE> JOIN right_table as right -- First inner join\n",
    "ON left.common_col = right.common_col\n",
    "<TYPE> JOIN another_table as another -- Second chaining inner join\n",
    "ON right.colz = another.colz AND right.coly = another.coly -- multiple column matching condition\n",
    "WHERE left.colx = 'val'\n",
    "```"
   ]
  }
 ],
 "metadata": {
  "language_info": {
   "name": "python"
  }
 },
 "nbformat": 4,
 "nbformat_minor": 2
}
