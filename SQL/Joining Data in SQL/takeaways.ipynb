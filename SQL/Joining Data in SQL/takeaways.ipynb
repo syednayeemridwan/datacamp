{
 "cells": [
  {
   "cell_type": "markdown",
   "metadata": {},
   "source": [
    "# Chapter 1"
   ]
  },
  {
   "cell_type": "markdown",
   "metadata": {},
   "source": [
    "### INNER JOIN"
   ]
  },
  {
   "cell_type": "markdown",
   "metadata": {},
   "source": [
    "<center><img src=\"images/01.01.png\"  style=\"width: 400px, height: 300px;\"/></center>\n",
    "<center><img src=\"images/01.03.png\"  style=\"width: 400px, height: 300px;\"/></center>\n",
    "<center><img src=\"images/01.02.png\"  style=\"width: 400px, height: 300px;\"/></center>\n",
    "<center><img src=\"images/01.04.png\"  style=\"width: 400px, height: 300px;\"/></center>"
   ]
  },
  {
   "cell_type": "markdown",
   "metadata": {},
   "source": [
    "```\n",
    "SELECT left.colx, right.coly, another.colz\n",
    "FROM left_table as left\n",
    "INNER JOIN right_table as right -- First inner join\n",
    "ON left.common_col = right.common_col\n",
    "INNER JOIN another_table as another -- Second chaining inner join\n",
    "ON right.colz = another.colz AND right.coly = another.coly -- multiple column matching condition\n",
    "WHERE left.colx = 'val'\n",
    "```"
   ]
  },
  {
   "cell_type": "markdown",
   "metadata": {},
   "source": [
    "### Relationships"
   ]
  },
  {
   "cell_type": "markdown",
   "metadata": {},
   "source": [
    "<center><img src=\"images/01.05.png\"  style=\"width: 400px, height: 300px;\"/></center>\n",
    "<center><img src=\"images/01.06.png\"  style=\"width: 400px, height: 300px;\"/></center>\n",
    "<center><img src=\"images/01.07.png\"  style=\"width: 400px, height: 300px;\"/></center>\n"
   ]
  },
  {
   "cell_type": "markdown",
   "metadata": {},
   "source": [
    "# Chapter 2"
   ]
  },
  {
   "cell_type": "markdown",
   "metadata": {},
   "source": [
    "### LEFT OUTER JOIN"
   ]
  },
  {
   "cell_type": "markdown",
   "metadata": {},
   "source": [
    "<center><img src=\"images/02.01.png\"  style=\"width: 400px, height: 300px;\"/></center>\n"
   ]
  },
  {
   "cell_type": "markdown",
   "metadata": {},
   "source": [
    "### RIGHT OUTER JOIN\n"
   ]
  },
  {
   "cell_type": "markdown",
   "metadata": {},
   "source": [
    "<center><img src=\"images/02.02.png\"  style=\"width: 400px, height: 300px;\"/></center>\n"
   ]
  },
  {
   "cell_type": "markdown",
   "metadata": {},
   "source": [
    "### FULL OUTER JOIN\n"
   ]
  },
  {
   "cell_type": "markdown",
   "metadata": {},
   "source": [
    "<center><img src=\"images/02.03.png\"  style=\"width: 400px, height: 300px;\"/></center>\n"
   ]
  },
  {
   "cell_type": "markdown",
   "metadata": {},
   "source": [
    "### CROSS JOIN\n"
   ]
  },
  {
   "cell_type": "markdown",
   "metadata": {},
   "source": [
    "<center><img src=\"images/02.04.png\"  style=\"width: 400px, height: 300px;\"/></center>\n"
   ]
  },
  {
   "cell_type": "markdown",
   "metadata": {},
   "source": [
    "# Chapter 3"
   ]
  },
  {
   "cell_type": "markdown",
   "metadata": {},
   "source": [
    "### SET operations"
   ]
  },
  {
   "cell_type": "markdown",
   "metadata": {},
   "source": [
    "<center><img src=\"images/03.01.png\"  style=\"width: 400px, height: 300px;\"/></center>\n"
   ]
  },
  {
   "cell_type": "markdown",
   "metadata": {},
   "source": [
    "### UNION"
   ]
  },
  {
   "cell_type": "markdown",
   "metadata": {},
   "source": [
    "<center><img src=\"images/03.02.png\"  style=\"width: 400px, height: 300px;\"/></center>\n",
    "<center><img src=\"images/03.03.png\"  style=\"width: 400px, height: 300px;\"/></center>\n"
   ]
  },
  {
   "cell_type": "markdown",
   "metadata": {},
   "source": [
    "### UNION ALL"
   ]
  },
  {
   "cell_type": "markdown",
   "metadata": {},
   "source": [
    "<center><img src=\"images/03.04.png\"  style=\"width: 400px, height: 300px;\"/></center>\n"
   ]
  },
  {
   "cell_type": "markdown",
   "metadata": {},
   "source": [
    "### INTERSECT"
   ]
  },
  {
   "cell_type": "markdown",
   "metadata": {},
   "source": [
    "<center><img src=\"images/03.05.png\"  style=\"width: 400px, height: 300px;\"/></center>\n"
   ]
  },
  {
   "cell_type": "markdown",
   "metadata": {},
   "source": [
    "### EXCEPT"
   ]
  },
  {
   "cell_type": "markdown",
   "metadata": {},
   "source": [
    "<center><img src=\"images/03.06.png\"  style=\"width: 400px, height: 300px;\"/></center>\n"
   ]
  },
  {
   "cell_type": "markdown",
   "metadata": {},
   "source": [
    "# Chapter 4"
   ]
  },
  {
   "cell_type": "markdown",
   "metadata": {},
   "source": [
    "### Semi Join"
   ]
  },
  {
   "cell_type": "markdown",
   "metadata": {},
   "source": [
    "<center><img src=\"images/04.01.png\"  style=\"width: 400px, height: 300px;\"/></center>"
   ]
  },
  {
   "cell_type": "markdown",
   "metadata": {},
   "source": [
    "### Anti Join\n"
   ]
  },
  {
   "cell_type": "markdown",
   "metadata": {},
   "source": [
    "<center><img src=\"images/04.02.png\"  style=\"width: 400px, height: 300px;\"/></center>\n"
   ]
  },
  {
   "cell_type": "markdown",
   "metadata": {},
   "source": [
    "### Subqueries"
   ]
  },
  {
   "cell_type": "markdown",
   "metadata": {},
   "source": [
    "```\n",
    "-- Simple query with two tables\n",
    "SELECT left_table.colx, right_table.coly\n",
    "FROM left_table, right_table\n",
    "WHERE left_table.common_col = right_table.common_col\n",
    "\n",
    "-- Subquery inside FROM (turning a query into virtual table using alias, evolving from the previous query)\n",
    "SELECT left_table.colx, right_table.coly\n",
    "FROM left_table,\n",
    "    (SELECT coly, colz, common_col          -- subquery start\n",
    "    FROM another_table) AS right_table      -- subquery end\n",
    "WHERE left_table.common_col = right_table.common_col\n",
    "ORDER BY continent;\n",
    "\n",
    "\n",
    "-- Subquery inside WHERE (You use it in Semi join / Anti Join)\n",
    "SELECT left_table.*\n",
    "FROM left_table\n",
    "WHERE left_table.some_col <NOT> IN  -- Using \"NOT\" will result in Anti join\n",
    "        (                           -- subquery start\n",
    "            SELECT another_col      \n",
    "            FROM right_table\n",
    "        );                          -- subquery end\n",
    "\n",
    "-- Subquery inside SELECT\n",
    "SELECT\n",
    "    outer_table.id,\n",
    "    (SELECT COUNT(*) FROM inner_table WHERE outer_table.id = inner_table.id) AS new_col_1,              -- subquery 1\n",
    "    (SELECT AVG(some_column) FROM inner_table WHERE outer_table.id = inner_table.id) AS new_col_2,      -- subquery 2\n",
    "    (SELECT MAX(another_column) FROM inner_table WHERE outer_table.id = inner_table.id) AS new_col_3    -- subquery 3\n",
    "FROM\n",
    "    outer_table;\n",
    "\n",
    "-- Using the WITH keyword (creating multiple virtual tables)\n",
    "WITH\n",
    "result_table1 AS (\n",
    "    SELECT col1, col2 FROM t1),             -- subquery 1\n",
    "result_table2 AS (\n",
    "    SELECT colx, coly FROM t2)              -- subquery 2\n",
    "SELECT * FROM result_table1, result_table2\n",
    "WHERE result_table1.col1 <= result_table2.col2\n",
    "```"
   ]
  },
  {
   "cell_type": "markdown",
   "metadata": {},
   "source": [
    "# Summary"
   ]
  },
  {
   "cell_type": "markdown",
   "metadata": {},
   "source": [
    "- `JOIN` Operations: stacks tables horizontally (number of columns increase)\n",
    "    - `LEFT JOIN` : Keep everything from Left table, keep the value from right table if matches, otherwise null\n",
    "    - `RIGHT JOIN` : Keep everything from Right table, keep the value from left table if matches, otherwise null\n",
    "    - `FULL JOIN` : Keep everything from both left and right tables, if values do not matche, make them null (Union of Left and Right join)\n",
    "    - `CROSS JOIN` : All possible combination between left and right table\n",
    "    - Self Join : Make the same table appear as both left table and right table and then perform INNER JOIN on it using aliases (Remember to remove duplicate entries with `AND` after `ON` eg : `ON ... AND left.userID <> right.userID` )\n",
    "    - Semi (LEFT) JOIN : Returns all rows from LEFT table if the values of common column in left table matches the list of values of a column in right table\n",
    "    - Anti (LEFT) JOIN : Returns all rows from LEFT table if the values of common column in left table matches the list of values of a column in right table\n",
    "- `SET` Operations : stacks tables vertically (number of rows increase)\n",
    "    - `UNION` : All Results are returned without duplicates\n",
    "    - `UNION ALL` : All Results are returned with duplicates\n",
    "    - `INTERSECT` : Only results where both fields match are returned \n",
    "    - `EXCEPT` : Only records from one table that is not present in other table"
   ]
  },
  {
   "cell_type": "markdown",
   "metadata": {},
   "source": [
    "```\n",
    "-- TYPE can be INNER, FULL, LEFT, RIGHT, CROSS (Addittive joins)\n",
    "SELECT left.colx, right.coly, another.colz\n",
    "FROM left_table as left\n",
    "<TYPE> JOIN right_table as right -- First join\n",
    "ON left.common_col = right.common_col\n",
    "<TYPE> JOIN another_table as another -- Second chaining join\n",
    "ON right.colz = another.colz AND right.coly = another.coly -- multiple column matching condition\n",
    "WHERE left.colx = 'val'\n",
    "\n",
    "-- Semi Join\n",
    "SELECT left_table.*\n",
    "FROM left_table\n",
    "WHERE left_table.some_col IN (  -- subquery start\n",
    "    SELECT another_col\n",
    "    FROM right_table);  -- subquery end\n",
    "\n",
    "-- Anti Join (Inverse of Semi join, add a NOT keyword)\n",
    "SELECT left_table.*\n",
    "FROM left_table\n",
    "WHERE left_table.some_col NOT IN ( -- subquery start\n",
    "    SELECT another_col\n",
    "    FROM right_table ); -- subquery end\n",
    "\n",
    "```"
   ]
  },
  {
   "cell_type": "markdown",
   "metadata": {},
   "source": [
    "### Set Operations"
   ]
  },
  {
   "cell_type": "markdown",
   "metadata": {},
   "source": [
    "```\n",
    "-- <OPERATION> can be replaced with following keywords:\n",
    "-- UNION : all values without duplicates\n",
    "--  UNION ALL : all values including duplicates\n",
    "-- INTERSECT: all common values\n",
    "- EXCEPT : values that exist in the first entry table only and does not exist in the second entry table\n",
    "SELECT id, name FROM table1\n",
    "<OPERATION>\n",
    "SELECT id, name FROM table2;\n",
    "```"
   ]
  }
 ],
 "metadata": {
  "language_info": {
   "name": "python"
  }
 },
 "nbformat": 4,
 "nbformat_minor": 2
}
