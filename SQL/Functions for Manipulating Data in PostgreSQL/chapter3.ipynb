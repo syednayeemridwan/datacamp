{
 "cells": [
  {
   "cell_type": "code",
   "execution_count": 1,
   "metadata": {},
   "outputs": [],
   "source": [
    "import pandas as pd\n",
    "import psycopg2\n",
    "\n",
    "def execute_query(sql_query, dbname='sakila', user='postgres', password='postgres', port='5432'):\n",
    "    # Create a connection to the PostgreSQL database\n",
    "    conn = psycopg2.connect(dbname=dbname, user=user, password=password, port=port)\n",
    "\n",
    "    # Use read_sql to execute the query and load the results into a DataFrame\n",
    "    df = pd.read_sql(sql_query, conn)\n",
    "\n",
    "    # Close the database connection\n",
    "    conn.close()\n",
    "\n",
    "    # Return the DataFrame\n",
    "    return df\n",
    "\n"
   ]
  },
  {
   "cell_type": "markdown",
   "metadata": {},
   "source": [
    "# Concatenating strings"
   ]
  },
  {
   "cell_type": "markdown",
   "metadata": {},
   "source": [
    "In this exercise and the ones that follow, we are going to derive new fields from columns within the customer and film tables of the DVD rental database."
   ]
  },
  {
   "cell_type": "code",
   "execution_count": 2,
   "metadata": {},
   "outputs": [
    {
     "data": {
      "text/html": [
       "<div>\n",
       "<style scoped>\n",
       "    .dataframe tbody tr th:only-of-type {\n",
       "        vertical-align: middle;\n",
       "    }\n",
       "\n",
       "    .dataframe tbody tr th {\n",
       "        vertical-align: top;\n",
       "    }\n",
       "\n",
       "    .dataframe thead th {\n",
       "        text-align: right;\n",
       "    }\n",
       "</style>\n",
       "<table border=\"1\" class=\"dataframe\">\n",
       "  <thead>\n",
       "    <tr style=\"text-align: right;\">\n",
       "      <th></th>\n",
       "      <th>full_email</th>\n",
       "    </tr>\n",
       "  </thead>\n",
       "  <tbody>\n",
       "    <tr>\n",
       "      <th>0</th>\n",
       "      <td>MARY SMITH &lt;MARY.SMITH@sakilacustomer.org&gt;</td>\n",
       "    </tr>\n",
       "    <tr>\n",
       "      <th>1</th>\n",
       "      <td>PATRICIA JOHNSON &lt;PATRICIA.JOHNSON@sakilacusto...</td>\n",
       "    </tr>\n",
       "    <tr>\n",
       "      <th>2</th>\n",
       "      <td>LINDA WILLIAMS &lt;LINDA.WILLIAMS@sakilacustomer....</td>\n",
       "    </tr>\n",
       "    <tr>\n",
       "      <th>3</th>\n",
       "      <td>BARBARA JONES &lt;BARBARA.JONES@sakilacustomer.org&gt;</td>\n",
       "    </tr>\n",
       "    <tr>\n",
       "      <th>4</th>\n",
       "      <td>ELIZABETH BROWN &lt;ELIZABETH.BROWN@sakilacustome...</td>\n",
       "    </tr>\n",
       "  </tbody>\n",
       "</table>\n",
       "</div>"
      ],
      "text/plain": [
       "                                          full_email\n",
       "0         MARY SMITH <MARY.SMITH@sakilacustomer.org>\n",
       "1  PATRICIA JOHNSON <PATRICIA.JOHNSON@sakilacusto...\n",
       "2  LINDA WILLIAMS <LINDA.WILLIAMS@sakilacustomer....\n",
       "3   BARBARA JONES <BARBARA.JONES@sakilacustomer.org>\n",
       "4  ELIZABETH BROWN <ELIZABETH.BROWN@sakilacustome..."
      ]
     },
     "execution_count": 2,
     "metadata": {},
     "output_type": "execute_result"
    }
   ],
   "source": [
    "query_result = execute_query(\n",
    "    \"\"\"\n",
    "-- Concatenate the first_name and last_name and email \n",
    "SELECT first_name || ' ' || last_name || ' <' || email || '>' AS full_email \n",
    "FROM customer\n",
    "    \"\"\")\n",
    "query_result.head()"
   ]
  },
  {
   "cell_type": "code",
   "execution_count": 3,
   "metadata": {},
   "outputs": [
    {
     "data": {
      "text/html": [
       "<div>\n",
       "<style scoped>\n",
       "    .dataframe tbody tr th:only-of-type {\n",
       "        vertical-align: middle;\n",
       "    }\n",
       "\n",
       "    .dataframe tbody tr th {\n",
       "        vertical-align: top;\n",
       "    }\n",
       "\n",
       "    .dataframe thead th {\n",
       "        text-align: right;\n",
       "    }\n",
       "</style>\n",
       "<table border=\"1\" class=\"dataframe\">\n",
       "  <thead>\n",
       "    <tr style=\"text-align: right;\">\n",
       "      <th></th>\n",
       "      <th>full_email</th>\n",
       "    </tr>\n",
       "  </thead>\n",
       "  <tbody>\n",
       "    <tr>\n",
       "      <th>0</th>\n",
       "      <td>MARY SMITH &lt;MARY.SMITH@sakilacustomer.org&gt;</td>\n",
       "    </tr>\n",
       "    <tr>\n",
       "      <th>1</th>\n",
       "      <td>PATRICIA JOHNSON &lt;PATRICIA.JOHNSON@sakilacusto...</td>\n",
       "    </tr>\n",
       "    <tr>\n",
       "      <th>2</th>\n",
       "      <td>LINDA WILLIAMS &lt;LINDA.WILLIAMS@sakilacustomer....</td>\n",
       "    </tr>\n",
       "    <tr>\n",
       "      <th>3</th>\n",
       "      <td>BARBARA JONES &lt;BARBARA.JONES@sakilacustomer.org&gt;</td>\n",
       "    </tr>\n",
       "    <tr>\n",
       "      <th>4</th>\n",
       "      <td>ELIZABETH BROWN &lt;ELIZABETH.BROWN@sakilacustome...</td>\n",
       "    </tr>\n",
       "  </tbody>\n",
       "</table>\n",
       "</div>"
      ],
      "text/plain": [
       "                                          full_email\n",
       "0         MARY SMITH <MARY.SMITH@sakilacustomer.org>\n",
       "1  PATRICIA JOHNSON <PATRICIA.JOHNSON@sakilacusto...\n",
       "2  LINDA WILLIAMS <LINDA.WILLIAMS@sakilacustomer....\n",
       "3   BARBARA JONES <BARBARA.JONES@sakilacustomer.org>\n",
       "4  ELIZABETH BROWN <ELIZABETH.BROWN@sakilacustome..."
      ]
     },
     "execution_count": 3,
     "metadata": {},
     "output_type": "execute_result"
    }
   ],
   "source": [
    "query_result = execute_query(\n",
    "    \"\"\"\n",
    "-- Concatenate the first_name and last_name and email\n",
    "SELECT CONCAT(first_name, ' ', last_name,  ' <', email, '>') AS full_email \n",
    "FROM customer\n",
    "    \"\"\")\n",
    "query_result.head()"
   ]
  },
  {
   "cell_type": "markdown",
   "metadata": {},
   "source": [
    "# Changing the case of string data"
   ]
  },
  {
   "cell_type": "markdown",
   "metadata": {},
   "source": [
    "Now you are going to use the film and category tables to create a new field called film_category by concatenating the category name with the film's title. You will also format the result using some sql functions."
   ]
  },
  {
   "cell_type": "code",
   "execution_count": 4,
   "metadata": {},
   "outputs": [
    {
     "data": {
      "text/html": [
       "<div>\n",
       "<style scoped>\n",
       "    .dataframe tbody tr th:only-of-type {\n",
       "        vertical-align: middle;\n",
       "    }\n",
       "\n",
       "    .dataframe tbody tr th {\n",
       "        vertical-align: top;\n",
       "    }\n",
       "\n",
       "    .dataframe thead th {\n",
       "        text-align: right;\n",
       "    }\n",
       "</style>\n",
       "<table border=\"1\" class=\"dataframe\">\n",
       "  <thead>\n",
       "    <tr style=\"text-align: right;\">\n",
       "      <th></th>\n",
       "      <th>film_category</th>\n",
       "      <th>description</th>\n",
       "    </tr>\n",
       "  </thead>\n",
       "  <tbody>\n",
       "    <tr>\n",
       "      <th>0</th>\n",
       "      <td>DOCUMENTARY: Academy Dinosaur</td>\n",
       "      <td>a epic drama of a feminist and a mad scientist...</td>\n",
       "    </tr>\n",
       "    <tr>\n",
       "      <th>1</th>\n",
       "      <td>HORROR: Ace Goldfinger</td>\n",
       "      <td>a astounding epistle of a database administrat...</td>\n",
       "    </tr>\n",
       "    <tr>\n",
       "      <th>2</th>\n",
       "      <td>DOCUMENTARY: Adaptation Holes</td>\n",
       "      <td>a astounding reflection of a lumberjack and a ...</td>\n",
       "    </tr>\n",
       "    <tr>\n",
       "      <th>3</th>\n",
       "      <td>HORROR: Affair Prejudice</td>\n",
       "      <td>a fanciful documentary of a frisbee and a lumb...</td>\n",
       "    </tr>\n",
       "    <tr>\n",
       "      <th>4</th>\n",
       "      <td>FAMILY: African Egg</td>\n",
       "      <td>a fast-paced documentary of a pastry chef and ...</td>\n",
       "    </tr>\n",
       "  </tbody>\n",
       "</table>\n",
       "</div>"
      ],
      "text/plain": [
       "                   film_category  \\\n",
       "0  DOCUMENTARY: Academy Dinosaur   \n",
       "1         HORROR: Ace Goldfinger   \n",
       "2  DOCUMENTARY: Adaptation Holes   \n",
       "3       HORROR: Affair Prejudice   \n",
       "4            FAMILY: African Egg   \n",
       "\n",
       "                                         description  \n",
       "0  a epic drama of a feminist and a mad scientist...  \n",
       "1  a astounding epistle of a database administrat...  \n",
       "2  a astounding reflection of a lumberjack and a ...  \n",
       "3  a fanciful documentary of a frisbee and a lumb...  \n",
       "4  a fast-paced documentary of a pastry chef and ...  "
      ]
     },
     "execution_count": 4,
     "metadata": {},
     "output_type": "execute_result"
    }
   ],
   "source": [
    "query_result = execute_query(\n",
    "    \"\"\"\n",
    "SELECT \n",
    "  -- Concatenate the category name to coverted to uppercase\n",
    "  -- to the film title converted to title case\n",
    "  UPPER(name)  || ': ' || INITCAP(title) AS film_category, \n",
    "  -- Convert the description column to lowercase\n",
    "  LOWER(description) AS description\n",
    "FROM \n",
    "  film AS f \n",
    "  INNER JOIN film_category AS fc \n",
    "  \tON f.film_id = fc.film_id \n",
    "  INNER JOIN category AS c \n",
    "  \tON fc.category_id = c.category_id;\n",
    "    \"\"\")\n",
    "query_result.head()"
   ]
  },
  {
   "cell_type": "markdown",
   "metadata": {},
   "source": [
    "# Replacing string data"
   ]
  },
  {
   "cell_type": "markdown",
   "metadata": {},
   "source": [
    "Sometimes you will need to make sure that the data you are extracting does not contain any whitespace. There are many different approaches you can take to cleanse and prepare your data for these situations. A common technique is to replace any whitespace with an underscore."
   ]
  },
  {
   "cell_type": "code",
   "execution_count": 5,
   "metadata": {},
   "outputs": [
    {
     "data": {
      "text/html": [
       "<div>\n",
       "<style scoped>\n",
       "    .dataframe tbody tr th:only-of-type {\n",
       "        vertical-align: middle;\n",
       "    }\n",
       "\n",
       "    .dataframe tbody tr th {\n",
       "        vertical-align: top;\n",
       "    }\n",
       "\n",
       "    .dataframe thead th {\n",
       "        text-align: right;\n",
       "    }\n",
       "</style>\n",
       "<table border=\"1\" class=\"dataframe\">\n",
       "  <thead>\n",
       "    <tr style=\"text-align: right;\">\n",
       "      <th></th>\n",
       "      <th>title</th>\n",
       "    </tr>\n",
       "  </thead>\n",
       "  <tbody>\n",
       "    <tr>\n",
       "      <th>0</th>\n",
       "      <td>ACADEMY_DINOSAUR</td>\n",
       "    </tr>\n",
       "    <tr>\n",
       "      <th>1</th>\n",
       "      <td>ACE_GOLDFINGER</td>\n",
       "    </tr>\n",
       "    <tr>\n",
       "      <th>2</th>\n",
       "      <td>ADAPTATION_HOLES</td>\n",
       "    </tr>\n",
       "    <tr>\n",
       "      <th>3</th>\n",
       "      <td>AFFAIR_PREJUDICE</td>\n",
       "    </tr>\n",
       "    <tr>\n",
       "      <th>4</th>\n",
       "      <td>AFRICAN_EGG</td>\n",
       "    </tr>\n",
       "  </tbody>\n",
       "</table>\n",
       "</div>"
      ],
      "text/plain": [
       "              title\n",
       "0  ACADEMY_DINOSAUR\n",
       "1    ACE_GOLDFINGER\n",
       "2  ADAPTATION_HOLES\n",
       "3  AFFAIR_PREJUDICE\n",
       "4       AFRICAN_EGG"
      ]
     },
     "execution_count": 5,
     "metadata": {},
     "output_type": "execute_result"
    }
   ],
   "source": [
    "query_result = execute_query(\n",
    "    \"\"\"\n",
    "SELECT \n",
    "  -- Replace whitespace in the film title with an underscore\n",
    "  REPLACE(title, ' ', '_') AS title\n",
    "FROM film; \n",
    "    \"\"\")\n",
    "query_result.head()"
   ]
  },
  {
   "cell_type": "markdown",
   "metadata": {},
   "source": [
    "# Determining the length of strings"
   ]
  },
  {
   "cell_type": "markdown",
   "metadata": {},
   "source": [
    "Determining the number of characters in a string is something that you will use frequently when working with data in a SQL database. Many situations will require you to find the length of a string stored in your database. "
   ]
  },
  {
   "cell_type": "code",
   "execution_count": 6,
   "metadata": {},
   "outputs": [
    {
     "data": {
      "text/html": [
       "<div>\n",
       "<style scoped>\n",
       "    .dataframe tbody tr th:only-of-type {\n",
       "        vertical-align: middle;\n",
       "    }\n",
       "\n",
       "    .dataframe tbody tr th {\n",
       "        vertical-align: top;\n",
       "    }\n",
       "\n",
       "    .dataframe thead th {\n",
       "        text-align: right;\n",
       "    }\n",
       "</style>\n",
       "<table border=\"1\" class=\"dataframe\">\n",
       "  <thead>\n",
       "    <tr style=\"text-align: right;\">\n",
       "      <th></th>\n",
       "      <th>title</th>\n",
       "      <th>description</th>\n",
       "      <th>desc_len</th>\n",
       "    </tr>\n",
       "  </thead>\n",
       "  <tbody>\n",
       "    <tr>\n",
       "      <th>0</th>\n",
       "      <td>ACADEMY DINOSAUR</td>\n",
       "      <td>A Epic Drama of a Feminist And a Mad Scientist...</td>\n",
       "      <td>96</td>\n",
       "    </tr>\n",
       "    <tr>\n",
       "      <th>1</th>\n",
       "      <td>ACE GOLDFINGER</td>\n",
       "      <td>A Astounding Epistle of a Database Administrat...</td>\n",
       "      <td>100</td>\n",
       "    </tr>\n",
       "    <tr>\n",
       "      <th>2</th>\n",
       "      <td>ADAPTATION HOLES</td>\n",
       "      <td>A Astounding Reflection of a Lumberjack And a ...</td>\n",
       "      <td>96</td>\n",
       "    </tr>\n",
       "    <tr>\n",
       "      <th>3</th>\n",
       "      <td>AFFAIR PREJUDICE</td>\n",
       "      <td>A Fanciful Documentary of a Frisbee And a Lumb...</td>\n",
       "      <td>92</td>\n",
       "    </tr>\n",
       "    <tr>\n",
       "      <th>4</th>\n",
       "      <td>AFRICAN EGG</td>\n",
       "      <td>A Fast-Paced Documentary of a Pastry Chef And ...</td>\n",
       "      <td>117</td>\n",
       "    </tr>\n",
       "  </tbody>\n",
       "</table>\n",
       "</div>"
      ],
      "text/plain": [
       "              title                                        description  \\\n",
       "0  ACADEMY DINOSAUR  A Epic Drama of a Feminist And a Mad Scientist...   \n",
       "1    ACE GOLDFINGER  A Astounding Epistle of a Database Administrat...   \n",
       "2  ADAPTATION HOLES  A Astounding Reflection of a Lumberjack And a ...   \n",
       "3  AFFAIR PREJUDICE  A Fanciful Documentary of a Frisbee And a Lumb...   \n",
       "4       AFRICAN EGG  A Fast-Paced Documentary of a Pastry Chef And ...   \n",
       "\n",
       "   desc_len  \n",
       "0        96  \n",
       "1       100  \n",
       "2        96  \n",
       "3        92  \n",
       "4       117  "
      ]
     },
     "execution_count": 6,
     "metadata": {},
     "output_type": "execute_result"
    }
   ],
   "source": [
    "query_result = execute_query(\n",
    "    \"\"\"\n",
    "SELECT \n",
    "  -- Select the title and description columns\n",
    "  title,\n",
    "  description,\n",
    "  -- Determine the length of the description column\n",
    "  LENGTH(description) AS desc_len\n",
    "FROM film;\n",
    "    \"\"\")\n",
    "query_result.head()"
   ]
  },
  {
   "cell_type": "markdown",
   "metadata": {},
   "source": [
    "# Truncating strings"
   ]
  },
  {
   "cell_type": "markdown",
   "metadata": {},
   "source": [
    "In the previous exercise, you calculated the length of the description column and noticed that the number of characters varied but most of the results were over 75 characters. There will be many times when you need to truncate a text column to a certain length to meet specific criteria for an application."
   ]
  },
  {
   "cell_type": "code",
   "execution_count": 7,
   "metadata": {},
   "outputs": [
    {
     "data": {
      "text/html": [
       "<div>\n",
       "<style scoped>\n",
       "    .dataframe tbody tr th:only-of-type {\n",
       "        vertical-align: middle;\n",
       "    }\n",
       "\n",
       "    .dataframe tbody tr th {\n",
       "        vertical-align: top;\n",
       "    }\n",
       "\n",
       "    .dataframe thead th {\n",
       "        text-align: right;\n",
       "    }\n",
       "</style>\n",
       "<table border=\"1\" class=\"dataframe\">\n",
       "  <thead>\n",
       "    <tr style=\"text-align: right;\">\n",
       "      <th></th>\n",
       "      <th>short_desc</th>\n",
       "    </tr>\n",
       "  </thead>\n",
       "  <tbody>\n",
       "    <tr>\n",
       "      <th>0</th>\n",
       "      <td>A Epic Drama of a Feminist And a Mad Scientist...</td>\n",
       "    </tr>\n",
       "    <tr>\n",
       "      <th>1</th>\n",
       "      <td>A Astounding Epistle of a Database Administrat...</td>\n",
       "    </tr>\n",
       "    <tr>\n",
       "      <th>2</th>\n",
       "      <td>A Astounding Reflection of a Lumberjack And a ...</td>\n",
       "    </tr>\n",
       "    <tr>\n",
       "      <th>3</th>\n",
       "      <td>A Fanciful Documentary of a Frisbee And a Lumb...</td>\n",
       "    </tr>\n",
       "    <tr>\n",
       "      <th>4</th>\n",
       "      <td>A Fast-Paced Documentary of a Pastry Chef And ...</td>\n",
       "    </tr>\n",
       "  </tbody>\n",
       "</table>\n",
       "</div>"
      ],
      "text/plain": [
       "                                          short_desc\n",
       "0  A Epic Drama of a Feminist And a Mad Scientist...\n",
       "1  A Astounding Epistle of a Database Administrat...\n",
       "2  A Astounding Reflection of a Lumberjack And a ...\n",
       "3  A Fanciful Documentary of a Frisbee And a Lumb...\n",
       "4  A Fast-Paced Documentary of a Pastry Chef And ..."
      ]
     },
     "execution_count": 7,
     "metadata": {},
     "output_type": "execute_result"
    }
   ],
   "source": [
    "query_result = execute_query(\n",
    "    \"\"\"\n",
    "SELECT \n",
    "  -- Select the first 50 characters of description\n",
    "  LEFT(description, 50) AS short_desc\n",
    "FROM \n",
    "  film AS f; \n",
    "    \"\"\")\n",
    "query_result.head()"
   ]
  },
  {
   "cell_type": "markdown",
   "metadata": {},
   "source": [
    "# Extracting substrings from text data"
   ]
  },
  {
   "cell_type": "markdown",
   "metadata": {},
   "source": [
    "In this exercise, you are going to practice how to extract substrings from text columns. ou'll use several functions that you've learned about in the video to manipulate the address column and return only the street address."
   ]
  },
  {
   "cell_type": "code",
   "execution_count": 8,
   "metadata": {},
   "outputs": [
    {
     "data": {
      "text/html": [
       "<div>\n",
       "<style scoped>\n",
       "    .dataframe tbody tr th:only-of-type {\n",
       "        vertical-align: middle;\n",
       "    }\n",
       "\n",
       "    .dataframe tbody tr th {\n",
       "        vertical-align: top;\n",
       "    }\n",
       "\n",
       "    .dataframe thead th {\n",
       "        text-align: right;\n",
       "    }\n",
       "</style>\n",
       "<table border=\"1\" class=\"dataframe\">\n",
       "  <thead>\n",
       "    <tr style=\"text-align: right;\">\n",
       "      <th></th>\n",
       "      <th>substring</th>\n",
       "    </tr>\n",
       "  </thead>\n",
       "  <tbody>\n",
       "    <tr>\n",
       "      <th>0</th>\n",
       "      <td>MySakila Drive</td>\n",
       "    </tr>\n",
       "    <tr>\n",
       "      <th>1</th>\n",
       "      <td>MySQL Boulevard</td>\n",
       "    </tr>\n",
       "    <tr>\n",
       "      <th>2</th>\n",
       "      <td>Workhaven Lane</td>\n",
       "    </tr>\n",
       "    <tr>\n",
       "      <th>3</th>\n",
       "      <td>Lillydale Drive</td>\n",
       "    </tr>\n",
       "    <tr>\n",
       "      <th>4</th>\n",
       "      <td>Hanoi Way</td>\n",
       "    </tr>\n",
       "  </tbody>\n",
       "</table>\n",
       "</div>"
      ],
      "text/plain": [
       "         substring\n",
       "0   MySakila Drive\n",
       "1  MySQL Boulevard\n",
       "2   Workhaven Lane\n",
       "3  Lillydale Drive\n",
       "4        Hanoi Way"
      ]
     },
     "execution_count": 8,
     "metadata": {},
     "output_type": "execute_result"
    }
   ],
   "source": [
    "query_result = execute_query(\n",
    "    \"\"\"\n",
    "SELECT \n",
    "  -- Select only the street name from the address table\n",
    "  SUBSTRING(address FROM POSITION(' ' IN address)+1 FOR LENGTH(address))\n",
    "FROM \n",
    "  address;\n",
    "    \"\"\")\n",
    "query_result.head()"
   ]
  },
  {
   "cell_type": "markdown",
   "metadata": {},
   "source": [
    "# Combining functions for string manipulation"
   ]
  },
  {
   "cell_type": "markdown",
   "metadata": {},
   "source": [
    "In the next example, we are going to break apart the email column from the customer table into three new derived fields. Parsing a single column into multiple columns can be useful when you need to work with certain subsets of data. "
   ]
  },
  {
   "cell_type": "code",
   "execution_count": 9,
   "metadata": {},
   "outputs": [
    {
     "data": {
      "text/html": [
       "<div>\n",
       "<style scoped>\n",
       "    .dataframe tbody tr th:only-of-type {\n",
       "        vertical-align: middle;\n",
       "    }\n",
       "\n",
       "    .dataframe tbody tr th {\n",
       "        vertical-align: top;\n",
       "    }\n",
       "\n",
       "    .dataframe thead th {\n",
       "        text-align: right;\n",
       "    }\n",
       "</style>\n",
       "<table border=\"1\" class=\"dataframe\">\n",
       "  <thead>\n",
       "    <tr style=\"text-align: right;\">\n",
       "      <th></th>\n",
       "      <th>username</th>\n",
       "      <th>domain</th>\n",
       "    </tr>\n",
       "  </thead>\n",
       "  <tbody>\n",
       "    <tr>\n",
       "      <th>0</th>\n",
       "      <td>MARY.SMITH</td>\n",
       "      <td>sakilacustomer.org</td>\n",
       "    </tr>\n",
       "    <tr>\n",
       "      <th>1</th>\n",
       "      <td>PATRICIA.JOHNSON</td>\n",
       "      <td>sakilacustomer.org</td>\n",
       "    </tr>\n",
       "    <tr>\n",
       "      <th>2</th>\n",
       "      <td>LINDA.WILLIAMS</td>\n",
       "      <td>sakilacustomer.org</td>\n",
       "    </tr>\n",
       "    <tr>\n",
       "      <th>3</th>\n",
       "      <td>BARBARA.JONES</td>\n",
       "      <td>sakilacustomer.org</td>\n",
       "    </tr>\n",
       "    <tr>\n",
       "      <th>4</th>\n",
       "      <td>ELIZABETH.BROWN</td>\n",
       "      <td>sakilacustomer.org</td>\n",
       "    </tr>\n",
       "  </tbody>\n",
       "</table>\n",
       "</div>"
      ],
      "text/plain": [
       "           username              domain\n",
       "0        MARY.SMITH  sakilacustomer.org\n",
       "1  PATRICIA.JOHNSON  sakilacustomer.org\n",
       "2    LINDA.WILLIAMS  sakilacustomer.org\n",
       "3     BARBARA.JONES  sakilacustomer.org\n",
       "4   ELIZABETH.BROWN  sakilacustomer.org"
      ]
     },
     "execution_count": 9,
     "metadata": {},
     "output_type": "execute_result"
    }
   ],
   "source": [
    "query_result = execute_query(\n",
    "    \"\"\"\n",
    "SELECT\n",
    "  -- Extract the characters to the left of the '@'\n",
    "  LEFT(email, POSITION('@' IN email)-1) AS username,\n",
    "  -- Extract the characters to the right of the '@'\n",
    "  SUBSTRING(email FROM POSITION('@' IN email)+1 FOR LENGTH(email)) AS domain\n",
    "FROM customer;\n",
    "    \"\"\")\n",
    "query_result.head()"
   ]
  },
  {
   "cell_type": "markdown",
   "metadata": {},
   "source": [
    "# Padding"
   ]
  },
  {
   "cell_type": "markdown",
   "metadata": {},
   "source": [
    "Padding strings is useful in many real-world situations. Earlier in this course, we learned about string concatenation and how to combine the customer's first and last name separated by a single blank space and also combined the customer's full name with their email address."
   ]
  },
  {
   "cell_type": "code",
   "execution_count": 10,
   "metadata": {},
   "outputs": [
    {
     "data": {
      "text/html": [
       "<div>\n",
       "<style scoped>\n",
       "    .dataframe tbody tr th:only-of-type {\n",
       "        vertical-align: middle;\n",
       "    }\n",
       "\n",
       "    .dataframe tbody tr th {\n",
       "        vertical-align: top;\n",
       "    }\n",
       "\n",
       "    .dataframe thead th {\n",
       "        text-align: right;\n",
       "    }\n",
       "</style>\n",
       "<table border=\"1\" class=\"dataframe\">\n",
       "  <thead>\n",
       "    <tr style=\"text-align: right;\">\n",
       "      <th></th>\n",
       "      <th>full_name</th>\n",
       "    </tr>\n",
       "  </thead>\n",
       "  <tbody>\n",
       "    <tr>\n",
       "      <th>0</th>\n",
       "      <td>MARY SMITH</td>\n",
       "    </tr>\n",
       "    <tr>\n",
       "      <th>1</th>\n",
       "      <td>PATRICIA JOHNSON</td>\n",
       "    </tr>\n",
       "    <tr>\n",
       "      <th>2</th>\n",
       "      <td>LINDA WILLIAMS</td>\n",
       "    </tr>\n",
       "    <tr>\n",
       "      <th>3</th>\n",
       "      <td>BARBARA JONES</td>\n",
       "    </tr>\n",
       "    <tr>\n",
       "      <th>4</th>\n",
       "      <td>ELIZABETH BROWN</td>\n",
       "    </tr>\n",
       "  </tbody>\n",
       "</table>\n",
       "</div>"
      ],
      "text/plain": [
       "          full_name\n",
       "0        MARY SMITH\n",
       "1  PATRICIA JOHNSON\n",
       "2    LINDA WILLIAMS\n",
       "3     BARBARA JONES\n",
       "4   ELIZABETH BROWN"
      ]
     },
     "execution_count": 10,
     "metadata": {},
     "output_type": "execute_result"
    }
   ],
   "source": [
    "query_result = execute_query(\n",
    "    \"\"\"\n",
    "-- Concatenate the padded first_name and last_name \n",
    "SELECT \n",
    "\tRPAD(first_name, LENGTH(first_name)+1) || last_name AS full_name\n",
    "FROM customer;\n",
    "    \"\"\")\n",
    "query_result.head()"
   ]
  },
  {
   "cell_type": "code",
   "execution_count": 11,
   "metadata": {},
   "outputs": [
    {
     "data": {
      "text/html": [
       "<div>\n",
       "<style scoped>\n",
       "    .dataframe tbody tr th:only-of-type {\n",
       "        vertical-align: middle;\n",
       "    }\n",
       "\n",
       "    .dataframe tbody tr th {\n",
       "        vertical-align: top;\n",
       "    }\n",
       "\n",
       "    .dataframe thead th {\n",
       "        text-align: right;\n",
       "    }\n",
       "</style>\n",
       "<table border=\"1\" class=\"dataframe\">\n",
       "  <thead>\n",
       "    <tr style=\"text-align: right;\">\n",
       "      <th></th>\n",
       "      <th>full_name</th>\n",
       "    </tr>\n",
       "  </thead>\n",
       "  <tbody>\n",
       "    <tr>\n",
       "      <th>0</th>\n",
       "      <td>MARY SMITH</td>\n",
       "    </tr>\n",
       "    <tr>\n",
       "      <th>1</th>\n",
       "      <td>PATRICIA JOHNSON</td>\n",
       "    </tr>\n",
       "    <tr>\n",
       "      <th>2</th>\n",
       "      <td>LINDA WILLIAMS</td>\n",
       "    </tr>\n",
       "    <tr>\n",
       "      <th>3</th>\n",
       "      <td>BARBARA JONES</td>\n",
       "    </tr>\n",
       "    <tr>\n",
       "      <th>4</th>\n",
       "      <td>ELIZABETH BROWN</td>\n",
       "    </tr>\n",
       "  </tbody>\n",
       "</table>\n",
       "</div>"
      ],
      "text/plain": [
       "          full_name\n",
       "0        MARY SMITH\n",
       "1  PATRICIA JOHNSON\n",
       "2    LINDA WILLIAMS\n",
       "3     BARBARA JONES\n",
       "4   ELIZABETH BROWN"
      ]
     },
     "execution_count": 11,
     "metadata": {},
     "output_type": "execute_result"
    }
   ],
   "source": [
    "query_result = execute_query(\n",
    "    \"\"\"\n",
    "-- Concatenate the first_name and last_name \n",
    "SELECT \n",
    "\tfirst_name || LPAD(last_name, LENGTH(last_name)+1) AS full_name\n",
    "FROM customer; \n",
    "    \"\"\")\n",
    "query_result.head()"
   ]
  },
  {
   "cell_type": "code",
   "execution_count": 12,
   "metadata": {},
   "outputs": [
    {
     "data": {
      "text/html": [
       "<div>\n",
       "<style scoped>\n",
       "    .dataframe tbody tr th:only-of-type {\n",
       "        vertical-align: middle;\n",
       "    }\n",
       "\n",
       "    .dataframe tbody tr th {\n",
       "        vertical-align: top;\n",
       "    }\n",
       "\n",
       "    .dataframe thead th {\n",
       "        text-align: right;\n",
       "    }\n",
       "</style>\n",
       "<table border=\"1\" class=\"dataframe\">\n",
       "  <thead>\n",
       "    <tr style=\"text-align: right;\">\n",
       "      <th></th>\n",
       "      <th>full_email</th>\n",
       "    </tr>\n",
       "  </thead>\n",
       "  <tbody>\n",
       "    <tr>\n",
       "      <th>0</th>\n",
       "      <td>MARY SMITH &lt;MARY.SMITH@sakilacustomer.org&gt;</td>\n",
       "    </tr>\n",
       "    <tr>\n",
       "      <th>1</th>\n",
       "      <td>PATRICIA JOHNSON &lt;PATRICIA.JOHNSON@sakilacusto...</td>\n",
       "    </tr>\n",
       "    <tr>\n",
       "      <th>2</th>\n",
       "      <td>LINDA WILLIAMS &lt;LINDA.WILLIAMS@sakilacustomer....</td>\n",
       "    </tr>\n",
       "    <tr>\n",
       "      <th>3</th>\n",
       "      <td>BARBARA JONES &lt;BARBARA.JONES@sakilacustomer.org&gt;</td>\n",
       "    </tr>\n",
       "    <tr>\n",
       "      <th>4</th>\n",
       "      <td>ELIZABETH BROWN &lt;ELIZABETH.BROWN@sakilacustome...</td>\n",
       "    </tr>\n",
       "  </tbody>\n",
       "</table>\n",
       "</div>"
      ],
      "text/plain": [
       "                                          full_email\n",
       "0         MARY SMITH <MARY.SMITH@sakilacustomer.org>\n",
       "1  PATRICIA JOHNSON <PATRICIA.JOHNSON@sakilacusto...\n",
       "2  LINDA WILLIAMS <LINDA.WILLIAMS@sakilacustomer....\n",
       "3   BARBARA JONES <BARBARA.JONES@sakilacustomer.org>\n",
       "4  ELIZABETH BROWN <ELIZABETH.BROWN@sakilacustome..."
      ]
     },
     "execution_count": 12,
     "metadata": {},
     "output_type": "execute_result"
    }
   ],
   "source": [
    "query_result = execute_query(\n",
    "    \"\"\"\n",
    "-- Concatenate the first_name and last_name \n",
    "SELECT \n",
    "\tRPAD(first_name, LENGTH(first_name)+1) \n",
    "    || RPAD(last_name, LENGTH(last_name)+2, ' <') \n",
    "    || RPAD(email, LENGTH(email)+1, '>') AS full_email\n",
    "FROM customer; \n",
    "    \"\"\")\n",
    "query_result.head()"
   ]
  },
  {
   "cell_type": "markdown",
   "metadata": {},
   "source": [
    "# The TRIM function"
   ]
  },
  {
   "cell_type": "markdown",
   "metadata": {},
   "source": [
    "We can use trimming functions to eliminate the whitespace at the end of the string after it's been truncated."
   ]
  },
  {
   "cell_type": "code",
   "execution_count": 13,
   "metadata": {},
   "outputs": [
    {
     "data": {
      "text/html": [
       "<div>\n",
       "<style scoped>\n",
       "    .dataframe tbody tr th:only-of-type {\n",
       "        vertical-align: middle;\n",
       "    }\n",
       "\n",
       "    .dataframe tbody tr th {\n",
       "        vertical-align: top;\n",
       "    }\n",
       "\n",
       "    .dataframe thead th {\n",
       "        text-align: right;\n",
       "    }\n",
       "</style>\n",
       "<table border=\"1\" class=\"dataframe\">\n",
       "  <thead>\n",
       "    <tr style=\"text-align: right;\">\n",
       "      <th></th>\n",
       "      <th>film_category</th>\n",
       "      <th>film_desc</th>\n",
       "    </tr>\n",
       "  </thead>\n",
       "  <tbody>\n",
       "    <tr>\n",
       "      <th>0</th>\n",
       "      <td>DOCUMENTARY: ACADEMY DINOSAUR</td>\n",
       "      <td>A Epic Drama of a Feminist And a Mad Scientist...</td>\n",
       "    </tr>\n",
       "    <tr>\n",
       "      <th>1</th>\n",
       "      <td>HORROR: ACE GOLDFINGER</td>\n",
       "      <td>A Astounding Epistle of a Database Administrat...</td>\n",
       "    </tr>\n",
       "    <tr>\n",
       "      <th>2</th>\n",
       "      <td>DOCUMENTARY: ADAPTATION HOLES</td>\n",
       "      <td>A Astounding Reflection of a Lumberjack And a Car</td>\n",
       "    </tr>\n",
       "    <tr>\n",
       "      <th>3</th>\n",
       "      <td>HORROR: AFFAIR PREJUDICE</td>\n",
       "      <td>A Fanciful Documentary of a Frisbee And a Lumb...</td>\n",
       "    </tr>\n",
       "    <tr>\n",
       "      <th>4</th>\n",
       "      <td>FAMILY: AFRICAN EGG</td>\n",
       "      <td>A Fast-Paced Documentary of a Pastry Chef And ...</td>\n",
       "    </tr>\n",
       "  </tbody>\n",
       "</table>\n",
       "</div>"
      ],
      "text/plain": [
       "                   film_category  \\\n",
       "0  DOCUMENTARY: ACADEMY DINOSAUR   \n",
       "1         HORROR: ACE GOLDFINGER   \n",
       "2  DOCUMENTARY: ADAPTATION HOLES   \n",
       "3       HORROR: AFFAIR PREJUDICE   \n",
       "4            FAMILY: AFRICAN EGG   \n",
       "\n",
       "                                           film_desc  \n",
       "0  A Epic Drama of a Feminist And a Mad Scientist...  \n",
       "1  A Astounding Epistle of a Database Administrat...  \n",
       "2  A Astounding Reflection of a Lumberjack And a Car  \n",
       "3  A Fanciful Documentary of a Frisbee And a Lumb...  \n",
       "4  A Fast-Paced Documentary of a Pastry Chef And ...  "
      ]
     },
     "execution_count": 13,
     "metadata": {},
     "output_type": "execute_result"
    }
   ],
   "source": [
    "query_result = execute_query(\n",
    "    \"\"\"\n",
    "-- Concatenate the uppercase category name and film title\n",
    "SELECT \n",
    "  CONCAT(UPPER(name), ': ', title) AS film_category, \n",
    "  -- Truncate the description remove trailing whitespace\n",
    "  TRIM(LEFT(description, 50)) AS film_desc\n",
    "FROM \n",
    "  film AS f \n",
    "  INNER JOIN film_category AS fc \n",
    "  \tON f.film_id = fc.film_id \n",
    "  INNER JOIN category AS c \n",
    "  \tON fc.category_id = c.category_id;\n",
    "    \"\"\")\n",
    "query_result.head()"
   ]
  },
  {
   "cell_type": "markdown",
   "metadata": {},
   "source": [
    "# Putting it all together"
   ]
  },
  {
   "cell_type": "markdown",
   "metadata": {},
   "source": [
    "In this exercise, we are going to use the `film` and `category` tables to create a new field called `film_category` by concatenating the category `name` with the film's `title`. You will also practice how to truncate text fields like the `film` table's `description` column without cutting off a word."
   ]
  },
  {
   "cell_type": "code",
   "execution_count": 14,
   "metadata": {},
   "outputs": [
    {
     "data": {
      "text/html": [
       "<div>\n",
       "<style scoped>\n",
       "    .dataframe tbody tr th:only-of-type {\n",
       "        vertical-align: middle;\n",
       "    }\n",
       "\n",
       "    .dataframe tbody tr th {\n",
       "        vertical-align: top;\n",
       "    }\n",
       "\n",
       "    .dataframe thead th {\n",
       "        text-align: right;\n",
       "    }\n",
       "</style>\n",
       "<table border=\"1\" class=\"dataframe\">\n",
       "  <thead>\n",
       "    <tr style=\"text-align: right;\">\n",
       "      <th></th>\n",
       "      <th>film_category</th>\n",
       "      <th>left</th>\n",
       "    </tr>\n",
       "  </thead>\n",
       "  <tbody>\n",
       "    <tr>\n",
       "      <th>0</th>\n",
       "      <td>DOCUMENTARY: ACADEMY DINOSAUR</td>\n",
       "      <td>A Epic Drama of a Feminist And a Mad Scientist</td>\n",
       "    </tr>\n",
       "    <tr>\n",
       "      <th>1</th>\n",
       "      <td>HORROR: ACE GOLDFINGER</td>\n",
       "      <td>A Astounding Epistle of a Database Administrator</td>\n",
       "    </tr>\n",
       "    <tr>\n",
       "      <th>2</th>\n",
       "      <td>DOCUMENTARY: ADAPTATION HOLES</td>\n",
       "      <td>A Astounding Reflection of a Lumberjack And a Car</td>\n",
       "    </tr>\n",
       "    <tr>\n",
       "      <th>3</th>\n",
       "      <td>HORROR: AFFAIR PREJUDICE</td>\n",
       "      <td>A Fanciful Documentary of a Frisbee And a</td>\n",
       "    </tr>\n",
       "    <tr>\n",
       "      <th>4</th>\n",
       "      <td>FAMILY: AFRICAN EGG</td>\n",
       "      <td>A Fast-Paced Documentary of a Pastry Chef And a</td>\n",
       "    </tr>\n",
       "  </tbody>\n",
       "</table>\n",
       "</div>"
      ],
      "text/plain": [
       "                   film_category  \\\n",
       "0  DOCUMENTARY: ACADEMY DINOSAUR   \n",
       "1         HORROR: ACE GOLDFINGER   \n",
       "2  DOCUMENTARY: ADAPTATION HOLES   \n",
       "3       HORROR: AFFAIR PREJUDICE   \n",
       "4            FAMILY: AFRICAN EGG   \n",
       "\n",
       "                                                left  \n",
       "0     A Epic Drama of a Feminist And a Mad Scientist  \n",
       "1   A Astounding Epistle of a Database Administrator  \n",
       "2  A Astounding Reflection of a Lumberjack And a Car  \n",
       "3          A Fanciful Documentary of a Frisbee And a  \n",
       "4    A Fast-Paced Documentary of a Pastry Chef And a  "
      ]
     },
     "execution_count": 14,
     "metadata": {},
     "output_type": "execute_result"
    }
   ],
   "source": [
    "query_result = execute_query(\n",
    "    \"\"\"\n",
    "SELECT \n",
    "  UPPER(c.name) || ': ' || f.title AS film_category, \n",
    "  -- Truncate the description without cutting off a word\n",
    "  LEFT(description, 50 - \n",
    "    -- Subtract the position of the first whitespace character\n",
    "    POSITION(\n",
    "      ' ' IN REVERSE(LEFT(description, 50))\n",
    "    )\n",
    "  ) \n",
    "FROM \n",
    "  film AS f \n",
    "  INNER JOIN film_category AS fc \n",
    "  \tON f.film_id = fc.film_id \n",
    "  INNER JOIN category AS c \n",
    "  \tON fc.category_id = c.category_id;\n",
    "    \"\"\")\n",
    "query_result.head()"
   ]
  }
 ],
 "metadata": {
  "kernelspec": {
   "display_name": "env_py",
   "language": "python",
   "name": "python3"
  },
  "language_info": {
   "codemirror_mode": {
    "name": "ipython",
    "version": 3
   },
   "file_extension": ".py",
   "mimetype": "text/x-python",
   "name": "python",
   "nbconvert_exporter": "python",
   "pygments_lexer": "ipython3",
   "version": "3.8.11"
  }
 },
 "nbformat": 4,
 "nbformat_minor": 2
}
