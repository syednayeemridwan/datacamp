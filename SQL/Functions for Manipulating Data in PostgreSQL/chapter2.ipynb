{
 "cells": [
  {
   "cell_type": "code",
   "execution_count": 1,
   "metadata": {},
   "outputs": [],
   "source": [
    "import pandas as pd\n",
    "import psycopg2\n",
    "\n",
    "def execute_query(sql_query, dbname='sakila', user='postgres', password='postgres', port='5432'):\n",
    "    # Create a connection to the PostgreSQL database\n",
    "    conn = psycopg2.connect(dbname=dbname, user=user, password=password, port=port)\n",
    "\n",
    "    # Use read_sql to execute the query and load the results into a DataFrame\n",
    "    df = pd.read_sql(sql_query, conn)\n",
    "\n",
    "    # Close the database connection\n",
    "    conn.close()\n",
    "\n",
    "    # Return the DataFrame\n",
    "    return df\n",
    "\n"
   ]
  },
  {
   "cell_type": "markdown",
   "metadata": {},
   "source": [
    "# Adding and subtracting date and time values"
   ]
  },
  {
   "cell_type": "markdown",
   "metadata": {},
   "source": [
    "In this exercise, you will calculate the actual number of days rented as well as the true expected_return_date by using the `rental_duration` column from the `film` table along with the familiar `rental_date` from the `rental` table."
   ]
  },
  {
   "cell_type": "code",
   "execution_count": 2,
   "metadata": {},
   "outputs": [
    {
     "data": {
      "text/html": [
       "<div>\n",
       "<style scoped>\n",
       "    .dataframe tbody tr th:only-of-type {\n",
       "        vertical-align: middle;\n",
       "    }\n",
       "\n",
       "    .dataframe tbody tr th {\n",
       "        vertical-align: top;\n",
       "    }\n",
       "\n",
       "    .dataframe thead th {\n",
       "        text-align: right;\n",
       "    }\n",
       "</style>\n",
       "<table border=\"1\" class=\"dataframe\">\n",
       "  <thead>\n",
       "    <tr style=\"text-align: right;\">\n",
       "      <th></th>\n",
       "      <th>title</th>\n",
       "      <th>rental_duration</th>\n",
       "      <th>days_rented</th>\n",
       "    </tr>\n",
       "  </thead>\n",
       "  <tbody>\n",
       "    <tr>\n",
       "      <th>0</th>\n",
       "      <td>ACADEMY DINOSAUR</td>\n",
       "      <td>6</td>\n",
       "      <td>5 days 18:51:00</td>\n",
       "    </tr>\n",
       "    <tr>\n",
       "      <th>1</th>\n",
       "      <td>ACADEMY DINOSAUR</td>\n",
       "      <td>6</td>\n",
       "      <td>6 days 04:07:00</td>\n",
       "    </tr>\n",
       "    <tr>\n",
       "      <th>2</th>\n",
       "      <td>ACADEMY DINOSAUR</td>\n",
       "      <td>6</td>\n",
       "      <td>4 days 03:25:00</td>\n",
       "    </tr>\n",
       "    <tr>\n",
       "      <th>3</th>\n",
       "      <td>ACADEMY DINOSAUR</td>\n",
       "      <td>6</td>\n",
       "      <td>4 days 20:17:00</td>\n",
       "    </tr>\n",
       "    <tr>\n",
       "      <th>4</th>\n",
       "      <td>ACADEMY DINOSAUR</td>\n",
       "      <td>6</td>\n",
       "      <td>6 days 19:49:00</td>\n",
       "    </tr>\n",
       "  </tbody>\n",
       "</table>\n",
       "</div>"
      ],
      "text/plain": [
       "              title  rental_duration     days_rented\n",
       "0  ACADEMY DINOSAUR                6 5 days 18:51:00\n",
       "1  ACADEMY DINOSAUR                6 6 days 04:07:00\n",
       "2  ACADEMY DINOSAUR                6 4 days 03:25:00\n",
       "3  ACADEMY DINOSAUR                6 4 days 20:17:00\n",
       "4  ACADEMY DINOSAUR                6 6 days 19:49:00"
      ]
     },
     "execution_count": 2,
     "metadata": {},
     "output_type": "execute_result"
    }
   ],
   "source": [
    "query_result = execute_query(\n",
    "    \"\"\"\n",
    "SELECT f.title, f.rental_duration,\n",
    "    -- Calculate the number of days rented\n",
    "    r.return_date - r.rental_date AS days_rented\n",
    "FROM film AS f\n",
    "     INNER JOIN inventory AS i ON f.film_id = i.film_id\n",
    "     INNER JOIN rental AS r ON i.inventory_id = r.inventory_id\n",
    "ORDER BY f.title;\n",
    "    \"\"\")\n",
    "query_result.head()"
   ]
  },
  {
   "cell_type": "code",
   "execution_count": 3,
   "metadata": {},
   "outputs": [
    {
     "data": {
      "text/html": [
       "<div>\n",
       "<style scoped>\n",
       "    .dataframe tbody tr th:only-of-type {\n",
       "        vertical-align: middle;\n",
       "    }\n",
       "\n",
       "    .dataframe tbody tr th {\n",
       "        vertical-align: top;\n",
       "    }\n",
       "\n",
       "    .dataframe thead th {\n",
       "        text-align: right;\n",
       "    }\n",
       "</style>\n",
       "<table border=\"1\" class=\"dataframe\">\n",
       "  <thead>\n",
       "    <tr style=\"text-align: right;\">\n",
       "      <th></th>\n",
       "      <th>title</th>\n",
       "      <th>rental_duration</th>\n",
       "      <th>days_rented</th>\n",
       "    </tr>\n",
       "  </thead>\n",
       "  <tbody>\n",
       "    <tr>\n",
       "      <th>0</th>\n",
       "      <td>ACADEMY DINOSAUR</td>\n",
       "      <td>6</td>\n",
       "      <td>5 days 18:51:00</td>\n",
       "    </tr>\n",
       "    <tr>\n",
       "      <th>1</th>\n",
       "      <td>ACADEMY DINOSAUR</td>\n",
       "      <td>6</td>\n",
       "      <td>6 days 04:07:00</td>\n",
       "    </tr>\n",
       "    <tr>\n",
       "      <th>2</th>\n",
       "      <td>ACADEMY DINOSAUR</td>\n",
       "      <td>6</td>\n",
       "      <td>4 days 03:25:00</td>\n",
       "    </tr>\n",
       "    <tr>\n",
       "      <th>3</th>\n",
       "      <td>ACADEMY DINOSAUR</td>\n",
       "      <td>6</td>\n",
       "      <td>4 days 20:17:00</td>\n",
       "    </tr>\n",
       "    <tr>\n",
       "      <th>4</th>\n",
       "      <td>ACADEMY DINOSAUR</td>\n",
       "      <td>6</td>\n",
       "      <td>6 days 19:49:00</td>\n",
       "    </tr>\n",
       "  </tbody>\n",
       "</table>\n",
       "</div>"
      ],
      "text/plain": [
       "              title  rental_duration     days_rented\n",
       "0  ACADEMY DINOSAUR                6 5 days 18:51:00\n",
       "1  ACADEMY DINOSAUR                6 6 days 04:07:00\n",
       "2  ACADEMY DINOSAUR                6 4 days 03:25:00\n",
       "3  ACADEMY DINOSAUR                6 4 days 20:17:00\n",
       "4  ACADEMY DINOSAUR                6 6 days 19:49:00"
      ]
     },
     "execution_count": 3,
     "metadata": {},
     "output_type": "execute_result"
    }
   ],
   "source": [
    "query_result = execute_query(\n",
    "    \"\"\"\n",
    "SELECT f.title, f.rental_duration,\n",
    "    -- Calculate the number of days rented\n",
    "\tAGE(r.return_date, r.rental_date) AS days_rented\n",
    "FROM film AS f\n",
    "\tINNER JOIN inventory AS i ON f.film_id = i.film_id\n",
    "\tINNER JOIN rental AS r ON i.inventory_id = r.inventory_id\n",
    "ORDER BY f.title;\n",
    "    \"\"\")\n",
    "query_result.head()"
   ]
  },
  {
   "cell_type": "markdown",
   "metadata": {},
   "source": [
    "# INTERVAL arithmetic"
   ]
  },
  {
   "cell_type": "markdown",
   "metadata": {},
   "source": [
    "If you were running a real DVD Rental store, there would be times when you would need to determine what film titles were currently out for rental with customers. In the previous exercise, we saw that some of the records in the results had a `NULL` value for the return_date. This is because the rental was still outstanding."
   ]
  },
  {
   "cell_type": "code",
   "execution_count": 5,
   "metadata": {},
   "outputs": [
    {
     "data": {
      "text/html": [
       "<div>\n",
       "<style scoped>\n",
       "    .dataframe tbody tr th:only-of-type {\n",
       "        vertical-align: middle;\n",
       "    }\n",
       "\n",
       "    .dataframe tbody tr th {\n",
       "        vertical-align: top;\n",
       "    }\n",
       "\n",
       "    .dataframe thead th {\n",
       "        text-align: right;\n",
       "    }\n",
       "</style>\n",
       "<table border=\"1\" class=\"dataframe\">\n",
       "  <thead>\n",
       "    <tr style=\"text-align: right;\">\n",
       "      <th></th>\n",
       "      <th>title</th>\n",
       "      <th>rental_duration</th>\n",
       "      <th>days_rented</th>\n",
       "    </tr>\n",
       "  </thead>\n",
       "  <tbody>\n",
       "    <tr>\n",
       "      <th>0</th>\n",
       "      <td>ACADEMY DINOSAUR</td>\n",
       "      <td>6 days</td>\n",
       "      <td>0 days 23:15:00</td>\n",
       "    </tr>\n",
       "    <tr>\n",
       "      <th>1</th>\n",
       "      <td>ACADEMY DINOSAUR</td>\n",
       "      <td>6 days</td>\n",
       "      <td>1 days 03:05:00</td>\n",
       "    </tr>\n",
       "    <tr>\n",
       "      <th>2</th>\n",
       "      <td>ACADEMY DINOSAUR</td>\n",
       "      <td>6 days</td>\n",
       "      <td>5 days 23:56:00</td>\n",
       "    </tr>\n",
       "    <tr>\n",
       "      <th>3</th>\n",
       "      <td>ACADEMY DINOSAUR</td>\n",
       "      <td>6 days</td>\n",
       "      <td>5 days 01:34:00</td>\n",
       "    </tr>\n",
       "    <tr>\n",
       "      <th>4</th>\n",
       "      <td>ACADEMY DINOSAUR</td>\n",
       "      <td>6 days</td>\n",
       "      <td>7 days 03:12:00</td>\n",
       "    </tr>\n",
       "  </tbody>\n",
       "</table>\n",
       "</div>"
      ],
      "text/plain": [
       "              title rental_duration     days_rented\n",
       "0  ACADEMY DINOSAUR          6 days 0 days 23:15:00\n",
       "1  ACADEMY DINOSAUR          6 days 1 days 03:05:00\n",
       "2  ACADEMY DINOSAUR          6 days 5 days 23:56:00\n",
       "3  ACADEMY DINOSAUR          6 days 5 days 01:34:00\n",
       "4  ACADEMY DINOSAUR          6 days 7 days 03:12:00"
      ]
     },
     "execution_count": 5,
     "metadata": {},
     "output_type": "execute_result"
    }
   ],
   "source": [
    "query_result = execute_query(\n",
    "    \"\"\"\n",
    "SELECT\n",
    "\tf.title,\n",
    " \t-- Convert the rental_duration to an interval\n",
    "    INTERVAL '1' day * f.rental_duration AS rental_duration,\n",
    " \t-- Calculate the days rented as we did previously\n",
    "    r.return_date - r.rental_date AS days_rented\n",
    "FROM film AS f\n",
    "    INNER JOIN inventory AS i ON f.film_id = i.film_id\n",
    "    INNER JOIN rental AS r ON i.inventory_id = r.inventory_id\n",
    "-- Filter the query to exclude outstanding rentals\n",
    "WHERE r.return_date IS NOT NULL\n",
    "ORDER BY f.title;\n",
    "    \"\"\")\n",
    "query_result.head()"
   ]
  },
  {
   "cell_type": "markdown",
   "metadata": {},
   "source": [
    "# Calculating the expected return date"
   ]
  },
  {
   "cell_type": "markdown",
   "metadata": {},
   "source": [
    "So now that you've practiced how to add and subtract timestamps and perform relative calculations using intervals, let's use those new skills to calculate the actual expected return date of a specific rental."
   ]
  },
  {
   "cell_type": "code",
   "execution_count": 6,
   "metadata": {},
   "outputs": [
    {
     "data": {
      "text/html": [
       "<div>\n",
       "<style scoped>\n",
       "    .dataframe tbody tr th:only-of-type {\n",
       "        vertical-align: middle;\n",
       "    }\n",
       "\n",
       "    .dataframe tbody tr th {\n",
       "        vertical-align: top;\n",
       "    }\n",
       "\n",
       "    .dataframe thead th {\n",
       "        text-align: right;\n",
       "    }\n",
       "</style>\n",
       "<table border=\"1\" class=\"dataframe\">\n",
       "  <thead>\n",
       "    <tr style=\"text-align: right;\">\n",
       "      <th></th>\n",
       "      <th>title</th>\n",
       "      <th>rental_date</th>\n",
       "      <th>rental_duration</th>\n",
       "      <th>expected_return_date</th>\n",
       "      <th>return_date</th>\n",
       "    </tr>\n",
       "  </thead>\n",
       "  <tbody>\n",
       "    <tr>\n",
       "      <th>0</th>\n",
       "      <td>ACADEMY DINOSAUR</td>\n",
       "      <td>2005-07-31 22:08:29</td>\n",
       "      <td>6</td>\n",
       "      <td>2005-08-06 22:08:29</td>\n",
       "      <td>2005-08-06 16:59:29</td>\n",
       "    </tr>\n",
       "    <tr>\n",
       "      <th>1</th>\n",
       "      <td>ACADEMY DINOSAUR</td>\n",
       "      <td>2005-07-30 22:02:34</td>\n",
       "      <td>6</td>\n",
       "      <td>2005-08-05 22:02:34</td>\n",
       "      <td>2005-08-06 02:09:34</td>\n",
       "    </tr>\n",
       "    <tr>\n",
       "      <th>2</th>\n",
       "      <td>ACADEMY DINOSAUR</td>\n",
       "      <td>2005-08-18 18:36:16</td>\n",
       "      <td>6</td>\n",
       "      <td>2005-08-24 18:36:16</td>\n",
       "      <td>2005-08-22 22:01:16</td>\n",
       "    </tr>\n",
       "    <tr>\n",
       "      <th>3</th>\n",
       "      <td>ACADEMY DINOSAUR</td>\n",
       "      <td>2005-07-27 07:51:11</td>\n",
       "      <td>6</td>\n",
       "      <td>2005-08-02 07:51:11</td>\n",
       "      <td>2005-08-01 04:08:11</td>\n",
       "    </tr>\n",
       "    <tr>\n",
       "      <th>4</th>\n",
       "      <td>ACADEMY DINOSAUR</td>\n",
       "      <td>2005-07-29 09:41:38</td>\n",
       "      <td>6</td>\n",
       "      <td>2005-08-04 09:41:38</td>\n",
       "      <td>2005-08-05 05:30:38</td>\n",
       "    </tr>\n",
       "  </tbody>\n",
       "</table>\n",
       "</div>"
      ],
      "text/plain": [
       "              title         rental_date  rental_duration expected_return_date  \\\n",
       "0  ACADEMY DINOSAUR 2005-07-31 22:08:29                6  2005-08-06 22:08:29   \n",
       "1  ACADEMY DINOSAUR 2005-07-30 22:02:34                6  2005-08-05 22:02:34   \n",
       "2  ACADEMY DINOSAUR 2005-08-18 18:36:16                6  2005-08-24 18:36:16   \n",
       "3  ACADEMY DINOSAUR 2005-07-27 07:51:11                6  2005-08-02 07:51:11   \n",
       "4  ACADEMY DINOSAUR 2005-07-29 09:41:38                6  2005-08-04 09:41:38   \n",
       "\n",
       "          return_date  \n",
       "0 2005-08-06 16:59:29  \n",
       "1 2005-08-06 02:09:34  \n",
       "2 2005-08-22 22:01:16  \n",
       "3 2005-08-01 04:08:11  \n",
       "4 2005-08-05 05:30:38  "
      ]
     },
     "execution_count": 6,
     "metadata": {},
     "output_type": "execute_result"
    }
   ],
   "source": [
    "query_result = execute_query(\n",
    "    \"\"\"\n",
    "SELECT\n",
    "    f.title,\n",
    "\tr.rental_date,\n",
    "    f.rental_duration,\n",
    "    -- Add the rental duration to the rental date\n",
    "    INTERVAL '1' day * f.rental_duration + r.rental_date AS expected_return_date,\n",
    "    r.return_date\n",
    "FROM film AS f\n",
    "    INNER JOIN inventory AS i ON f.film_id = i.film_id\n",
    "    INNER JOIN rental AS r ON i.inventory_id = r.inventory_id\n",
    "ORDER BY f.title;\n",
    "    \"\"\")\n",
    "query_result.head()"
   ]
  },
  {
   "cell_type": "markdown",
   "metadata": {},
   "source": [
    "# Current timestamp functions"
   ]
  },
  {
   "cell_type": "markdown",
   "metadata": {},
   "source": [
    "Use the console to explore the `NOW()`, `CURRENT_TIMESTAMP`, `CURRENT_DATE` and `CURRENT_TIME` functions"
   ]
  },
  {
   "cell_type": "code",
   "execution_count": 7,
   "metadata": {},
   "outputs": [
    {
     "data": {
      "text/html": [
       "<div>\n",
       "<style scoped>\n",
       "    .dataframe tbody tr th:only-of-type {\n",
       "        vertical-align: middle;\n",
       "    }\n",
       "\n",
       "    .dataframe tbody tr th {\n",
       "        vertical-align: top;\n",
       "    }\n",
       "\n",
       "    .dataframe thead th {\n",
       "        text-align: right;\n",
       "    }\n",
       "</style>\n",
       "<table border=\"1\" class=\"dataframe\">\n",
       "  <thead>\n",
       "    <tr style=\"text-align: right;\">\n",
       "      <th></th>\n",
       "      <th>now</th>\n",
       "    </tr>\n",
       "  </thead>\n",
       "  <tbody>\n",
       "    <tr>\n",
       "      <th>0</th>\n",
       "      <td>2024-02-09 05:18:57.410493+00:00</td>\n",
       "    </tr>\n",
       "  </tbody>\n",
       "</table>\n",
       "</div>"
      ],
      "text/plain": [
       "                               now\n",
       "0 2024-02-09 05:18:57.410493+00:00"
      ]
     },
     "execution_count": 7,
     "metadata": {},
     "output_type": "execute_result"
    }
   ],
   "source": [
    "execute_query('SELECT NOW()')"
   ]
  },
  {
   "cell_type": "code",
   "execution_count": 8,
   "metadata": {},
   "outputs": [
    {
     "data": {
      "text/html": [
       "<div>\n",
       "<style scoped>\n",
       "    .dataframe tbody tr th:only-of-type {\n",
       "        vertical-align: middle;\n",
       "    }\n",
       "\n",
       "    .dataframe tbody tr th {\n",
       "        vertical-align: top;\n",
       "    }\n",
       "\n",
       "    .dataframe thead th {\n",
       "        text-align: right;\n",
       "    }\n",
       "</style>\n",
       "<table border=\"1\" class=\"dataframe\">\n",
       "  <thead>\n",
       "    <tr style=\"text-align: right;\">\n",
       "      <th></th>\n",
       "      <th>current_timestamp</th>\n",
       "    </tr>\n",
       "  </thead>\n",
       "  <tbody>\n",
       "    <tr>\n",
       "      <th>0</th>\n",
       "      <td>2024-02-09 05:19:12.855320+00:00</td>\n",
       "    </tr>\n",
       "  </tbody>\n",
       "</table>\n",
       "</div>"
      ],
      "text/plain": [
       "                 current_timestamp\n",
       "0 2024-02-09 05:19:12.855320+00:00"
      ]
     },
     "execution_count": 8,
     "metadata": {},
     "output_type": "execute_result"
    }
   ],
   "source": [
    "execute_query('SELECT CURRENT_TIMESTAMP')"
   ]
  },
  {
   "cell_type": "code",
   "execution_count": 9,
   "metadata": {},
   "outputs": [
    {
     "data": {
      "text/html": [
       "<div>\n",
       "<style scoped>\n",
       "    .dataframe tbody tr th:only-of-type {\n",
       "        vertical-align: middle;\n",
       "    }\n",
       "\n",
       "    .dataframe tbody tr th {\n",
       "        vertical-align: top;\n",
       "    }\n",
       "\n",
       "    .dataframe thead th {\n",
       "        text-align: right;\n",
       "    }\n",
       "</style>\n",
       "<table border=\"1\" class=\"dataframe\">\n",
       "  <thead>\n",
       "    <tr style=\"text-align: right;\">\n",
       "      <th></th>\n",
       "      <th>current_time</th>\n",
       "    </tr>\n",
       "  </thead>\n",
       "  <tbody>\n",
       "    <tr>\n",
       "      <th>0</th>\n",
       "      <td>11:19:18.626711+06:00</td>\n",
       "    </tr>\n",
       "  </tbody>\n",
       "</table>\n",
       "</div>"
      ],
      "text/plain": [
       "            current_time\n",
       "0  11:19:18.626711+06:00"
      ]
     },
     "execution_count": 9,
     "metadata": {},
     "output_type": "execute_result"
    }
   ],
   "source": [
    "execute_query('SELECT CURRENT_TIME')\n"
   ]
  },
  {
   "cell_type": "code",
   "execution_count": 10,
   "metadata": {},
   "outputs": [
    {
     "data": {
      "text/html": [
       "<div>\n",
       "<style scoped>\n",
       "    .dataframe tbody tr th:only-of-type {\n",
       "        vertical-align: middle;\n",
       "    }\n",
       "\n",
       "    .dataframe tbody tr th {\n",
       "        vertical-align: top;\n",
       "    }\n",
       "\n",
       "    .dataframe thead th {\n",
       "        text-align: right;\n",
       "    }\n",
       "</style>\n",
       "<table border=\"1\" class=\"dataframe\">\n",
       "  <thead>\n",
       "    <tr style=\"text-align: right;\">\n",
       "      <th></th>\n",
       "      <th>current_date</th>\n",
       "    </tr>\n",
       "  </thead>\n",
       "  <tbody>\n",
       "    <tr>\n",
       "      <th>0</th>\n",
       "      <td>2024-02-09</td>\n",
       "    </tr>\n",
       "  </tbody>\n",
       "</table>\n",
       "</div>"
      ],
      "text/plain": [
       "  current_date\n",
       "0   2024-02-09"
      ]
     },
     "execution_count": 10,
     "metadata": {},
     "output_type": "execute_result"
    }
   ],
   "source": [
    "execute_query('SELECT CURRENT_DATE')"
   ]
  },
  {
   "cell_type": "markdown",
   "metadata": {},
   "source": [
    "# Working with the current date and time"
   ]
  },
  {
   "cell_type": "markdown",
   "metadata": {},
   "source": [
    "Because the Sakila database is a bit dated and most of the date and time values are from 2005 or 2006, you are going to practice using the current date and time in our queries without using Sakila. Get rid of timezone."
   ]
  },
  {
   "cell_type": "code",
   "execution_count": 12,
   "metadata": {},
   "outputs": [
    {
     "data": {
      "text/html": [
       "<div>\n",
       "<style scoped>\n",
       "    .dataframe tbody tr th:only-of-type {\n",
       "        vertical-align: middle;\n",
       "    }\n",
       "\n",
       "    .dataframe tbody tr th {\n",
       "        vertical-align: top;\n",
       "    }\n",
       "\n",
       "    .dataframe thead th {\n",
       "        text-align: right;\n",
       "    }\n",
       "</style>\n",
       "<table border=\"1\" class=\"dataframe\">\n",
       "  <thead>\n",
       "    <tr style=\"text-align: right;\">\n",
       "      <th></th>\n",
       "      <th>now</th>\n",
       "    </tr>\n",
       "  </thead>\n",
       "  <tbody>\n",
       "    <tr>\n",
       "      <th>0</th>\n",
       "      <td>2024-02-09 11:22:01.059141</td>\n",
       "    </tr>\n",
       "  </tbody>\n",
       "</table>\n",
       "</div>"
      ],
      "text/plain": [
       "                         now\n",
       "0 2024-02-09 11:22:01.059141"
      ]
     },
     "execution_count": 12,
     "metadata": {},
     "output_type": "execute_result"
    }
   ],
   "source": [
    "# Select the current timestamp without a timezone\n",
    "\n",
    "execute_query('SELECT CAST( NOW() AS timestamp )')\n"
   ]
  },
  {
   "cell_type": "code",
   "execution_count": 13,
   "metadata": {},
   "outputs": [
    {
     "data": {
      "text/html": [
       "<div>\n",
       "<style scoped>\n",
       "    .dataframe tbody tr th:only-of-type {\n",
       "        vertical-align: middle;\n",
       "    }\n",
       "\n",
       "    .dataframe tbody tr th {\n",
       "        vertical-align: top;\n",
       "    }\n",
       "\n",
       "    .dataframe thead th {\n",
       "        text-align: right;\n",
       "    }\n",
       "</style>\n",
       "<table border=\"1\" class=\"dataframe\">\n",
       "  <thead>\n",
       "    <tr style=\"text-align: right;\">\n",
       "      <th></th>\n",
       "      <th>current_date</th>\n",
       "      <th>now</th>\n",
       "    </tr>\n",
       "  </thead>\n",
       "  <tbody>\n",
       "    <tr>\n",
       "      <th>0</th>\n",
       "      <td>2024-02-09</td>\n",
       "      <td>2024-02-09</td>\n",
       "    </tr>\n",
       "  </tbody>\n",
       "</table>\n",
       "</div>"
      ],
      "text/plain": [
       "  current_date         now\n",
       "0   2024-02-09  2024-02-09"
      ]
     },
     "execution_count": 13,
     "metadata": {},
     "output_type": "execute_result"
    }
   ],
   "source": [
    "query_result = execute_query(\n",
    "    \"\"\"\n",
    "SELECT \n",
    "\t-- Select the current date\n",
    "\tCURRENT_DATE,\n",
    "    -- CAST the result of the NOW() function to a date\n",
    "    CAST( NOW() AS date )\n",
    "    \"\"\")\n",
    "query_result.head()"
   ]
  },
  {
   "cell_type": "markdown",
   "metadata": {},
   "source": [
    "# Manipulating the current date and time"
   ]
  },
  {
   "cell_type": "markdown",
   "metadata": {},
   "source": [
    "Most of the time when you work with the current date and time, you will want to transform, manipulate, or perform operations on the value in your queries. In this exercise, you will practice adding an `INTERVAL` to the current timestamp as well as perform some more advanced calculations."
   ]
  },
  {
   "cell_type": "code",
   "execution_count": 14,
   "metadata": {},
   "outputs": [
    {
     "data": {
      "text/html": [
       "<div>\n",
       "<style scoped>\n",
       "    .dataframe tbody tr th:only-of-type {\n",
       "        vertical-align: middle;\n",
       "    }\n",
       "\n",
       "    .dataframe tbody tr th {\n",
       "        vertical-align: top;\n",
       "    }\n",
       "\n",
       "    .dataframe thead th {\n",
       "        text-align: right;\n",
       "    }\n",
       "</style>\n",
       "<table border=\"1\" class=\"dataframe\">\n",
       "  <thead>\n",
       "    <tr style=\"text-align: right;\">\n",
       "      <th></th>\n",
       "      <th>right_now</th>\n",
       "    </tr>\n",
       "  </thead>\n",
       "  <tbody>\n",
       "    <tr>\n",
       "      <th>0</th>\n",
       "      <td>2024-02-09 11:24:34.365965</td>\n",
       "    </tr>\n",
       "  </tbody>\n",
       "</table>\n",
       "</div>"
      ],
      "text/plain": [
       "                   right_now\n",
       "0 2024-02-09 11:24:34.365965"
      ]
     },
     "execution_count": 14,
     "metadata": {},
     "output_type": "execute_result"
    }
   ],
   "source": [
    "# Select the current timestamp without timezone\n",
    "\n",
    "execute_query('SELECT CURRENT_TIMESTAMP::timestamp AS right_now;')"
   ]
  },
  {
   "cell_type": "code",
   "execution_count": 15,
   "metadata": {},
   "outputs": [
    {
     "data": {
      "text/html": [
       "<div>\n",
       "<style scoped>\n",
       "    .dataframe tbody tr th:only-of-type {\n",
       "        vertical-align: middle;\n",
       "    }\n",
       "\n",
       "    .dataframe tbody tr th {\n",
       "        vertical-align: top;\n",
       "    }\n",
       "\n",
       "    .dataframe thead th {\n",
       "        text-align: right;\n",
       "    }\n",
       "</style>\n",
       "<table border=\"1\" class=\"dataframe\">\n",
       "  <thead>\n",
       "    <tr style=\"text-align: right;\">\n",
       "      <th></th>\n",
       "      <th>right_now</th>\n",
       "      <th>five_days_from_now</th>\n",
       "    </tr>\n",
       "  </thead>\n",
       "  <tbody>\n",
       "    <tr>\n",
       "      <th>0</th>\n",
       "      <td>2024-02-09 11:24:48.984248</td>\n",
       "      <td>2024-02-14 05:24:48.984248+00:00</td>\n",
       "    </tr>\n",
       "  </tbody>\n",
       "</table>\n",
       "</div>"
      ],
      "text/plain": [
       "                   right_now               five_days_from_now\n",
       "0 2024-02-09 11:24:48.984248 2024-02-14 05:24:48.984248+00:00"
      ]
     },
     "execution_count": 15,
     "metadata": {},
     "output_type": "execute_result"
    }
   ],
   "source": [
    "query_result = execute_query(\n",
    "    \"\"\"\n",
    "SELECT\n",
    "\tCURRENT_TIMESTAMP::timestamp AS right_now,\n",
    "    INTERVAL '5 days' + CURRENT_TIMESTAMP AS five_days_from_now;\n",
    "    \"\"\")\n",
    "query_result.head()"
   ]
  },
  {
   "cell_type": "code",
   "execution_count": 16,
   "metadata": {},
   "outputs": [
    {
     "data": {
      "text/html": [
       "<div>\n",
       "<style scoped>\n",
       "    .dataframe tbody tr th:only-of-type {\n",
       "        vertical-align: middle;\n",
       "    }\n",
       "\n",
       "    .dataframe tbody tr th {\n",
       "        vertical-align: top;\n",
       "    }\n",
       "\n",
       "    .dataframe thead th {\n",
       "        text-align: right;\n",
       "    }\n",
       "</style>\n",
       "<table border=\"1\" class=\"dataframe\">\n",
       "  <thead>\n",
       "    <tr style=\"text-align: right;\">\n",
       "      <th></th>\n",
       "      <th>right_now</th>\n",
       "      <th>five_days_from_now</th>\n",
       "    </tr>\n",
       "  </thead>\n",
       "  <tbody>\n",
       "    <tr>\n",
       "      <th>0</th>\n",
       "      <td>2024-02-09 11:25:09.670</td>\n",
       "      <td>2024-02-14 05:25:09.670000+00:00</td>\n",
       "    </tr>\n",
       "  </tbody>\n",
       "</table>\n",
       "</div>"
      ],
      "text/plain": [
       "                right_now               five_days_from_now\n",
       "0 2024-02-09 11:25:09.670 2024-02-14 05:25:09.670000+00:00"
      ]
     },
     "execution_count": 16,
     "metadata": {},
     "output_type": "execute_result"
    }
   ],
   "source": [
    "query_result = execute_query(\n",
    "    \"\"\"\n",
    "SELECT\n",
    "\tCURRENT_TIMESTAMP(2)::timestamp AS right_now,\n",
    "    interval '5 days' + CURRENT_TIMESTAMP(2) AS five_days_from_now;\n",
    "    \"\"\")\n",
    "query_result.head()"
   ]
  },
  {
   "cell_type": "markdown",
   "metadata": {},
   "source": [
    "# Using EXTRACT"
   ]
  },
  {
   "cell_type": "markdown",
   "metadata": {},
   "source": [
    "You can use `EXTRACT()` and `DATE_PART()` to easily create new fields in your queries by extracting sub-fields from a source timestamp field."
   ]
  },
  {
   "cell_type": "code",
   "execution_count": 17,
   "metadata": {},
   "outputs": [
    {
     "data": {
      "text/html": [
       "<div>\n",
       "<style scoped>\n",
       "    .dataframe tbody tr th:only-of-type {\n",
       "        vertical-align: middle;\n",
       "    }\n",
       "\n",
       "    .dataframe tbody tr th {\n",
       "        vertical-align: top;\n",
       "    }\n",
       "\n",
       "    .dataframe thead th {\n",
       "        text-align: right;\n",
       "    }\n",
       "</style>\n",
       "<table border=\"1\" class=\"dataframe\">\n",
       "  <thead>\n",
       "    <tr style=\"text-align: right;\">\n",
       "      <th></th>\n",
       "      <th>dayofweek</th>\n",
       "    </tr>\n",
       "  </thead>\n",
       "  <tbody>\n",
       "    <tr>\n",
       "      <th>0</th>\n",
       "      <td>2.0</td>\n",
       "    </tr>\n",
       "    <tr>\n",
       "      <th>1</th>\n",
       "      <td>2.0</td>\n",
       "    </tr>\n",
       "    <tr>\n",
       "      <th>2</th>\n",
       "      <td>2.0</td>\n",
       "    </tr>\n",
       "    <tr>\n",
       "      <th>3</th>\n",
       "      <td>2.0</td>\n",
       "    </tr>\n",
       "    <tr>\n",
       "      <th>4</th>\n",
       "      <td>2.0</td>\n",
       "    </tr>\n",
       "  </tbody>\n",
       "</table>\n",
       "</div>"
      ],
      "text/plain": [
       "   dayofweek\n",
       "0        2.0\n",
       "1        2.0\n",
       "2        2.0\n",
       "3        2.0\n",
       "4        2.0"
      ]
     },
     "execution_count": 17,
     "metadata": {},
     "output_type": "execute_result"
    }
   ],
   "source": [
    "query_result = execute_query(\n",
    "    \"\"\"\n",
    "SELECT \n",
    "  -- Extract day of week from rental_date\n",
    "  EXTRACT(DOW FROM rental_date) AS dayofweek \n",
    "FROM rental \n",
    "LIMIT 100;\n",
    "    \"\"\")\n",
    "query_result.head()"
   ]
  },
  {
   "cell_type": "code",
   "execution_count": 18,
   "metadata": {},
   "outputs": [
    {
     "data": {
      "text/html": [
       "<div>\n",
       "<style scoped>\n",
       "    .dataframe tbody tr th:only-of-type {\n",
       "        vertical-align: middle;\n",
       "    }\n",
       "\n",
       "    .dataframe tbody tr th {\n",
       "        vertical-align: top;\n",
       "    }\n",
       "\n",
       "    .dataframe thead th {\n",
       "        text-align: right;\n",
       "    }\n",
       "</style>\n",
       "<table border=\"1\" class=\"dataframe\">\n",
       "  <thead>\n",
       "    <tr style=\"text-align: right;\">\n",
       "      <th></th>\n",
       "      <th>dayofweek</th>\n",
       "      <th>rentals</th>\n",
       "    </tr>\n",
       "  </thead>\n",
       "  <tbody>\n",
       "    <tr>\n",
       "      <th>0</th>\n",
       "      <td>0.0</td>\n",
       "      <td>2320</td>\n",
       "    </tr>\n",
       "    <tr>\n",
       "      <th>1</th>\n",
       "      <td>6.0</td>\n",
       "      <td>2311</td>\n",
       "    </tr>\n",
       "    <tr>\n",
       "      <th>2</th>\n",
       "      <td>1.0</td>\n",
       "      <td>2247</td>\n",
       "    </tr>\n",
       "    <tr>\n",
       "      <th>3</th>\n",
       "      <td>2.0</td>\n",
       "      <td>2463</td>\n",
       "    </tr>\n",
       "    <tr>\n",
       "      <th>4</th>\n",
       "      <td>3.0</td>\n",
       "      <td>2231</td>\n",
       "    </tr>\n",
       "  </tbody>\n",
       "</table>\n",
       "</div>"
      ],
      "text/plain": [
       "   dayofweek  rentals\n",
       "0        0.0     2320\n",
       "1        6.0     2311\n",
       "2        1.0     2247\n",
       "3        2.0     2463\n",
       "4        3.0     2231"
      ]
     },
     "execution_count": 18,
     "metadata": {},
     "output_type": "execute_result"
    }
   ],
   "source": [
    "query_result = execute_query(\n",
    "    \"\"\"\n",
    "-- Extract day of week from rental_date\n",
    "SELECT \n",
    "  EXTRACT(dow FROM rental_date) AS dayofweek, \n",
    "  -- Count the number of rentals\n",
    "  COUNT(*) as rentals \n",
    "FROM rental \n",
    "GROUP BY 1;\n",
    "    \"\"\")\n",
    "query_result.head()"
   ]
  },
  {
   "cell_type": "markdown",
   "metadata": {},
   "source": [
    "# Using DATE_TRUNC"
   ]
  },
  {
   "cell_type": "markdown",
   "metadata": {},
   "source": [
    "The `DATE_TRUNC()` function will truncate timestamp or interval data types to return a timestamp or interval at a specified precision."
   ]
  },
  {
   "cell_type": "code",
   "execution_count": 19,
   "metadata": {},
   "outputs": [
    {
     "data": {
      "text/html": [
       "<div>\n",
       "<style scoped>\n",
       "    .dataframe tbody tr th:only-of-type {\n",
       "        vertical-align: middle;\n",
       "    }\n",
       "\n",
       "    .dataframe tbody tr th {\n",
       "        vertical-align: top;\n",
       "    }\n",
       "\n",
       "    .dataframe thead th {\n",
       "        text-align: right;\n",
       "    }\n",
       "</style>\n",
       "<table border=\"1\" class=\"dataframe\">\n",
       "  <thead>\n",
       "    <tr style=\"text-align: right;\">\n",
       "      <th></th>\n",
       "      <th>rental_year</th>\n",
       "    </tr>\n",
       "  </thead>\n",
       "  <tbody>\n",
       "    <tr>\n",
       "      <th>0</th>\n",
       "      <td>2005-01-01</td>\n",
       "    </tr>\n",
       "    <tr>\n",
       "      <th>1</th>\n",
       "      <td>2005-01-01</td>\n",
       "    </tr>\n",
       "    <tr>\n",
       "      <th>2</th>\n",
       "      <td>2005-01-01</td>\n",
       "    </tr>\n",
       "    <tr>\n",
       "      <th>3</th>\n",
       "      <td>2005-01-01</td>\n",
       "    </tr>\n",
       "    <tr>\n",
       "      <th>4</th>\n",
       "      <td>2005-01-01</td>\n",
       "    </tr>\n",
       "  </tbody>\n",
       "</table>\n",
       "</div>"
      ],
      "text/plain": [
       "  rental_year\n",
       "0  2005-01-01\n",
       "1  2005-01-01\n",
       "2  2005-01-01\n",
       "3  2005-01-01\n",
       "4  2005-01-01"
      ]
     },
     "execution_count": 19,
     "metadata": {},
     "output_type": "execute_result"
    }
   ],
   "source": [
    "query_result = execute_query(\n",
    "    \"\"\"\n",
    "-- Truncate rental_date by year\n",
    "SELECT DATE_TRUNC('year', rental_date) AS rental_year\n",
    "FROM rental;\n",
    "    \"\"\")\n",
    "query_result.head()"
   ]
  },
  {
   "cell_type": "code",
   "execution_count": 20,
   "metadata": {},
   "outputs": [
    {
     "data": {
      "text/html": [
       "<div>\n",
       "<style scoped>\n",
       "    .dataframe tbody tr th:only-of-type {\n",
       "        vertical-align: middle;\n",
       "    }\n",
       "\n",
       "    .dataframe tbody tr th {\n",
       "        vertical-align: top;\n",
       "    }\n",
       "\n",
       "    .dataframe thead th {\n",
       "        text-align: right;\n",
       "    }\n",
       "</style>\n",
       "<table border=\"1\" class=\"dataframe\">\n",
       "  <thead>\n",
       "    <tr style=\"text-align: right;\">\n",
       "      <th></th>\n",
       "      <th>rental_month</th>\n",
       "    </tr>\n",
       "  </thead>\n",
       "  <tbody>\n",
       "    <tr>\n",
       "      <th>0</th>\n",
       "      <td>2005-05-01</td>\n",
       "    </tr>\n",
       "    <tr>\n",
       "      <th>1</th>\n",
       "      <td>2005-05-01</td>\n",
       "    </tr>\n",
       "    <tr>\n",
       "      <th>2</th>\n",
       "      <td>2005-05-01</td>\n",
       "    </tr>\n",
       "    <tr>\n",
       "      <th>3</th>\n",
       "      <td>2005-05-01</td>\n",
       "    </tr>\n",
       "    <tr>\n",
       "      <th>4</th>\n",
       "      <td>2005-05-01</td>\n",
       "    </tr>\n",
       "  </tbody>\n",
       "</table>\n",
       "</div>"
      ],
      "text/plain": [
       "  rental_month\n",
       "0   2005-05-01\n",
       "1   2005-05-01\n",
       "2   2005-05-01\n",
       "3   2005-05-01\n",
       "4   2005-05-01"
      ]
     },
     "execution_count": 20,
     "metadata": {},
     "output_type": "execute_result"
    }
   ],
   "source": [
    "\n",
    "query_result = execute_query(\n",
    "    \"\"\"\n",
    "-- Truncate rental_date by month\n",
    "SELECT DATE_TRUNC('month', rental_date) AS rental_month\n",
    "FROM rental;\n",
    "    \"\"\")\n",
    "query_result.head()"
   ]
  },
  {
   "cell_type": "code",
   "execution_count": 21,
   "metadata": {},
   "outputs": [
    {
     "data": {
      "text/html": [
       "<div>\n",
       "<style scoped>\n",
       "    .dataframe tbody tr th:only-of-type {\n",
       "        vertical-align: middle;\n",
       "    }\n",
       "\n",
       "    .dataframe tbody tr th {\n",
       "        vertical-align: top;\n",
       "    }\n",
       "\n",
       "    .dataframe thead th {\n",
       "        text-align: right;\n",
       "    }\n",
       "</style>\n",
       "<table border=\"1\" class=\"dataframe\">\n",
       "  <thead>\n",
       "    <tr style=\"text-align: right;\">\n",
       "      <th></th>\n",
       "      <th>rental_day</th>\n",
       "    </tr>\n",
       "  </thead>\n",
       "  <tbody>\n",
       "    <tr>\n",
       "      <th>0</th>\n",
       "      <td>2005-05-24</td>\n",
       "    </tr>\n",
       "    <tr>\n",
       "      <th>1</th>\n",
       "      <td>2005-05-24</td>\n",
       "    </tr>\n",
       "    <tr>\n",
       "      <th>2</th>\n",
       "      <td>2005-05-24</td>\n",
       "    </tr>\n",
       "    <tr>\n",
       "      <th>3</th>\n",
       "      <td>2005-05-24</td>\n",
       "    </tr>\n",
       "    <tr>\n",
       "      <th>4</th>\n",
       "      <td>2005-05-24</td>\n",
       "    </tr>\n",
       "  </tbody>\n",
       "</table>\n",
       "</div>"
      ],
      "text/plain": [
       "  rental_day\n",
       "0 2005-05-24\n",
       "1 2005-05-24\n",
       "2 2005-05-24\n",
       "3 2005-05-24\n",
       "4 2005-05-24"
      ]
     },
     "execution_count": 21,
     "metadata": {},
     "output_type": "execute_result"
    }
   ],
   "source": [
    "\n",
    "query_result = execute_query(\n",
    "    \"\"\"\n",
    "-- Truncate rental_date by day of the month \n",
    "SELECT DATE_TRUNC('day', rental_date) AS rental_day \n",
    "FROM rental;\n",
    "    \"\"\")\n",
    "query_result.head()"
   ]
  },
  {
   "cell_type": "code",
   "execution_count": 22,
   "metadata": {},
   "outputs": [
    {
     "data": {
      "text/html": [
       "<div>\n",
       "<style scoped>\n",
       "    .dataframe tbody tr th:only-of-type {\n",
       "        vertical-align: middle;\n",
       "    }\n",
       "\n",
       "    .dataframe tbody tr th {\n",
       "        vertical-align: top;\n",
       "    }\n",
       "\n",
       "    .dataframe thead th {\n",
       "        text-align: right;\n",
       "    }\n",
       "</style>\n",
       "<table border=\"1\" class=\"dataframe\">\n",
       "  <thead>\n",
       "    <tr style=\"text-align: right;\">\n",
       "      <th></th>\n",
       "      <th>rental_day</th>\n",
       "      <th>rentals</th>\n",
       "    </tr>\n",
       "  </thead>\n",
       "  <tbody>\n",
       "    <tr>\n",
       "      <th>0</th>\n",
       "      <td>2005-05-28</td>\n",
       "      <td>196</td>\n",
       "    </tr>\n",
       "    <tr>\n",
       "      <th>1</th>\n",
       "      <td>2005-05-25</td>\n",
       "      <td>137</td>\n",
       "    </tr>\n",
       "    <tr>\n",
       "      <th>2</th>\n",
       "      <td>2005-05-29</td>\n",
       "      <td>154</td>\n",
       "    </tr>\n",
       "    <tr>\n",
       "      <th>3</th>\n",
       "      <td>2005-08-16</td>\n",
       "      <td>23</td>\n",
       "    </tr>\n",
       "    <tr>\n",
       "      <th>4</th>\n",
       "      <td>2005-05-31</td>\n",
       "      <td>163</td>\n",
       "    </tr>\n",
       "  </tbody>\n",
       "</table>\n",
       "</div>"
      ],
      "text/plain": [
       "  rental_day  rentals\n",
       "0 2005-05-28      196\n",
       "1 2005-05-25      137\n",
       "2 2005-05-29      154\n",
       "3 2005-08-16       23\n",
       "4 2005-05-31      163"
      ]
     },
     "execution_count": 22,
     "metadata": {},
     "output_type": "execute_result"
    }
   ],
   "source": [
    "\n",
    "query_result = execute_query(\n",
    "    \"\"\"\n",
    "SELECT \n",
    "  DATE_TRUNC('day', rental_date) AS rental_day,\n",
    "  -- Count total number of rentals \n",
    "  COUNT(*) AS rentals \n",
    "FROM rental\n",
    "GROUP BY 1;\n",
    "    \"\"\")\n",
    "query_result.head()"
   ]
  },
  {
   "cell_type": "markdown",
   "metadata": {},
   "source": [
    "# Putting it all together"
   ]
  },
  {
   "cell_type": "markdown",
   "metadata": {},
   "source": [
    "Many of the techniques you've learned in this course will be useful when building queries to extract data for model training. Now let's use some date/time functions to extract and manipulate some DVD rentals data from our fictional DVD rental store."
   ]
  },
  {
   "cell_type": "code",
   "execution_count": 23,
   "metadata": {},
   "outputs": [
    {
     "data": {
      "text/html": [
       "<div>\n",
       "<style scoped>\n",
       "    .dataframe tbody tr th:only-of-type {\n",
       "        vertical-align: middle;\n",
       "    }\n",
       "\n",
       "    .dataframe tbody tr th {\n",
       "        vertical-align: top;\n",
       "    }\n",
       "\n",
       "    .dataframe thead th {\n",
       "        text-align: right;\n",
       "    }\n",
       "</style>\n",
       "<table border=\"1\" class=\"dataframe\">\n",
       "  <thead>\n",
       "    <tr style=\"text-align: right;\">\n",
       "      <th></th>\n",
       "      <th>dayofweek</th>\n",
       "      <th>rental_days</th>\n",
       "    </tr>\n",
       "  </thead>\n",
       "  <tbody>\n",
       "    <tr>\n",
       "      <th>0</th>\n",
       "      <td>2.0</td>\n",
       "      <td>1 days 23:11:00</td>\n",
       "    </tr>\n",
       "    <tr>\n",
       "      <th>1</th>\n",
       "      <td>2.0</td>\n",
       "      <td>3 days 20:46:00</td>\n",
       "    </tr>\n",
       "    <tr>\n",
       "      <th>2</th>\n",
       "      <td>2.0</td>\n",
       "      <td>7 days 23:09:00</td>\n",
       "    </tr>\n",
       "    <tr>\n",
       "      <th>3</th>\n",
       "      <td>2.0</td>\n",
       "      <td>9 days 02:39:00</td>\n",
       "    </tr>\n",
       "    <tr>\n",
       "      <th>4</th>\n",
       "      <td>2.0</td>\n",
       "      <td>8 days 05:28:00</td>\n",
       "    </tr>\n",
       "  </tbody>\n",
       "</table>\n",
       "</div>"
      ],
      "text/plain": [
       "   dayofweek     rental_days\n",
       "0        2.0 1 days 23:11:00\n",
       "1        2.0 3 days 20:46:00\n",
       "2        2.0 7 days 23:09:00\n",
       "3        2.0 9 days 02:39:00\n",
       "4        2.0 8 days 05:28:00"
      ]
     },
     "execution_count": 23,
     "metadata": {},
     "output_type": "execute_result"
    }
   ],
   "source": [
    "\n",
    "query_result = execute_query(\n",
    "    \"\"\"\n",
    "SELECT \n",
    "  -- Extract the day of week date part from the rental_date\n",
    "  EXTRACT(dow FROM rental_date) AS dayofweek,\n",
    "  AGE(return_date, rental_date) AS rental_days\n",
    "FROM rental AS r \n",
    "WHERE \n",
    "  -- Use an INTERVAL for the upper bound of the rental_date \n",
    "  rental_date BETWEEN CAST('2005-05-01' AS timestamp)\n",
    "   AND CAST('2005-05-01' AS timestamp) + INTERVAL '90 day';\n",
    "    \"\"\")\n",
    "query_result.head()"
   ]
  },
  {
   "cell_type": "code",
   "execution_count": 24,
   "metadata": {},
   "outputs": [
    {
     "data": {
      "text/html": [
       "<div>\n",
       "<style scoped>\n",
       "    .dataframe tbody tr th:only-of-type {\n",
       "        vertical-align: middle;\n",
       "    }\n",
       "\n",
       "    .dataframe tbody tr th {\n",
       "        vertical-align: top;\n",
       "    }\n",
       "\n",
       "    .dataframe thead th {\n",
       "        text-align: right;\n",
       "    }\n",
       "</style>\n",
       "<table border=\"1\" class=\"dataframe\">\n",
       "  <thead>\n",
       "    <tr style=\"text-align: right;\">\n",
       "      <th></th>\n",
       "      <th>customer_name</th>\n",
       "      <th>title</th>\n",
       "      <th>rental_date</th>\n",
       "      <th>dayofweek</th>\n",
       "      <th>rental_days</th>\n",
       "      <th>past_due</th>\n",
       "    </tr>\n",
       "  </thead>\n",
       "  <tbody>\n",
       "    <tr>\n",
       "      <th>0</th>\n",
       "      <td>CHARLOTTE HUNTER</td>\n",
       "      <td>BLANKET BEVERLY</td>\n",
       "      <td>2005-05-24 22:53:30</td>\n",
       "      <td>2.0</td>\n",
       "      <td>1 days 23:11:00</td>\n",
       "      <td>False</td>\n",
       "    </tr>\n",
       "    <tr>\n",
       "      <th>1</th>\n",
       "      <td>TOMMY COLLAZO</td>\n",
       "      <td>FREAKY POCUS</td>\n",
       "      <td>2005-05-24 22:54:33</td>\n",
       "      <td>2.0</td>\n",
       "      <td>3 days 20:46:00</td>\n",
       "      <td>False</td>\n",
       "    </tr>\n",
       "    <tr>\n",
       "      <th>2</th>\n",
       "      <td>MANUEL MURRELL</td>\n",
       "      <td>GRADUATE LORD</td>\n",
       "      <td>2005-05-24 23:03:39</td>\n",
       "      <td>2.0</td>\n",
       "      <td>7 days 23:09:00</td>\n",
       "      <td>False</td>\n",
       "    </tr>\n",
       "    <tr>\n",
       "      <th>3</th>\n",
       "      <td>ANDREW PURDY</td>\n",
       "      <td>LOVE SUICIDES</td>\n",
       "      <td>2005-05-24 23:04:41</td>\n",
       "      <td>2.0</td>\n",
       "      <td>9 days 02:39:00</td>\n",
       "      <td>True</td>\n",
       "    </tr>\n",
       "    <tr>\n",
       "      <th>4</th>\n",
       "      <td>DELORES HANSEN</td>\n",
       "      <td>IDOLS SNATCHERS</td>\n",
       "      <td>2005-05-24 23:05:21</td>\n",
       "      <td>2.0</td>\n",
       "      <td>8 days 05:28:00</td>\n",
       "      <td>True</td>\n",
       "    </tr>\n",
       "  </tbody>\n",
       "</table>\n",
       "</div>"
      ],
      "text/plain": [
       "      customer_name            title         rental_date  dayofweek  \\\n",
       "0  CHARLOTTE HUNTER  BLANKET BEVERLY 2005-05-24 22:53:30        2.0   \n",
       "1     TOMMY COLLAZO     FREAKY POCUS 2005-05-24 22:54:33        2.0   \n",
       "2    MANUEL MURRELL    GRADUATE LORD 2005-05-24 23:03:39        2.0   \n",
       "3      ANDREW PURDY    LOVE SUICIDES 2005-05-24 23:04:41        2.0   \n",
       "4    DELORES HANSEN  IDOLS SNATCHERS 2005-05-24 23:05:21        2.0   \n",
       "\n",
       "      rental_days  past_due  \n",
       "0 1 days 23:11:00     False  \n",
       "1 3 days 20:46:00     False  \n",
       "2 7 days 23:09:00     False  \n",
       "3 9 days 02:39:00      True  \n",
       "4 8 days 05:28:00      True  "
      ]
     },
     "execution_count": 24,
     "metadata": {},
     "output_type": "execute_result"
    }
   ],
   "source": [
    "\n",
    "query_result = execute_query(\n",
    "    \"\"\"\n",
    "SELECT \n",
    "  c.first_name || ' ' || c.last_name AS customer_name,\n",
    "  f.title,\n",
    "  r.rental_date,\n",
    "  -- Extract the day of week date part from the rental_date\n",
    "  EXTRACT(dow FROM r.rental_date) AS dayofweek,\n",
    "  AGE(r.return_date, r.rental_date) AS rental_days,\n",
    "  -- Use DATE_TRUNC to get days from the AGE function\n",
    "  CASE WHEN DATE_TRUNC('day', AGE(r.return_date, r.rental_date)) > \n",
    "  -- Calculate number of d\n",
    "    f.rental_duration * INTERVAL '1' day \n",
    "  THEN TRUE \n",
    "  ELSE FALSE END AS past_due \n",
    "FROM \n",
    "  film AS f \n",
    "  INNER JOIN inventory AS i \n",
    "  \tON f.film_id = i.film_id \n",
    "  INNER JOIN rental AS r \n",
    "  \tON i.inventory_id = r.inventory_id \n",
    "  INNER JOIN customer AS c \n",
    "  \tON c.customer_id = r.customer_id \n",
    "WHERE \n",
    "  -- Use an INTERVAL for the upper bound of the rental_date \n",
    "  r.rental_date BETWEEN CAST('2005-05-01' AS DATE) \n",
    "  AND CAST('2005-05-01' AS DATE) + INTERVAL '90 day';\n",
    "    \"\"\")\n",
    "query_result.head()"
   ]
  }
 ],
 "metadata": {
  "kernelspec": {
   "display_name": "env_py",
   "language": "python",
   "name": "python3"
  },
  "language_info": {
   "codemirror_mode": {
    "name": "ipython",
    "version": 3
   },
   "file_extension": ".py",
   "mimetype": "text/x-python",
   "name": "python",
   "nbconvert_exporter": "python",
   "pygments_lexer": "ipython3",
   "version": "3.8.11"
  }
 },
 "nbformat": 4,
 "nbformat_minor": 2
}
