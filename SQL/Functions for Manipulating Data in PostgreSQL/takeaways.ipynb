{
 "cells": [
  {
   "cell_type": "markdown",
   "metadata": {},
   "source": [
    "# Chapter 1"
   ]
  },
  {
   "cell_type": "markdown",
   "metadata": {},
   "source": [
    "### Pandas postgresql"
   ]
  },
  {
   "cell_type": "markdown",
   "metadata": {},
   "source": [
    "```\n",
    "import pandas as pd\n",
    "import psycopg2\n",
    "\n",
    "def execute_query(sql_query, dbname='hr', user='postgres', password='postgres', port='5432'):\n",
    "    # Create a connection to the PostgreSQL database\n",
    "    conn = psycopg2.connect(dbname=dbname, user=user, password=password, port=port)\n",
    "\n",
    "    # Use read_sql to execute the query and load the results into a DataFrame\n",
    "    df = pd.read_sql(sql_query, conn)\n",
    "\n",
    "    # Close the database connection\n",
    "    conn.close()\n",
    "\n",
    "    # Return the DataFrame\n",
    "    return df\n",
    "\n",
    "query_result = execute_query('SELECT * FROM jobs')\n",
    "print(query_result)\n",
    "```"
   ]
  },
  {
   "cell_type": "markdown",
   "metadata": {},
   "source": [
    "### Column data type sql"
   ]
  },
  {
   "cell_type": "markdown",
   "metadata": {},
   "source": [
    "```\n",
    "SELECT COLUMN_NAME,\n",
    "       DATA_TYPE,\n",
    "       IS_NULLABLE,\n",
    "       CHARACTER_MAXIMUM_LENGTH,\n",
    "       NUMERIC_PRECISION,\n",
    "       NUMERIC_SCALE\n",
    "FROM INFORMATION_SCHEMA.COLUMNS -- INFORMATION_SCHEMA.TABLES for table information\n",
    "WHERE TABLE_NAME='your_table_name'\n",
    " \tAND TABLE_SCHEMA = 'yourSchemaName';\n",
    "```"
   ]
  },
  {
   "cell_type": "markdown",
   "metadata": {},
   "source": [
    "### Array in SQL"
   ]
  },
  {
   "cell_type": "markdown",
   "metadata": {},
   "source": [
    "```\n",
    "-- Creating table that has a column to hold arrays\n",
    "CREATE TABLE grades (\n",
    "student_id int,\n",
    "email text[][],\n",
    "test_scores int[]\n",
    ");\n",
    "\n",
    "-- Insering array values in the table\n",
    "INSERT INTO grades\n",
    "VALUES (1, \n",
    "'{{\"work\",\"work1@datacamp.com\"},{\"other\",\"other1@datacamp.com\"}}',\n",
    "'{92,85,96,88}' );\n",
    "\n",
    "-- Querying array\n",
    "SELECT email[2][1] as type, email[2][2] as address, test_scores[1]\n",
    "FROM grades\n",
    "-- NOTICE :  ANY (email) = 'other' is not the right syntax, it should be 'other' = ANY (email)\n",
    "WHERE 'other' = ANY (email); -- Alternative: WHERE email @> ARRAY['other'];\n",
    "```"
   ]
  },
  {
   "cell_type": "markdown",
   "metadata": {},
   "source": [
    "### SQL datetime"
   ]
  },
  {
   "cell_type": "markdown",
   "metadata": {},
   "source": [
    "```\n",
    "SELECT rental_date + INTERVAL '3 days' AS expected_return_date -- adding with timestamp\n",
    "FROM rental;\n",
    "\n",
    "```"
   ]
  },
  {
   "cell_type": "markdown",
   "metadata": {},
   "source": []
  }
 ],
 "metadata": {
  "language_info": {
   "name": "python"
  }
 },
 "nbformat": 4,
 "nbformat_minor": 2
}
