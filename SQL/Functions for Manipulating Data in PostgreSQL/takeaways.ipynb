{
 "cells": [
  {
   "cell_type": "markdown",
   "metadata": {},
   "source": [
    "# Chapter 1"
   ]
  },
  {
   "cell_type": "markdown",
   "metadata": {},
   "source": [
    "### Pandas postgresql"
   ]
  },
  {
   "cell_type": "markdown",
   "metadata": {},
   "source": [
    "```\n",
    "import pandas as pd\n",
    "import psycopg2\n",
    "\n",
    "def execute_query(sql_query, dbname='hr', user='postgres', password='postgres', port='5432'):\n",
    "    # Create a connection to the PostgreSQL database\n",
    "    conn = psycopg2.connect(dbname=dbname, user=user, password=password, port=port)\n",
    "\n",
    "    # Use read_sql to execute the query and load the results into a DataFrame\n",
    "    df = pd.read_sql(sql_query, conn)\n",
    "\n",
    "    # Close the database connection\n",
    "    conn.close()\n",
    "\n",
    "    # Return the DataFrame\n",
    "    return df\n",
    "\n",
    "query_result = execute_query('SELECT * FROM jobs')\n",
    "print(query_result)\n",
    "```"
   ]
  },
  {
   "cell_type": "markdown",
   "metadata": {},
   "source": [
    "### Column data type sql"
   ]
  },
  {
   "cell_type": "markdown",
   "metadata": {},
   "source": [
    "```\n",
    "SELECT COLUMN_NAME,\n",
    "       DATA_TYPE,\n",
    "       IS_NULLABLE,\n",
    "       CHARACTER_MAXIMUM_LENGTH,\n",
    "       NUMERIC_PRECISION,\n",
    "       NUMERIC_SCALE\n",
    "FROM INFORMATION_SCHEMA.COLUMNS -- INFORMATION_SCHEMA.TABLES for table information\n",
    "WHERE TABLE_NAME='your_table_name'\n",
    " \tAND TABLE_SCHEMA = 'yourSchemaName';\n",
    "```"
   ]
  },
  {
   "cell_type": "markdown",
   "metadata": {},
   "source": [
    "### Array in SQL"
   ]
  },
  {
   "cell_type": "markdown",
   "metadata": {},
   "source": [
    "```\n",
    "-- Creating table that has a column to hold arrays\n",
    "CREATE TABLE grades (\n",
    "student_id int,\n",
    "email text[][],\n",
    "test_scores int[]\n",
    ");\n",
    "\n",
    "-- Insering array values in the table\n",
    "INSERT INTO grades\n",
    "VALUES (1, \n",
    "'{{\"work\",\"work1@datacamp.com\"},{\"other\",\"other1@datacamp.com\"}}',\n",
    "'{92,85,96,88}' );\n",
    "\n",
    "-- Querying array\n",
    "SELECT email[2][1] as type, email[2][2] as address, test_scores[1]\n",
    "FROM grades\n",
    "-- NOTICE :  ANY (email) = 'other' is not the right syntax, it should be 'other' = ANY (email)\n",
    "WHERE 'other' = ANY (email); -- Alternative: WHERE email @> ARRAY['other'];\n",
    "```"
   ]
  },
  {
   "cell_type": "markdown",
   "metadata": {},
   "source": [
    "# Chapter 2"
   ]
  },
  {
   "cell_type": "markdown",
   "metadata": {},
   "source": [
    "### SQL datetime"
   ]
  },
  {
   "cell_type": "markdown",
   "metadata": {},
   "source": [
    "```\n",
    "\n",
    "\n",
    "-- DATE operations (Advised : Use TIMESTAMP FORMAT instead of DATE FORMAT to acquire preciseness)\n",
    "SELECT date '2005-09-11' - date '2005-09-10'; -- Result will be an integer as no of days (1)\n",
    "SELECT date '2005-09-11' + integer '3'; -- Result will be a date (2005-09-14)\n",
    "\n",
    "-- TIMESTAMP operations\n",
    "SELECT date '2005-09-11 00:00:00' - date '2005-09-09 12:00:00'; -- Result will be an interval (1 day 12:00:00)\n",
    "SELECT AGE(timestamp '2005-09-11 00:00:00', timestamp '2005-09-09 12:00:00'); -- Result will be an interval (1 day 12:00:00)\n",
    "SELECT timestamp '2019-05-01' + 21 * INTERVAL '1 day';  -- Result will be a new timestamp (2019-05-22 00:00:00)\n",
    "SELECT rental_date + INTERVAL '3 days' AS expected_return_date -- adding timestamp with interval = new timestamp\n",
    "FROM rental;\n",
    "\n",
    "-- Current Timestamp\n",
    "SELECT NOW()::timestamp;    -- casting will cut the timezone information\n",
    "SELECT CAST(NOW() as timestamp);\n",
    "SELECT CURRENT_TIMESTAMP(2); -- control precision\n",
    "SELECT CURRENT_DATE; -- current date\n",
    "SELECT CURRENT_TIME; -- current time with timezone information\n",
    "\n",
    "-- Extract date and time information\n",
    "\n",
    "SELECT EXTRACT (month FROM timestamp '2005-01-24 05:12:00') AS month; -- Result will be month (1)\n",
    "SELECT DATE_PART('month', timestamp '2005-01-24 05:12:00') AS month; -- Result will be month (1)\n",
    "SELECT DATE_TRUNC('year', TIMESTAMP '2005-05-21 15:30:30'); -- Result will truncate to specified precision (2005-01-01 00:00:00)\n",
    "```"
   ]
  },
  {
   "cell_type": "markdown",
   "metadata": {},
   "source": [
    "# Chapter 3"
   ]
  },
  {
   "cell_type": "markdown",
   "metadata": {},
   "source": [
    "### String Operations"
   ]
  },
  {
   "cell_type": "markdown",
   "metadata": {},
   "source": [
    "```\n",
    "SELECT CONCAT(col_A,' ', col_B) AS concat_col FROM table_name; -- Concat 2 columns\n",
    "SELECT col_A || ' ' || col_B AS concat_col FROM table_name; -- Concat 2 columns\n",
    "\n",
    "SELECT UPPER(col) FROM table_name; -- Turning a column into all uppercase\n",
    "SELECT LOWER(col) FROM table_name; -- Turning a column into all lowercase\n",
    "SELECT LEFT(col, length) FROM table_name; -- Take n no of characters from the left side of the column\n",
    "SELECT RIGHT(col, length) FROM table_name; -- Take n no of characters from the right side of the column\n",
    "-- Extracting Substring\n",
    "SELECT SUBSTRING(col, starting_index, length) FROM table_name; -- starting_index, length are integer values\n",
    "SELECT SUBSTRING(col FROM starting_index FOR POSITION('@' IN col)) FROM table_name; -- starting_index, length are integer values\n",
    "SELECT SUBSTR(col, starting_index, length) FROM table_name; -- starting_index, length are integer values\n",
    "SELECT REVERSE(col) FROM table_name; -- Reverse a string\n",
    "SELECT CHAR_LENGTH(col) FROM table_name;  -- length of a string column\n",
    "SELECT LENGTH(col) FROM table_name; -- length of a string column\n",
    "SELECT POSITION('@' IN col) FROM table_name; -- position of a character in the string\n",
    "SELECT STRPOS(email, '@') FROM table_name; -- position of a character in the string\n",
    "SELECT REPLACE(col, 'old string', 'new string') FROM table_name; -- replacing characters\n",
    "SELECT LPAD('padded', total_string_size, '#'); -- appending character from the left (####padded)\n",
    "SELECT RPAD('padded', total_string_size, '#'); -- appending character from the right (padded####)\n",
    "-- TRIM([leading | trailing | both] [characters] from string)\n",
    "SELECT TRIM(BOTH 'x' FROM 'xxxxHelloxxxx') -- Hello\n",
    "SELECT TRIM(TRAILING 'x' FROM 'xHelloxxxx') -- xHello\n",
    "SELECT TRIM(LEADING 'x' FROM 'xxxxHellox') -- Hellox\n",
    "```"
   ]
  },
  {
   "cell_type": "markdown",
   "metadata": {},
   "source": []
  }
 ],
 "metadata": {
  "language_info": {
   "name": "python"
  }
 },
 "nbformat": 4,
 "nbformat_minor": 2
}
