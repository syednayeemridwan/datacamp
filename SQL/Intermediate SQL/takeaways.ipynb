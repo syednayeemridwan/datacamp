{
 "cells": [
  {
   "cell_type": "markdown",
   "metadata": {},
   "source": [
    "# Chapter 1"
   ]
  },
  {
   "cell_type": "markdown",
   "metadata": {},
   "source": [
    "### `COUNT` : Row count of non-null entries"
   ]
  },
  {
   "cell_type": "markdown",
   "metadata": {},
   "source": [
    "```\n",
    "SELECT COUNT(column_name), COUNT(*)\n",
    "FROM table_name;\n",
    "```"
   ]
  },
  {
   "cell_type": "markdown",
   "metadata": {},
   "source": [
    "### `DISTINCT` : Show Unique records"
   ]
  },
  {
   "cell_type": "markdown",
   "metadata": {},
   "source": [
    "```\n",
    "SELECT DISTINCT col1, col2 \n",
    "FROM table_name;\n",
    "```"
   ]
  },
  {
   "cell_type": "markdown",
   "metadata": {},
   "source": [
    "### Order of execution in SQL "
   ]
  },
  {
   "cell_type": "markdown",
   "metadata": {},
   "source": [
    "1. `FROM`\n",
    "2. `WHERE`\n",
    "3. `GROUP BY`\n",
    "4. `HAVING`\n",
    "5. `SELECT`\n",
    "6. `ORDER BY`"
   ]
  },
  {
   "cell_type": "markdown",
   "metadata": {},
   "source": [
    "### Using SQL with pandas"
   ]
  },
  {
   "cell_type": "markdown",
   "metadata": {},
   "source": [
    "```\n",
    "from pandasql import sqldf\n",
    "import pandas as pd\n",
    "\n",
    "# Create helper function for easier query execution\n",
    "execute = lambda q: sqldf(q, globals())\n",
    "\n",
    "# Load your CSV files into DataFrames\n",
    "df1 = pd.read_csv(\"file1.csv\")\n",
    "df2 = pd.read_csv(\"file2.csv\")\n",
    "\n",
    "# Execute query with a join and store the result\n",
    "query = \"\"\"\n",
    "    SELECT *\n",
    "    FROM df1\n",
    "    JOIN df2 ON df1.common_column = df2.common_column\n",
    "\"\"\"\n",
    "result_df = execute(query)\n",
    "\n",
    "# Show results\n",
    "result_df.head()\n",
    "\n",
    "```"
   ]
  },
  {
   "cell_type": "markdown",
   "metadata": {},
   "source": [
    "### Connecting Postgres with Python"
   ]
  },
  {
   "cell_type": "markdown",
   "metadata": {},
   "source": [
    "```\n",
    "import pandas as pd\n",
    "import psycopg2\n",
    "\n",
    "def execute_query(sql_query, dbname='hr', user='postgres', password='postgres', port='5432'):\n",
    "    # Create a connection to the PostgreSQL database\n",
    "    conn = psycopg2.connect(dbname=dbname, user=user, password=password, port=port)\n",
    "\n",
    "    # Use read_sql to execute the query and load the results into a DataFrame\n",
    "    df = pd.read_sql(sql_query, conn)\n",
    "\n",
    "    # Close the database connection\n",
    "    conn.close()\n",
    "\n",
    "    # Return the DataFrame\n",
    "    return df\n",
    "\n",
    "query_result = execute_query('SELECT * FROM jobs')\n",
    "print(query_result)\n",
    "\n",
    "```"
   ]
  },
  {
   "cell_type": "markdown",
   "metadata": {},
   "source": [
    "# Chapter 2"
   ]
  },
  {
   "cell_type": "markdown",
   "metadata": {},
   "source": [
    "### `WHERE` : Filtering"
   ]
  },
  {
   "cell_type": "markdown",
   "metadata": {},
   "source": [
    "```\n",
    "SELECT col\n",
    "FROM table_name\n",
    "WHERE col = 'example_value';\n",
    "```"
   ]
  },
  {
   "cell_type": "markdown",
   "metadata": {},
   "source": [
    "### `OR` : Filtering for data that satisfy any condition"
   ]
  },
  {
   "cell_type": "markdown",
   "metadata": {},
   "source": [
    "```\n",
    "SELECT * \n",
    "FROM table_name \n",
    "WHERE col1='A' OR col2>=100; \n",
    "```"
   ]
  },
  {
   "cell_type": "markdown",
   "metadata": {},
   "source": [
    "### `AND` : Filtering for data that satisfy all conditions\n"
   ]
  },
  {
   "cell_type": "markdown",
   "metadata": {},
   "source": [
    "```\n",
    "SELECT * \n",
    "FROM table_name \n",
    "WHERE col1='A' AND col2>=100; \n",
    "```"
   ]
  },
  {
   "cell_type": "markdown",
   "metadata": {},
   "source": [
    "### `BETWEEN` : Inclusive AND within range for a single column"
   ]
  },
  {
   "cell_type": "markdown",
   "metadata": {},
   "source": [
    "```\n",
    "SELECT *\n",
    "FROM table_name\n",
    "WHERE col_name BETWEEN value1 AND value2;\n",
    "```"
   ]
  },
  {
   "cell_type": "markdown",
   "metadata": {},
   "source": [
    "### `LIKE` , `ILIKE`, `NOT LIKE`, `NOT ILIKE` : Pattern Matching"
   ]
  },
  {
   "cell_type": "markdown",
   "metadata": {},
   "source": [
    "```\n",
    "SELECT *\n",
    "FROM table_name\n",
    "WHERE col1 LIKE '__t%' AND col2 NOT ILIKE 'a%t_ ;\n",
    "```"
   ]
  },
  {
   "cell_type": "markdown",
   "metadata": {},
   "source": [
    "### `IN` : Selecting from List, alternative of multiple `OR` of a single column"
   ]
  },
  {
   "cell_type": "markdown",
   "metadata": {},
   "source": [
    "```\n",
    "SELECT col\n",
    "FROM table_name\n",
    "WHERE col IN (1920, 1930, 1940);\n",
    "```"
   ]
  },
  {
   "cell_type": "markdown",
   "metadata": {},
   "source": [
    "### `IS NULL`, `IS NOT NULL` : Filtering condition for missing values"
   ]
  },
  {
   "cell_type": "markdown",
   "metadata": {},
   "source": [
    "``\n",
    "SELECT *\n",
    "FROM table_name\n",
    "WHERE col1 IS NULL OR col1 IS NOT NULL;\n",
    "``"
   ]
  },
  {
   "cell_type": "markdown",
   "metadata": {},
   "source": [
    "# Chapter 3"
   ]
  },
  {
   "cell_type": "markdown",
   "metadata": {},
   "source": [
    "### `AVG()` , `SUM()` , `MIN()` , `MAX()` , `COUNT()` : Numeric aggregation for summarization"
   ]
  },
  {
   "cell_type": "markdown",
   "metadata": {},
   "source": [
    "```\n",
    "SELECT SUM(col) AS sum_col, \n",
    "    AVG(col) AS avg_col,\n",
    "    MIN(col) AS min_col, \n",
    "    MAX(col) AS max_col, \n",
    "    COUNT(col) AS count_col\n",
    "FROM table_name;  \n",
    "```"
   ]
  },
  {
   "cell_type": "markdown",
   "metadata": {},
   "source": [
    "### Arithmetic in SQL : Mahtematical operations among columns"
   ]
  },
  {
   "cell_type": "markdown",
   "metadata": {},
   "source": [
    "```\n",
    "SELECT (gross - budget) AS profit\n",
    "FROM business;\n",
    "```"
   ]
  },
  {
   "cell_type": "markdown",
   "metadata": {},
   "source": [
    "### `ROUND`, `CEIL` (or CEILING), `FLOOR` : Numeric Rounding Operations"
   ]
  },
  {
   "cell_type": "markdown",
   "metadata": {},
   "source": [
    "```\n",
    "SELECT ROUND(column_name, 2) AS two_decimal_place,\n",
    "    CEIL(column_name) AS nearest_upper_int\n",
    "    FLOOR(column_name) AS nearest_lower_int,\n",
    "FROM table_name;\n",
    "```"
   ]
  },
  {
   "cell_type": "markdown",
   "metadata": {},
   "source": []
  }
 ],
 "metadata": {
  "language_info": {
   "name": "python"
  }
 },
 "nbformat": 4,
 "nbformat_minor": 2
}
