{
 "cells": [
  {
   "cell_type": "markdown",
   "metadata": {},
   "source": [
    "# Chapter 1"
   ]
  },
  {
   "cell_type": "markdown",
   "metadata": {},
   "source": [
    "### `COUNT` : Row count of non-null entries"
   ]
  },
  {
   "cell_type": "markdown",
   "metadata": {},
   "source": [
    "```\n",
    "SELECT COUNT(column_name), COUNT(*)\n",
    "FROM table_name;\n",
    "```"
   ]
  },
  {
   "cell_type": "markdown",
   "metadata": {},
   "source": [
    "### `DISTINCT` : Show Unique records"
   ]
  },
  {
   "cell_type": "markdown",
   "metadata": {},
   "source": [
    "```\n",
    "SELECT DISTINCT col1, col2 \n",
    "FROM table_name;\n",
    "```"
   ]
  },
  {
   "cell_type": "markdown",
   "metadata": {},
   "source": [
    "### Order of execution in SQL "
   ]
  },
  {
   "cell_type": "markdown",
   "metadata": {},
   "source": [
    "1. `FROM`\n",
    "2. `WHERE`\n",
    "3. `GROUP BY`\n",
    "4. `HAVING`\n",
    "5. `SELECT`\n",
    "6. `ORDER BY`"
   ]
  },
  {
   "cell_type": "markdown",
   "metadata": {},
   "source": [
    "### Using SQL with pandas"
   ]
  },
  {
   "cell_type": "markdown",
   "metadata": {},
   "source": [
    "```\n",
    "from pandasql import sqldf\n",
    "import pandas as pd\n",
    "\n",
    "# Create helper function for easier query execution\n",
    "execute = lambda q: sqldf(q, globals())\n",
    "\n",
    "# Load your CSV files into DataFrames\n",
    "df1 = pd.read_csv(\"file1.csv\")\n",
    "df2 = pd.read_csv(\"file2.csv\")\n",
    "\n",
    "# Execute query with a join and store the result\n",
    "query = \"\"\"\n",
    "    SELECT *\n",
    "    FROM df1\n",
    "    JOIN df2 ON df1.common_column = df2.common_column\n",
    "\"\"\"\n",
    "result_df = execute(query)\n",
    "\n",
    "# Show results\n",
    "result_df.head()\n",
    "\n",
    "```"
   ]
  },
  {
   "cell_type": "markdown",
   "metadata": {},
   "source": [
    "### Connecting Postgres with Python"
   ]
  },
  {
   "cell_type": "markdown",
   "metadata": {},
   "source": [
    "```\n",
    "import pandas as pd\n",
    "import psycopg2\n",
    "\n",
    "def execute_query(sql_query, dbname='hr', user='postgres', password='postgres', port='5432'):\n",
    "    # Create a connection to the PostgreSQL database\n",
    "    conn = psycopg2.connect(dbname=dbname, user=user, password=password, port=port)\n",
    "\n",
    "    # Use read_sql to execute the query and load the results into a DataFrame\n",
    "    df = pd.read_sql(sql_query, conn)\n",
    "\n",
    "    # Close the database connection\n",
    "    conn.close()\n",
    "\n",
    "    # Return the DataFrame\n",
    "    return df\n",
    "\n",
    "query_result = execute_query('SELECT * FROM jobs')\n",
    "print(query_result)\n",
    "\n",
    "```"
   ]
  },
  {
   "cell_type": "markdown",
   "metadata": {},
   "source": []
  }
 ],
 "metadata": {
  "language_info": {
   "name": "python"
  }
 },
 "nbformat": 4,
 "nbformat_minor": 2
}
