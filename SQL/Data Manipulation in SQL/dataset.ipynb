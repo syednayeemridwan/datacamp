{
 "cells": [
  {
   "cell_type": "markdown",
   "metadata": {},
   "source": [
    "### Dataset Downloaded From Kaggle: See the link below"
   ]
  },
  {
   "cell_type": "markdown",
   "metadata": {},
   "source": [
    "https://www.kaggle.com/datasets/hugomathien/soccer"
   ]
  },
  {
   "cell_type": "code",
   "execution_count": 2,
   "metadata": {},
   "outputs": [],
   "source": [
    "import os\n",
    "import shutil\n",
    "\n",
    "# Replace 'path_to_kaggle_key' with the path where you saved kaggle.json\n",
    "kaggle_key_path = '.'\n",
    "kaggle_dir = os.path.join(os.path.expanduser('~'), '.kaggle')\n",
    "\n",
    "# Create the .kaggle directory if it doesn't exist\n",
    "if not os.path.exists(kaggle_dir):\n",
    "    os.makedirs(kaggle_dir)\n",
    "\n",
    "# Move the Kaggle API key to the correct directory\n",
    "shutil.move(os.path.join(kaggle_key_path, 'kaggle.json'), kaggle_dir)\n",
    "\n",
    "# Set appropriate permissions (optional)\n",
    "os.chmod(os.path.join(kaggle_dir, 'kaggle.json'), 0o600)\n"
   ]
  },
  {
   "cell_type": "code",
   "execution_count": 3,
   "metadata": {},
   "outputs": [],
   "source": [
    "import kaggle\n",
    "\n",
    "# Replace 'username/dataset-name' with the actual dataset name from Kaggle\n",
    "kaggle.api.dataset_download_files('hugomathien/soccer', path='dataset/', unzip=True)\n"
   ]
  }
 ],
 "metadata": {
  "kernelspec": {
   "display_name": "env_py",
   "language": "python",
   "name": "python3"
  },
  "language_info": {
   "codemirror_mode": {
    "name": "ipython",
    "version": 3
   },
   "file_extension": ".py",
   "mimetype": "text/x-python",
   "name": "python",
   "nbconvert_exporter": "python",
   "pygments_lexer": "ipython3",
   "version": "3.8.11"
  }
 },
 "nbformat": 4,
 "nbformat_minor": 2
}
