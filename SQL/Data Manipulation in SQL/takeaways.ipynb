{
 "cells": [
  {
   "cell_type": "markdown",
   "metadata": {},
   "source": [
    "# Chapter 1"
   ]
  },
  {
   "cell_type": "markdown",
   "metadata": {},
   "source": [
    "### Pandas SQL"
   ]
  },
  {
   "cell_type": "markdown",
   "metadata": {},
   "source": [
    "```\n",
    "from pandasql import sqldf\n",
    "import pandas as pd\n",
    "\n",
    "# Create helper function for easier query execution\n",
    "execute = lambda q: sqldf(q, globals())\n",
    "\n",
    "# Load your CSV files into DataFrames\n",
    "df1 = pd.read_csv(\"file1.csv\")\n",
    "df2 = pd.read_csv(\"file2.csv\")\n",
    "\n",
    "# Execute query with a join and store the result\n",
    "query = \"\"\"\n",
    "    SELECT *\n",
    "    FROM df1\n",
    "    JOIN df2 ON df1.common_column = df2.common_column\n",
    "\"\"\"\n",
    "result_df = execute(query)\n",
    "\n",
    "# Show results\n",
    "result_df.head()\n",
    "```"
   ]
  },
  {
   "cell_type": "markdown",
   "metadata": {},
   "source": [
    "### Pandas sqlite"
   ]
  },
  {
   "cell_type": "markdown",
   "metadata": {},
   "source": [
    "```\n",
    "import sqlite3\n",
    "import pandas as pd\n",
    "\n",
    "def get_table_names(database_path='dataset/database.sqlite'):\n",
    "    connection = sqlite3.connect(database_path)\n",
    "    query = \"SELECT name FROM sqlite_master WHERE type='table';\"\n",
    "    result = connection.execute(query).fetchall()\n",
    "    table_names = [row[0] for row in result]\n",
    "    connection.close()\n",
    "    return table_names\n",
    "\n",
    "# Get and print all table names in the database\n",
    "tables = get_table_names()\n",
    "print(\"Tables in the database:\", tables)\n",
    "\n",
    "```"
   ]
  },
  {
   "cell_type": "markdown",
   "metadata": {},
   "source": [
    "### CASE"
   ]
  },
  {
   "cell_type": "markdown",
   "metadata": {},
   "source": [
    "```\n",
    "SELECT\n",
    "season,\n",
    "ROUND(AVG(\n",
    "    CASE         -- Start CASE\n",
    "        WHEN hometeam_id = 8455 AND home_goal > away_goal THEN 1\n",
    "        WHEN hometeam_id = 8455 AND home_goal < away_goal THEN 0\n",
    "        ELSE NULL\n",
    "    END          -- End CASE\n",
    "        ), 2) AS pct_homewins,\n",
    "FROM table_name\n",
    "WHERE hometeam_id = 8455 OR awayteam_id = 8455  -- ADVISED : make sure to filter, else the new column will contain many NULLS with all data\n",
    "GROUP BY season;\n",
    "```"
   ]
  }
 ],
 "metadata": {
  "language_info": {
   "name": "python"
  }
 },
 "nbformat": 4,
 "nbformat_minor": 2
}
