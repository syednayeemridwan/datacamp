{
 "cells": [
  {
   "cell_type": "markdown",
   "metadata": {},
   "source": [
    "# Chapter 1"
   ]
  },
  {
   "cell_type": "markdown",
   "metadata": {},
   "source": [
    "### Pandas SQL"
   ]
  },
  {
   "cell_type": "markdown",
   "metadata": {},
   "source": [
    "```\n",
    "from pandasql import sqldf\n",
    "import pandas as pd\n",
    "\n",
    "# Create helper function for easier query execution\n",
    "execute = lambda q: sqldf(q, globals())\n",
    "\n",
    "# Load your CSV files into DataFrames\n",
    "df1 = pd.read_csv(\"file1.csv\")\n",
    "df2 = pd.read_csv(\"file2.csv\")\n",
    "\n",
    "# Execute query with a join and store the result\n",
    "query = \"\"\"\n",
    "    SELECT *\n",
    "    FROM df1\n",
    "    JOIN df2 ON df1.common_column = df2.common_column\n",
    "\"\"\"\n",
    "result_df = execute(query)\n",
    "\n",
    "# Show results\n",
    "result_df.head()\n",
    "```"
   ]
  },
  {
   "cell_type": "markdown",
   "metadata": {},
   "source": [
    "### Pandas sqlite"
   ]
  },
  {
   "cell_type": "markdown",
   "metadata": {},
   "source": [
    "```\n",
    "import sqlite3\n",
    "import pandas as pd\n",
    "\n",
    "def execute(query, database_path='dataset/database.sqlite'):\n",
    "    connection = sqlite3.connect(database_path)\n",
    "    result = connection.execute(query).fetchall()\n",
    "    column_names = [description[0] for description in connection.execute(query).description]\n",
    "    df = pd.DataFrame(result, columns=column_names)\n",
    "    connection.close()\n",
    "    return df\n",
    "def get_table_names(database_path='dataset/database.sqlite'):\n",
    "    connection = sqlite3.connect(database_path)\n",
    "    query = \"SELECT name FROM sqlite_master WHERE type='table';\"\n",
    "    result = connection.execute(query).fetchall()\n",
    "    table_names = [row[0] for row in result]\n",
    "    connection.close()\n",
    "    return table_names\n",
    "\n",
    "# Get and print all table names in the database\n",
    "tables = get_table_names()\n",
    "print(\"Tables in the database:\", tables)\n",
    "from pandasql import sqldf\n",
    "\n",
    "# Create helper function for easier query execution\n",
    "execute_df = lambda q: sqldf(q, globals())\n",
    "\n",
    "```"
   ]
  },
  {
   "cell_type": "markdown",
   "metadata": {},
   "source": [
    "### CASE"
   ]
  },
  {
   "cell_type": "markdown",
   "metadata": {},
   "source": [
    "```\n",
    "SELECT\n",
    "season,\n",
    "ROUND(AVG(\n",
    "    CASE         -- Start CASE\n",
    "        WHEN hometeam_id = 8455 AND home_goal > away_goal THEN 1\n",
    "        WHEN hometeam_id = 8455 AND home_goal < away_goal THEN 0\n",
    "        ELSE NULL\n",
    "    END          -- End CASE\n",
    "        ), 2) AS pct_homewins,\n",
    "FROM table_name\n",
    "WHERE hometeam_id = 8455 OR awayteam_id = 8455  -- ADVISED : make sure to filter, else the new column will contain many NULLS with all data\n",
    "GROUP BY season;\n",
    "```"
   ]
  },
  {
   "cell_type": "markdown",
   "metadata": {},
   "source": [
    "# Chapter 2"
   ]
  },
  {
   "cell_type": "markdown",
   "metadata": {},
   "source": [
    "### Sub-query"
   ]
  },
  {
   "cell_type": "markdown",
   "metadata": {},
   "source": [
    "```\n",
    "-- Simple query with two tables\n",
    "SELECT left_table.colx, right_table.coly\n",
    "FROM left_table, right_table\n",
    "WHERE left_table.common_col = right_table.common_col\n",
    "\n",
    "-- Subquery inside FROM (turning a query into virtual table using alias, evolving from the previous query)\n",
    "SELECT left_table.colx, right_table.coly\n",
    "FROM left_table,\n",
    "    (SELECT coly, colz, common_col          -- subquery start\n",
    "    FROM another_table) AS right_table      -- subquery end\n",
    "WHERE left_table.common_col = right_table.common_col\n",
    "ORDER BY continent;\n",
    "\n",
    "\n",
    "-- Subquery inside WHERE (You use it in Semi join / Anti Join)\n",
    "SELECT left_table.*\n",
    "FROM left_table\n",
    "WHERE left_table.some_col <NOT> IN  -- Using \"NOT\" will result in Anti join\n",
    "        (                           -- subquery start\n",
    "            SELECT another_col      \n",
    "            FROM right_table\n",
    "        );                          -- subquery end\n",
    "\n",
    "-- Subquery inside SELECT (REMEMBER: This query should only produce a single value)\n",
    "SELECT\n",
    "    outer_table.id,\n",
    "    (SELECT COUNT(*) FROM inner_table WHERE outer_table.id = inner_table.id) AS new_col_1,              -- subquery 1\n",
    "    (SELECT AVG(some_column) FROM inner_table WHERE outer_table.id = inner_table.id) AS new_col_2,      -- subquery 2\n",
    "    (SELECT MAX(another_column) FROM inner_table WHERE outer_table.id = inner_table.id) AS new_col_3    -- subquery 3\n",
    "FROM\n",
    "    outer_table;\n",
    "\n",
    "-- Using the WITH keyword (creating multiple virtual tables)\n",
    "WITH\n",
    "result_table1 AS (\n",
    "    SELECT col1, col2 FROM t1),             -- subquery 1\n",
    "result_table2 AS (\n",
    "    SELECT colx, coly FROM t2)              -- subquery 2\n",
    "SELECT * FROM result_table1, result_table2\n",
    "WHERE result_table1.col1 <= result_table2.col2\n",
    "```"
   ]
  },
  {
   "cell_type": "markdown",
   "metadata": {},
   "source": [
    "# Chapter 3"
   ]
  },
  {
   "cell_type": "markdown",
   "metadata": {},
   "source": [
    "### Correlated Query"
   ]
  },
  {
   "cell_type": "markdown",
   "metadata": {},
   "source": [
    "```\n",
    "-- DISCOURAGED : inner table is evaluated in loops, once for each row of the outer_table\n",
    "\n",
    "-- Example 1\n",
    "SELECT id, name, salary \n",
    "FROM outer_table\n",
    "WHERE\n",
    "  salary > ( SELECT AVG(salary) \n",
    "  FROM inner_table\n",
    "  WHERE inner_table.department_id = outer_table.department_id );\n",
    "\n",
    "-- Example 2\n",
    "SELECT\n",
    "  outer_table.id,\n",
    "  outer_table.name,\n",
    "  outer_table.department,\n",
    "  (SELECT inner_table.salary FROM inner_table WHERE inner_table.employee_id = outer_table.id) AS employee_salary\n",
    "FROM\n",
    "  outer_table;\n",
    "```"
   ]
  },
  {
   "cell_type": "markdown",
   "metadata": {},
   "source": []
  }
 ],
 "metadata": {
  "language_info": {
   "name": "python"
  }
 },
 "nbformat": 4,
 "nbformat_minor": 2
}
